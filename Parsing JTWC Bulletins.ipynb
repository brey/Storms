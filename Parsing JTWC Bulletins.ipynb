{
 "cells": [
  {
   "cell_type": "markdown",
   "metadata": {
    "collapsed": true,
    "deletable": true,
    "editable": true
   },
   "source": [
    "# JTWC bulletin parser into inpData"
   ]
  },
  {
   "cell_type": "code",
   "execution_count": null,
   "metadata": {
    "collapsed": true,
    "deletable": true,
    "editable": true
   },
   "outputs": [],
   "source": []
  },
  {
   "cell_type": "code",
   "execution_count": 1,
   "metadata": {
    "collapsed": false,
    "deletable": true,
    "editable": true
   },
   "outputs": [],
   "source": [
    "import feedparser"
   ]
  },
  {
   "cell_type": "code",
   "execution_count": 2,
   "metadata": {
    "collapsed": false,
    "deletable": true,
    "editable": true
   },
   "outputs": [],
   "source": [
    "import numpy as np\n",
    "import pandas as pd"
   ]
  },
  {
   "cell_type": "code",
   "execution_count": 3,
   "metadata": {
    "collapsed": true,
    "deletable": true,
    "editable": true
   },
   "outputs": [],
   "source": [
    "import urllib"
   ]
  },
  {
   "cell_type": "code",
   "execution_count": 4,
   "metadata": {
    "collapsed": true,
    "deletable": true,
    "editable": true
   },
   "outputs": [],
   "source": [
    "import re"
   ]
  },
  {
   "cell_type": "code",
   "execution_count": 5,
   "metadata": {
    "collapsed": false,
    "deletable": true,
    "editable": true
   },
   "outputs": [],
   "source": [
    "import matplotlib.pyplot as plt\n",
    "import mplleaflet"
   ]
  },
  {
   "cell_type": "code",
   "execution_count": 6,
   "metadata": {
    "collapsed": true,
    "deletable": true,
    "editable": true
   },
   "outputs": [],
   "source": [
    "%matplotlib inline"
   ]
  },
  {
   "cell_type": "code",
   "execution_count": 7,
   "metadata": {
    "collapsed": false,
    "deletable": true,
    "editable": true
   },
   "outputs": [],
   "source": [
    "from readxml import readxml"
   ]
  },
  {
   "cell_type": "code",
   "execution_count": 8,
   "metadata": {
    "collapsed": false,
    "deletable": true,
    "editable": true
   },
   "outputs": [],
   "source": [
    "nm2m=1852. # 1 nautical mile to meters\n",
    "kt2ms=nm2m/3600.  # knots to m/s"
   ]
  },
  {
   "cell_type": "markdown",
   "metadata": {
    "collapsed": true,
    "deletable": true,
    "editable": true
   },
   "source": [
    "### retrieve from website "
   ]
  },
  {
   "cell_type": "code",
   "execution_count": 9,
   "metadata": {
    "collapsed": true,
    "deletable": true,
    "editable": true
   },
   "outputs": [],
   "source": [
    "url = 'https://metoc.ndbc.noaa.gov/RSSFeeds-portlet/img/jtwc/jtwc.rss'"
   ]
  },
  {
   "cell_type": "code",
   "execution_count": 10,
   "metadata": {
    "collapsed": false,
    "deletable": true,
    "editable": true
   },
   "outputs": [
    {
     "name": "stdout",
     "output_type": "stream",
     "text": [
      "JTWC TROPICAL CYCLONE INFORMATION FEED\n",
      "https://metoc.ndbc.noaa.gov/web/guest/jtwc\n",
      "JTWC Tropical Cyclone Information\n",
      "Fri, 28 Apr 2017 15:46:08 +0000\n",
      "Fri, 28 Apr 2017 15:46:08 +0000\n",
      "ContentFeeder 2.0\n",
      "https://metoc.ndbc.noaa.gov/web/guest/jtwc\n",
      "JTWC TROPICAL CYCLONE INFORMATION FEED\n",
      "https://metoc.ndbc.noaa.gov/web/guest/jtwc\n",
      "Current Northwest Pacific/North Indian Ocean* Tropical Systems\n",
      "https://metoc.ndbc.noaa.gov/web/guest/jtwc\n",
      "Tropical Depression\n",
      "03W (Muifa) Warning #13\n",
      "Final Warning\n",
      "Issued at 27/2100Z\n",
      "TC Warning Text\n",
      "TC Warning Graphic\n",
      "JMV 3.0 Data\n",
      "Google Earth Overlay\n",
      "IR Satellite Imagery\n",
      "Satellite Fix Bulletin\n",
      "* Includes Bay of Bengal and Arabian Sea\n",
      "]]>\n",
      "CDO.JTWC.fct@navy.mil (JTWC CDO)\n",
      "Northwest Pacific/North Indian Ocean* Tropical Systems\n",
      "NWPAC-NIO-WARNINGS\n",
      "Fri, 28 Apr 17 15:46:08 +0000\n",
      "Current Central/Eastern Pacific Tropical Systems\n",
      "https://metoc.ndbc.noaa.gov/web/guest/jtwc\n",
      "No Current Tropical Cyclone Warnings.\n",
      "]]>\n",
      "CDO.JTWC.fct@navy.mil (JTWC CDO)\n",
      "Central/Eastern Pacific Tropical Systems\n",
      "EPAC-CPAC-WARNINGS\n",
      "Fri, 28 Apr 17 15:46:08 +0000\n",
      "Current Southern Hemisphere Tropical Systems\n",
      "https://metoc.ndbc.noaa.gov/web/guest/jtwc\n",
      "Tropical Cyclone\n",
      "17S (Frances) Warning #04\n",
      "Issued at 28/1500Z\n",
      "TC Warning Text\n",
      "TC Warning Graphic\n",
      "JMV 3.0 Data\n",
      "Google Earth Overlay\n",
      "IR Satellite Imagery\n",
      "Satellite Fix Bulletin\n",
      "]]>\n",
      "CDO.JTWC.fct@navy.mil (JTWC CDO)\n",
      "Southern Hemisphere Tropical Systems\n",
      "SH-WARNINGS\n",
      "Fri, 28 Apr 17 15:46:08 +0000\n",
      "Current Significant Tropical Weather Advisories\n",
      "https://metoc.ndbc.noaa.gov/web/guest/jtwc\n",
      "ABPW10 (Western/South Pacific Ocean)\n",
      "Issued at 28/0600Z\n",
      "- ABPW10 Text\n",
      "- Satellite Image\n",
      "ABIO10 (Indian Ocean)\n",
      "Issued at 27/1800Z\n",
      "- ABIO10 Text\n",
      "- Satellite Image\n",
      "]]>\n",
      "CDO.JTWC.fct@navy.mil (JTWC CDO)\n",
      "Significant Tropical Weather Advisories\n",
      "TROPICAL-ADVISORIES\n",
      "Fri, 28 Apr 17 15:46:08 +0000\n"
     ]
    }
   ],
   "source": [
    "print readxml(url,'lxml')"
   ]
  },
  {
   "cell_type": "code",
   "execution_count": 11,
   "metadata": {
    "collapsed": true,
    "deletable": true,
    "editable": true
   },
   "outputs": [],
   "source": [
    "jtwc=feedparser.parse(url) # parse the webpage"
   ]
  },
  {
   "cell_type": "code",
   "execution_count": 12,
   "metadata": {
    "collapsed": false
   },
   "outputs": [
    {
     "data": {
      "text/plain": [
       "['feed',\n",
       " 'status',\n",
       " 'updated',\n",
       " 'updated_parsed',\n",
       " 'encoding',\n",
       " 'bozo',\n",
       " 'headers',\n",
       " 'etag',\n",
       " 'href',\n",
       " 'version',\n",
       " 'entries',\n",
       " 'namespaces']"
      ]
     },
     "execution_count": 12,
     "metadata": {},
     "output_type": "execute_result"
    }
   ],
   "source": [
    "jtwc.keys()"
   ]
  },
  {
   "cell_type": "code",
   "execution_count": 13,
   "metadata": {
    "collapsed": false,
    "deletable": true,
    "editable": true
   },
   "outputs": [],
   "source": [
    "# collect the summeries (one for each alert present in the webpage)\n",
    "txt=[]\n",
    "bname=[]\n",
    "data=jtwc['entries']\n",
    "for k in range(len(data)):\n",
    "    if 'tcw' in data[k].summary : \n",
    "        bname.append(data[k].title_detail.value)\n",
    "        txt.append(data[k].summary)"
   ]
  },
  {
   "cell_type": "code",
   "execution_count": 14,
   "metadata": {
    "collapsed": false
   },
   "outputs": [
    {
     "data": {
      "text/plain": [
       "2"
      ]
     },
     "execution_count": 14,
     "metadata": {},
     "output_type": "execute_result"
    }
   ],
   "source": [
    "len(txt)"
   ]
  },
  {
   "cell_type": "code",
   "execution_count": 15,
   "metadata": {
    "collapsed": false
   },
   "outputs": [
    {
     "data": {
      "text/plain": [
       "[u'Current Northwest Pacific/North Indian Ocean* Tropical Systems',\n",
       " u'Current Southern Hemisphere Tropical Systems']"
      ]
     },
     "execution_count": 15,
     "metadata": {},
     "output_type": "execute_result"
    }
   ],
   "source": [
    "bname"
   ]
  },
  {
   "cell_type": "code",
   "execution_count": 16,
   "metadata": {
    "collapsed": false
   },
   "outputs": [],
   "source": [
    "txt_ = ''.join(txt)"
   ]
  },
  {
   "cell_type": "code",
   "execution_count": 17,
   "metadata": {
    "collapsed": false,
    "deletable": true,
    "editable": true
   },
   "outputs": [],
   "source": [
    "elp = [re.sub('<[^<]+>', \"\", elem) for elem in txt_.split('Tropical')] # we split the text to get the references for the alerts"
   ]
  },
  {
   "cell_type": "code",
   "execution_count": 18,
   "metadata": {
    "collapsed": false,
    "deletable": true,
    "editable": true
   },
   "outputs": [],
   "source": [
    "hur = [elem.strip().split('\\n')[0] for elem in elp] # the names of the TCs are..."
   ]
  },
  {
   "cell_type": "code",
   "execution_count": 19,
   "metadata": {
    "collapsed": false,
    "deletable": true,
    "editable": true
   },
   "outputs": [
    {
     "data": {
      "text/plain": [
       "[u'',\n",
       " u'Depression  03W (Muifa) Warning #13   Final Warning',\n",
       " u'Cyclone  17S (Frances) Warning #04 ']"
      ]
     },
     "execution_count": 19,
     "metadata": {},
     "output_type": "execute_result"
    }
   ],
   "source": [
    "hur"
   ]
  },
  {
   "cell_type": "code",
   "execution_count": 20,
   "metadata": {
    "collapsed": false
   },
   "outputs": [],
   "source": [
    "hur = [ elem.encode('utf8').replace('\"', '') for elem in hur] # get rid of unicode characters"
   ]
  },
  {
   "cell_type": "code",
   "execution_count": 21,
   "metadata": {
    "collapsed": false
   },
   "outputs": [],
   "source": [
    "hur = filter(None, hur) #filter out empty space"
   ]
  },
  {
   "cell_type": "code",
   "execution_count": 22,
   "metadata": {
    "collapsed": false
   },
   "outputs": [
    {
     "data": {
      "text/plain": [
       "['Depression  03W (Muifa) Warning #13   Final Warning',\n",
       " 'Cyclone  17S (Frances) Warning #04 ']"
      ]
     },
     "execution_count": 22,
     "metadata": {},
     "output_type": "execute_result"
    }
   ],
   "source": [
    "hur"
   ]
  },
  {
   "cell_type": "code",
   "execution_count": 23,
   "metadata": {
    "collapsed": false,
    "deletable": true,
    "editable": true
   },
   "outputs": [],
   "source": [
    "elp = [re.sub('<[^<]+>', \"\", elem) for elem in txt_.split('href=')] # we now split differently to get the urls for the bulletins"
   ]
  },
  {
   "cell_type": "code",
   "execution_count": 24,
   "metadata": {
    "collapsed": false,
    "deletable": true,
    "editable": true
   },
   "outputs": [
    {
     "data": {
      "text/plain": [
       "[u'\"https://metoc.ndbc.noaa.gov/ProductFeeds-portlet/img/jtwc/products/wp0317.tcw\"',\n",
       " u'\"https://metoc.ndbc.noaa.gov/ProductFeeds-portlet/img/jtwc/products/sh1717.tcw\"']"
      ]
     },
     "execution_count": 24,
     "metadata": {},
     "output_type": "execute_result"
    }
   ],
   "source": [
    "bul = [elem for elem in elp if 'tcw' in elem] # collect the urls \n",
    "\n",
    "bul_ =  [elem.strip().split()[0] for elem in bul]\n",
    "\n",
    "bul_"
   ]
  },
  {
   "cell_type": "code",
   "execution_count": 25,
   "metadata": {
    "collapsed": false,
    "deletable": true,
    "editable": true
   },
   "outputs": [],
   "source": [
    "bul_ = [ elem.encode('utf8').replace('\"', '') for elem in bul_] # get rid of unicode characters"
   ]
  },
  {
   "cell_type": "code",
   "execution_count": 26,
   "metadata": {
    "collapsed": false,
    "deletable": true,
    "editable": true
   },
   "outputs": [
    {
     "data": {
      "text/plain": [
       "['https://metoc.ndbc.noaa.gov/ProductFeeds-portlet/img/jtwc/products/wp0317.tcw',\n",
       " 'https://metoc.ndbc.noaa.gov/ProductFeeds-portlet/img/jtwc/products/sh1717.tcw']"
      ]
     },
     "execution_count": 26,
     "metadata": {},
     "output_type": "execute_result"
    }
   ],
   "source": [
    "bul_"
   ]
  },
  {
   "cell_type": "markdown",
   "metadata": {
    "deletable": true,
    "editable": true
   },
   "source": [
    "## For the first bulletin"
   ]
  },
  {
   "cell_type": "code",
   "execution_count": 49,
   "metadata": {
    "collapsed": false,
    "deletable": true,
    "editable": true
   },
   "outputs": [],
   "source": [
    "try:\n",
    "    det = urllib.urlopen(bul_[1]).read() # download and parse the bulletin file\n",
    "except:\n",
    "    print 'No Bulletins'"
   ]
  },
  {
   "cell_type": "code",
   "execution_count": 50,
   "metadata": {
    "collapsed": false,
    "deletable": true,
    "editable": true
   },
   "outputs": [
    {
     "name": "stdout",
     "output_type": "stream",
     "text": [
      "WTXS51 PGTW 281500    \r\n",
      "WARNING    ATCG MIL 17S SIO 170428141437\r\n",
      "2017042812 17S FRANCES    004  01 250 05 SATL 020\r\n",
      "T000 121S 1250E 070 R064 010 NE QD 015 SE QD 010 SW QD 010 NW QD R050 025 NE QD 030 SE QD 025 SW QD 020 NW QD R034 060 NE QD 090 SE QD 090 SW QD 050 NW QD \r\n",
      "T012 126S 1239E 075 R064 000 NE QD 015 SE QD 010 SW QD 000 NW QD R050 010 NE QD 030 SE QD 025 SW QD 015 NW QD R034 065 NE QD 095 SE QD 080 SW QD 040 NW QD \r\n",
      "T024 134S 1230E 070 R064 000 NE QD 020 SE QD 015 SW QD 000 NW QD R050 010 NE QD 035 SE QD 030 SW QD 015 NW QD R034 045 NE QD 085 SE QD 065 SW QD 030 NW QD \r\n",
      "T036 138S 1222E 050 R050 010 NE QD 035 SE QD 030 SW QD 015 NW QD R034 045 NE QD 085 SE QD 065 SW QD 030 NW QD \r\n",
      "T048 139S 1216E 040 R034 030 NE QD 075 SE QD 045 SW QD 020 NW QD \r\n",
      "T072 138S 1200E 030 \r\n",
      "AMP\r\n",
      "    048HR DISSIPATING AS A SIGNIFICANT TROPICAL CYCLONE OVER WATER\r\n",
      "    072HR DISSIPATED AS A SIGNIFICANT TROPICAL CYCLONE OVER WATER\r\n",
      "SUBJ:  TROPICAL CYCLONE 17S (FRANCES) WARNING NR 004    \r\n",
      "1. TROPICAL CYCLONE 17S (FRANCES) WARNING NR 004    \r\n",
      "   01 ACTIVE TROPICAL CYCLONE IN SOUTHIO\r\n",
      "   MAX SUSTAINED WINDS BASED ON ONE-MINUTE AVERAGE\r\n",
      "   WIND RADII VALID OVER OPEN WATER ONLY\r\n",
      "    ---\r\n",
      "   WARNING POSITION:\r\n",
      "   281200Z --- NEAR 12.1S 125.0E\r\n",
      "     MOVEMENT PAST SIX HOURS - 250 DEGREES AT 05 KTS\r\n",
      "     POSITION ACCURATE TO WITHIN 020 NM\r\n",
      "     POSITION BASED ON CENTER LOCATED BY SATELLITE\r\n",
      "   PRESENT WIND DISTRIBUTION:\r\n",
      "   MAX SUSTAINED WINDS - 070 KT, GUSTS 085 KT\r\n",
      "   WIND RADII VALID OVER OPEN WATER ONLY\r\n",
      "   RADIUS OF 064 KT WINDS - 010 NM NORTHEAST QUADRANT\r\n",
      "                            015 NM SOUTHEAST QUADRANT\r\n",
      "                            010 NM SOUTHWEST QUADRANT\r\n",
      "                            010 NM NORTHWEST QUADRANT\r\n",
      "   RADIUS OF 050 KT WINDS - 025 NM NORTHEAST QUADRANT\r\n",
      "                            030 NM SOUTHEAST QUADRANT\r\n",
      "                            025 NM SOUTHWEST QUADRANT\r\n",
      "                            020 NM NORTHWEST QUADRANT\r\n",
      "   RADIUS OF 034 KT WINDS - 060 NM NORTHEAST QUADRANT\r\n",
      "                            090 NM SOUTHEAST QUADRANT\r\n",
      "                            090 NM SOUTHWEST QUADRANT\r\n",
      "                            050 NM NORTHWEST QUADRANT\r\n",
      "   REPEAT POSIT: 12.1S 125.0E\r\n",
      "    ---\r\n",
      "   FORECASTS:\r\n",
      "   12 HRS, VALID AT:\r\n",
      "   290000Z --- 12.6S 123.9E\r\n",
      "   MAX SUSTAINED WINDS - 075 KT, GUSTS 090 KT\r\n",
      "   WIND RADII VALID OVER OPEN WATER ONLY\r\n",
      "   RADIUS OF 064 KT WINDS - 000 NM NORTHEAST QUADRANT\r\n",
      "                            015 NM SOUTHEAST QUADRANT\r\n",
      "                            010 NM SOUTHWEST QUADRANT\r\n",
      "                            000 NM NORTHWEST QUADRANT\r\n",
      "   RADIUS OF 050 KT WINDS - 010 NM NORTHEAST QUADRANT\r\n",
      "                            030 NM SOUTHEAST QUADRANT\r\n",
      "                            025 NM SOUTHWEST QUADRANT\r\n",
      "                            015 NM NORTHWEST QUADRANT\r\n",
      "   RADIUS OF 034 KT WINDS - 065 NM NORTHEAST QUADRANT\r\n",
      "                            095 NM SOUTHEAST QUADRANT\r\n",
      "                            080 NM SOUTHWEST QUADRANT\r\n",
      "                            040 NM NORTHWEST QUADRANT\r\n",
      "   VECTOR TO 24 HR POSIT: 230 DEG/ 06 KTS\r\n",
      "    ---\r\n",
      "   24 HRS, VALID AT:\r\n",
      "   291200Z --- 13.4S 123.0E\r\n",
      "   MAX SUSTAINED WINDS - 070 KT, GUSTS 085 KT\r\n",
      "   WIND RADII VALID OVER OPEN WATER ONLY\r\n",
      "   RADIUS OF 064 KT WINDS - 000 NM NORTHEAST QUADRANT\r\n",
      "                            020 NM SOUTHEAST QUADRANT\r\n",
      "                            015 NM SOUTHWEST QUADRANT\r\n",
      "                            000 NM NORTHWEST QUADRANT\r\n",
      "   RADIUS OF 050 KT WINDS - 010 NM NORTHEAST QUADRANT\r\n",
      "                            035 NM SOUTHEAST QUADRANT\r\n",
      "                            030 NM SOUTHWEST QUADRANT\r\n",
      "                            015 NM NORTHWEST QUADRANT\r\n",
      "   RADIUS OF 034 KT WINDS - 045 NM NORTHEAST QUADRANT\r\n",
      "                            085 NM SOUTHEAST QUADRANT\r\n",
      "                            065 NM SOUTHWEST QUADRANT\r\n",
      "                            030 NM NORTHWEST QUADRANT\r\n",
      "   VECTOR TO 36 HR POSIT: 245 DEG/ 04 KTS\r\n",
      "    ---\r\n",
      "   36 HRS, VALID AT:\r\n",
      "   300000Z --- 13.8S 122.2E\r\n",
      "   MAX SUSTAINED WINDS - 050 KT, GUSTS 065 KT\r\n",
      "   WIND RADII VALID OVER OPEN WATER ONLY\r\n",
      "   RADIUS OF 050 KT WINDS - 010 NM NORTHEAST QUADRANT\r\n",
      "                            035 NM SOUTHEAST QUADRANT\r\n",
      "                            030 NM SOUTHWEST QUADRANT\r\n",
      "                            015 NM NORTHWEST QUADRANT\r\n",
      "   RADIUS OF 034 KT WINDS - 045 NM NORTHEAST QUADRANT\r\n",
      "                            085 NM SOUTHEAST QUADRANT\r\n",
      "                            065 NM SOUTHWEST QUADRANT\r\n",
      "                            030 NM NORTHWEST QUADRANT\r\n",
      "   VECTOR TO 48 HR POSIT: 260 DEG/ 03 KTS\r\n",
      "    ---\r\n",
      "   EXTENDED OUTLOOK:\r\n",
      "   48 HRS, VALID AT:\r\n",
      "   301200Z --- 13.9S 121.6E\r\n",
      "   MAX SUSTAINED WINDS - 040 KT, GUSTS 050 KT\r\n",
      "   WIND RADII VALID OVER OPEN WATER ONLY\r\n",
      "   DISSIPATING AS A SIGNIFICANT TROPICAL CYCLONE OVER WATER\r\n",
      "   RADIUS OF 034 KT WINDS - 030 NM NORTHEAST QUADRANT\r\n",
      "                            075 NM SOUTHEAST QUADRANT\r\n",
      "                            045 NM SOUTHWEST QUADRANT\r\n",
      "                            020 NM NORTHWEST QUADRANT\r\n",
      "   VECTOR TO 72 HR POSIT: 275 DEG/ 04 KTS\r\n",
      "    ---\r\n",
      "   72 HRS, VALID AT:\r\n",
      "   011200Z --- 13.8S 120.0E\r\n",
      "   MAX SUSTAINED WINDS - 030 KT, GUSTS 040 KT\r\n",
      "   WIND RADII VALID OVER OPEN WATER ONLY\r\n",
      "   DISSIPATED AS A SIGNIFICANT TROPICAL CYCLONE OVER WATER\r\n",
      "    ---\r\n",
      "REMARKS:\r\n",
      "281500Z POSITION NEAR 12.2S 124.7E.\r\n",
      "TROPICAL CYCLONE 17S (FRANCES), LOCATED APPROXIMATELY 347 NM WEST\r\n",
      "OF DARWIN, AUSTRALIA, HAS TRACKED WEST-SOUTHWESTWARD AT 05 KNOTS\r\n",
      "OVER THE PAST SIX HOURS.\r\n",
      "MAXIMUM SIGNIFICANT WAVE HEIGHT AT 281200Z IS 22 FEET. NEXT\r\n",
      "WARNINGS AT 290300Z AND 291500Z.\r\n",
      "//\r\n",
      "1717042506  75S1334E  20\r\n",
      "1717042512  76S1330E  20\r\n",
      "1717042518  77S1326E  25\r\n",
      "1717042600  79S1322E  30\r\n",
      "1717042606  81S1318E  30\r\n",
      "1717042612  85S1312E  30\r\n",
      "1717042618  90S1306E  30\r\n",
      "1717042700  97S1301E  35\r\n",
      "1717042706 103S1293E  40\r\n",
      "1717042712 106S1283E  45\r\n",
      "1717042718 110S1275E  50\r\n",
      "1717042718 110S1275E  50\r\n",
      "1717042800 115S1264E  55\r\n",
      "1717042800 115S1264E  55\r\n",
      "1717042806 119S1255E  60\r\n",
      "1717042806 119S1255E  60\r\n",
      "1717042812 121S1250E  70\r\n",
      "1717042812 121S1250E  70\r\n",
      "1717042812 121S1250E  70\r\n",
      "NNNN\n",
      "\n"
     ]
    }
   ],
   "source": [
    "print det"
   ]
  },
  {
   "cell_type": "code",
   "execution_count": 51,
   "metadata": {
    "collapsed": false
   },
   "outputs": [],
   "source": [
    "tstamp=det.split('\\n')[2][:10]"
   ]
  },
  {
   "cell_type": "code",
   "execution_count": 52,
   "metadata": {
    "collapsed": false,
    "deletable": true,
    "editable": true
   },
   "outputs": [],
   "source": [
    "#select the first lines where all the info is (conviniently) stored\n",
    "bdata =[line.strip() for line in det.splitlines() if ('T' is line.strip()[0]) & ('QD' in line.strip()[-2:])]"
   ]
  },
  {
   "cell_type": "code",
   "execution_count": 53,
   "metadata": {
    "collapsed": false,
    "deletable": true,
    "editable": true
   },
   "outputs": [],
   "source": [
    "bdata = [re.sub(' ',',',elem) for elem in bdata] # replace space with commas as delimiter"
   ]
  },
  {
   "cell_type": "code",
   "execution_count": 54,
   "metadata": {
    "collapsed": false,
    "deletable": true,
    "editable": true
   },
   "outputs": [],
   "source": [
    "bdata = [v.split(',') for v in bdata] #split to array "
   ]
  },
  {
   "cell_type": "code",
   "execution_count": 55,
   "metadata": {
    "collapsed": false,
    "deletable": true,
    "editable": true
   },
   "outputs": [],
   "source": [
    "if bdata != []:\n",
    "     df = pd.DataFrame(bdata) # create a dataframe"
   ]
  },
  {
   "cell_type": "code",
   "execution_count": 56,
   "metadata": {
    "collapsed": false,
    "deletable": true,
    "editable": true
   },
   "outputs": [
    {
     "data": {
      "text/html": [
       "<div>\n",
       "<table border=\"1\" class=\"dataframe\">\n",
       "  <thead>\n",
       "    <tr style=\"text-align: right;\">\n",
       "      <th></th>\n",
       "      <th>0</th>\n",
       "      <th>1</th>\n",
       "      <th>2</th>\n",
       "      <th>3</th>\n",
       "      <th>4</th>\n",
       "      <th>5</th>\n",
       "      <th>6</th>\n",
       "      <th>7</th>\n",
       "      <th>8</th>\n",
       "      <th>9</th>\n",
       "      <th>...</th>\n",
       "      <th>33</th>\n",
       "      <th>34</th>\n",
       "      <th>35</th>\n",
       "      <th>36</th>\n",
       "      <th>37</th>\n",
       "      <th>38</th>\n",
       "      <th>39</th>\n",
       "      <th>40</th>\n",
       "      <th>41</th>\n",
       "      <th>42</th>\n",
       "    </tr>\n",
       "  </thead>\n",
       "  <tbody>\n",
       "    <tr>\n",
       "      <th>0</th>\n",
       "      <td>T000</td>\n",
       "      <td>121S</td>\n",
       "      <td>1250E</td>\n",
       "      <td>070</td>\n",
       "      <td>R064</td>\n",
       "      <td>010</td>\n",
       "      <td>NE</td>\n",
       "      <td>QD</td>\n",
       "      <td>015</td>\n",
       "      <td>SE</td>\n",
       "      <td>...</td>\n",
       "      <td>QD</td>\n",
       "      <td>090</td>\n",
       "      <td>SE</td>\n",
       "      <td>QD</td>\n",
       "      <td>090</td>\n",
       "      <td>SW</td>\n",
       "      <td>QD</td>\n",
       "      <td>050</td>\n",
       "      <td>NW</td>\n",
       "      <td>QD</td>\n",
       "    </tr>\n",
       "    <tr>\n",
       "      <th>1</th>\n",
       "      <td>T012</td>\n",
       "      <td>126S</td>\n",
       "      <td>1239E</td>\n",
       "      <td>075</td>\n",
       "      <td>R064</td>\n",
       "      <td>000</td>\n",
       "      <td>NE</td>\n",
       "      <td>QD</td>\n",
       "      <td>015</td>\n",
       "      <td>SE</td>\n",
       "      <td>...</td>\n",
       "      <td>QD</td>\n",
       "      <td>095</td>\n",
       "      <td>SE</td>\n",
       "      <td>QD</td>\n",
       "      <td>080</td>\n",
       "      <td>SW</td>\n",
       "      <td>QD</td>\n",
       "      <td>040</td>\n",
       "      <td>NW</td>\n",
       "      <td>QD</td>\n",
       "    </tr>\n",
       "    <tr>\n",
       "      <th>2</th>\n",
       "      <td>T024</td>\n",
       "      <td>134S</td>\n",
       "      <td>1230E</td>\n",
       "      <td>070</td>\n",
       "      <td>R064</td>\n",
       "      <td>000</td>\n",
       "      <td>NE</td>\n",
       "      <td>QD</td>\n",
       "      <td>020</td>\n",
       "      <td>SE</td>\n",
       "      <td>...</td>\n",
       "      <td>QD</td>\n",
       "      <td>085</td>\n",
       "      <td>SE</td>\n",
       "      <td>QD</td>\n",
       "      <td>065</td>\n",
       "      <td>SW</td>\n",
       "      <td>QD</td>\n",
       "      <td>030</td>\n",
       "      <td>NW</td>\n",
       "      <td>QD</td>\n",
       "    </tr>\n",
       "    <tr>\n",
       "      <th>3</th>\n",
       "      <td>T036</td>\n",
       "      <td>138S</td>\n",
       "      <td>1222E</td>\n",
       "      <td>050</td>\n",
       "      <td>R050</td>\n",
       "      <td>010</td>\n",
       "      <td>NE</td>\n",
       "      <td>QD</td>\n",
       "      <td>035</td>\n",
       "      <td>SE</td>\n",
       "      <td>...</td>\n",
       "      <td>None</td>\n",
       "      <td>None</td>\n",
       "      <td>None</td>\n",
       "      <td>None</td>\n",
       "      <td>None</td>\n",
       "      <td>None</td>\n",
       "      <td>None</td>\n",
       "      <td>None</td>\n",
       "      <td>None</td>\n",
       "      <td>None</td>\n",
       "    </tr>\n",
       "    <tr>\n",
       "      <th>4</th>\n",
       "      <td>T048</td>\n",
       "      <td>139S</td>\n",
       "      <td>1216E</td>\n",
       "      <td>040</td>\n",
       "      <td>R034</td>\n",
       "      <td>030</td>\n",
       "      <td>NE</td>\n",
       "      <td>QD</td>\n",
       "      <td>075</td>\n",
       "      <td>SE</td>\n",
       "      <td>...</td>\n",
       "      <td>None</td>\n",
       "      <td>None</td>\n",
       "      <td>None</td>\n",
       "      <td>None</td>\n",
       "      <td>None</td>\n",
       "      <td>None</td>\n",
       "      <td>None</td>\n",
       "      <td>None</td>\n",
       "      <td>None</td>\n",
       "      <td>None</td>\n",
       "    </tr>\n",
       "  </tbody>\n",
       "</table>\n",
       "<p>5 rows × 43 columns</p>\n",
       "</div>"
      ],
      "text/plain": [
       "     0     1      2    3     4    5   6   7    8   9   ...     33    34    35  \\\n",
       "0  T000  121S  1250E  070  R064  010  NE  QD  015  SE  ...     QD   090    SE   \n",
       "1  T012  126S  1239E  075  R064  000  NE  QD  015  SE  ...     QD   095    SE   \n",
       "2  T024  134S  1230E  070  R064  000  NE  QD  020  SE  ...     QD   085    SE   \n",
       "3  T036  138S  1222E  050  R050  010  NE  QD  035  SE  ...   None  None  None   \n",
       "4  T048  139S  1216E  040  R034  030  NE  QD  075  SE  ...   None  None  None   \n",
       "\n",
       "     36    37    38    39    40    41    42  \n",
       "0    QD   090    SW    QD   050    NW    QD  \n",
       "1    QD   080    SW    QD   040    NW    QD  \n",
       "2    QD   065    SW    QD   030    NW    QD  \n",
       "3  None  None  None  None  None  None  None  \n",
       "4  None  None  None  None  None  None  None  \n",
       "\n",
       "[5 rows x 43 columns]"
      ]
     },
     "execution_count": 56,
     "metadata": {},
     "output_type": "execute_result"
    }
   ],
   "source": [
    "df.head() #check"
   ]
  },
  {
   "cell_type": "code",
   "execution_count": 57,
   "metadata": {
    "collapsed": true,
    "deletable": true,
    "editable": true
   },
   "outputs": [],
   "source": [
    "#expand the dataFrame to include all possible values\n",
    "if df.shape[1] < 43 : df = pd.concat([df,pd.DataFrame(columns=list(np.arange(df.shape[1],43)))])"
   ]
  },
  {
   "cell_type": "code",
   "execution_count": 58,
   "metadata": {
    "collapsed": false,
    "deletable": true,
    "editable": true
   },
   "outputs": [
    {
     "data": {
      "text/html": [
       "<div>\n",
       "<table border=\"1\" class=\"dataframe\">\n",
       "  <thead>\n",
       "    <tr style=\"text-align: right;\">\n",
       "      <th></th>\n",
       "      <th>0</th>\n",
       "      <th>1</th>\n",
       "      <th>2</th>\n",
       "      <th>3</th>\n",
       "      <th>4</th>\n",
       "      <th>5</th>\n",
       "      <th>6</th>\n",
       "      <th>7</th>\n",
       "      <th>8</th>\n",
       "      <th>9</th>\n",
       "      <th>...</th>\n",
       "      <th>33</th>\n",
       "      <th>34</th>\n",
       "      <th>35</th>\n",
       "      <th>36</th>\n",
       "      <th>37</th>\n",
       "      <th>38</th>\n",
       "      <th>39</th>\n",
       "      <th>40</th>\n",
       "      <th>41</th>\n",
       "      <th>42</th>\n",
       "    </tr>\n",
       "  </thead>\n",
       "  <tbody>\n",
       "    <tr>\n",
       "      <th>0</th>\n",
       "      <td>T000</td>\n",
       "      <td>121S</td>\n",
       "      <td>1250E</td>\n",
       "      <td>070</td>\n",
       "      <td>R064</td>\n",
       "      <td>010</td>\n",
       "      <td>NE</td>\n",
       "      <td>QD</td>\n",
       "      <td>015</td>\n",
       "      <td>SE</td>\n",
       "      <td>...</td>\n",
       "      <td>QD</td>\n",
       "      <td>090</td>\n",
       "      <td>SE</td>\n",
       "      <td>QD</td>\n",
       "      <td>090</td>\n",
       "      <td>SW</td>\n",
       "      <td>QD</td>\n",
       "      <td>050</td>\n",
       "      <td>NW</td>\n",
       "      <td>QD</td>\n",
       "    </tr>\n",
       "    <tr>\n",
       "      <th>1</th>\n",
       "      <td>T012</td>\n",
       "      <td>126S</td>\n",
       "      <td>1239E</td>\n",
       "      <td>075</td>\n",
       "      <td>R064</td>\n",
       "      <td>000</td>\n",
       "      <td>NE</td>\n",
       "      <td>QD</td>\n",
       "      <td>015</td>\n",
       "      <td>SE</td>\n",
       "      <td>...</td>\n",
       "      <td>QD</td>\n",
       "      <td>095</td>\n",
       "      <td>SE</td>\n",
       "      <td>QD</td>\n",
       "      <td>080</td>\n",
       "      <td>SW</td>\n",
       "      <td>QD</td>\n",
       "      <td>040</td>\n",
       "      <td>NW</td>\n",
       "      <td>QD</td>\n",
       "    </tr>\n",
       "    <tr>\n",
       "      <th>2</th>\n",
       "      <td>T024</td>\n",
       "      <td>134S</td>\n",
       "      <td>1230E</td>\n",
       "      <td>070</td>\n",
       "      <td>R064</td>\n",
       "      <td>000</td>\n",
       "      <td>NE</td>\n",
       "      <td>QD</td>\n",
       "      <td>020</td>\n",
       "      <td>SE</td>\n",
       "      <td>...</td>\n",
       "      <td>QD</td>\n",
       "      <td>085</td>\n",
       "      <td>SE</td>\n",
       "      <td>QD</td>\n",
       "      <td>065</td>\n",
       "      <td>SW</td>\n",
       "      <td>QD</td>\n",
       "      <td>030</td>\n",
       "      <td>NW</td>\n",
       "      <td>QD</td>\n",
       "    </tr>\n",
       "    <tr>\n",
       "      <th>3</th>\n",
       "      <td>T036</td>\n",
       "      <td>138S</td>\n",
       "      <td>1222E</td>\n",
       "      <td>050</td>\n",
       "      <td>R050</td>\n",
       "      <td>010</td>\n",
       "      <td>NE</td>\n",
       "      <td>QD</td>\n",
       "      <td>035</td>\n",
       "      <td>SE</td>\n",
       "      <td>...</td>\n",
       "      <td>None</td>\n",
       "      <td>None</td>\n",
       "      <td>None</td>\n",
       "      <td>None</td>\n",
       "      <td>None</td>\n",
       "      <td>None</td>\n",
       "      <td>None</td>\n",
       "      <td>None</td>\n",
       "      <td>None</td>\n",
       "      <td>None</td>\n",
       "    </tr>\n",
       "    <tr>\n",
       "      <th>4</th>\n",
       "      <td>T048</td>\n",
       "      <td>139S</td>\n",
       "      <td>1216E</td>\n",
       "      <td>040</td>\n",
       "      <td>R034</td>\n",
       "      <td>030</td>\n",
       "      <td>NE</td>\n",
       "      <td>QD</td>\n",
       "      <td>075</td>\n",
       "      <td>SE</td>\n",
       "      <td>...</td>\n",
       "      <td>None</td>\n",
       "      <td>None</td>\n",
       "      <td>None</td>\n",
       "      <td>None</td>\n",
       "      <td>None</td>\n",
       "      <td>None</td>\n",
       "      <td>None</td>\n",
       "      <td>None</td>\n",
       "      <td>None</td>\n",
       "      <td>None</td>\n",
       "    </tr>\n",
       "  </tbody>\n",
       "</table>\n",
       "<p>5 rows × 43 columns</p>\n",
       "</div>"
      ],
      "text/plain": [
       "     0     1      2    3     4    5   6   7    8   9   ...     33    34    35  \\\n",
       "0  T000  121S  1250E  070  R064  010  NE  QD  015  SE  ...     QD   090    SE   \n",
       "1  T012  126S  1239E  075  R064  000  NE  QD  015  SE  ...     QD   095    SE   \n",
       "2  T024  134S  1230E  070  R064  000  NE  QD  020  SE  ...     QD   085    SE   \n",
       "3  T036  138S  1222E  050  R050  010  NE  QD  035  SE  ...   None  None  None   \n",
       "4  T048  139S  1216E  040  R034  030  NE  QD  075  SE  ...   None  None  None   \n",
       "\n",
       "     36    37    38    39    40    41    42  \n",
       "0    QD   090    SW    QD   050    NW    QD  \n",
       "1    QD   080    SW    QD   040    NW    QD  \n",
       "2    QD   065    SW    QD   030    NW    QD  \n",
       "3  None  None  None  None  None  None  None  \n",
       "4  None  None  None  None  None  None  None  \n",
       "\n",
       "[5 rows x 43 columns]"
      ]
     },
     "execution_count": 58,
     "metadata": {},
     "output_type": "execute_result"
    }
   ],
   "source": [
    "df # check"
   ]
  },
  {
   "cell_type": "code",
   "execution_count": 59,
   "metadata": {
    "collapsed": false
   },
   "outputs": [],
   "source": [
    "# drop the text columns [NE,QD,....]\n",
    "for ref in ['NE','NW','SW','SE','QD']:\n",
    "     df = df.loc[:, (df != [ref]).all(axis=0)]"
   ]
  },
  {
   "cell_type": "code",
   "execution_count": 60,
   "metadata": {
    "collapsed": false,
    "deletable": true,
    "editable": true
   },
   "outputs": [],
   "source": [
    "df = df.set_index(df.columns[0]) # set time as index"
   ]
  },
  {
   "cell_type": "code",
   "execution_count": 61,
   "metadata": {
    "collapsed": false,
    "deletable": true,
    "editable": true
   },
   "outputs": [
    {
     "data": {
      "text/html": [
       "<div>\n",
       "<table border=\"1\" class=\"dataframe\">\n",
       "  <thead>\n",
       "    <tr style=\"text-align: right;\">\n",
       "      <th></th>\n",
       "      <th>1</th>\n",
       "      <th>2</th>\n",
       "      <th>3</th>\n",
       "      <th>4</th>\n",
       "      <th>5</th>\n",
       "      <th>8</th>\n",
       "      <th>11</th>\n",
       "      <th>14</th>\n",
       "      <th>17</th>\n",
       "      <th>18</th>\n",
       "      <th>21</th>\n",
       "      <th>24</th>\n",
       "      <th>27</th>\n",
       "      <th>30</th>\n",
       "      <th>31</th>\n",
       "      <th>34</th>\n",
       "      <th>37</th>\n",
       "      <th>40</th>\n",
       "    </tr>\n",
       "    <tr>\n",
       "      <th>0</th>\n",
       "      <th></th>\n",
       "      <th></th>\n",
       "      <th></th>\n",
       "      <th></th>\n",
       "      <th></th>\n",
       "      <th></th>\n",
       "      <th></th>\n",
       "      <th></th>\n",
       "      <th></th>\n",
       "      <th></th>\n",
       "      <th></th>\n",
       "      <th></th>\n",
       "      <th></th>\n",
       "      <th></th>\n",
       "      <th></th>\n",
       "      <th></th>\n",
       "      <th></th>\n",
       "      <th></th>\n",
       "    </tr>\n",
       "  </thead>\n",
       "  <tbody>\n",
       "    <tr>\n",
       "      <th>T000</th>\n",
       "      <td>121S</td>\n",
       "      <td>1250E</td>\n",
       "      <td>070</td>\n",
       "      <td>R064</td>\n",
       "      <td>010</td>\n",
       "      <td>015</td>\n",
       "      <td>010</td>\n",
       "      <td>010</td>\n",
       "      <td>R050</td>\n",
       "      <td>025</td>\n",
       "      <td>030</td>\n",
       "      <td>025</td>\n",
       "      <td>020</td>\n",
       "      <td>R034</td>\n",
       "      <td>060</td>\n",
       "      <td>090</td>\n",
       "      <td>090</td>\n",
       "      <td>050</td>\n",
       "    </tr>\n",
       "    <tr>\n",
       "      <th>T012</th>\n",
       "      <td>126S</td>\n",
       "      <td>1239E</td>\n",
       "      <td>075</td>\n",
       "      <td>R064</td>\n",
       "      <td>000</td>\n",
       "      <td>015</td>\n",
       "      <td>010</td>\n",
       "      <td>000</td>\n",
       "      <td>R050</td>\n",
       "      <td>010</td>\n",
       "      <td>030</td>\n",
       "      <td>025</td>\n",
       "      <td>015</td>\n",
       "      <td>R034</td>\n",
       "      <td>065</td>\n",
       "      <td>095</td>\n",
       "      <td>080</td>\n",
       "      <td>040</td>\n",
       "    </tr>\n",
       "    <tr>\n",
       "      <th>T024</th>\n",
       "      <td>134S</td>\n",
       "      <td>1230E</td>\n",
       "      <td>070</td>\n",
       "      <td>R064</td>\n",
       "      <td>000</td>\n",
       "      <td>020</td>\n",
       "      <td>015</td>\n",
       "      <td>000</td>\n",
       "      <td>R050</td>\n",
       "      <td>010</td>\n",
       "      <td>035</td>\n",
       "      <td>030</td>\n",
       "      <td>015</td>\n",
       "      <td>R034</td>\n",
       "      <td>045</td>\n",
       "      <td>085</td>\n",
       "      <td>065</td>\n",
       "      <td>030</td>\n",
       "    </tr>\n",
       "    <tr>\n",
       "      <th>T036</th>\n",
       "      <td>138S</td>\n",
       "      <td>1222E</td>\n",
       "      <td>050</td>\n",
       "      <td>R050</td>\n",
       "      <td>010</td>\n",
       "      <td>035</td>\n",
       "      <td>030</td>\n",
       "      <td>015</td>\n",
       "      <td>R034</td>\n",
       "      <td>045</td>\n",
       "      <td>085</td>\n",
       "      <td>065</td>\n",
       "      <td>030</td>\n",
       "      <td>None</td>\n",
       "      <td>None</td>\n",
       "      <td>None</td>\n",
       "      <td>None</td>\n",
       "      <td>None</td>\n",
       "    </tr>\n",
       "    <tr>\n",
       "      <th>T048</th>\n",
       "      <td>139S</td>\n",
       "      <td>1216E</td>\n",
       "      <td>040</td>\n",
       "      <td>R034</td>\n",
       "      <td>030</td>\n",
       "      <td>075</td>\n",
       "      <td>045</td>\n",
       "      <td>020</td>\n",
       "      <td>None</td>\n",
       "      <td>None</td>\n",
       "      <td>None</td>\n",
       "      <td>None</td>\n",
       "      <td>None</td>\n",
       "      <td>None</td>\n",
       "      <td>None</td>\n",
       "      <td>None</td>\n",
       "      <td>None</td>\n",
       "      <td>None</td>\n",
       "    </tr>\n",
       "  </tbody>\n",
       "</table>\n",
       "</div>"
      ],
      "text/plain": [
       "        1      2    3     4    5    8    11   14    17    18    21    24  \\\n",
       "0                                                                          \n",
       "T000  121S  1250E  070  R064  010  015  010  010  R050   025   030   025   \n",
       "T012  126S  1239E  075  R064  000  015  010  000  R050   010   030   025   \n",
       "T024  134S  1230E  070  R064  000  020  015  000  R050   010   035   030   \n",
       "T036  138S  1222E  050  R050  010  035  030  015  R034   045   085   065   \n",
       "T048  139S  1216E  040  R034  030  075  045  020  None  None  None  None   \n",
       "\n",
       "        27    30    31    34    37    40  \n",
       "0                                         \n",
       "T000   020  R034   060   090   090   050  \n",
       "T012   015  R034   065   095   080   040  \n",
       "T024   015  R034   045   085   065   030  \n",
       "T036   030  None  None  None  None  None  \n",
       "T048  None  None  None  None  None  None  "
      ]
     },
     "execution_count": 61,
     "metadata": {},
     "output_type": "execute_result"
    }
   ],
   "source": [
    "df.head() #check"
   ]
  },
  {
   "cell_type": "code",
   "execution_count": 62,
   "metadata": {
    "collapsed": true,
    "deletable": true,
    "editable": true
   },
   "outputs": [],
   "source": [
    "df.columns=np.arange(df.shape[1]) # rename the columns"
   ]
  },
  {
   "cell_type": "code",
   "execution_count": 63,
   "metadata": {
    "collapsed": false,
    "deletable": true,
    "editable": true
   },
   "outputs": [
    {
     "data": {
      "text/html": [
       "<div>\n",
       "<table border=\"1\" class=\"dataframe\">\n",
       "  <thead>\n",
       "    <tr style=\"text-align: right;\">\n",
       "      <th></th>\n",
       "      <th>0</th>\n",
       "      <th>1</th>\n",
       "      <th>2</th>\n",
       "      <th>3</th>\n",
       "      <th>4</th>\n",
       "      <th>5</th>\n",
       "      <th>6</th>\n",
       "      <th>7</th>\n",
       "      <th>8</th>\n",
       "      <th>9</th>\n",
       "      <th>10</th>\n",
       "      <th>11</th>\n",
       "      <th>12</th>\n",
       "      <th>13</th>\n",
       "      <th>14</th>\n",
       "      <th>15</th>\n",
       "      <th>16</th>\n",
       "      <th>17</th>\n",
       "    </tr>\n",
       "    <tr>\n",
       "      <th>0</th>\n",
       "      <th></th>\n",
       "      <th></th>\n",
       "      <th></th>\n",
       "      <th></th>\n",
       "      <th></th>\n",
       "      <th></th>\n",
       "      <th></th>\n",
       "      <th></th>\n",
       "      <th></th>\n",
       "      <th></th>\n",
       "      <th></th>\n",
       "      <th></th>\n",
       "      <th></th>\n",
       "      <th></th>\n",
       "      <th></th>\n",
       "      <th></th>\n",
       "      <th></th>\n",
       "      <th></th>\n",
       "    </tr>\n",
       "  </thead>\n",
       "  <tbody>\n",
       "    <tr>\n",
       "      <th>T000</th>\n",
       "      <td>121S</td>\n",
       "      <td>1250E</td>\n",
       "      <td>070</td>\n",
       "      <td>R064</td>\n",
       "      <td>010</td>\n",
       "      <td>015</td>\n",
       "      <td>010</td>\n",
       "      <td>010</td>\n",
       "      <td>R050</td>\n",
       "      <td>025</td>\n",
       "      <td>030</td>\n",
       "      <td>025</td>\n",
       "      <td>020</td>\n",
       "      <td>R034</td>\n",
       "      <td>060</td>\n",
       "      <td>090</td>\n",
       "      <td>090</td>\n",
       "      <td>050</td>\n",
       "    </tr>\n",
       "    <tr>\n",
       "      <th>T012</th>\n",
       "      <td>126S</td>\n",
       "      <td>1239E</td>\n",
       "      <td>075</td>\n",
       "      <td>R064</td>\n",
       "      <td>000</td>\n",
       "      <td>015</td>\n",
       "      <td>010</td>\n",
       "      <td>000</td>\n",
       "      <td>R050</td>\n",
       "      <td>010</td>\n",
       "      <td>030</td>\n",
       "      <td>025</td>\n",
       "      <td>015</td>\n",
       "      <td>R034</td>\n",
       "      <td>065</td>\n",
       "      <td>095</td>\n",
       "      <td>080</td>\n",
       "      <td>040</td>\n",
       "    </tr>\n",
       "    <tr>\n",
       "      <th>T024</th>\n",
       "      <td>134S</td>\n",
       "      <td>1230E</td>\n",
       "      <td>070</td>\n",
       "      <td>R064</td>\n",
       "      <td>000</td>\n",
       "      <td>020</td>\n",
       "      <td>015</td>\n",
       "      <td>000</td>\n",
       "      <td>R050</td>\n",
       "      <td>010</td>\n",
       "      <td>035</td>\n",
       "      <td>030</td>\n",
       "      <td>015</td>\n",
       "      <td>R034</td>\n",
       "      <td>045</td>\n",
       "      <td>085</td>\n",
       "      <td>065</td>\n",
       "      <td>030</td>\n",
       "    </tr>\n",
       "    <tr>\n",
       "      <th>T036</th>\n",
       "      <td>138S</td>\n",
       "      <td>1222E</td>\n",
       "      <td>050</td>\n",
       "      <td>R050</td>\n",
       "      <td>010</td>\n",
       "      <td>035</td>\n",
       "      <td>030</td>\n",
       "      <td>015</td>\n",
       "      <td>R034</td>\n",
       "      <td>045</td>\n",
       "      <td>085</td>\n",
       "      <td>065</td>\n",
       "      <td>030</td>\n",
       "      <td>None</td>\n",
       "      <td>None</td>\n",
       "      <td>None</td>\n",
       "      <td>None</td>\n",
       "      <td>None</td>\n",
       "    </tr>\n",
       "    <tr>\n",
       "      <th>T048</th>\n",
       "      <td>139S</td>\n",
       "      <td>1216E</td>\n",
       "      <td>040</td>\n",
       "      <td>R034</td>\n",
       "      <td>030</td>\n",
       "      <td>075</td>\n",
       "      <td>045</td>\n",
       "      <td>020</td>\n",
       "      <td>None</td>\n",
       "      <td>None</td>\n",
       "      <td>None</td>\n",
       "      <td>None</td>\n",
       "      <td>None</td>\n",
       "      <td>None</td>\n",
       "      <td>None</td>\n",
       "      <td>None</td>\n",
       "      <td>None</td>\n",
       "      <td>None</td>\n",
       "    </tr>\n",
       "  </tbody>\n",
       "</table>\n",
       "</div>"
      ],
      "text/plain": [
       "        0      1    2     3    4    5    6    7     8     9     10    11  \\\n",
       "0                                                                          \n",
       "T000  121S  1250E  070  R064  010  015  010  010  R050   025   030   025   \n",
       "T012  126S  1239E  075  R064  000  015  010  000  R050   010   030   025   \n",
       "T024  134S  1230E  070  R064  000  020  015  000  R050   010   035   030   \n",
       "T036  138S  1222E  050  R050  010  035  030  015  R034   045   085   065   \n",
       "T048  139S  1216E  040  R034  030  075  045  020  None  None  None  None   \n",
       "\n",
       "        12    13    14    15    16    17  \n",
       "0                                         \n",
       "T000   020  R034   060   090   090   050  \n",
       "T012   015  R034   065   095   080   040  \n",
       "T024   015  R034   045   085   065   030  \n",
       "T036   030  None  None  None  None  None  \n",
       "T048  None  None  None  None  None  None  "
      ]
     },
     "execution_count": 63,
     "metadata": {},
     "output_type": "execute_result"
    }
   ],
   "source": [
    "df.head()"
   ]
  },
  {
   "cell_type": "code",
   "execution_count": 64,
   "metadata": {
    "collapsed": false,
    "deletable": true,
    "editable": true
   },
   "outputs": [],
   "source": [
    "#move the values to appropiate place based on the wind radii in order to force [64,50,34].\n",
    "\n",
    "for i in range(df.shape[0]):\n",
    "    if df.iloc[i,3]=='R034' : \n",
    "        df.iloc[i,13:] = df.iloc[i,3:8].values\n",
    "        df.iloc[i,3:8] = None\n",
    "    elif df.iloc[i,3]=='R050' :\n",
    "        df.iloc[i,8:] = df.iloc[i,3:13].values\n",
    "        df.iloc[i,3:8] = None\n"
   ]
  },
  {
   "cell_type": "code",
   "execution_count": 65,
   "metadata": {
    "collapsed": false,
    "deletable": true,
    "editable": true
   },
   "outputs": [
    {
     "data": {
      "text/html": [
       "<div>\n",
       "<table border=\"1\" class=\"dataframe\">\n",
       "  <thead>\n",
       "    <tr style=\"text-align: right;\">\n",
       "      <th></th>\n",
       "      <th>0</th>\n",
       "      <th>1</th>\n",
       "      <th>2</th>\n",
       "      <th>3</th>\n",
       "      <th>4</th>\n",
       "      <th>5</th>\n",
       "      <th>6</th>\n",
       "      <th>7</th>\n",
       "      <th>8</th>\n",
       "      <th>9</th>\n",
       "      <th>10</th>\n",
       "      <th>11</th>\n",
       "      <th>12</th>\n",
       "      <th>13</th>\n",
       "      <th>14</th>\n",
       "      <th>15</th>\n",
       "      <th>16</th>\n",
       "      <th>17</th>\n",
       "    </tr>\n",
       "    <tr>\n",
       "      <th>0</th>\n",
       "      <th></th>\n",
       "      <th></th>\n",
       "      <th></th>\n",
       "      <th></th>\n",
       "      <th></th>\n",
       "      <th></th>\n",
       "      <th></th>\n",
       "      <th></th>\n",
       "      <th></th>\n",
       "      <th></th>\n",
       "      <th></th>\n",
       "      <th></th>\n",
       "      <th></th>\n",
       "      <th></th>\n",
       "      <th></th>\n",
       "      <th></th>\n",
       "      <th></th>\n",
       "      <th></th>\n",
       "    </tr>\n",
       "  </thead>\n",
       "  <tbody>\n",
       "    <tr>\n",
       "      <th>T000</th>\n",
       "      <td>121S</td>\n",
       "      <td>1250E</td>\n",
       "      <td>070</td>\n",
       "      <td>R064</td>\n",
       "      <td>010</td>\n",
       "      <td>015</td>\n",
       "      <td>010</td>\n",
       "      <td>010</td>\n",
       "      <td>R050</td>\n",
       "      <td>025</td>\n",
       "      <td>030</td>\n",
       "      <td>025</td>\n",
       "      <td>020</td>\n",
       "      <td>R034</td>\n",
       "      <td>060</td>\n",
       "      <td>090</td>\n",
       "      <td>090</td>\n",
       "      <td>050</td>\n",
       "    </tr>\n",
       "    <tr>\n",
       "      <th>T012</th>\n",
       "      <td>126S</td>\n",
       "      <td>1239E</td>\n",
       "      <td>075</td>\n",
       "      <td>R064</td>\n",
       "      <td>000</td>\n",
       "      <td>015</td>\n",
       "      <td>010</td>\n",
       "      <td>000</td>\n",
       "      <td>R050</td>\n",
       "      <td>010</td>\n",
       "      <td>030</td>\n",
       "      <td>025</td>\n",
       "      <td>015</td>\n",
       "      <td>R034</td>\n",
       "      <td>065</td>\n",
       "      <td>095</td>\n",
       "      <td>080</td>\n",
       "      <td>040</td>\n",
       "    </tr>\n",
       "    <tr>\n",
       "      <th>T024</th>\n",
       "      <td>134S</td>\n",
       "      <td>1230E</td>\n",
       "      <td>070</td>\n",
       "      <td>R064</td>\n",
       "      <td>000</td>\n",
       "      <td>020</td>\n",
       "      <td>015</td>\n",
       "      <td>000</td>\n",
       "      <td>R050</td>\n",
       "      <td>010</td>\n",
       "      <td>035</td>\n",
       "      <td>030</td>\n",
       "      <td>015</td>\n",
       "      <td>R034</td>\n",
       "      <td>045</td>\n",
       "      <td>085</td>\n",
       "      <td>065</td>\n",
       "      <td>030</td>\n",
       "    </tr>\n",
       "    <tr>\n",
       "      <th>T036</th>\n",
       "      <td>138S</td>\n",
       "      <td>1222E</td>\n",
       "      <td>050</td>\n",
       "      <td>None</td>\n",
       "      <td>None</td>\n",
       "      <td>None</td>\n",
       "      <td>None</td>\n",
       "      <td>None</td>\n",
       "      <td>R050</td>\n",
       "      <td>010</td>\n",
       "      <td>035</td>\n",
       "      <td>030</td>\n",
       "      <td>015</td>\n",
       "      <td>R034</td>\n",
       "      <td>045</td>\n",
       "      <td>085</td>\n",
       "      <td>065</td>\n",
       "      <td>030</td>\n",
       "    </tr>\n",
       "    <tr>\n",
       "      <th>T048</th>\n",
       "      <td>139S</td>\n",
       "      <td>1216E</td>\n",
       "      <td>040</td>\n",
       "      <td>None</td>\n",
       "      <td>None</td>\n",
       "      <td>None</td>\n",
       "      <td>None</td>\n",
       "      <td>None</td>\n",
       "      <td>None</td>\n",
       "      <td>None</td>\n",
       "      <td>None</td>\n",
       "      <td>None</td>\n",
       "      <td>None</td>\n",
       "      <td>R034</td>\n",
       "      <td>030</td>\n",
       "      <td>075</td>\n",
       "      <td>045</td>\n",
       "      <td>020</td>\n",
       "    </tr>\n",
       "  </tbody>\n",
       "</table>\n",
       "</div>"
      ],
      "text/plain": [
       "        0      1    2     3     4     5     6     7     8     9     10    11  \\\n",
       "0                                                                              \n",
       "T000  121S  1250E  070  R064   010   015   010   010  R050   025   030   025   \n",
       "T012  126S  1239E  075  R064   000   015   010   000  R050   010   030   025   \n",
       "T024  134S  1230E  070  R064   000   020   015   000  R050   010   035   030   \n",
       "T036  138S  1222E  050  None  None  None  None  None  R050   010   035   030   \n",
       "T048  139S  1216E  040  None  None  None  None  None  None  None  None  None   \n",
       "\n",
       "        12    13   14   15   16   17  \n",
       "0                                     \n",
       "T000   020  R034  060  090  090  050  \n",
       "T012   015  R034  065  095  080  040  \n",
       "T024   015  R034  045  085  065  030  \n",
       "T036   015  R034  045  085  065  030  \n",
       "T048  None  R034  030  075  045  020  "
      ]
     },
     "execution_count": 65,
     "metadata": {},
     "output_type": "execute_result"
    }
   ],
   "source": [
    "df #check"
   ]
  },
  {
   "cell_type": "code",
   "execution_count": 66,
   "metadata": {
    "collapsed": false,
    "deletable": true,
    "editable": true
   },
   "outputs": [],
   "source": [
    "df = df.drop(df.columns[[3,8,13]], axis=1) # drop text columns [R064,R050,R034]"
   ]
  },
  {
   "cell_type": "code",
   "execution_count": 67,
   "metadata": {
    "collapsed": false,
    "deletable": true,
    "editable": true
   },
   "outputs": [],
   "source": [
    "#set columns\n",
    "df.columns=['lat','lon','vmax','64ne','64se','64sw','64nw','50ne','50se','50sw','50nw','34ne','34se','34sw','34nw']"
   ]
  },
  {
   "cell_type": "code",
   "execution_count": 68,
   "metadata": {
    "collapsed": false,
    "deletable": true,
    "editable": true
   },
   "outputs": [
    {
     "data": {
      "text/html": [
       "<div>\n",
       "<table border=\"1\" class=\"dataframe\">\n",
       "  <thead>\n",
       "    <tr style=\"text-align: right;\">\n",
       "      <th></th>\n",
       "      <th>lat</th>\n",
       "      <th>lon</th>\n",
       "      <th>vmax</th>\n",
       "      <th>64ne</th>\n",
       "      <th>64se</th>\n",
       "      <th>64sw</th>\n",
       "      <th>64nw</th>\n",
       "      <th>50ne</th>\n",
       "      <th>50se</th>\n",
       "      <th>50sw</th>\n",
       "      <th>50nw</th>\n",
       "      <th>34ne</th>\n",
       "      <th>34se</th>\n",
       "      <th>34sw</th>\n",
       "      <th>34nw</th>\n",
       "    </tr>\n",
       "    <tr>\n",
       "      <th>0</th>\n",
       "      <th></th>\n",
       "      <th></th>\n",
       "      <th></th>\n",
       "      <th></th>\n",
       "      <th></th>\n",
       "      <th></th>\n",
       "      <th></th>\n",
       "      <th></th>\n",
       "      <th></th>\n",
       "      <th></th>\n",
       "      <th></th>\n",
       "      <th></th>\n",
       "      <th></th>\n",
       "      <th></th>\n",
       "      <th></th>\n",
       "    </tr>\n",
       "  </thead>\n",
       "  <tbody>\n",
       "    <tr>\n",
       "      <th>T000</th>\n",
       "      <td>121S</td>\n",
       "      <td>1250E</td>\n",
       "      <td>070</td>\n",
       "      <td>010</td>\n",
       "      <td>015</td>\n",
       "      <td>010</td>\n",
       "      <td>010</td>\n",
       "      <td>025</td>\n",
       "      <td>030</td>\n",
       "      <td>025</td>\n",
       "      <td>020</td>\n",
       "      <td>060</td>\n",
       "      <td>090</td>\n",
       "      <td>090</td>\n",
       "      <td>050</td>\n",
       "    </tr>\n",
       "    <tr>\n",
       "      <th>T012</th>\n",
       "      <td>126S</td>\n",
       "      <td>1239E</td>\n",
       "      <td>075</td>\n",
       "      <td>000</td>\n",
       "      <td>015</td>\n",
       "      <td>010</td>\n",
       "      <td>000</td>\n",
       "      <td>010</td>\n",
       "      <td>030</td>\n",
       "      <td>025</td>\n",
       "      <td>015</td>\n",
       "      <td>065</td>\n",
       "      <td>095</td>\n",
       "      <td>080</td>\n",
       "      <td>040</td>\n",
       "    </tr>\n",
       "    <tr>\n",
       "      <th>T024</th>\n",
       "      <td>134S</td>\n",
       "      <td>1230E</td>\n",
       "      <td>070</td>\n",
       "      <td>000</td>\n",
       "      <td>020</td>\n",
       "      <td>015</td>\n",
       "      <td>000</td>\n",
       "      <td>010</td>\n",
       "      <td>035</td>\n",
       "      <td>030</td>\n",
       "      <td>015</td>\n",
       "      <td>045</td>\n",
       "      <td>085</td>\n",
       "      <td>065</td>\n",
       "      <td>030</td>\n",
       "    </tr>\n",
       "    <tr>\n",
       "      <th>T036</th>\n",
       "      <td>138S</td>\n",
       "      <td>1222E</td>\n",
       "      <td>050</td>\n",
       "      <td>None</td>\n",
       "      <td>None</td>\n",
       "      <td>None</td>\n",
       "      <td>None</td>\n",
       "      <td>010</td>\n",
       "      <td>035</td>\n",
       "      <td>030</td>\n",
       "      <td>015</td>\n",
       "      <td>045</td>\n",
       "      <td>085</td>\n",
       "      <td>065</td>\n",
       "      <td>030</td>\n",
       "    </tr>\n",
       "    <tr>\n",
       "      <th>T048</th>\n",
       "      <td>139S</td>\n",
       "      <td>1216E</td>\n",
       "      <td>040</td>\n",
       "      <td>None</td>\n",
       "      <td>None</td>\n",
       "      <td>None</td>\n",
       "      <td>None</td>\n",
       "      <td>None</td>\n",
       "      <td>None</td>\n",
       "      <td>None</td>\n",
       "      <td>None</td>\n",
       "      <td>030</td>\n",
       "      <td>075</td>\n",
       "      <td>045</td>\n",
       "      <td>020</td>\n",
       "    </tr>\n",
       "  </tbody>\n",
       "</table>\n",
       "</div>"
      ],
      "text/plain": [
       "       lat    lon vmax  64ne  64se  64sw  64nw  50ne  50se  50sw  50nw 34ne  \\\n",
       "0                                                                             \n",
       "T000  121S  1250E  070   010   015   010   010   025   030   025   020  060   \n",
       "T012  126S  1239E  075   000   015   010   000   010   030   025   015  065   \n",
       "T024  134S  1230E  070   000   020   015   000   010   035   030   015  045   \n",
       "T036  138S  1222E  050  None  None  None  None   010   035   030   015  045   \n",
       "T048  139S  1216E  040  None  None  None  None  None  None  None  None  030   \n",
       "\n",
       "     34se 34sw 34nw  \n",
       "0                    \n",
       "T000  090  090  050  \n",
       "T012  095  080  040  \n",
       "T024  085  065  030  \n",
       "T036  085  065  030  \n",
       "T048  075  045  020  "
      ]
     },
     "execution_count": 68,
     "metadata": {},
     "output_type": "execute_result"
    }
   ],
   "source": [
    "df #check"
   ]
  },
  {
   "cell_type": "code",
   "execution_count": 69,
   "metadata": {
    "collapsed": false,
    "deletable": true,
    "editable": true
   },
   "outputs": [],
   "source": [
    "tidx = [np.float(elem[1:]) for elem in df.index.values] #convert time from string to float "
   ]
  },
  {
   "cell_type": "code",
   "execution_count": 70,
   "metadata": {
    "collapsed": true,
    "deletable": true,
    "editable": true
   },
   "outputs": [],
   "source": [
    "df.index=tidx # set float time as index"
   ]
  },
  {
   "cell_type": "code",
   "execution_count": 71,
   "metadata": {
    "collapsed": false,
    "deletable": true,
    "editable": true
   },
   "outputs": [
    {
     "data": {
      "text/html": [
       "<div>\n",
       "<table border=\"1\" class=\"dataframe\">\n",
       "  <thead>\n",
       "    <tr style=\"text-align: right;\">\n",
       "      <th></th>\n",
       "      <th>lat</th>\n",
       "      <th>lon</th>\n",
       "      <th>vmax</th>\n",
       "      <th>64ne</th>\n",
       "      <th>64se</th>\n",
       "      <th>64sw</th>\n",
       "      <th>64nw</th>\n",
       "      <th>50ne</th>\n",
       "      <th>50se</th>\n",
       "      <th>50sw</th>\n",
       "      <th>50nw</th>\n",
       "      <th>34ne</th>\n",
       "      <th>34se</th>\n",
       "      <th>34sw</th>\n",
       "      <th>34nw</th>\n",
       "    </tr>\n",
       "  </thead>\n",
       "  <tbody>\n",
       "    <tr>\n",
       "      <th>0.0</th>\n",
       "      <td>121S</td>\n",
       "      <td>1250E</td>\n",
       "      <td>070</td>\n",
       "      <td>010</td>\n",
       "      <td>015</td>\n",
       "      <td>010</td>\n",
       "      <td>010</td>\n",
       "      <td>025</td>\n",
       "      <td>030</td>\n",
       "      <td>025</td>\n",
       "      <td>020</td>\n",
       "      <td>060</td>\n",
       "      <td>090</td>\n",
       "      <td>090</td>\n",
       "      <td>050</td>\n",
       "    </tr>\n",
       "    <tr>\n",
       "      <th>12.0</th>\n",
       "      <td>126S</td>\n",
       "      <td>1239E</td>\n",
       "      <td>075</td>\n",
       "      <td>000</td>\n",
       "      <td>015</td>\n",
       "      <td>010</td>\n",
       "      <td>000</td>\n",
       "      <td>010</td>\n",
       "      <td>030</td>\n",
       "      <td>025</td>\n",
       "      <td>015</td>\n",
       "      <td>065</td>\n",
       "      <td>095</td>\n",
       "      <td>080</td>\n",
       "      <td>040</td>\n",
       "    </tr>\n",
       "    <tr>\n",
       "      <th>24.0</th>\n",
       "      <td>134S</td>\n",
       "      <td>1230E</td>\n",
       "      <td>070</td>\n",
       "      <td>000</td>\n",
       "      <td>020</td>\n",
       "      <td>015</td>\n",
       "      <td>000</td>\n",
       "      <td>010</td>\n",
       "      <td>035</td>\n",
       "      <td>030</td>\n",
       "      <td>015</td>\n",
       "      <td>045</td>\n",
       "      <td>085</td>\n",
       "      <td>065</td>\n",
       "      <td>030</td>\n",
       "    </tr>\n",
       "    <tr>\n",
       "      <th>36.0</th>\n",
       "      <td>138S</td>\n",
       "      <td>1222E</td>\n",
       "      <td>050</td>\n",
       "      <td>None</td>\n",
       "      <td>None</td>\n",
       "      <td>None</td>\n",
       "      <td>None</td>\n",
       "      <td>010</td>\n",
       "      <td>035</td>\n",
       "      <td>030</td>\n",
       "      <td>015</td>\n",
       "      <td>045</td>\n",
       "      <td>085</td>\n",
       "      <td>065</td>\n",
       "      <td>030</td>\n",
       "    </tr>\n",
       "    <tr>\n",
       "      <th>48.0</th>\n",
       "      <td>139S</td>\n",
       "      <td>1216E</td>\n",
       "      <td>040</td>\n",
       "      <td>None</td>\n",
       "      <td>None</td>\n",
       "      <td>None</td>\n",
       "      <td>None</td>\n",
       "      <td>None</td>\n",
       "      <td>None</td>\n",
       "      <td>None</td>\n",
       "      <td>None</td>\n",
       "      <td>030</td>\n",
       "      <td>075</td>\n",
       "      <td>045</td>\n",
       "      <td>020</td>\n",
       "    </tr>\n",
       "  </tbody>\n",
       "</table>\n",
       "</div>"
      ],
      "text/plain": [
       "       lat    lon vmax  64ne  64se  64sw  64nw  50ne  50se  50sw  50nw 34ne  \\\n",
       "0.0   121S  1250E  070   010   015   010   010   025   030   025   020  060   \n",
       "12.0  126S  1239E  075   000   015   010   000   010   030   025   015  065   \n",
       "24.0  134S  1230E  070   000   020   015   000   010   035   030   015  045   \n",
       "36.0  138S  1222E  050  None  None  None  None   010   035   030   015  045   \n",
       "48.0  139S  1216E  040  None  None  None  None  None  None  None  None  030   \n",
       "\n",
       "     34se 34sw 34nw  \n",
       "0.0   090  090  050  \n",
       "12.0  095  080  040  \n",
       "24.0  085  065  030  \n",
       "36.0  085  065  030  \n",
       "48.0  075  045  020  "
      ]
     },
     "execution_count": 71,
     "metadata": {},
     "output_type": "execute_result"
    }
   ],
   "source": [
    "df # check"
   ]
  },
  {
   "cell_type": "code",
   "execution_count": 72,
   "metadata": {
    "collapsed": false,
    "deletable": true,
    "editable": true
   },
   "outputs": [],
   "source": [
    "df = df.fillna(0) # replace None with zeros"
   ]
  },
  {
   "cell_type": "code",
   "execution_count": 73,
   "metadata": {
    "collapsed": false,
    "deletable": true,
    "editable": true
   },
   "outputs": [
    {
     "data": {
      "text/html": [
       "<div>\n",
       "<table border=\"1\" class=\"dataframe\">\n",
       "  <thead>\n",
       "    <tr style=\"text-align: right;\">\n",
       "      <th></th>\n",
       "      <th>lat</th>\n",
       "      <th>lon</th>\n",
       "      <th>vmax</th>\n",
       "      <th>64ne</th>\n",
       "      <th>64se</th>\n",
       "      <th>64sw</th>\n",
       "      <th>64nw</th>\n",
       "      <th>50ne</th>\n",
       "      <th>50se</th>\n",
       "      <th>50sw</th>\n",
       "      <th>50nw</th>\n",
       "      <th>34ne</th>\n",
       "      <th>34se</th>\n",
       "      <th>34sw</th>\n",
       "      <th>34nw</th>\n",
       "    </tr>\n",
       "  </thead>\n",
       "  <tbody>\n",
       "    <tr>\n",
       "      <th>0.0</th>\n",
       "      <td>121S</td>\n",
       "      <td>1250E</td>\n",
       "      <td>070</td>\n",
       "      <td>010</td>\n",
       "      <td>015</td>\n",
       "      <td>010</td>\n",
       "      <td>010</td>\n",
       "      <td>025</td>\n",
       "      <td>030</td>\n",
       "      <td>025</td>\n",
       "      <td>020</td>\n",
       "      <td>060</td>\n",
       "      <td>090</td>\n",
       "      <td>090</td>\n",
       "      <td>050</td>\n",
       "    </tr>\n",
       "    <tr>\n",
       "      <th>12.0</th>\n",
       "      <td>126S</td>\n",
       "      <td>1239E</td>\n",
       "      <td>075</td>\n",
       "      <td>000</td>\n",
       "      <td>015</td>\n",
       "      <td>010</td>\n",
       "      <td>000</td>\n",
       "      <td>010</td>\n",
       "      <td>030</td>\n",
       "      <td>025</td>\n",
       "      <td>015</td>\n",
       "      <td>065</td>\n",
       "      <td>095</td>\n",
       "      <td>080</td>\n",
       "      <td>040</td>\n",
       "    </tr>\n",
       "    <tr>\n",
       "      <th>24.0</th>\n",
       "      <td>134S</td>\n",
       "      <td>1230E</td>\n",
       "      <td>070</td>\n",
       "      <td>000</td>\n",
       "      <td>020</td>\n",
       "      <td>015</td>\n",
       "      <td>000</td>\n",
       "      <td>010</td>\n",
       "      <td>035</td>\n",
       "      <td>030</td>\n",
       "      <td>015</td>\n",
       "      <td>045</td>\n",
       "      <td>085</td>\n",
       "      <td>065</td>\n",
       "      <td>030</td>\n",
       "    </tr>\n",
       "    <tr>\n",
       "      <th>36.0</th>\n",
       "      <td>138S</td>\n",
       "      <td>1222E</td>\n",
       "      <td>050</td>\n",
       "      <td>0</td>\n",
       "      <td>0</td>\n",
       "      <td>0</td>\n",
       "      <td>0</td>\n",
       "      <td>010</td>\n",
       "      <td>035</td>\n",
       "      <td>030</td>\n",
       "      <td>015</td>\n",
       "      <td>045</td>\n",
       "      <td>085</td>\n",
       "      <td>065</td>\n",
       "      <td>030</td>\n",
       "    </tr>\n",
       "    <tr>\n",
       "      <th>48.0</th>\n",
       "      <td>139S</td>\n",
       "      <td>1216E</td>\n",
       "      <td>040</td>\n",
       "      <td>0</td>\n",
       "      <td>0</td>\n",
       "      <td>0</td>\n",
       "      <td>0</td>\n",
       "      <td>0</td>\n",
       "      <td>0</td>\n",
       "      <td>0</td>\n",
       "      <td>0</td>\n",
       "      <td>030</td>\n",
       "      <td>075</td>\n",
       "      <td>045</td>\n",
       "      <td>020</td>\n",
       "    </tr>\n",
       "  </tbody>\n",
       "</table>\n",
       "</div>"
      ],
      "text/plain": [
       "       lat    lon vmax 64ne 64se 64sw 64nw 50ne 50se 50sw 50nw 34ne 34se 34sw  \\\n",
       "0.0   121S  1250E  070  010  015  010  010  025  030  025  020  060  090  090   \n",
       "12.0  126S  1239E  075  000  015  010  000  010  030  025  015  065  095  080   \n",
       "24.0  134S  1230E  070  000  020  015  000  010  035  030  015  045  085  065   \n",
       "36.0  138S  1222E  050    0    0    0    0  010  035  030  015  045  085  065   \n",
       "48.0  139S  1216E  040    0    0    0    0    0    0    0    0  030  075  045   \n",
       "\n",
       "     34nw  \n",
       "0.0   050  \n",
       "12.0  040  \n",
       "24.0  030  \n",
       "36.0  030  \n",
       "48.0  020  "
      ]
     },
     "execution_count": 73,
     "metadata": {},
     "output_type": "execute_result"
    }
   ],
   "source": [
    "df #check"
   ]
  },
  {
   "cell_type": "code",
   "execution_count": 74,
   "metadata": {
    "collapsed": true,
    "deletable": true,
    "editable": true
   },
   "outputs": [],
   "source": [
    "#create lambda functions for converting the lat lon notation to float\n",
    "chlat = lambda x: '-'+x[:-1] if x[-1]=='S' else x[:-1]\n",
    "chlon = lambda x: '-'+x[:-1] if x[-1]=='W' else x[:-1]"
   ]
  },
  {
   "cell_type": "code",
   "execution_count": 75,
   "metadata": {
    "collapsed": false,
    "deletable": true,
    "editable": true
   },
   "outputs": [],
   "source": [
    "# convert lat,lon to -180,180\n",
    "df.lat = df.lat.map(chlat)\n",
    "df.lon = df.lon.map(chlon)"
   ]
  },
  {
   "cell_type": "code",
   "execution_count": 76,
   "metadata": {
    "collapsed": false,
    "deletable": true,
    "editable": true
   },
   "outputs": [
    {
     "data": {
      "text/html": [
       "<div>\n",
       "<table border=\"1\" class=\"dataframe\">\n",
       "  <thead>\n",
       "    <tr style=\"text-align: right;\">\n",
       "      <th></th>\n",
       "      <th>lat</th>\n",
       "      <th>lon</th>\n",
       "      <th>vmax</th>\n",
       "      <th>64ne</th>\n",
       "      <th>64se</th>\n",
       "      <th>64sw</th>\n",
       "      <th>64nw</th>\n",
       "      <th>50ne</th>\n",
       "      <th>50se</th>\n",
       "      <th>50sw</th>\n",
       "      <th>50nw</th>\n",
       "      <th>34ne</th>\n",
       "      <th>34se</th>\n",
       "      <th>34sw</th>\n",
       "      <th>34nw</th>\n",
       "    </tr>\n",
       "  </thead>\n",
       "  <tbody>\n",
       "    <tr>\n",
       "      <th>0.0</th>\n",
       "      <td>-121</td>\n",
       "      <td>1250</td>\n",
       "      <td>070</td>\n",
       "      <td>010</td>\n",
       "      <td>015</td>\n",
       "      <td>010</td>\n",
       "      <td>010</td>\n",
       "      <td>025</td>\n",
       "      <td>030</td>\n",
       "      <td>025</td>\n",
       "      <td>020</td>\n",
       "      <td>060</td>\n",
       "      <td>090</td>\n",
       "      <td>090</td>\n",
       "      <td>050</td>\n",
       "    </tr>\n",
       "    <tr>\n",
       "      <th>12.0</th>\n",
       "      <td>-126</td>\n",
       "      <td>1239</td>\n",
       "      <td>075</td>\n",
       "      <td>000</td>\n",
       "      <td>015</td>\n",
       "      <td>010</td>\n",
       "      <td>000</td>\n",
       "      <td>010</td>\n",
       "      <td>030</td>\n",
       "      <td>025</td>\n",
       "      <td>015</td>\n",
       "      <td>065</td>\n",
       "      <td>095</td>\n",
       "      <td>080</td>\n",
       "      <td>040</td>\n",
       "    </tr>\n",
       "    <tr>\n",
       "      <th>24.0</th>\n",
       "      <td>-134</td>\n",
       "      <td>1230</td>\n",
       "      <td>070</td>\n",
       "      <td>000</td>\n",
       "      <td>020</td>\n",
       "      <td>015</td>\n",
       "      <td>000</td>\n",
       "      <td>010</td>\n",
       "      <td>035</td>\n",
       "      <td>030</td>\n",
       "      <td>015</td>\n",
       "      <td>045</td>\n",
       "      <td>085</td>\n",
       "      <td>065</td>\n",
       "      <td>030</td>\n",
       "    </tr>\n",
       "    <tr>\n",
       "      <th>36.0</th>\n",
       "      <td>-138</td>\n",
       "      <td>1222</td>\n",
       "      <td>050</td>\n",
       "      <td>0</td>\n",
       "      <td>0</td>\n",
       "      <td>0</td>\n",
       "      <td>0</td>\n",
       "      <td>010</td>\n",
       "      <td>035</td>\n",
       "      <td>030</td>\n",
       "      <td>015</td>\n",
       "      <td>045</td>\n",
       "      <td>085</td>\n",
       "      <td>065</td>\n",
       "      <td>030</td>\n",
       "    </tr>\n",
       "    <tr>\n",
       "      <th>48.0</th>\n",
       "      <td>-139</td>\n",
       "      <td>1216</td>\n",
       "      <td>040</td>\n",
       "      <td>0</td>\n",
       "      <td>0</td>\n",
       "      <td>0</td>\n",
       "      <td>0</td>\n",
       "      <td>0</td>\n",
       "      <td>0</td>\n",
       "      <td>0</td>\n",
       "      <td>0</td>\n",
       "      <td>030</td>\n",
       "      <td>075</td>\n",
       "      <td>045</td>\n",
       "      <td>020</td>\n",
       "    </tr>\n",
       "  </tbody>\n",
       "</table>\n",
       "</div>"
      ],
      "text/plain": [
       "       lat   lon vmax 64ne 64se 64sw 64nw 50ne 50se 50sw 50nw 34ne 34se 34sw  \\\n",
       "0.0   -121  1250  070  010  015  010  010  025  030  025  020  060  090  090   \n",
       "12.0  -126  1239  075  000  015  010  000  010  030  025  015  065  095  080   \n",
       "24.0  -134  1230  070  000  020  015  000  010  035  030  015  045  085  065   \n",
       "36.0  -138  1222  050    0    0    0    0  010  035  030  015  045  085  065   \n",
       "48.0  -139  1216  040    0    0    0    0    0    0    0    0  030  075  045   \n",
       "\n",
       "     34nw  \n",
       "0.0   050  \n",
       "12.0  040  \n",
       "24.0  030  \n",
       "36.0  030  \n",
       "48.0  020  "
      ]
     },
     "execution_count": 76,
     "metadata": {},
     "output_type": "execute_result"
    }
   ],
   "source": [
    "df"
   ]
  },
  {
   "cell_type": "code",
   "execution_count": 77,
   "metadata": {
    "collapsed": false,
    "deletable": true,
    "editable": true
   },
   "outputs": [],
   "source": [
    "df[['lat','lon']] = df[['lat','lon']].apply(pd.to_numeric,downcast='float').divide(10) #convert to float and divide by 10"
   ]
  },
  {
   "cell_type": "code",
   "execution_count": 78,
   "metadata": {
    "collapsed": false,
    "deletable": true,
    "editable": true
   },
   "outputs": [],
   "source": [
    "df = df.apply(pd.to_numeric,downcast='float') #convert all values to float"
   ]
  },
  {
   "cell_type": "code",
   "execution_count": 79,
   "metadata": {
    "collapsed": false,
    "deletable": true,
    "editable": true
   },
   "outputs": [
    {
     "data": {
      "text/html": [
       "<div>\n",
       "<table border=\"1\" class=\"dataframe\">\n",
       "  <thead>\n",
       "    <tr style=\"text-align: right;\">\n",
       "      <th></th>\n",
       "      <th>lat</th>\n",
       "      <th>lon</th>\n",
       "      <th>vmax</th>\n",
       "      <th>64ne</th>\n",
       "      <th>64se</th>\n",
       "      <th>64sw</th>\n",
       "      <th>64nw</th>\n",
       "      <th>50ne</th>\n",
       "      <th>50se</th>\n",
       "      <th>50sw</th>\n",
       "      <th>50nw</th>\n",
       "      <th>34ne</th>\n",
       "      <th>34se</th>\n",
       "      <th>34sw</th>\n",
       "      <th>34nw</th>\n",
       "    </tr>\n",
       "  </thead>\n",
       "  <tbody>\n",
       "    <tr>\n",
       "      <th>0.0</th>\n",
       "      <td>-12.1</td>\n",
       "      <td>125.000000</td>\n",
       "      <td>70.0</td>\n",
       "      <td>10.0</td>\n",
       "      <td>15.0</td>\n",
       "      <td>10.0</td>\n",
       "      <td>10.0</td>\n",
       "      <td>25.0</td>\n",
       "      <td>30.0</td>\n",
       "      <td>25.0</td>\n",
       "      <td>20.0</td>\n",
       "      <td>60.0</td>\n",
       "      <td>90.0</td>\n",
       "      <td>90.0</td>\n",
       "      <td>50.0</td>\n",
       "    </tr>\n",
       "    <tr>\n",
       "      <th>12.0</th>\n",
       "      <td>-12.6</td>\n",
       "      <td>123.900002</td>\n",
       "      <td>75.0</td>\n",
       "      <td>0.0</td>\n",
       "      <td>15.0</td>\n",
       "      <td>10.0</td>\n",
       "      <td>0.0</td>\n",
       "      <td>10.0</td>\n",
       "      <td>30.0</td>\n",
       "      <td>25.0</td>\n",
       "      <td>15.0</td>\n",
       "      <td>65.0</td>\n",
       "      <td>95.0</td>\n",
       "      <td>80.0</td>\n",
       "      <td>40.0</td>\n",
       "    </tr>\n",
       "    <tr>\n",
       "      <th>24.0</th>\n",
       "      <td>-13.4</td>\n",
       "      <td>123.000000</td>\n",
       "      <td>70.0</td>\n",
       "      <td>0.0</td>\n",
       "      <td>20.0</td>\n",
       "      <td>15.0</td>\n",
       "      <td>0.0</td>\n",
       "      <td>10.0</td>\n",
       "      <td>35.0</td>\n",
       "      <td>30.0</td>\n",
       "      <td>15.0</td>\n",
       "      <td>45.0</td>\n",
       "      <td>85.0</td>\n",
       "      <td>65.0</td>\n",
       "      <td>30.0</td>\n",
       "    </tr>\n",
       "    <tr>\n",
       "      <th>36.0</th>\n",
       "      <td>-13.8</td>\n",
       "      <td>122.199997</td>\n",
       "      <td>50.0</td>\n",
       "      <td>0.0</td>\n",
       "      <td>0.0</td>\n",
       "      <td>0.0</td>\n",
       "      <td>0.0</td>\n",
       "      <td>10.0</td>\n",
       "      <td>35.0</td>\n",
       "      <td>30.0</td>\n",
       "      <td>15.0</td>\n",
       "      <td>45.0</td>\n",
       "      <td>85.0</td>\n",
       "      <td>65.0</td>\n",
       "      <td>30.0</td>\n",
       "    </tr>\n",
       "    <tr>\n",
       "      <th>48.0</th>\n",
       "      <td>-13.9</td>\n",
       "      <td>121.599998</td>\n",
       "      <td>40.0</td>\n",
       "      <td>0.0</td>\n",
       "      <td>0.0</td>\n",
       "      <td>0.0</td>\n",
       "      <td>0.0</td>\n",
       "      <td>0.0</td>\n",
       "      <td>0.0</td>\n",
       "      <td>0.0</td>\n",
       "      <td>0.0</td>\n",
       "      <td>30.0</td>\n",
       "      <td>75.0</td>\n",
       "      <td>45.0</td>\n",
       "      <td>20.0</td>\n",
       "    </tr>\n",
       "  </tbody>\n",
       "</table>\n",
       "</div>"
      ],
      "text/plain": [
       "       lat         lon  vmax  64ne  64se  64sw  64nw  50ne  50se  50sw  50nw  \\\n",
       "0.0  -12.1  125.000000  70.0  10.0  15.0  10.0  10.0  25.0  30.0  25.0  20.0   \n",
       "12.0 -12.6  123.900002  75.0   0.0  15.0  10.0   0.0  10.0  30.0  25.0  15.0   \n",
       "24.0 -13.4  123.000000  70.0   0.0  20.0  15.0   0.0  10.0  35.0  30.0  15.0   \n",
       "36.0 -13.8  122.199997  50.0   0.0   0.0   0.0   0.0  10.0  35.0  30.0  15.0   \n",
       "48.0 -13.9  121.599998  40.0   0.0   0.0   0.0   0.0   0.0   0.0   0.0   0.0   \n",
       "\n",
       "      34ne  34se  34sw  34nw  \n",
       "0.0   60.0  90.0  90.0  50.0  \n",
       "12.0  65.0  95.0  80.0  40.0  \n",
       "24.0  45.0  85.0  65.0  30.0  \n",
       "36.0  45.0  85.0  65.0  30.0  \n",
       "48.0  30.0  75.0  45.0  20.0  "
      ]
     },
     "execution_count": 79,
     "metadata": {},
     "output_type": "execute_result"
    }
   ],
   "source": [
    "df #check"
   ]
  },
  {
   "cell_type": "code",
   "execution_count": 80,
   "metadata": {
    "collapsed": true,
    "deletable": true,
    "editable": true
   },
   "outputs": [],
   "source": [
    "df.vmax = df.vmax * kt2ms # convert maximum wind speed to m/s"
   ]
  },
  {
   "cell_type": "code",
   "execution_count": 81,
   "metadata": {
    "collapsed": true,
    "deletable": true,
    "editable": true
   },
   "outputs": [],
   "source": [
    "df['notes']=0 ## add column notes for compatibility with operational"
   ]
  },
  {
   "cell_type": "code",
   "execution_count": 82,
   "metadata": {
    "collapsed": false,
    "deletable": true,
    "editable": true
   },
   "outputs": [
    {
     "data": {
      "text/html": [
       "<iframe src=\"data:text/html;base64,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\" width=\"100%\" height=\"240\"></iframe>"
      ],
      "text/plain": [
       "<IPython.core.display.HTML object>"
      ]
     },
     "execution_count": 82,
     "metadata": {},
     "output_type": "execute_result"
    }
   ],
   "source": [
    "#display track\n",
    "plt.plot(df.lon,df.lat,'o--')\n",
    "mplleaflet.display()"
   ]
  },
  {
   "cell_type": "markdown",
   "metadata": {
    "deletable": true,
    "editable": true
   },
   "source": [
    "## output inpData"
   ]
  },
  {
   "cell_type": "code",
   "execution_count": null,
   "metadata": {
    "collapsed": true,
    "deletable": true,
    "editable": true
   },
   "outputs": [],
   "source": [
    "column_order=['lat','lon','vmax','64ne','64se','64sw','64nw','50ne','50se','50sw','50nw','34ne','34se','34sw','34nw','notes']"
   ]
  },
  {
   "cell_type": "code",
   "execution_count": null,
   "metadata": {
    "collapsed": true,
    "deletable": true,
    "editable": true
   },
   "outputs": [],
   "source": [
    "header=['lat','long','vmax','64ne','64se','64sw','64nw','50ne','50se','50sw','50nw','34ne','34se','34sw','34nw','notes']"
   ]
  },
  {
   "cell_type": "code",
   "execution_count": null,
   "metadata": {
    "collapsed": false,
    "deletable": true,
    "editable": true
   },
   "outputs": [],
   "source": [
    "#df.to_csv('tmp/inpDataJTWC.txt',index=True, columns=column_order, sep='\\t', header=header)"
   ]
  },
  {
   "cell_type": "code",
   "execution_count": null,
   "metadata": {
    "collapsed": true,
    "deletable": true,
    "editable": true
   },
   "outputs": [],
   "source": []
  }
 ],
 "metadata": {
  "kernelspec": {
   "display_name": "Python 2",
   "language": "python",
   "name": "python2"
  },
  "language_info": {
   "codemirror_mode": {
    "name": "ipython",
    "version": 2
   },
   "file_extension": ".py",
   "mimetype": "text/x-python",
   "name": "python",
   "nbconvert_exporter": "python",
   "pygments_lexer": "ipython2",
   "version": "2.7.13"
  }
 },
 "nbformat": 4,
 "nbformat_minor": 2
}
