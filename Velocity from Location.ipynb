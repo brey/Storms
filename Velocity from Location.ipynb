{
 "cells": [
  {
   "cell_type": "markdown",
   "metadata": {},
   "source": [
    "## Computing velocity and acceleration of x,y data"
   ]
  },
  {
   "cell_type": "markdown",
   "metadata": {},
   "source": [
    "based on http://stackoverflow.com/questions/28269379/curve-curvature-in-numpy among other information."
   ]
  },
  {
   "cell_type": "code",
   "execution_count": 1,
   "metadata": {
    "collapsed": true
   },
   "outputs": [],
   "source": [
    "%matplotlib notebook"
   ]
  },
  {
   "cell_type": "code",
   "execution_count": 2,
   "metadata": {
    "collapsed": true
   },
   "outputs": [],
   "source": [
    "import numpy as np"
   ]
  },
  {
   "cell_type": "code",
   "execution_count": 3,
   "metadata": {
    "collapsed": true
   },
   "outputs": [],
   "source": [
    "import matplotlib.pyplot as plt"
   ]
  },
  {
   "cell_type": "code",
   "execution_count": 4,
   "metadata": {
    "collapsed": true
   },
   "outputs": [],
   "source": [
    "a = np.array([ [  0.  ,   0.  ],[  0.3 ,   0.  ],[  1.25,  -0.1 ],\n",
    "              [  2.1 ,  -0.9 ],[  2.85,  -2.3 ],[  3.8 ,  -3.95],\n",
    "              [  5.  ,  -5.75],[  6.4 ,  -7.8 ],[  8.05,  -9.9 ],\n",
    "              [  9.9 , -11.6 ],[ 12.05, -12.85],[ 14.25, -13.7 ],\n",
    "              [ 16.5 , -13.8 ],[ 19.25, -13.35],[ 21.3 , -12.2 ],\n",
    "              [ 22.8 , -10.5 ],[ 23.55,  -8.15],[ 22.95,  -6.1 ],\n",
    "              [ 21.35,  -3.95],[ 19.1 ,  -1.9 ]])"
   ]
  },
  {
   "cell_type": "code",
   "execution_count": 5,
   "metadata": {
    "collapsed": false
   },
   "outputs": [],
   "source": [
    "x=a[:, 0]\n",
    "y=a[:, 1]"
   ]
  },
  {
   "cell_type": "code",
   "execution_count": 6,
   "metadata": {
    "collapsed": true
   },
   "outputs": [],
   "source": [
    "dx_dt = np.gradient(a[:, 0])\n",
    "dy_dt = np.gradient(a[:, 1])\n",
    "velocity = np.array([ [dx_dt[i], dy_dt[i]] for i in range(dx_dt.size)])"
   ]
  },
  {
   "cell_type": "code",
   "execution_count": 7,
   "metadata": {
    "collapsed": true
   },
   "outputs": [],
   "source": [
    "velx=velocity[:,0]\n",
    "vely=velocity[:,1]"
   ]
  },
  {
   "cell_type": "code",
   "execution_count": 8,
   "metadata": {
    "collapsed": true
   },
   "outputs": [],
   "source": [
    "ds_dt = np.sqrt(dx_dt * dx_dt + dy_dt * dy_dt)"
   ]
  },
  {
   "cell_type": "code",
   "execution_count": 9,
   "metadata": {
    "collapsed": true
   },
   "outputs": [],
   "source": [
    "tangent = np.array([1/ds_dt] * 2).transpose() * velocity"
   ]
  },
  {
   "cell_type": "code",
   "execution_count": 10,
   "metadata": {
    "collapsed": false
   },
   "outputs": [
    {
     "data": {
      "text/plain": [
       "array([ 1.,  1.,  1.,  1.,  1.,  1.,  1.,  1.,  1.,  1.,  1.,  1.,  1.,\n",
       "        1.,  1.,  1.,  1.,  1.,  1.,  1.])"
      ]
     },
     "execution_count": 10,
     "metadata": {},
     "output_type": "execute_result"
    }
   ],
   "source": [
    "np.sqrt(tangent[:,0] * tangent[:,0] + tangent[:,1] * tangent[:,1])"
   ]
  },
  {
   "cell_type": "code",
   "execution_count": 11,
   "metadata": {
    "collapsed": false
   },
   "outputs": [],
   "source": [
    "tangent_x = tangent[:, 0]\n",
    "tangent_y = tangent[:, 1]\n",
    "\n",
    "deriv_tangent_x = np.gradient(tangent_x)\n",
    "deriv_tangent_y = np.gradient(tangent_y)\n",
    "\n",
    "dT_dt = np.array([ [deriv_tangent_x[i], deriv_tangent_y[i]] for i in range(deriv_tangent_x.size)])\n",
    "\n",
    "length_dT_dt = np.sqrt(deriv_tangent_x * deriv_tangent_x + deriv_tangent_y * deriv_tangent_y)\n",
    "\n",
    "normal = np.array([1/length_dT_dt] * 2).transpose() * dT_dt"
   ]
  },
  {
   "cell_type": "code",
   "execution_count": 12,
   "metadata": {
    "collapsed": true
   },
   "outputs": [],
   "source": [
    "d2s_dt2 = np.gradient(ds_dt)\n",
    "d2x_dt2 = np.gradient(dx_dt)\n",
    "d2y_dt2 = np.gradient(dy_dt)\n",
    "\n",
    "curvature = np.abs(d2x_dt2 * dy_dt - dx_dt * d2y_dt2) / (dx_dt * dx_dt + dy_dt * dy_dt)**1.5\n",
    "t_component = np.array([d2s_dt2] * 2).transpose()\n",
    "n_component = np.array([curvature * ds_dt * ds_dt] * 2).transpose()\n",
    "\n",
    "acceleration = t_component * tangent + n_component * normal"
   ]
  },
  {
   "cell_type": "code",
   "execution_count": 13,
   "metadata": {
    "collapsed": false
   },
   "outputs": [],
   "source": [
    "w=np.sqrt(velx**2+vely**2)"
   ]
  },
  {
   "cell_type": "code",
   "execution_count": 14,
   "metadata": {
    "collapsed": false
   },
   "outputs": [
    {
     "data": {
      "application/javascript": [
       "/* Put everything inside the global mpl namespace */\n",
       "window.mpl = {};\n",
       "\n",
       "mpl.get_websocket_type = function() {\n",
       "    if (typeof(WebSocket) !== 'undefined') {\n",
       "        return WebSocket;\n",
       "    } else if (typeof(MozWebSocket) !== 'undefined') {\n",
       "        return MozWebSocket;\n",
       "    } else {\n",
       "        alert('Your browser does not have WebSocket support.' +\n",
       "              'Please try Chrome, Safari or Firefox ≥ 6. ' +\n",
       "              'Firefox 4 and 5 are also supported but you ' +\n",
       "              'have to enable WebSockets in about:config.');\n",
       "    };\n",
       "}\n",
       "\n",
       "mpl.figure = function(figure_id, websocket, ondownload, parent_element) {\n",
       "    this.id = figure_id;\n",
       "\n",
       "    this.ws = websocket;\n",
       "\n",
       "    this.supports_binary = (this.ws.binaryType != undefined);\n",
       "\n",
       "    if (!this.supports_binary) {\n",
       "        var warnings = document.getElementById(\"mpl-warnings\");\n",
       "        if (warnings) {\n",
       "            warnings.style.display = 'block';\n",
       "            warnings.textContent = (\n",
       "                \"This browser does not support binary websocket messages. \" +\n",
       "                    \"Performance may be slow.\");\n",
       "        }\n",
       "    }\n",
       "\n",
       "    this.imageObj = new Image();\n",
       "\n",
       "    this.context = undefined;\n",
       "    this.message = undefined;\n",
       "    this.canvas = undefined;\n",
       "    this.rubberband_canvas = undefined;\n",
       "    this.rubberband_context = undefined;\n",
       "    this.format_dropdown = undefined;\n",
       "\n",
       "    this.image_mode = 'full';\n",
       "\n",
       "    this.root = $('<div/>');\n",
       "    this._root_extra_style(this.root)\n",
       "    this.root.attr('style', 'display: inline-block');\n",
       "\n",
       "    $(parent_element).append(this.root);\n",
       "\n",
       "    this._init_header(this);\n",
       "    this._init_canvas(this);\n",
       "    this._init_toolbar(this);\n",
       "\n",
       "    var fig = this;\n",
       "\n",
       "    this.waiting = false;\n",
       "\n",
       "    this.ws.onopen =  function () {\n",
       "            fig.send_message(\"supports_binary\", {value: fig.supports_binary});\n",
       "            fig.send_message(\"send_image_mode\", {});\n",
       "            fig.send_message(\"refresh\", {});\n",
       "        }\n",
       "\n",
       "    this.imageObj.onload = function() {\n",
       "            if (fig.image_mode == 'full') {\n",
       "                // Full images could contain transparency (where diff images\n",
       "                // almost always do), so we need to clear the canvas so that\n",
       "                // there is no ghosting.\n",
       "                fig.context.clearRect(0, 0, fig.canvas.width, fig.canvas.height);\n",
       "            }\n",
       "            fig.context.drawImage(fig.imageObj, 0, 0);\n",
       "        };\n",
       "\n",
       "    this.imageObj.onunload = function() {\n",
       "        this.ws.close();\n",
       "    }\n",
       "\n",
       "    this.ws.onmessage = this._make_on_message_function(this);\n",
       "\n",
       "    this.ondownload = ondownload;\n",
       "}\n",
       "\n",
       "mpl.figure.prototype._init_header = function() {\n",
       "    var titlebar = $(\n",
       "        '<div class=\"ui-dialog-titlebar ui-widget-header ui-corner-all ' +\n",
       "        'ui-helper-clearfix\"/>');\n",
       "    var titletext = $(\n",
       "        '<div class=\"ui-dialog-title\" style=\"width: 100%; ' +\n",
       "        'text-align: center; padding: 3px;\"/>');\n",
       "    titlebar.append(titletext)\n",
       "    this.root.append(titlebar);\n",
       "    this.header = titletext[0];\n",
       "}\n",
       "\n",
       "\n",
       "\n",
       "mpl.figure.prototype._canvas_extra_style = function(canvas_div) {\n",
       "\n",
       "}\n",
       "\n",
       "\n",
       "mpl.figure.prototype._root_extra_style = function(canvas_div) {\n",
       "\n",
       "}\n",
       "\n",
       "mpl.figure.prototype._init_canvas = function() {\n",
       "    var fig = this;\n",
       "\n",
       "    var canvas_div = $('<div/>');\n",
       "\n",
       "    canvas_div.attr('style', 'position: relative; clear: both; outline: 0');\n",
       "\n",
       "    function canvas_keyboard_event(event) {\n",
       "        return fig.key_event(event, event['data']);\n",
       "    }\n",
       "\n",
       "    canvas_div.keydown('key_press', canvas_keyboard_event);\n",
       "    canvas_div.keyup('key_release', canvas_keyboard_event);\n",
       "    this.canvas_div = canvas_div\n",
       "    this._canvas_extra_style(canvas_div)\n",
       "    this.root.append(canvas_div);\n",
       "\n",
       "    var canvas = $('<canvas/>');\n",
       "    canvas.addClass('mpl-canvas');\n",
       "    canvas.attr('style', \"left: 0; top: 0; z-index: 0; outline: 0\")\n",
       "\n",
       "    this.canvas = canvas[0];\n",
       "    this.context = canvas[0].getContext(\"2d\");\n",
       "\n",
       "    var rubberband = $('<canvas/>');\n",
       "    rubberband.attr('style', \"position: absolute; left: 0; top: 0; z-index: 1;\")\n",
       "\n",
       "    var pass_mouse_events = true;\n",
       "\n",
       "    canvas_div.resizable({\n",
       "        start: function(event, ui) {\n",
       "            pass_mouse_events = false;\n",
       "        },\n",
       "        resize: function(event, ui) {\n",
       "            fig.request_resize(ui.size.width, ui.size.height);\n",
       "        },\n",
       "        stop: function(event, ui) {\n",
       "            pass_mouse_events = true;\n",
       "            fig.request_resize(ui.size.width, ui.size.height);\n",
       "        },\n",
       "    });\n",
       "\n",
       "    function mouse_event_fn(event) {\n",
       "        if (pass_mouse_events)\n",
       "            return fig.mouse_event(event, event['data']);\n",
       "    }\n",
       "\n",
       "    rubberband.mousedown('button_press', mouse_event_fn);\n",
       "    rubberband.mouseup('button_release', mouse_event_fn);\n",
       "    // Throttle sequential mouse events to 1 every 20ms.\n",
       "    rubberband.mousemove('motion_notify', mouse_event_fn);\n",
       "\n",
       "    rubberband.mouseenter('figure_enter', mouse_event_fn);\n",
       "    rubberband.mouseleave('figure_leave', mouse_event_fn);\n",
       "\n",
       "    canvas_div.on(\"wheel\", function (event) {\n",
       "        event = event.originalEvent;\n",
       "        event['data'] = 'scroll'\n",
       "        if (event.deltaY < 0) {\n",
       "            event.step = 1;\n",
       "        } else {\n",
       "            event.step = -1;\n",
       "        }\n",
       "        mouse_event_fn(event);\n",
       "    });\n",
       "\n",
       "    canvas_div.append(canvas);\n",
       "    canvas_div.append(rubberband);\n",
       "\n",
       "    this.rubberband = rubberband;\n",
       "    this.rubberband_canvas = rubberband[0];\n",
       "    this.rubberband_context = rubberband[0].getContext(\"2d\");\n",
       "    this.rubberband_context.strokeStyle = \"#000000\";\n",
       "\n",
       "    this._resize_canvas = function(width, height) {\n",
       "        // Keep the size of the canvas, canvas container, and rubber band\n",
       "        // canvas in synch.\n",
       "        canvas_div.css('width', width)\n",
       "        canvas_div.css('height', height)\n",
       "\n",
       "        canvas.attr('width', width);\n",
       "        canvas.attr('height', height);\n",
       "\n",
       "        rubberband.attr('width', width);\n",
       "        rubberband.attr('height', height);\n",
       "    }\n",
       "\n",
       "    // Set the figure to an initial 600x600px, this will subsequently be updated\n",
       "    // upon first draw.\n",
       "    this._resize_canvas(600, 600);\n",
       "\n",
       "    // Disable right mouse context menu.\n",
       "    $(this.rubberband_canvas).bind(\"contextmenu\",function(e){\n",
       "        return false;\n",
       "    });\n",
       "\n",
       "    function set_focus () {\n",
       "        canvas.focus();\n",
       "        canvas_div.focus();\n",
       "    }\n",
       "\n",
       "    window.setTimeout(set_focus, 100);\n",
       "}\n",
       "\n",
       "mpl.figure.prototype._init_toolbar = function() {\n",
       "    var fig = this;\n",
       "\n",
       "    var nav_element = $('<div/>')\n",
       "    nav_element.attr('style', 'width: 100%');\n",
       "    this.root.append(nav_element);\n",
       "\n",
       "    // Define a callback function for later on.\n",
       "    function toolbar_event(event) {\n",
       "        return fig.toolbar_button_onclick(event['data']);\n",
       "    }\n",
       "    function toolbar_mouse_event(event) {\n",
       "        return fig.toolbar_button_onmouseover(event['data']);\n",
       "    }\n",
       "\n",
       "    for(var toolbar_ind in mpl.toolbar_items) {\n",
       "        var name = mpl.toolbar_items[toolbar_ind][0];\n",
       "        var tooltip = mpl.toolbar_items[toolbar_ind][1];\n",
       "        var image = mpl.toolbar_items[toolbar_ind][2];\n",
       "        var method_name = mpl.toolbar_items[toolbar_ind][3];\n",
       "\n",
       "        if (!name) {\n",
       "            // put a spacer in here.\n",
       "            continue;\n",
       "        }\n",
       "        var button = $('<button/>');\n",
       "        button.addClass('ui-button ui-widget ui-state-default ui-corner-all ' +\n",
       "                        'ui-button-icon-only');\n",
       "        button.attr('role', 'button');\n",
       "        button.attr('aria-disabled', 'false');\n",
       "        button.click(method_name, toolbar_event);\n",
       "        button.mouseover(tooltip, toolbar_mouse_event);\n",
       "\n",
       "        var icon_img = $('<span/>');\n",
       "        icon_img.addClass('ui-button-icon-primary ui-icon');\n",
       "        icon_img.addClass(image);\n",
       "        icon_img.addClass('ui-corner-all');\n",
       "\n",
       "        var tooltip_span = $('<span/>');\n",
       "        tooltip_span.addClass('ui-button-text');\n",
       "        tooltip_span.html(tooltip);\n",
       "\n",
       "        button.append(icon_img);\n",
       "        button.append(tooltip_span);\n",
       "\n",
       "        nav_element.append(button);\n",
       "    }\n",
       "\n",
       "    var fmt_picker_span = $('<span/>');\n",
       "\n",
       "    var fmt_picker = $('<select/>');\n",
       "    fmt_picker.addClass('mpl-toolbar-option ui-widget ui-widget-content');\n",
       "    fmt_picker_span.append(fmt_picker);\n",
       "    nav_element.append(fmt_picker_span);\n",
       "    this.format_dropdown = fmt_picker[0];\n",
       "\n",
       "    for (var ind in mpl.extensions) {\n",
       "        var fmt = mpl.extensions[ind];\n",
       "        var option = $(\n",
       "            '<option/>', {selected: fmt === mpl.default_extension}).html(fmt);\n",
       "        fmt_picker.append(option)\n",
       "    }\n",
       "\n",
       "    // Add hover states to the ui-buttons\n",
       "    $( \".ui-button\" ).hover(\n",
       "        function() { $(this).addClass(\"ui-state-hover\");},\n",
       "        function() { $(this).removeClass(\"ui-state-hover\");}\n",
       "    );\n",
       "\n",
       "    var status_bar = $('<span class=\"mpl-message\"/>');\n",
       "    nav_element.append(status_bar);\n",
       "    this.message = status_bar[0];\n",
       "}\n",
       "\n",
       "mpl.figure.prototype.request_resize = function(x_pixels, y_pixels) {\n",
       "    // Request matplotlib to resize the figure. Matplotlib will then trigger a resize in the client,\n",
       "    // which will in turn request a refresh of the image.\n",
       "    this.send_message('resize', {'width': x_pixels, 'height': y_pixels});\n",
       "}\n",
       "\n",
       "mpl.figure.prototype.send_message = function(type, properties) {\n",
       "    properties['type'] = type;\n",
       "    properties['figure_id'] = this.id;\n",
       "    this.ws.send(JSON.stringify(properties));\n",
       "}\n",
       "\n",
       "mpl.figure.prototype.send_draw_message = function() {\n",
       "    if (!this.waiting) {\n",
       "        this.waiting = true;\n",
       "        this.ws.send(JSON.stringify({type: \"draw\", figure_id: this.id}));\n",
       "    }\n",
       "}\n",
       "\n",
       "\n",
       "mpl.figure.prototype.handle_save = function(fig, msg) {\n",
       "    var format_dropdown = fig.format_dropdown;\n",
       "    var format = format_dropdown.options[format_dropdown.selectedIndex].value;\n",
       "    fig.ondownload(fig, format);\n",
       "}\n",
       "\n",
       "\n",
       "mpl.figure.prototype.handle_resize = function(fig, msg) {\n",
       "    var size = msg['size'];\n",
       "    if (size[0] != fig.canvas.width || size[1] != fig.canvas.height) {\n",
       "        fig._resize_canvas(size[0], size[1]);\n",
       "        fig.send_message(\"refresh\", {});\n",
       "    };\n",
       "}\n",
       "\n",
       "mpl.figure.prototype.handle_rubberband = function(fig, msg) {\n",
       "    var x0 = msg['x0'];\n",
       "    var y0 = fig.canvas.height - msg['y0'];\n",
       "    var x1 = msg['x1'];\n",
       "    var y1 = fig.canvas.height - msg['y1'];\n",
       "    x0 = Math.floor(x0) + 0.5;\n",
       "    y0 = Math.floor(y0) + 0.5;\n",
       "    x1 = Math.floor(x1) + 0.5;\n",
       "    y1 = Math.floor(y1) + 0.5;\n",
       "    var min_x = Math.min(x0, x1);\n",
       "    var min_y = Math.min(y0, y1);\n",
       "    var width = Math.abs(x1 - x0);\n",
       "    var height = Math.abs(y1 - y0);\n",
       "\n",
       "    fig.rubberband_context.clearRect(\n",
       "        0, 0, fig.canvas.width, fig.canvas.height);\n",
       "\n",
       "    fig.rubberband_context.strokeRect(min_x, min_y, width, height);\n",
       "}\n",
       "\n",
       "mpl.figure.prototype.handle_figure_label = function(fig, msg) {\n",
       "    // Updates the figure title.\n",
       "    fig.header.textContent = msg['label'];\n",
       "}\n",
       "\n",
       "mpl.figure.prototype.handle_cursor = function(fig, msg) {\n",
       "    var cursor = msg['cursor'];\n",
       "    switch(cursor)\n",
       "    {\n",
       "    case 0:\n",
       "        cursor = 'pointer';\n",
       "        break;\n",
       "    case 1:\n",
       "        cursor = 'default';\n",
       "        break;\n",
       "    case 2:\n",
       "        cursor = 'crosshair';\n",
       "        break;\n",
       "    case 3:\n",
       "        cursor = 'move';\n",
       "        break;\n",
       "    }\n",
       "    fig.rubberband_canvas.style.cursor = cursor;\n",
       "}\n",
       "\n",
       "mpl.figure.prototype.handle_message = function(fig, msg) {\n",
       "    fig.message.textContent = msg['message'];\n",
       "}\n",
       "\n",
       "mpl.figure.prototype.handle_draw = function(fig, msg) {\n",
       "    // Request the server to send over a new figure.\n",
       "    fig.send_draw_message();\n",
       "}\n",
       "\n",
       "mpl.figure.prototype.handle_image_mode = function(fig, msg) {\n",
       "    fig.image_mode = msg['mode'];\n",
       "}\n",
       "\n",
       "mpl.figure.prototype.updated_canvas_event = function() {\n",
       "    // Called whenever the canvas gets updated.\n",
       "    this.send_message(\"ack\", {});\n",
       "}\n",
       "\n",
       "// A function to construct a web socket function for onmessage handling.\n",
       "// Called in the figure constructor.\n",
       "mpl.figure.prototype._make_on_message_function = function(fig) {\n",
       "    return function socket_on_message(evt) {\n",
       "        if (evt.data instanceof Blob) {\n",
       "            /* FIXME: We get \"Resource interpreted as Image but\n",
       "             * transferred with MIME type text/plain:\" errors on\n",
       "             * Chrome.  But how to set the MIME type?  It doesn't seem\n",
       "             * to be part of the websocket stream */\n",
       "            evt.data.type = \"image/png\";\n",
       "\n",
       "            /* Free the memory for the previous frames */\n",
       "            if (fig.imageObj.src) {\n",
       "                (window.URL || window.webkitURL).revokeObjectURL(\n",
       "                    fig.imageObj.src);\n",
       "            }\n",
       "\n",
       "            fig.imageObj.src = (window.URL || window.webkitURL).createObjectURL(\n",
       "                evt.data);\n",
       "            fig.updated_canvas_event();\n",
       "            fig.waiting = false;\n",
       "            return;\n",
       "        }\n",
       "        else if (typeof evt.data === 'string' && evt.data.slice(0, 21) == \"data:image/png;base64\") {\n",
       "            fig.imageObj.src = evt.data;\n",
       "            fig.updated_canvas_event();\n",
       "            fig.waiting = false;\n",
       "            return;\n",
       "        }\n",
       "\n",
       "        var msg = JSON.parse(evt.data);\n",
       "        var msg_type = msg['type'];\n",
       "\n",
       "        // Call the  \"handle_{type}\" callback, which takes\n",
       "        // the figure and JSON message as its only arguments.\n",
       "        try {\n",
       "            var callback = fig[\"handle_\" + msg_type];\n",
       "        } catch (e) {\n",
       "            console.log(\"No handler for the '\" + msg_type + \"' message type: \", msg);\n",
       "            return;\n",
       "        }\n",
       "\n",
       "        if (callback) {\n",
       "            try {\n",
       "                // console.log(\"Handling '\" + msg_type + \"' message: \", msg);\n",
       "                callback(fig, msg);\n",
       "            } catch (e) {\n",
       "                console.log(\"Exception inside the 'handler_\" + msg_type + \"' callback:\", e, e.stack, msg);\n",
       "            }\n",
       "        }\n",
       "    };\n",
       "}\n",
       "\n",
       "// from http://stackoverflow.com/questions/1114465/getting-mouse-location-in-canvas\n",
       "mpl.findpos = function(e) {\n",
       "    //this section is from http://www.quirksmode.org/js/events_properties.html\n",
       "    var targ;\n",
       "    if (!e)\n",
       "        e = window.event;\n",
       "    if (e.target)\n",
       "        targ = e.target;\n",
       "    else if (e.srcElement)\n",
       "        targ = e.srcElement;\n",
       "    if (targ.nodeType == 3) // defeat Safari bug\n",
       "        targ = targ.parentNode;\n",
       "\n",
       "    // jQuery normalizes the pageX and pageY\n",
       "    // pageX,Y are the mouse positions relative to the document\n",
       "    // offset() returns the position of the element relative to the document\n",
       "    var x = e.pageX - $(targ).offset().left;\n",
       "    var y = e.pageY - $(targ).offset().top;\n",
       "\n",
       "    return {\"x\": x, \"y\": y};\n",
       "};\n",
       "\n",
       "/*\n",
       " * return a copy of an object with only non-object keys\n",
       " * we need this to avoid circular references\n",
       " * http://stackoverflow.com/a/24161582/3208463\n",
       " */\n",
       "function simpleKeys (original) {\n",
       "  return Object.keys(original).reduce(function (obj, key) {\n",
       "    if (typeof original[key] !== 'object')\n",
       "        obj[key] = original[key]\n",
       "    return obj;\n",
       "  }, {});\n",
       "}\n",
       "\n",
       "mpl.figure.prototype.mouse_event = function(event, name) {\n",
       "    var canvas_pos = mpl.findpos(event)\n",
       "\n",
       "    if (name === 'button_press')\n",
       "    {\n",
       "        this.canvas.focus();\n",
       "        this.canvas_div.focus();\n",
       "    }\n",
       "\n",
       "    var x = canvas_pos.x;\n",
       "    var y = canvas_pos.y;\n",
       "\n",
       "    this.send_message(name, {x: x, y: y, button: event.button,\n",
       "                             step: event.step,\n",
       "                             guiEvent: simpleKeys(event)});\n",
       "\n",
       "    /* This prevents the web browser from automatically changing to\n",
       "     * the text insertion cursor when the button is pressed.  We want\n",
       "     * to control all of the cursor setting manually through the\n",
       "     * 'cursor' event from matplotlib */\n",
       "    event.preventDefault();\n",
       "    return false;\n",
       "}\n",
       "\n",
       "mpl.figure.prototype._key_event_extra = function(event, name) {\n",
       "    // Handle any extra behaviour associated with a key event\n",
       "}\n",
       "\n",
       "mpl.figure.prototype.key_event = function(event, name) {\n",
       "\n",
       "    // Prevent repeat events\n",
       "    if (name == 'key_press')\n",
       "    {\n",
       "        if (event.which === this._key)\n",
       "            return;\n",
       "        else\n",
       "            this._key = event.which;\n",
       "    }\n",
       "    if (name == 'key_release')\n",
       "        this._key = null;\n",
       "\n",
       "    var value = '';\n",
       "    if (event.ctrlKey && event.which != 17)\n",
       "        value += \"ctrl+\";\n",
       "    if (event.altKey && event.which != 18)\n",
       "        value += \"alt+\";\n",
       "    if (event.shiftKey && event.which != 16)\n",
       "        value += \"shift+\";\n",
       "\n",
       "    value += 'k';\n",
       "    value += event.which.toString();\n",
       "\n",
       "    this._key_event_extra(event, name);\n",
       "\n",
       "    this.send_message(name, {key: value,\n",
       "                             guiEvent: simpleKeys(event)});\n",
       "    return false;\n",
       "}\n",
       "\n",
       "mpl.figure.prototype.toolbar_button_onclick = function(name) {\n",
       "    if (name == 'download') {\n",
       "        this.handle_save(this, null);\n",
       "    } else {\n",
       "        this.send_message(\"toolbar_button\", {name: name});\n",
       "    }\n",
       "};\n",
       "\n",
       "mpl.figure.prototype.toolbar_button_onmouseover = function(tooltip) {\n",
       "    this.message.textContent = tooltip;\n",
       "};\n",
       "mpl.toolbar_items = [[\"Home\", \"Reset original view\", \"fa fa-home icon-home\", \"home\"], [\"Back\", \"Back to  previous view\", \"fa fa-arrow-left icon-arrow-left\", \"back\"], [\"Forward\", \"Forward to next view\", \"fa fa-arrow-right icon-arrow-right\", \"forward\"], [\"\", \"\", \"\", \"\"], [\"Pan\", \"Pan axes with left mouse, zoom with right\", \"fa fa-arrows icon-move\", \"pan\"], [\"Zoom\", \"Zoom to rectangle\", \"fa fa-square-o icon-check-empty\", \"zoom\"], [\"\", \"\", \"\", \"\"], [\"Download\", \"Download plot\", \"fa fa-floppy-o icon-save\", \"download\"]];\n",
       "\n",
       "mpl.extensions = [\"eps\", \"pdf\", \"png\", \"ps\", \"raw\", \"svg\"];\n",
       "\n",
       "mpl.default_extension = \"png\";var comm_websocket_adapter = function(comm) {\n",
       "    // Create a \"websocket\"-like object which calls the given IPython comm\n",
       "    // object with the appropriate methods. Currently this is a non binary\n",
       "    // socket, so there is still some room for performance tuning.\n",
       "    var ws = {};\n",
       "\n",
       "    ws.close = function() {\n",
       "        comm.close()\n",
       "    };\n",
       "    ws.send = function(m) {\n",
       "        //console.log('sending', m);\n",
       "        comm.send(m);\n",
       "    };\n",
       "    // Register the callback with on_msg.\n",
       "    comm.on_msg(function(msg) {\n",
       "        //console.log('receiving', msg['content']['data'], msg);\n",
       "        // Pass the mpl event to the overriden (by mpl) onmessage function.\n",
       "        ws.onmessage(msg['content']['data'])\n",
       "    });\n",
       "    return ws;\n",
       "}\n",
       "\n",
       "mpl.mpl_figure_comm = function(comm, msg) {\n",
       "    // This is the function which gets called when the mpl process\n",
       "    // starts-up an IPython Comm through the \"matplotlib\" channel.\n",
       "\n",
       "    var id = msg.content.data.id;\n",
       "    // Get hold of the div created by the display call when the Comm\n",
       "    // socket was opened in Python.\n",
       "    var element = $(\"#\" + id);\n",
       "    var ws_proxy = comm_websocket_adapter(comm)\n",
       "\n",
       "    function ondownload(figure, format) {\n",
       "        window.open(figure.imageObj.src);\n",
       "    }\n",
       "\n",
       "    var fig = new mpl.figure(id, ws_proxy,\n",
       "                           ondownload,\n",
       "                           element.get(0));\n",
       "\n",
       "    // Call onopen now - mpl needs it, as it is assuming we've passed it a real\n",
       "    // web socket which is closed, not our websocket->open comm proxy.\n",
       "    ws_proxy.onopen();\n",
       "\n",
       "    fig.parent_element = element.get(0);\n",
       "    fig.cell_info = mpl.find_output_cell(\"<div id='\" + id + \"'></div>\");\n",
       "    if (!fig.cell_info) {\n",
       "        console.error(\"Failed to find cell for figure\", id, fig);\n",
       "        return;\n",
       "    }\n",
       "\n",
       "    var output_index = fig.cell_info[2]\n",
       "    var cell = fig.cell_info[0];\n",
       "\n",
       "};\n",
       "\n",
       "mpl.figure.prototype.handle_close = function(fig, msg) {\n",
       "    fig.root.unbind('remove')\n",
       "\n",
       "    // Update the output cell to use the data from the current canvas.\n",
       "    fig.push_to_output();\n",
       "    var dataURL = fig.canvas.toDataURL();\n",
       "    // Re-enable the keyboard manager in IPython - without this line, in FF,\n",
       "    // the notebook keyboard shortcuts fail.\n",
       "    IPython.keyboard_manager.enable()\n",
       "    $(fig.parent_element).html('<img src=\"' + dataURL + '\">');\n",
       "    fig.close_ws(fig, msg);\n",
       "}\n",
       "\n",
       "mpl.figure.prototype.close_ws = function(fig, msg){\n",
       "    fig.send_message('closing', msg);\n",
       "    // fig.ws.close()\n",
       "}\n",
       "\n",
       "mpl.figure.prototype.push_to_output = function(remove_interactive) {\n",
       "    // Turn the data on the canvas into data in the output cell.\n",
       "    var dataURL = this.canvas.toDataURL();\n",
       "    this.cell_info[1]['text/html'] = '<img src=\"' + dataURL + '\">';\n",
       "}\n",
       "\n",
       "mpl.figure.prototype.updated_canvas_event = function() {\n",
       "    // Tell IPython that the notebook contents must change.\n",
       "    IPython.notebook.set_dirty(true);\n",
       "    this.send_message(\"ack\", {});\n",
       "    var fig = this;\n",
       "    // Wait a second, then push the new image to the DOM so\n",
       "    // that it is saved nicely (might be nice to debounce this).\n",
       "    setTimeout(function () { fig.push_to_output() }, 1000);\n",
       "}\n",
       "\n",
       "mpl.figure.prototype._init_toolbar = function() {\n",
       "    var fig = this;\n",
       "\n",
       "    var nav_element = $('<div/>')\n",
       "    nav_element.attr('style', 'width: 100%');\n",
       "    this.root.append(nav_element);\n",
       "\n",
       "    // Define a callback function for later on.\n",
       "    function toolbar_event(event) {\n",
       "        return fig.toolbar_button_onclick(event['data']);\n",
       "    }\n",
       "    function toolbar_mouse_event(event) {\n",
       "        return fig.toolbar_button_onmouseover(event['data']);\n",
       "    }\n",
       "\n",
       "    for(var toolbar_ind in mpl.toolbar_items){\n",
       "        var name = mpl.toolbar_items[toolbar_ind][0];\n",
       "        var tooltip = mpl.toolbar_items[toolbar_ind][1];\n",
       "        var image = mpl.toolbar_items[toolbar_ind][2];\n",
       "        var method_name = mpl.toolbar_items[toolbar_ind][3];\n",
       "\n",
       "        if (!name) { continue; };\n",
       "\n",
       "        var button = $('<button class=\"btn btn-default\" href=\"#\" title=\"' + name + '\"><i class=\"fa ' + image + ' fa-lg\"></i></button>');\n",
       "        button.click(method_name, toolbar_event);\n",
       "        button.mouseover(tooltip, toolbar_mouse_event);\n",
       "        nav_element.append(button);\n",
       "    }\n",
       "\n",
       "    // Add the status bar.\n",
       "    var status_bar = $('<span class=\"mpl-message\" style=\"text-align:right; float: right;\"/>');\n",
       "    nav_element.append(status_bar);\n",
       "    this.message = status_bar[0];\n",
       "\n",
       "    // Add the close button to the window.\n",
       "    var buttongrp = $('<div class=\"btn-group inline pull-right\"></div>');\n",
       "    var button = $('<button class=\"btn btn-mini btn-primary\" href=\"#\" title=\"Stop Interaction\"><i class=\"fa fa-power-off icon-remove icon-large\"></i></button>');\n",
       "    button.click(function (evt) { fig.handle_close(fig, {}); } );\n",
       "    button.mouseover('Stop Interaction', toolbar_mouse_event);\n",
       "    buttongrp.append(button);\n",
       "    var titlebar = this.root.find($('.ui-dialog-titlebar'));\n",
       "    titlebar.prepend(buttongrp);\n",
       "}\n",
       "\n",
       "mpl.figure.prototype._root_extra_style = function(el){\n",
       "    var fig = this\n",
       "    el.on(\"remove\", function(){\n",
       "\tfig.close_ws(fig, {});\n",
       "    });\n",
       "}\n",
       "\n",
       "mpl.figure.prototype._canvas_extra_style = function(el){\n",
       "    // this is important to make the div 'focusable\n",
       "    el.attr('tabindex', 0)\n",
       "    // reach out to IPython and tell the keyboard manager to turn it's self\n",
       "    // off when our div gets focus\n",
       "\n",
       "    // location in version 3\n",
       "    if (IPython.notebook.keyboard_manager) {\n",
       "        IPython.notebook.keyboard_manager.register_events(el);\n",
       "    }\n",
       "    else {\n",
       "        // location in version 2\n",
       "        IPython.keyboard_manager.register_events(el);\n",
       "    }\n",
       "\n",
       "}\n",
       "\n",
       "mpl.figure.prototype._key_event_extra = function(event, name) {\n",
       "    var manager = IPython.notebook.keyboard_manager;\n",
       "    if (!manager)\n",
       "        manager = IPython.keyboard_manager;\n",
       "\n",
       "    // Check for shift+enter\n",
       "    if (event.shiftKey && event.which == 13) {\n",
       "        this.canvas_div.blur();\n",
       "        // select the cell after this one\n",
       "        var index = IPython.notebook.find_cell_index(this.cell_info[0]);\n",
       "        IPython.notebook.select(index + 1);\n",
       "    }\n",
       "}\n",
       "\n",
       "mpl.figure.prototype.handle_save = function(fig, msg) {\n",
       "    fig.ondownload(fig, null);\n",
       "}\n",
       "\n",
       "\n",
       "mpl.find_output_cell = function(html_output) {\n",
       "    // Return the cell and output element which can be found *uniquely* in the notebook.\n",
       "    // Note - this is a bit hacky, but it is done because the \"notebook_saving.Notebook\"\n",
       "    // IPython event is triggered only after the cells have been serialised, which for\n",
       "    // our purposes (turning an active figure into a static one), is too late.\n",
       "    var cells = IPython.notebook.get_cells();\n",
       "    var ncells = cells.length;\n",
       "    for (var i=0; i<ncells; i++) {\n",
       "        var cell = cells[i];\n",
       "        if (cell.cell_type === 'code'){\n",
       "            for (var j=0; j<cell.output_area.outputs.length; j++) {\n",
       "                var data = cell.output_area.outputs[j];\n",
       "                if (data.data) {\n",
       "                    // IPython >= 3 moved mimebundle to data attribute of output\n",
       "                    data = data.data;\n",
       "                }\n",
       "                if (data['text/html'] == html_output) {\n",
       "                    return [cell, data, j];\n",
       "                }\n",
       "            }\n",
       "        }\n",
       "    }\n",
       "}\n",
       "\n",
       "// Register the function which deals with the matplotlib target/channel.\n",
       "// The kernel may be null if the page has been refreshed.\n",
       "if (IPython.notebook.kernel != null) {\n",
       "    IPython.notebook.kernel.comm_manager.register_target('matplotlib', mpl.mpl_figure_comm);\n",
       "}\n"
      ],
      "text/plain": [
       "<IPython.core.display.Javascript object>"
      ]
     },
     "metadata": {},
     "output_type": "display_data"
    },
    {
     "data": {
      "text/html": [
       "<img src=\"data:image/png;base64,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\">"
      ],
      "text/plain": [
       "<IPython.core.display.HTML object>"
      ]
     },
     "metadata": {},
     "output_type": "display_data"
    }
   ],
   "source": [
    "plt.figure()\n",
    "plt.plot(x,y,'-')\n",
    "QV1=plt.quiver(x,y,velx,vely, angles='xy', scale_units='xy', scale = 1)\n",
    "#plt.quiver(x,y,acceleration[:,0],acceleration[:,1], angles='xy', scale_units='xy', scale = 1, color='r')\n",
    "plt.xlabel('x')\n",
    "plt.ylabel('y')\n",
    "plt.xlim([x.min()-1,x.max()+1])\n",
    "plt.ylim([y.min()-1,y.max()+1])\n",
    "#plt.savefig(outdirplot+'/track.png')\n",
    "plt.quiverkey(QV1, .95, 0.9, w.mean(), 'tangent', coordinates='figure')\n",
    "plt.show()"
   ]
  },
  {
   "cell_type": "markdown",
   "metadata": {},
   "source": [
    "## using splines"
   ]
  },
  {
   "cell_type": "code",
   "execution_count": 15,
   "metadata": {
    "collapsed": true
   },
   "outputs": [],
   "source": [
    "from scipy.interpolate import interp1d, splrep, splev"
   ]
  },
  {
   "cell_type": "code",
   "execution_count": 16,
   "metadata": {
    "collapsed": true
   },
   "outputs": [],
   "source": [
    "tsec=np.arange(x.size) # define a time reference"
   ]
  },
  {
   "cell_type": "code",
   "execution_count": 17,
   "metadata": {
    "collapsed": true
   },
   "outputs": [],
   "source": [
    "t1000=np.linspace(tsec[0],tsec[-1],100,endpoint=True)  # create an array of equally spaced points that spans the time with 1000 points"
   ]
  },
  {
   "cell_type": "code",
   "execution_count": 18,
   "metadata": {
    "collapsed": false
   },
   "outputs": [],
   "source": [
    "        tck=splrep(tsec,x,s=0)\n",
    "        x1000 = splev(t1000,tck,der=0)\n",
    "        tckv=splrep(t1000,x1000,s=0)\n",
    "        u1000 = splev(t1000,tckv,der=1)\n",
    "\n",
    "\n",
    "        tck=splrep(tsec,y,s=0)\n",
    "        y1000 = splev(t1000,tck,der=0)\n",
    "        tckv=splrep(t1000,y1000,s=0)\n",
    "        v1000 = splev(t1000,tckv,der=1)"
   ]
  },
  {
   "cell_type": "markdown",
   "metadata": {},
   "source": [
    "#### define the values for the original points"
   ]
  },
  {
   "cell_type": "code",
   "execution_count": 19,
   "metadata": {
    "collapsed": false
   },
   "outputs": [],
   "source": [
    "idx=[]\n",
    "for i in range(tsec.size):\n",
    "    idx.append((np.abs(t1000-tsec[i])).argmin())"
   ]
  },
  {
   "cell_type": "code",
   "execution_count": 20,
   "metadata": {
    "collapsed": false
   },
   "outputs": [
    {
     "data": {
      "text/plain": [
       "array([  0.        ,   0.95959596,   1.91919192,   3.07070707,\n",
       "         4.03030303,   4.98989899,   5.94949495,   6.90909091,\n",
       "         8.06060606,   9.02020202,   9.97979798,  10.93939394,\n",
       "        12.09090909,  13.05050505,  14.01010101,  14.96969697,\n",
       "        15.92929293,  17.08080808,  18.04040404,  19.        ])"
      ]
     },
     "execution_count": 20,
     "metadata": {},
     "output_type": "execute_result"
    }
   ],
   "source": [
    "t1000[idx]"
   ]
  },
  {
   "cell_type": "code",
   "execution_count": 21,
   "metadata": {
    "collapsed": false
   },
   "outputs": [
    {
     "data": {
      "text/plain": [
       "array([ 0,  1,  2,  3,  4,  5,  6,  7,  8,  9, 10, 11, 12, 13, 14, 15, 16,\n",
       "       17, 18, 19])"
      ]
     },
     "execution_count": 21,
     "metadata": {},
     "output_type": "execute_result"
    }
   ],
   "source": [
    "tsec"
   ]
  },
  {
   "cell_type": "code",
   "execution_count": 22,
   "metadata": {
    "collapsed": false
   },
   "outputs": [],
   "source": [
    "QV2=plt.quiver(x1000[idx],y1000[idx],u1000[idx],v1000[idx], angles='xy', scale_units='xy',scale=1, color='g')"
   ]
  },
  {
   "cell_type": "code",
   "execution_count": 23,
   "metadata": {
    "collapsed": false
   },
   "outputs": [
    {
     "data": {
      "text/plain": [
       "<matplotlib.quiver.QuiverKey at 0x10d488590>"
      ]
     },
     "execution_count": 23,
     "metadata": {},
     "output_type": "execute_result"
    }
   ],
   "source": [
    "plt.quiverkey(QV2, .95, 0.85, w.mean(), 'spline', coordinates='figure')"
   ]
  },
  {
   "cell_type": "code",
   "execution_count": 24,
   "metadata": {
    "collapsed": false
   },
   "outputs": [
    {
     "data": {
      "text/plain": [
       "[<matplotlib.lines.Line2D at 0x10d488a90>]"
      ]
     },
     "execution_count": 24,
     "metadata": {},
     "output_type": "execute_result"
    }
   ],
   "source": [
    "plt.plot(x1000,y1000,'k--') # plot the splined curve"
   ]
  },
  {
   "cell_type": "markdown",
   "metadata": {},
   "source": [
    "Note the problems at the end points. Also the fitting slightly changes the values in every point"
   ]
  },
  {
   "cell_type": "markdown",
   "metadata": {},
   "source": [
    "## use  interp1d"
   ]
  },
  {
   "cell_type": "code",
   "execution_count": 25,
   "metadata": {
    "collapsed": false
   },
   "outputs": [],
   "source": [
    "fx=interp1d(tsec,x,kind='quadratic')\n",
    "fy=interp1d(tsec,y,kind='quadratic')\n",
    "x1000 = fx(t1000)\n",
    "y1000 = fy(t1000)"
   ]
  },
  {
   "cell_type": "code",
   "execution_count": 26,
   "metadata": {
    "collapsed": true
   },
   "outputs": [],
   "source": [
    "u=np.gradient(x1000)/np.gradient(t1000)\n",
    "v=np.gradient(y1000)/np.gradient(t1000)"
   ]
  },
  {
   "cell_type": "code",
   "execution_count": 27,
   "metadata": {
    "collapsed": false
   },
   "outputs": [
    {
     "data": {
      "text/plain": [
       "[<matplotlib.lines.Line2D at 0x10d497ad0>]"
      ]
     },
     "execution_count": 27,
     "metadata": {},
     "output_type": "execute_result"
    }
   ],
   "source": [
    "plt.plot(x1000,y1000,'y--') # plot the curve"
   ]
  },
  {
   "cell_type": "code",
   "execution_count": 28,
   "metadata": {
    "collapsed": false
   },
   "outputs": [],
   "source": [
    "QV3=plt.quiver(x1000[idx],y1000[idx],u[idx],v[idx], angles='xy', scale_units='xy',scale=1, color='orange')"
   ]
  },
  {
   "cell_type": "code",
   "execution_count": 29,
   "metadata": {
    "collapsed": false
   },
   "outputs": [
    {
     "data": {
      "text/plain": [
       "<matplotlib.quiver.QuiverKey at 0x10d488b90>"
      ]
     },
     "execution_count": 29,
     "metadata": {},
     "output_type": "execute_result"
    }
   ],
   "source": [
    "plt.quiverkey(QV3, .95, 0.8, w.mean(), 'interp1d', coordinates='figure')"
   ]
  },
  {
   "cell_type": "markdown",
   "metadata": {},
   "source": [
    "similar issues due to the curve fitting"
   ]
  },
  {
   "cell_type": "markdown",
   "metadata": {},
   "source": [
    "## trigonometric  approach"
   ]
  },
  {
   "cell_type": "code",
   "execution_count": 30,
   "metadata": {
    "collapsed": true
   },
   "outputs": [],
   "source": [
    "s1000 = np.cumsum(np.sqrt(np.ediff1d(x1000)**2+np.ediff1d(y1000)**2))\n",
    "s1000 = np.insert(s1000,0,0)  # adding 0 for the first point"
   ]
  },
  {
   "cell_type": "code",
   "execution_count": 31,
   "metadata": {
    "collapsed": true
   },
   "outputs": [],
   "source": [
    "#create 2 arrays for facilitating the central difference computation below.\n",
    "dt=tsec[1]-tsec[0]  # time increment, depends on the number of points, default 12 hours\n",
    "t1=np.maximum(tsec-dt,tsec[0]) # extend for the low end the first value \n",
    "t2=np.minimum(tsec+dt,tsec[-1]) # extend for the high end the last value"
   ]
  },
  {
   "cell_type": "code",
   "execution_count": 32,
   "metadata": {
    "collapsed": false
   },
   "outputs": [
    {
     "data": {
      "text/plain": [
       "(array([ 0,  0,  1,  2,  3,  4,  5,  6,  7,  8,  9, 10, 11, 12, 13, 14, 15,\n",
       "        16, 17, 18]),\n",
       " array([ 1,  2,  3,  4,  5,  6,  7,  8,  9, 10, 11, 12, 13, 14, 15, 16, 17,\n",
       "        18, 19, 19]))"
      ]
     },
     "execution_count": 32,
     "metadata": {},
     "output_type": "execute_result"
    }
   ],
   "source": [
    "t1,t2"
   ]
  },
  {
   "cell_type": "code",
   "execution_count": 33,
   "metadata": {
    "collapsed": false
   },
   "outputs": [
    {
     "data": {
      "text/plain": [
       "array([1, 2, 2, 2, 2, 2, 2, 2, 2, 2, 2, 2, 2, 2, 2, 2, 2, 2, 2, 1])"
      ]
     },
     "execution_count": 33,
     "metadata": {},
     "output_type": "execute_result"
    }
   ],
   "source": [
    "(t2-t1)"
   ]
  },
  {
   "cell_type": "code",
   "execution_count": 34,
   "metadata": {
    "collapsed": false
   },
   "outputs": [],
   "source": [
    "fs=interp1d(t1000,s1000,kind='quadratic')\n",
    "s1=fs(t1)  # compute values for points t1 \n",
    "s2=fs(t2)  # compute values for points t2\n",
    "\n",
    "#define  a linear interpolation function x(t) \n",
    "fx=interp1d(t1000,x1000,kind='quadratic')\n",
    "x1=fx(t1)\n",
    "x2=fx(t2)\n",
    "\n",
    "\n",
    "#define  a linear interpolation function y(t) \n",
    "fy=interp1d(t1000,y1000,kind='quadratic')\n",
    "y1=fy(t1)\n",
    "y2=fy(t2)\n",
    "\n"
   ]
  },
  {
   "cell_type": "code",
   "execution_count": 35,
   "metadata": {
    "collapsed": true
   },
   "outputs": [],
   "source": [
    "cincl=(x2-x1)/(s2-s1) # compute cos(phi)=dx/ds on the tranjectory\n",
    "sincl=(y2-y1)/(s2-s1) # compute sin(phi)=dy/ds on the tranjectory\n",
    "vt=(s2-s1)/(t2-t1)  # compute translational velocity ds/dt"
   ]
  },
  {
   "cell_type": "code",
   "execution_count": 36,
   "metadata": {
    "collapsed": true
   },
   "outputs": [],
   "source": [
    "vtrx = vt * cincl[:]\n",
    "vtry = vt * sincl[:]"
   ]
  },
  {
   "cell_type": "code",
   "execution_count": 37,
   "metadata": {
    "collapsed": false
   },
   "outputs": [],
   "source": [
    "QV4=plt.quiver(x,y,vtrx,vtry, angles='xy', scale_units='xy',scale=1, color='c')"
   ]
  },
  {
   "cell_type": "code",
   "execution_count": 38,
   "metadata": {
    "collapsed": false
   },
   "outputs": [
    {
     "data": {
      "text/plain": [
       "<matplotlib.quiver.QuiverKey at 0x10d4880d0>"
      ]
     },
     "execution_count": 38,
     "metadata": {},
     "output_type": "execute_result"
    }
   ],
   "source": [
    "plt.quiverkey(QV4, .95, 0.75, w.mean(), 'oper', coordinates='figure')"
   ]
  },
  {
   "cell_type": "markdown",
   "metadata": {},
   "source": [
    "## compare values"
   ]
  },
  {
   "cell_type": "code",
   "execution_count": 39,
   "metadata": {
    "collapsed": true
   },
   "outputs": [],
   "source": [
    "import pandas as pd"
   ]
  },
  {
   "cell_type": "code",
   "execution_count": 40,
   "metadata": {
    "collapsed": true
   },
   "outputs": [],
   "source": [
    "dic={ 'us': u1000[idx], 'vs':v1000[idx], 'ui': u[idx], 'vi':v[idx],'uh':vtrx, 'vh':vtry,'u':velocity[:,0], 'v':velocity[:,1] }"
   ]
  },
  {
   "cell_type": "code",
   "execution_count": 41,
   "metadata": {
    "collapsed": false
   },
   "outputs": [],
   "source": [
    "check=pd.DataFrame(dic)"
   ]
  },
  {
   "cell_type": "code",
   "execution_count": 42,
   "metadata": {
    "collapsed": false
   },
   "outputs": [
    {
     "data": {
      "text/html": [
       "<div>\n",
       "<table border=\"1\" class=\"dataframe\">\n",
       "  <thead>\n",
       "    <tr style=\"text-align: right;\">\n",
       "      <th></th>\n",
       "      <th>u</th>\n",
       "      <th>uh</th>\n",
       "      <th>ui</th>\n",
       "      <th>us</th>\n",
       "      <th>v</th>\n",
       "      <th>vh</th>\n",
       "      <th>vi</th>\n",
       "      <th>vs</th>\n",
       "    </tr>\n",
       "  </thead>\n",
       "  <tbody>\n",
       "    <tr>\n",
       "      <th>0</th>\n",
       "      <td>0.300</td>\n",
       "      <td>0.298067</td>\n",
       "      <td>-0.058025</td>\n",
       "      <td>-0.333443</td>\n",
       "      <td>0.000</td>\n",
       "      <td>0.002499</td>\n",
       "      <td>-0.358025</td>\n",
       "      <td>-0.205375</td>\n",
       "    </tr>\n",
       "    <tr>\n",
       "      <th>1</th>\n",
       "      <td>0.625</td>\n",
       "      <td>0.626032</td>\n",
       "      <td>0.693132</td>\n",
       "      <td>0.752205</td>\n",
       "      <td>-0.050</td>\n",
       "      <td>-0.050674</td>\n",
       "      <td>0.348275</td>\n",
       "      <td>0.081104</td>\n",
       "    </tr>\n",
       "    <tr>\n",
       "      <th>2</th>\n",
       "      <td>0.900</td>\n",
       "      <td>0.901031</td>\n",
       "      <td>1.106970</td>\n",
       "      <td>0.984842</td>\n",
       "      <td>-0.450</td>\n",
       "      <td>-0.451294</td>\n",
       "      <td>-0.542870</td>\n",
       "      <td>-0.338780</td>\n",
       "    </tr>\n",
       "    <tr>\n",
       "      <th>3</th>\n",
       "      <td>0.800</td>\n",
       "      <td>0.798569</td>\n",
       "      <td>0.591991</td>\n",
       "      <td>0.745346</td>\n",
       "      <td>-1.100</td>\n",
       "      <td>-1.098930</td>\n",
       "      <td>-1.030550</td>\n",
       "      <td>-1.199820</td>\n",
       "    </tr>\n",
       "    <tr>\n",
       "      <th>4</th>\n",
       "      <td>0.850</td>\n",
       "      <td>0.849772</td>\n",
       "      <td>0.941969</td>\n",
       "      <td>0.823165</td>\n",
       "      <td>-1.525</td>\n",
       "      <td>-1.524754</td>\n",
       "      <td>-1.788069</td>\n",
       "      <td>-1.575868</td>\n",
       "    </tr>\n",
       "    <tr>\n",
       "      <th>5</th>\n",
       "      <td>1.075</td>\n",
       "      <td>1.075772</td>\n",
       "      <td>0.965923</td>\n",
       "      <td>1.081788</td>\n",
       "      <td>-1.725</td>\n",
       "      <td>-1.725782</td>\n",
       "      <td>-1.507017</td>\n",
       "      <td>-1.713235</td>\n",
       "    </tr>\n",
       "    <tr>\n",
       "      <th>6</th>\n",
       "      <td>1.300</td>\n",
       "      <td>1.300381</td>\n",
       "      <td>1.414637</td>\n",
       "      <td>1.288612</td>\n",
       "      <td>-1.925</td>\n",
       "      <td>-1.925363</td>\n",
       "      <td>-2.085682</td>\n",
       "      <td>-1.907377</td>\n",
       "    </tr>\n",
       "    <tr>\n",
       "      <th>7</th>\n",
       "      <td>1.525</td>\n",
       "      <td>1.523723</td>\n",
       "      <td>1.363082</td>\n",
       "      <td>1.501136</td>\n",
       "      <td>-2.075</td>\n",
       "      <td>-2.073649</td>\n",
       "      <td>-1.980140</td>\n",
       "      <td>-2.132497</td>\n",
       "    </tr>\n",
       "    <tr>\n",
       "      <th>8</th>\n",
       "      <td>1.750</td>\n",
       "      <td>1.750416</td>\n",
       "      <td>1.925388</td>\n",
       "      <td>1.749223</td>\n",
       "      <td>-1.900</td>\n",
       "      <td>-1.900620</td>\n",
       "      <td>-2.146409</td>\n",
       "      <td>-1.920775</td>\n",
       "    </tr>\n",
       "    <tr>\n",
       "      <th>9</th>\n",
       "      <td>2.000</td>\n",
       "      <td>2.001498</td>\n",
       "      <td>1.798975</td>\n",
       "      <td>2.015995</td>\n",
       "      <td>-1.475</td>\n",
       "      <td>-1.476754</td>\n",
       "      <td>-1.209571</td>\n",
       "      <td>-1.442393</td>\n",
       "    </tr>\n",
       "    <tr>\n",
       "      <th>10</th>\n",
       "      <td>2.175</td>\n",
       "      <td>2.173950</td>\n",
       "      <td>2.481820</td>\n",
       "      <td>2.226283</td>\n",
       "      <td>-1.050</td>\n",
       "      <td>-1.047830</td>\n",
       "      <td>-1.294270</td>\n",
       "      <td>-1.095781</td>\n",
       "    </tr>\n",
       "    <tr>\n",
       "      <th>11</th>\n",
       "      <td>2.225</td>\n",
       "      <td>2.223771</td>\n",
       "      <td>1.920638</td>\n",
       "      <td>2.145183</td>\n",
       "      <td>-0.475</td>\n",
       "      <td>-0.475537</td>\n",
       "      <td>-0.427316</td>\n",
       "      <td>-0.542283</td>\n",
       "    </tr>\n",
       "    <tr>\n",
       "      <th>12</th>\n",
       "      <td>2.500</td>\n",
       "      <td>2.500577</td>\n",
       "      <td>2.665520</td>\n",
       "      <td>2.673951</td>\n",
       "      <td>0.175</td>\n",
       "      <td>0.174690</td>\n",
       "      <td>0.211187</td>\n",
       "      <td>0.219292</td>\n",
       "    </tr>\n",
       "    <tr>\n",
       "      <th>13</th>\n",
       "      <td>2.400</td>\n",
       "      <td>2.400800</td>\n",
       "      <td>2.716783</td>\n",
       "      <td>2.463834</td>\n",
       "      <td>0.800</td>\n",
       "      <td>0.801017</td>\n",
       "      <td>0.790095</td>\n",
       "      <td>0.845211</td>\n",
       "    </tr>\n",
       "    <tr>\n",
       "      <th>14</th>\n",
       "      <td>1.775</td>\n",
       "      <td>1.775000</td>\n",
       "      <td>1.351089</td>\n",
       "      <td>1.720062</td>\n",
       "      <td>1.425</td>\n",
       "      <td>1.423182</td>\n",
       "      <td>1.537107</td>\n",
       "      <td>1.410368</td>\n",
       "    </tr>\n",
       "    <tr>\n",
       "      <th>15</th>\n",
       "      <td>1.125</td>\n",
       "      <td>1.125893</td>\n",
       "      <td>1.644209</td>\n",
       "      <td>1.250774</td>\n",
       "      <td>2.025</td>\n",
       "      <td>2.025087</td>\n",
       "      <td>1.859148</td>\n",
       "      <td>2.089691</td>\n",
       "    </tr>\n",
       "    <tr>\n",
       "      <th>16</th>\n",
       "      <td>0.075</td>\n",
       "      <td>0.072754</td>\n",
       "      <td>-0.078275</td>\n",
       "      <td>0.211808</td>\n",
       "      <td>2.200</td>\n",
       "      <td>2.204221</td>\n",
       "      <td>2.734963</td>\n",
       "      <td>2.310070</td>\n",
       "    </tr>\n",
       "    <tr>\n",
       "      <th>17</th>\n",
       "      <td>-1.100</td>\n",
       "      <td>-1.099098</td>\n",
       "      <td>-1.070075</td>\n",
       "      <td>-1.256697</td>\n",
       "      <td>2.100</td>\n",
       "      <td>2.095597</td>\n",
       "      <td>1.444758</td>\n",
       "      <td>2.067685</td>\n",
       "    </tr>\n",
       "    <tr>\n",
       "      <th>18</th>\n",
       "      <td>-1.925</td>\n",
       "      <td>-1.922915</td>\n",
       "      <td>-2.205572</td>\n",
       "      <td>-1.997437</td>\n",
       "      <td>2.100</td>\n",
       "      <td>2.096518</td>\n",
       "      <td>2.861108</td>\n",
       "      <td>2.175535</td>\n",
       "    </tr>\n",
       "    <tr>\n",
       "      <th>19</th>\n",
       "      <td>-2.250</td>\n",
       "      <td>-2.253917</td>\n",
       "      <td>-2.255612</td>\n",
       "      <td>-2.482196</td>\n",
       "      <td>2.050</td>\n",
       "      <td>2.059253</td>\n",
       "      <td>1.236308</td>\n",
       "      <td>1.840069</td>\n",
       "    </tr>\n",
       "  </tbody>\n",
       "</table>\n",
       "</div>"
      ],
      "text/plain": [
       "        u        uh        ui        us      v        vh        vi        vs\n",
       "0   0.300  0.298067 -0.058025 -0.333443  0.000  0.002499 -0.358025 -0.205375\n",
       "1   0.625  0.626032  0.693132  0.752205 -0.050 -0.050674  0.348275  0.081104\n",
       "2   0.900  0.901031  1.106970  0.984842 -0.450 -0.451294 -0.542870 -0.338780\n",
       "3   0.800  0.798569  0.591991  0.745346 -1.100 -1.098930 -1.030550 -1.199820\n",
       "4   0.850  0.849772  0.941969  0.823165 -1.525 -1.524754 -1.788069 -1.575868\n",
       "5   1.075  1.075772  0.965923  1.081788 -1.725 -1.725782 -1.507017 -1.713235\n",
       "6   1.300  1.300381  1.414637  1.288612 -1.925 -1.925363 -2.085682 -1.907377\n",
       "7   1.525  1.523723  1.363082  1.501136 -2.075 -2.073649 -1.980140 -2.132497\n",
       "8   1.750  1.750416  1.925388  1.749223 -1.900 -1.900620 -2.146409 -1.920775\n",
       "9   2.000  2.001498  1.798975  2.015995 -1.475 -1.476754 -1.209571 -1.442393\n",
       "10  2.175  2.173950  2.481820  2.226283 -1.050 -1.047830 -1.294270 -1.095781\n",
       "11  2.225  2.223771  1.920638  2.145183 -0.475 -0.475537 -0.427316 -0.542283\n",
       "12  2.500  2.500577  2.665520  2.673951  0.175  0.174690  0.211187  0.219292\n",
       "13  2.400  2.400800  2.716783  2.463834  0.800  0.801017  0.790095  0.845211\n",
       "14  1.775  1.775000  1.351089  1.720062  1.425  1.423182  1.537107  1.410368\n",
       "15  1.125  1.125893  1.644209  1.250774  2.025  2.025087  1.859148  2.089691\n",
       "16  0.075  0.072754 -0.078275  0.211808  2.200  2.204221  2.734963  2.310070\n",
       "17 -1.100 -1.099098 -1.070075 -1.256697  2.100  2.095597  1.444758  2.067685\n",
       "18 -1.925 -1.922915 -2.205572 -1.997437  2.100  2.096518  2.861108  2.175535\n",
       "19 -2.250 -2.253917 -2.255612 -2.482196  2.050  2.059253  1.236308  1.840069"
      ]
     },
     "execution_count": 42,
     "metadata": {},
     "output_type": "execute_result"
    }
   ],
   "source": [
    "check"
   ]
  },
  {
   "cell_type": "code",
   "execution_count": null,
   "metadata": {
    "collapsed": true
   },
   "outputs": [],
   "source": []
  }
 ],
 "metadata": {
  "kernelspec": {
   "display_name": "Python 2",
   "language": "python",
   "name": "python2"
  },
  "language_info": {
   "codemirror_mode": {
    "name": "ipython",
    "version": 2
   },
   "file_extension": ".py",
   "mimetype": "text/x-python",
   "name": "python",
   "nbconvert_exporter": "python",
   "pygments_lexer": "ipython2",
   "version": "2.7.12"
  },
  "widgets": {
   "state": {},
   "version": "2.0.10"
  }
 },
 "nbformat": 4,
 "nbformat_minor": 2
}
