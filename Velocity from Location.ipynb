{
 "cells": [
  {
   "cell_type": "markdown",
   "metadata": {},
   "source": [
    "## Computing velocity and acceleration of x,y data"
   ]
  },
  {
   "cell_type": "markdown",
   "metadata": {},
   "source": [
    "based on http://stackoverflow.com/questions/28269379/curve-curvature-in-numpy among other information."
   ]
  },
  {
   "cell_type": "code",
   "execution_count": 1,
   "metadata": {
    "collapsed": true
   },
   "outputs": [],
   "source": [
    "%matplotlib notebook"
   ]
  },
  {
   "cell_type": "code",
   "execution_count": 2,
   "metadata": {
    "collapsed": true
   },
   "outputs": [],
   "source": [
    "import numpy as np"
   ]
  },
  {
   "cell_type": "code",
   "execution_count": 3,
   "metadata": {
    "collapsed": true
   },
   "outputs": [],
   "source": [
    "import matplotlib.pyplot as plt"
   ]
  },
  {
   "cell_type": "code",
   "execution_count": 4,
   "metadata": {
    "collapsed": true
   },
   "outputs": [],
   "source": [
    "a = np.array([ [  0.  ,   0.  ],[  0.3 ,   0.  ],[  1.25,  -0.1 ],\n",
    "              [  2.1 ,  -0.9 ],[  2.85,  -2.3 ],[  3.8 ,  -3.95],\n",
    "              [  5.  ,  -5.75],[  6.4 ,  -7.8 ],[  8.05,  -9.9 ],\n",
    "              [  9.9 , -11.6 ],[ 12.05, -12.85],[ 14.25, -13.7 ],\n",
    "              [ 16.5 , -13.8 ],[ 19.25, -13.35],[ 21.3 , -12.2 ],\n",
    "              [ 22.8 , -10.5 ],[ 23.55,  -8.15],[ 22.95,  -6.1 ],\n",
    "              [ 21.35,  -3.95],[ 19.1 ,  -1.9 ]])"
   ]
  },
  {
   "cell_type": "code",
   "execution_count": 5,
   "metadata": {
    "collapsed": false
   },
   "outputs": [],
   "source": [
    "a=np.array([[168.8999939 ,  169.19999695,  169.6000061 ,  170.1000061 ,\n",
    "         170.6000061 ,  170.5       ,  170.5       ,  170.5] \n",
    ",[ -7.5       ,  -7.80000019,  -8.10000038,  -8.5       ,\n",
    "         -9.        ,  -9.30000019,  -9.69999981, -10.19999981]]).T"
   ]
  },
  {
   "cell_type": "code",
   "execution_count": 6,
   "metadata": {
    "collapsed": false
   },
   "outputs": [],
   "source": [
    "x=a[:, 0]\n",
    "y=a[:, 1]"
   ]
  },
  {
   "cell_type": "code",
   "execution_count": 7,
   "metadata": {
    "collapsed": true
   },
   "outputs": [],
   "source": [
    "dx_dt = np.gradient(a[:, 0])\n",
    "dy_dt = np.gradient(a[:, 1])\n",
    "velocity = np.array([ [dx_dt[i], dy_dt[i]] for i in range(dx_dt.size)])"
   ]
  },
  {
   "cell_type": "code",
   "execution_count": 8,
   "metadata": {
    "collapsed": true
   },
   "outputs": [],
   "source": [
    "velx=velocity[:,0]\n",
    "vely=velocity[:,1]"
   ]
  },
  {
   "cell_type": "code",
   "execution_count": 9,
   "metadata": {
    "collapsed": true
   },
   "outputs": [],
   "source": [
    "ds_dt = np.sqrt(dx_dt * dx_dt + dy_dt * dy_dt)"
   ]
  },
  {
   "cell_type": "code",
   "execution_count": 10,
   "metadata": {
    "collapsed": true
   },
   "outputs": [],
   "source": [
    "tangent = np.array([1/ds_dt] * 2).transpose() * velocity"
   ]
  },
  {
   "cell_type": "code",
   "execution_count": 11,
   "metadata": {
    "collapsed": false
   },
   "outputs": [
    {
     "data": {
      "text/plain": [
       "array([ 1.,  1.,  1.,  1.,  1.,  1.,  1.,  1.])"
      ]
     },
     "execution_count": 11,
     "metadata": {},
     "output_type": "execute_result"
    }
   ],
   "source": [
    "np.sqrt(tangent[:,0] * tangent[:,0] + tangent[:,1] * tangent[:,1])"
   ]
  },
  {
   "cell_type": "code",
   "execution_count": 12,
   "metadata": {
    "collapsed": false
   },
   "outputs": [
    {
     "name": "stderr",
     "output_type": "stream",
     "text": [
      "/usr/local/lib/python2.7/site-packages/ipykernel/__main__.py:11: RuntimeWarning: divide by zero encountered in divide\n",
      "/usr/local/lib/python2.7/site-packages/ipykernel/__main__.py:11: RuntimeWarning: invalid value encountered in multiply\n"
     ]
    }
   ],
   "source": [
    "tangent_x = tangent[:, 0]\n",
    "tangent_y = tangent[:, 1]\n",
    "\n",
    "deriv_tangent_x = np.gradient(tangent_x)\n",
    "deriv_tangent_y = np.gradient(tangent_y)\n",
    "\n",
    "dT_dt = np.array([ [deriv_tangent_x[i], deriv_tangent_y[i]] for i in range(deriv_tangent_x.size)])\n",
    "\n",
    "length_dT_dt = np.sqrt(deriv_tangent_x * deriv_tangent_x + deriv_tangent_y * deriv_tangent_y)\n",
    "\n",
    "normal = np.array([1/length_dT_dt] * 2).transpose() * dT_dt"
   ]
  },
  {
   "cell_type": "code",
   "execution_count": 13,
   "metadata": {
    "collapsed": true
   },
   "outputs": [],
   "source": [
    "d2s_dt2 = np.gradient(ds_dt)\n",
    "d2x_dt2 = np.gradient(dx_dt)\n",
    "d2y_dt2 = np.gradient(dy_dt)\n",
    "\n",
    "curvature = np.abs(d2x_dt2 * dy_dt - dx_dt * d2y_dt2) / (dx_dt * dx_dt + dy_dt * dy_dt)**1.5\n",
    "t_component = np.array([d2s_dt2] * 2).transpose()\n",
    "n_component = np.array([curvature * ds_dt * ds_dt] * 2).transpose()\n",
    "\n",
    "acceleration = t_component * tangent + n_component * normal"
   ]
  },
  {
   "cell_type": "code",
   "execution_count": 14,
   "metadata": {
    "collapsed": false
   },
   "outputs": [],
   "source": [
    "w=np.sqrt(velx**2+vely**2)"
   ]
  },
  {
   "cell_type": "code",
   "execution_count": 15,
   "metadata": {
    "collapsed": false
   },
   "outputs": [
    {
     "data": {
      "application/javascript": [
       "/* Put everything inside the global mpl namespace */\n",
       "window.mpl = {};\n",
       "\n",
       "mpl.get_websocket_type = function() {\n",
       "    if (typeof(WebSocket) !== 'undefined') {\n",
       "        return WebSocket;\n",
       "    } else if (typeof(MozWebSocket) !== 'undefined') {\n",
       "        return MozWebSocket;\n",
       "    } else {\n",
       "        alert('Your browser does not have WebSocket support.' +\n",
       "              'Please try Chrome, Safari or Firefox ≥ 6. ' +\n",
       "              'Firefox 4 and 5 are also supported but you ' +\n",
       "              'have to enable WebSockets in about:config.');\n",
       "    };\n",
       "}\n",
       "\n",
       "mpl.figure = function(figure_id, websocket, ondownload, parent_element) {\n",
       "    this.id = figure_id;\n",
       "\n",
       "    this.ws = websocket;\n",
       "\n",
       "    this.supports_binary = (this.ws.binaryType != undefined);\n",
       "\n",
       "    if (!this.supports_binary) {\n",
       "        var warnings = document.getElementById(\"mpl-warnings\");\n",
       "        if (warnings) {\n",
       "            warnings.style.display = 'block';\n",
       "            warnings.textContent = (\n",
       "                \"This browser does not support binary websocket messages. \" +\n",
       "                    \"Performance may be slow.\");\n",
       "        }\n",
       "    }\n",
       "\n",
       "    this.imageObj = new Image();\n",
       "\n",
       "    this.context = undefined;\n",
       "    this.message = undefined;\n",
       "    this.canvas = undefined;\n",
       "    this.rubberband_canvas = undefined;\n",
       "    this.rubberband_context = undefined;\n",
       "    this.format_dropdown = undefined;\n",
       "\n",
       "    this.image_mode = 'full';\n",
       "\n",
       "    this.root = $('<div/>');\n",
       "    this._root_extra_style(this.root)\n",
       "    this.root.attr('style', 'display: inline-block');\n",
       "\n",
       "    $(parent_element).append(this.root);\n",
       "\n",
       "    this._init_header(this);\n",
       "    this._init_canvas(this);\n",
       "    this._init_toolbar(this);\n",
       "\n",
       "    var fig = this;\n",
       "\n",
       "    this.waiting = false;\n",
       "\n",
       "    this.ws.onopen =  function () {\n",
       "            fig.send_message(\"supports_binary\", {value: fig.supports_binary});\n",
       "            fig.send_message(\"send_image_mode\", {});\n",
       "            fig.send_message(\"refresh\", {});\n",
       "        }\n",
       "\n",
       "    this.imageObj.onload = function() {\n",
       "            if (fig.image_mode == 'full') {\n",
       "                // Full images could contain transparency (where diff images\n",
       "                // almost always do), so we need to clear the canvas so that\n",
       "                // there is no ghosting.\n",
       "                fig.context.clearRect(0, 0, fig.canvas.width, fig.canvas.height);\n",
       "            }\n",
       "            fig.context.drawImage(fig.imageObj, 0, 0);\n",
       "        };\n",
       "\n",
       "    this.imageObj.onunload = function() {\n",
       "        this.ws.close();\n",
       "    }\n",
       "\n",
       "    this.ws.onmessage = this._make_on_message_function(this);\n",
       "\n",
       "    this.ondownload = ondownload;\n",
       "}\n",
       "\n",
       "mpl.figure.prototype._init_header = function() {\n",
       "    var titlebar = $(\n",
       "        '<div class=\"ui-dialog-titlebar ui-widget-header ui-corner-all ' +\n",
       "        'ui-helper-clearfix\"/>');\n",
       "    var titletext = $(\n",
       "        '<div class=\"ui-dialog-title\" style=\"width: 100%; ' +\n",
       "        'text-align: center; padding: 3px;\"/>');\n",
       "    titlebar.append(titletext)\n",
       "    this.root.append(titlebar);\n",
       "    this.header = titletext[0];\n",
       "}\n",
       "\n",
       "\n",
       "\n",
       "mpl.figure.prototype._canvas_extra_style = function(canvas_div) {\n",
       "\n",
       "}\n",
       "\n",
       "\n",
       "mpl.figure.prototype._root_extra_style = function(canvas_div) {\n",
       "\n",
       "}\n",
       "\n",
       "mpl.figure.prototype._init_canvas = function() {\n",
       "    var fig = this;\n",
       "\n",
       "    var canvas_div = $('<div/>');\n",
       "\n",
       "    canvas_div.attr('style', 'position: relative; clear: both; outline: 0');\n",
       "\n",
       "    function canvas_keyboard_event(event) {\n",
       "        return fig.key_event(event, event['data']);\n",
       "    }\n",
       "\n",
       "    canvas_div.keydown('key_press', canvas_keyboard_event);\n",
       "    canvas_div.keyup('key_release', canvas_keyboard_event);\n",
       "    this.canvas_div = canvas_div\n",
       "    this._canvas_extra_style(canvas_div)\n",
       "    this.root.append(canvas_div);\n",
       "\n",
       "    var canvas = $('<canvas/>');\n",
       "    canvas.addClass('mpl-canvas');\n",
       "    canvas.attr('style', \"left: 0; top: 0; z-index: 0; outline: 0\")\n",
       "\n",
       "    this.canvas = canvas[0];\n",
       "    this.context = canvas[0].getContext(\"2d\");\n",
       "\n",
       "    var rubberband = $('<canvas/>');\n",
       "    rubberband.attr('style', \"position: absolute; left: 0; top: 0; z-index: 1;\")\n",
       "\n",
       "    var pass_mouse_events = true;\n",
       "\n",
       "    canvas_div.resizable({\n",
       "        start: function(event, ui) {\n",
       "            pass_mouse_events = false;\n",
       "        },\n",
       "        resize: function(event, ui) {\n",
       "            fig.request_resize(ui.size.width, ui.size.height);\n",
       "        },\n",
       "        stop: function(event, ui) {\n",
       "            pass_mouse_events = true;\n",
       "            fig.request_resize(ui.size.width, ui.size.height);\n",
       "        },\n",
       "    });\n",
       "\n",
       "    function mouse_event_fn(event) {\n",
       "        if (pass_mouse_events)\n",
       "            return fig.mouse_event(event, event['data']);\n",
       "    }\n",
       "\n",
       "    rubberband.mousedown('button_press', mouse_event_fn);\n",
       "    rubberband.mouseup('button_release', mouse_event_fn);\n",
       "    // Throttle sequential mouse events to 1 every 20ms.\n",
       "    rubberband.mousemove('motion_notify', mouse_event_fn);\n",
       "\n",
       "    rubberband.mouseenter('figure_enter', mouse_event_fn);\n",
       "    rubberband.mouseleave('figure_leave', mouse_event_fn);\n",
       "\n",
       "    canvas_div.on(\"wheel\", function (event) {\n",
       "        event = event.originalEvent;\n",
       "        event['data'] = 'scroll'\n",
       "        if (event.deltaY < 0) {\n",
       "            event.step = 1;\n",
       "        } else {\n",
       "            event.step = -1;\n",
       "        }\n",
       "        mouse_event_fn(event);\n",
       "    });\n",
       "\n",
       "    canvas_div.append(canvas);\n",
       "    canvas_div.append(rubberband);\n",
       "\n",
       "    this.rubberband = rubberband;\n",
       "    this.rubberband_canvas = rubberband[0];\n",
       "    this.rubberband_context = rubberband[0].getContext(\"2d\");\n",
       "    this.rubberband_context.strokeStyle = \"#000000\";\n",
       "\n",
       "    this._resize_canvas = function(width, height) {\n",
       "        // Keep the size of the canvas, canvas container, and rubber band\n",
       "        // canvas in synch.\n",
       "        canvas_div.css('width', width)\n",
       "        canvas_div.css('height', height)\n",
       "\n",
       "        canvas.attr('width', width);\n",
       "        canvas.attr('height', height);\n",
       "\n",
       "        rubberband.attr('width', width);\n",
       "        rubberband.attr('height', height);\n",
       "    }\n",
       "\n",
       "    // Set the figure to an initial 600x600px, this will subsequently be updated\n",
       "    // upon first draw.\n",
       "    this._resize_canvas(600, 600);\n",
       "\n",
       "    // Disable right mouse context menu.\n",
       "    $(this.rubberband_canvas).bind(\"contextmenu\",function(e){\n",
       "        return false;\n",
       "    });\n",
       "\n",
       "    function set_focus () {\n",
       "        canvas.focus();\n",
       "        canvas_div.focus();\n",
       "    }\n",
       "\n",
       "    window.setTimeout(set_focus, 100);\n",
       "}\n",
       "\n",
       "mpl.figure.prototype._init_toolbar = function() {\n",
       "    var fig = this;\n",
       "\n",
       "    var nav_element = $('<div/>')\n",
       "    nav_element.attr('style', 'width: 100%');\n",
       "    this.root.append(nav_element);\n",
       "\n",
       "    // Define a callback function for later on.\n",
       "    function toolbar_event(event) {\n",
       "        return fig.toolbar_button_onclick(event['data']);\n",
       "    }\n",
       "    function toolbar_mouse_event(event) {\n",
       "        return fig.toolbar_button_onmouseover(event['data']);\n",
       "    }\n",
       "\n",
       "    for(var toolbar_ind in mpl.toolbar_items) {\n",
       "        var name = mpl.toolbar_items[toolbar_ind][0];\n",
       "        var tooltip = mpl.toolbar_items[toolbar_ind][1];\n",
       "        var image = mpl.toolbar_items[toolbar_ind][2];\n",
       "        var method_name = mpl.toolbar_items[toolbar_ind][3];\n",
       "\n",
       "        if (!name) {\n",
       "            // put a spacer in here.\n",
       "            continue;\n",
       "        }\n",
       "        var button = $('<button/>');\n",
       "        button.addClass('ui-button ui-widget ui-state-default ui-corner-all ' +\n",
       "                        'ui-button-icon-only');\n",
       "        button.attr('role', 'button');\n",
       "        button.attr('aria-disabled', 'false');\n",
       "        button.click(method_name, toolbar_event);\n",
       "        button.mouseover(tooltip, toolbar_mouse_event);\n",
       "\n",
       "        var icon_img = $('<span/>');\n",
       "        icon_img.addClass('ui-button-icon-primary ui-icon');\n",
       "        icon_img.addClass(image);\n",
       "        icon_img.addClass('ui-corner-all');\n",
       "\n",
       "        var tooltip_span = $('<span/>');\n",
       "        tooltip_span.addClass('ui-button-text');\n",
       "        tooltip_span.html(tooltip);\n",
       "\n",
       "        button.append(icon_img);\n",
       "        button.append(tooltip_span);\n",
       "\n",
       "        nav_element.append(button);\n",
       "    }\n",
       "\n",
       "    var fmt_picker_span = $('<span/>');\n",
       "\n",
       "    var fmt_picker = $('<select/>');\n",
       "    fmt_picker.addClass('mpl-toolbar-option ui-widget ui-widget-content');\n",
       "    fmt_picker_span.append(fmt_picker);\n",
       "    nav_element.append(fmt_picker_span);\n",
       "    this.format_dropdown = fmt_picker[0];\n",
       "\n",
       "    for (var ind in mpl.extensions) {\n",
       "        var fmt = mpl.extensions[ind];\n",
       "        var option = $(\n",
       "            '<option/>', {selected: fmt === mpl.default_extension}).html(fmt);\n",
       "        fmt_picker.append(option)\n",
       "    }\n",
       "\n",
       "    // Add hover states to the ui-buttons\n",
       "    $( \".ui-button\" ).hover(\n",
       "        function() { $(this).addClass(\"ui-state-hover\");},\n",
       "        function() { $(this).removeClass(\"ui-state-hover\");}\n",
       "    );\n",
       "\n",
       "    var status_bar = $('<span class=\"mpl-message\"/>');\n",
       "    nav_element.append(status_bar);\n",
       "    this.message = status_bar[0];\n",
       "}\n",
       "\n",
       "mpl.figure.prototype.request_resize = function(x_pixels, y_pixels) {\n",
       "    // Request matplotlib to resize the figure. Matplotlib will then trigger a resize in the client,\n",
       "    // which will in turn request a refresh of the image.\n",
       "    this.send_message('resize', {'width': x_pixels, 'height': y_pixels});\n",
       "}\n",
       "\n",
       "mpl.figure.prototype.send_message = function(type, properties) {\n",
       "    properties['type'] = type;\n",
       "    properties['figure_id'] = this.id;\n",
       "    this.ws.send(JSON.stringify(properties));\n",
       "}\n",
       "\n",
       "mpl.figure.prototype.send_draw_message = function() {\n",
       "    if (!this.waiting) {\n",
       "        this.waiting = true;\n",
       "        this.ws.send(JSON.stringify({type: \"draw\", figure_id: this.id}));\n",
       "    }\n",
       "}\n",
       "\n",
       "\n",
       "mpl.figure.prototype.handle_save = function(fig, msg) {\n",
       "    var format_dropdown = fig.format_dropdown;\n",
       "    var format = format_dropdown.options[format_dropdown.selectedIndex].value;\n",
       "    fig.ondownload(fig, format);\n",
       "}\n",
       "\n",
       "\n",
       "mpl.figure.prototype.handle_resize = function(fig, msg) {\n",
       "    var size = msg['size'];\n",
       "    if (size[0] != fig.canvas.width || size[1] != fig.canvas.height) {\n",
       "        fig._resize_canvas(size[0], size[1]);\n",
       "        fig.send_message(\"refresh\", {});\n",
       "    };\n",
       "}\n",
       "\n",
       "mpl.figure.prototype.handle_rubberband = function(fig, msg) {\n",
       "    var x0 = msg['x0'];\n",
       "    var y0 = fig.canvas.height - msg['y0'];\n",
       "    var x1 = msg['x1'];\n",
       "    var y1 = fig.canvas.height - msg['y1'];\n",
       "    x0 = Math.floor(x0) + 0.5;\n",
       "    y0 = Math.floor(y0) + 0.5;\n",
       "    x1 = Math.floor(x1) + 0.5;\n",
       "    y1 = Math.floor(y1) + 0.5;\n",
       "    var min_x = Math.min(x0, x1);\n",
       "    var min_y = Math.min(y0, y1);\n",
       "    var width = Math.abs(x1 - x0);\n",
       "    var height = Math.abs(y1 - y0);\n",
       "\n",
       "    fig.rubberband_context.clearRect(\n",
       "        0, 0, fig.canvas.width, fig.canvas.height);\n",
       "\n",
       "    fig.rubberband_context.strokeRect(min_x, min_y, width, height);\n",
       "}\n",
       "\n",
       "mpl.figure.prototype.handle_figure_label = function(fig, msg) {\n",
       "    // Updates the figure title.\n",
       "    fig.header.textContent = msg['label'];\n",
       "}\n",
       "\n",
       "mpl.figure.prototype.handle_cursor = function(fig, msg) {\n",
       "    var cursor = msg['cursor'];\n",
       "    switch(cursor)\n",
       "    {\n",
       "    case 0:\n",
       "        cursor = 'pointer';\n",
       "        break;\n",
       "    case 1:\n",
       "        cursor = 'default';\n",
       "        break;\n",
       "    case 2:\n",
       "        cursor = 'crosshair';\n",
       "        break;\n",
       "    case 3:\n",
       "        cursor = 'move';\n",
       "        break;\n",
       "    }\n",
       "    fig.rubberband_canvas.style.cursor = cursor;\n",
       "}\n",
       "\n",
       "mpl.figure.prototype.handle_message = function(fig, msg) {\n",
       "    fig.message.textContent = msg['message'];\n",
       "}\n",
       "\n",
       "mpl.figure.prototype.handle_draw = function(fig, msg) {\n",
       "    // Request the server to send over a new figure.\n",
       "    fig.send_draw_message();\n",
       "}\n",
       "\n",
       "mpl.figure.prototype.handle_image_mode = function(fig, msg) {\n",
       "    fig.image_mode = msg['mode'];\n",
       "}\n",
       "\n",
       "mpl.figure.prototype.updated_canvas_event = function() {\n",
       "    // Called whenever the canvas gets updated.\n",
       "    this.send_message(\"ack\", {});\n",
       "}\n",
       "\n",
       "// A function to construct a web socket function for onmessage handling.\n",
       "// Called in the figure constructor.\n",
       "mpl.figure.prototype._make_on_message_function = function(fig) {\n",
       "    return function socket_on_message(evt) {\n",
       "        if (evt.data instanceof Blob) {\n",
       "            /* FIXME: We get \"Resource interpreted as Image but\n",
       "             * transferred with MIME type text/plain:\" errors on\n",
       "             * Chrome.  But how to set the MIME type?  It doesn't seem\n",
       "             * to be part of the websocket stream */\n",
       "            evt.data.type = \"image/png\";\n",
       "\n",
       "            /* Free the memory for the previous frames */\n",
       "            if (fig.imageObj.src) {\n",
       "                (window.URL || window.webkitURL).revokeObjectURL(\n",
       "                    fig.imageObj.src);\n",
       "            }\n",
       "\n",
       "            fig.imageObj.src = (window.URL || window.webkitURL).createObjectURL(\n",
       "                evt.data);\n",
       "            fig.updated_canvas_event();\n",
       "            fig.waiting = false;\n",
       "            return;\n",
       "        }\n",
       "        else if (typeof evt.data === 'string' && evt.data.slice(0, 21) == \"data:image/png;base64\") {\n",
       "            fig.imageObj.src = evt.data;\n",
       "            fig.updated_canvas_event();\n",
       "            fig.waiting = false;\n",
       "            return;\n",
       "        }\n",
       "\n",
       "        var msg = JSON.parse(evt.data);\n",
       "        var msg_type = msg['type'];\n",
       "\n",
       "        // Call the  \"handle_{type}\" callback, which takes\n",
       "        // the figure and JSON message as its only arguments.\n",
       "        try {\n",
       "            var callback = fig[\"handle_\" + msg_type];\n",
       "        } catch (e) {\n",
       "            console.log(\"No handler for the '\" + msg_type + \"' message type: \", msg);\n",
       "            return;\n",
       "        }\n",
       "\n",
       "        if (callback) {\n",
       "            try {\n",
       "                // console.log(\"Handling '\" + msg_type + \"' message: \", msg);\n",
       "                callback(fig, msg);\n",
       "            } catch (e) {\n",
       "                console.log(\"Exception inside the 'handler_\" + msg_type + \"' callback:\", e, e.stack, msg);\n",
       "            }\n",
       "        }\n",
       "    };\n",
       "}\n",
       "\n",
       "// from http://stackoverflow.com/questions/1114465/getting-mouse-location-in-canvas\n",
       "mpl.findpos = function(e) {\n",
       "    //this section is from http://www.quirksmode.org/js/events_properties.html\n",
       "    var targ;\n",
       "    if (!e)\n",
       "        e = window.event;\n",
       "    if (e.target)\n",
       "        targ = e.target;\n",
       "    else if (e.srcElement)\n",
       "        targ = e.srcElement;\n",
       "    if (targ.nodeType == 3) // defeat Safari bug\n",
       "        targ = targ.parentNode;\n",
       "\n",
       "    // jQuery normalizes the pageX and pageY\n",
       "    // pageX,Y are the mouse positions relative to the document\n",
       "    // offset() returns the position of the element relative to the document\n",
       "    var x = e.pageX - $(targ).offset().left;\n",
       "    var y = e.pageY - $(targ).offset().top;\n",
       "\n",
       "    return {\"x\": x, \"y\": y};\n",
       "};\n",
       "\n",
       "/*\n",
       " * return a copy of an object with only non-object keys\n",
       " * we need this to avoid circular references\n",
       " * http://stackoverflow.com/a/24161582/3208463\n",
       " */\n",
       "function simpleKeys (original) {\n",
       "  return Object.keys(original).reduce(function (obj, key) {\n",
       "    if (typeof original[key] !== 'object')\n",
       "        obj[key] = original[key]\n",
       "    return obj;\n",
       "  }, {});\n",
       "}\n",
       "\n",
       "mpl.figure.prototype.mouse_event = function(event, name) {\n",
       "    var canvas_pos = mpl.findpos(event)\n",
       "\n",
       "    if (name === 'button_press')\n",
       "    {\n",
       "        this.canvas.focus();\n",
       "        this.canvas_div.focus();\n",
       "    }\n",
       "\n",
       "    var x = canvas_pos.x;\n",
       "    var y = canvas_pos.y;\n",
       "\n",
       "    this.send_message(name, {x: x, y: y, button: event.button,\n",
       "                             step: event.step,\n",
       "                             guiEvent: simpleKeys(event)});\n",
       "\n",
       "    /* This prevents the web browser from automatically changing to\n",
       "     * the text insertion cursor when the button is pressed.  We want\n",
       "     * to control all of the cursor setting manually through the\n",
       "     * 'cursor' event from matplotlib */\n",
       "    event.preventDefault();\n",
       "    return false;\n",
       "}\n",
       "\n",
       "mpl.figure.prototype._key_event_extra = function(event, name) {\n",
       "    // Handle any extra behaviour associated with a key event\n",
       "}\n",
       "\n",
       "mpl.figure.prototype.key_event = function(event, name) {\n",
       "\n",
       "    // Prevent repeat events\n",
       "    if (name == 'key_press')\n",
       "    {\n",
       "        if (event.which === this._key)\n",
       "            return;\n",
       "        else\n",
       "            this._key = event.which;\n",
       "    }\n",
       "    if (name == 'key_release')\n",
       "        this._key = null;\n",
       "\n",
       "    var value = '';\n",
       "    if (event.ctrlKey && event.which != 17)\n",
       "        value += \"ctrl+\";\n",
       "    if (event.altKey && event.which != 18)\n",
       "        value += \"alt+\";\n",
       "    if (event.shiftKey && event.which != 16)\n",
       "        value += \"shift+\";\n",
       "\n",
       "    value += 'k';\n",
       "    value += event.which.toString();\n",
       "\n",
       "    this._key_event_extra(event, name);\n",
       "\n",
       "    this.send_message(name, {key: value,\n",
       "                             guiEvent: simpleKeys(event)});\n",
       "    return false;\n",
       "}\n",
       "\n",
       "mpl.figure.prototype.toolbar_button_onclick = function(name) {\n",
       "    if (name == 'download') {\n",
       "        this.handle_save(this, null);\n",
       "    } else {\n",
       "        this.send_message(\"toolbar_button\", {name: name});\n",
       "    }\n",
       "};\n",
       "\n",
       "mpl.figure.prototype.toolbar_button_onmouseover = function(tooltip) {\n",
       "    this.message.textContent = tooltip;\n",
       "};\n",
       "mpl.toolbar_items = [[\"Home\", \"Reset original view\", \"fa fa-home icon-home\", \"home\"], [\"Back\", \"Back to  previous view\", \"fa fa-arrow-left icon-arrow-left\", \"back\"], [\"Forward\", \"Forward to next view\", \"fa fa-arrow-right icon-arrow-right\", \"forward\"], [\"\", \"\", \"\", \"\"], [\"Pan\", \"Pan axes with left mouse, zoom with right\", \"fa fa-arrows icon-move\", \"pan\"], [\"Zoom\", \"Zoom to rectangle\", \"fa fa-square-o icon-check-empty\", \"zoom\"], [\"\", \"\", \"\", \"\"], [\"Download\", \"Download plot\", \"fa fa-floppy-o icon-save\", \"download\"]];\n",
       "\n",
       "mpl.extensions = [\"eps\", \"pdf\", \"png\", \"ps\", \"raw\", \"svg\"];\n",
       "\n",
       "mpl.default_extension = \"png\";var comm_websocket_adapter = function(comm) {\n",
       "    // Create a \"websocket\"-like object which calls the given IPython comm\n",
       "    // object with the appropriate methods. Currently this is a non binary\n",
       "    // socket, so there is still some room for performance tuning.\n",
       "    var ws = {};\n",
       "\n",
       "    ws.close = function() {\n",
       "        comm.close()\n",
       "    };\n",
       "    ws.send = function(m) {\n",
       "        //console.log('sending', m);\n",
       "        comm.send(m);\n",
       "    };\n",
       "    // Register the callback with on_msg.\n",
       "    comm.on_msg(function(msg) {\n",
       "        //console.log('receiving', msg['content']['data'], msg);\n",
       "        // Pass the mpl event to the overriden (by mpl) onmessage function.\n",
       "        ws.onmessage(msg['content']['data'])\n",
       "    });\n",
       "    return ws;\n",
       "}\n",
       "\n",
       "mpl.mpl_figure_comm = function(comm, msg) {\n",
       "    // This is the function which gets called when the mpl process\n",
       "    // starts-up an IPython Comm through the \"matplotlib\" channel.\n",
       "\n",
       "    var id = msg.content.data.id;\n",
       "    // Get hold of the div created by the display call when the Comm\n",
       "    // socket was opened in Python.\n",
       "    var element = $(\"#\" + id);\n",
       "    var ws_proxy = comm_websocket_adapter(comm)\n",
       "\n",
       "    function ondownload(figure, format) {\n",
       "        window.open(figure.imageObj.src);\n",
       "    }\n",
       "\n",
       "    var fig = new mpl.figure(id, ws_proxy,\n",
       "                           ondownload,\n",
       "                           element.get(0));\n",
       "\n",
       "    // Call onopen now - mpl needs it, as it is assuming we've passed it a real\n",
       "    // web socket which is closed, not our websocket->open comm proxy.\n",
       "    ws_proxy.onopen();\n",
       "\n",
       "    fig.parent_element = element.get(0);\n",
       "    fig.cell_info = mpl.find_output_cell(\"<div id='\" + id + \"'></div>\");\n",
       "    if (!fig.cell_info) {\n",
       "        console.error(\"Failed to find cell for figure\", id, fig);\n",
       "        return;\n",
       "    }\n",
       "\n",
       "    var output_index = fig.cell_info[2]\n",
       "    var cell = fig.cell_info[0];\n",
       "\n",
       "};\n",
       "\n",
       "mpl.figure.prototype.handle_close = function(fig, msg) {\n",
       "    fig.root.unbind('remove')\n",
       "\n",
       "    // Update the output cell to use the data from the current canvas.\n",
       "    fig.push_to_output();\n",
       "    var dataURL = fig.canvas.toDataURL();\n",
       "    // Re-enable the keyboard manager in IPython - without this line, in FF,\n",
       "    // the notebook keyboard shortcuts fail.\n",
       "    IPython.keyboard_manager.enable()\n",
       "    $(fig.parent_element).html('<img src=\"' + dataURL + '\">');\n",
       "    fig.close_ws(fig, msg);\n",
       "}\n",
       "\n",
       "mpl.figure.prototype.close_ws = function(fig, msg){\n",
       "    fig.send_message('closing', msg);\n",
       "    // fig.ws.close()\n",
       "}\n",
       "\n",
       "mpl.figure.prototype.push_to_output = function(remove_interactive) {\n",
       "    // Turn the data on the canvas into data in the output cell.\n",
       "    var dataURL = this.canvas.toDataURL();\n",
       "    this.cell_info[1]['text/html'] = '<img src=\"' + dataURL + '\">';\n",
       "}\n",
       "\n",
       "mpl.figure.prototype.updated_canvas_event = function() {\n",
       "    // Tell IPython that the notebook contents must change.\n",
       "    IPython.notebook.set_dirty(true);\n",
       "    this.send_message(\"ack\", {});\n",
       "    var fig = this;\n",
       "    // Wait a second, then push the new image to the DOM so\n",
       "    // that it is saved nicely (might be nice to debounce this).\n",
       "    setTimeout(function () { fig.push_to_output() }, 1000);\n",
       "}\n",
       "\n",
       "mpl.figure.prototype._init_toolbar = function() {\n",
       "    var fig = this;\n",
       "\n",
       "    var nav_element = $('<div/>')\n",
       "    nav_element.attr('style', 'width: 100%');\n",
       "    this.root.append(nav_element);\n",
       "\n",
       "    // Define a callback function for later on.\n",
       "    function toolbar_event(event) {\n",
       "        return fig.toolbar_button_onclick(event['data']);\n",
       "    }\n",
       "    function toolbar_mouse_event(event) {\n",
       "        return fig.toolbar_button_onmouseover(event['data']);\n",
       "    }\n",
       "\n",
       "    for(var toolbar_ind in mpl.toolbar_items){\n",
       "        var name = mpl.toolbar_items[toolbar_ind][0];\n",
       "        var tooltip = mpl.toolbar_items[toolbar_ind][1];\n",
       "        var image = mpl.toolbar_items[toolbar_ind][2];\n",
       "        var method_name = mpl.toolbar_items[toolbar_ind][3];\n",
       "\n",
       "        if (!name) { continue; };\n",
       "\n",
       "        var button = $('<button class=\"btn btn-default\" href=\"#\" title=\"' + name + '\"><i class=\"fa ' + image + ' fa-lg\"></i></button>');\n",
       "        button.click(method_name, toolbar_event);\n",
       "        button.mouseover(tooltip, toolbar_mouse_event);\n",
       "        nav_element.append(button);\n",
       "    }\n",
       "\n",
       "    // Add the status bar.\n",
       "    var status_bar = $('<span class=\"mpl-message\" style=\"text-align:right; float: right;\"/>');\n",
       "    nav_element.append(status_bar);\n",
       "    this.message = status_bar[0];\n",
       "\n",
       "    // Add the close button to the window.\n",
       "    var buttongrp = $('<div class=\"btn-group inline pull-right\"></div>');\n",
       "    var button = $('<button class=\"btn btn-mini btn-primary\" href=\"#\" title=\"Stop Interaction\"><i class=\"fa fa-power-off icon-remove icon-large\"></i></button>');\n",
       "    button.click(function (evt) { fig.handle_close(fig, {}); } );\n",
       "    button.mouseover('Stop Interaction', toolbar_mouse_event);\n",
       "    buttongrp.append(button);\n",
       "    var titlebar = this.root.find($('.ui-dialog-titlebar'));\n",
       "    titlebar.prepend(buttongrp);\n",
       "}\n",
       "\n",
       "mpl.figure.prototype._root_extra_style = function(el){\n",
       "    var fig = this\n",
       "    el.on(\"remove\", function(){\n",
       "\tfig.close_ws(fig, {});\n",
       "    });\n",
       "}\n",
       "\n",
       "mpl.figure.prototype._canvas_extra_style = function(el){\n",
       "    // this is important to make the div 'focusable\n",
       "    el.attr('tabindex', 0)\n",
       "    // reach out to IPython and tell the keyboard manager to turn it's self\n",
       "    // off when our div gets focus\n",
       "\n",
       "    // location in version 3\n",
       "    if (IPython.notebook.keyboard_manager) {\n",
       "        IPython.notebook.keyboard_manager.register_events(el);\n",
       "    }\n",
       "    else {\n",
       "        // location in version 2\n",
       "        IPython.keyboard_manager.register_events(el);\n",
       "    }\n",
       "\n",
       "}\n",
       "\n",
       "mpl.figure.prototype._key_event_extra = function(event, name) {\n",
       "    var manager = IPython.notebook.keyboard_manager;\n",
       "    if (!manager)\n",
       "        manager = IPython.keyboard_manager;\n",
       "\n",
       "    // Check for shift+enter\n",
       "    if (event.shiftKey && event.which == 13) {\n",
       "        this.canvas_div.blur();\n",
       "        // select the cell after this one\n",
       "        var index = IPython.notebook.find_cell_index(this.cell_info[0]);\n",
       "        IPython.notebook.select(index + 1);\n",
       "    }\n",
       "}\n",
       "\n",
       "mpl.figure.prototype.handle_save = function(fig, msg) {\n",
       "    fig.ondownload(fig, null);\n",
       "}\n",
       "\n",
       "\n",
       "mpl.find_output_cell = function(html_output) {\n",
       "    // Return the cell and output element which can be found *uniquely* in the notebook.\n",
       "    // Note - this is a bit hacky, but it is done because the \"notebook_saving.Notebook\"\n",
       "    // IPython event is triggered only after the cells have been serialised, which for\n",
       "    // our purposes (turning an active figure into a static one), is too late.\n",
       "    var cells = IPython.notebook.get_cells();\n",
       "    var ncells = cells.length;\n",
       "    for (var i=0; i<ncells; i++) {\n",
       "        var cell = cells[i];\n",
       "        if (cell.cell_type === 'code'){\n",
       "            for (var j=0; j<cell.output_area.outputs.length; j++) {\n",
       "                var data = cell.output_area.outputs[j];\n",
       "                if (data.data) {\n",
       "                    // IPython >= 3 moved mimebundle to data attribute of output\n",
       "                    data = data.data;\n",
       "                }\n",
       "                if (data['text/html'] == html_output) {\n",
       "                    return [cell, data, j];\n",
       "                }\n",
       "            }\n",
       "        }\n",
       "    }\n",
       "}\n",
       "\n",
       "// Register the function which deals with the matplotlib target/channel.\n",
       "// The kernel may be null if the page has been refreshed.\n",
       "if (IPython.notebook.kernel != null) {\n",
       "    IPython.notebook.kernel.comm_manager.register_target('matplotlib', mpl.mpl_figure_comm);\n",
       "}\n"
      ],
      "text/plain": [
       "<IPython.core.display.Javascript object>"
      ]
     },
     "metadata": {},
     "output_type": "display_data"
    },
    {
     "data": {
      "text/html": [
       "<img src=\"data:image/png;base64,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\">"
      ],
      "text/plain": [
       "<IPython.core.display.HTML object>"
      ]
     },
     "metadata": {},
     "output_type": "display_data"
    }
   ],
   "source": [
    "plt.figure()\n",
    "plt.plot(x,y,'-')\n",
    "QV1=plt.quiver(x,y,velx,vely, angles='xy', scale_units='xy', scale = 1)\n",
    "#plt.quiver(x,y,acceleration[:,0],acceleration[:,1], angles='xy', scale_units='xy', scale = 1, color='r')\n",
    "plt.xlabel('x')\n",
    "plt.ylabel('y')\n",
    "plt.xlim([x.min()-1,x.max()+1])\n",
    "plt.ylim([y.min()-1,y.max()+1])\n",
    "#plt.savefig(outdirplot+'/track.png')\n",
    "plt.quiverkey(QV1, .95, 0.9, w.mean(), 'tangent', coordinates='figure')\n",
    "plt.show()"
   ]
  },
  {
   "cell_type": "markdown",
   "metadata": {},
   "source": [
    "## using splines"
   ]
  },
  {
   "cell_type": "code",
   "execution_count": 16,
   "metadata": {
    "collapsed": true
   },
   "outputs": [],
   "source": [
    "from scipy.interpolate import interp1d, splrep, splev"
   ]
  },
  {
   "cell_type": "code",
   "execution_count": 17,
   "metadata": {
    "collapsed": true
   },
   "outputs": [],
   "source": [
    "tsec=np.arange(x.size) # define a time reference"
   ]
  },
  {
   "cell_type": "code",
   "execution_count": 18,
   "metadata": {
    "collapsed": true
   },
   "outputs": [],
   "source": [
    "t1000=np.linspace(tsec[0],tsec[-1],100,endpoint=True)  # create an array of equally spaced points that spans the time with 1000 points"
   ]
  },
  {
   "cell_type": "code",
   "execution_count": 19,
   "metadata": {
    "collapsed": false
   },
   "outputs": [],
   "source": [
    "        tck=splrep(tsec,x,s=0)\n",
    "        x1000 = splev(t1000,tck,der=0)\n",
    "        tckv=splrep(t1000,x1000,s=0)\n",
    "        u1000 = splev(t1000,tckv,der=1)\n",
    "\n",
    "\n",
    "        tck=splrep(tsec,y,s=0)\n",
    "        y1000 = splev(t1000,tck,der=0)\n",
    "        tckv=splrep(t1000,y1000,s=0)\n",
    "        v1000 = splev(t1000,tckv,der=1)"
   ]
  },
  {
   "cell_type": "markdown",
   "metadata": {},
   "source": [
    "#### define the values for the original points"
   ]
  },
  {
   "cell_type": "code",
   "execution_count": 20,
   "metadata": {
    "collapsed": false
   },
   "outputs": [],
   "source": [
    "idx=[]\n",
    "for i in range(tsec.size):\n",
    "    idx.append((np.abs(t1000-tsec[i])).argmin())"
   ]
  },
  {
   "cell_type": "code",
   "execution_count": 21,
   "metadata": {
    "collapsed": false
   },
   "outputs": [
    {
     "data": {
      "text/plain": [
       "array([ 0.        ,  0.98989899,  1.97979798,  2.96969697,  4.03030303,\n",
       "        5.02020202,  6.01010101,  7.        ])"
      ]
     },
     "execution_count": 21,
     "metadata": {},
     "output_type": "execute_result"
    }
   ],
   "source": [
    "t1000[idx]"
   ]
  },
  {
   "cell_type": "code",
   "execution_count": 22,
   "metadata": {
    "collapsed": false
   },
   "outputs": [
    {
     "data": {
      "text/plain": [
       "array([0, 1, 2, 3, 4, 5, 6, 7])"
      ]
     },
     "execution_count": 22,
     "metadata": {},
     "output_type": "execute_result"
    }
   ],
   "source": [
    "tsec"
   ]
  },
  {
   "cell_type": "code",
   "execution_count": 23,
   "metadata": {
    "collapsed": false
   },
   "outputs": [],
   "source": [
    "QV2=plt.quiver(x1000[idx],y1000[idx],u1000[idx],v1000[idx], angles='xy', scale_units='xy',scale=1, color='g')"
   ]
  },
  {
   "cell_type": "code",
   "execution_count": 24,
   "metadata": {
    "collapsed": false
   },
   "outputs": [
    {
     "data": {
      "text/plain": [
       "<matplotlib.quiver.QuiverKey at 0x1068be890>"
      ]
     },
     "execution_count": 24,
     "metadata": {},
     "output_type": "execute_result"
    }
   ],
   "source": [
    "plt.quiverkey(QV2, .95, 0.85, w.mean(), 'spline', coordinates='figure')"
   ]
  },
  {
   "cell_type": "code",
   "execution_count": 25,
   "metadata": {
    "collapsed": false
   },
   "outputs": [
    {
     "data": {
      "text/plain": [
       "[<matplotlib.lines.Line2D at 0x1068bec10>]"
      ]
     },
     "execution_count": 25,
     "metadata": {},
     "output_type": "execute_result"
    }
   ],
   "source": [
    "plt.plot(x1000,y1000,'k--') # plot the splined curve"
   ]
  },
  {
   "cell_type": "markdown",
   "metadata": {},
   "source": [
    "Note the problems at the end points. Also the fitting slightly changes the values in every point"
   ]
  },
  {
   "cell_type": "markdown",
   "metadata": {},
   "source": [
    "## use  interp1d"
   ]
  },
  {
   "cell_type": "code",
   "execution_count": 26,
   "metadata": {
    "collapsed": false
   },
   "outputs": [],
   "source": [
    "fx=interp1d(tsec,x,kind='quadratic')\n",
    "fy=interp1d(tsec,y,kind='quadratic')\n",
    "x1000 = fx(t1000)\n",
    "y1000 = fy(t1000)"
   ]
  },
  {
   "cell_type": "code",
   "execution_count": 27,
   "metadata": {
    "collapsed": true
   },
   "outputs": [],
   "source": [
    "u=np.gradient(x1000)/np.gradient(t1000)\n",
    "v=np.gradient(y1000)/np.gradient(t1000)"
   ]
  },
  {
   "cell_type": "code",
   "execution_count": 28,
   "metadata": {
    "collapsed": false
   },
   "outputs": [
    {
     "data": {
      "text/plain": [
       "[<matplotlib.lines.Line2D at 0x1041b2350>]"
      ]
     },
     "execution_count": 28,
     "metadata": {},
     "output_type": "execute_result"
    }
   ],
   "source": [
    "plt.plot(x1000,y1000,'y--') # plot the curve"
   ]
  },
  {
   "cell_type": "code",
   "execution_count": 29,
   "metadata": {
    "collapsed": false
   },
   "outputs": [],
   "source": [
    "QV3=plt.quiver(x1000[idx],y1000[idx],u[idx],v[idx], angles='xy', scale_units='xy',scale=1, color='orange')"
   ]
  },
  {
   "cell_type": "code",
   "execution_count": 30,
   "metadata": {
    "collapsed": false
   },
   "outputs": [
    {
     "data": {
      "text/plain": [
       "<matplotlib.quiver.QuiverKey at 0x1068be150>"
      ]
     },
     "execution_count": 30,
     "metadata": {},
     "output_type": "execute_result"
    }
   ],
   "source": [
    "plt.quiverkey(QV3, .95, 0.8, w.mean(), 'interp1d', coordinates='figure')"
   ]
  },
  {
   "cell_type": "markdown",
   "metadata": {},
   "source": [
    "similar issues due to the curve fitting"
   ]
  },
  {
   "cell_type": "markdown",
   "metadata": {},
   "source": [
    "## trigonometric  approach"
   ]
  },
  {
   "cell_type": "code",
   "execution_count": 31,
   "metadata": {
    "collapsed": true
   },
   "outputs": [],
   "source": [
    "s1000 = np.cumsum(np.sqrt(np.ediff1d(x1000)**2+np.ediff1d(y1000)**2))\n",
    "s1000 = np.insert(s1000,0,0)  # adding 0 for the first point"
   ]
  },
  {
   "cell_type": "code",
   "execution_count": 32,
   "metadata": {
    "collapsed": true
   },
   "outputs": [],
   "source": [
    "#create 2 arrays for facilitating the central difference computation below.\n",
    "dt=tsec[1]-tsec[0]  # time increment, depends on the number of points, default 12 hours\n",
    "t1=np.maximum(tsec-dt,tsec[0]) # extend for the low end the first value \n",
    "t2=np.minimum(tsec+dt,tsec[-1]) # extend for the high end the last value"
   ]
  },
  {
   "cell_type": "code",
   "execution_count": 33,
   "metadata": {
    "collapsed": false
   },
   "outputs": [
    {
     "data": {
      "text/plain": [
       "(array([0, 0, 1, 2, 3, 4, 5, 6]), array([1, 2, 3, 4, 5, 6, 7, 7]))"
      ]
     },
     "execution_count": 33,
     "metadata": {},
     "output_type": "execute_result"
    }
   ],
   "source": [
    "t1,t2"
   ]
  },
  {
   "cell_type": "code",
   "execution_count": 34,
   "metadata": {
    "collapsed": false
   },
   "outputs": [
    {
     "data": {
      "text/plain": [
       "array([1, 2, 2, 2, 2, 2, 2, 1])"
      ]
     },
     "execution_count": 34,
     "metadata": {},
     "output_type": "execute_result"
    }
   ],
   "source": [
    "(t2-t1)"
   ]
  },
  {
   "cell_type": "code",
   "execution_count": 35,
   "metadata": {
    "collapsed": false
   },
   "outputs": [],
   "source": [
    "fs=interp1d(t1000,s1000,kind='quadratic')\n",
    "s1=fs(t1)  # compute values for points t1 \n",
    "s2=fs(t2)  # compute values for points t2\n",
    "\n",
    "#define  a linear interpolation function x(t) \n",
    "fx=interp1d(t1000,x1000,kind='quadratic')\n",
    "x1=fx(t1)\n",
    "x2=fx(t2)\n",
    "\n",
    "\n",
    "#define  a linear interpolation function y(t) \n",
    "fy=interp1d(t1000,y1000,kind='quadratic')\n",
    "y1=fy(t1)\n",
    "y2=fy(t2)\n",
    "\n"
   ]
  },
  {
   "cell_type": "code",
   "execution_count": 36,
   "metadata": {
    "collapsed": true
   },
   "outputs": [],
   "source": [
    "cincl=(x2-x1)/(s2-s1) # compute cos(phi)=dx/ds on the tranjectory\n",
    "sincl=(y2-y1)/(s2-s1) # compute sin(phi)=dy/ds on the tranjectory\n",
    "vt=(s2-s1)/(t2-t1)  # compute translational velocity ds/dt"
   ]
  },
  {
   "cell_type": "code",
   "execution_count": 37,
   "metadata": {
    "collapsed": true
   },
   "outputs": [],
   "source": [
    "vtrx = vt * cincl[:]\n",
    "vtry = vt * sincl[:]"
   ]
  },
  {
   "cell_type": "code",
   "execution_count": 38,
   "metadata": {
    "collapsed": false
   },
   "outputs": [],
   "source": [
    "QV4=plt.quiver(x,y,vtrx,vtry, angles='xy', scale_units='xy',scale=1, color='c')"
   ]
  },
  {
   "cell_type": "code",
   "execution_count": 39,
   "metadata": {
    "collapsed": false
   },
   "outputs": [
    {
     "data": {
      "text/plain": [
       "<matplotlib.quiver.QuiverKey at 0x1068be110>"
      ]
     },
     "execution_count": 39,
     "metadata": {},
     "output_type": "execute_result"
    }
   ],
   "source": [
    "plt.quiverkey(QV4, .95, 0.75, w.mean(), 'oper', coordinates='figure')"
   ]
  },
  {
   "cell_type": "markdown",
   "metadata": {},
   "source": [
    "## compare values"
   ]
  },
  {
   "cell_type": "code",
   "execution_count": 40,
   "metadata": {
    "collapsed": true
   },
   "outputs": [],
   "source": [
    "import pandas as pd"
   ]
  },
  {
   "cell_type": "code",
   "execution_count": 41,
   "metadata": {
    "collapsed": true
   },
   "outputs": [],
   "source": [
    "dic={ 'us': u1000[idx], 'vs':v1000[idx], 'ui': u[idx], 'vi':v[idx],'uh':vtrx, 'vh':vtry,'u':velocity[:,0], 'v':velocity[:,1] }"
   ]
  },
  {
   "cell_type": "code",
   "execution_count": 42,
   "metadata": {
    "collapsed": false
   },
   "outputs": [],
   "source": [
    "check=pd.DataFrame(dic)"
   ]
  },
  {
   "cell_type": "code",
   "execution_count": 43,
   "metadata": {
    "collapsed": false
   },
   "outputs": [
    {
     "data": {
      "text/html": [
       "<div>\n",
       "<table border=\"1\" class=\"dataframe\">\n",
       "  <thead>\n",
       "    <tr style=\"text-align: right;\">\n",
       "      <th></th>\n",
       "      <th>u</th>\n",
       "      <th>uh</th>\n",
       "      <th>ui</th>\n",
       "      <th>us</th>\n",
       "      <th>v</th>\n",
       "      <th>vh</th>\n",
       "      <th>vi</th>\n",
       "      <th>vs</th>\n",
       "    </tr>\n",
       "  </thead>\n",
       "  <tbody>\n",
       "    <tr>\n",
       "      <th>0</th>\n",
       "      <td>0.300003</td>\n",
       "      <td>0.300011</td>\n",
       "      <td>0.028944</td>\n",
       "      <td>0.237393</td>\n",
       "      <td>-0.30</td>\n",
       "      <td>-0.299995</td>\n",
       "      <td>-0.222559</td>\n",
       "      <td>-0.330781</td>\n",
       "    </tr>\n",
       "    <tr>\n",
       "      <th>1</th>\n",
       "      <td>0.350006</td>\n",
       "      <td>0.350033</td>\n",
       "      <td>0.573239</td>\n",
       "      <td>0.355298</td>\n",
       "      <td>-0.30</td>\n",
       "      <td>-0.300013</td>\n",
       "      <td>-0.377321</td>\n",
       "      <td>-0.284614</td>\n",
       "    </tr>\n",
       "    <tr>\n",
       "      <th>2</th>\n",
       "      <td>0.450005</td>\n",
       "      <td>0.450006</td>\n",
       "      <td>0.224795</td>\n",
       "      <td>0.436114</td>\n",
       "      <td>-0.35</td>\n",
       "      <td>-0.350011</td>\n",
       "      <td>-0.224843</td>\n",
       "      <td>-0.328929</td>\n",
       "    </tr>\n",
       "    <tr>\n",
       "      <th>3</th>\n",
       "      <td>0.500000</td>\n",
       "      <td>0.499888</td>\n",
       "      <td>0.767257</td>\n",
       "      <td>0.586756</td>\n",
       "      <td>-0.45</td>\n",
       "      <td>-0.449951</td>\n",
       "      <td>-0.569143</td>\n",
       "      <td>-0.485434</td>\n",
       "    </tr>\n",
       "    <tr>\n",
       "      <th>4</th>\n",
       "      <td>0.199997</td>\n",
       "      <td>0.199994</td>\n",
       "      <td>0.189452</td>\n",
       "      <td>0.154888</td>\n",
       "      <td>-0.40</td>\n",
       "      <td>-0.399992</td>\n",
       "      <td>-0.409212</td>\n",
       "      <td>-0.388041</td>\n",
       "    </tr>\n",
       "    <tr>\n",
       "      <th>5</th>\n",
       "      <td>-0.050003</td>\n",
       "      <td>-0.049903</td>\n",
       "      <td>-0.378918</td>\n",
       "      <td>-0.130807</td>\n",
       "      <td>-0.35</td>\n",
       "      <td>-0.350045</td>\n",
       "      <td>-0.198100</td>\n",
       "      <td>-0.311601</td>\n",
       "    </tr>\n",
       "    <tr>\n",
       "      <th>6</th>\n",
       "      <td>0.000000</td>\n",
       "      <td>-0.000002</td>\n",
       "      <td>0.378882</td>\n",
       "      <td>0.069439</td>\n",
       "      <td>-0.45</td>\n",
       "      <td>-0.449999</td>\n",
       "      <td>-0.605651</td>\n",
       "      <td>-0.472454</td>\n",
       "    </tr>\n",
       "    <tr>\n",
       "      <th>7</th>\n",
       "      <td>0.000000</td>\n",
       "      <td>-0.000031</td>\n",
       "      <td>-0.379471</td>\n",
       "      <td>-0.138920</td>\n",
       "      <td>-0.50</td>\n",
       "      <td>-0.499983</td>\n",
       "      <td>-0.391583</td>\n",
       "      <td>-0.507098</td>\n",
       "    </tr>\n",
       "  </tbody>\n",
       "</table>\n",
       "</div>"
      ],
      "text/plain": [
       "          u        uh        ui        us     v        vh        vi        vs\n",
       "0  0.300003  0.300011  0.028944  0.237393 -0.30 -0.299995 -0.222559 -0.330781\n",
       "1  0.350006  0.350033  0.573239  0.355298 -0.30 -0.300013 -0.377321 -0.284614\n",
       "2  0.450005  0.450006  0.224795  0.436114 -0.35 -0.350011 -0.224843 -0.328929\n",
       "3  0.500000  0.499888  0.767257  0.586756 -0.45 -0.449951 -0.569143 -0.485434\n",
       "4  0.199997  0.199994  0.189452  0.154888 -0.40 -0.399992 -0.409212 -0.388041\n",
       "5 -0.050003 -0.049903 -0.378918 -0.130807 -0.35 -0.350045 -0.198100 -0.311601\n",
       "6  0.000000 -0.000002  0.378882  0.069439 -0.45 -0.449999 -0.605651 -0.472454\n",
       "7  0.000000 -0.000031 -0.379471 -0.138920 -0.50 -0.499983 -0.391583 -0.507098"
      ]
     },
     "execution_count": 43,
     "metadata": {},
     "output_type": "execute_result"
    }
   ],
   "source": [
    "check"
   ]
  },
  {
   "cell_type": "code",
   "execution_count": null,
   "metadata": {
    "collapsed": true
   },
   "outputs": [],
   "source": []
  }
 ],
 "metadata": {
  "kernelspec": {
   "display_name": "Python 2",
   "language": "python",
   "name": "python2"
  },
  "language_info": {
   "codemirror_mode": {
    "name": "ipython",
    "version": 2
   },
   "file_extension": ".py",
   "mimetype": "text/x-python",
   "name": "python",
   "nbconvert_exporter": "python",
   "pygments_lexer": "ipython2",
   "version": "2.7.12"
  },
  "widgets": {
   "state": {},
   "version": "2.0.10"
  }
 },
 "nbformat": 4,
 "nbformat_minor": 2
}
