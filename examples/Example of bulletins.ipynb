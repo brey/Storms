{
 "cells": [
  {
   "cell_type": "markdown",
   "metadata": {},
   "source": [
    "# Example of usage"
   ]
  },
  {
   "cell_type": "code",
   "execution_count": 1,
   "metadata": {
    "collapsed": true
   },
   "outputs": [],
   "source": [
    "from Storms import *"
   ]
  },
  {
   "cell_type": "code",
   "execution_count": 2,
   "metadata": {
    "collapsed": false
   },
   "outputs": [],
   "source": [
    "#define an object\n",
    "tc=Storm()"
   ]
  },
  {
   "cell_type": "markdown",
   "metadata": {},
   "source": [
    "## Real time bulletins"
   ]
  },
  {
   "cell_type": "markdown",
   "metadata": {},
   "source": [
    "Note that depending on the date there might not be ant active cyclones."
   ]
  },
  {
   "cell_type": "code",
   "execution_count": 6,
   "metadata": {
    "collapsed": true
   },
   "outputs": [],
   "source": [
    "url = 'https://metoc.ndbc.noaa.gov/RSSFeeds-portlet/img/jtwc/jtwc.rss' # JTWC"
   ]
  },
  {
   "cell_type": "code",
   "execution_count": 11,
   "metadata": {
    "collapsed": true
   },
   "outputs": [],
   "source": [
    "url='http://www.nhc.noaa.gov/index-at.xml' #NOAA Atlantic"
   ]
  },
  {
   "cell_type": "code",
   "execution_count": 14,
   "metadata": {
    "collapsed": true
   },
   "outputs": [],
   "source": [
    "url='http://www.nhc.noaa.gov/index-ep.xml' #NOAA Pacific"
   ]
  },
  {
   "cell_type": "code",
   "execution_count": 15,
   "metadata": {
    "collapsed": false,
    "deletable": true,
    "editable": true
   },
   "outputs": [],
   "source": [
    "tc.parse(url=url)"
   ]
  },
  {
   "cell_type": "code",
   "execution_count": 16,
   "metadata": {
    "collapsed": false,
    "deletable": true,
    "editable": true
   },
   "outputs": [
    {
     "data": {
      "text/plain": [
       "[]"
      ]
     },
     "execution_count": 16,
     "metadata": {},
     "output_type": "execute_result"
    }
   ],
   "source": [
    "tc.data"
   ]
  },
  {
   "cell_type": "markdown",
   "metadata": {},
   "source": [
    "If there are no active TCs try loading local files"
   ]
  },
  {
   "cell_type": "code",
   "execution_count": 18,
   "metadata": {
    "collapsed": false
   },
   "outputs": [],
   "source": [
    "tc.parse_atcf(filename='../test/matthew14l.2016092912.trak.hwrf.atcfunix')"
   ]
  },
  {
   "cell_type": "code",
   "execution_count": 20,
   "metadata": {
    "collapsed": false
   },
   "outputs": [
    {
     "data": {
      "text/plain": [
       "['MATTHEW14L']"
      ]
     },
     "execution_count": 20,
     "metadata": {},
     "output_type": "execute_result"
    }
   ],
   "source": [
    "tc.name"
   ]
  },
  {
   "cell_type": "code",
   "execution_count": 21,
   "metadata": {
    "collapsed": false
   },
   "outputs": [
    {
     "data": {
      "text/plain": [
       "['AL']"
      ]
     },
     "execution_count": 21,
     "metadata": {},
     "output_type": "execute_result"
    }
   ],
   "source": [
    "tc.basin"
   ]
  },
  {
   "cell_type": "code",
   "execution_count": 22,
   "metadata": {
    "collapsed": false
   },
   "outputs": [
    {
     "data": {
      "text/plain": [
       "[2016092912]"
      ]
     },
     "execution_count": 22,
     "metadata": {},
     "output_type": "execute_result"
    }
   ],
   "source": [
    "tc.date"
   ]
  },
  {
   "cell_type": "code",
   "execution_count": 23,
   "metadata": {
    "collapsed": false
   },
   "outputs": [
    {
     "data": {
      "text/plain": [
       "[                        t     hurName   lat   lon  pcenter  penv  rmax  vmax  \\\n",
       " time                                                                           \n",
       " 0.0   2016-09-29 12:00:00  MATTHEW14L  14.2 -65.5      995  1010    37    60   \n",
       " 1.0   2016-09-29 13:00:00  MATTHEW14L  14.2 -65.7      998  1010    25    57   \n",
       " 2.0   2016-09-29 14:00:00  MATTHEW14L  14.3 -65.9      997  1010    31    66   \n",
       " 3.0   2016-09-29 15:00:00  MATTHEW14L  14.3 -66.1      995  1010    26    65   \n",
       " 4.0   2016-09-29 16:00:00  MATTHEW14L  14.3 -66.3      993  1010    23    66   \n",
       " 5.0   2016-09-29 17:00:00  MATTHEW14L  14.3 -66.4      992  1010    37    61   \n",
       " 6.0   2016-09-29 18:00:00  MATTHEW14L  14.4 -66.6      990  1010    39    61   \n",
       " 7.0   2016-09-29 19:00:00  MATTHEW14L  14.4 -66.9      990  1010    28    61   \n",
       " 8.0   2016-09-29 20:00:00  MATTHEW14L  14.5 -67.1      989  1010    29    63   \n",
       " 9.0   2016-09-29 21:00:00  MATTHEW14L  14.6 -67.3      989  1010    24    64   \n",
       " 12.0  2016-09-30 00:00:00  MATTHEW14L  14.5 -68.1      989  1010    23    69   \n",
       " 15.0  2016-09-30 03:00:00  MATTHEW14L  14.4 -68.6      986  1010    24    80   \n",
       " 18.0  2016-09-30 06:00:00  MATTHEW14L  14.4 -69.2      983  1010    22    78   \n",
       " 21.0  2016-09-30 09:00:00  MATTHEW14L  14.2 -69.7      984  1010    22    69   \n",
       " 24.0  2016-09-30 12:00:00  MATTHEW14L  14.1 -70.2      983  1010    20    72   \n",
       " 27.0  2016-09-30 15:00:00  MATTHEW14L  14.0 -70.6      979  1010    19    75   \n",
       " 30.0  2016-09-30 18:00:00  MATTHEW14L  13.9 -70.9      974  1010    17    86   \n",
       " 33.0  2016-09-30 21:00:00  MATTHEW14L  13.9 -71.3      972  1010    15    85   \n",
       " 36.0  2016-10-01 00:00:00  MATTHEW14L  13.9 -71.5      970  1010    15    91   \n",
       " 39.0  2016-10-01 03:00:00  MATTHEW14L  13.9 -71.7      969  1010    14    90   \n",
       " 42.0  2016-10-01 06:00:00  MATTHEW14L  14.0 -71.8      966  1010    13    87   \n",
       " 45.0  2016-10-01 09:00:00  MATTHEW14L  14.2 -72.0      966  1010    14    98   \n",
       " 48.0  2016-10-01 12:00:00  MATTHEW14L  14.3 -72.4      967  1010    22    98   \n",
       " 51.0  2016-10-01 15:00:00  MATTHEW14L  14.3 -72.8      971  1010    21    93   \n",
       " 54.0  2016-10-01 18:00:00  MATTHEW14L  14.4 -73.4      974  1010    15    73   \n",
       " 57.0  2016-10-01 21:00:00  MATTHEW14L  14.5 -73.7      976  1010    16    79   \n",
       " 60.0  2016-10-02 00:00:00  MATTHEW14L  14.6 -73.9      978  1010    14    70   \n",
       " 63.0  2016-10-02 03:00:00  MATTHEW14L  14.8 -74.2      974  1010    15    76   \n",
       " 66.0  2016-10-02 06:00:00  MATTHEW14L  15.1 -74.4      973  1010    18    63   \n",
       " 69.0  2016-10-02 09:00:00  MATTHEW14L  15.4 -74.7      972  1010    16    77   \n",
       " 72.0  2016-10-02 12:00:00  MATTHEW14L  15.7 -75.0      971  1010    18    82   \n",
       " 75.0  2016-10-02 15:00:00  MATTHEW14L  16.0 -75.2      968  1010    19    85   \n",
       " 78.0  2016-10-02 18:00:00  MATTHEW14L  16.3 -75.5      964  1010    17    79   \n",
       " 81.0  2016-10-02 21:00:00  MATTHEW14L  16.6 -75.6      962  1010    18    86   \n",
       " 84.0  2016-10-03 00:00:00  MATTHEW14L  16.9 -75.5      960  1010    15    82   \n",
       " 87.0  2016-10-03 03:00:00  MATTHEW14L  17.4 -75.5      957  1010    17    91   \n",
       " 90.0  2016-10-03 06:00:00  MATTHEW14L  18.1 -75.5      952  1010    18   100   \n",
       " 93.0  2016-10-03 09:00:00  MATTHEW14L  18.6 -75.5      947  1010    13   105   \n",
       " 96.0  2016-10-03 12:00:00  MATTHEW14L  19.2 -75.5      944  1010    13   114   \n",
       " 99.0  2016-10-03 15:00:00  MATTHEW14L  20.0 -75.7      947  1010    20    97   \n",
       " 102.0 2016-10-03 18:00:00  MATTHEW14L  20.7 -75.9      952  1010    16    91   \n",
       " 105.0 2016-10-03 21:00:00  MATTHEW14L  21.1 -76.1      958  1010    17    84   \n",
       " 108.0 2016-10-04 00:00:00  MATTHEW14L  21.4 -75.9      962  1010    25    77   \n",
       " 111.0 2016-10-04 03:00:00  MATTHEW14L  22.1 -75.8      960  1010    20    84   \n",
       " 114.0 2016-10-04 06:00:00  MATTHEW14L  22.8 -75.7      957  1010    23    86   \n",
       " 117.0 2016-10-04 09:00:00  MATTHEW14L  23.3 -75.8      954  1010    20    93   \n",
       " 120.0 2016-10-04 12:00:00  MATTHEW14L  23.8 -75.7      954  1010    18    92   \n",
       " 123.0 2016-10-04 15:00:00  MATTHEW14L  24.3 -75.6      949  1010    18    98   \n",
       " 126.0 2016-10-04 18:00:00  MATTHEW14L  24.9 -75.3      943  1010    20   101   \n",
       " \n",
       "         34ne   34nw  ...    34sw   50ne   50nw  50se  50sw  64ne  64nw  64se  \\\n",
       " time                 ...                                                       \n",
       " 0.0    151.0  146.0  ...   118.0   73.0    0.0   0.0  69.0   0.0   0.0   0.0   \n",
       " 1.0    156.0  154.0  ...   101.0   66.0    0.0  35.0  56.0   0.0   0.0   0.0   \n",
       " 2.0    142.0  136.0  ...   114.0   62.0   42.0   0.0  55.0  35.0   0.0   0.0   \n",
       " 3.0    137.0  150.0  ...   130.0   61.0    0.0  28.0  59.0   0.0   0.0   0.0   \n",
       " 4.0    144.0  144.0  ...   160.0   66.0    0.0  33.0  79.0   0.0   0.0  27.0   \n",
       " 5.0    137.0  146.0  ...   182.0   51.0   28.0  37.0  78.0   0.0   0.0   0.0   \n",
       " 6.0    136.0  143.0  ...   144.0   56.0   37.0  38.0  78.0   0.0   0.0   0.0   \n",
       " 7.0    139.0  122.0  ...   156.0   65.0    0.0  25.0  69.0   0.0   0.0   0.0   \n",
       " 8.0    135.0  110.0  ...   148.0   67.0   37.0  28.0  61.0   0.0   0.0   0.0   \n",
       " 9.0    129.0   73.0  ...   156.0   59.0   38.0  33.0  64.0   0.0   0.0   0.0   \n",
       " 12.0   190.0   74.0  ...   144.0   59.0   36.0  28.0  58.0  31.0   0.0   0.0   \n",
       " 15.0   181.0   80.0  ...   169.0   49.0   39.0  28.0  58.0  33.0   0.0   0.0   \n",
       " 18.0   159.0  175.0  ...   140.0   48.0   35.0  30.0  51.0  34.0   0.0  25.0   \n",
       " 21.0   152.0  163.0  ...   134.0   48.0   36.0  31.0  50.0  25.0   0.0   0.0   \n",
       " 24.0   154.0  154.0  ...   141.0   53.0   32.0  27.0  58.0  34.0   0.0  20.0   \n",
       " 27.0   156.0  156.0  ...   159.0   82.0   29.0  38.0  66.0  24.0  20.0  30.0   \n",
       " 30.0   142.0   89.0  ...   153.0   84.0   38.0  29.0  54.0  26.0  24.0  16.0   \n",
       " 33.0   127.0  117.0  ...   201.0   50.0   34.0  26.0  52.0  25.0  21.0  16.0   \n",
       " 36.0   118.0   86.0  ...   105.0   48.0   33.0  28.0  51.0  28.0  23.0  18.0   \n",
       " 39.0   130.0  130.0  ...   163.0   77.0   34.0  30.0  49.0  24.0  24.0  20.0   \n",
       " 42.0   121.0  112.0  ...   108.0   63.0   41.0  32.0  61.0  28.0  25.0  22.0   \n",
       " 45.0   110.0   89.0  ...    96.0   67.0   37.0  29.0  49.0  30.0  26.0  22.0   \n",
       " 48.0   121.0  152.0  ...    96.0   59.0   41.0  17.0  61.0  44.0   0.0   0.0   \n",
       " 51.0   128.0  143.0  ...   146.0   61.0   14.0  26.0  56.0  39.0   0.0   0.0   \n",
       " 54.0   145.0   93.0  ...   118.0   48.0   30.0  29.0  53.0  16.0   0.0   0.0   \n",
       " 57.0   121.0  175.0  ...    95.0   39.0   29.0  23.0  42.0  25.0   0.0  17.0   \n",
       " 60.0   112.0  153.0  ...   145.0   43.0   31.0  33.0  44.0  14.0  14.0   0.0   \n",
       " 63.0   127.0  113.0  ...   170.0   45.0   27.0  32.0  41.0  21.0  17.0  22.0   \n",
       " 66.0   129.0  171.0  ...   101.0   69.0   37.0  37.0  51.0   0.0   0.0   0.0   \n",
       " 69.0   168.0  167.0  ...   102.0   52.0   50.0  41.0  51.0  28.0  22.0  26.0   \n",
       " 72.0   173.0  155.0  ...   135.0   85.0   39.0  37.0  46.0  30.0  29.0  28.0   \n",
       " 75.0   158.0  150.0  ...   109.0   68.0   70.0  37.0  59.0  34.0  30.0  22.0   \n",
       " 78.0   174.0  177.0  ...   119.0   60.0   64.0  43.0  52.0  34.0  28.0  28.0   \n",
       " 81.0   185.0  128.0  ...   105.0  110.0   44.0  47.0  49.0  30.0  29.0  35.0   \n",
       " 84.0   186.0  112.0  ...   112.0   91.0   63.0  53.0  56.0  36.0  36.0  30.0   \n",
       " 87.0   169.0  128.0  ...   110.0   76.0   60.0  57.0  76.0  39.0  43.0  44.0   \n",
       " 90.0   169.0  157.0  ...   102.0   89.0   67.0  67.0  52.0  42.0  44.0  30.0   \n",
       " 93.0   153.0  165.0  ...   112.0   73.0   66.0  58.0  63.0  45.0  44.0  36.0   \n",
       " 96.0   127.0  173.0  ...   105.0   79.0   95.0  54.0  53.0  53.0  44.0  37.0   \n",
       " 99.0   128.0  229.0  ...   102.0   75.0   59.0  70.0  68.0  56.0  47.0  40.0   \n",
       " 102.0  137.0  229.0  ...    97.0   78.0   56.0  72.0  58.0  44.0  27.0   0.0   \n",
       " 105.0  168.0  251.0  ...   106.0  136.0   44.0  26.0  57.0  43.0  31.0   0.0   \n",
       " 108.0  190.0  208.0  ...   142.0  127.0   54.0  48.0  81.0  35.0  39.0  23.0   \n",
       " 111.0  184.0  168.0  ...   151.0   81.0   84.0  57.0  42.0  38.0  42.0  22.0   \n",
       " 114.0  185.0  191.0  ...   227.0  145.0   88.0  82.0  61.0  49.0  47.0  28.0   \n",
       " 117.0  174.0  186.0  ...   125.0   82.0   82.0  65.0  60.0  49.0  55.0  28.0   \n",
       " 120.0  186.0  202.0  ...   161.0  100.0  130.0  65.0  71.0  54.0  56.0  43.0   \n",
       " 123.0  194.0  194.0  ...   180.0  122.0  131.0  73.0  84.0  64.0  47.0  35.0   \n",
       " 126.0  178.0  183.0  ...   137.0  110.0  115.0  80.0  91.0  59.0  60.0  75.0   \n",
       " \n",
       "        64sw    dp  \n",
       " time               \n",
       " 0.0     0.0  1500  \n",
       " 1.0     0.0  1200  \n",
       " 2.0     0.0  1300  \n",
       " 3.0    29.0  1500  \n",
       " 4.0    38.0  1700  \n",
       " 5.0     0.0  1800  \n",
       " 6.0     0.0  2000  \n",
       " 7.0     0.0  2000  \n",
       " 8.0     0.0  2100  \n",
       " 9.0    25.0  2100  \n",
       " 12.0   33.0  2100  \n",
       " 15.0   36.0  2400  \n",
       " 18.0   36.0  2700  \n",
       " 21.0   22.0  2600  \n",
       " 24.0   31.0  2700  \n",
       " 27.0   33.0  3100  \n",
       " 30.0   22.0  3600  \n",
       " 33.0   32.0  3800  \n",
       " 36.0   28.0  4000  \n",
       " 39.0   30.0  4100  \n",
       " 42.0   25.0  4400  \n",
       " 45.0   34.0  4400  \n",
       " 48.0   43.0  4300  \n",
       " 51.0   40.0  3900  \n",
       " 54.0   26.0  3600  \n",
       " 57.0   25.0  3400  \n",
       " 60.0   25.0  3200  \n",
       " 63.0   25.0  3600  \n",
       " 66.0    0.0  3700  \n",
       " 69.0   24.0  3800  \n",
       " 72.0   30.0  3900  \n",
       " 75.0   34.0  4200  \n",
       " 78.0   28.0  4600  \n",
       " 81.0   28.0  4800  \n",
       " 84.0   26.0  5000  \n",
       " 87.0   35.0  5300  \n",
       " 90.0   38.0  5800  \n",
       " 93.0   38.0  6300  \n",
       " 96.0   36.0  6600  \n",
       " 99.0   21.0  6300  \n",
       " 102.0  42.0  5800  \n",
       " 105.0  38.0  5200  \n",
       " 108.0  25.0  4800  \n",
       " 111.0  28.0  5000  \n",
       " 114.0  33.0  5300  \n",
       " 117.0  32.0  5600  \n",
       " 120.0  35.0  5600  \n",
       " 123.0  37.0  6100  \n",
       " 126.0  76.0  6700  \n",
       " \n",
       " [49 rows x 21 columns]]"
      ]
     },
     "execution_count": 23,
     "metadata": {},
     "output_type": "execute_result"
    }
   ],
   "source": [
    "tc.data"
   ]
  },
  {
   "cell_type": "markdown",
   "metadata": {},
   "source": [
    "##  convert the values in SI"
   ]
  },
  {
   "cell_type": "code",
   "execution_count": 24,
   "metadata": {
    "collapsed": false
   },
   "outputs": [
    {
     "ename": "AttributeError",
     "evalue": "'list' object has no attribute 'pcenter'",
     "output_type": "error",
     "traceback": [
      "\u001b[0;31m---------------------------------------------------------------------------\u001b[0m",
      "\u001b[0;31mAttributeError\u001b[0m                            Traceback (most recent call last)",
      "\u001b[0;32m<ipython-input-24-660ecf782241>\u001b[0m in \u001b[0;36m<module>\u001b[0;34m()\u001b[0m\n\u001b[0;32m----> 1\u001b[0;31m \u001b[0mtc\u001b[0m\u001b[0;34m.\u001b[0m\u001b[0mtoSI\u001b[0m\u001b[0;34m(\u001b[0m\u001b[0;34m)\u001b[0m\u001b[0;34m\u001b[0m\u001b[0m\n\u001b[0m",
      "\u001b[0;32m/Users/brey/anaconda3/envs/ipykernel_py2/lib/python2.7/site-packages/Storms-0.1-py2.7.egg/Storms/storm.pyc\u001b[0m in \u001b[0;36mtoSI\u001b[0;34m(self, path, pref, output)\u001b[0m\n\u001b[1;32m    166\u001b[0m     \u001b[0;32mdef\u001b[0m \u001b[0mtoSI\u001b[0m\u001b[0;34m(\u001b[0m\u001b[0mself\u001b[0m\u001b[0;34m,\u001b[0m\u001b[0mpath\u001b[0m\u001b[0;34m=\u001b[0m\u001b[0;34m'.'\u001b[0m\u001b[0;34m,\u001b[0m \u001b[0mpref\u001b[0m\u001b[0;34m=\u001b[0m\u001b[0mpn\u001b[0m\u001b[0;34m,\u001b[0m \u001b[0moutput\u001b[0m\u001b[0;34m=\u001b[0m\u001b[0mFalse\u001b[0m\u001b[0;34m)\u001b[0m\u001b[0;34m:\u001b[0m\u001b[0;34m\u001b[0m\u001b[0m\n\u001b[1;32m    167\u001b[0m \u001b[0;34m\u001b[0m\u001b[0m\n\u001b[0;32m--> 168\u001b[0;31m         \u001b[0mdph\u001b[0m\u001b[0;34m=\u001b[0m\u001b[0mpref\u001b[0m\u001b[0;34m-\u001b[0m\u001b[0mself\u001b[0m\u001b[0;34m.\u001b[0m\u001b[0mdata\u001b[0m\u001b[0;34m.\u001b[0m\u001b[0mpcenter\u001b[0m\u001b[0;34m*\u001b[0m\u001b[0;36m100.\u001b[0m \u001b[0;31m#compute dp from reference pressure\u001b[0m\u001b[0;34m\u001b[0m\u001b[0m\n\u001b[0m\u001b[1;32m    169\u001b[0m         \u001b[0mself\u001b[0m\u001b[0;34m.\u001b[0m\u001b[0mdata\u001b[0m\u001b[0;34m=\u001b[0m\u001b[0mself\u001b[0m\u001b[0;34m.\u001b[0m\u001b[0mdata\u001b[0m\u001b[0;34m.\u001b[0m\u001b[0massign\u001b[0m\u001b[0;34m(\u001b[0m\u001b[0mdp\u001b[0m\u001b[0;34m=\u001b[0m\u001b[0mdph\u001b[0m\u001b[0;34m)\u001b[0m  \u001b[0;31m#add to DataFrame\u001b[0m\u001b[0;34m\u001b[0m\u001b[0m\n\u001b[1;32m    170\u001b[0m \u001b[0;34m\u001b[0m\u001b[0m\n",
      "\u001b[0;31mAttributeError\u001b[0m: 'list' object has no attribute 'pcenter'"
     ]
    }
   ],
   "source": [
    "tc.toSI()"
   ]
  },
  {
   "cell_type": "code",
   "execution_count": null,
   "metadata": {
    "collapsed": true
   },
   "outputs": [],
   "source": []
  }
 ],
 "metadata": {
  "kernelspec": {
   "display_name": "Python 2",
   "language": "python",
   "name": "python2"
  },
  "language_info": {
   "codemirror_mode": {
    "name": "ipython",
    "version": 2
   },
   "file_extension": ".py",
   "mimetype": "text/x-python",
   "name": "python",
   "nbconvert_exporter": "python",
   "pygments_lexer": "ipython2",
   "version": "2.7.13"
  }
 },
 "nbformat": 4,
 "nbformat_minor": 2
}
