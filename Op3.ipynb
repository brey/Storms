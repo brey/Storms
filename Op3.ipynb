{
 "cells": [
  {
   "cell_type": "code",
   "execution_count": 91,
   "metadata": {
    "collapsed": true
   },
   "outputs": [],
   "source": [
    "#%matplotlib notebook"
   ]
  },
  {
   "cell_type": "code",
   "execution_count": 1,
   "metadata": {
    "collapsed": false
   },
   "outputs": [
    {
     "name": "stderr",
     "output_type": "stream",
     "text": [
      "/usr/local/lib/python2.7/site-packages/matplotlib/font_manager.py:273: UserWarning: Matplotlib is building the font cache using fc-list. This may take a moment.\n",
      "  warnings.warn('Matplotlib is building the font cache using fc-list. This may take a moment.')\n"
     ]
    }
   ],
   "source": [
    "%matplotlib inline"
   ]
  },
  {
   "cell_type": "code",
   "execution_count": 2,
   "metadata": {
    "collapsed": true
   },
   "outputs": [],
   "source": [
    "import numpy as np\n",
    "# -------------------------------------------------------------------------\n",
    "# Const\n",
    "# -------------------------------------------------------------------------\n",
    "nm2m=1852. # 1 nautical mile to meters\n",
    "kt2ms=nm2m/3600.  # knots to m/s\n",
    "omega=2*np.pi/(3600.*24.) # angular speed omega=2pi*f(=frequency of earth : 1 cycle per day) 2pi* 1 / day in seconds\n",
    "rhoa=1.15 #air density  Kg/m^3\n",
    "radius=6378388 #137. # earth's radius according to WGS 84\n",
    "deg2m=np.pi*radius/180.  # ds on cicle equals ds=r*dth - dth=pi/180\n",
    "pn=101000.  # Atmospheric pressure [N/m^2] (101KPa - enviromental pressure)\n",
    "\n",
    "tetaNE=45. #mean angle [degrees] of North Eastern quadrant\n",
    "tetaNW=135. #        \"              North Western\n",
    "tetaSW=225. #        \"              South West\n",
    "tetaSE=315. #        \"              South East\n",
    "\n",
    "maxR=500.e3  # maximum radius of TC [m] (500Km)"
   ]
  },
  {
   "cell_type": "code",
   "execution_count": 3,
   "metadata": {
    "collapsed": false
   },
   "outputs": [],
   "source": [
    "from netCDF4 import Dataset"
   ]
  },
  {
   "cell_type": "code",
   "execution_count": 4,
   "metadata": {
    "collapsed": true
   },
   "outputs": [],
   "source": [
    "import glob"
   ]
  },
  {
   "cell_type": "code",
   "execution_count": 5,
   "metadata": {
    "collapsed": true
   },
   "outputs": [],
   "source": [
    "import re"
   ]
  },
  {
   "cell_type": "code",
   "execution_count": 6,
   "metadata": {
    "collapsed": true
   },
   "outputs": [],
   "source": [
    "import datetime"
   ]
  },
  {
   "cell_type": "code",
   "execution_count": 7,
   "metadata": {
    "collapsed": false
   },
   "outputs": [],
   "source": [
    "import pandas as pd\n",
    "import matplotlib.pyplot as plt\n",
    "import mplleaflet"
   ]
  },
  {
   "cell_type": "code",
   "execution_count": 8,
   "metadata": {
    "collapsed": true
   },
   "outputs": [],
   "source": [
    "def hvel(r):\n",
    "    x=0.5+(r-rmaxh)/(maxR-rmaxh)*kh\n",
    "    return (bh/rhoa*(rmaxh/r)**bh*dph*np.exp(-(rmaxh/r)**bh))**x"
   ]
  },
  {
   "cell_type": "code",
   "execution_count": 9,
   "metadata": {
    "collapsed": true
   },
   "outputs": [],
   "source": [
    "def pres(r):\n",
    "    return pch+dph*np.exp(-(rmaxh/r)**bh)"
   ]
  },
  {
   "cell_type": "code",
   "execution_count": 10,
   "metadata": {
    "collapsed": true
   },
   "outputs": [],
   "source": [
    "def hvel2d(l1,l2,vtx,vty):\n",
    "    r=np.sqrt(l1**2+l2**2)\n",
    "    xh=0.5+(r-rmaxh)/(maxR-rmaxh)*kh\n",
    "    ur=(bh/rhoa*(rmaxh/r)**bh*dph*np.exp(-(rmaxh/r)**bh))**xh\n",
    "    theta=np.arctan2(l2,l1)\n",
    "    ux=-ur*np.sin(theta)\n",
    "    uy=ur*np.cos(theta)\n",
    "    return ux+vtx,uy+vty, pres(r)"
   ]
  },
  {
   "cell_type": "code",
   "execution_count": 11,
   "metadata": {
    "collapsed": true
   },
   "outputs": [],
   "source": [
    "path='../BestTrack/'"
   ]
  },
  {
   "cell_type": "code",
   "execution_count": 12,
   "metadata": {
    "collapsed": false
   },
   "outputs": [],
   "source": [
    "data=pd.read_csv(path+'Allstorms.ibtracs_all.v03r09.csv', header=1, low_memory=False)"
   ]
  },
  {
   "cell_type": "code",
   "execution_count": 13,
   "metadata": {
    "collapsed": false
   },
   "outputs": [
    {
     "data": {
      "text/html": [
       "<div>\n",
       "<table border=\"1\" class=\"dataframe\">\n",
       "  <thead>\n",
       "    <tr style=\"text-align: right;\">\n",
       "      <th></th>\n",
       "      <th>Serial_Num</th>\n",
       "      <th>Season</th>\n",
       "      <th>Num</th>\n",
       "      <th>Basin</th>\n",
       "      <th>Sub_basin</th>\n",
       "      <th>Name</th>\n",
       "      <th>ISO_time</th>\n",
       "      <th>Nature</th>\n",
       "      <th>Latitude</th>\n",
       "      <th>Longitude</th>\n",
       "      <th>...</th>\n",
       "      <th>jtwc_??_wrad34_rad3</th>\n",
       "      <th>jtwc_??_wrad34_rad4</th>\n",
       "      <th>jtwc_??_wrad50_rad1</th>\n",
       "      <th>jtwc_??_wrad50_rad2</th>\n",
       "      <th>jtwc_??_wrad50_rad3</th>\n",
       "      <th>jtwc_??_wrad50_rad4</th>\n",
       "      <th>jtwc_??_wrad64_rad1</th>\n",
       "      <th>jtwc_??_wrad64_rad2</th>\n",
       "      <th>jtwc_??_wrad64_rad3</th>\n",
       "      <th>jtwc_??_wrad64_rad4</th>\n",
       "    </tr>\n",
       "  </thead>\n",
       "  <tbody>\n",
       "    <tr>\n",
       "      <th>0</th>\n",
       "      <td>NaN</td>\n",
       "      <td>Year</td>\n",
       "      <td>#</td>\n",
       "      <td>BB</td>\n",
       "      <td>BB</td>\n",
       "      <td>NaN</td>\n",
       "      <td>YYYY-MM-DD HH:MM:SS</td>\n",
       "      <td>NaN</td>\n",
       "      <td>deg_north</td>\n",
       "      <td>deg_east</td>\n",
       "      <td>...</td>\n",
       "      <td>nmile</td>\n",
       "      <td>nmile</td>\n",
       "      <td>nmile</td>\n",
       "      <td>nmile</td>\n",
       "      <td>nmile</td>\n",
       "      <td>nmile</td>\n",
       "      <td>nmile</td>\n",
       "      <td>nmile</td>\n",
       "      <td>nmile</td>\n",
       "      <td>nmile</td>\n",
       "    </tr>\n",
       "    <tr>\n",
       "      <th>1</th>\n",
       "      <td>1842298N11080</td>\n",
       "      <td>1842</td>\n",
       "      <td>01</td>\n",
       "      <td>NI</td>\n",
       "      <td>BB</td>\n",
       "      <td>NOT NAMED</td>\n",
       "      <td>1842-10-25 06:00:00</td>\n",
       "      <td>NR</td>\n",
       "      <td>-999.</td>\n",
       "      <td>-999.</td>\n",
       "      <td>...</td>\n",
       "      <td>-999.000</td>\n",
       "      <td>-999.000</td>\n",
       "      <td>-999.000</td>\n",
       "      <td>-999.000</td>\n",
       "      <td>-999.000</td>\n",
       "      <td>-999.000</td>\n",
       "      <td>-999.000</td>\n",
       "      <td>-999.000</td>\n",
       "      <td>-999.000</td>\n",
       "      <td>-999.000</td>\n",
       "    </tr>\n",
       "    <tr>\n",
       "      <th>2</th>\n",
       "      <td>1842298N11080</td>\n",
       "      <td>1842</td>\n",
       "      <td>01</td>\n",
       "      <td>NI</td>\n",
       "      <td>BB</td>\n",
       "      <td>NOT NAMED</td>\n",
       "      <td>1842-10-25 12:00:00</td>\n",
       "      <td>NR</td>\n",
       "      <td>-999.</td>\n",
       "      <td>-999.</td>\n",
       "      <td>...</td>\n",
       "      <td>-999.000</td>\n",
       "      <td>-999.000</td>\n",
       "      <td>-999.000</td>\n",
       "      <td>-999.000</td>\n",
       "      <td>-999.000</td>\n",
       "      <td>-999.000</td>\n",
       "      <td>-999.000</td>\n",
       "      <td>-999.000</td>\n",
       "      <td>-999.000</td>\n",
       "      <td>-999.000</td>\n",
       "    </tr>\n",
       "    <tr>\n",
       "      <th>3</th>\n",
       "      <td>1842298N11080</td>\n",
       "      <td>1842</td>\n",
       "      <td>01</td>\n",
       "      <td>NI</td>\n",
       "      <td>AS</td>\n",
       "      <td>NOT NAMED</td>\n",
       "      <td>1842-10-25 18:00:00</td>\n",
       "      <td>NR</td>\n",
       "      <td>-999.</td>\n",
       "      <td>-999.</td>\n",
       "      <td>...</td>\n",
       "      <td>-999.000</td>\n",
       "      <td>-999.000</td>\n",
       "      <td>-999.000</td>\n",
       "      <td>-999.000</td>\n",
       "      <td>-999.000</td>\n",
       "      <td>-999.000</td>\n",
       "      <td>-999.000</td>\n",
       "      <td>-999.000</td>\n",
       "      <td>-999.000</td>\n",
       "      <td>-999.000</td>\n",
       "    </tr>\n",
       "    <tr>\n",
       "      <th>4</th>\n",
       "      <td>1842298N11080</td>\n",
       "      <td>1842</td>\n",
       "      <td>01</td>\n",
       "      <td>NI</td>\n",
       "      <td>AS</td>\n",
       "      <td>NOT NAMED</td>\n",
       "      <td>1842-10-26 00:00:00</td>\n",
       "      <td>NR</td>\n",
       "      <td>-999.</td>\n",
       "      <td>-999.</td>\n",
       "      <td>...</td>\n",
       "      <td>-999.000</td>\n",
       "      <td>-999.000</td>\n",
       "      <td>-999.000</td>\n",
       "      <td>-999.000</td>\n",
       "      <td>-999.000</td>\n",
       "      <td>-999.000</td>\n",
       "      <td>-999.000</td>\n",
       "      <td>-999.000</td>\n",
       "      <td>-999.000</td>\n",
       "      <td>-999.000</td>\n",
       "    </tr>\n",
       "  </tbody>\n",
       "</table>\n",
       "<p>5 rows × 200 columns</p>\n",
       "</div>"
      ],
      "text/plain": [
       "      Serial_Num Season Num Basin Sub_basin       Name             ISO_time  \\\n",
       "0            NaN   Year   #    BB        BB        NaN  YYYY-MM-DD HH:MM:SS   \n",
       "1  1842298N11080   1842  01    NI        BB  NOT NAMED  1842-10-25 06:00:00   \n",
       "2  1842298N11080   1842  01    NI        BB  NOT NAMED  1842-10-25 12:00:00   \n",
       "3  1842298N11080   1842  01    NI        AS  NOT NAMED  1842-10-25 18:00:00   \n",
       "4  1842298N11080   1842  01    NI        AS  NOT NAMED  1842-10-26 00:00:00   \n",
       "\n",
       "  Nature   Latitude Longitude         ...         jtwc_??_wrad34_rad3  \\\n",
       "0    NaN  deg_north  deg_east         ...                       nmile   \n",
       "1     NR      -999.     -999.         ...                    -999.000   \n",
       "2     NR      -999.     -999.         ...                    -999.000   \n",
       "3     NR      -999.     -999.         ...                    -999.000   \n",
       "4     NR      -999.     -999.         ...                    -999.000   \n",
       "\n",
       "  jtwc_??_wrad34_rad4 jtwc_??_wrad50_rad1 jtwc_??_wrad50_rad2  \\\n",
       "0               nmile               nmile               nmile   \n",
       "1            -999.000            -999.000            -999.000   \n",
       "2            -999.000            -999.000            -999.000   \n",
       "3            -999.000            -999.000            -999.000   \n",
       "4            -999.000            -999.000            -999.000   \n",
       "\n",
       "  jtwc_??_wrad50_rad3 jtwc_??_wrad50_rad4 jtwc_??_wrad64_rad1  \\\n",
       "0               nmile               nmile               nmile   \n",
       "1            -999.000            -999.000            -999.000   \n",
       "2            -999.000            -999.000            -999.000   \n",
       "3            -999.000            -999.000            -999.000   \n",
       "4            -999.000            -999.000            -999.000   \n",
       "\n",
       "  jtwc_??_wrad64_rad2 jtwc_??_wrad64_rad3 jtwc_??_wrad64_rad4  \n",
       "0               nmile               nmile               nmile  \n",
       "1            -999.000            -999.000            -999.000  \n",
       "2            -999.000            -999.000            -999.000  \n",
       "3            -999.000            -999.000            -999.000  \n",
       "4            -999.000            -999.000            -999.000  \n",
       "\n",
       "[5 rows x 200 columns]"
      ]
     },
     "execution_count": 13,
     "metadata": {},
     "output_type": "execute_result"
    }
   ],
   "source": [
    "data.head()"
   ]
  },
  {
   "cell_type": "code",
   "execution_count": 14,
   "metadata": {
    "collapsed": true
   },
   "outputs": [],
   "source": [
    "storms=Dataset(path+'Allstorms.ibtracs_all.v03r09.nc')"
   ]
  },
  {
   "cell_type": "code",
   "execution_count": 15,
   "metadata": {
    "collapsed": false
   },
   "outputs": [
    {
     "data": {
      "text/plain": [
       "[u'storm_sn',\n",
       " u'name',\n",
       " u'numObs',\n",
       " u'season',\n",
       " u'track_type',\n",
       " u'genesis_basin',\n",
       " u'num_basins',\n",
       " u'basin',\n",
       " u'wind_avg_period',\n",
       " u'source',\n",
       " u'source_time',\n",
       " u'lat_for_mapping',\n",
       " u'lon_for_mapping',\n",
       " u'nature_for_mapping',\n",
       " u'source_lat',\n",
       " u'source_lon',\n",
       " u'source_wind',\n",
       " u'source_pres',\n",
       " u'dist2land',\n",
       " u'landfall']"
      ]
     },
     "execution_count": 15,
     "metadata": {},
     "output_type": "execute_result"
    }
   ],
   "source": [
    "storms.variables.keys()"
   ]
  },
  {
   "cell_type": "markdown",
   "metadata": {},
   "source": [
    "# ANALYSIS STARTS HERE"
   ]
  },
  {
   "cell_type": "code",
   "execution_count": 16,
   "metadata": {
    "collapsed": true
   },
   "outputs": [],
   "source": [
    "hurName='PAM'\n",
    "year = '2015'"
   ]
  },
  {
   "cell_type": "code",
   "execution_count": 17,
   "metadata": {
    "collapsed": false
   },
   "outputs": [],
   "source": [
    "hurdata = data[data['Name'].str.contains(hurName,na=False) & data['ISO_time'].str.contains(year,na=False)]"
   ]
  },
  {
   "cell_type": "code",
   "execution_count": 18,
   "metadata": {
    "collapsed": false
   },
   "outputs": [
    {
     "data": {
      "text/plain": [
       "Serial_Num                     2015066S08170\n",
       "Season                                  2015\n",
       "Num                                       05\n",
       "Basin                                     SP\n",
       "Sub_basin                                 MM\n",
       "Name                                     PAM\n",
       "ISO_time                 2015-03-07 06:00:00\n",
       "Nature                                    NR\n",
       "Latitude                               -8.00\n",
       "Longitude                             169.50\n",
       "Wind(WMO)                               20.0\n",
       "Pres(WMO)                             1000.0\n",
       "Center                                  nadi\n",
       "Wind(WMO) Percentile                   4.063\n",
       "Pres(WMO) Percentile                  10.347\n",
       "Track_type                              main\n",
       "Latitude_for_mapping                   -8.00\n",
       "Longitude_for_mapping                 169.50\n",
       "Current Basin                             SP\n",
       "hurdat_atl_lat                        -999.0\n",
       "hurdat_atl_lon                        -999.0\n",
       "hurdat_atl_grade                      -999.0\n",
       "hurdat_atl_wind                       -999.0\n",
       "hurdat_atl_pres                       -999.0\n",
       "td9636_lat                            -999.0\n",
       "td9636_lon                            -999.0\n",
       "td9636_grade                          -999.0\n",
       "td9636_wind                           -999.0\n",
       "td9636_pres                           -999.0\n",
       "reunion_lat                           -999.0\n",
       "                                ...         \n",
       "atcf_wrad50_rad1                    -999.000\n",
       "atcf_wrad50_rad2                    -999.000\n",
       "atcf_wrad50_rad3                    -999.000\n",
       "atcf_wrad50_rad4                    -999.000\n",
       "atcf_wrad64_rad1                    -999.000\n",
       "atcf_wrad64_rad2                    -999.000\n",
       "atcf_wrad64_rad3                    -999.000\n",
       "atcf_wrad64_rad4                    -999.000\n",
       "tokyo_dir50                         -999.000\n",
       "tokyo_long50                        -999.000\n",
       "tokyo_short50                       -999.000\n",
       "tokyo_dir30                         -999.000\n",
       "tokyo_long30                        -999.000\n",
       "tokyo_short30                       -999.000\n",
       "jtwc_??_rmw                         -999.000\n",
       "jtwc_??_poci                        -999.000\n",
       "jtwc_??_roci                        -999.000\n",
       "jtwc_??_eye                         -999.000\n",
       "jtwc_??_wrad34_rad1                 -999.000\n",
       "jtwc_??_wrad34_rad2                 -999.000\n",
       "jtwc_??_wrad34_rad3                 -999.000\n",
       "jtwc_??_wrad34_rad4                 -999.000\n",
       "jtwc_??_wrad50_rad1                 -999.000\n",
       "jtwc_??_wrad50_rad2                 -999.000\n",
       "jtwc_??_wrad50_rad3                 -999.000\n",
       "jtwc_??_wrad50_rad4                 -999.000\n",
       "jtwc_??_wrad64_rad1                 -999.000\n",
       "jtwc_??_wrad64_rad2                 -999.000\n",
       "jtwc_??_wrad64_rad3                 -999.000\n",
       "jtwc_??_wrad64_rad4                 -999.000\n",
       "Name: 341534, dtype: object"
      ]
     },
     "execution_count": 18,
     "metadata": {},
     "output_type": "execute_result"
    }
   ],
   "source": [
    "hurdata.iloc[0]"
   ]
  },
  {
   "cell_type": "code",
   "execution_count": 19,
   "metadata": {
    "collapsed": false
   },
   "outputs": [
    {
     "data": {
      "text/plain": [
       "(79, 200)"
      ]
     },
     "execution_count": 19,
     "metadata": {},
     "output_type": "execute_result"
    }
   ],
   "source": [
    "hurdata.shape"
   ]
  },
  {
   "cell_type": "code",
   "execution_count": 20,
   "metadata": {
    "collapsed": false
   },
   "outputs": [],
   "source": [
    "ntc=hurdata['Basin'].unique()"
   ]
  },
  {
   "cell_type": "code",
   "execution_count": 21,
   "metadata": {
    "collapsed": false
   },
   "outputs": [
    {
     "data": {
      "text/plain": [
       "array([' SP'], dtype=object)"
      ]
     },
     "execution_count": 21,
     "metadata": {},
     "output_type": "execute_result"
    }
   ],
   "source": [
    "ntc"
   ]
  },
  {
   "cell_type": "code",
   "execution_count": 22,
   "metadata": {
    "collapsed": false
   },
   "outputs": [],
   "source": [
    "hur1=hurdata.loc[hurdata['Basin']==ntc[0]]"
   ]
  },
  {
   "cell_type": "code",
   "execution_count": 23,
   "metadata": {
    "collapsed": false
   },
   "outputs": [],
   "source": [
    "hur1=hur1.dropna()"
   ]
  },
  {
   "cell_type": "code",
   "execution_count": 24,
   "metadata": {
    "collapsed": false
   },
   "outputs": [],
   "source": [
    "hur1[['Longitude','Latitude']]=hur1[['Longitude','Latitude']].apply(pd.to_numeric)"
   ]
  },
  {
   "cell_type": "code",
   "execution_count": 28,
   "metadata": {
    "collapsed": false
   },
   "outputs": [],
   "source": [
    "hur1.Longitude.loc[hur1.Longitude<0.]=hur1.Longitude.loc[hur1.Longitude<0.].values+360."
   ]
  },
  {
   "cell_type": "code",
   "execution_count": 29,
   "metadata": {
    "collapsed": false
   },
   "outputs": [
    {
     "data": {
      "text/html": [
       "<iframe src=\"data:text/html;base64,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\" width=\"100%\" height=\"240\"></iframe>"
      ],
      "text/plain": [
       "<IPython.core.display.HTML object>"
      ]
     },
     "execution_count": 29,
     "metadata": {},
     "output_type": "execute_result"
    }
   ],
   "source": [
    "plt.plot(hur1['Longitude'],hur1['Latitude'],'o--')\n",
    "mplleaflet.display()"
   ]
  },
  {
   "cell_type": "code",
   "execution_count": 30,
   "metadata": {
    "collapsed": false
   },
   "outputs": [],
   "source": [
    "idf=hur1.iloc[0].Serial_Num"
   ]
  },
  {
   "cell_type": "code",
   "execution_count": 31,
   "metadata": {
    "collapsed": false
   },
   "outputs": [],
   "source": [
    "filename=glob.glob('../BestTrack/ibtracs/{}*'.format(idf))"
   ]
  },
  {
   "cell_type": "code",
   "execution_count": 32,
   "metadata": {
    "collapsed": true
   },
   "outputs": [],
   "source": [
    "dat=Dataset(filename[0])"
   ]
  },
  {
   "cell_type": "code",
   "execution_count": 33,
   "metadata": {
    "collapsed": false
   },
   "outputs": [
    {
     "data": {
      "text/plain": [
       "[u'nobs_wmo',\n",
       " u'nobs',\n",
       " u'genesis_basin',\n",
       " u'num_basins',\n",
       " u'season',\n",
       " u'source',\n",
       " u'track_from_source',\n",
       " u'name_from_source',\n",
       " u'time_wmo',\n",
       " u'isotime_wmo',\n",
       " u'source_wmo',\n",
       " u'averaging_time',\n",
       " u'lat_wmo',\n",
       " u'lon_wmo',\n",
       " u'wind_wmo',\n",
       " u'pres_wmo',\n",
       " u'basin_wmo',\n",
       " u'sub_basin_wmo',\n",
       " u'nature_wmo',\n",
       " u'dist2land_wmo',\n",
       " u'landfall_wmo',\n",
       " u'pres_perc_wmo',\n",
       " u'wind_perc_wmo',\n",
       " u'time',\n",
       " u'isotime',\n",
       " u'lat_for_mapping',\n",
       " u'lon_for_mapping',\n",
       " u'wind_for_mapping',\n",
       " u'pres_for_mapping',\n",
       " u'nature_for_mapping',\n",
       " u'dist2land',\n",
       " u'landfall',\n",
       " u'lat_from_source',\n",
       " u'lon_from_source',\n",
       " u'wind_from_source',\n",
       " u'wind_avg_period',\n",
       " u'wind_perc_from_source',\n",
       " u'pres_from_source',\n",
       " u'pres_perc_from_source',\n",
       " u'basin',\n",
       " u'sub_basin',\n",
       " u'pos_stdev',\n",
       " u'pos_num',\n",
       " u'pos_flag',\n",
       " u'wind_quality',\n",
       " u'wind_stdev',\n",
       " u'wind_condition',\n",
       " u'wind_num',\n",
       " u'wind_flag',\n",
       " u'wind_maximum',\n",
       " u'wind_minimum',\n",
       " u'wind_median',\n",
       " u'pres_quality',\n",
       " u'pres_stdev',\n",
       " u'pres_condition',\n",
       " u'pres_flag',\n",
       " u'pres_num',\n",
       " u'pres_maximum',\n",
       " u'pres_minimum',\n",
       " u'intermediate_files',\n",
       " u'jtwc_sh_att',\n",
       " u'jtwc_sh_wrads',\n",
       " u'jtwc_sh_lat',\n",
       " u'jtwc_sh_lon',\n",
       " u'jtwc_sh_wind',\n",
       " u'jtwc_sh_pres',\n",
       " u'jtwc_sh_class',\n",
       " u'jtwc_sh_rmw',\n",
       " u'jtwc_sh_roci',\n",
       " u'jtwc_sh_poci',\n",
       " u'jtwc_sh_eye',\n",
       " u'jtwc_sh_maxseas',\n",
       " u'jtwc_sh_gust',\n",
       " u'jtwc_sh_sdir',\n",
       " u'jtwc_sh_sspd',\n",
       " u'jtwc_sh_depth',\n",
       " u'jtwc_sh_seascode',\n",
       " u'jtwc_sh_seas',\n",
       " u'jtwc_sh_windcode',\n",
       " u'jtwc_sh_wrad',\n",
       " u'nadi_att',\n",
       " u'nadi_lat',\n",
       " u'nadi_lon',\n",
       " u'nadi_wind',\n",
       " u'nadi_pres',\n",
       " u'wellington_att',\n",
       " u'wellington_lat',\n",
       " u'wellington_lon',\n",
       " u'wellington_wind',\n",
       " u'wellington_pres']"
      ]
     },
     "execution_count": 33,
     "metadata": {},
     "output_type": "execute_result"
    }
   ],
   "source": [
    "dat.variables.keys()"
   ]
  },
  {
   "cell_type": "code",
   "execution_count": 34,
   "metadata": {
    "collapsed": false
   },
   "outputs": [],
   "source": [
    "wradii=dat['jtwc_sh_wrad'][:13]"
   ]
  },
  {
   "cell_type": "code",
   "execution_count": 35,
   "metadata": {
    "collapsed": false
   },
   "outputs": [],
   "source": [
    "wradiinp=np.array(wradii)"
   ]
  },
  {
   "cell_type": "code",
   "execution_count": 36,
   "metadata": {
    "collapsed": false
   },
   "outputs": [],
   "source": [
    "w34= wradiinp[:,0,:]"
   ]
  },
  {
   "cell_type": "code",
   "execution_count": 37,
   "metadata": {
    "collapsed": false
   },
   "outputs": [],
   "source": [
    "w34ne=w34[:,0]\n",
    "w34nw=w34[:,1]\n",
    "w34se=w34[:,2]\n",
    "w34sw=w34[:,3]"
   ]
  },
  {
   "cell_type": "code",
   "execution_count": 38,
   "metadata": {
    "collapsed": false
   },
   "outputs": [],
   "source": [
    "w50=wradiinp[:,1,:]"
   ]
  },
  {
   "cell_type": "code",
   "execution_count": 39,
   "metadata": {
    "collapsed": false
   },
   "outputs": [],
   "source": [
    "w50ne=w50[:,0]\n",
    "w50nw=w50[:,1]\n",
    "w50se=w50[:,2]\n",
    "w50sw=w50[:,3]"
   ]
  },
  {
   "cell_type": "code",
   "execution_count": 40,
   "metadata": {
    "collapsed": false
   },
   "outputs": [],
   "source": [
    "w64=wradiinp[:,2,:]"
   ]
  },
  {
   "cell_type": "code",
   "execution_count": 41,
   "metadata": {
    "collapsed": false
   },
   "outputs": [],
   "source": [
    "w64ne=w64[:,0]\n",
    "w64nw=w64[:,1]\n",
    "w64se=w64[:,2]\n",
    "w64sw=w64[:,3]"
   ]
  },
  {
   "cell_type": "code",
   "execution_count": 42,
   "metadata": {
    "collapsed": false
   },
   "outputs": [],
   "source": [
    "isot=dat['isotime'][:13]"
   ]
  },
  {
   "cell_type": "code",
   "execution_count": 43,
   "metadata": {
    "collapsed": false
   },
   "outputs": [],
   "source": [
    "isot1=[''.join(x) for x in isot]"
   ]
  },
  {
   "cell_type": "code",
   "execution_count": 44,
   "metadata": {
    "collapsed": false
   },
   "outputs": [],
   "source": [
    "time=[re.sub(r'[-: ]+','',x)[:-4] for x in isot1]"
   ]
  },
  {
   "cell_type": "code",
   "execution_count": 45,
   "metadata": {
    "collapsed": false
   },
   "outputs": [],
   "source": [
    "lat=dat['jtwc_sh_lat'][:13]\n",
    "lon=dat['jtwc_sh_lon'][:13]\n",
    "pcenter=dat['jtwc_sh_pres'][:13]\n",
    "vmaxh=dat['jtwc_sh_wind'][:13] # 10 minute wind in Knots\n",
    "rmaxh=dat['jtwc_sh_rmw'][:13]*nm2m"
   ]
  },
  {
   "cell_type": "code",
   "execution_count": 89,
   "metadata": {
    "collapsed": true
   },
   "outputs": [],
   "source": [
    "dic={'time':time, 'lat':lat,'lon':lon,'pcenter':pcenter,'vmax':vmaxh, 'rmax':rmaxh, '34ne': w34ne, '34nw': w34nw, '34se':w34se, '34sw':w34sw, '50ne': w50ne, '50nw': w50nw, '50se':w50se, '50sw':w50sw,'64ne': w64ne, '64nw': w64nw, '64se':w64se, '64sw':w64sw} "
   ]
  },
  {
   "cell_type": "code",
   "execution_count": 129,
   "metadata": {
    "collapsed": false
   },
   "outputs": [],
   "source": [
    "inpData=pd.DataFrame(dic)"
   ]
  },
  {
   "cell_type": "code",
   "execution_count": 130,
   "metadata": {
    "collapsed": false
   },
   "outputs": [],
   "source": [
    "inpData=inpData.apply(pd.to_numeric)"
   ]
  },
  {
   "cell_type": "code",
   "execution_count": 131,
   "metadata": {
    "collapsed": false
   },
   "outputs": [
    {
     "data": {
      "text/html": [
       "<div>\n",
       "<table border=\"1\" class=\"dataframe\">\n",
       "  <thead>\n",
       "    <tr style=\"text-align: right;\">\n",
       "      <th></th>\n",
       "      <th>34ne</th>\n",
       "      <th>34nw</th>\n",
       "      <th>34se</th>\n",
       "      <th>34sw</th>\n",
       "      <th>50ne</th>\n",
       "      <th>50nw</th>\n",
       "      <th>50se</th>\n",
       "      <th>50sw</th>\n",
       "      <th>64ne</th>\n",
       "      <th>64nw</th>\n",
       "      <th>64se</th>\n",
       "      <th>64sw</th>\n",
       "      <th>lat</th>\n",
       "      <th>lon</th>\n",
       "      <th>pcenter</th>\n",
       "      <th>rmax</th>\n",
       "      <th>time</th>\n",
       "      <th>vmax</th>\n",
       "    </tr>\n",
       "  </thead>\n",
       "  <tbody>\n",
       "    <tr>\n",
       "      <th>0</th>\n",
       "      <td>-32767</td>\n",
       "      <td>-32767</td>\n",
       "      <td>-32767</td>\n",
       "      <td>-32767</td>\n",
       "      <td>-32767</td>\n",
       "      <td>-32767</td>\n",
       "      <td>-32767</td>\n",
       "      <td>-32767</td>\n",
       "      <td>-32767</td>\n",
       "      <td>-32767</td>\n",
       "      <td>-32767</td>\n",
       "      <td>-32767</td>\n",
       "      <td>9.969210e+36</td>\n",
       "      <td>9.969210e+36</td>\n",
       "      <td>-32767</td>\n",
       "      <td>-60684484.0</td>\n",
       "      <td>2015030706</td>\n",
       "      <td>-32767</td>\n",
       "    </tr>\n",
       "    <tr>\n",
       "      <th>1</th>\n",
       "      <td>-32767</td>\n",
       "      <td>-32767</td>\n",
       "      <td>-32767</td>\n",
       "      <td>-32767</td>\n",
       "      <td>-32767</td>\n",
       "      <td>-32767</td>\n",
       "      <td>-32767</td>\n",
       "      <td>-32767</td>\n",
       "      <td>-32767</td>\n",
       "      <td>-32767</td>\n",
       "      <td>-32767</td>\n",
       "      <td>-32767</td>\n",
       "      <td>9.969210e+36</td>\n",
       "      <td>9.969210e+36</td>\n",
       "      <td>-32767</td>\n",
       "      <td>-60684484.0</td>\n",
       "      <td>2015030712</td>\n",
       "      <td>-32767</td>\n",
       "    </tr>\n",
       "    <tr>\n",
       "      <th>2</th>\n",
       "      <td>-32767</td>\n",
       "      <td>-32767</td>\n",
       "      <td>-32767</td>\n",
       "      <td>-32767</td>\n",
       "      <td>-32767</td>\n",
       "      <td>-32767</td>\n",
       "      <td>-32767</td>\n",
       "      <td>-32767</td>\n",
       "      <td>-32767</td>\n",
       "      <td>-32767</td>\n",
       "      <td>-32767</td>\n",
       "      <td>-32767</td>\n",
       "      <td>9.969210e+36</td>\n",
       "      <td>9.969210e+36</td>\n",
       "      <td>-32767</td>\n",
       "      <td>-60684484.0</td>\n",
       "      <td>2015030718</td>\n",
       "      <td>-32767</td>\n",
       "    </tr>\n",
       "    <tr>\n",
       "      <th>3</th>\n",
       "      <td>-32767</td>\n",
       "      <td>-32767</td>\n",
       "      <td>-32767</td>\n",
       "      <td>-32767</td>\n",
       "      <td>-32767</td>\n",
       "      <td>-32767</td>\n",
       "      <td>-32767</td>\n",
       "      <td>-32767</td>\n",
       "      <td>-32767</td>\n",
       "      <td>-32767</td>\n",
       "      <td>-32767</td>\n",
       "      <td>-32767</td>\n",
       "      <td>9.969210e+36</td>\n",
       "      <td>9.969210e+36</td>\n",
       "      <td>-32767</td>\n",
       "      <td>-60684484.0</td>\n",
       "      <td>2015030800</td>\n",
       "      <td>-32767</td>\n",
       "    </tr>\n",
       "    <tr>\n",
       "      <th>4</th>\n",
       "      <td>-32767</td>\n",
       "      <td>-32767</td>\n",
       "      <td>-32767</td>\n",
       "      <td>-32767</td>\n",
       "      <td>-32767</td>\n",
       "      <td>-32767</td>\n",
       "      <td>-32767</td>\n",
       "      <td>-32767</td>\n",
       "      <td>-32767</td>\n",
       "      <td>-32767</td>\n",
       "      <td>-32767</td>\n",
       "      <td>-32767</td>\n",
       "      <td>9.969210e+36</td>\n",
       "      <td>9.969210e+36</td>\n",
       "      <td>-32767</td>\n",
       "      <td>-60684484.0</td>\n",
       "      <td>2015030806</td>\n",
       "      <td>-32767</td>\n",
       "    </tr>\n",
       "    <tr>\n",
       "      <th>5</th>\n",
       "      <td>-1</td>\n",
       "      <td>-1</td>\n",
       "      <td>-1</td>\n",
       "      <td>-1</td>\n",
       "      <td>-1</td>\n",
       "      <td>-1</td>\n",
       "      <td>-1</td>\n",
       "      <td>-1</td>\n",
       "      <td>-1</td>\n",
       "      <td>-1</td>\n",
       "      <td>-1</td>\n",
       "      <td>-1</td>\n",
       "      <td>-7.500000e+00</td>\n",
       "      <td>1.689000e+02</td>\n",
       "      <td>1004</td>\n",
       "      <td>92600.0</td>\n",
       "      <td>2015030812</td>\n",
       "      <td>25</td>\n",
       "    </tr>\n",
       "    <tr>\n",
       "      <th>6</th>\n",
       "      <td>-1</td>\n",
       "      <td>-1</td>\n",
       "      <td>-1</td>\n",
       "      <td>-1</td>\n",
       "      <td>-1</td>\n",
       "      <td>-1</td>\n",
       "      <td>-1</td>\n",
       "      <td>-1</td>\n",
       "      <td>-1</td>\n",
       "      <td>-1</td>\n",
       "      <td>-1</td>\n",
       "      <td>-1</td>\n",
       "      <td>-7.800000e+00</td>\n",
       "      <td>1.692000e+02</td>\n",
       "      <td>1000</td>\n",
       "      <td>92600.0</td>\n",
       "      <td>2015030818</td>\n",
       "      <td>30</td>\n",
       "    </tr>\n",
       "    <tr>\n",
       "      <th>7</th>\n",
       "      <td>-1</td>\n",
       "      <td>-1</td>\n",
       "      <td>-1</td>\n",
       "      <td>-1</td>\n",
       "      <td>-1</td>\n",
       "      <td>-1</td>\n",
       "      <td>-1</td>\n",
       "      <td>-1</td>\n",
       "      <td>-1</td>\n",
       "      <td>-1</td>\n",
       "      <td>-1</td>\n",
       "      <td>-1</td>\n",
       "      <td>-8.100000e+00</td>\n",
       "      <td>1.696000e+02</td>\n",
       "      <td>1000</td>\n",
       "      <td>92600.0</td>\n",
       "      <td>2015030900</td>\n",
       "      <td>30</td>\n",
       "    </tr>\n",
       "    <tr>\n",
       "      <th>8</th>\n",
       "      <td>-1</td>\n",
       "      <td>-1</td>\n",
       "      <td>-1</td>\n",
       "      <td>-1</td>\n",
       "      <td>-1</td>\n",
       "      <td>-1</td>\n",
       "      <td>-1</td>\n",
       "      <td>-1</td>\n",
       "      <td>-1</td>\n",
       "      <td>-1</td>\n",
       "      <td>-1</td>\n",
       "      <td>-1</td>\n",
       "      <td>-8.500000e+00</td>\n",
       "      <td>1.701000e+02</td>\n",
       "      <td>996</td>\n",
       "      <td>92600.0</td>\n",
       "      <td>2015030906</td>\n",
       "      <td>35</td>\n",
       "    </tr>\n",
       "    <tr>\n",
       "      <th>9</th>\n",
       "      <td>30</td>\n",
       "      <td>30</td>\n",
       "      <td>30</td>\n",
       "      <td>25</td>\n",
       "      <td>-1</td>\n",
       "      <td>-1</td>\n",
       "      <td>-1</td>\n",
       "      <td>-1</td>\n",
       "      <td>-1</td>\n",
       "      <td>-1</td>\n",
       "      <td>-1</td>\n",
       "      <td>-1</td>\n",
       "      <td>-9.000000e+00</td>\n",
       "      <td>1.706000e+02</td>\n",
       "      <td>989</td>\n",
       "      <td>55560.0</td>\n",
       "      <td>2015030912</td>\n",
       "      <td>45</td>\n",
       "    </tr>\n",
       "    <tr>\n",
       "      <th>10</th>\n",
       "      <td>70</td>\n",
       "      <td>60</td>\n",
       "      <td>65</td>\n",
       "      <td>75</td>\n",
       "      <td>25</td>\n",
       "      <td>20</td>\n",
       "      <td>20</td>\n",
       "      <td>25</td>\n",
       "      <td>-1</td>\n",
       "      <td>-1</td>\n",
       "      <td>-1</td>\n",
       "      <td>-1</td>\n",
       "      <td>-9.300000e+00</td>\n",
       "      <td>1.705000e+02</td>\n",
       "      <td>982</td>\n",
       "      <td>37040.0</td>\n",
       "      <td>2015030918</td>\n",
       "      <td>55</td>\n",
       "    </tr>\n",
       "    <tr>\n",
       "      <th>11</th>\n",
       "      <td>70</td>\n",
       "      <td>60</td>\n",
       "      <td>65</td>\n",
       "      <td>75</td>\n",
       "      <td>25</td>\n",
       "      <td>20</td>\n",
       "      <td>20</td>\n",
       "      <td>25</td>\n",
       "      <td>-1</td>\n",
       "      <td>-1</td>\n",
       "      <td>-1</td>\n",
       "      <td>-1</td>\n",
       "      <td>-9.700000e+00</td>\n",
       "      <td>1.705000e+02</td>\n",
       "      <td>978</td>\n",
       "      <td>37040.0</td>\n",
       "      <td>2015031000</td>\n",
       "      <td>60</td>\n",
       "    </tr>\n",
       "    <tr>\n",
       "      <th>12</th>\n",
       "      <td>70</td>\n",
       "      <td>65</td>\n",
       "      <td>65</td>\n",
       "      <td>75</td>\n",
       "      <td>25</td>\n",
       "      <td>20</td>\n",
       "      <td>20</td>\n",
       "      <td>25</td>\n",
       "      <td>-1</td>\n",
       "      <td>-1</td>\n",
       "      <td>-1</td>\n",
       "      <td>-1</td>\n",
       "      <td>-1.020000e+01</td>\n",
       "      <td>1.705000e+02</td>\n",
       "      <td>974</td>\n",
       "      <td>37040.0</td>\n",
       "      <td>2015031006</td>\n",
       "      <td>65</td>\n",
       "    </tr>\n",
       "  </tbody>\n",
       "</table>\n",
       "</div>"
      ],
      "text/plain": [
       "     34ne   34nw   34se   34sw   50ne   50nw   50se   50sw   64ne   64nw  \\\n",
       "0  -32767 -32767 -32767 -32767 -32767 -32767 -32767 -32767 -32767 -32767   \n",
       "1  -32767 -32767 -32767 -32767 -32767 -32767 -32767 -32767 -32767 -32767   \n",
       "2  -32767 -32767 -32767 -32767 -32767 -32767 -32767 -32767 -32767 -32767   \n",
       "3  -32767 -32767 -32767 -32767 -32767 -32767 -32767 -32767 -32767 -32767   \n",
       "4  -32767 -32767 -32767 -32767 -32767 -32767 -32767 -32767 -32767 -32767   \n",
       "5      -1     -1     -1     -1     -1     -1     -1     -1     -1     -1   \n",
       "6      -1     -1     -1     -1     -1     -1     -1     -1     -1     -1   \n",
       "7      -1     -1     -1     -1     -1     -1     -1     -1     -1     -1   \n",
       "8      -1     -1     -1     -1     -1     -1     -1     -1     -1     -1   \n",
       "9      30     30     30     25     -1     -1     -1     -1     -1     -1   \n",
       "10     70     60     65     75     25     20     20     25     -1     -1   \n",
       "11     70     60     65     75     25     20     20     25     -1     -1   \n",
       "12     70     65     65     75     25     20     20     25     -1     -1   \n",
       "\n",
       "     64se   64sw           lat           lon  pcenter        rmax        time  \\\n",
       "0  -32767 -32767  9.969210e+36  9.969210e+36   -32767 -60684484.0  2015030706   \n",
       "1  -32767 -32767  9.969210e+36  9.969210e+36   -32767 -60684484.0  2015030712   \n",
       "2  -32767 -32767  9.969210e+36  9.969210e+36   -32767 -60684484.0  2015030718   \n",
       "3  -32767 -32767  9.969210e+36  9.969210e+36   -32767 -60684484.0  2015030800   \n",
       "4  -32767 -32767  9.969210e+36  9.969210e+36   -32767 -60684484.0  2015030806   \n",
       "5      -1     -1 -7.500000e+00  1.689000e+02     1004     92600.0  2015030812   \n",
       "6      -1     -1 -7.800000e+00  1.692000e+02     1000     92600.0  2015030818   \n",
       "7      -1     -1 -8.100000e+00  1.696000e+02     1000     92600.0  2015030900   \n",
       "8      -1     -1 -8.500000e+00  1.701000e+02      996     92600.0  2015030906   \n",
       "9      -1     -1 -9.000000e+00  1.706000e+02      989     55560.0  2015030912   \n",
       "10     -1     -1 -9.300000e+00  1.705000e+02      982     37040.0  2015030918   \n",
       "11     -1     -1 -9.700000e+00  1.705000e+02      978     37040.0  2015031000   \n",
       "12     -1     -1 -1.020000e+01  1.705000e+02      974     37040.0  2015031006   \n",
       "\n",
       "     vmax  \n",
       "0  -32767  \n",
       "1  -32767  \n",
       "2  -32767  \n",
       "3  -32767  \n",
       "4  -32767  \n",
       "5      25  \n",
       "6      30  \n",
       "7      30  \n",
       "8      35  \n",
       "9      45  \n",
       "10     55  \n",
       "11     60  \n",
       "12     65  "
      ]
     },
     "execution_count": 131,
     "metadata": {},
     "output_type": "execute_result"
    }
   ],
   "source": [
    "inpData"
   ]
  },
  {
   "cell_type": "code",
   "execution_count": 132,
   "metadata": {
    "collapsed": false
   },
   "outputs": [],
   "source": [
    "inpData.loc[inpData['lat'] == 9.969210e+36, 'lat'] = np.nan\n",
    "inpData.loc[inpData['lon'] == 9.969210e+36, 'lon'] = np.nan\n",
    "inpData.loc[inpData['pcenter'] == -32767., 'pcenter'] = np.nan\n",
    "inpData.loc[inpData['rmax'] == -60684484., 'rmax'] = np.nan\n",
    "inpData.loc[inpData['vmax'] == -32767, 'vmax'] = np.nan\n",
    "inpData.loc[inpData['34ne'] == -32767, '34ne']=np.nan\n",
    "inpData.loc[inpData['34nw'] == -32767, '34nw']=np.nan\n",
    "inpData.loc[inpData['34se'] == -32767, '34se']=np.nan\n",
    "inpData.loc[inpData['34sw'] == -32767, '34sw']=np.nan\n",
    "inpData.loc[inpData['50ne'] == -32767, '50ne']=np.nan\n",
    "inpData.loc[inpData['50nw'] == -32767, '50nw']=np.nan\n",
    "inpData.loc[inpData['50se'] == -32767, '50se']=np.nan\n",
    "inpData.loc[inpData['50sw'] == -32767, '50sw']=np.nan\n",
    "inpData.loc[inpData['64ne'] == -32767, '64ne']=np.nan\n",
    "inpData.loc[inpData['64nw'] == -32767, '64nw']=np.nan\n",
    "inpData.loc[inpData['64se'] == -32767, '64se']=np.nan\n",
    "inpData.loc[inpData['64sw'] == -32767, '64sw']=np.nan"
   ]
  },
  {
   "cell_type": "code",
   "execution_count": 133,
   "metadata": {
    "collapsed": false
   },
   "outputs": [
    {
     "data": {
      "text/html": [
       "<div>\n",
       "<table border=\"1\" class=\"dataframe\">\n",
       "  <thead>\n",
       "    <tr style=\"text-align: right;\">\n",
       "      <th></th>\n",
       "      <th>34ne</th>\n",
       "      <th>34nw</th>\n",
       "      <th>34se</th>\n",
       "      <th>34sw</th>\n",
       "      <th>50ne</th>\n",
       "      <th>50nw</th>\n",
       "      <th>50se</th>\n",
       "      <th>50sw</th>\n",
       "      <th>64ne</th>\n",
       "      <th>64nw</th>\n",
       "      <th>64se</th>\n",
       "      <th>64sw</th>\n",
       "      <th>lat</th>\n",
       "      <th>lon</th>\n",
       "      <th>pcenter</th>\n",
       "      <th>rmax</th>\n",
       "      <th>time</th>\n",
       "      <th>vmax</th>\n",
       "    </tr>\n",
       "  </thead>\n",
       "  <tbody>\n",
       "    <tr>\n",
       "      <th>0</th>\n",
       "      <td>NaN</td>\n",
       "      <td>NaN</td>\n",
       "      <td>NaN</td>\n",
       "      <td>NaN</td>\n",
       "      <td>NaN</td>\n",
       "      <td>NaN</td>\n",
       "      <td>NaN</td>\n",
       "      <td>NaN</td>\n",
       "      <td>NaN</td>\n",
       "      <td>NaN</td>\n",
       "      <td>NaN</td>\n",
       "      <td>NaN</td>\n",
       "      <td>NaN</td>\n",
       "      <td>NaN</td>\n",
       "      <td>NaN</td>\n",
       "      <td>NaN</td>\n",
       "      <td>2015030706</td>\n",
       "      <td>NaN</td>\n",
       "    </tr>\n",
       "    <tr>\n",
       "      <th>1</th>\n",
       "      <td>NaN</td>\n",
       "      <td>NaN</td>\n",
       "      <td>NaN</td>\n",
       "      <td>NaN</td>\n",
       "      <td>NaN</td>\n",
       "      <td>NaN</td>\n",
       "      <td>NaN</td>\n",
       "      <td>NaN</td>\n",
       "      <td>NaN</td>\n",
       "      <td>NaN</td>\n",
       "      <td>NaN</td>\n",
       "      <td>NaN</td>\n",
       "      <td>NaN</td>\n",
       "      <td>NaN</td>\n",
       "      <td>NaN</td>\n",
       "      <td>NaN</td>\n",
       "      <td>2015030712</td>\n",
       "      <td>NaN</td>\n",
       "    </tr>\n",
       "    <tr>\n",
       "      <th>2</th>\n",
       "      <td>NaN</td>\n",
       "      <td>NaN</td>\n",
       "      <td>NaN</td>\n",
       "      <td>NaN</td>\n",
       "      <td>NaN</td>\n",
       "      <td>NaN</td>\n",
       "      <td>NaN</td>\n",
       "      <td>NaN</td>\n",
       "      <td>NaN</td>\n",
       "      <td>NaN</td>\n",
       "      <td>NaN</td>\n",
       "      <td>NaN</td>\n",
       "      <td>NaN</td>\n",
       "      <td>NaN</td>\n",
       "      <td>NaN</td>\n",
       "      <td>NaN</td>\n",
       "      <td>2015030718</td>\n",
       "      <td>NaN</td>\n",
       "    </tr>\n",
       "    <tr>\n",
       "      <th>3</th>\n",
       "      <td>NaN</td>\n",
       "      <td>NaN</td>\n",
       "      <td>NaN</td>\n",
       "      <td>NaN</td>\n",
       "      <td>NaN</td>\n",
       "      <td>NaN</td>\n",
       "      <td>NaN</td>\n",
       "      <td>NaN</td>\n",
       "      <td>NaN</td>\n",
       "      <td>NaN</td>\n",
       "      <td>NaN</td>\n",
       "      <td>NaN</td>\n",
       "      <td>NaN</td>\n",
       "      <td>NaN</td>\n",
       "      <td>NaN</td>\n",
       "      <td>NaN</td>\n",
       "      <td>2015030800</td>\n",
       "      <td>NaN</td>\n",
       "    </tr>\n",
       "    <tr>\n",
       "      <th>4</th>\n",
       "      <td>NaN</td>\n",
       "      <td>NaN</td>\n",
       "      <td>NaN</td>\n",
       "      <td>NaN</td>\n",
       "      <td>NaN</td>\n",
       "      <td>NaN</td>\n",
       "      <td>NaN</td>\n",
       "      <td>NaN</td>\n",
       "      <td>NaN</td>\n",
       "      <td>NaN</td>\n",
       "      <td>NaN</td>\n",
       "      <td>NaN</td>\n",
       "      <td>NaN</td>\n",
       "      <td>NaN</td>\n",
       "      <td>NaN</td>\n",
       "      <td>NaN</td>\n",
       "      <td>2015030806</td>\n",
       "      <td>NaN</td>\n",
       "    </tr>\n",
       "    <tr>\n",
       "      <th>5</th>\n",
       "      <td>-1.0</td>\n",
       "      <td>-1.0</td>\n",
       "      <td>-1.0</td>\n",
       "      <td>-1.0</td>\n",
       "      <td>-1.0</td>\n",
       "      <td>-1.0</td>\n",
       "      <td>-1.0</td>\n",
       "      <td>-1.0</td>\n",
       "      <td>-1.0</td>\n",
       "      <td>-1.0</td>\n",
       "      <td>-1.0</td>\n",
       "      <td>-1.0</td>\n",
       "      <td>-7.5</td>\n",
       "      <td>168.899994</td>\n",
       "      <td>1004.0</td>\n",
       "      <td>92600.0</td>\n",
       "      <td>2015030812</td>\n",
       "      <td>25.0</td>\n",
       "    </tr>\n",
       "    <tr>\n",
       "      <th>6</th>\n",
       "      <td>-1.0</td>\n",
       "      <td>-1.0</td>\n",
       "      <td>-1.0</td>\n",
       "      <td>-1.0</td>\n",
       "      <td>-1.0</td>\n",
       "      <td>-1.0</td>\n",
       "      <td>-1.0</td>\n",
       "      <td>-1.0</td>\n",
       "      <td>-1.0</td>\n",
       "      <td>-1.0</td>\n",
       "      <td>-1.0</td>\n",
       "      <td>-1.0</td>\n",
       "      <td>-7.8</td>\n",
       "      <td>169.199997</td>\n",
       "      <td>1000.0</td>\n",
       "      <td>92600.0</td>\n",
       "      <td>2015030818</td>\n",
       "      <td>30.0</td>\n",
       "    </tr>\n",
       "    <tr>\n",
       "      <th>7</th>\n",
       "      <td>-1.0</td>\n",
       "      <td>-1.0</td>\n",
       "      <td>-1.0</td>\n",
       "      <td>-1.0</td>\n",
       "      <td>-1.0</td>\n",
       "      <td>-1.0</td>\n",
       "      <td>-1.0</td>\n",
       "      <td>-1.0</td>\n",
       "      <td>-1.0</td>\n",
       "      <td>-1.0</td>\n",
       "      <td>-1.0</td>\n",
       "      <td>-1.0</td>\n",
       "      <td>-8.1</td>\n",
       "      <td>169.600006</td>\n",
       "      <td>1000.0</td>\n",
       "      <td>92600.0</td>\n",
       "      <td>2015030900</td>\n",
       "      <td>30.0</td>\n",
       "    </tr>\n",
       "    <tr>\n",
       "      <th>8</th>\n",
       "      <td>-1.0</td>\n",
       "      <td>-1.0</td>\n",
       "      <td>-1.0</td>\n",
       "      <td>-1.0</td>\n",
       "      <td>-1.0</td>\n",
       "      <td>-1.0</td>\n",
       "      <td>-1.0</td>\n",
       "      <td>-1.0</td>\n",
       "      <td>-1.0</td>\n",
       "      <td>-1.0</td>\n",
       "      <td>-1.0</td>\n",
       "      <td>-1.0</td>\n",
       "      <td>-8.5</td>\n",
       "      <td>170.100006</td>\n",
       "      <td>996.0</td>\n",
       "      <td>92600.0</td>\n",
       "      <td>2015030906</td>\n",
       "      <td>35.0</td>\n",
       "    </tr>\n",
       "    <tr>\n",
       "      <th>9</th>\n",
       "      <td>30.0</td>\n",
       "      <td>30.0</td>\n",
       "      <td>30.0</td>\n",
       "      <td>25.0</td>\n",
       "      <td>-1.0</td>\n",
       "      <td>-1.0</td>\n",
       "      <td>-1.0</td>\n",
       "      <td>-1.0</td>\n",
       "      <td>-1.0</td>\n",
       "      <td>-1.0</td>\n",
       "      <td>-1.0</td>\n",
       "      <td>-1.0</td>\n",
       "      <td>-9.0</td>\n",
       "      <td>170.600006</td>\n",
       "      <td>989.0</td>\n",
       "      <td>55560.0</td>\n",
       "      <td>2015030912</td>\n",
       "      <td>45.0</td>\n",
       "    </tr>\n",
       "    <tr>\n",
       "      <th>10</th>\n",
       "      <td>70.0</td>\n",
       "      <td>60.0</td>\n",
       "      <td>65.0</td>\n",
       "      <td>75.0</td>\n",
       "      <td>25.0</td>\n",
       "      <td>20.0</td>\n",
       "      <td>20.0</td>\n",
       "      <td>25.0</td>\n",
       "      <td>-1.0</td>\n",
       "      <td>-1.0</td>\n",
       "      <td>-1.0</td>\n",
       "      <td>-1.0</td>\n",
       "      <td>-9.3</td>\n",
       "      <td>170.500000</td>\n",
       "      <td>982.0</td>\n",
       "      <td>37040.0</td>\n",
       "      <td>2015030918</td>\n",
       "      <td>55.0</td>\n",
       "    </tr>\n",
       "    <tr>\n",
       "      <th>11</th>\n",
       "      <td>70.0</td>\n",
       "      <td>60.0</td>\n",
       "      <td>65.0</td>\n",
       "      <td>75.0</td>\n",
       "      <td>25.0</td>\n",
       "      <td>20.0</td>\n",
       "      <td>20.0</td>\n",
       "      <td>25.0</td>\n",
       "      <td>-1.0</td>\n",
       "      <td>-1.0</td>\n",
       "      <td>-1.0</td>\n",
       "      <td>-1.0</td>\n",
       "      <td>-9.7</td>\n",
       "      <td>170.500000</td>\n",
       "      <td>978.0</td>\n",
       "      <td>37040.0</td>\n",
       "      <td>2015031000</td>\n",
       "      <td>60.0</td>\n",
       "    </tr>\n",
       "    <tr>\n",
       "      <th>12</th>\n",
       "      <td>70.0</td>\n",
       "      <td>65.0</td>\n",
       "      <td>65.0</td>\n",
       "      <td>75.0</td>\n",
       "      <td>25.0</td>\n",
       "      <td>20.0</td>\n",
       "      <td>20.0</td>\n",
       "      <td>25.0</td>\n",
       "      <td>-1.0</td>\n",
       "      <td>-1.0</td>\n",
       "      <td>-1.0</td>\n",
       "      <td>-1.0</td>\n",
       "      <td>-10.2</td>\n",
       "      <td>170.500000</td>\n",
       "      <td>974.0</td>\n",
       "      <td>37040.0</td>\n",
       "      <td>2015031006</td>\n",
       "      <td>65.0</td>\n",
       "    </tr>\n",
       "  </tbody>\n",
       "</table>\n",
       "</div>"
      ],
      "text/plain": [
       "    34ne  34nw  34se  34sw  50ne  50nw  50se  50sw  64ne  64nw  64se  64sw  \\\n",
       "0    NaN   NaN   NaN   NaN   NaN   NaN   NaN   NaN   NaN   NaN   NaN   NaN   \n",
       "1    NaN   NaN   NaN   NaN   NaN   NaN   NaN   NaN   NaN   NaN   NaN   NaN   \n",
       "2    NaN   NaN   NaN   NaN   NaN   NaN   NaN   NaN   NaN   NaN   NaN   NaN   \n",
       "3    NaN   NaN   NaN   NaN   NaN   NaN   NaN   NaN   NaN   NaN   NaN   NaN   \n",
       "4    NaN   NaN   NaN   NaN   NaN   NaN   NaN   NaN   NaN   NaN   NaN   NaN   \n",
       "5   -1.0  -1.0  -1.0  -1.0  -1.0  -1.0  -1.0  -1.0  -1.0  -1.0  -1.0  -1.0   \n",
       "6   -1.0  -1.0  -1.0  -1.0  -1.0  -1.0  -1.0  -1.0  -1.0  -1.0  -1.0  -1.0   \n",
       "7   -1.0  -1.0  -1.0  -1.0  -1.0  -1.0  -1.0  -1.0  -1.0  -1.0  -1.0  -1.0   \n",
       "8   -1.0  -1.0  -1.0  -1.0  -1.0  -1.0  -1.0  -1.0  -1.0  -1.0  -1.0  -1.0   \n",
       "9   30.0  30.0  30.0  25.0  -1.0  -1.0  -1.0  -1.0  -1.0  -1.0  -1.0  -1.0   \n",
       "10  70.0  60.0  65.0  75.0  25.0  20.0  20.0  25.0  -1.0  -1.0  -1.0  -1.0   \n",
       "11  70.0  60.0  65.0  75.0  25.0  20.0  20.0  25.0  -1.0  -1.0  -1.0  -1.0   \n",
       "12  70.0  65.0  65.0  75.0  25.0  20.0  20.0  25.0  -1.0  -1.0  -1.0  -1.0   \n",
       "\n",
       "     lat         lon  pcenter     rmax        time  vmax  \n",
       "0    NaN         NaN      NaN      NaN  2015030706   NaN  \n",
       "1    NaN         NaN      NaN      NaN  2015030712   NaN  \n",
       "2    NaN         NaN      NaN      NaN  2015030718   NaN  \n",
       "3    NaN         NaN      NaN      NaN  2015030800   NaN  \n",
       "4    NaN         NaN      NaN      NaN  2015030806   NaN  \n",
       "5   -7.5  168.899994   1004.0  92600.0  2015030812  25.0  \n",
       "6   -7.8  169.199997   1000.0  92600.0  2015030818  30.0  \n",
       "7   -8.1  169.600006   1000.0  92600.0  2015030900  30.0  \n",
       "8   -8.5  170.100006    996.0  92600.0  2015030906  35.0  \n",
       "9   -9.0  170.600006    989.0  55560.0  2015030912  45.0  \n",
       "10  -9.3  170.500000    982.0  37040.0  2015030918  55.0  \n",
       "11  -9.7  170.500000    978.0  37040.0  2015031000  60.0  \n",
       "12 -10.2  170.500000    974.0  37040.0  2015031006  65.0  "
      ]
     },
     "execution_count": 133,
     "metadata": {},
     "output_type": "execute_result"
    }
   ],
   "source": [
    "inpData"
   ]
  },
  {
   "cell_type": "code",
   "execution_count": 134,
   "metadata": {
    "collapsed": true
   },
   "outputs": [],
   "source": [
    "inpData.loc[inpData['34ne'] == -1, '34ne']=0\n",
    "inpData.loc[inpData['34nw'] == -1, '34nw']=0\n",
    "inpData.loc[inpData['34se'] == -1, '34se']=0\n",
    "inpData.loc[inpData['34sw'] == -1, '34sw']=0\n",
    "inpData.loc[inpData['50ne'] == -1, '50ne']=0\n",
    "inpData.loc[inpData['50nw'] == -1, '50nw']=0\n",
    "inpData.loc[inpData['50se'] == -1, '50se']=0\n",
    "inpData.loc[inpData['50sw'] == -1, '50sw']=0\n",
    "inpData.loc[inpData['64ne'] == -1, '64ne']=0\n",
    "inpData.loc[inpData['64nw'] == -1, '64nw']=0\n",
    "inpData.loc[inpData['64se'] == -1, '64se']=0\n",
    "inpData.loc[inpData['64sw'] == -1, '64sw']=0"
   ]
  },
  {
   "cell_type": "code",
   "execution_count": 135,
   "metadata": {
    "collapsed": false
   },
   "outputs": [],
   "source": [
    "inpData=inpData.dropna()"
   ]
  },
  {
   "cell_type": "code",
   "execution_count": 136,
   "metadata": {
    "collapsed": false
   },
   "outputs": [
    {
     "data": {
      "text/html": [
       "<div>\n",
       "<table border=\"1\" class=\"dataframe\">\n",
       "  <thead>\n",
       "    <tr style=\"text-align: right;\">\n",
       "      <th></th>\n",
       "      <th>34ne</th>\n",
       "      <th>34nw</th>\n",
       "      <th>34se</th>\n",
       "      <th>34sw</th>\n",
       "      <th>50ne</th>\n",
       "      <th>50nw</th>\n",
       "      <th>50se</th>\n",
       "      <th>50sw</th>\n",
       "      <th>64ne</th>\n",
       "      <th>64nw</th>\n",
       "      <th>64se</th>\n",
       "      <th>64sw</th>\n",
       "      <th>lat</th>\n",
       "      <th>lon</th>\n",
       "      <th>pcenter</th>\n",
       "      <th>rmax</th>\n",
       "      <th>time</th>\n",
       "      <th>vmax</th>\n",
       "    </tr>\n",
       "  </thead>\n",
       "  <tbody>\n",
       "    <tr>\n",
       "      <th>5</th>\n",
       "      <td>0.0</td>\n",
       "      <td>0.0</td>\n",
       "      <td>0.0</td>\n",
       "      <td>0.0</td>\n",
       "      <td>0.0</td>\n",
       "      <td>0.0</td>\n",
       "      <td>0.0</td>\n",
       "      <td>0.0</td>\n",
       "      <td>0.0</td>\n",
       "      <td>0.0</td>\n",
       "      <td>0.0</td>\n",
       "      <td>0.0</td>\n",
       "      <td>-7.5</td>\n",
       "      <td>168.899994</td>\n",
       "      <td>1004.0</td>\n",
       "      <td>92600.0</td>\n",
       "      <td>2015030812</td>\n",
       "      <td>25.0</td>\n",
       "    </tr>\n",
       "    <tr>\n",
       "      <th>6</th>\n",
       "      <td>0.0</td>\n",
       "      <td>0.0</td>\n",
       "      <td>0.0</td>\n",
       "      <td>0.0</td>\n",
       "      <td>0.0</td>\n",
       "      <td>0.0</td>\n",
       "      <td>0.0</td>\n",
       "      <td>0.0</td>\n",
       "      <td>0.0</td>\n",
       "      <td>0.0</td>\n",
       "      <td>0.0</td>\n",
       "      <td>0.0</td>\n",
       "      <td>-7.8</td>\n",
       "      <td>169.199997</td>\n",
       "      <td>1000.0</td>\n",
       "      <td>92600.0</td>\n",
       "      <td>2015030818</td>\n",
       "      <td>30.0</td>\n",
       "    </tr>\n",
       "    <tr>\n",
       "      <th>7</th>\n",
       "      <td>0.0</td>\n",
       "      <td>0.0</td>\n",
       "      <td>0.0</td>\n",
       "      <td>0.0</td>\n",
       "      <td>0.0</td>\n",
       "      <td>0.0</td>\n",
       "      <td>0.0</td>\n",
       "      <td>0.0</td>\n",
       "      <td>0.0</td>\n",
       "      <td>0.0</td>\n",
       "      <td>0.0</td>\n",
       "      <td>0.0</td>\n",
       "      <td>-8.1</td>\n",
       "      <td>169.600006</td>\n",
       "      <td>1000.0</td>\n",
       "      <td>92600.0</td>\n",
       "      <td>2015030900</td>\n",
       "      <td>30.0</td>\n",
       "    </tr>\n",
       "    <tr>\n",
       "      <th>8</th>\n",
       "      <td>0.0</td>\n",
       "      <td>0.0</td>\n",
       "      <td>0.0</td>\n",
       "      <td>0.0</td>\n",
       "      <td>0.0</td>\n",
       "      <td>0.0</td>\n",
       "      <td>0.0</td>\n",
       "      <td>0.0</td>\n",
       "      <td>0.0</td>\n",
       "      <td>0.0</td>\n",
       "      <td>0.0</td>\n",
       "      <td>0.0</td>\n",
       "      <td>-8.5</td>\n",
       "      <td>170.100006</td>\n",
       "      <td>996.0</td>\n",
       "      <td>92600.0</td>\n",
       "      <td>2015030906</td>\n",
       "      <td>35.0</td>\n",
       "    </tr>\n",
       "    <tr>\n",
       "      <th>9</th>\n",
       "      <td>30.0</td>\n",
       "      <td>30.0</td>\n",
       "      <td>30.0</td>\n",
       "      <td>25.0</td>\n",
       "      <td>0.0</td>\n",
       "      <td>0.0</td>\n",
       "      <td>0.0</td>\n",
       "      <td>0.0</td>\n",
       "      <td>0.0</td>\n",
       "      <td>0.0</td>\n",
       "      <td>0.0</td>\n",
       "      <td>0.0</td>\n",
       "      <td>-9.0</td>\n",
       "      <td>170.600006</td>\n",
       "      <td>989.0</td>\n",
       "      <td>55560.0</td>\n",
       "      <td>2015030912</td>\n",
       "      <td>45.0</td>\n",
       "    </tr>\n",
       "    <tr>\n",
       "      <th>10</th>\n",
       "      <td>70.0</td>\n",
       "      <td>60.0</td>\n",
       "      <td>65.0</td>\n",
       "      <td>75.0</td>\n",
       "      <td>25.0</td>\n",
       "      <td>20.0</td>\n",
       "      <td>20.0</td>\n",
       "      <td>25.0</td>\n",
       "      <td>0.0</td>\n",
       "      <td>0.0</td>\n",
       "      <td>0.0</td>\n",
       "      <td>0.0</td>\n",
       "      <td>-9.3</td>\n",
       "      <td>170.500000</td>\n",
       "      <td>982.0</td>\n",
       "      <td>37040.0</td>\n",
       "      <td>2015030918</td>\n",
       "      <td>55.0</td>\n",
       "    </tr>\n",
       "    <tr>\n",
       "      <th>11</th>\n",
       "      <td>70.0</td>\n",
       "      <td>60.0</td>\n",
       "      <td>65.0</td>\n",
       "      <td>75.0</td>\n",
       "      <td>25.0</td>\n",
       "      <td>20.0</td>\n",
       "      <td>20.0</td>\n",
       "      <td>25.0</td>\n",
       "      <td>0.0</td>\n",
       "      <td>0.0</td>\n",
       "      <td>0.0</td>\n",
       "      <td>0.0</td>\n",
       "      <td>-9.7</td>\n",
       "      <td>170.500000</td>\n",
       "      <td>978.0</td>\n",
       "      <td>37040.0</td>\n",
       "      <td>2015031000</td>\n",
       "      <td>60.0</td>\n",
       "    </tr>\n",
       "    <tr>\n",
       "      <th>12</th>\n",
       "      <td>70.0</td>\n",
       "      <td>65.0</td>\n",
       "      <td>65.0</td>\n",
       "      <td>75.0</td>\n",
       "      <td>25.0</td>\n",
       "      <td>20.0</td>\n",
       "      <td>20.0</td>\n",
       "      <td>25.0</td>\n",
       "      <td>0.0</td>\n",
       "      <td>0.0</td>\n",
       "      <td>0.0</td>\n",
       "      <td>0.0</td>\n",
       "      <td>-10.2</td>\n",
       "      <td>170.500000</td>\n",
       "      <td>974.0</td>\n",
       "      <td>37040.0</td>\n",
       "      <td>2015031006</td>\n",
       "      <td>65.0</td>\n",
       "    </tr>\n",
       "  </tbody>\n",
       "</table>\n",
       "</div>"
      ],
      "text/plain": [
       "    34ne  34nw  34se  34sw  50ne  50nw  50se  50sw  64ne  64nw  64se  64sw  \\\n",
       "5    0.0   0.0   0.0   0.0   0.0   0.0   0.0   0.0   0.0   0.0   0.0   0.0   \n",
       "6    0.0   0.0   0.0   0.0   0.0   0.0   0.0   0.0   0.0   0.0   0.0   0.0   \n",
       "7    0.0   0.0   0.0   0.0   0.0   0.0   0.0   0.0   0.0   0.0   0.0   0.0   \n",
       "8    0.0   0.0   0.0   0.0   0.0   0.0   0.0   0.0   0.0   0.0   0.0   0.0   \n",
       "9   30.0  30.0  30.0  25.0   0.0   0.0   0.0   0.0   0.0   0.0   0.0   0.0   \n",
       "10  70.0  60.0  65.0  75.0  25.0  20.0  20.0  25.0   0.0   0.0   0.0   0.0   \n",
       "11  70.0  60.0  65.0  75.0  25.0  20.0  20.0  25.0   0.0   0.0   0.0   0.0   \n",
       "12  70.0  65.0  65.0  75.0  25.0  20.0  20.0  25.0   0.0   0.0   0.0   0.0   \n",
       "\n",
       "     lat         lon  pcenter     rmax        time  vmax  \n",
       "5   -7.5  168.899994   1004.0  92600.0  2015030812  25.0  \n",
       "6   -7.8  169.199997   1000.0  92600.0  2015030818  30.0  \n",
       "7   -8.1  169.600006   1000.0  92600.0  2015030900  30.0  \n",
       "8   -8.5  170.100006    996.0  92600.0  2015030906  35.0  \n",
       "9   -9.0  170.600006    989.0  55560.0  2015030912  45.0  \n",
       "10  -9.3  170.500000    982.0  37040.0  2015030918  55.0  \n",
       "11  -9.7  170.500000    978.0  37040.0  2015031000  60.0  \n",
       "12 -10.2  170.500000    974.0  37040.0  2015031006  65.0  "
      ]
     },
     "execution_count": 136,
     "metadata": {},
     "output_type": "execute_result"
    }
   ],
   "source": [
    "inpData"
   ]
  },
  {
   "cell_type": "code",
   "execution_count": 137,
   "metadata": {
    "collapsed": false
   },
   "outputs": [],
   "source": [
    "dph=pn-inpData.pcenter*100."
   ]
  },
  {
   "cell_type": "code",
   "execution_count": 138,
   "metadata": {
    "collapsed": false
   },
   "outputs": [
    {
     "data": {
      "text/plain": [
       "5      600.0\n",
       "6     1000.0\n",
       "7     1000.0\n",
       "8     1400.0\n",
       "9     2100.0\n",
       "10    2800.0\n",
       "11    3200.0\n",
       "12    3600.0\n",
       "Name: pcenter, dtype: float64"
      ]
     },
     "execution_count": 138,
     "metadata": {},
     "output_type": "execute_result"
    }
   ],
   "source": [
    "dph"
   ]
  },
  {
   "cell_type": "code",
   "execution_count": 139,
   "metadata": {
    "collapsed": false
   },
   "outputs": [],
   "source": [
    "inpData=inpData.assign(dp=dph)"
   ]
  },
  {
   "cell_type": "code",
   "execution_count": 140,
   "metadata": {
    "collapsed": false
   },
   "outputs": [
    {
     "data": {
      "text/plain": [
       "34ne       7.000000e+01\n",
       "34nw       6.500000e+01\n",
       "34se       6.500000e+01\n",
       "34sw       7.500000e+01\n",
       "50ne       2.500000e+01\n",
       "50nw       2.000000e+01\n",
       "50se       2.000000e+01\n",
       "50sw       2.500000e+01\n",
       "64ne       0.000000e+00\n",
       "64nw       0.000000e+00\n",
       "64se       0.000000e+00\n",
       "64sw       0.000000e+00\n",
       "lat       -1.020000e+01\n",
       "lon        1.705000e+02\n",
       "pcenter    9.740000e+02\n",
       "rmax       3.704000e+04\n",
       "time       2.015031e+09\n",
       "vmax       6.500000e+01\n",
       "dp         3.600000e+03\n",
       "Name: 12, dtype: float64"
      ]
     },
     "execution_count": 140,
     "metadata": {},
     "output_type": "execute_result"
    }
   ],
   "source": [
    "inpData.iloc[7]"
   ]
  },
  {
   "cell_type": "markdown",
   "metadata": {},
   "source": [
    "### create inpData file"
   ]
  },
  {
   "cell_type": "code",
   "execution_count": 141,
   "metadata": {
    "collapsed": false
   },
   "outputs": [],
   "source": [
    "inpData['time']=pd.to_datetime(inpData['time'],format='%Y%m%d%H')"
   ]
  },
  {
   "cell_type": "code",
   "execution_count": 142,
   "metadata": {
    "collapsed": false
   },
   "outputs": [
    {
     "data": {
      "text/html": [
       "<div>\n",
       "<table border=\"1\" class=\"dataframe\">\n",
       "  <thead>\n",
       "    <tr style=\"text-align: right;\">\n",
       "      <th></th>\n",
       "      <th>34ne</th>\n",
       "      <th>34nw</th>\n",
       "      <th>34se</th>\n",
       "      <th>34sw</th>\n",
       "      <th>50ne</th>\n",
       "      <th>50nw</th>\n",
       "      <th>50se</th>\n",
       "      <th>50sw</th>\n",
       "      <th>64ne</th>\n",
       "      <th>64nw</th>\n",
       "      <th>64se</th>\n",
       "      <th>64sw</th>\n",
       "      <th>lat</th>\n",
       "      <th>lon</th>\n",
       "      <th>pcenter</th>\n",
       "      <th>rmax</th>\n",
       "      <th>time</th>\n",
       "      <th>vmax</th>\n",
       "      <th>dp</th>\n",
       "    </tr>\n",
       "  </thead>\n",
       "  <tbody>\n",
       "    <tr>\n",
       "      <th>5</th>\n",
       "      <td>0.0</td>\n",
       "      <td>0.0</td>\n",
       "      <td>0.0</td>\n",
       "      <td>0.0</td>\n",
       "      <td>0.0</td>\n",
       "      <td>0.0</td>\n",
       "      <td>0.0</td>\n",
       "      <td>0.0</td>\n",
       "      <td>0.0</td>\n",
       "      <td>0.0</td>\n",
       "      <td>0.0</td>\n",
       "      <td>0.0</td>\n",
       "      <td>-7.5</td>\n",
       "      <td>168.899994</td>\n",
       "      <td>1004.0</td>\n",
       "      <td>92600.0</td>\n",
       "      <td>2015-03-08 12:00:00</td>\n",
       "      <td>25.0</td>\n",
       "      <td>600.0</td>\n",
       "    </tr>\n",
       "    <tr>\n",
       "      <th>6</th>\n",
       "      <td>0.0</td>\n",
       "      <td>0.0</td>\n",
       "      <td>0.0</td>\n",
       "      <td>0.0</td>\n",
       "      <td>0.0</td>\n",
       "      <td>0.0</td>\n",
       "      <td>0.0</td>\n",
       "      <td>0.0</td>\n",
       "      <td>0.0</td>\n",
       "      <td>0.0</td>\n",
       "      <td>0.0</td>\n",
       "      <td>0.0</td>\n",
       "      <td>-7.8</td>\n",
       "      <td>169.199997</td>\n",
       "      <td>1000.0</td>\n",
       "      <td>92600.0</td>\n",
       "      <td>2015-03-08 18:00:00</td>\n",
       "      <td>30.0</td>\n",
       "      <td>1000.0</td>\n",
       "    </tr>\n",
       "    <tr>\n",
       "      <th>7</th>\n",
       "      <td>0.0</td>\n",
       "      <td>0.0</td>\n",
       "      <td>0.0</td>\n",
       "      <td>0.0</td>\n",
       "      <td>0.0</td>\n",
       "      <td>0.0</td>\n",
       "      <td>0.0</td>\n",
       "      <td>0.0</td>\n",
       "      <td>0.0</td>\n",
       "      <td>0.0</td>\n",
       "      <td>0.0</td>\n",
       "      <td>0.0</td>\n",
       "      <td>-8.1</td>\n",
       "      <td>169.600006</td>\n",
       "      <td>1000.0</td>\n",
       "      <td>92600.0</td>\n",
       "      <td>2015-03-09 00:00:00</td>\n",
       "      <td>30.0</td>\n",
       "      <td>1000.0</td>\n",
       "    </tr>\n",
       "    <tr>\n",
       "      <th>8</th>\n",
       "      <td>0.0</td>\n",
       "      <td>0.0</td>\n",
       "      <td>0.0</td>\n",
       "      <td>0.0</td>\n",
       "      <td>0.0</td>\n",
       "      <td>0.0</td>\n",
       "      <td>0.0</td>\n",
       "      <td>0.0</td>\n",
       "      <td>0.0</td>\n",
       "      <td>0.0</td>\n",
       "      <td>0.0</td>\n",
       "      <td>0.0</td>\n",
       "      <td>-8.5</td>\n",
       "      <td>170.100006</td>\n",
       "      <td>996.0</td>\n",
       "      <td>92600.0</td>\n",
       "      <td>2015-03-09 06:00:00</td>\n",
       "      <td>35.0</td>\n",
       "      <td>1400.0</td>\n",
       "    </tr>\n",
       "    <tr>\n",
       "      <th>9</th>\n",
       "      <td>30.0</td>\n",
       "      <td>30.0</td>\n",
       "      <td>30.0</td>\n",
       "      <td>25.0</td>\n",
       "      <td>0.0</td>\n",
       "      <td>0.0</td>\n",
       "      <td>0.0</td>\n",
       "      <td>0.0</td>\n",
       "      <td>0.0</td>\n",
       "      <td>0.0</td>\n",
       "      <td>0.0</td>\n",
       "      <td>0.0</td>\n",
       "      <td>-9.0</td>\n",
       "      <td>170.600006</td>\n",
       "      <td>989.0</td>\n",
       "      <td>55560.0</td>\n",
       "      <td>2015-03-09 12:00:00</td>\n",
       "      <td>45.0</td>\n",
       "      <td>2100.0</td>\n",
       "    </tr>\n",
       "  </tbody>\n",
       "</table>\n",
       "</div>"
      ],
      "text/plain": [
       "   34ne  34nw  34se  34sw  50ne  50nw  50se  50sw  64ne  64nw  64se  64sw  \\\n",
       "5   0.0   0.0   0.0   0.0   0.0   0.0   0.0   0.0   0.0   0.0   0.0   0.0   \n",
       "6   0.0   0.0   0.0   0.0   0.0   0.0   0.0   0.0   0.0   0.0   0.0   0.0   \n",
       "7   0.0   0.0   0.0   0.0   0.0   0.0   0.0   0.0   0.0   0.0   0.0   0.0   \n",
       "8   0.0   0.0   0.0   0.0   0.0   0.0   0.0   0.0   0.0   0.0   0.0   0.0   \n",
       "9  30.0  30.0  30.0  25.0   0.0   0.0   0.0   0.0   0.0   0.0   0.0   0.0   \n",
       "\n",
       "   lat         lon  pcenter     rmax                time  vmax      dp  \n",
       "5 -7.5  168.899994   1004.0  92600.0 2015-03-08 12:00:00  25.0   600.0  \n",
       "6 -7.8  169.199997   1000.0  92600.0 2015-03-08 18:00:00  30.0  1000.0  \n",
       "7 -8.1  169.600006   1000.0  92600.0 2015-03-09 00:00:00  30.0  1000.0  \n",
       "8 -8.5  170.100006    996.0  92600.0 2015-03-09 06:00:00  35.0  1400.0  \n",
       "9 -9.0  170.600006    989.0  55560.0 2015-03-09 12:00:00  45.0  2100.0  "
      ]
     },
     "execution_count": 142,
     "metadata": {},
     "output_type": "execute_result"
    }
   ],
   "source": [
    "inpData.head()"
   ]
  },
  {
   "cell_type": "code",
   "execution_count": 143,
   "metadata": {
    "collapsed": false
   },
   "outputs": [],
   "source": [
    "#inpData['time']=inpData['t']-inpData['t'][0]"
   ]
  },
  {
   "cell_type": "code",
   "execution_count": 144,
   "metadata": {
    "collapsed": false
   },
   "outputs": [],
   "source": [
    "#inpData['time']=inpData['time'] / pd.Timedelta('1 hour')"
   ]
  },
  {
   "cell_type": "code",
   "execution_count": 145,
   "metadata": {
    "collapsed": false
   },
   "outputs": [],
   "source": [
    "#inpData=inpData.set_index('time')\n",
    "#inpData"
   ]
  },
  {
   "cell_type": "markdown",
   "metadata": {},
   "source": [
    "## convert to SI"
   ]
  },
  {
   "cell_type": "code",
   "execution_count": 146,
   "metadata": {
    "collapsed": false
   },
   "outputs": [],
   "source": [
    "inpData['vmax']=inpData['vmax']*kt2ms"
   ]
  },
  {
   "cell_type": "code",
   "execution_count": 147,
   "metadata": {
    "collapsed": false
   },
   "outputs": [],
   "source": [
    "inpData[['64ne','64se','64sw','64nw','50ne','50se','50sw','50nw','34ne','34se','34sw','34nw']]=inpData[['64ne','64se','64sw','64nw','50ne','50se','50sw','50nw','34ne','34se','34sw','34nw']]*nm2m"
   ]
  },
  {
   "cell_type": "code",
   "execution_count": 148,
   "metadata": {
    "collapsed": false
   },
   "outputs": [
    {
     "data": {
      "text/html": [
       "<div>\n",
       "<table border=\"1\" class=\"dataframe\">\n",
       "  <thead>\n",
       "    <tr style=\"text-align: right;\">\n",
       "      <th></th>\n",
       "      <th>34ne</th>\n",
       "      <th>34nw</th>\n",
       "      <th>34se</th>\n",
       "      <th>34sw</th>\n",
       "      <th>50ne</th>\n",
       "      <th>50nw</th>\n",
       "      <th>50se</th>\n",
       "      <th>50sw</th>\n",
       "      <th>64ne</th>\n",
       "      <th>64nw</th>\n",
       "      <th>64se</th>\n",
       "      <th>64sw</th>\n",
       "      <th>lat</th>\n",
       "      <th>lon</th>\n",
       "      <th>pcenter</th>\n",
       "      <th>rmax</th>\n",
       "      <th>time</th>\n",
       "      <th>vmax</th>\n",
       "      <th>dp</th>\n",
       "    </tr>\n",
       "  </thead>\n",
       "  <tbody>\n",
       "    <tr>\n",
       "      <th>8</th>\n",
       "      <td>0.0</td>\n",
       "      <td>0.0</td>\n",
       "      <td>0.0</td>\n",
       "      <td>0.0</td>\n",
       "      <td>0.0</td>\n",
       "      <td>0.0</td>\n",
       "      <td>0.0</td>\n",
       "      <td>0.0</td>\n",
       "      <td>0.0</td>\n",
       "      <td>0.0</td>\n",
       "      <td>0.0</td>\n",
       "      <td>0.0</td>\n",
       "      <td>-8.5</td>\n",
       "      <td>170.100006</td>\n",
       "      <td>996.0</td>\n",
       "      <td>92600.0</td>\n",
       "      <td>2015-03-09 06:00:00</td>\n",
       "      <td>18.005556</td>\n",
       "      <td>1400.0</td>\n",
       "    </tr>\n",
       "  </tbody>\n",
       "</table>\n",
       "</div>"
      ],
      "text/plain": [
       "   34ne  34nw  34se  34sw  50ne  50nw  50se  50sw  64ne  64nw  64se  64sw  \\\n",
       "8   0.0   0.0   0.0   0.0   0.0   0.0   0.0   0.0   0.0   0.0   0.0   0.0   \n",
       "\n",
       "   lat         lon  pcenter     rmax                time       vmax      dp  \n",
       "8 -8.5  170.100006    996.0  92600.0 2015-03-09 06:00:00  18.005556  1400.0  "
      ]
     },
     "execution_count": 148,
     "metadata": {},
     "output_type": "execute_result"
    }
   ],
   "source": [
    "inpData[3:4]"
   ]
  },
  {
   "cell_type": "markdown",
   "metadata": {},
   "source": [
    "## save inpData file"
   ]
  },
  {
   "cell_type": "code",
   "execution_count": 149,
   "metadata": {
    "collapsed": true
   },
   "outputs": [],
   "source": [
    "column_order=['time','lat','long','dp','vmax','64ne','64se','64sw','64nw','50ne','50se','50sw','50nw','34ne','34se','34sw','34nw']"
   ]
  },
  {
   "cell_type": "code",
   "execution_count": 150,
   "metadata": {
    "collapsed": false
   },
   "outputs": [],
   "source": [
    "inpData.to_csv('tmp/inpData.txt',index=False, columns=column_order, sep='\\t')"
   ]
  },
  {
   "cell_type": "markdown",
   "metadata": {},
   "source": [
    "### create bulInfo.txt file"
   ]
  },
  {
   "cell_type": "code",
   "execution_count": 151,
   "metadata": {
    "collapsed": false
   },
   "outputs": [],
   "source": [
    "tt=pd.to_datetime(isot1[0])"
   ]
  },
  {
   "cell_type": "code",
   "execution_count": 152,
   "metadata": {
    "collapsed": false
   },
   "outputs": [],
   "source": [
    "tt=datetime.datetime.strftime(tt,'%d %b %Y %H:%M:%S')"
   ]
  },
  {
   "cell_type": "code",
   "execution_count": 153,
   "metadata": {
    "collapsed": true
   },
   "outputs": [],
   "source": [
    "dic0={'advNo':[1],'tShift':[0],'$date':tt,'land':[1],'notes':[0]}"
   ]
  },
  {
   "cell_type": "code",
   "execution_count": 154,
   "metadata": {
    "collapsed": false
   },
   "outputs": [],
   "source": [
    "bul=pd.DataFrame.from_dict(dic0)"
   ]
  },
  {
   "cell_type": "code",
   "execution_count": 155,
   "metadata": {
    "collapsed": false
   },
   "outputs": [
    {
     "data": {
      "text/html": [
       "<div>\n",
       "<table border=\"1\" class=\"dataframe\">\n",
       "  <thead>\n",
       "    <tr style=\"text-align: right;\">\n",
       "      <th></th>\n",
       "      <th>$date</th>\n",
       "      <th>advNo</th>\n",
       "      <th>land</th>\n",
       "      <th>notes</th>\n",
       "      <th>tShift</th>\n",
       "    </tr>\n",
       "  </thead>\n",
       "  <tbody>\n",
       "    <tr>\n",
       "      <th>0</th>\n",
       "      <td>07 Mar 2015 06:00:00</td>\n",
       "      <td>1</td>\n",
       "      <td>1</td>\n",
       "      <td>0</td>\n",
       "      <td>0</td>\n",
       "    </tr>\n",
       "  </tbody>\n",
       "</table>\n",
       "</div>"
      ],
      "text/plain": [
       "                  $date  advNo  land  notes  tShift\n",
       "0  07 Mar 2015 06:00:00      1     1      0       0"
      ]
     },
     "execution_count": 155,
     "metadata": {},
     "output_type": "execute_result"
    }
   ],
   "source": [
    "bul"
   ]
  },
  {
   "cell_type": "code",
   "execution_count": 185,
   "metadata": {
    "collapsed": false
   },
   "outputs": [],
   "source": [
    "bul.to_csv('tmp/bulInfo.txt',index=False, columns=['advNo','tShift','$date','land','notes'], sep='\\t')"
   ]
  },
  {
   "cell_type": "markdown",
   "metadata": {},
   "source": [
    "### create info.pr file"
   ]
  },
  {
   "cell_type": "code",
   "execution_count": null,
   "metadata": {
    "collapsed": true
   },
   "outputs": [],
   "source": []
  },
  {
   "cell_type": "markdown",
   "metadata": {},
   "source": [
    "## compute b,k"
   ]
  },
  {
   "cell_type": "code",
   "execution_count": 47,
   "metadata": {
    "collapsed": false
   },
   "outputs": [
    {
     "ename": "NameError",
     "evalue": "global name 'kh' is not defined",
     "output_type": "error",
     "traceback": [
      "\u001b[0;31m---------------------------------------------------------------------------\u001b[0m",
      "\u001b[0;31mNameError\u001b[0m                                 Traceback (most recent call last)",
      "\u001b[0;32m<ipython-input-47-d6d32a487367>\u001b[0m in \u001b[0;36m<module>\u001b[0;34m()\u001b[0m\n\u001b[1;32m      1\u001b[0m \u001b[0mplt\u001b[0m\u001b[0;34m.\u001b[0m\u001b[0mfigure\u001b[0m\u001b[0;34m(\u001b[0m\u001b[0mfigsize\u001b[0m\u001b[0;34m=\u001b[0m\u001b[0;34m(\u001b[0m\u001b[0;36m10\u001b[0m\u001b[0;34m,\u001b[0m\u001b[0;36m8\u001b[0m\u001b[0;34m)\u001b[0m\u001b[0;34m)\u001b[0m\u001b[0;34m\u001b[0m\u001b[0m\n\u001b[0;32m----> 2\u001b[0;31m \u001b[0mplt\u001b[0m\u001b[0;34m.\u001b[0m\u001b[0mplot\u001b[0m\u001b[0;34m(\u001b[0m\u001b[0mrh\u001b[0m\u001b[0;34m/\u001b[0m\u001b[0;36m1000\u001b[0m\u001b[0;34m,\u001b[0m\u001b[0mhvel\u001b[0m\u001b[0;34m(\u001b[0m\u001b[0mrh\u001b[0m\u001b[0;34m)\u001b[0m\u001b[0;34m)\u001b[0m\u001b[0;34m\u001b[0m\u001b[0m\n\u001b[0m\u001b[1;32m      3\u001b[0m \u001b[0mplt\u001b[0m\u001b[0;34m.\u001b[0m\u001b[0mxlabel\u001b[0m\u001b[0;34m(\u001b[0m\u001b[0;34m'km'\u001b[0m\u001b[0;34m,\u001b[0m\u001b[0mfontsize\u001b[0m\u001b[0;34m=\u001b[0m\u001b[0;36m18\u001b[0m\u001b[0;34m)\u001b[0m\u001b[0;34m\u001b[0m\u001b[0m\n\u001b[1;32m      4\u001b[0m \u001b[0mplt\u001b[0m\u001b[0;34m.\u001b[0m\u001b[0mylabel\u001b[0m\u001b[0;34m(\u001b[0m\u001b[0;34m'Velocity [m/s]'\u001b[0m\u001b[0;34m,\u001b[0m\u001b[0mfontsize\u001b[0m\u001b[0;34m=\u001b[0m\u001b[0;36m18\u001b[0m\u001b[0;34m)\u001b[0m\u001b[0;34m\u001b[0m\u001b[0m\n\u001b[1;32m      5\u001b[0m \u001b[0mplt\u001b[0m\u001b[0;34m.\u001b[0m\u001b[0mtitle\u001b[0m\u001b[0;34m(\u001b[0m\u001b[0;34m'Velocity vs radius'\u001b[0m\u001b[0;34m)\u001b[0m\u001b[0;34m\u001b[0m\u001b[0m\n",
      "\u001b[0;32m<ipython-input-5-ef8bb80584ab>\u001b[0m in \u001b[0;36mhvel\u001b[0;34m(r)\u001b[0m\n\u001b[1;32m      1\u001b[0m \u001b[0;32mdef\u001b[0m \u001b[0mhvel\u001b[0m\u001b[0;34m(\u001b[0m\u001b[0mr\u001b[0m\u001b[0;34m)\u001b[0m\u001b[0;34m:\u001b[0m\u001b[0;34m\u001b[0m\u001b[0m\n\u001b[0;32m----> 2\u001b[0;31m     \u001b[0mx\u001b[0m\u001b[0;34m=\u001b[0m\u001b[0;36m0.5\u001b[0m\u001b[0;34m+\u001b[0m\u001b[0;34m(\u001b[0m\u001b[0mr\u001b[0m\u001b[0;34m-\u001b[0m\u001b[0mrmaxh\u001b[0m\u001b[0;34m)\u001b[0m\u001b[0;34m/\u001b[0m\u001b[0;34m(\u001b[0m\u001b[0mmaxR\u001b[0m\u001b[0;34m-\u001b[0m\u001b[0mrmaxh\u001b[0m\u001b[0;34m)\u001b[0m\u001b[0;34m*\u001b[0m\u001b[0mkh\u001b[0m\u001b[0;34m\u001b[0m\u001b[0m\n\u001b[0m\u001b[1;32m      3\u001b[0m     \u001b[0;32mreturn\u001b[0m \u001b[0;34m(\u001b[0m\u001b[0mbh\u001b[0m\u001b[0;34m/\u001b[0m\u001b[0mrhoa\u001b[0m\u001b[0;34m*\u001b[0m\u001b[0;34m(\u001b[0m\u001b[0mrmaxh\u001b[0m\u001b[0;34m/\u001b[0m\u001b[0mr\u001b[0m\u001b[0;34m)\u001b[0m\u001b[0;34m**\u001b[0m\u001b[0mbh\u001b[0m\u001b[0;34m*\u001b[0m\u001b[0mdph\u001b[0m\u001b[0;34m*\u001b[0m\u001b[0mnp\u001b[0m\u001b[0;34m.\u001b[0m\u001b[0mexp\u001b[0m\u001b[0;34m(\u001b[0m\u001b[0;34m-\u001b[0m\u001b[0;34m(\u001b[0m\u001b[0mrmaxh\u001b[0m\u001b[0;34m/\u001b[0m\u001b[0mr\u001b[0m\u001b[0;34m)\u001b[0m\u001b[0;34m**\u001b[0m\u001b[0mbh\u001b[0m\u001b[0;34m)\u001b[0m\u001b[0;34m)\u001b[0m\u001b[0;34m**\u001b[0m\u001b[0mx\u001b[0m\u001b[0;34m\u001b[0m\u001b[0m\n",
      "\u001b[0;31mNameError\u001b[0m: global name 'kh' is not defined"
     ]
    },
    {
     "data": {
      "text/plain": [
       "<matplotlib.figure.Figure at 0x7f12abc15990>"
      ]
     },
     "metadata": {},
     "output_type": "display_data"
    }
   ],
   "source": [
    "plt.figure(figsize=(10,8))\n",
    "plt.plot(rh/1000,hvel(rh))\n",
    "plt.xlabel('km',fontsize=18)\n",
    "plt.ylabel('Velocity [m/s]',fontsize=18)\n",
    "plt.title('Velocity vs radius')"
   ]
  },
  {
   "cell_type": "code",
   "execution_count": null,
   "metadata": {
    "collapsed": false
   },
   "outputs": [],
   "source": [
    "plt.figure(figsize=(10,8))\n",
    "plt.plot(rh/1000,pres(rh)/100)\n",
    "\n",
    "plt.xlabel('km',fontsize=18)\n",
    "plt.ylabel('Pressure [PA]',fontsize=18)\n",
    "plt.title('Pressure vs radius')\n",
    "\n",
    "\n",
    "plt.show()"
   ]
  },
  {
   "cell_type": "code",
   "execution_count": null,
   "metadata": {
    "collapsed": true
   },
   "outputs": [],
   "source": [
    "ni,nj=1000,1000\n",
    "xl=np.linspace(-maxR, maxR,ni+1)\n",
    "yl=np.linspace(-maxR, maxR,nj+1)\n",
    "q1,q2=np.meshgrid(xl,yl)"
   ]
  },
  {
   "cell_type": "code",
   "execution_count": null,
   "metadata": {
    "collapsed": true
   },
   "outputs": [],
   "source": [
    "zx,zy, pr=hvel2d(q1,q2,vtx,vty)"
   ]
  },
  {
   "cell_type": "code",
   "execution_count": null,
   "metadata": {
    "collapsed": false
   },
   "outputs": [],
   "source": [
    "plt.figure(figsize=(10,8))\n",
    "plt.contourf(q1/1000,q2/1000,pr/100,20)\n",
    "plt.xlabel('km',fontsize=18)\n",
    "plt.ylabel('Km',fontsize=18)\n",
    "plt.title('Pressure contours')\n",
    "\n",
    "\n",
    "plt.colorbar(label='PA')\n",
    "plt.show()"
   ]
  },
  {
   "cell_type": "code",
   "execution_count": null,
   "metadata": {
    "collapsed": false
   },
   "outputs": [],
   "source": [
    "plt.figure(figsize=(10,8))\n",
    "plt.plot(q1[0,:]/1000,pr[500,:]/100)\n",
    "\n",
    "plt.xlabel('km',fontsize=18)\n",
    "plt.ylabel('Pressure',fontsize=18)\n",
    "plt.title('Pressure vs radius')\n",
    "\n",
    "\n",
    "plt.show()"
   ]
  },
  {
   "cell_type": "code",
   "execution_count": null,
   "metadata": {
    "collapsed": false
   },
   "outputs": [],
   "source": [
    "\n",
    "vel=np.sqrt(zx**2+zy**2)"
   ]
  },
  {
   "cell_type": "code",
   "execution_count": null,
   "metadata": {
    "collapsed": false
   },
   "outputs": [],
   "source": [
    "plt.figure(figsize=(10,8))\n",
    "plt.contourf(q1/1000,q2/1000,vel,20)\n",
    "plt.streamplot(q1/1000,q2/1000,zx,zy, color=vel, linewidth=0.1*vel)\n",
    "plt.xlabel('km',fontsize=18)\n",
    "plt.ylabel('Km',fontsize=18)\n",
    "plt.title('Velocity vs radius')\n",
    "\n",
    "plt.colorbar(label='m/s')\n",
    "plt.show()"
   ]
  },
  {
   "cell_type": "code",
   "execution_count": null,
   "metadata": {
    "collapsed": false,
    "scrolled": false
   },
   "outputs": [],
   "source": [
    "plt.figure(figsize=(10,8))\n",
    "plt.plot(q1[0,:]/1000,vel[ni/2,:],label='horizontal')\n",
    "plt.plot(q2[:,0]/1000,vel[:,nj/2],label='verical')\n",
    "\n",
    "plt.xlabel('km',fontsize=18)\n",
    "plt.ylabel('Velocity [m/s]',fontsize=18)\n",
    "plt.title('Velocity vs radius')\n",
    "\n",
    "\n",
    "plt.legend(loc=0)\n",
    "plt.show()"
   ]
  },
  {
   "cell_type": "code",
   "execution_count": null,
   "metadata": {
    "collapsed": false
   },
   "outputs": [],
   "source": [
    "np.savetxt('tmp/phol',[q1[0,:],pr[500,:]])\n",
    "np.savetxt('tmp/uhol',[q1[0,:],vel[ni/2,:],vel[:,nj/2]])"
   ]
  },
  {
   "cell_type": "code",
   "execution_count": null,
   "metadata": {
    "collapsed": false
   },
   "outputs": [],
   "source": [
    "pd.DataFrame({'Min Pressure':[pch/100],'Max Velocity':[vmaxh]})"
   ]
  },
  {
   "cell_type": "code",
   "execution_count": null,
   "metadata": {
    "collapsed": true
   },
   "outputs": [],
   "source": []
  }
 ],
 "metadata": {
  "hide_input": false,
  "kernelspec": {
   "display_name": "Python 2",
   "language": "python",
   "name": "python2"
  },
  "language_info": {
   "codemirror_mode": {
    "name": "ipython",
    "version": 2
   },
   "file_extension": ".py",
   "mimetype": "text/x-python",
   "name": "python",
   "nbconvert_exporter": "python",
   "pygments_lexer": "ipython2",
   "version": "2.7.12"
  },
  "latex_envs": {
   "bibliofile": "biblio.bib",
   "cite_by": "apalike",
   "current_citInitial": 1,
   "eqLabelWithNumbers": true,
   "eqNumInitial": 0
  },
  "widgets": {
   "state": {},
   "version": "2.0.10"
  }
 },
 "nbformat": 4,
 "nbformat_minor": 0
}
