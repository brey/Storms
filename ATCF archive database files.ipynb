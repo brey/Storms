{
 "cells": [
  {
   "cell_type": "markdown",
   "metadata": {},
   "source": [
    "# Parsing of ATCF Archive files"
   ]
  },
  {
   "cell_type": "markdown",
   "metadata": {},
   "source": [
    "This is a notebook that outlines the parcing of info files from the ATCF Archive at http://ftp.nhc.noaa.gov/atcf/archive/. \n",
    "\n",
    "It is the first step in providing the u,v,p forcing terms. See also corrsponding Notebook for Best Track parsing [BestTrack.ipynb](./BestTrack.ipynb). "
   ]
  },
  {
   "cell_type": "code",
   "execution_count": 1,
   "metadata": {
    "collapsed": true
   },
   "outputs": [],
   "source": [
    "#%matplotlib notebook"
   ]
  },
  {
   "cell_type": "code",
   "execution_count": 2,
   "metadata": {
    "collapsed": false
   },
   "outputs": [],
   "source": [
    "%matplotlib inline"
   ]
  },
  {
   "cell_type": "markdown",
   "metadata": {},
   "source": [
    "### Definitions"
   ]
  },
  {
   "cell_type": "code",
   "execution_count": 3,
   "metadata": {
    "collapsed": true
   },
   "outputs": [],
   "source": [
    "import numpy as np\n",
    "# -------------------------------------------------------------------------\n",
    "# Const\n",
    "# -------------------------------------------------------------------------\n",
    "nm2m=1852. # 1 nautical mile to meters\n",
    "kt2ms=nm2m/3600.  # knots to m/s\n",
    "omega=2*np.pi/(3600.*24.) # angular speed omega=2pi*f(=frequency of earth : 1 cycle per day) 2pi* 1 / day in seconds\n",
    "rhoa=1.15 #air density  Kg/m^3\n",
    "radius=6378388 #137. # earth's radius according to WGS 84\n",
    "deg2m=np.pi*radius/180.  # ds on cicle equals ds=r*dth - dth=pi/180\n",
    "pn=101000.  # Atmospheric pressure [N/m^2] (101KPa - enviromental pressure)\n",
    "\n",
    "tetaNE=45. #mean angle [degrees] of North Eastern quadrant\n",
    "tetaNW=135. #        \"              North Western\n",
    "tetaSW=225. #        \"              South West\n",
    "tetaSE=315. #        \"              South East\n",
    "\n",
    "maxR=500.e3  # maximum radius of TC [m] (500Km)"
   ]
  },
  {
   "cell_type": "code",
   "execution_count": 4,
   "metadata": {
    "collapsed": false
   },
   "outputs": [],
   "source": [
    "from netCDF4 import Dataset"
   ]
  },
  {
   "cell_type": "code",
   "execution_count": 5,
   "metadata": {
    "collapsed": true
   },
   "outputs": [],
   "source": [
    "import glob"
   ]
  },
  {
   "cell_type": "code",
   "execution_count": 6,
   "metadata": {
    "collapsed": true
   },
   "outputs": [],
   "source": [
    "import re"
   ]
  },
  {
   "cell_type": "code",
   "execution_count": 7,
   "metadata": {
    "collapsed": true
   },
   "outputs": [],
   "source": [
    "import datetime"
   ]
  },
  {
   "cell_type": "code",
   "execution_count": 8,
   "metadata": {
    "collapsed": false
   },
   "outputs": [],
   "source": [
    "import pandas as pd\n",
    "import matplotlib.pyplot as plt\n",
    "import mplleaflet"
   ]
  },
  {
   "cell_type": "code",
   "execution_count": 9,
   "metadata": {
    "collapsed": true
   },
   "outputs": [],
   "source": [
    "def hvel(r):\n",
    "    x=0.5+(r-rmaxh)/(maxR-rmaxh)*kh\n",
    "    return (bh/rhoa*(rmaxh/r)**bh*dph*np.exp(-(rmaxh/r)**bh))**x"
   ]
  },
  {
   "cell_type": "code",
   "execution_count": 10,
   "metadata": {
    "collapsed": true
   },
   "outputs": [],
   "source": [
    "def pres(r):\n",
    "    return pch+dph*np.exp(-(rmaxh/r)**bh)"
   ]
  },
  {
   "cell_type": "code",
   "execution_count": 11,
   "metadata": {
    "collapsed": true
   },
   "outputs": [],
   "source": [
    "def hvel2d(l1,l2,vtx,vty):\n",
    "    r=np.sqrt(l1**2+l2**2)\n",
    "    xh=0.5+(r-rmaxh)/(maxR-rmaxh)*kh\n",
    "    ur=(bh/rhoa*(rmaxh/r)**bh*dph*np.exp(-(rmaxh/r)**bh))**xh\n",
    "    theta=np.arctan2(l2,l1)\n",
    "    ux=-ur*np.sin(theta)\n",
    "    uy=ur*np.cos(theta)\n",
    "    return ux+vtx,uy+vty, pres(r)"
   ]
  },
  {
   "cell_type": "markdown",
   "metadata": {},
   "source": [
    "# ANALYSIS STARTS HERE"
   ]
  },
  {
   "cell_type": "code",
   "execution_count": 12,
   "metadata": {
    "collapsed": true
   },
   "outputs": [],
   "source": [
    "path='test/'"
   ]
  },
  {
   "cell_type": "code",
   "execution_count": 13,
   "metadata": {
    "collapsed": true
   },
   "outputs": [],
   "source": [
    "atcf_header=['BASIN', 'CY', 'YYYYMMDDHH', 'TECHNUM/MIN', 'TECH', 'TAU', 'LatN/S', 'LonE/W', 'VMAX', 'MSLP', 'TY', 'RAD', 'WINDCODE', 'RAD1', 'RAD2', 'RAD3', 'RAD4', 'POUTER', 'ROUTER', 'RMW', 'GUSTS', 'EYE', 'SUBREGION', 'MAXSEAS', 'INITIALS', 'DIR', 'SPEED', 'STORMNAME', 'DEPTH', 'SEAS', 'SEASCODE', 'SEAS1', 'SEAS2', 'SEAS3', 'SEAS4', 'USERDEFINED', 'userdata']"
   ]
  },
  {
   "cell_type": "code",
   "execution_count": 14,
   "metadata": {
    "collapsed": false
   },
   "outputs": [],
   "source": [
    "data=pd.read_csv(path+'bal212010.dat', header=None, names=atcf_header, low_memory=False)"
   ]
  },
  {
   "cell_type": "code",
   "execution_count": 15,
   "metadata": {
    "collapsed": false
   },
   "outputs": [
    {
     "data": {
      "text/html": [
       "<div>\n",
       "<table border=\"1\" class=\"dataframe\">\n",
       "  <thead>\n",
       "    <tr style=\"text-align: right;\">\n",
       "      <th></th>\n",
       "      <th>BASIN</th>\n",
       "      <th>CY</th>\n",
       "      <th>YYYYMMDDHH</th>\n",
       "      <th>TECHNUM/MIN</th>\n",
       "      <th>TECH</th>\n",
       "      <th>TAU</th>\n",
       "      <th>LatN/S</th>\n",
       "      <th>LonE/W</th>\n",
       "      <th>VMAX</th>\n",
       "      <th>MSLP</th>\n",
       "      <th>...</th>\n",
       "      <th>STORMNAME</th>\n",
       "      <th>DEPTH</th>\n",
       "      <th>SEAS</th>\n",
       "      <th>SEASCODE</th>\n",
       "      <th>SEAS1</th>\n",
       "      <th>SEAS2</th>\n",
       "      <th>SEAS3</th>\n",
       "      <th>SEAS4</th>\n",
       "      <th>USERDEFINED</th>\n",
       "      <th>userdata</th>\n",
       "    </tr>\n",
       "  </thead>\n",
       "  <tbody>\n",
       "    <tr>\n",
       "      <th>0</th>\n",
       "      <td>AL</td>\n",
       "      <td>21</td>\n",
       "      <td>2010102906</td>\n",
       "      <td></td>\n",
       "      <td>BEST</td>\n",
       "      <td>0</td>\n",
       "      <td>90N</td>\n",
       "      <td>537W</td>\n",
       "      <td>30</td>\n",
       "      <td>1006</td>\n",
       "      <td>...</td>\n",
       "      <td>INVEST</td>\n",
       "      <td>S</td>\n",
       "      <td></td>\n",
       "      <td>NaN</td>\n",
       "      <td>NaN</td>\n",
       "      <td>NaN</td>\n",
       "      <td>NaN</td>\n",
       "      <td>NaN</td>\n",
       "      <td>NaN</td>\n",
       "      <td>NaN</td>\n",
       "    </tr>\n",
       "    <tr>\n",
       "      <th>1</th>\n",
       "      <td>AL</td>\n",
       "      <td>21</td>\n",
       "      <td>2010102912</td>\n",
       "      <td></td>\n",
       "      <td>BEST</td>\n",
       "      <td>0</td>\n",
       "      <td>98N</td>\n",
       "      <td>553W</td>\n",
       "      <td>35</td>\n",
       "      <td>1003</td>\n",
       "      <td>...</td>\n",
       "      <td>INVEST</td>\n",
       "      <td>M</td>\n",
       "      <td></td>\n",
       "      <td>NaN</td>\n",
       "      <td>NaN</td>\n",
       "      <td>NaN</td>\n",
       "      <td>NaN</td>\n",
       "      <td>NaN</td>\n",
       "      <td>NaN</td>\n",
       "      <td>NaN</td>\n",
       "    </tr>\n",
       "    <tr>\n",
       "      <th>2</th>\n",
       "      <td>AL</td>\n",
       "      <td>21</td>\n",
       "      <td>2010102918</td>\n",
       "      <td></td>\n",
       "      <td>BEST</td>\n",
       "      <td>0</td>\n",
       "      <td>108N</td>\n",
       "      <td>568W</td>\n",
       "      <td>45</td>\n",
       "      <td>998</td>\n",
       "      <td>...</td>\n",
       "      <td>TOMAS</td>\n",
       "      <td>M</td>\n",
       "      <td>12</td>\n",
       "      <td>NEQ</td>\n",
       "      <td>40.0</td>\n",
       "      <td>30.0</td>\n",
       "      <td>0.0</td>\n",
       "      <td>40.0</td>\n",
       "      <td>NaN</td>\n",
       "      <td>NaN</td>\n",
       "    </tr>\n",
       "    <tr>\n",
       "      <th>3</th>\n",
       "      <td>AL</td>\n",
       "      <td>21</td>\n",
       "      <td>2010103000</td>\n",
       "      <td></td>\n",
       "      <td>BEST</td>\n",
       "      <td>0</td>\n",
       "      <td>119N</td>\n",
       "      <td>578W</td>\n",
       "      <td>55</td>\n",
       "      <td>999</td>\n",
       "      <td>...</td>\n",
       "      <td>TOMAS</td>\n",
       "      <td>M</td>\n",
       "      <td>12</td>\n",
       "      <td>NEQ</td>\n",
       "      <td>200.0</td>\n",
       "      <td>60.0</td>\n",
       "      <td>0.0</td>\n",
       "      <td>180.0</td>\n",
       "      <td>NaN</td>\n",
       "      <td>NaN</td>\n",
       "    </tr>\n",
       "    <tr>\n",
       "      <th>4</th>\n",
       "      <td>AL</td>\n",
       "      <td>21</td>\n",
       "      <td>2010103000</td>\n",
       "      <td></td>\n",
       "      <td>BEST</td>\n",
       "      <td>0</td>\n",
       "      <td>119N</td>\n",
       "      <td>578W</td>\n",
       "      <td>55</td>\n",
       "      <td>999</td>\n",
       "      <td>...</td>\n",
       "      <td>TOMAS</td>\n",
       "      <td>M</td>\n",
       "      <td>12</td>\n",
       "      <td>NEQ</td>\n",
       "      <td>200.0</td>\n",
       "      <td>60.0</td>\n",
       "      <td>0.0</td>\n",
       "      <td>180.0</td>\n",
       "      <td>NaN</td>\n",
       "      <td>NaN</td>\n",
       "    </tr>\n",
       "  </tbody>\n",
       "</table>\n",
       "<p>5 rows × 37 columns</p>\n",
       "</div>"
      ],
      "text/plain": [
       "  BASIN  CY  YYYYMMDDHH TECHNUM/MIN   TECH  TAU LatN/S  LonE/W  VMAX  MSLP  \\\n",
       "0    AL  21  2010102906               BEST    0    90N    537W    30  1006   \n",
       "1    AL  21  2010102912               BEST    0    98N    553W    35  1003   \n",
       "2    AL  21  2010102918               BEST    0   108N    568W    45   998   \n",
       "3    AL  21  2010103000               BEST    0   119N    578W    55   999   \n",
       "4    AL  21  2010103000               BEST    0   119N    578W    55   999   \n",
       "\n",
       "     ...       STORMNAME  DEPTH SEAS  SEASCODE  SEAS1  SEAS2  SEAS3  SEAS4  \\\n",
       "0    ...          INVEST      S            NaN    NaN    NaN    NaN    NaN   \n",
       "1    ...          INVEST      M            NaN    NaN    NaN    NaN    NaN   \n",
       "2    ...           TOMAS      M   12       NEQ   40.0   30.0    0.0   40.0   \n",
       "3    ...           TOMAS      M   12       NEQ  200.0   60.0    0.0  180.0   \n",
       "4    ...           TOMAS      M   12       NEQ  200.0   60.0    0.0  180.0   \n",
       "\n",
       "   USERDEFINED  userdata  \n",
       "0          NaN       NaN  \n",
       "1          NaN       NaN  \n",
       "2          NaN       NaN  \n",
       "3          NaN       NaN  \n",
       "4          NaN       NaN  \n",
       "\n",
       "[5 rows x 37 columns]"
      ]
     },
     "execution_count": 15,
     "metadata": {},
     "output_type": "execute_result"
    }
   ],
   "source": [
    "data.head()"
   ]
  },
  {
   "cell_type": "code",
   "execution_count": 16,
   "metadata": {
    "collapsed": false
   },
   "outputs": [],
   "source": [
    "lon=data['LonE/W']"
   ]
  },
  {
   "cell_type": "code",
   "execution_count": 17,
   "metadata": {
    "collapsed": false
   },
   "outputs": [],
   "source": [
    "lon = [np.float(x[:-1])/10. if x[-1]=='E' else -np.float(x[:-1])/10. for x in lon]"
   ]
  },
  {
   "cell_type": "code",
   "execution_count": 18,
   "metadata": {
    "collapsed": true
   },
   "outputs": [],
   "source": [
    "lat=data['LatN/S']"
   ]
  },
  {
   "cell_type": "code",
   "execution_count": 19,
   "metadata": {
    "collapsed": false
   },
   "outputs": [],
   "source": [
    "lat = [np.float(x[:-1])/10. if x[-1]=='N' else -np.float(x[:-1])/10. for x in lat]"
   ]
  },
  {
   "cell_type": "markdown",
   "metadata": {},
   "source": [
    "Check if we cross International Date Line (IDL)"
   ]
  },
  {
   "cell_type": "code",
   "execution_count": 20,
   "metadata": {
    "collapsed": false
   },
   "outputs": [],
   "source": [
    "sig=np.sign(lon)\n",
    "sig1=sig[0]\n",
    "m=sig != sig1"
   ]
  },
  {
   "cell_type": "code",
   "execution_count": 21,
   "metadata": {
    "collapsed": true
   },
   "outputs": [],
   "source": [
    "if sum(m)>0:\n",
    "# adjust the lon values going from -180:180\n",
    "        if sig1 > 0:\n",
    "                lon[lon < 0] += 360.\n",
    "        elif sig1 < 0:\n",
    "                lon[lon > 0] -= 360.\n",
    "\n"
   ]
  },
  {
   "cell_type": "code",
   "execution_count": 22,
   "metadata": {
    "collapsed": false
   },
   "outputs": [
    {
     "data": {
      "text/html": [
       "<iframe src=\"data:text/html;base64,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\" width=\"100%\" height=\"240\"></iframe>"
      ],
      "text/plain": [
       "<IPython.core.display.HTML object>"
      ]
     },
     "execution_count": 22,
     "metadata": {},
     "output_type": "execute_result"
    }
   ],
   "source": [
    "plt.plot(lon,lat,'o--')\n",
    "mplleaflet.display()"
   ]
  },
  {
   "cell_type": "code",
   "execution_count": 23,
   "metadata": {
    "collapsed": false
   },
   "outputs": [],
   "source": [
    "vmax = data['VMAX'] # 10 minute wind in Knots"
   ]
  },
  {
   "cell_type": "code",
   "execution_count": 24,
   "metadata": {
    "collapsed": false
   },
   "outputs": [],
   "source": [
    "mslp = data['MSLP'] # Minimum sea level pressure, 850 - 1050 mb."
   ]
  },
  {
   "cell_type": "code",
   "execution_count": 25,
   "metadata": {
    "collapsed": true
   },
   "outputs": [],
   "source": [
    "penv = data['POUTER']     # pressure in millibars of the last closed isobar, 900 - 1050 mb."
   ]
  },
  {
   "cell_type": "code",
   "execution_count": 26,
   "metadata": {
    "collapsed": false
   },
   "outputs": [],
   "source": [
    "time = data['YYYYMMDDHH'].apply(pd.to_datetime, format='%Y%m%d%H')"
   ]
  },
  {
   "cell_type": "code",
   "execution_count": 27,
   "metadata": {
    "collapsed": false
   },
   "outputs": [],
   "source": [
    "rmw = data['RMW'] # in nautical miles"
   ]
  },
  {
   "cell_type": "code",
   "execution_count": 28,
   "metadata": {
    "collapsed": true
   },
   "outputs": [],
   "source": [
    "wradii=pd.DataFrame({'34ne':np.zeros(data.shape[0]), '34se':np.zeros(data.shape[0]), '34sw':np.zeros(data.shape[0]), '34nw':np.zeros(data.shape[0]), '50ne':np.zeros(data.shape[0]), '50se':np.zeros(data.shape[0]), '50sw':np.zeros(data.shape[0]), '50nw':np.zeros(data.shape[0]),'64ne':np.zeros(data.shape[0]), '64se':np.zeros(data.shape[0]), '64sw':np.zeros(data.shape[0]), '64nw':np.zeros(data.shape[0])})"
   ]
  },
  {
   "cell_type": "code",
   "execution_count": 29,
   "metadata": {
    "collapsed": false
   },
   "outputs": [
    {
     "data": {
      "text/html": [
       "<div>\n",
       "<table border=\"1\" class=\"dataframe\">\n",
       "  <thead>\n",
       "    <tr style=\"text-align: right;\">\n",
       "      <th></th>\n",
       "      <th>34ne</th>\n",
       "      <th>34nw</th>\n",
       "      <th>34se</th>\n",
       "      <th>34sw</th>\n",
       "      <th>50ne</th>\n",
       "      <th>50nw</th>\n",
       "      <th>50se</th>\n",
       "      <th>50sw</th>\n",
       "      <th>64ne</th>\n",
       "      <th>64nw</th>\n",
       "      <th>64se</th>\n",
       "      <th>64sw</th>\n",
       "    </tr>\n",
       "  </thead>\n",
       "  <tbody>\n",
       "    <tr>\n",
       "      <th>0</th>\n",
       "      <td>0.0</td>\n",
       "      <td>0.0</td>\n",
       "      <td>0.0</td>\n",
       "      <td>0.0</td>\n",
       "      <td>0.0</td>\n",
       "      <td>0.0</td>\n",
       "      <td>0.0</td>\n",
       "      <td>0.0</td>\n",
       "      <td>0.0</td>\n",
       "      <td>0.0</td>\n",
       "      <td>0.0</td>\n",
       "      <td>0.0</td>\n",
       "    </tr>\n",
       "    <tr>\n",
       "      <th>1</th>\n",
       "      <td>0.0</td>\n",
       "      <td>0.0</td>\n",
       "      <td>0.0</td>\n",
       "      <td>0.0</td>\n",
       "      <td>0.0</td>\n",
       "      <td>0.0</td>\n",
       "      <td>0.0</td>\n",
       "      <td>0.0</td>\n",
       "      <td>0.0</td>\n",
       "      <td>0.0</td>\n",
       "      <td>0.0</td>\n",
       "      <td>0.0</td>\n",
       "    </tr>\n",
       "    <tr>\n",
       "      <th>2</th>\n",
       "      <td>0.0</td>\n",
       "      <td>0.0</td>\n",
       "      <td>0.0</td>\n",
       "      <td>0.0</td>\n",
       "      <td>0.0</td>\n",
       "      <td>0.0</td>\n",
       "      <td>0.0</td>\n",
       "      <td>0.0</td>\n",
       "      <td>0.0</td>\n",
       "      <td>0.0</td>\n",
       "      <td>0.0</td>\n",
       "      <td>0.0</td>\n",
       "    </tr>\n",
       "    <tr>\n",
       "      <th>3</th>\n",
       "      <td>0.0</td>\n",
       "      <td>0.0</td>\n",
       "      <td>0.0</td>\n",
       "      <td>0.0</td>\n",
       "      <td>0.0</td>\n",
       "      <td>0.0</td>\n",
       "      <td>0.0</td>\n",
       "      <td>0.0</td>\n",
       "      <td>0.0</td>\n",
       "      <td>0.0</td>\n",
       "      <td>0.0</td>\n",
       "      <td>0.0</td>\n",
       "    </tr>\n",
       "    <tr>\n",
       "      <th>4</th>\n",
       "      <td>0.0</td>\n",
       "      <td>0.0</td>\n",
       "      <td>0.0</td>\n",
       "      <td>0.0</td>\n",
       "      <td>0.0</td>\n",
       "      <td>0.0</td>\n",
       "      <td>0.0</td>\n",
       "      <td>0.0</td>\n",
       "      <td>0.0</td>\n",
       "      <td>0.0</td>\n",
       "      <td>0.0</td>\n",
       "      <td>0.0</td>\n",
       "    </tr>\n",
       "  </tbody>\n",
       "</table>\n",
       "</div>"
      ],
      "text/plain": [
       "   34ne  34nw  34se  34sw  50ne  50nw  50se  50sw  64ne  64nw  64se  64sw\n",
       "0   0.0   0.0   0.0   0.0   0.0   0.0   0.0   0.0   0.0   0.0   0.0   0.0\n",
       "1   0.0   0.0   0.0   0.0   0.0   0.0   0.0   0.0   0.0   0.0   0.0   0.0\n",
       "2   0.0   0.0   0.0   0.0   0.0   0.0   0.0   0.0   0.0   0.0   0.0   0.0\n",
       "3   0.0   0.0   0.0   0.0   0.0   0.0   0.0   0.0   0.0   0.0   0.0   0.0\n",
       "4   0.0   0.0   0.0   0.0   0.0   0.0   0.0   0.0   0.0   0.0   0.0   0.0"
      ]
     },
     "execution_count": 29,
     "metadata": {},
     "output_type": "execute_result"
    }
   ],
   "source": [
    "wradii.head()"
   ]
  },
  {
   "cell_type": "code",
   "execution_count": 30,
   "metadata": {
    "collapsed": false
   },
   "outputs": [],
   "source": [
    "data.RAD=data.RAD.astype(str).str.strip() # convert to text format and delete whitespace"
   ]
  },
  {
   "cell_type": "code",
   "execution_count": 31,
   "metadata": {
    "collapsed": false
   },
   "outputs": [],
   "source": [
    "data.WINDCODE = data.WINDCODE.str.strip() # convert to text format and delete whitespace"
   ]
  },
  {
   "cell_type": "code",
   "execution_count": 32,
   "metadata": {
    "collapsed": false
   },
   "outputs": [],
   "source": [
    "rwcols=['RAD1', 'RAD2', 'RAD3', 'RAD4']"
   ]
  },
  {
   "cell_type": "code",
   "execution_count": 33,
   "metadata": {
    "collapsed": false
   },
   "outputs": [],
   "source": [
    "wcols=['34ne', '34se', '34sw', '34nw','50ne', '50se', '50sw', '50nw','64ne', '64se', '64sw', '64nw']"
   ]
  },
  {
   "cell_type": "markdown",
   "metadata": {},
   "source": [
    "constract the wind radii matrix"
   ]
  },
  {
   "cell_type": "code",
   "execution_count": 34,
   "metadata": {
    "collapsed": false
   },
   "outputs": [],
   "source": [
    "for i in range(data.shape[0]):\n",
    "    if data.WINDCODE.iloc[i] == 'NEQ' :\n",
    "        rcols = [s for s in wradii.columns.values.astype(str) if data.RAD.iloc[i] in s]\n",
    "        wradii.ix[i,rcols] = data.ix[i,rwcols].values"
   ]
  },
  {
   "cell_type": "markdown",
   "metadata": {},
   "source": [
    "create the inpData matrix "
   ]
  },
  {
   "cell_type": "code",
   "execution_count": 35,
   "metadata": {
    "collapsed": false
   },
   "outputs": [],
   "source": [
    "dic={'t':time, 'lat':lat,'lon':lon,'penv': penv, 'pcenter': mslp, 'vmax':vmax, 'rmax':rmw, 'hurName': data.STORMNAME} "
   ]
  },
  {
   "cell_type": "code",
   "execution_count": 36,
   "metadata": {
    "collapsed": false
   },
   "outputs": [],
   "source": [
    "inp=pd.DataFrame(dic)"
   ]
  },
  {
   "cell_type": "code",
   "execution_count": 37,
   "metadata": {
    "collapsed": false
   },
   "outputs": [
    {
     "data": {
      "text/html": [
       "<div>\n",
       "<table border=\"1\" class=\"dataframe\">\n",
       "  <thead>\n",
       "    <tr style=\"text-align: right;\">\n",
       "      <th></th>\n",
       "      <th>hurName</th>\n",
       "      <th>lat</th>\n",
       "      <th>lon</th>\n",
       "      <th>pcenter</th>\n",
       "      <th>penv</th>\n",
       "      <th>rmax</th>\n",
       "      <th>t</th>\n",
       "      <th>vmax</th>\n",
       "    </tr>\n",
       "  </thead>\n",
       "  <tbody>\n",
       "    <tr>\n",
       "      <th>0</th>\n",
       "      <td>INVEST</td>\n",
       "      <td>9.0</td>\n",
       "      <td>-53.7</td>\n",
       "      <td>1006</td>\n",
       "      <td>1009</td>\n",
       "      <td>120.0</td>\n",
       "      <td>2010-10-29 06:00:00</td>\n",
       "      <td>30</td>\n",
       "    </tr>\n",
       "    <tr>\n",
       "      <th>1</th>\n",
       "      <td>INVEST</td>\n",
       "      <td>9.8</td>\n",
       "      <td>-55.3</td>\n",
       "      <td>1003</td>\n",
       "      <td>1009</td>\n",
       "      <td>90.0</td>\n",
       "      <td>2010-10-29 12:00:00</td>\n",
       "      <td>35</td>\n",
       "    </tr>\n",
       "    <tr>\n",
       "      <th>2</th>\n",
       "      <td>TOMAS</td>\n",
       "      <td>10.8</td>\n",
       "      <td>-56.8</td>\n",
       "      <td>998</td>\n",
       "      <td>1009</td>\n",
       "      <td>30.0</td>\n",
       "      <td>2010-10-29 18:00:00</td>\n",
       "      <td>45</td>\n",
       "    </tr>\n",
       "    <tr>\n",
       "      <th>3</th>\n",
       "      <td>TOMAS</td>\n",
       "      <td>11.9</td>\n",
       "      <td>-57.8</td>\n",
       "      <td>999</td>\n",
       "      <td>1009</td>\n",
       "      <td>30.0</td>\n",
       "      <td>2010-10-30 00:00:00</td>\n",
       "      <td>55</td>\n",
       "    </tr>\n",
       "    <tr>\n",
       "      <th>4</th>\n",
       "      <td>TOMAS</td>\n",
       "      <td>11.9</td>\n",
       "      <td>-57.8</td>\n",
       "      <td>999</td>\n",
       "      <td>1009</td>\n",
       "      <td>30.0</td>\n",
       "      <td>2010-10-30 00:00:00</td>\n",
       "      <td>55</td>\n",
       "    </tr>\n",
       "  </tbody>\n",
       "</table>\n",
       "</div>"
      ],
      "text/plain": [
       "       hurName   lat   lon  pcenter   penv   rmax                   t  vmax\n",
       "0       INVEST   9.0 -53.7     1006   1009  120.0 2010-10-29 06:00:00    30\n",
       "1       INVEST   9.8 -55.3     1003   1009   90.0 2010-10-29 12:00:00    35\n",
       "2        TOMAS  10.8 -56.8      998   1009   30.0 2010-10-29 18:00:00    45\n",
       "3        TOMAS  11.9 -57.8      999   1009   30.0 2010-10-30 00:00:00    55\n",
       "4        TOMAS  11.9 -57.8      999   1009   30.0 2010-10-30 00:00:00    55"
      ]
     },
     "execution_count": 37,
     "metadata": {},
     "output_type": "execute_result"
    }
   ],
   "source": [
    "inp.head()"
   ]
  },
  {
   "cell_type": "code",
   "execution_count": 38,
   "metadata": {
    "collapsed": false
   },
   "outputs": [],
   "source": [
    "inpData = pd.concat([inp,wradii], axis=1)"
   ]
  },
  {
   "cell_type": "code",
   "execution_count": 39,
   "metadata": {
    "collapsed": false
   },
   "outputs": [],
   "source": [
    "right = inpData[wcols].groupby(inpData.t).sum()"
   ]
  },
  {
   "cell_type": "code",
   "execution_count": 40,
   "metadata": {
    "collapsed": false,
    "scrolled": true
   },
   "outputs": [],
   "source": [
    "left = inp.drop_duplicates()"
   ]
  },
  {
   "cell_type": "code",
   "execution_count": 41,
   "metadata": {
    "collapsed": true
   },
   "outputs": [],
   "source": [
    "left = left.set_index('t')"
   ]
  },
  {
   "cell_type": "code",
   "execution_count": 42,
   "metadata": {
    "collapsed": false
   },
   "outputs": [],
   "source": [
    "inpData = pd.concat([left,right], axis=1)"
   ]
  },
  {
   "cell_type": "code",
   "execution_count": 43,
   "metadata": {
    "collapsed": false
   },
   "outputs": [
    {
     "data": {
      "text/html": [
       "<div>\n",
       "<table border=\"1\" class=\"dataframe\">\n",
       "  <thead>\n",
       "    <tr style=\"text-align: right;\">\n",
       "      <th></th>\n",
       "      <th>hurName</th>\n",
       "      <th>lat</th>\n",
       "      <th>lon</th>\n",
       "      <th>pcenter</th>\n",
       "      <th>penv</th>\n",
       "      <th>rmax</th>\n",
       "      <th>vmax</th>\n",
       "      <th>34ne</th>\n",
       "      <th>34se</th>\n",
       "      <th>34sw</th>\n",
       "      <th>34nw</th>\n",
       "      <th>50ne</th>\n",
       "      <th>50se</th>\n",
       "      <th>50sw</th>\n",
       "      <th>50nw</th>\n",
       "      <th>64ne</th>\n",
       "      <th>64se</th>\n",
       "      <th>64sw</th>\n",
       "      <th>64nw</th>\n",
       "    </tr>\n",
       "    <tr>\n",
       "      <th>t</th>\n",
       "      <th></th>\n",
       "      <th></th>\n",
       "      <th></th>\n",
       "      <th></th>\n",
       "      <th></th>\n",
       "      <th></th>\n",
       "      <th></th>\n",
       "      <th></th>\n",
       "      <th></th>\n",
       "      <th></th>\n",
       "      <th></th>\n",
       "      <th></th>\n",
       "      <th></th>\n",
       "      <th></th>\n",
       "      <th></th>\n",
       "      <th></th>\n",
       "      <th></th>\n",
       "      <th></th>\n",
       "      <th></th>\n",
       "    </tr>\n",
       "  </thead>\n",
       "  <tbody>\n",
       "    <tr>\n",
       "      <th>2010-10-29 06:00:00</th>\n",
       "      <td>INVEST</td>\n",
       "      <td>9.0</td>\n",
       "      <td>-53.7</td>\n",
       "      <td>1006</td>\n",
       "      <td>1009</td>\n",
       "      <td>120.0</td>\n",
       "      <td>30</td>\n",
       "      <td>0.0</td>\n",
       "      <td>0.0</td>\n",
       "      <td>0.0</td>\n",
       "      <td>0.0</td>\n",
       "      <td>0.0</td>\n",
       "      <td>0.0</td>\n",
       "      <td>0.0</td>\n",
       "      <td>0.0</td>\n",
       "      <td>0.0</td>\n",
       "      <td>0.0</td>\n",
       "      <td>0.0</td>\n",
       "      <td>0.0</td>\n",
       "    </tr>\n",
       "    <tr>\n",
       "      <th>2010-10-29 12:00:00</th>\n",
       "      <td>INVEST</td>\n",
       "      <td>9.8</td>\n",
       "      <td>-55.3</td>\n",
       "      <td>1003</td>\n",
       "      <td>1009</td>\n",
       "      <td>90.0</td>\n",
       "      <td>35</td>\n",
       "      <td>75.0</td>\n",
       "      <td>0.0</td>\n",
       "      <td>75.0</td>\n",
       "      <td>40.0</td>\n",
       "      <td>0.0</td>\n",
       "      <td>0.0</td>\n",
       "      <td>0.0</td>\n",
       "      <td>0.0</td>\n",
       "      <td>0.0</td>\n",
       "      <td>0.0</td>\n",
       "      <td>0.0</td>\n",
       "      <td>0.0</td>\n",
       "    </tr>\n",
       "    <tr>\n",
       "      <th>2010-10-29 18:00:00</th>\n",
       "      <td>TOMAS</td>\n",
       "      <td>10.8</td>\n",
       "      <td>-56.8</td>\n",
       "      <td>998</td>\n",
       "      <td>1009</td>\n",
       "      <td>30.0</td>\n",
       "      <td>45</td>\n",
       "      <td>90.0</td>\n",
       "      <td>50.0</td>\n",
       "      <td>90.0</td>\n",
       "      <td>50.0</td>\n",
       "      <td>0.0</td>\n",
       "      <td>0.0</td>\n",
       "      <td>0.0</td>\n",
       "      <td>0.0</td>\n",
       "      <td>0.0</td>\n",
       "      <td>0.0</td>\n",
       "      <td>0.0</td>\n",
       "      <td>0.0</td>\n",
       "    </tr>\n",
       "    <tr>\n",
       "      <th>2010-10-30 00:00:00</th>\n",
       "      <td>TOMAS</td>\n",
       "      <td>11.9</td>\n",
       "      <td>-57.8</td>\n",
       "      <td>999</td>\n",
       "      <td>1009</td>\n",
       "      <td>30.0</td>\n",
       "      <td>55</td>\n",
       "      <td>90.0</td>\n",
       "      <td>50.0</td>\n",
       "      <td>90.0</td>\n",
       "      <td>50.0</td>\n",
       "      <td>30.0</td>\n",
       "      <td>0.0</td>\n",
       "      <td>30.0</td>\n",
       "      <td>0.0</td>\n",
       "      <td>0.0</td>\n",
       "      <td>0.0</td>\n",
       "      <td>0.0</td>\n",
       "      <td>0.0</td>\n",
       "    </tr>\n",
       "    <tr>\n",
       "      <th>2010-10-30 06:00:00</th>\n",
       "      <td>TOMAS</td>\n",
       "      <td>12.7</td>\n",
       "      <td>-58.9</td>\n",
       "      <td>997</td>\n",
       "      <td>1009</td>\n",
       "      <td>30.0</td>\n",
       "      <td>60</td>\n",
       "      <td>90.0</td>\n",
       "      <td>50.0</td>\n",
       "      <td>90.0</td>\n",
       "      <td>50.0</td>\n",
       "      <td>30.0</td>\n",
       "      <td>0.0</td>\n",
       "      <td>30.0</td>\n",
       "      <td>0.0</td>\n",
       "      <td>0.0</td>\n",
       "      <td>0.0</td>\n",
       "      <td>0.0</td>\n",
       "      <td>0.0</td>\n",
       "    </tr>\n",
       "  </tbody>\n",
       "</table>\n",
       "</div>"
      ],
      "text/plain": [
       "                         hurName   lat   lon  pcenter   penv   rmax  vmax  \\\n",
       "t                                                                           \n",
       "2010-10-29 06:00:00       INVEST   9.0 -53.7     1006   1009  120.0    30   \n",
       "2010-10-29 12:00:00       INVEST   9.8 -55.3     1003   1009   90.0    35   \n",
       "2010-10-29 18:00:00        TOMAS  10.8 -56.8      998   1009   30.0    45   \n",
       "2010-10-30 00:00:00        TOMAS  11.9 -57.8      999   1009   30.0    55   \n",
       "2010-10-30 06:00:00        TOMAS  12.7 -58.9      997   1009   30.0    60   \n",
       "\n",
       "                     34ne  34se  34sw  34nw  50ne  50se  50sw  50nw  64ne  \\\n",
       "t                                                                           \n",
       "2010-10-29 06:00:00   0.0   0.0   0.0   0.0   0.0   0.0   0.0   0.0   0.0   \n",
       "2010-10-29 12:00:00  75.0   0.0  75.0  40.0   0.0   0.0   0.0   0.0   0.0   \n",
       "2010-10-29 18:00:00  90.0  50.0  90.0  50.0   0.0   0.0   0.0   0.0   0.0   \n",
       "2010-10-30 00:00:00  90.0  50.0  90.0  50.0  30.0   0.0  30.0   0.0   0.0   \n",
       "2010-10-30 06:00:00  90.0  50.0  90.0  50.0  30.0   0.0  30.0   0.0   0.0   \n",
       "\n",
       "                     64se  64sw  64nw  \n",
       "t                                      \n",
       "2010-10-29 06:00:00   0.0   0.0   0.0  \n",
       "2010-10-29 12:00:00   0.0   0.0   0.0  \n",
       "2010-10-29 18:00:00   0.0   0.0   0.0  \n",
       "2010-10-30 00:00:00   0.0   0.0   0.0  \n",
       "2010-10-30 06:00:00   0.0   0.0   0.0  "
      ]
     },
     "execution_count": 43,
     "metadata": {},
     "output_type": "execute_result"
    }
   ],
   "source": [
    "inpData.head()"
   ]
  },
  {
   "cell_type": "code",
   "execution_count": 44,
   "metadata": {
    "collapsed": true
   },
   "outputs": [],
   "source": [
    "inpData = inpData.dropna()"
   ]
  },
  {
   "cell_type": "code",
   "execution_count": 45,
   "metadata": {
    "collapsed": false
   },
   "outputs": [],
   "source": [
    "inpData = inpData.apply(pd.to_numeric, errors='ignore')"
   ]
  },
  {
   "cell_type": "code",
   "execution_count": 46,
   "metadata": {
    "collapsed": false
   },
   "outputs": [],
   "source": [
    "dph = (inpData.penv - inpData.pcenter) * 100 # convert to KP??????"
   ]
  },
  {
   "cell_type": "code",
   "execution_count": 47,
   "metadata": {
    "collapsed": false
   },
   "outputs": [],
   "source": [
    "inpData=inpData.assign(dp=dph)"
   ]
  },
  {
   "cell_type": "markdown",
   "metadata": {},
   "source": [
    "### create inpData file"
   ]
  },
  {
   "cell_type": "code",
   "execution_count": 48,
   "metadata": {
    "collapsed": false
   },
   "outputs": [
    {
     "data": {
      "text/html": [
       "<div>\n",
       "<table border=\"1\" class=\"dataframe\">\n",
       "  <thead>\n",
       "    <tr style=\"text-align: right;\">\n",
       "      <th></th>\n",
       "      <th>hurName</th>\n",
       "      <th>lat</th>\n",
       "      <th>lon</th>\n",
       "      <th>pcenter</th>\n",
       "      <th>penv</th>\n",
       "      <th>rmax</th>\n",
       "      <th>vmax</th>\n",
       "      <th>34ne</th>\n",
       "      <th>34se</th>\n",
       "      <th>34sw</th>\n",
       "      <th>34nw</th>\n",
       "      <th>50ne</th>\n",
       "      <th>50se</th>\n",
       "      <th>50sw</th>\n",
       "      <th>50nw</th>\n",
       "      <th>64ne</th>\n",
       "      <th>64se</th>\n",
       "      <th>64sw</th>\n",
       "      <th>64nw</th>\n",
       "      <th>dp</th>\n",
       "    </tr>\n",
       "    <tr>\n",
       "      <th>t</th>\n",
       "      <th></th>\n",
       "      <th></th>\n",
       "      <th></th>\n",
       "      <th></th>\n",
       "      <th></th>\n",
       "      <th></th>\n",
       "      <th></th>\n",
       "      <th></th>\n",
       "      <th></th>\n",
       "      <th></th>\n",
       "      <th></th>\n",
       "      <th></th>\n",
       "      <th></th>\n",
       "      <th></th>\n",
       "      <th></th>\n",
       "      <th></th>\n",
       "      <th></th>\n",
       "      <th></th>\n",
       "      <th></th>\n",
       "      <th></th>\n",
       "    </tr>\n",
       "  </thead>\n",
       "  <tbody>\n",
       "    <tr>\n",
       "      <th>2010-10-29 06:00:00</th>\n",
       "      <td>INVEST</td>\n",
       "      <td>9.0</td>\n",
       "      <td>-53.7</td>\n",
       "      <td>1006</td>\n",
       "      <td>1009</td>\n",
       "      <td>120.0</td>\n",
       "      <td>30</td>\n",
       "      <td>0.0</td>\n",
       "      <td>0.0</td>\n",
       "      <td>0.0</td>\n",
       "      <td>0.0</td>\n",
       "      <td>0.0</td>\n",
       "      <td>0.0</td>\n",
       "      <td>0.0</td>\n",
       "      <td>0.0</td>\n",
       "      <td>0.0</td>\n",
       "      <td>0.0</td>\n",
       "      <td>0.0</td>\n",
       "      <td>0.0</td>\n",
       "      <td>300</td>\n",
       "    </tr>\n",
       "    <tr>\n",
       "      <th>2010-10-29 12:00:00</th>\n",
       "      <td>INVEST</td>\n",
       "      <td>9.8</td>\n",
       "      <td>-55.3</td>\n",
       "      <td>1003</td>\n",
       "      <td>1009</td>\n",
       "      <td>90.0</td>\n",
       "      <td>35</td>\n",
       "      <td>75.0</td>\n",
       "      <td>0.0</td>\n",
       "      <td>75.0</td>\n",
       "      <td>40.0</td>\n",
       "      <td>0.0</td>\n",
       "      <td>0.0</td>\n",
       "      <td>0.0</td>\n",
       "      <td>0.0</td>\n",
       "      <td>0.0</td>\n",
       "      <td>0.0</td>\n",
       "      <td>0.0</td>\n",
       "      <td>0.0</td>\n",
       "      <td>600</td>\n",
       "    </tr>\n",
       "    <tr>\n",
       "      <th>2010-10-29 18:00:00</th>\n",
       "      <td>TOMAS</td>\n",
       "      <td>10.8</td>\n",
       "      <td>-56.8</td>\n",
       "      <td>998</td>\n",
       "      <td>1009</td>\n",
       "      <td>30.0</td>\n",
       "      <td>45</td>\n",
       "      <td>90.0</td>\n",
       "      <td>50.0</td>\n",
       "      <td>90.0</td>\n",
       "      <td>50.0</td>\n",
       "      <td>0.0</td>\n",
       "      <td>0.0</td>\n",
       "      <td>0.0</td>\n",
       "      <td>0.0</td>\n",
       "      <td>0.0</td>\n",
       "      <td>0.0</td>\n",
       "      <td>0.0</td>\n",
       "      <td>0.0</td>\n",
       "      <td>1100</td>\n",
       "    </tr>\n",
       "    <tr>\n",
       "      <th>2010-10-30 00:00:00</th>\n",
       "      <td>TOMAS</td>\n",
       "      <td>11.9</td>\n",
       "      <td>-57.8</td>\n",
       "      <td>999</td>\n",
       "      <td>1009</td>\n",
       "      <td>30.0</td>\n",
       "      <td>55</td>\n",
       "      <td>90.0</td>\n",
       "      <td>50.0</td>\n",
       "      <td>90.0</td>\n",
       "      <td>50.0</td>\n",
       "      <td>30.0</td>\n",
       "      <td>0.0</td>\n",
       "      <td>30.0</td>\n",
       "      <td>0.0</td>\n",
       "      <td>0.0</td>\n",
       "      <td>0.0</td>\n",
       "      <td>0.0</td>\n",
       "      <td>0.0</td>\n",
       "      <td>1000</td>\n",
       "    </tr>\n",
       "    <tr>\n",
       "      <th>2010-10-30 06:00:00</th>\n",
       "      <td>TOMAS</td>\n",
       "      <td>12.7</td>\n",
       "      <td>-58.9</td>\n",
       "      <td>997</td>\n",
       "      <td>1009</td>\n",
       "      <td>30.0</td>\n",
       "      <td>60</td>\n",
       "      <td>90.0</td>\n",
       "      <td>50.0</td>\n",
       "      <td>90.0</td>\n",
       "      <td>50.0</td>\n",
       "      <td>30.0</td>\n",
       "      <td>0.0</td>\n",
       "      <td>30.0</td>\n",
       "      <td>0.0</td>\n",
       "      <td>0.0</td>\n",
       "      <td>0.0</td>\n",
       "      <td>0.0</td>\n",
       "      <td>0.0</td>\n",
       "      <td>1200</td>\n",
       "    </tr>\n",
       "  </tbody>\n",
       "</table>\n",
       "</div>"
      ],
      "text/plain": [
       "                         hurName   lat   lon  pcenter  penv   rmax  vmax  \\\n",
       "t                                                                          \n",
       "2010-10-29 06:00:00       INVEST   9.0 -53.7     1006  1009  120.0    30   \n",
       "2010-10-29 12:00:00       INVEST   9.8 -55.3     1003  1009   90.0    35   \n",
       "2010-10-29 18:00:00        TOMAS  10.8 -56.8      998  1009   30.0    45   \n",
       "2010-10-30 00:00:00        TOMAS  11.9 -57.8      999  1009   30.0    55   \n",
       "2010-10-30 06:00:00        TOMAS  12.7 -58.9      997  1009   30.0    60   \n",
       "\n",
       "                     34ne  34se  34sw  34nw  50ne  50se  50sw  50nw  64ne  \\\n",
       "t                                                                           \n",
       "2010-10-29 06:00:00   0.0   0.0   0.0   0.0   0.0   0.0   0.0   0.0   0.0   \n",
       "2010-10-29 12:00:00  75.0   0.0  75.0  40.0   0.0   0.0   0.0   0.0   0.0   \n",
       "2010-10-29 18:00:00  90.0  50.0  90.0  50.0   0.0   0.0   0.0   0.0   0.0   \n",
       "2010-10-30 00:00:00  90.0  50.0  90.0  50.0  30.0   0.0  30.0   0.0   0.0   \n",
       "2010-10-30 06:00:00  90.0  50.0  90.0  50.0  30.0   0.0  30.0   0.0   0.0   \n",
       "\n",
       "                     64se  64sw  64nw    dp  \n",
       "t                                            \n",
       "2010-10-29 06:00:00   0.0   0.0   0.0   300  \n",
       "2010-10-29 12:00:00   0.0   0.0   0.0   600  \n",
       "2010-10-29 18:00:00   0.0   0.0   0.0  1100  \n",
       "2010-10-30 00:00:00   0.0   0.0   0.0  1000  \n",
       "2010-10-30 06:00:00   0.0   0.0   0.0  1200  "
      ]
     },
     "execution_count": 48,
     "metadata": {},
     "output_type": "execute_result"
    }
   ],
   "source": [
    "inpData.head()"
   ]
  },
  {
   "cell_type": "code",
   "execution_count": 49,
   "metadata": {
    "collapsed": false
   },
   "outputs": [
    {
     "data": {
      "text/plain": [
       "Timestamp('2010-10-29 06:00:00')"
      ]
     },
     "execution_count": 49,
     "metadata": {},
     "output_type": "execute_result"
    }
   ],
   "source": [
    "inpData.index[0]"
   ]
  },
  {
   "cell_type": "code",
   "execution_count": 50,
   "metadata": {
    "collapsed": false
   },
   "outputs": [],
   "source": [
    "inpData['time']=inpData.index-inpData.index[0]"
   ]
  },
  {
   "cell_type": "code",
   "execution_count": 51,
   "metadata": {
    "collapsed": false
   },
   "outputs": [],
   "source": [
    "inpData['time']=inpData['time'] / pd.Timedelta('1 hour')"
   ]
  },
  {
   "cell_type": "code",
   "execution_count": 52,
   "metadata": {
    "collapsed": true
   },
   "outputs": [],
   "source": [
    "inpData.reset_index(level=0, inplace=True)"
   ]
  },
  {
   "cell_type": "code",
   "execution_count": 53,
   "metadata": {
    "collapsed": false,
    "scrolled": false
   },
   "outputs": [],
   "source": [
    "inpData=inpData.set_index('time')"
   ]
  },
  {
   "cell_type": "code",
   "execution_count": 54,
   "metadata": {
    "collapsed": false
   },
   "outputs": [
    {
     "data": {
      "text/html": [
       "<div>\n",
       "<table border=\"1\" class=\"dataframe\">\n",
       "  <thead>\n",
       "    <tr style=\"text-align: right;\">\n",
       "      <th></th>\n",
       "      <th>t</th>\n",
       "      <th>hurName</th>\n",
       "      <th>lat</th>\n",
       "      <th>lon</th>\n",
       "      <th>pcenter</th>\n",
       "      <th>penv</th>\n",
       "      <th>rmax</th>\n",
       "      <th>vmax</th>\n",
       "      <th>34ne</th>\n",
       "      <th>34se</th>\n",
       "      <th>...</th>\n",
       "      <th>34nw</th>\n",
       "      <th>50ne</th>\n",
       "      <th>50se</th>\n",
       "      <th>50sw</th>\n",
       "      <th>50nw</th>\n",
       "      <th>64ne</th>\n",
       "      <th>64se</th>\n",
       "      <th>64sw</th>\n",
       "      <th>64nw</th>\n",
       "      <th>dp</th>\n",
       "    </tr>\n",
       "    <tr>\n",
       "      <th>time</th>\n",
       "      <th></th>\n",
       "      <th></th>\n",
       "      <th></th>\n",
       "      <th></th>\n",
       "      <th></th>\n",
       "      <th></th>\n",
       "      <th></th>\n",
       "      <th></th>\n",
       "      <th></th>\n",
       "      <th></th>\n",
       "      <th></th>\n",
       "      <th></th>\n",
       "      <th></th>\n",
       "      <th></th>\n",
       "      <th></th>\n",
       "      <th></th>\n",
       "      <th></th>\n",
       "      <th></th>\n",
       "      <th></th>\n",
       "      <th></th>\n",
       "      <th></th>\n",
       "    </tr>\n",
       "  </thead>\n",
       "  <tbody>\n",
       "    <tr>\n",
       "      <th>0.0</th>\n",
       "      <td>2010-10-29 06:00:00</td>\n",
       "      <td>INVEST</td>\n",
       "      <td>9.0</td>\n",
       "      <td>-53.7</td>\n",
       "      <td>1006</td>\n",
       "      <td>1009</td>\n",
       "      <td>120.0</td>\n",
       "      <td>30</td>\n",
       "      <td>0.0</td>\n",
       "      <td>0.0</td>\n",
       "      <td>...</td>\n",
       "      <td>0.0</td>\n",
       "      <td>0.0</td>\n",
       "      <td>0.0</td>\n",
       "      <td>0.0</td>\n",
       "      <td>0.0</td>\n",
       "      <td>0.0</td>\n",
       "      <td>0.0</td>\n",
       "      <td>0.0</td>\n",
       "      <td>0.0</td>\n",
       "      <td>300</td>\n",
       "    </tr>\n",
       "    <tr>\n",
       "      <th>6.0</th>\n",
       "      <td>2010-10-29 12:00:00</td>\n",
       "      <td>INVEST</td>\n",
       "      <td>9.8</td>\n",
       "      <td>-55.3</td>\n",
       "      <td>1003</td>\n",
       "      <td>1009</td>\n",
       "      <td>90.0</td>\n",
       "      <td>35</td>\n",
       "      <td>75.0</td>\n",
       "      <td>0.0</td>\n",
       "      <td>...</td>\n",
       "      <td>40.0</td>\n",
       "      <td>0.0</td>\n",
       "      <td>0.0</td>\n",
       "      <td>0.0</td>\n",
       "      <td>0.0</td>\n",
       "      <td>0.0</td>\n",
       "      <td>0.0</td>\n",
       "      <td>0.0</td>\n",
       "      <td>0.0</td>\n",
       "      <td>600</td>\n",
       "    </tr>\n",
       "    <tr>\n",
       "      <th>12.0</th>\n",
       "      <td>2010-10-29 18:00:00</td>\n",
       "      <td>TOMAS</td>\n",
       "      <td>10.8</td>\n",
       "      <td>-56.8</td>\n",
       "      <td>998</td>\n",
       "      <td>1009</td>\n",
       "      <td>30.0</td>\n",
       "      <td>45</td>\n",
       "      <td>90.0</td>\n",
       "      <td>50.0</td>\n",
       "      <td>...</td>\n",
       "      <td>50.0</td>\n",
       "      <td>0.0</td>\n",
       "      <td>0.0</td>\n",
       "      <td>0.0</td>\n",
       "      <td>0.0</td>\n",
       "      <td>0.0</td>\n",
       "      <td>0.0</td>\n",
       "      <td>0.0</td>\n",
       "      <td>0.0</td>\n",
       "      <td>1100</td>\n",
       "    </tr>\n",
       "    <tr>\n",
       "      <th>18.0</th>\n",
       "      <td>2010-10-30 00:00:00</td>\n",
       "      <td>TOMAS</td>\n",
       "      <td>11.9</td>\n",
       "      <td>-57.8</td>\n",
       "      <td>999</td>\n",
       "      <td>1009</td>\n",
       "      <td>30.0</td>\n",
       "      <td>55</td>\n",
       "      <td>90.0</td>\n",
       "      <td>50.0</td>\n",
       "      <td>...</td>\n",
       "      <td>50.0</td>\n",
       "      <td>30.0</td>\n",
       "      <td>0.0</td>\n",
       "      <td>30.0</td>\n",
       "      <td>0.0</td>\n",
       "      <td>0.0</td>\n",
       "      <td>0.0</td>\n",
       "      <td>0.0</td>\n",
       "      <td>0.0</td>\n",
       "      <td>1000</td>\n",
       "    </tr>\n",
       "    <tr>\n",
       "      <th>24.0</th>\n",
       "      <td>2010-10-30 06:00:00</td>\n",
       "      <td>TOMAS</td>\n",
       "      <td>12.7</td>\n",
       "      <td>-58.9</td>\n",
       "      <td>997</td>\n",
       "      <td>1009</td>\n",
       "      <td>30.0</td>\n",
       "      <td>60</td>\n",
       "      <td>90.0</td>\n",
       "      <td>50.0</td>\n",
       "      <td>...</td>\n",
       "      <td>50.0</td>\n",
       "      <td>30.0</td>\n",
       "      <td>0.0</td>\n",
       "      <td>30.0</td>\n",
       "      <td>0.0</td>\n",
       "      <td>0.0</td>\n",
       "      <td>0.0</td>\n",
       "      <td>0.0</td>\n",
       "      <td>0.0</td>\n",
       "      <td>1200</td>\n",
       "    </tr>\n",
       "  </tbody>\n",
       "</table>\n",
       "<p>5 rows × 21 columns</p>\n",
       "</div>"
      ],
      "text/plain": [
       "                       t      hurName   lat   lon  pcenter  penv   rmax  vmax  \\\n",
       "time                                                                            \n",
       "0.0  2010-10-29 06:00:00       INVEST   9.0 -53.7     1006  1009  120.0    30   \n",
       "6.0  2010-10-29 12:00:00       INVEST   9.8 -55.3     1003  1009   90.0    35   \n",
       "12.0 2010-10-29 18:00:00        TOMAS  10.8 -56.8      998  1009   30.0    45   \n",
       "18.0 2010-10-30 00:00:00        TOMAS  11.9 -57.8      999  1009   30.0    55   \n",
       "24.0 2010-10-30 06:00:00        TOMAS  12.7 -58.9      997  1009   30.0    60   \n",
       "\n",
       "      34ne  34se  ...   34nw  50ne  50se  50sw  50nw  64ne  64se  64sw  64nw  \\\n",
       "time              ...                                                          \n",
       "0.0    0.0   0.0  ...    0.0   0.0   0.0   0.0   0.0   0.0   0.0   0.0   0.0   \n",
       "6.0   75.0   0.0  ...   40.0   0.0   0.0   0.0   0.0   0.0   0.0   0.0   0.0   \n",
       "12.0  90.0  50.0  ...   50.0   0.0   0.0   0.0   0.0   0.0   0.0   0.0   0.0   \n",
       "18.0  90.0  50.0  ...   50.0  30.0   0.0  30.0   0.0   0.0   0.0   0.0   0.0   \n",
       "24.0  90.0  50.0  ...   50.0  30.0   0.0  30.0   0.0   0.0   0.0   0.0   0.0   \n",
       "\n",
       "        dp  \n",
       "time        \n",
       "0.0    300  \n",
       "6.0    600  \n",
       "12.0  1100  \n",
       "18.0  1000  \n",
       "24.0  1200  \n",
       "\n",
       "[5 rows x 21 columns]"
      ]
     },
     "execution_count": 54,
     "metadata": {},
     "output_type": "execute_result"
    }
   ],
   "source": [
    "inpData.head()"
   ]
  },
  {
   "cell_type": "markdown",
   "metadata": {},
   "source": [
    "## save inpData file"
   ]
  },
  {
   "cell_type": "markdown",
   "metadata": {},
   "source": [
    "We save here in original units for  testing purposes"
   ]
  },
  {
   "cell_type": "code",
   "execution_count": 55,
   "metadata": {
    "collapsed": true
   },
   "outputs": [],
   "source": [
    "column_order=['lat','lon','vmax','64ne','64se','64sw','64nw','50ne','50se','50sw','50nw','34ne','34se','34sw','34nw']"
   ]
  },
  {
   "cell_type": "code",
   "execution_count": 56,
   "metadata": {
    "collapsed": true
   },
   "outputs": [],
   "source": [
    "header=['lat','long','vmax','64ne','64se','64sw','64nw','50ne','50se','50sw','50nw','34ne','34se','34sw','34nw']"
   ]
  },
  {
   "cell_type": "code",
   "execution_count": 57,
   "metadata": {
    "collapsed": false
   },
   "outputs": [],
   "source": [
    "inpData.to_csv('tmp/inpData.txt',index=True, columns=column_order, sep='\\t', header=header)"
   ]
  },
  {
   "cell_type": "markdown",
   "metadata": {},
   "source": [
    "## convert to SI"
   ]
  },
  {
   "cell_type": "code",
   "execution_count": 58,
   "metadata": {
    "collapsed": false
   },
   "outputs": [],
   "source": [
    "inpData['vmax']=inpData['vmax']*kt2ms"
   ]
  },
  {
   "cell_type": "code",
   "execution_count": 59,
   "metadata": {
    "collapsed": false
   },
   "outputs": [],
   "source": [
    "inpData['rmax']=inpData['rmax']*nm2m"
   ]
  },
  {
   "cell_type": "code",
   "execution_count": 60,
   "metadata": {
    "collapsed": false
   },
   "outputs": [],
   "source": [
    "inpData[wcols]=inpData[wcols]*nm2m"
   ]
  },
  {
   "cell_type": "code",
   "execution_count": 61,
   "metadata": {
    "collapsed": false
   },
   "outputs": [
    {
     "data": {
      "text/html": [
       "<div>\n",
       "<table border=\"1\" class=\"dataframe\">\n",
       "  <thead>\n",
       "    <tr style=\"text-align: right;\">\n",
       "      <th></th>\n",
       "      <th>t</th>\n",
       "      <th>hurName</th>\n",
       "      <th>lat</th>\n",
       "      <th>lon</th>\n",
       "      <th>pcenter</th>\n",
       "      <th>penv</th>\n",
       "      <th>rmax</th>\n",
       "      <th>vmax</th>\n",
       "      <th>34ne</th>\n",
       "      <th>34se</th>\n",
       "      <th>...</th>\n",
       "      <th>34nw</th>\n",
       "      <th>50ne</th>\n",
       "      <th>50se</th>\n",
       "      <th>50sw</th>\n",
       "      <th>50nw</th>\n",
       "      <th>64ne</th>\n",
       "      <th>64se</th>\n",
       "      <th>64sw</th>\n",
       "      <th>64nw</th>\n",
       "      <th>dp</th>\n",
       "    </tr>\n",
       "    <tr>\n",
       "      <th>time</th>\n",
       "      <th></th>\n",
       "      <th></th>\n",
       "      <th></th>\n",
       "      <th></th>\n",
       "      <th></th>\n",
       "      <th></th>\n",
       "      <th></th>\n",
       "      <th></th>\n",
       "      <th></th>\n",
       "      <th></th>\n",
       "      <th></th>\n",
       "      <th></th>\n",
       "      <th></th>\n",
       "      <th></th>\n",
       "      <th></th>\n",
       "      <th></th>\n",
       "      <th></th>\n",
       "      <th></th>\n",
       "      <th></th>\n",
       "      <th></th>\n",
       "      <th></th>\n",
       "    </tr>\n",
       "  </thead>\n",
       "  <tbody>\n",
       "    <tr>\n",
       "      <th>0.0</th>\n",
       "      <td>2010-10-29 06:00:00</td>\n",
       "      <td>INVEST</td>\n",
       "      <td>9.0</td>\n",
       "      <td>-53.7</td>\n",
       "      <td>1006</td>\n",
       "      <td>1009</td>\n",
       "      <td>222240.0</td>\n",
       "      <td>15.433333</td>\n",
       "      <td>0.0</td>\n",
       "      <td>0.0</td>\n",
       "      <td>...</td>\n",
       "      <td>0.0</td>\n",
       "      <td>0.0</td>\n",
       "      <td>0.0</td>\n",
       "      <td>0.0</td>\n",
       "      <td>0.0</td>\n",
       "      <td>0.0</td>\n",
       "      <td>0.0</td>\n",
       "      <td>0.0</td>\n",
       "      <td>0.0</td>\n",
       "      <td>300</td>\n",
       "    </tr>\n",
       "    <tr>\n",
       "      <th>6.0</th>\n",
       "      <td>2010-10-29 12:00:00</td>\n",
       "      <td>INVEST</td>\n",
       "      <td>9.8</td>\n",
       "      <td>-55.3</td>\n",
       "      <td>1003</td>\n",
       "      <td>1009</td>\n",
       "      <td>166680.0</td>\n",
       "      <td>18.005556</td>\n",
       "      <td>138900.0</td>\n",
       "      <td>0.0</td>\n",
       "      <td>...</td>\n",
       "      <td>74080.0</td>\n",
       "      <td>0.0</td>\n",
       "      <td>0.0</td>\n",
       "      <td>0.0</td>\n",
       "      <td>0.0</td>\n",
       "      <td>0.0</td>\n",
       "      <td>0.0</td>\n",
       "      <td>0.0</td>\n",
       "      <td>0.0</td>\n",
       "      <td>600</td>\n",
       "    </tr>\n",
       "    <tr>\n",
       "      <th>12.0</th>\n",
       "      <td>2010-10-29 18:00:00</td>\n",
       "      <td>TOMAS</td>\n",
       "      <td>10.8</td>\n",
       "      <td>-56.8</td>\n",
       "      <td>998</td>\n",
       "      <td>1009</td>\n",
       "      <td>55560.0</td>\n",
       "      <td>23.150000</td>\n",
       "      <td>166680.0</td>\n",
       "      <td>92600.0</td>\n",
       "      <td>...</td>\n",
       "      <td>92600.0</td>\n",
       "      <td>0.0</td>\n",
       "      <td>0.0</td>\n",
       "      <td>0.0</td>\n",
       "      <td>0.0</td>\n",
       "      <td>0.0</td>\n",
       "      <td>0.0</td>\n",
       "      <td>0.0</td>\n",
       "      <td>0.0</td>\n",
       "      <td>1100</td>\n",
       "    </tr>\n",
       "    <tr>\n",
       "      <th>18.0</th>\n",
       "      <td>2010-10-30 00:00:00</td>\n",
       "      <td>TOMAS</td>\n",
       "      <td>11.9</td>\n",
       "      <td>-57.8</td>\n",
       "      <td>999</td>\n",
       "      <td>1009</td>\n",
       "      <td>55560.0</td>\n",
       "      <td>28.294444</td>\n",
       "      <td>166680.0</td>\n",
       "      <td>92600.0</td>\n",
       "      <td>...</td>\n",
       "      <td>92600.0</td>\n",
       "      <td>55560.0</td>\n",
       "      <td>0.0</td>\n",
       "      <td>55560.0</td>\n",
       "      <td>0.0</td>\n",
       "      <td>0.0</td>\n",
       "      <td>0.0</td>\n",
       "      <td>0.0</td>\n",
       "      <td>0.0</td>\n",
       "      <td>1000</td>\n",
       "    </tr>\n",
       "    <tr>\n",
       "      <th>24.0</th>\n",
       "      <td>2010-10-30 06:00:00</td>\n",
       "      <td>TOMAS</td>\n",
       "      <td>12.7</td>\n",
       "      <td>-58.9</td>\n",
       "      <td>997</td>\n",
       "      <td>1009</td>\n",
       "      <td>55560.0</td>\n",
       "      <td>30.866667</td>\n",
       "      <td>166680.0</td>\n",
       "      <td>92600.0</td>\n",
       "      <td>...</td>\n",
       "      <td>92600.0</td>\n",
       "      <td>55560.0</td>\n",
       "      <td>0.0</td>\n",
       "      <td>55560.0</td>\n",
       "      <td>0.0</td>\n",
       "      <td>0.0</td>\n",
       "      <td>0.0</td>\n",
       "      <td>0.0</td>\n",
       "      <td>0.0</td>\n",
       "      <td>1200</td>\n",
       "    </tr>\n",
       "  </tbody>\n",
       "</table>\n",
       "<p>5 rows × 21 columns</p>\n",
       "</div>"
      ],
      "text/plain": [
       "                       t      hurName   lat   lon  pcenter  penv      rmax  \\\n",
       "time                                                                         \n",
       "0.0  2010-10-29 06:00:00       INVEST   9.0 -53.7     1006  1009  222240.0   \n",
       "6.0  2010-10-29 12:00:00       INVEST   9.8 -55.3     1003  1009  166680.0   \n",
       "12.0 2010-10-29 18:00:00        TOMAS  10.8 -56.8      998  1009   55560.0   \n",
       "18.0 2010-10-30 00:00:00        TOMAS  11.9 -57.8      999  1009   55560.0   \n",
       "24.0 2010-10-30 06:00:00        TOMAS  12.7 -58.9      997  1009   55560.0   \n",
       "\n",
       "           vmax      34ne     34se  ...      34nw     50ne  50se     50sw  \\\n",
       "time                                ...                                     \n",
       "0.0   15.433333       0.0      0.0  ...       0.0      0.0   0.0      0.0   \n",
       "6.0   18.005556  138900.0      0.0  ...   74080.0      0.0   0.0      0.0   \n",
       "12.0  23.150000  166680.0  92600.0  ...   92600.0      0.0   0.0      0.0   \n",
       "18.0  28.294444  166680.0  92600.0  ...   92600.0  55560.0   0.0  55560.0   \n",
       "24.0  30.866667  166680.0  92600.0  ...   92600.0  55560.0   0.0  55560.0   \n",
       "\n",
       "      50nw  64ne  64se  64sw  64nw    dp  \n",
       "time                                      \n",
       "0.0    0.0   0.0   0.0   0.0   0.0   300  \n",
       "6.0    0.0   0.0   0.0   0.0   0.0   600  \n",
       "12.0   0.0   0.0   0.0   0.0   0.0  1100  \n",
       "18.0   0.0   0.0   0.0   0.0   0.0  1000  \n",
       "24.0   0.0   0.0   0.0   0.0   0.0  1200  \n",
       "\n",
       "[5 rows x 21 columns]"
      ]
     },
     "execution_count": 61,
     "metadata": {},
     "output_type": "execute_result"
    }
   ],
   "source": [
    "inpData.head()"
   ]
  },
  {
   "cell_type": "markdown",
   "metadata": {},
   "source": [
    "## save inpData file"
   ]
  },
  {
   "cell_type": "code",
   "execution_count": 62,
   "metadata": {
    "collapsed": true
   },
   "outputs": [],
   "source": [
    "column_order=['lat','lon','dp','vmax','64ne','64se','64sw','64nw','50ne','50se','50sw','50nw','34ne','34se','34sw','34nw']"
   ]
  },
  {
   "cell_type": "code",
   "execution_count": 63,
   "metadata": {
    "collapsed": true
   },
   "outputs": [],
   "source": [
    "header=['lat','long','dp','vmax','64ne','64se','64sw','64nw','50ne','50se','50sw','50nw','34ne','34se','34sw','34nw']"
   ]
  },
  {
   "cell_type": "code",
   "execution_count": 64,
   "metadata": {
    "collapsed": false
   },
   "outputs": [],
   "source": [
    "inpData.to_csv('tmp/inpDataSI.txt',index=True, columns=column_order, sep='\\t', header=header)"
   ]
  },
  {
   "cell_type": "markdown",
   "metadata": {},
   "source": [
    "### create bulInfo.txt file"
   ]
  },
  {
   "cell_type": "code",
   "execution_count": 65,
   "metadata": {
    "collapsed": false
   },
   "outputs": [],
   "source": [
    "tt=pd.to_datetime(inpData.t[0])"
   ]
  },
  {
   "cell_type": "code",
   "execution_count": 66,
   "metadata": {
    "collapsed": false
   },
   "outputs": [],
   "source": [
    "tt=datetime.datetime.strftime(tt,'%d %b %Y %H:%M:%S')"
   ]
  },
  {
   "cell_type": "code",
   "execution_count": 67,
   "metadata": {
    "collapsed": true
   },
   "outputs": [],
   "source": [
    "dic0={'advNo':[1],'tShift':[0],'$date':tt,'land':[1],'notes':[0]}"
   ]
  },
  {
   "cell_type": "code",
   "execution_count": 68,
   "metadata": {
    "collapsed": false
   },
   "outputs": [],
   "source": [
    "bul=pd.DataFrame.from_dict(dic0)"
   ]
  },
  {
   "cell_type": "code",
   "execution_count": 69,
   "metadata": {
    "collapsed": false
   },
   "outputs": [
    {
     "data": {
      "text/html": [
       "<div>\n",
       "<table border=\"1\" class=\"dataframe\">\n",
       "  <thead>\n",
       "    <tr style=\"text-align: right;\">\n",
       "      <th></th>\n",
       "      <th>$date</th>\n",
       "      <th>advNo</th>\n",
       "      <th>land</th>\n",
       "      <th>notes</th>\n",
       "      <th>tShift</th>\n",
       "    </tr>\n",
       "  </thead>\n",
       "  <tbody>\n",
       "    <tr>\n",
       "      <th>0</th>\n",
       "      <td>29 Oct 2010 06:00:00</td>\n",
       "      <td>1</td>\n",
       "      <td>1</td>\n",
       "      <td>0</td>\n",
       "      <td>0</td>\n",
       "    </tr>\n",
       "  </tbody>\n",
       "</table>\n",
       "</div>"
      ],
      "text/plain": [
       "                  $date  advNo  land  notes  tShift\n",
       "0  29 Oct 2010 06:00:00      1     1      0       0"
      ]
     },
     "execution_count": 69,
     "metadata": {},
     "output_type": "execute_result"
    }
   ],
   "source": [
    "bul"
   ]
  },
  {
   "cell_type": "code",
   "execution_count": 70,
   "metadata": {
    "collapsed": false
   },
   "outputs": [],
   "source": [
    "bul.to_csv('tmp/bulInfo.txt',index=False, columns=['advNo','tShift','$date','land','notes'], sep='\\t')"
   ]
  },
  {
   "cell_type": "markdown",
   "metadata": {},
   "source": [
    "### create info.xml file"
   ]
  },
  {
   "cell_type": "code",
   "execution_count": 71,
   "metadata": {
    "collapsed": true
   },
   "outputs": [],
   "source": [
    "import xml.etree.ElementTree as et \n",
    "from xml.dom import minidom\n",
    "\n",
    "def prettify(elem):\n",
    "    \"\"\"Return a pretty-printed XML string for the Element.\n",
    "    \"\"\"\n",
    "    rough_string = et.tostring(elem, 'utf-8')\n",
    "    reparsed = minidom.parseString(rough_string)\n",
    "    return reparsed.toprettyxml(indent=\"  \")"
   ]
  },
  {
   "cell_type": "code",
   "execution_count": 72,
   "metadata": {
    "collapsed": false
   },
   "outputs": [],
   "source": [
    "hurName = inpData.hurName.value_counts().index[0].strip()"
   ]
  },
  {
   "cell_type": "code",
   "execution_count": 73,
   "metadata": {
    "collapsed": false
   },
   "outputs": [],
   "source": [
    "basin = data.BASIN.value_counts().index[0].strip()"
   ]
  },
  {
   "cell_type": "code",
   "execution_count": 74,
   "metadata": {
    "collapsed": true
   },
   "outputs": [],
   "source": [
    "info = et.Element('setexp')\n",
    "et.SubElement(info, 'source').text = 'Tropical Cyclone Bulletin through GDACS/PDC'\n",
    "et.SubElement(info, 'hurName').text = hurName\n",
    "et.SubElement(info, 'hurId').text = hurName\n",
    "et.SubElement(info, 'basin').text = basin\n",
    "et.SubElement(info, 'bulNo').text = '1'\n",
    "et.SubElement(info, 'bulDate').text = tt\n",
    "et.SubElement(info, 'n').text = '100000'\n",
    "et.SubElement(info, 'fk').text = '0.81'\n",
    "et.SubElement(info, 'stormsurge').text = '0'\n",
    "et.SubElement(info, 'timefactor').text = '1'\n",
    "et.SubElement(info, 'landfall').text = '1'"
   ]
  },
  {
   "cell_type": "code",
   "execution_count": 75,
   "metadata": {
    "collapsed": false
   },
   "outputs": [],
   "source": [
    "xmlf = minidom.parseString(prettify(info))"
   ]
  },
  {
   "cell_type": "code",
   "execution_count": 76,
   "metadata": {
    "collapsed": false
   },
   "outputs": [],
   "source": [
    "with open('tmp/info.xml','w') as f:\n",
    "      xmlf.writexml(f)"
   ]
  },
  {
   "cell_type": "markdown",
   "metadata": {},
   "source": [
    "## output"
   ]
  },
  {
   "cell_type": "markdown",
   "metadata": {},
   "source": [
    "We can save the complete dataset for future use."
   ]
  },
  {
   "cell_type": "code",
   "execution_count": 77,
   "metadata": {
    "collapsed": false
   },
   "outputs": [],
   "source": [
    "inpData.to_csv('tmp/step1.txt',index=True, sep='\\t')"
   ]
  },
  {
   "cell_type": "markdown",
   "metadata": {},
   "source": [
    "The next step is to compute translational and Coriolis velocity. See [Subtract translational and Coriolis velocity.ipynb](./Subtract translational and Coriolis velocity.ipynb)"
   ]
  },
  {
   "cell_type": "code",
   "execution_count": null,
   "metadata": {
    "collapsed": true
   },
   "outputs": [],
   "source": []
  }
 ],
 "metadata": {
  "hide_input": false,
  "kernelspec": {
   "display_name": "Python 2",
   "language": "python",
   "name": "python2"
  },
  "language_info": {
   "codemirror_mode": {
    "name": "ipython",
    "version": 2
   },
   "file_extension": ".py",
   "mimetype": "text/x-python",
   "name": "python",
   "nbconvert_exporter": "python",
   "pygments_lexer": "ipython2",
   "version": "2.7.12"
  },
  "latex_envs": {
   "bibliofile": "biblio.bib",
   "cite_by": "apalike",
   "current_citInitial": 1,
   "eqLabelWithNumbers": true,
   "eqNumInitial": 0
  },
  "widgets": {
   "state": {},
   "version": "2.0.10"
  }
 },
 "nbformat": 4,
 "nbformat_minor": 0
}
