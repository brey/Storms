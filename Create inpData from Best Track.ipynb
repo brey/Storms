{
 "cells": [
  {
   "cell_type": "code",
   "execution_count": 91,
   "metadata": {
    "collapsed": true
   },
   "outputs": [],
   "source": [
    "#%matplotlib notebook"
   ]
  },
  {
   "cell_type": "code",
   "execution_count": 1,
   "metadata": {
    "collapsed": false
   },
   "outputs": [
    {
     "name": "stderr",
     "output_type": "stream",
     "text": [
      "/usr/local/lib/python2.7/site-packages/matplotlib/font_manager.py:273: UserWarning: Matplotlib is building the font cache using fc-list. This may take a moment.\n",
      "  warnings.warn('Matplotlib is building the font cache using fc-list. This may take a moment.')\n"
     ]
    }
   ],
   "source": [
    "%matplotlib inline"
   ]
  },
  {
   "cell_type": "code",
   "execution_count": 2,
   "metadata": {
    "collapsed": true
   },
   "outputs": [],
   "source": [
    "import numpy as np\n",
    "# -------------------------------------------------------------------------\n",
    "# Const\n",
    "# -------------------------------------------------------------------------\n",
    "nm2m=1852. # 1 nautical mile to meters\n",
    "kt2ms=nm2m/3600.  # knots to m/s\n",
    "omega=2*np.pi/(3600.*24.) # angular speed omega=2pi*f(=frequency of earth : 1 cycle per day) 2pi* 1 / day in seconds\n",
    "rhoa=1.15 #air density  Kg/m^3\n",
    "radius=6378388 #137. # earth's radius according to WGS 84\n",
    "deg2m=np.pi*radius/180.  # ds on cicle equals ds=r*dth - dth=pi/180\n",
    "pn=101000.  # Atmospheric pressure [N/m^2] (101KPa - enviromental pressure)\n",
    "\n",
    "tetaNE=45. #mean angle [degrees] of North Eastern quadrant\n",
    "tetaNW=135. #        \"              North Western\n",
    "tetaSW=225. #        \"              South West\n",
    "tetaSE=315. #        \"              South East\n",
    "\n",
    "maxR=500.e3  # maximum radius of TC [m] (500Km)"
   ]
  },
  {
   "cell_type": "code",
   "execution_count": 3,
   "metadata": {
    "collapsed": false
   },
   "outputs": [],
   "source": [
    "from netCDF4 import Dataset"
   ]
  },
  {
   "cell_type": "code",
   "execution_count": 4,
   "metadata": {
    "collapsed": true
   },
   "outputs": [],
   "source": [
    "import glob"
   ]
  },
  {
   "cell_type": "code",
   "execution_count": 5,
   "metadata": {
    "collapsed": true
   },
   "outputs": [],
   "source": [
    "import re"
   ]
  },
  {
   "cell_type": "code",
   "execution_count": 6,
   "metadata": {
    "collapsed": true
   },
   "outputs": [],
   "source": [
    "import datetime"
   ]
  },
  {
   "cell_type": "code",
   "execution_count": 7,
   "metadata": {
    "collapsed": false
   },
   "outputs": [],
   "source": [
    "import pandas as pd\n",
    "import matplotlib.pyplot as plt\n",
    "import mplleaflet"
   ]
  },
  {
   "cell_type": "code",
   "execution_count": 8,
   "metadata": {
    "collapsed": true
   },
   "outputs": [],
   "source": [
    "def hvel(r):\n",
    "    x=0.5+(r-rmaxh)/(maxR-rmaxh)*kh\n",
    "    return (bh/rhoa*(rmaxh/r)**bh*dph*np.exp(-(rmaxh/r)**bh))**x"
   ]
  },
  {
   "cell_type": "code",
   "execution_count": 9,
   "metadata": {
    "collapsed": true
   },
   "outputs": [],
   "source": [
    "def pres(r):\n",
    "    return pch+dph*np.exp(-(rmaxh/r)**bh)"
   ]
  },
  {
   "cell_type": "code",
   "execution_count": 10,
   "metadata": {
    "collapsed": true
   },
   "outputs": [],
   "source": [
    "def hvel2d(l1,l2,vtx,vty):\n",
    "    r=np.sqrt(l1**2+l2**2)\n",
    "    xh=0.5+(r-rmaxh)/(maxR-rmaxh)*kh\n",
    "    ur=(bh/rhoa*(rmaxh/r)**bh*dph*np.exp(-(rmaxh/r)**bh))**xh\n",
    "    theta=np.arctan2(l2,l1)\n",
    "    ux=-ur*np.sin(theta)\n",
    "    uy=ur*np.cos(theta)\n",
    "    return ux+vtx,uy+vty, pres(r)"
   ]
  },
  {
   "cell_type": "code",
   "execution_count": 14,
   "metadata": {
    "collapsed": true
   },
   "outputs": [],
   "source": [
    "path='BestTrack/'"
   ]
  },
  {
   "cell_type": "code",
   "execution_count": 15,
   "metadata": {
    "collapsed": false
   },
   "outputs": [],
   "source": [
    "data=pd.read_csv(path+'Allstorms.ibtracs_all.v03r09.csv', header=1, low_memory=False)"
   ]
  },
  {
   "cell_type": "code",
   "execution_count": 16,
   "metadata": {
    "collapsed": false
   },
   "outputs": [
    {
     "data": {
      "text/html": [
       "<div>\n",
       "<table border=\"1\" class=\"dataframe\">\n",
       "  <thead>\n",
       "    <tr style=\"text-align: right;\">\n",
       "      <th></th>\n",
       "      <th>Serial_Num</th>\n",
       "      <th>Season</th>\n",
       "      <th>Num</th>\n",
       "      <th>Basin</th>\n",
       "      <th>Sub_basin</th>\n",
       "      <th>Name</th>\n",
       "      <th>ISO_time</th>\n",
       "      <th>Nature</th>\n",
       "      <th>Latitude</th>\n",
       "      <th>Longitude</th>\n",
       "      <th>...</th>\n",
       "      <th>jtwc_??_wrad34_rad3</th>\n",
       "      <th>jtwc_??_wrad34_rad4</th>\n",
       "      <th>jtwc_??_wrad50_rad1</th>\n",
       "      <th>jtwc_??_wrad50_rad2</th>\n",
       "      <th>jtwc_??_wrad50_rad3</th>\n",
       "      <th>jtwc_??_wrad50_rad4</th>\n",
       "      <th>jtwc_??_wrad64_rad1</th>\n",
       "      <th>jtwc_??_wrad64_rad2</th>\n",
       "      <th>jtwc_??_wrad64_rad3</th>\n",
       "      <th>jtwc_??_wrad64_rad4</th>\n",
       "    </tr>\n",
       "  </thead>\n",
       "  <tbody>\n",
       "    <tr>\n",
       "      <th>0</th>\n",
       "      <td>NaN</td>\n",
       "      <td>Year</td>\n",
       "      <td>#</td>\n",
       "      <td>BB</td>\n",
       "      <td>BB</td>\n",
       "      <td>NaN</td>\n",
       "      <td>YYYY-MM-DD HH:MM:SS</td>\n",
       "      <td>NaN</td>\n",
       "      <td>deg_north</td>\n",
       "      <td>deg_east</td>\n",
       "      <td>...</td>\n",
       "      <td>nmile</td>\n",
       "      <td>nmile</td>\n",
       "      <td>nmile</td>\n",
       "      <td>nmile</td>\n",
       "      <td>nmile</td>\n",
       "      <td>nmile</td>\n",
       "      <td>nmile</td>\n",
       "      <td>nmile</td>\n",
       "      <td>nmile</td>\n",
       "      <td>nmile</td>\n",
       "    </tr>\n",
       "    <tr>\n",
       "      <th>1</th>\n",
       "      <td>1842298N11080</td>\n",
       "      <td>1842</td>\n",
       "      <td>01</td>\n",
       "      <td>NI</td>\n",
       "      <td>BB</td>\n",
       "      <td>NOT NAMED</td>\n",
       "      <td>1842-10-25 06:00:00</td>\n",
       "      <td>NR</td>\n",
       "      <td>-999.</td>\n",
       "      <td>-999.</td>\n",
       "      <td>...</td>\n",
       "      <td>-999.000</td>\n",
       "      <td>-999.000</td>\n",
       "      <td>-999.000</td>\n",
       "      <td>-999.000</td>\n",
       "      <td>-999.000</td>\n",
       "      <td>-999.000</td>\n",
       "      <td>-999.000</td>\n",
       "      <td>-999.000</td>\n",
       "      <td>-999.000</td>\n",
       "      <td>-999.000</td>\n",
       "    </tr>\n",
       "    <tr>\n",
       "      <th>2</th>\n",
       "      <td>1842298N11080</td>\n",
       "      <td>1842</td>\n",
       "      <td>01</td>\n",
       "      <td>NI</td>\n",
       "      <td>BB</td>\n",
       "      <td>NOT NAMED</td>\n",
       "      <td>1842-10-25 12:00:00</td>\n",
       "      <td>NR</td>\n",
       "      <td>-999.</td>\n",
       "      <td>-999.</td>\n",
       "      <td>...</td>\n",
       "      <td>-999.000</td>\n",
       "      <td>-999.000</td>\n",
       "      <td>-999.000</td>\n",
       "      <td>-999.000</td>\n",
       "      <td>-999.000</td>\n",
       "      <td>-999.000</td>\n",
       "      <td>-999.000</td>\n",
       "      <td>-999.000</td>\n",
       "      <td>-999.000</td>\n",
       "      <td>-999.000</td>\n",
       "    </tr>\n",
       "    <tr>\n",
       "      <th>3</th>\n",
       "      <td>1842298N11080</td>\n",
       "      <td>1842</td>\n",
       "      <td>01</td>\n",
       "      <td>NI</td>\n",
       "      <td>AS</td>\n",
       "      <td>NOT NAMED</td>\n",
       "      <td>1842-10-25 18:00:00</td>\n",
       "      <td>NR</td>\n",
       "      <td>-999.</td>\n",
       "      <td>-999.</td>\n",
       "      <td>...</td>\n",
       "      <td>-999.000</td>\n",
       "      <td>-999.000</td>\n",
       "      <td>-999.000</td>\n",
       "      <td>-999.000</td>\n",
       "      <td>-999.000</td>\n",
       "      <td>-999.000</td>\n",
       "      <td>-999.000</td>\n",
       "      <td>-999.000</td>\n",
       "      <td>-999.000</td>\n",
       "      <td>-999.000</td>\n",
       "    </tr>\n",
       "    <tr>\n",
       "      <th>4</th>\n",
       "      <td>1842298N11080</td>\n",
       "      <td>1842</td>\n",
       "      <td>01</td>\n",
       "      <td>NI</td>\n",
       "      <td>AS</td>\n",
       "      <td>NOT NAMED</td>\n",
       "      <td>1842-10-26 00:00:00</td>\n",
       "      <td>NR</td>\n",
       "      <td>-999.</td>\n",
       "      <td>-999.</td>\n",
       "      <td>...</td>\n",
       "      <td>-999.000</td>\n",
       "      <td>-999.000</td>\n",
       "      <td>-999.000</td>\n",
       "      <td>-999.000</td>\n",
       "      <td>-999.000</td>\n",
       "      <td>-999.000</td>\n",
       "      <td>-999.000</td>\n",
       "      <td>-999.000</td>\n",
       "      <td>-999.000</td>\n",
       "      <td>-999.000</td>\n",
       "    </tr>\n",
       "  </tbody>\n",
       "</table>\n",
       "<p>5 rows × 200 columns</p>\n",
       "</div>"
      ],
      "text/plain": [
       "      Serial_Num Season Num Basin Sub_basin       Name             ISO_time  \\\n",
       "0            NaN   Year   #    BB        BB        NaN  YYYY-MM-DD HH:MM:SS   \n",
       "1  1842298N11080   1842  01    NI        BB  NOT NAMED  1842-10-25 06:00:00   \n",
       "2  1842298N11080   1842  01    NI        BB  NOT NAMED  1842-10-25 12:00:00   \n",
       "3  1842298N11080   1842  01    NI        AS  NOT NAMED  1842-10-25 18:00:00   \n",
       "4  1842298N11080   1842  01    NI        AS  NOT NAMED  1842-10-26 00:00:00   \n",
       "\n",
       "  Nature   Latitude Longitude         ...         jtwc_??_wrad34_rad3  \\\n",
       "0    NaN  deg_north  deg_east         ...                       nmile   \n",
       "1     NR      -999.     -999.         ...                    -999.000   \n",
       "2     NR      -999.     -999.         ...                    -999.000   \n",
       "3     NR      -999.     -999.         ...                    -999.000   \n",
       "4     NR      -999.     -999.         ...                    -999.000   \n",
       "\n",
       "  jtwc_??_wrad34_rad4 jtwc_??_wrad50_rad1 jtwc_??_wrad50_rad2  \\\n",
       "0               nmile               nmile               nmile   \n",
       "1            -999.000            -999.000            -999.000   \n",
       "2            -999.000            -999.000            -999.000   \n",
       "3            -999.000            -999.000            -999.000   \n",
       "4            -999.000            -999.000            -999.000   \n",
       "\n",
       "  jtwc_??_wrad50_rad3 jtwc_??_wrad50_rad4 jtwc_??_wrad64_rad1  \\\n",
       "0               nmile               nmile               nmile   \n",
       "1            -999.000            -999.000            -999.000   \n",
       "2            -999.000            -999.000            -999.000   \n",
       "3            -999.000            -999.000            -999.000   \n",
       "4            -999.000            -999.000            -999.000   \n",
       "\n",
       "  jtwc_??_wrad64_rad2 jtwc_??_wrad64_rad3 jtwc_??_wrad64_rad4  \n",
       "0               nmile               nmile               nmile  \n",
       "1            -999.000            -999.000            -999.000  \n",
       "2            -999.000            -999.000            -999.000  \n",
       "3            -999.000            -999.000            -999.000  \n",
       "4            -999.000            -999.000            -999.000  \n",
       "\n",
       "[5 rows x 200 columns]"
      ]
     },
     "execution_count": 16,
     "metadata": {},
     "output_type": "execute_result"
    }
   ],
   "source": [
    "data.head()"
   ]
  },
  {
   "cell_type": "code",
   "execution_count": 17,
   "metadata": {
    "collapsed": true
   },
   "outputs": [],
   "source": [
    "storms=Dataset(path+'Allstorms.ibtracs_all.v03r09.nc')"
   ]
  },
  {
   "cell_type": "code",
   "execution_count": 18,
   "metadata": {
    "collapsed": false
   },
   "outputs": [
    {
     "data": {
      "text/plain": [
       "[u'storm_sn',\n",
       " u'name',\n",
       " u'numObs',\n",
       " u'season',\n",
       " u'track_type',\n",
       " u'genesis_basin',\n",
       " u'num_basins',\n",
       " u'basin',\n",
       " u'wind_avg_period',\n",
       " u'source',\n",
       " u'source_time',\n",
       " u'lat_for_mapping',\n",
       " u'lon_for_mapping',\n",
       " u'nature_for_mapping',\n",
       " u'source_lat',\n",
       " u'source_lon',\n",
       " u'source_wind',\n",
       " u'source_pres',\n",
       " u'dist2land',\n",
       " u'landfall']"
      ]
     },
     "execution_count": 18,
     "metadata": {},
     "output_type": "execute_result"
    }
   ],
   "source": [
    "storms.variables.keys()"
   ]
  },
  {
   "cell_type": "markdown",
   "metadata": {},
   "source": [
    "# ANALYSIS STARTS HERE"
   ]
  },
  {
   "cell_type": "code",
   "execution_count": 197,
   "metadata": {
    "collapsed": true
   },
   "outputs": [],
   "source": [
    "hurName='TOMAS'\n",
    "year = '2010'"
   ]
  },
  {
   "cell_type": "code",
   "execution_count": 198,
   "metadata": {
    "collapsed": false
   },
   "outputs": [],
   "source": [
    "hurdata = data[data['Name'].str.contains(hurName,na=False) & data['ISO_time'].str.contains(year,na=False)]"
   ]
  },
  {
   "cell_type": "code",
   "execution_count": 199,
   "metadata": {
    "collapsed": false
   },
   "outputs": [
    {
     "data": {
      "text/plain": [
       "Serial_Num                     2010069S12188\n",
       "Season                                  2010\n",
       "Num                                       10\n",
       "Basin                                     SP\n",
       "Sub_basin                                 MM\n",
       "Name                                   TOMAS\n",
       "ISO_time                 2010-03-10 00:00:00\n",
       "Nature                                    NR\n",
       "Latitude                              -12.30\n",
       "Longitude                            -172.20\n",
       "Wind(WMO)                               20.0\n",
       "Pres(WMO)                             1005.0\n",
       "Center                                  nadi\n",
       "Wind(WMO) Percentile                   4.063\n",
       "Pres(WMO) Percentile                   1.388\n",
       "Track_type                              main\n",
       "Latitude_for_mapping                  -12.30\n",
       "Longitude_for_mapping                -172.20\n",
       "Current Basin                             SP\n",
       "hurdat_atl_lat                        -999.0\n",
       "hurdat_atl_lon                        -999.0\n",
       "hurdat_atl_grade                      -999.0\n",
       "hurdat_atl_wind                       -999.0\n",
       "hurdat_atl_pres                       -999.0\n",
       "td9636_lat                            -999.0\n",
       "td9636_lon                            -999.0\n",
       "td9636_grade                          -999.0\n",
       "td9636_wind                           -999.0\n",
       "td9636_pres                           -999.0\n",
       "reunion_lat                           -999.0\n",
       "                                ...         \n",
       "atcf_wrad50_rad1                    -999.000\n",
       "atcf_wrad50_rad2                    -999.000\n",
       "atcf_wrad50_rad3                    -999.000\n",
       "atcf_wrad50_rad4                    -999.000\n",
       "atcf_wrad64_rad1                    -999.000\n",
       "atcf_wrad64_rad2                    -999.000\n",
       "atcf_wrad64_rad3                    -999.000\n",
       "atcf_wrad64_rad4                    -999.000\n",
       "tokyo_dir50                         -999.000\n",
       "tokyo_long50                        -999.000\n",
       "tokyo_short50                       -999.000\n",
       "tokyo_dir30                         -999.000\n",
       "tokyo_long30                        -999.000\n",
       "tokyo_short30                       -999.000\n",
       "jtwc_??_rmw                         -999.000\n",
       "jtwc_??_poci                        -999.000\n",
       "jtwc_??_roci                        -999.000\n",
       "jtwc_??_eye                         -999.000\n",
       "jtwc_??_wrad34_rad1                 -999.000\n",
       "jtwc_??_wrad34_rad2                 -999.000\n",
       "jtwc_??_wrad34_rad3                 -999.000\n",
       "jtwc_??_wrad34_rad4                 -999.000\n",
       "jtwc_??_wrad50_rad1                 -999.000\n",
       "jtwc_??_wrad50_rad2                 -999.000\n",
       "jtwc_??_wrad50_rad3                 -999.000\n",
       "jtwc_??_wrad50_rad4                 -999.000\n",
       "jtwc_??_wrad64_rad1                 -999.000\n",
       "jtwc_??_wrad64_rad2                 -999.000\n",
       "jtwc_??_wrad64_rad3                 -999.000\n",
       "jtwc_??_wrad64_rad4                 -999.000\n",
       "Name: 325483, dtype: object"
      ]
     },
     "execution_count": 199,
     "metadata": {},
     "output_type": "execute_result"
    }
   ],
   "source": [
    "hurdata.iloc[0]"
   ]
  },
  {
   "cell_type": "code",
   "execution_count": 200,
   "metadata": {
    "collapsed": false
   },
   "outputs": [
    {
     "data": {
      "text/plain": [
       "(96, 200)"
      ]
     },
     "execution_count": 200,
     "metadata": {},
     "output_type": "execute_result"
    }
   ],
   "source": [
    "hurdata.shape"
   ]
  },
  {
   "cell_type": "code",
   "execution_count": 201,
   "metadata": {
    "collapsed": false
   },
   "outputs": [],
   "source": [
    "ntc=hurdata['Basin'].unique()"
   ]
  },
  {
   "cell_type": "code",
   "execution_count": 202,
   "metadata": {
    "collapsed": false
   },
   "outputs": [
    {
     "data": {
      "text/plain": [
       "array([' SP', ' NA'], dtype=object)"
      ]
     },
     "execution_count": 202,
     "metadata": {},
     "output_type": "execute_result"
    }
   ],
   "source": [
    "ntc"
   ]
  },
  {
   "cell_type": "code",
   "execution_count": 203,
   "metadata": {
    "collapsed": false
   },
   "outputs": [],
   "source": [
    "hur1=hurdata.loc[hurdata['Basin']==ntc[1]]"
   ]
  },
  {
   "cell_type": "code",
   "execution_count": 204,
   "metadata": {
    "collapsed": false
   },
   "outputs": [],
   "source": [
    "hur1=hur1.dropna()"
   ]
  },
  {
   "cell_type": "code",
   "execution_count": 205,
   "metadata": {
    "collapsed": false
   },
   "outputs": [],
   "source": [
    "hur1[['Longitude','Latitude']]=hur1[['Longitude','Latitude']].apply(pd.to_numeric)"
   ]
  },
  {
   "cell_type": "markdown",
   "metadata": {},
   "source": [
    "Check if we cross International Date Line (IDL)"
   ]
  },
  {
   "cell_type": "code",
   "execution_count": 206,
   "metadata": {
    "collapsed": false
   },
   "outputs": [],
   "source": [
    "sig=np.sign(hur1.Longitude.values)\n",
    "sig1=sig[0]\n",
    "m=sig != sig1"
   ]
  },
  {
   "cell_type": "code",
   "execution_count": 207,
   "metadata": {
    "collapsed": true
   },
   "outputs": [],
   "source": [
    "if sum(m)>0:\n",
    "# adjust the lon values going from -180:180\n",
    "        if sig1 > 0:\n",
    "                hur1.loc[hur1.Longitude < 0, ['Longitude']] = hur1.Longitude+360.\n",
    "        elif sig1 < 0:\n",
    "                hur1.loc[hur1.Longitude > 0, ['Longitude']] = hur1.Longitude-360.\n",
    "\n"
   ]
  },
  {
   "cell_type": "code",
   "execution_count": 208,
   "metadata": {
    "collapsed": false
   },
   "outputs": [
    {
     "data": {
      "text/html": [
       "<iframe src=\"data:text/html;base64,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\" width=\"100%\" height=\"240\"></iframe>"
      ],
      "text/plain": [
       "<IPython.core.display.HTML object>"
      ]
     },
     "execution_count": 208,
     "metadata": {},
     "output_type": "execute_result"
    }
   ],
   "source": [
    "plt.plot(hur1['Longitude'],hur1['Latitude'],'o--')\n",
    "mplleaflet.display()"
   ]
  },
  {
   "cell_type": "code",
   "execution_count": 209,
   "metadata": {
    "collapsed": false
   },
   "outputs": [],
   "source": [
    "idf=hur1.iloc[0].Serial_Num"
   ]
  },
  {
   "cell_type": "code",
   "execution_count": 210,
   "metadata": {
    "collapsed": false
   },
   "outputs": [],
   "source": [
    "filename=glob.glob('BestTrack/ibtracs/{}*'.format(idf))"
   ]
  },
  {
   "cell_type": "code",
   "execution_count": 211,
   "metadata": {
    "collapsed": false
   },
   "outputs": [],
   "source": [
    "dat=Dataset(filename[0])"
   ]
  },
  {
   "cell_type": "code",
   "execution_count": 212,
   "metadata": {
    "collapsed": false
   },
   "outputs": [
    {
     "data": {
      "text/plain": [
       "[u'nobs_wmo',\n",
       " u'nobs',\n",
       " u'genesis_basin',\n",
       " u'num_basins',\n",
       " u'season',\n",
       " u'source',\n",
       " u'track_from_source',\n",
       " u'name_from_source',\n",
       " u'time_wmo',\n",
       " u'isotime_wmo',\n",
       " u'source_wmo',\n",
       " u'averaging_time',\n",
       " u'lat_wmo',\n",
       " u'lon_wmo',\n",
       " u'wind_wmo',\n",
       " u'pres_wmo',\n",
       " u'basin_wmo',\n",
       " u'sub_basin_wmo',\n",
       " u'nature_wmo',\n",
       " u'dist2land_wmo',\n",
       " u'landfall_wmo',\n",
       " u'pres_perc_wmo',\n",
       " u'wind_perc_wmo',\n",
       " u'time',\n",
       " u'isotime',\n",
       " u'lat_for_mapping',\n",
       " u'lon_for_mapping',\n",
       " u'wind_for_mapping',\n",
       " u'pres_for_mapping',\n",
       " u'nature_for_mapping',\n",
       " u'dist2land',\n",
       " u'landfall',\n",
       " u'lat_from_source',\n",
       " u'lon_from_source',\n",
       " u'wind_from_source',\n",
       " u'wind_avg_period',\n",
       " u'wind_perc_from_source',\n",
       " u'pres_from_source',\n",
       " u'pres_perc_from_source',\n",
       " u'basin',\n",
       " u'sub_basin',\n",
       " u'pos_stdev',\n",
       " u'pos_num',\n",
       " u'pos_flag',\n",
       " u'wind_quality',\n",
       " u'wind_stdev',\n",
       " u'wind_condition',\n",
       " u'wind_num',\n",
       " u'wind_flag',\n",
       " u'wind_maximum',\n",
       " u'wind_minimum',\n",
       " u'wind_median',\n",
       " u'pres_quality',\n",
       " u'pres_stdev',\n",
       " u'pres_condition',\n",
       " u'pres_flag',\n",
       " u'pres_num',\n",
       " u'pres_maximum',\n",
       " u'pres_minimum',\n",
       " u'intermediate_files',\n",
       " u'hurdat_atl_att',\n",
       " u'hurdat_atl_wrads',\n",
       " u'hurdat_atl_quad',\n",
       " u'hurdat_atl_lat',\n",
       " u'hurdat_atl_lon',\n",
       " u'hurdat_atl_wind',\n",
       " u'hurdat_atl_pres',\n",
       " u'hurdat_atl_class',\n",
       " u'hurdat_atl_recid',\n",
       " u'hurdat_atl_wrad',\n",
       " u'atcf_att',\n",
       " u'atcf_wrads',\n",
       " u'atcf_lat',\n",
       " u'atcf_lon',\n",
       " u'atcf_wind',\n",
       " u'atcf_pres',\n",
       " u'atcf_class',\n",
       " u'atcf_rmw',\n",
       " u'atcf_roci',\n",
       " u'atcf_poci',\n",
       " u'atcf_eye',\n",
       " u'atcf_maxseas',\n",
       " u'atcf_gust',\n",
       " u'atcf_sdir',\n",
       " u'atcf_sspd',\n",
       " u'atcf_depth',\n",
       " u'atcf_seascode',\n",
       " u'atcf_seas',\n",
       " u'atcf_windcode',\n",
       " u'atcf_wrad']"
      ]
     },
     "execution_count": 212,
     "metadata": {},
     "output_type": "execute_result"
    }
   ],
   "source": [
    "dat.variables.keys()"
   ]
  },
  {
   "cell_type": "code",
   "execution_count": null,
   "metadata": {
    "collapsed": true
   },
   "outputs": [],
   "source": [
    "# wradii=dat['jtwc_sh_wrad'][:13]"
   ]
  },
  {
   "cell_type": "code",
   "execution_count": 213,
   "metadata": {
    "collapsed": false
   },
   "outputs": [],
   "source": [
    "wradiinp=np.array(wradii)"
   ]
  },
  {
   "cell_type": "code",
   "execution_count": 214,
   "metadata": {
    "collapsed": false
   },
   "outputs": [],
   "source": [
    "w34= wradiinp[:,0,:]"
   ]
  },
  {
   "cell_type": "code",
   "execution_count": 215,
   "metadata": {
    "collapsed": false
   },
   "outputs": [],
   "source": [
    "w34ne=w34[:,0]\n",
    "w34nw=w34[:,1]\n",
    "w34se=w34[:,2]\n",
    "w34sw=w34[:,3]"
   ]
  },
  {
   "cell_type": "code",
   "execution_count": 216,
   "metadata": {
    "collapsed": false
   },
   "outputs": [],
   "source": [
    "w50=wradiinp[:,1,:]"
   ]
  },
  {
   "cell_type": "code",
   "execution_count": 217,
   "metadata": {
    "collapsed": false
   },
   "outputs": [],
   "source": [
    "w50ne=w50[:,0]\n",
    "w50nw=w50[:,1]\n",
    "w50se=w50[:,2]\n",
    "w50sw=w50[:,3]"
   ]
  },
  {
   "cell_type": "code",
   "execution_count": 218,
   "metadata": {
    "collapsed": false
   },
   "outputs": [],
   "source": [
    "w64=wradiinp[:,2,:]"
   ]
  },
  {
   "cell_type": "code",
   "execution_count": 219,
   "metadata": {
    "collapsed": false
   },
   "outputs": [],
   "source": [
    "w64ne=w64[:,0]\n",
    "w64nw=w64[:,1]\n",
    "w64se=w64[:,2]\n",
    "w64sw=w64[:,3]"
   ]
  },
  {
   "cell_type": "code",
   "execution_count": 220,
   "metadata": {
    "collapsed": false
   },
   "outputs": [],
   "source": [
    "isot=dat['isotime'][:13]"
   ]
  },
  {
   "cell_type": "code",
   "execution_count": 221,
   "metadata": {
    "collapsed": false
   },
   "outputs": [],
   "source": [
    "isot1=[''.join(x) for x in isot]"
   ]
  },
  {
   "cell_type": "code",
   "execution_count": 222,
   "metadata": {
    "collapsed": false
   },
   "outputs": [],
   "source": [
    "time=[re.sub(r'[-: ]+','',x)[:-4] for x in isot1]"
   ]
  },
  {
   "cell_type": "code",
   "execution_count": 226,
   "metadata": {
    "collapsed": false
   },
   "outputs": [],
   "source": [
    "lat=dat['atcf_lat'][:13]\n",
    "lon=dat['atcf_lon'][:13]\n",
    "pcenter=dat['atcf_pres'][:13]\n",
    "vmaxh=dat['atcf_wind'][:13] # 10 minute wind in Knots\n",
    "rmaxh=dat['atcf_rmw'][:13]*nm2m"
   ]
  },
  {
   "cell_type": "code",
   "execution_count": 227,
   "metadata": {
    "collapsed": true
   },
   "outputs": [],
   "source": [
    "dic={'t':time, 'lat':lat,'lon':lon,'pcenter':pcenter,'vmax':vmaxh, 'rmax':rmaxh, '34ne': w34ne, '34nw': w34nw, '34se':w34se, '34sw':w34sw, '50ne': w50ne, '50nw': w50nw, '50se':w50se, '50sw':w50sw,'64ne': w64ne, '64nw': w64nw, '64se':w64se, '64sw':w64sw} "
   ]
  },
  {
   "cell_type": "code",
   "execution_count": 228,
   "metadata": {
    "collapsed": false
   },
   "outputs": [],
   "source": [
    "inpData=pd.DataFrame(dic)"
   ]
  },
  {
   "cell_type": "code",
   "execution_count": 229,
   "metadata": {
    "collapsed": false
   },
   "outputs": [],
   "source": [
    "inpData=inpData.apply(pd.to_numeric)"
   ]
  },
  {
   "cell_type": "code",
   "execution_count": 230,
   "metadata": {
    "collapsed": false
   },
   "outputs": [
    {
     "data": {
      "text/html": [
       "<div>\n",
       "<table border=\"1\" class=\"dataframe\">\n",
       "  <thead>\n",
       "    <tr style=\"text-align: right;\">\n",
       "      <th></th>\n",
       "      <th>34ne</th>\n",
       "      <th>34nw</th>\n",
       "      <th>34se</th>\n",
       "      <th>34sw</th>\n",
       "      <th>50ne</th>\n",
       "      <th>50nw</th>\n",
       "      <th>50se</th>\n",
       "      <th>50sw</th>\n",
       "      <th>64ne</th>\n",
       "      <th>64nw</th>\n",
       "      <th>64se</th>\n",
       "      <th>64sw</th>\n",
       "      <th>lat</th>\n",
       "      <th>lon</th>\n",
       "      <th>pcenter</th>\n",
       "      <th>rmax</th>\n",
       "      <th>t</th>\n",
       "      <th>vmax</th>\n",
       "    </tr>\n",
       "  </thead>\n",
       "  <tbody>\n",
       "    <tr>\n",
       "      <th>0</th>\n",
       "      <td>-32767</td>\n",
       "      <td>-32767</td>\n",
       "      <td>-32767</td>\n",
       "      <td>-32767</td>\n",
       "      <td>-32767</td>\n",
       "      <td>-32767</td>\n",
       "      <td>-32767</td>\n",
       "      <td>-32767</td>\n",
       "      <td>-32767</td>\n",
       "      <td>-32767</td>\n",
       "      <td>-32767</td>\n",
       "      <td>-32767</td>\n",
       "      <td>9.0</td>\n",
       "      <td>-53.700001</td>\n",
       "      <td>1006</td>\n",
       "      <td>222240.0</td>\n",
       "      <td>2010102906</td>\n",
       "      <td>30</td>\n",
       "    </tr>\n",
       "    <tr>\n",
       "      <th>1</th>\n",
       "      <td>-32767</td>\n",
       "      <td>-32767</td>\n",
       "      <td>-32767</td>\n",
       "      <td>-32767</td>\n",
       "      <td>-32767</td>\n",
       "      <td>-32767</td>\n",
       "      <td>-32767</td>\n",
       "      <td>-32767</td>\n",
       "      <td>-32767</td>\n",
       "      <td>-32767</td>\n",
       "      <td>-32767</td>\n",
       "      <td>-32767</td>\n",
       "      <td>9.8</td>\n",
       "      <td>-55.299999</td>\n",
       "      <td>1003</td>\n",
       "      <td>166680.0</td>\n",
       "      <td>2010102912</td>\n",
       "      <td>35</td>\n",
       "    </tr>\n",
       "    <tr>\n",
       "      <th>2</th>\n",
       "      <td>-32767</td>\n",
       "      <td>-32767</td>\n",
       "      <td>-32767</td>\n",
       "      <td>-32767</td>\n",
       "      <td>-32767</td>\n",
       "      <td>-32767</td>\n",
       "      <td>-32767</td>\n",
       "      <td>-32767</td>\n",
       "      <td>-32767</td>\n",
       "      <td>-32767</td>\n",
       "      <td>-32767</td>\n",
       "      <td>-32767</td>\n",
       "      <td>10.8</td>\n",
       "      <td>-56.799999</td>\n",
       "      <td>998</td>\n",
       "      <td>55560.0</td>\n",
       "      <td>2010102918</td>\n",
       "      <td>45</td>\n",
       "    </tr>\n",
       "    <tr>\n",
       "      <th>3</th>\n",
       "      <td>-32767</td>\n",
       "      <td>-32767</td>\n",
       "      <td>-32767</td>\n",
       "      <td>-32767</td>\n",
       "      <td>-32767</td>\n",
       "      <td>-32767</td>\n",
       "      <td>-32767</td>\n",
       "      <td>-32767</td>\n",
       "      <td>-32767</td>\n",
       "      <td>-32767</td>\n",
       "      <td>-32767</td>\n",
       "      <td>-32767</td>\n",
       "      <td>11.9</td>\n",
       "      <td>-57.799999</td>\n",
       "      <td>999</td>\n",
       "      <td>55560.0</td>\n",
       "      <td>2010103000</td>\n",
       "      <td>55</td>\n",
       "    </tr>\n",
       "    <tr>\n",
       "      <th>4</th>\n",
       "      <td>-32767</td>\n",
       "      <td>-32767</td>\n",
       "      <td>-32767</td>\n",
       "      <td>-32767</td>\n",
       "      <td>-32767</td>\n",
       "      <td>-32767</td>\n",
       "      <td>-32767</td>\n",
       "      <td>-32767</td>\n",
       "      <td>-32767</td>\n",
       "      <td>-32767</td>\n",
       "      <td>-32767</td>\n",
       "      <td>-32767</td>\n",
       "      <td>12.7</td>\n",
       "      <td>-58.900002</td>\n",
       "      <td>997</td>\n",
       "      <td>55560.0</td>\n",
       "      <td>2010103006</td>\n",
       "      <td>60</td>\n",
       "    </tr>\n",
       "    <tr>\n",
       "      <th>5</th>\n",
       "      <td>-1</td>\n",
       "      <td>-1</td>\n",
       "      <td>-1</td>\n",
       "      <td>-1</td>\n",
       "      <td>-1</td>\n",
       "      <td>-1</td>\n",
       "      <td>-1</td>\n",
       "      <td>-1</td>\n",
       "      <td>-1</td>\n",
       "      <td>-1</td>\n",
       "      <td>-1</td>\n",
       "      <td>-1</td>\n",
       "      <td>13.1</td>\n",
       "      <td>-60.099998</td>\n",
       "      <td>993</td>\n",
       "      <td>37040.0</td>\n",
       "      <td>2010103012</td>\n",
       "      <td>65</td>\n",
       "    </tr>\n",
       "    <tr>\n",
       "      <th>6</th>\n",
       "      <td>-1</td>\n",
       "      <td>-1</td>\n",
       "      <td>-1</td>\n",
       "      <td>-1</td>\n",
       "      <td>-1</td>\n",
       "      <td>-1</td>\n",
       "      <td>-1</td>\n",
       "      <td>-1</td>\n",
       "      <td>-1</td>\n",
       "      <td>-1</td>\n",
       "      <td>-1</td>\n",
       "      <td>-1</td>\n",
       "      <td>13.3</td>\n",
       "      <td>-61.000000</td>\n",
       "      <td>990</td>\n",
       "      <td>37040.0</td>\n",
       "      <td>2010103018</td>\n",
       "      <td>80</td>\n",
       "    </tr>\n",
       "    <tr>\n",
       "      <th>7</th>\n",
       "      <td>-1</td>\n",
       "      <td>-1</td>\n",
       "      <td>-1</td>\n",
       "      <td>-1</td>\n",
       "      <td>-1</td>\n",
       "      <td>-1</td>\n",
       "      <td>-1</td>\n",
       "      <td>-1</td>\n",
       "      <td>-1</td>\n",
       "      <td>-1</td>\n",
       "      <td>-1</td>\n",
       "      <td>-1</td>\n",
       "      <td>13.5</td>\n",
       "      <td>-61.700001</td>\n",
       "      <td>982</td>\n",
       "      <td>37040.0</td>\n",
       "      <td>2010103100</td>\n",
       "      <td>85</td>\n",
       "    </tr>\n",
       "    <tr>\n",
       "      <th>8</th>\n",
       "      <td>-1</td>\n",
       "      <td>-1</td>\n",
       "      <td>-1</td>\n",
       "      <td>-1</td>\n",
       "      <td>-1</td>\n",
       "      <td>-1</td>\n",
       "      <td>-1</td>\n",
       "      <td>-1</td>\n",
       "      <td>-1</td>\n",
       "      <td>-1</td>\n",
       "      <td>-1</td>\n",
       "      <td>-1</td>\n",
       "      <td>13.8</td>\n",
       "      <td>-62.400002</td>\n",
       "      <td>983</td>\n",
       "      <td>27780.0</td>\n",
       "      <td>2010103106</td>\n",
       "      <td>85</td>\n",
       "    </tr>\n",
       "    <tr>\n",
       "      <th>9</th>\n",
       "      <td>30</td>\n",
       "      <td>30</td>\n",
       "      <td>30</td>\n",
       "      <td>25</td>\n",
       "      <td>-1</td>\n",
       "      <td>-1</td>\n",
       "      <td>-1</td>\n",
       "      <td>-1</td>\n",
       "      <td>-1</td>\n",
       "      <td>-1</td>\n",
       "      <td>-1</td>\n",
       "      <td>-1</td>\n",
       "      <td>14.0</td>\n",
       "      <td>-63.299999</td>\n",
       "      <td>988</td>\n",
       "      <td>27780.0</td>\n",
       "      <td>2010103112</td>\n",
       "      <td>80</td>\n",
       "    </tr>\n",
       "    <tr>\n",
       "      <th>10</th>\n",
       "      <td>70</td>\n",
       "      <td>60</td>\n",
       "      <td>65</td>\n",
       "      <td>75</td>\n",
       "      <td>25</td>\n",
       "      <td>20</td>\n",
       "      <td>20</td>\n",
       "      <td>25</td>\n",
       "      <td>-1</td>\n",
       "      <td>-1</td>\n",
       "      <td>-1</td>\n",
       "      <td>-1</td>\n",
       "      <td>14.2</td>\n",
       "      <td>-64.400002</td>\n",
       "      <td>994</td>\n",
       "      <td>27780.0</td>\n",
       "      <td>2010103118</td>\n",
       "      <td>65</td>\n",
       "    </tr>\n",
       "    <tr>\n",
       "      <th>11</th>\n",
       "      <td>70</td>\n",
       "      <td>60</td>\n",
       "      <td>65</td>\n",
       "      <td>75</td>\n",
       "      <td>25</td>\n",
       "      <td>20</td>\n",
       "      <td>20</td>\n",
       "      <td>25</td>\n",
       "      <td>-1</td>\n",
       "      <td>-1</td>\n",
       "      <td>-1</td>\n",
       "      <td>-1</td>\n",
       "      <td>14.1</td>\n",
       "      <td>-65.800003</td>\n",
       "      <td>997</td>\n",
       "      <td>55560.0</td>\n",
       "      <td>2010110100</td>\n",
       "      <td>55</td>\n",
       "    </tr>\n",
       "    <tr>\n",
       "      <th>12</th>\n",
       "      <td>70</td>\n",
       "      <td>65</td>\n",
       "      <td>65</td>\n",
       "      <td>75</td>\n",
       "      <td>25</td>\n",
       "      <td>20</td>\n",
       "      <td>20</td>\n",
       "      <td>25</td>\n",
       "      <td>-1</td>\n",
       "      <td>-1</td>\n",
       "      <td>-1</td>\n",
       "      <td>-1</td>\n",
       "      <td>13.9</td>\n",
       "      <td>-67.099998</td>\n",
       "      <td>1003</td>\n",
       "      <td>55560.0</td>\n",
       "      <td>2010110106</td>\n",
       "      <td>45</td>\n",
       "    </tr>\n",
       "  </tbody>\n",
       "</table>\n",
       "</div>"
      ],
      "text/plain": [
       "     34ne   34nw   34se   34sw   50ne   50nw   50se   50sw   64ne   64nw  \\\n",
       "0  -32767 -32767 -32767 -32767 -32767 -32767 -32767 -32767 -32767 -32767   \n",
       "1  -32767 -32767 -32767 -32767 -32767 -32767 -32767 -32767 -32767 -32767   \n",
       "2  -32767 -32767 -32767 -32767 -32767 -32767 -32767 -32767 -32767 -32767   \n",
       "3  -32767 -32767 -32767 -32767 -32767 -32767 -32767 -32767 -32767 -32767   \n",
       "4  -32767 -32767 -32767 -32767 -32767 -32767 -32767 -32767 -32767 -32767   \n",
       "5      -1     -1     -1     -1     -1     -1     -1     -1     -1     -1   \n",
       "6      -1     -1     -1     -1     -1     -1     -1     -1     -1     -1   \n",
       "7      -1     -1     -1     -1     -1     -1     -1     -1     -1     -1   \n",
       "8      -1     -1     -1     -1     -1     -1     -1     -1     -1     -1   \n",
       "9      30     30     30     25     -1     -1     -1     -1     -1     -1   \n",
       "10     70     60     65     75     25     20     20     25     -1     -1   \n",
       "11     70     60     65     75     25     20     20     25     -1     -1   \n",
       "12     70     65     65     75     25     20     20     25     -1     -1   \n",
       "\n",
       "     64se   64sw   lat        lon  pcenter      rmax           t  vmax  \n",
       "0  -32767 -32767   9.0 -53.700001     1006  222240.0  2010102906    30  \n",
       "1  -32767 -32767   9.8 -55.299999     1003  166680.0  2010102912    35  \n",
       "2  -32767 -32767  10.8 -56.799999      998   55560.0  2010102918    45  \n",
       "3  -32767 -32767  11.9 -57.799999      999   55560.0  2010103000    55  \n",
       "4  -32767 -32767  12.7 -58.900002      997   55560.0  2010103006    60  \n",
       "5      -1     -1  13.1 -60.099998      993   37040.0  2010103012    65  \n",
       "6      -1     -1  13.3 -61.000000      990   37040.0  2010103018    80  \n",
       "7      -1     -1  13.5 -61.700001      982   37040.0  2010103100    85  \n",
       "8      -1     -1  13.8 -62.400002      983   27780.0  2010103106    85  \n",
       "9      -1     -1  14.0 -63.299999      988   27780.0  2010103112    80  \n",
       "10     -1     -1  14.2 -64.400002      994   27780.0  2010103118    65  \n",
       "11     -1     -1  14.1 -65.800003      997   55560.0  2010110100    55  \n",
       "12     -1     -1  13.9 -67.099998     1003   55560.0  2010110106    45  "
      ]
     },
     "execution_count": 230,
     "metadata": {},
     "output_type": "execute_result"
    }
   ],
   "source": [
    "inpData"
   ]
  },
  {
   "cell_type": "code",
   "execution_count": 231,
   "metadata": {
    "collapsed": false
   },
   "outputs": [],
   "source": [
    "inpData.loc[inpData['lat'] == 9.969210e+36, 'lat'] = np.nan\n",
    "inpData.loc[inpData['lon'] == 9.969210e+36, 'lon'] = np.nan\n",
    "inpData.loc[inpData['pcenter'] == -32767., 'pcenter'] = np.nan\n",
    "inpData.loc[inpData['rmax'] == -60684484., 'rmax'] = np.nan\n",
    "inpData.loc[inpData['vmax'] == -32767, 'vmax'] = np.nan\n",
    "inpData.loc[inpData['34ne'] == -32767, '34ne']=np.nan\n",
    "inpData.loc[inpData['34nw'] == -32767, '34nw']=np.nan\n",
    "inpData.loc[inpData['34se'] == -32767, '34se']=np.nan\n",
    "inpData.loc[inpData['34sw'] == -32767, '34sw']=np.nan\n",
    "inpData.loc[inpData['50ne'] == -32767, '50ne']=np.nan\n",
    "inpData.loc[inpData['50nw'] == -32767, '50nw']=np.nan\n",
    "inpData.loc[inpData['50se'] == -32767, '50se']=np.nan\n",
    "inpData.loc[inpData['50sw'] == -32767, '50sw']=np.nan\n",
    "inpData.loc[inpData['64ne'] == -32767, '64ne']=np.nan\n",
    "inpData.loc[inpData['64nw'] == -32767, '64nw']=np.nan\n",
    "inpData.loc[inpData['64se'] == -32767, '64se']=np.nan\n",
    "inpData.loc[inpData['64sw'] == -32767, '64sw']=np.nan"
   ]
  },
  {
   "cell_type": "code",
   "execution_count": 232,
   "metadata": {
    "collapsed": false
   },
   "outputs": [
    {
     "data": {
      "text/html": [
       "<div>\n",
       "<table border=\"1\" class=\"dataframe\">\n",
       "  <thead>\n",
       "    <tr style=\"text-align: right;\">\n",
       "      <th></th>\n",
       "      <th>34ne</th>\n",
       "      <th>34nw</th>\n",
       "      <th>34se</th>\n",
       "      <th>34sw</th>\n",
       "      <th>50ne</th>\n",
       "      <th>50nw</th>\n",
       "      <th>50se</th>\n",
       "      <th>50sw</th>\n",
       "      <th>64ne</th>\n",
       "      <th>64nw</th>\n",
       "      <th>64se</th>\n",
       "      <th>64sw</th>\n",
       "      <th>lat</th>\n",
       "      <th>lon</th>\n",
       "      <th>pcenter</th>\n",
       "      <th>rmax</th>\n",
       "      <th>t</th>\n",
       "      <th>vmax</th>\n",
       "    </tr>\n",
       "  </thead>\n",
       "  <tbody>\n",
       "    <tr>\n",
       "      <th>0</th>\n",
       "      <td>NaN</td>\n",
       "      <td>NaN</td>\n",
       "      <td>NaN</td>\n",
       "      <td>NaN</td>\n",
       "      <td>NaN</td>\n",
       "      <td>NaN</td>\n",
       "      <td>NaN</td>\n",
       "      <td>NaN</td>\n",
       "      <td>NaN</td>\n",
       "      <td>NaN</td>\n",
       "      <td>NaN</td>\n",
       "      <td>NaN</td>\n",
       "      <td>9.0</td>\n",
       "      <td>-53.700001</td>\n",
       "      <td>1006.0</td>\n",
       "      <td>222240.0</td>\n",
       "      <td>2010102906</td>\n",
       "      <td>30.0</td>\n",
       "    </tr>\n",
       "    <tr>\n",
       "      <th>1</th>\n",
       "      <td>NaN</td>\n",
       "      <td>NaN</td>\n",
       "      <td>NaN</td>\n",
       "      <td>NaN</td>\n",
       "      <td>NaN</td>\n",
       "      <td>NaN</td>\n",
       "      <td>NaN</td>\n",
       "      <td>NaN</td>\n",
       "      <td>NaN</td>\n",
       "      <td>NaN</td>\n",
       "      <td>NaN</td>\n",
       "      <td>NaN</td>\n",
       "      <td>9.8</td>\n",
       "      <td>-55.299999</td>\n",
       "      <td>1003.0</td>\n",
       "      <td>166680.0</td>\n",
       "      <td>2010102912</td>\n",
       "      <td>35.0</td>\n",
       "    </tr>\n",
       "    <tr>\n",
       "      <th>2</th>\n",
       "      <td>NaN</td>\n",
       "      <td>NaN</td>\n",
       "      <td>NaN</td>\n",
       "      <td>NaN</td>\n",
       "      <td>NaN</td>\n",
       "      <td>NaN</td>\n",
       "      <td>NaN</td>\n",
       "      <td>NaN</td>\n",
       "      <td>NaN</td>\n",
       "      <td>NaN</td>\n",
       "      <td>NaN</td>\n",
       "      <td>NaN</td>\n",
       "      <td>10.8</td>\n",
       "      <td>-56.799999</td>\n",
       "      <td>998.0</td>\n",
       "      <td>55560.0</td>\n",
       "      <td>2010102918</td>\n",
       "      <td>45.0</td>\n",
       "    </tr>\n",
       "    <tr>\n",
       "      <th>3</th>\n",
       "      <td>NaN</td>\n",
       "      <td>NaN</td>\n",
       "      <td>NaN</td>\n",
       "      <td>NaN</td>\n",
       "      <td>NaN</td>\n",
       "      <td>NaN</td>\n",
       "      <td>NaN</td>\n",
       "      <td>NaN</td>\n",
       "      <td>NaN</td>\n",
       "      <td>NaN</td>\n",
       "      <td>NaN</td>\n",
       "      <td>NaN</td>\n",
       "      <td>11.9</td>\n",
       "      <td>-57.799999</td>\n",
       "      <td>999.0</td>\n",
       "      <td>55560.0</td>\n",
       "      <td>2010103000</td>\n",
       "      <td>55.0</td>\n",
       "    </tr>\n",
       "    <tr>\n",
       "      <th>4</th>\n",
       "      <td>NaN</td>\n",
       "      <td>NaN</td>\n",
       "      <td>NaN</td>\n",
       "      <td>NaN</td>\n",
       "      <td>NaN</td>\n",
       "      <td>NaN</td>\n",
       "      <td>NaN</td>\n",
       "      <td>NaN</td>\n",
       "      <td>NaN</td>\n",
       "      <td>NaN</td>\n",
       "      <td>NaN</td>\n",
       "      <td>NaN</td>\n",
       "      <td>12.7</td>\n",
       "      <td>-58.900002</td>\n",
       "      <td>997.0</td>\n",
       "      <td>55560.0</td>\n",
       "      <td>2010103006</td>\n",
       "      <td>60.0</td>\n",
       "    </tr>\n",
       "    <tr>\n",
       "      <th>5</th>\n",
       "      <td>-1.0</td>\n",
       "      <td>-1.0</td>\n",
       "      <td>-1.0</td>\n",
       "      <td>-1.0</td>\n",
       "      <td>-1.0</td>\n",
       "      <td>-1.0</td>\n",
       "      <td>-1.0</td>\n",
       "      <td>-1.0</td>\n",
       "      <td>-1.0</td>\n",
       "      <td>-1.0</td>\n",
       "      <td>-1.0</td>\n",
       "      <td>-1.0</td>\n",
       "      <td>13.1</td>\n",
       "      <td>-60.099998</td>\n",
       "      <td>993.0</td>\n",
       "      <td>37040.0</td>\n",
       "      <td>2010103012</td>\n",
       "      <td>65.0</td>\n",
       "    </tr>\n",
       "    <tr>\n",
       "      <th>6</th>\n",
       "      <td>-1.0</td>\n",
       "      <td>-1.0</td>\n",
       "      <td>-1.0</td>\n",
       "      <td>-1.0</td>\n",
       "      <td>-1.0</td>\n",
       "      <td>-1.0</td>\n",
       "      <td>-1.0</td>\n",
       "      <td>-1.0</td>\n",
       "      <td>-1.0</td>\n",
       "      <td>-1.0</td>\n",
       "      <td>-1.0</td>\n",
       "      <td>-1.0</td>\n",
       "      <td>13.3</td>\n",
       "      <td>-61.000000</td>\n",
       "      <td>990.0</td>\n",
       "      <td>37040.0</td>\n",
       "      <td>2010103018</td>\n",
       "      <td>80.0</td>\n",
       "    </tr>\n",
       "    <tr>\n",
       "      <th>7</th>\n",
       "      <td>-1.0</td>\n",
       "      <td>-1.0</td>\n",
       "      <td>-1.0</td>\n",
       "      <td>-1.0</td>\n",
       "      <td>-1.0</td>\n",
       "      <td>-1.0</td>\n",
       "      <td>-1.0</td>\n",
       "      <td>-1.0</td>\n",
       "      <td>-1.0</td>\n",
       "      <td>-1.0</td>\n",
       "      <td>-1.0</td>\n",
       "      <td>-1.0</td>\n",
       "      <td>13.5</td>\n",
       "      <td>-61.700001</td>\n",
       "      <td>982.0</td>\n",
       "      <td>37040.0</td>\n",
       "      <td>2010103100</td>\n",
       "      <td>85.0</td>\n",
       "    </tr>\n",
       "    <tr>\n",
       "      <th>8</th>\n",
       "      <td>-1.0</td>\n",
       "      <td>-1.0</td>\n",
       "      <td>-1.0</td>\n",
       "      <td>-1.0</td>\n",
       "      <td>-1.0</td>\n",
       "      <td>-1.0</td>\n",
       "      <td>-1.0</td>\n",
       "      <td>-1.0</td>\n",
       "      <td>-1.0</td>\n",
       "      <td>-1.0</td>\n",
       "      <td>-1.0</td>\n",
       "      <td>-1.0</td>\n",
       "      <td>13.8</td>\n",
       "      <td>-62.400002</td>\n",
       "      <td>983.0</td>\n",
       "      <td>27780.0</td>\n",
       "      <td>2010103106</td>\n",
       "      <td>85.0</td>\n",
       "    </tr>\n",
       "    <tr>\n",
       "      <th>9</th>\n",
       "      <td>30.0</td>\n",
       "      <td>30.0</td>\n",
       "      <td>30.0</td>\n",
       "      <td>25.0</td>\n",
       "      <td>-1.0</td>\n",
       "      <td>-1.0</td>\n",
       "      <td>-1.0</td>\n",
       "      <td>-1.0</td>\n",
       "      <td>-1.0</td>\n",
       "      <td>-1.0</td>\n",
       "      <td>-1.0</td>\n",
       "      <td>-1.0</td>\n",
       "      <td>14.0</td>\n",
       "      <td>-63.299999</td>\n",
       "      <td>988.0</td>\n",
       "      <td>27780.0</td>\n",
       "      <td>2010103112</td>\n",
       "      <td>80.0</td>\n",
       "    </tr>\n",
       "    <tr>\n",
       "      <th>10</th>\n",
       "      <td>70.0</td>\n",
       "      <td>60.0</td>\n",
       "      <td>65.0</td>\n",
       "      <td>75.0</td>\n",
       "      <td>25.0</td>\n",
       "      <td>20.0</td>\n",
       "      <td>20.0</td>\n",
       "      <td>25.0</td>\n",
       "      <td>-1.0</td>\n",
       "      <td>-1.0</td>\n",
       "      <td>-1.0</td>\n",
       "      <td>-1.0</td>\n",
       "      <td>14.2</td>\n",
       "      <td>-64.400002</td>\n",
       "      <td>994.0</td>\n",
       "      <td>27780.0</td>\n",
       "      <td>2010103118</td>\n",
       "      <td>65.0</td>\n",
       "    </tr>\n",
       "    <tr>\n",
       "      <th>11</th>\n",
       "      <td>70.0</td>\n",
       "      <td>60.0</td>\n",
       "      <td>65.0</td>\n",
       "      <td>75.0</td>\n",
       "      <td>25.0</td>\n",
       "      <td>20.0</td>\n",
       "      <td>20.0</td>\n",
       "      <td>25.0</td>\n",
       "      <td>-1.0</td>\n",
       "      <td>-1.0</td>\n",
       "      <td>-1.0</td>\n",
       "      <td>-1.0</td>\n",
       "      <td>14.1</td>\n",
       "      <td>-65.800003</td>\n",
       "      <td>997.0</td>\n",
       "      <td>55560.0</td>\n",
       "      <td>2010110100</td>\n",
       "      <td>55.0</td>\n",
       "    </tr>\n",
       "    <tr>\n",
       "      <th>12</th>\n",
       "      <td>70.0</td>\n",
       "      <td>65.0</td>\n",
       "      <td>65.0</td>\n",
       "      <td>75.0</td>\n",
       "      <td>25.0</td>\n",
       "      <td>20.0</td>\n",
       "      <td>20.0</td>\n",
       "      <td>25.0</td>\n",
       "      <td>-1.0</td>\n",
       "      <td>-1.0</td>\n",
       "      <td>-1.0</td>\n",
       "      <td>-1.0</td>\n",
       "      <td>13.9</td>\n",
       "      <td>-67.099998</td>\n",
       "      <td>1003.0</td>\n",
       "      <td>55560.0</td>\n",
       "      <td>2010110106</td>\n",
       "      <td>45.0</td>\n",
       "    </tr>\n",
       "  </tbody>\n",
       "</table>\n",
       "</div>"
      ],
      "text/plain": [
       "    34ne  34nw  34se  34sw  50ne  50nw  50se  50sw  64ne  64nw  64se  64sw  \\\n",
       "0    NaN   NaN   NaN   NaN   NaN   NaN   NaN   NaN   NaN   NaN   NaN   NaN   \n",
       "1    NaN   NaN   NaN   NaN   NaN   NaN   NaN   NaN   NaN   NaN   NaN   NaN   \n",
       "2    NaN   NaN   NaN   NaN   NaN   NaN   NaN   NaN   NaN   NaN   NaN   NaN   \n",
       "3    NaN   NaN   NaN   NaN   NaN   NaN   NaN   NaN   NaN   NaN   NaN   NaN   \n",
       "4    NaN   NaN   NaN   NaN   NaN   NaN   NaN   NaN   NaN   NaN   NaN   NaN   \n",
       "5   -1.0  -1.0  -1.0  -1.0  -1.0  -1.0  -1.0  -1.0  -1.0  -1.0  -1.0  -1.0   \n",
       "6   -1.0  -1.0  -1.0  -1.0  -1.0  -1.0  -1.0  -1.0  -1.0  -1.0  -1.0  -1.0   \n",
       "7   -1.0  -1.0  -1.0  -1.0  -1.0  -1.0  -1.0  -1.0  -1.0  -1.0  -1.0  -1.0   \n",
       "8   -1.0  -1.0  -1.0  -1.0  -1.0  -1.0  -1.0  -1.0  -1.0  -1.0  -1.0  -1.0   \n",
       "9   30.0  30.0  30.0  25.0  -1.0  -1.0  -1.0  -1.0  -1.0  -1.0  -1.0  -1.0   \n",
       "10  70.0  60.0  65.0  75.0  25.0  20.0  20.0  25.0  -1.0  -1.0  -1.0  -1.0   \n",
       "11  70.0  60.0  65.0  75.0  25.0  20.0  20.0  25.0  -1.0  -1.0  -1.0  -1.0   \n",
       "12  70.0  65.0  65.0  75.0  25.0  20.0  20.0  25.0  -1.0  -1.0  -1.0  -1.0   \n",
       "\n",
       "     lat        lon  pcenter      rmax           t  vmax  \n",
       "0    9.0 -53.700001   1006.0  222240.0  2010102906  30.0  \n",
       "1    9.8 -55.299999   1003.0  166680.0  2010102912  35.0  \n",
       "2   10.8 -56.799999    998.0   55560.0  2010102918  45.0  \n",
       "3   11.9 -57.799999    999.0   55560.0  2010103000  55.0  \n",
       "4   12.7 -58.900002    997.0   55560.0  2010103006  60.0  \n",
       "5   13.1 -60.099998    993.0   37040.0  2010103012  65.0  \n",
       "6   13.3 -61.000000    990.0   37040.0  2010103018  80.0  \n",
       "7   13.5 -61.700001    982.0   37040.0  2010103100  85.0  \n",
       "8   13.8 -62.400002    983.0   27780.0  2010103106  85.0  \n",
       "9   14.0 -63.299999    988.0   27780.0  2010103112  80.0  \n",
       "10  14.2 -64.400002    994.0   27780.0  2010103118  65.0  \n",
       "11  14.1 -65.800003    997.0   55560.0  2010110100  55.0  \n",
       "12  13.9 -67.099998   1003.0   55560.0  2010110106  45.0  "
      ]
     },
     "execution_count": 232,
     "metadata": {},
     "output_type": "execute_result"
    }
   ],
   "source": [
    "inpData"
   ]
  },
  {
   "cell_type": "code",
   "execution_count": 233,
   "metadata": {
    "collapsed": true
   },
   "outputs": [],
   "source": [
    "inpData.loc[inpData['34ne'] == -1, '34ne']=0\n",
    "inpData.loc[inpData['34nw'] == -1, '34nw']=0\n",
    "inpData.loc[inpData['34se'] == -1, '34se']=0\n",
    "inpData.loc[inpData['34sw'] == -1, '34sw']=0\n",
    "inpData.loc[inpData['50ne'] == -1, '50ne']=0\n",
    "inpData.loc[inpData['50nw'] == -1, '50nw']=0\n",
    "inpData.loc[inpData['50se'] == -1, '50se']=0\n",
    "inpData.loc[inpData['50sw'] == -1, '50sw']=0\n",
    "inpData.loc[inpData['64ne'] == -1, '64ne']=0\n",
    "inpData.loc[inpData['64nw'] == -1, '64nw']=0\n",
    "inpData.loc[inpData['64se'] == -1, '64se']=0\n",
    "inpData.loc[inpData['64sw'] == -1, '64sw']=0"
   ]
  },
  {
   "cell_type": "code",
   "execution_count": 234,
   "metadata": {
    "collapsed": false
   },
   "outputs": [],
   "source": [
    "inpData=inpData.dropna()"
   ]
  },
  {
   "cell_type": "code",
   "execution_count": 235,
   "metadata": {
    "collapsed": false
   },
   "outputs": [
    {
     "data": {
      "text/html": [
       "<div>\n",
       "<table border=\"1\" class=\"dataframe\">\n",
       "  <thead>\n",
       "    <tr style=\"text-align: right;\">\n",
       "      <th></th>\n",
       "      <th>34ne</th>\n",
       "      <th>34nw</th>\n",
       "      <th>34se</th>\n",
       "      <th>34sw</th>\n",
       "      <th>50ne</th>\n",
       "      <th>50nw</th>\n",
       "      <th>50se</th>\n",
       "      <th>50sw</th>\n",
       "      <th>64ne</th>\n",
       "      <th>64nw</th>\n",
       "      <th>64se</th>\n",
       "      <th>64sw</th>\n",
       "      <th>lat</th>\n",
       "      <th>lon</th>\n",
       "      <th>pcenter</th>\n",
       "      <th>rmax</th>\n",
       "      <th>t</th>\n",
       "      <th>vmax</th>\n",
       "    </tr>\n",
       "  </thead>\n",
       "  <tbody>\n",
       "    <tr>\n",
       "      <th>5</th>\n",
       "      <td>0.0</td>\n",
       "      <td>0.0</td>\n",
       "      <td>0.0</td>\n",
       "      <td>0.0</td>\n",
       "      <td>0.0</td>\n",
       "      <td>0.0</td>\n",
       "      <td>0.0</td>\n",
       "      <td>0.0</td>\n",
       "      <td>0.0</td>\n",
       "      <td>0.0</td>\n",
       "      <td>0.0</td>\n",
       "      <td>0.0</td>\n",
       "      <td>13.1</td>\n",
       "      <td>-60.099998</td>\n",
       "      <td>993.0</td>\n",
       "      <td>37040.0</td>\n",
       "      <td>2010103012</td>\n",
       "      <td>65.0</td>\n",
       "    </tr>\n",
       "    <tr>\n",
       "      <th>6</th>\n",
       "      <td>0.0</td>\n",
       "      <td>0.0</td>\n",
       "      <td>0.0</td>\n",
       "      <td>0.0</td>\n",
       "      <td>0.0</td>\n",
       "      <td>0.0</td>\n",
       "      <td>0.0</td>\n",
       "      <td>0.0</td>\n",
       "      <td>0.0</td>\n",
       "      <td>0.0</td>\n",
       "      <td>0.0</td>\n",
       "      <td>0.0</td>\n",
       "      <td>13.3</td>\n",
       "      <td>-61.000000</td>\n",
       "      <td>990.0</td>\n",
       "      <td>37040.0</td>\n",
       "      <td>2010103018</td>\n",
       "      <td>80.0</td>\n",
       "    </tr>\n",
       "    <tr>\n",
       "      <th>7</th>\n",
       "      <td>0.0</td>\n",
       "      <td>0.0</td>\n",
       "      <td>0.0</td>\n",
       "      <td>0.0</td>\n",
       "      <td>0.0</td>\n",
       "      <td>0.0</td>\n",
       "      <td>0.0</td>\n",
       "      <td>0.0</td>\n",
       "      <td>0.0</td>\n",
       "      <td>0.0</td>\n",
       "      <td>0.0</td>\n",
       "      <td>0.0</td>\n",
       "      <td>13.5</td>\n",
       "      <td>-61.700001</td>\n",
       "      <td>982.0</td>\n",
       "      <td>37040.0</td>\n",
       "      <td>2010103100</td>\n",
       "      <td>85.0</td>\n",
       "    </tr>\n",
       "    <tr>\n",
       "      <th>8</th>\n",
       "      <td>0.0</td>\n",
       "      <td>0.0</td>\n",
       "      <td>0.0</td>\n",
       "      <td>0.0</td>\n",
       "      <td>0.0</td>\n",
       "      <td>0.0</td>\n",
       "      <td>0.0</td>\n",
       "      <td>0.0</td>\n",
       "      <td>0.0</td>\n",
       "      <td>0.0</td>\n",
       "      <td>0.0</td>\n",
       "      <td>0.0</td>\n",
       "      <td>13.8</td>\n",
       "      <td>-62.400002</td>\n",
       "      <td>983.0</td>\n",
       "      <td>27780.0</td>\n",
       "      <td>2010103106</td>\n",
       "      <td>85.0</td>\n",
       "    </tr>\n",
       "    <tr>\n",
       "      <th>9</th>\n",
       "      <td>30.0</td>\n",
       "      <td>30.0</td>\n",
       "      <td>30.0</td>\n",
       "      <td>25.0</td>\n",
       "      <td>0.0</td>\n",
       "      <td>0.0</td>\n",
       "      <td>0.0</td>\n",
       "      <td>0.0</td>\n",
       "      <td>0.0</td>\n",
       "      <td>0.0</td>\n",
       "      <td>0.0</td>\n",
       "      <td>0.0</td>\n",
       "      <td>14.0</td>\n",
       "      <td>-63.299999</td>\n",
       "      <td>988.0</td>\n",
       "      <td>27780.0</td>\n",
       "      <td>2010103112</td>\n",
       "      <td>80.0</td>\n",
       "    </tr>\n",
       "    <tr>\n",
       "      <th>10</th>\n",
       "      <td>70.0</td>\n",
       "      <td>60.0</td>\n",
       "      <td>65.0</td>\n",
       "      <td>75.0</td>\n",
       "      <td>25.0</td>\n",
       "      <td>20.0</td>\n",
       "      <td>20.0</td>\n",
       "      <td>25.0</td>\n",
       "      <td>0.0</td>\n",
       "      <td>0.0</td>\n",
       "      <td>0.0</td>\n",
       "      <td>0.0</td>\n",
       "      <td>14.2</td>\n",
       "      <td>-64.400002</td>\n",
       "      <td>994.0</td>\n",
       "      <td>27780.0</td>\n",
       "      <td>2010103118</td>\n",
       "      <td>65.0</td>\n",
       "    </tr>\n",
       "    <tr>\n",
       "      <th>11</th>\n",
       "      <td>70.0</td>\n",
       "      <td>60.0</td>\n",
       "      <td>65.0</td>\n",
       "      <td>75.0</td>\n",
       "      <td>25.0</td>\n",
       "      <td>20.0</td>\n",
       "      <td>20.0</td>\n",
       "      <td>25.0</td>\n",
       "      <td>0.0</td>\n",
       "      <td>0.0</td>\n",
       "      <td>0.0</td>\n",
       "      <td>0.0</td>\n",
       "      <td>14.1</td>\n",
       "      <td>-65.800003</td>\n",
       "      <td>997.0</td>\n",
       "      <td>55560.0</td>\n",
       "      <td>2010110100</td>\n",
       "      <td>55.0</td>\n",
       "    </tr>\n",
       "    <tr>\n",
       "      <th>12</th>\n",
       "      <td>70.0</td>\n",
       "      <td>65.0</td>\n",
       "      <td>65.0</td>\n",
       "      <td>75.0</td>\n",
       "      <td>25.0</td>\n",
       "      <td>20.0</td>\n",
       "      <td>20.0</td>\n",
       "      <td>25.0</td>\n",
       "      <td>0.0</td>\n",
       "      <td>0.0</td>\n",
       "      <td>0.0</td>\n",
       "      <td>0.0</td>\n",
       "      <td>13.9</td>\n",
       "      <td>-67.099998</td>\n",
       "      <td>1003.0</td>\n",
       "      <td>55560.0</td>\n",
       "      <td>2010110106</td>\n",
       "      <td>45.0</td>\n",
       "    </tr>\n",
       "  </tbody>\n",
       "</table>\n",
       "</div>"
      ],
      "text/plain": [
       "    34ne  34nw  34se  34sw  50ne  50nw  50se  50sw  64ne  64nw  64se  64sw  \\\n",
       "5    0.0   0.0   0.0   0.0   0.0   0.0   0.0   0.0   0.0   0.0   0.0   0.0   \n",
       "6    0.0   0.0   0.0   0.0   0.0   0.0   0.0   0.0   0.0   0.0   0.0   0.0   \n",
       "7    0.0   0.0   0.0   0.0   0.0   0.0   0.0   0.0   0.0   0.0   0.0   0.0   \n",
       "8    0.0   0.0   0.0   0.0   0.0   0.0   0.0   0.0   0.0   0.0   0.0   0.0   \n",
       "9   30.0  30.0  30.0  25.0   0.0   0.0   0.0   0.0   0.0   0.0   0.0   0.0   \n",
       "10  70.0  60.0  65.0  75.0  25.0  20.0  20.0  25.0   0.0   0.0   0.0   0.0   \n",
       "11  70.0  60.0  65.0  75.0  25.0  20.0  20.0  25.0   0.0   0.0   0.0   0.0   \n",
       "12  70.0  65.0  65.0  75.0  25.0  20.0  20.0  25.0   0.0   0.0   0.0   0.0   \n",
       "\n",
       "     lat        lon  pcenter     rmax           t  vmax  \n",
       "5   13.1 -60.099998    993.0  37040.0  2010103012  65.0  \n",
       "6   13.3 -61.000000    990.0  37040.0  2010103018  80.0  \n",
       "7   13.5 -61.700001    982.0  37040.0  2010103100  85.0  \n",
       "8   13.8 -62.400002    983.0  27780.0  2010103106  85.0  \n",
       "9   14.0 -63.299999    988.0  27780.0  2010103112  80.0  \n",
       "10  14.2 -64.400002    994.0  27780.0  2010103118  65.0  \n",
       "11  14.1 -65.800003    997.0  55560.0  2010110100  55.0  \n",
       "12  13.9 -67.099998   1003.0  55560.0  2010110106  45.0  "
      ]
     },
     "execution_count": 235,
     "metadata": {},
     "output_type": "execute_result"
    }
   ],
   "source": [
    "inpData"
   ]
  },
  {
   "cell_type": "code",
   "execution_count": 236,
   "metadata": {
    "collapsed": false
   },
   "outputs": [],
   "source": [
    "dph=pn-inpData.pcenter*100."
   ]
  },
  {
   "cell_type": "code",
   "execution_count": 237,
   "metadata": {
    "collapsed": false
   },
   "outputs": [
    {
     "data": {
      "text/plain": [
       "5     1700.0\n",
       "6     2000.0\n",
       "7     2800.0\n",
       "8     2700.0\n",
       "9     2200.0\n",
       "10    1600.0\n",
       "11    1300.0\n",
       "12     700.0\n",
       "Name: pcenter, dtype: float64"
      ]
     },
     "execution_count": 237,
     "metadata": {},
     "output_type": "execute_result"
    }
   ],
   "source": [
    "dph"
   ]
  },
  {
   "cell_type": "code",
   "execution_count": 238,
   "metadata": {
    "collapsed": false
   },
   "outputs": [],
   "source": [
    "inpData=inpData.assign(dp=dph)"
   ]
  },
  {
   "cell_type": "code",
   "execution_count": 240,
   "metadata": {
    "collapsed": false
   },
   "outputs": [
    {
     "data": {
      "text/plain": [
       "34ne       0.000000e+00\n",
       "34nw       0.000000e+00\n",
       "34se       0.000000e+00\n",
       "34sw       0.000000e+00\n",
       "50ne       0.000000e+00\n",
       "50nw       0.000000e+00\n",
       "50se       0.000000e+00\n",
       "50sw       0.000000e+00\n",
       "64ne       0.000000e+00\n",
       "64nw       0.000000e+00\n",
       "64se       0.000000e+00\n",
       "64sw       0.000000e+00\n",
       "lat        1.380000e+01\n",
       "lon       -6.240000e+01\n",
       "pcenter    9.830000e+02\n",
       "rmax       2.778000e+04\n",
       "t          2.010103e+09\n",
       "vmax       8.500000e+01\n",
       "dp         2.700000e+03\n",
       "Name: 8, dtype: float64"
      ]
     },
     "execution_count": 240,
     "metadata": {},
     "output_type": "execute_result"
    }
   ],
   "source": [
    "inpData.iloc[3]"
   ]
  },
  {
   "cell_type": "markdown",
   "metadata": {},
   "source": [
    "### create inpData file"
   ]
  },
  {
   "cell_type": "code",
   "execution_count": 132,
   "metadata": {
    "collapsed": false
   },
   "outputs": [],
   "source": [
    "inpData['t']=pd.to_datetime(inpData['t'],format='%Y%m%d%H')"
   ]
  },
  {
   "cell_type": "code",
   "execution_count": 133,
   "metadata": {
    "collapsed": false
   },
   "outputs": [
    {
     "data": {
      "text/html": [
       "<div>\n",
       "<table border=\"1\" class=\"dataframe\">\n",
       "  <thead>\n",
       "    <tr style=\"text-align: right;\">\n",
       "      <th></th>\n",
       "      <th>34ne</th>\n",
       "      <th>34nw</th>\n",
       "      <th>34se</th>\n",
       "      <th>34sw</th>\n",
       "      <th>50ne</th>\n",
       "      <th>50nw</th>\n",
       "      <th>50se</th>\n",
       "      <th>50sw</th>\n",
       "      <th>64ne</th>\n",
       "      <th>64nw</th>\n",
       "      <th>64se</th>\n",
       "      <th>64sw</th>\n",
       "      <th>lat</th>\n",
       "      <th>lon</th>\n",
       "      <th>pcenter</th>\n",
       "      <th>rmax</th>\n",
       "      <th>t</th>\n",
       "      <th>vmax</th>\n",
       "      <th>dp</th>\n",
       "    </tr>\n",
       "  </thead>\n",
       "  <tbody>\n",
       "    <tr>\n",
       "      <th>5</th>\n",
       "      <td>0.0</td>\n",
       "      <td>0.0</td>\n",
       "      <td>0.0</td>\n",
       "      <td>0.0</td>\n",
       "      <td>0.0</td>\n",
       "      <td>0.0</td>\n",
       "      <td>0.0</td>\n",
       "      <td>0.0</td>\n",
       "      <td>0.0</td>\n",
       "      <td>0.0</td>\n",
       "      <td>0.0</td>\n",
       "      <td>0.0</td>\n",
       "      <td>-7.5</td>\n",
       "      <td>168.899994</td>\n",
       "      <td>1004.0</td>\n",
       "      <td>92600.0</td>\n",
       "      <td>2015-03-08 12:00:00</td>\n",
       "      <td>25.0</td>\n",
       "      <td>600.0</td>\n",
       "    </tr>\n",
       "    <tr>\n",
       "      <th>6</th>\n",
       "      <td>0.0</td>\n",
       "      <td>0.0</td>\n",
       "      <td>0.0</td>\n",
       "      <td>0.0</td>\n",
       "      <td>0.0</td>\n",
       "      <td>0.0</td>\n",
       "      <td>0.0</td>\n",
       "      <td>0.0</td>\n",
       "      <td>0.0</td>\n",
       "      <td>0.0</td>\n",
       "      <td>0.0</td>\n",
       "      <td>0.0</td>\n",
       "      <td>-7.8</td>\n",
       "      <td>169.199997</td>\n",
       "      <td>1000.0</td>\n",
       "      <td>92600.0</td>\n",
       "      <td>2015-03-08 18:00:00</td>\n",
       "      <td>30.0</td>\n",
       "      <td>1000.0</td>\n",
       "    </tr>\n",
       "    <tr>\n",
       "      <th>7</th>\n",
       "      <td>0.0</td>\n",
       "      <td>0.0</td>\n",
       "      <td>0.0</td>\n",
       "      <td>0.0</td>\n",
       "      <td>0.0</td>\n",
       "      <td>0.0</td>\n",
       "      <td>0.0</td>\n",
       "      <td>0.0</td>\n",
       "      <td>0.0</td>\n",
       "      <td>0.0</td>\n",
       "      <td>0.0</td>\n",
       "      <td>0.0</td>\n",
       "      <td>-8.1</td>\n",
       "      <td>169.600006</td>\n",
       "      <td>1000.0</td>\n",
       "      <td>92600.0</td>\n",
       "      <td>2015-03-09 00:00:00</td>\n",
       "      <td>30.0</td>\n",
       "      <td>1000.0</td>\n",
       "    </tr>\n",
       "    <tr>\n",
       "      <th>8</th>\n",
       "      <td>0.0</td>\n",
       "      <td>0.0</td>\n",
       "      <td>0.0</td>\n",
       "      <td>0.0</td>\n",
       "      <td>0.0</td>\n",
       "      <td>0.0</td>\n",
       "      <td>0.0</td>\n",
       "      <td>0.0</td>\n",
       "      <td>0.0</td>\n",
       "      <td>0.0</td>\n",
       "      <td>0.0</td>\n",
       "      <td>0.0</td>\n",
       "      <td>-8.5</td>\n",
       "      <td>170.100006</td>\n",
       "      <td>996.0</td>\n",
       "      <td>92600.0</td>\n",
       "      <td>2015-03-09 06:00:00</td>\n",
       "      <td>35.0</td>\n",
       "      <td>1400.0</td>\n",
       "    </tr>\n",
       "    <tr>\n",
       "      <th>9</th>\n",
       "      <td>30.0</td>\n",
       "      <td>30.0</td>\n",
       "      <td>30.0</td>\n",
       "      <td>25.0</td>\n",
       "      <td>0.0</td>\n",
       "      <td>0.0</td>\n",
       "      <td>0.0</td>\n",
       "      <td>0.0</td>\n",
       "      <td>0.0</td>\n",
       "      <td>0.0</td>\n",
       "      <td>0.0</td>\n",
       "      <td>0.0</td>\n",
       "      <td>-9.0</td>\n",
       "      <td>170.600006</td>\n",
       "      <td>989.0</td>\n",
       "      <td>55560.0</td>\n",
       "      <td>2015-03-09 12:00:00</td>\n",
       "      <td>45.0</td>\n",
       "      <td>2100.0</td>\n",
       "    </tr>\n",
       "  </tbody>\n",
       "</table>\n",
       "</div>"
      ],
      "text/plain": [
       "   34ne  34nw  34se  34sw  50ne  50nw  50se  50sw  64ne  64nw  64se  64sw  \\\n",
       "5   0.0   0.0   0.0   0.0   0.0   0.0   0.0   0.0   0.0   0.0   0.0   0.0   \n",
       "6   0.0   0.0   0.0   0.0   0.0   0.0   0.0   0.0   0.0   0.0   0.0   0.0   \n",
       "7   0.0   0.0   0.0   0.0   0.0   0.0   0.0   0.0   0.0   0.0   0.0   0.0   \n",
       "8   0.0   0.0   0.0   0.0   0.0   0.0   0.0   0.0   0.0   0.0   0.0   0.0   \n",
       "9  30.0  30.0  30.0  25.0   0.0   0.0   0.0   0.0   0.0   0.0   0.0   0.0   \n",
       "\n",
       "   lat         lon  pcenter     rmax                   t  vmax      dp  \n",
       "5 -7.5  168.899994   1004.0  92600.0 2015-03-08 12:00:00  25.0   600.0  \n",
       "6 -7.8  169.199997   1000.0  92600.0 2015-03-08 18:00:00  30.0  1000.0  \n",
       "7 -8.1  169.600006   1000.0  92600.0 2015-03-09 00:00:00  30.0  1000.0  \n",
       "8 -8.5  170.100006    996.0  92600.0 2015-03-09 06:00:00  35.0  1400.0  \n",
       "9 -9.0  170.600006    989.0  55560.0 2015-03-09 12:00:00  45.0  2100.0  "
      ]
     },
     "execution_count": 133,
     "metadata": {},
     "output_type": "execute_result"
    }
   ],
   "source": [
    "inpData.head()"
   ]
  },
  {
   "cell_type": "code",
   "execution_count": 136,
   "metadata": {
    "collapsed": false
   },
   "outputs": [
    {
     "data": {
      "text/plain": [
       "Timestamp('2015-03-08 12:00:00')"
      ]
     },
     "execution_count": 136,
     "metadata": {},
     "output_type": "execute_result"
    }
   ],
   "source": [
    "inpData.t.iloc[0]"
   ]
  },
  {
   "cell_type": "code",
   "execution_count": 137,
   "metadata": {
    "collapsed": false
   },
   "outputs": [],
   "source": [
    "inpData['time']=inpData['t']-inpData.t.iloc[0]"
   ]
  },
  {
   "cell_type": "code",
   "execution_count": 139,
   "metadata": {
    "collapsed": false
   },
   "outputs": [],
   "source": [
    "inpData['time']=inpData['time'] / pd.Timedelta('1 hour')"
   ]
  },
  {
   "cell_type": "code",
   "execution_count": 141,
   "metadata": {
    "collapsed": false
   },
   "outputs": [
    {
     "data": {
      "text/html": [
       "<div>\n",
       "<table border=\"1\" class=\"dataframe\">\n",
       "  <thead>\n",
       "    <tr style=\"text-align: right;\">\n",
       "      <th></th>\n",
       "      <th>34ne</th>\n",
       "      <th>34nw</th>\n",
       "      <th>34se</th>\n",
       "      <th>34sw</th>\n",
       "      <th>50ne</th>\n",
       "      <th>50nw</th>\n",
       "      <th>50se</th>\n",
       "      <th>50sw</th>\n",
       "      <th>64ne</th>\n",
       "      <th>64nw</th>\n",
       "      <th>64se</th>\n",
       "      <th>64sw</th>\n",
       "      <th>lat</th>\n",
       "      <th>lon</th>\n",
       "      <th>pcenter</th>\n",
       "      <th>rmax</th>\n",
       "      <th>t</th>\n",
       "      <th>vmax</th>\n",
       "      <th>dp</th>\n",
       "    </tr>\n",
       "    <tr>\n",
       "      <th>time</th>\n",
       "      <th></th>\n",
       "      <th></th>\n",
       "      <th></th>\n",
       "      <th></th>\n",
       "      <th></th>\n",
       "      <th></th>\n",
       "      <th></th>\n",
       "      <th></th>\n",
       "      <th></th>\n",
       "      <th></th>\n",
       "      <th></th>\n",
       "      <th></th>\n",
       "      <th></th>\n",
       "      <th></th>\n",
       "      <th></th>\n",
       "      <th></th>\n",
       "      <th></th>\n",
       "      <th></th>\n",
       "      <th></th>\n",
       "    </tr>\n",
       "  </thead>\n",
       "  <tbody>\n",
       "    <tr>\n",
       "      <th>0.0</th>\n",
       "      <td>0.0</td>\n",
       "      <td>0.0</td>\n",
       "      <td>0.0</td>\n",
       "      <td>0.0</td>\n",
       "      <td>0.0</td>\n",
       "      <td>0.0</td>\n",
       "      <td>0.0</td>\n",
       "      <td>0.0</td>\n",
       "      <td>0.0</td>\n",
       "      <td>0.0</td>\n",
       "      <td>0.0</td>\n",
       "      <td>0.0</td>\n",
       "      <td>-7.5</td>\n",
       "      <td>168.899994</td>\n",
       "      <td>1004.0</td>\n",
       "      <td>92600.0</td>\n",
       "      <td>2015-03-08 12:00:00</td>\n",
       "      <td>25.0</td>\n",
       "      <td>600.0</td>\n",
       "    </tr>\n",
       "    <tr>\n",
       "      <th>6.0</th>\n",
       "      <td>0.0</td>\n",
       "      <td>0.0</td>\n",
       "      <td>0.0</td>\n",
       "      <td>0.0</td>\n",
       "      <td>0.0</td>\n",
       "      <td>0.0</td>\n",
       "      <td>0.0</td>\n",
       "      <td>0.0</td>\n",
       "      <td>0.0</td>\n",
       "      <td>0.0</td>\n",
       "      <td>0.0</td>\n",
       "      <td>0.0</td>\n",
       "      <td>-7.8</td>\n",
       "      <td>169.199997</td>\n",
       "      <td>1000.0</td>\n",
       "      <td>92600.0</td>\n",
       "      <td>2015-03-08 18:00:00</td>\n",
       "      <td>30.0</td>\n",
       "      <td>1000.0</td>\n",
       "    </tr>\n",
       "    <tr>\n",
       "      <th>12.0</th>\n",
       "      <td>0.0</td>\n",
       "      <td>0.0</td>\n",
       "      <td>0.0</td>\n",
       "      <td>0.0</td>\n",
       "      <td>0.0</td>\n",
       "      <td>0.0</td>\n",
       "      <td>0.0</td>\n",
       "      <td>0.0</td>\n",
       "      <td>0.0</td>\n",
       "      <td>0.0</td>\n",
       "      <td>0.0</td>\n",
       "      <td>0.0</td>\n",
       "      <td>-8.1</td>\n",
       "      <td>169.600006</td>\n",
       "      <td>1000.0</td>\n",
       "      <td>92600.0</td>\n",
       "      <td>2015-03-09 00:00:00</td>\n",
       "      <td>30.0</td>\n",
       "      <td>1000.0</td>\n",
       "    </tr>\n",
       "    <tr>\n",
       "      <th>18.0</th>\n",
       "      <td>0.0</td>\n",
       "      <td>0.0</td>\n",
       "      <td>0.0</td>\n",
       "      <td>0.0</td>\n",
       "      <td>0.0</td>\n",
       "      <td>0.0</td>\n",
       "      <td>0.0</td>\n",
       "      <td>0.0</td>\n",
       "      <td>0.0</td>\n",
       "      <td>0.0</td>\n",
       "      <td>0.0</td>\n",
       "      <td>0.0</td>\n",
       "      <td>-8.5</td>\n",
       "      <td>170.100006</td>\n",
       "      <td>996.0</td>\n",
       "      <td>92600.0</td>\n",
       "      <td>2015-03-09 06:00:00</td>\n",
       "      <td>35.0</td>\n",
       "      <td>1400.0</td>\n",
       "    </tr>\n",
       "    <tr>\n",
       "      <th>24.0</th>\n",
       "      <td>30.0</td>\n",
       "      <td>30.0</td>\n",
       "      <td>30.0</td>\n",
       "      <td>25.0</td>\n",
       "      <td>0.0</td>\n",
       "      <td>0.0</td>\n",
       "      <td>0.0</td>\n",
       "      <td>0.0</td>\n",
       "      <td>0.0</td>\n",
       "      <td>0.0</td>\n",
       "      <td>0.0</td>\n",
       "      <td>0.0</td>\n",
       "      <td>-9.0</td>\n",
       "      <td>170.600006</td>\n",
       "      <td>989.0</td>\n",
       "      <td>55560.0</td>\n",
       "      <td>2015-03-09 12:00:00</td>\n",
       "      <td>45.0</td>\n",
       "      <td>2100.0</td>\n",
       "    </tr>\n",
       "    <tr>\n",
       "      <th>30.0</th>\n",
       "      <td>70.0</td>\n",
       "      <td>60.0</td>\n",
       "      <td>65.0</td>\n",
       "      <td>75.0</td>\n",
       "      <td>25.0</td>\n",
       "      <td>20.0</td>\n",
       "      <td>20.0</td>\n",
       "      <td>25.0</td>\n",
       "      <td>0.0</td>\n",
       "      <td>0.0</td>\n",
       "      <td>0.0</td>\n",
       "      <td>0.0</td>\n",
       "      <td>-9.3</td>\n",
       "      <td>170.500000</td>\n",
       "      <td>982.0</td>\n",
       "      <td>37040.0</td>\n",
       "      <td>2015-03-09 18:00:00</td>\n",
       "      <td>55.0</td>\n",
       "      <td>2800.0</td>\n",
       "    </tr>\n",
       "    <tr>\n",
       "      <th>36.0</th>\n",
       "      <td>70.0</td>\n",
       "      <td>60.0</td>\n",
       "      <td>65.0</td>\n",
       "      <td>75.0</td>\n",
       "      <td>25.0</td>\n",
       "      <td>20.0</td>\n",
       "      <td>20.0</td>\n",
       "      <td>25.0</td>\n",
       "      <td>0.0</td>\n",
       "      <td>0.0</td>\n",
       "      <td>0.0</td>\n",
       "      <td>0.0</td>\n",
       "      <td>-9.7</td>\n",
       "      <td>170.500000</td>\n",
       "      <td>978.0</td>\n",
       "      <td>37040.0</td>\n",
       "      <td>2015-03-10 00:00:00</td>\n",
       "      <td>60.0</td>\n",
       "      <td>3200.0</td>\n",
       "    </tr>\n",
       "    <tr>\n",
       "      <th>42.0</th>\n",
       "      <td>70.0</td>\n",
       "      <td>65.0</td>\n",
       "      <td>65.0</td>\n",
       "      <td>75.0</td>\n",
       "      <td>25.0</td>\n",
       "      <td>20.0</td>\n",
       "      <td>20.0</td>\n",
       "      <td>25.0</td>\n",
       "      <td>0.0</td>\n",
       "      <td>0.0</td>\n",
       "      <td>0.0</td>\n",
       "      <td>0.0</td>\n",
       "      <td>-10.2</td>\n",
       "      <td>170.500000</td>\n",
       "      <td>974.0</td>\n",
       "      <td>37040.0</td>\n",
       "      <td>2015-03-10 06:00:00</td>\n",
       "      <td>65.0</td>\n",
       "      <td>3600.0</td>\n",
       "    </tr>\n",
       "  </tbody>\n",
       "</table>\n",
       "</div>"
      ],
      "text/plain": [
       "      34ne  34nw  34se  34sw  50ne  50nw  50se  50sw  64ne  64nw  64se  64sw  \\\n",
       "time                                                                           \n",
       "0.0    0.0   0.0   0.0   0.0   0.0   0.0   0.0   0.0   0.0   0.0   0.0   0.0   \n",
       "6.0    0.0   0.0   0.0   0.0   0.0   0.0   0.0   0.0   0.0   0.0   0.0   0.0   \n",
       "12.0   0.0   0.0   0.0   0.0   0.0   0.0   0.0   0.0   0.0   0.0   0.0   0.0   \n",
       "18.0   0.0   0.0   0.0   0.0   0.0   0.0   0.0   0.0   0.0   0.0   0.0   0.0   \n",
       "24.0  30.0  30.0  30.0  25.0   0.0   0.0   0.0   0.0   0.0   0.0   0.0   0.0   \n",
       "30.0  70.0  60.0  65.0  75.0  25.0  20.0  20.0  25.0   0.0   0.0   0.0   0.0   \n",
       "36.0  70.0  60.0  65.0  75.0  25.0  20.0  20.0  25.0   0.0   0.0   0.0   0.0   \n",
       "42.0  70.0  65.0  65.0  75.0  25.0  20.0  20.0  25.0   0.0   0.0   0.0   0.0   \n",
       "\n",
       "       lat         lon  pcenter     rmax                   t  vmax      dp  \n",
       "time                                                                        \n",
       "0.0   -7.5  168.899994   1004.0  92600.0 2015-03-08 12:00:00  25.0   600.0  \n",
       "6.0   -7.8  169.199997   1000.0  92600.0 2015-03-08 18:00:00  30.0  1000.0  \n",
       "12.0  -8.1  169.600006   1000.0  92600.0 2015-03-09 00:00:00  30.0  1000.0  \n",
       "18.0  -8.5  170.100006    996.0  92600.0 2015-03-09 06:00:00  35.0  1400.0  \n",
       "24.0  -9.0  170.600006    989.0  55560.0 2015-03-09 12:00:00  45.0  2100.0  \n",
       "30.0  -9.3  170.500000    982.0  37040.0 2015-03-09 18:00:00  55.0  2800.0  \n",
       "36.0  -9.7  170.500000    978.0  37040.0 2015-03-10 00:00:00  60.0  3200.0  \n",
       "42.0 -10.2  170.500000    974.0  37040.0 2015-03-10 06:00:00  65.0  3600.0  "
      ]
     },
     "execution_count": 141,
     "metadata": {},
     "output_type": "execute_result"
    }
   ],
   "source": [
    "inpData=inpData.set_index('time')\n",
    "inpData"
   ]
  },
  {
   "cell_type": "markdown",
   "metadata": {},
   "source": [
    "## convert to SI"
   ]
  },
  {
   "cell_type": "code",
   "execution_count": 142,
   "metadata": {
    "collapsed": false
   },
   "outputs": [],
   "source": [
    "inpData['vmax']=inpData['vmax']*kt2ms"
   ]
  },
  {
   "cell_type": "code",
   "execution_count": 143,
   "metadata": {
    "collapsed": false
   },
   "outputs": [],
   "source": [
    "inpData[['64ne','64se','64sw','64nw','50ne','50se','50sw','50nw','34ne','34se','34sw','34nw']]=inpData[['64ne','64se','64sw','64nw','50ne','50se','50sw','50nw','34ne','34se','34sw','34nw']]*nm2m"
   ]
  },
  {
   "cell_type": "code",
   "execution_count": 147,
   "metadata": {
    "collapsed": false
   },
   "outputs": [
    {
     "data": {
      "text/html": [
       "<div>\n",
       "<table border=\"1\" class=\"dataframe\">\n",
       "  <thead>\n",
       "    <tr style=\"text-align: right;\">\n",
       "      <th></th>\n",
       "      <th>34ne</th>\n",
       "      <th>34nw</th>\n",
       "      <th>34se</th>\n",
       "      <th>34sw</th>\n",
       "      <th>50ne</th>\n",
       "      <th>50nw</th>\n",
       "      <th>50se</th>\n",
       "      <th>50sw</th>\n",
       "      <th>64ne</th>\n",
       "      <th>64nw</th>\n",
       "      <th>64se</th>\n",
       "      <th>64sw</th>\n",
       "      <th>lat</th>\n",
       "      <th>lon</th>\n",
       "      <th>pcenter</th>\n",
       "      <th>rmax</th>\n",
       "      <th>t</th>\n",
       "      <th>vmax</th>\n",
       "      <th>dp</th>\n",
       "    </tr>\n",
       "    <tr>\n",
       "      <th>time</th>\n",
       "      <th></th>\n",
       "      <th></th>\n",
       "      <th></th>\n",
       "      <th></th>\n",
       "      <th></th>\n",
       "      <th></th>\n",
       "      <th></th>\n",
       "      <th></th>\n",
       "      <th></th>\n",
       "      <th></th>\n",
       "      <th></th>\n",
       "      <th></th>\n",
       "      <th></th>\n",
       "      <th></th>\n",
       "      <th></th>\n",
       "      <th></th>\n",
       "      <th></th>\n",
       "      <th></th>\n",
       "      <th></th>\n",
       "    </tr>\n",
       "  </thead>\n",
       "  <tbody>\n",
       "    <tr>\n",
       "      <th>0.0</th>\n",
       "      <td>0.0</td>\n",
       "      <td>0.0</td>\n",
       "      <td>0.0</td>\n",
       "      <td>0.0</td>\n",
       "      <td>0.0</td>\n",
       "      <td>0.0</td>\n",
       "      <td>0.0</td>\n",
       "      <td>0.0</td>\n",
       "      <td>0.0</td>\n",
       "      <td>0.0</td>\n",
       "      <td>0.0</td>\n",
       "      <td>0.0</td>\n",
       "      <td>-7.5</td>\n",
       "      <td>168.899994</td>\n",
       "      <td>1004.0</td>\n",
       "      <td>92600.0</td>\n",
       "      <td>2015-03-08 12:00:00</td>\n",
       "      <td>12.861111</td>\n",
       "      <td>600.0</td>\n",
       "    </tr>\n",
       "    <tr>\n",
       "      <th>6.0</th>\n",
       "      <td>0.0</td>\n",
       "      <td>0.0</td>\n",
       "      <td>0.0</td>\n",
       "      <td>0.0</td>\n",
       "      <td>0.0</td>\n",
       "      <td>0.0</td>\n",
       "      <td>0.0</td>\n",
       "      <td>0.0</td>\n",
       "      <td>0.0</td>\n",
       "      <td>0.0</td>\n",
       "      <td>0.0</td>\n",
       "      <td>0.0</td>\n",
       "      <td>-7.8</td>\n",
       "      <td>169.199997</td>\n",
       "      <td>1000.0</td>\n",
       "      <td>92600.0</td>\n",
       "      <td>2015-03-08 18:00:00</td>\n",
       "      <td>15.433333</td>\n",
       "      <td>1000.0</td>\n",
       "    </tr>\n",
       "    <tr>\n",
       "      <th>12.0</th>\n",
       "      <td>0.0</td>\n",
       "      <td>0.0</td>\n",
       "      <td>0.0</td>\n",
       "      <td>0.0</td>\n",
       "      <td>0.0</td>\n",
       "      <td>0.0</td>\n",
       "      <td>0.0</td>\n",
       "      <td>0.0</td>\n",
       "      <td>0.0</td>\n",
       "      <td>0.0</td>\n",
       "      <td>0.0</td>\n",
       "      <td>0.0</td>\n",
       "      <td>-8.1</td>\n",
       "      <td>169.600006</td>\n",
       "      <td>1000.0</td>\n",
       "      <td>92600.0</td>\n",
       "      <td>2015-03-09 00:00:00</td>\n",
       "      <td>15.433333</td>\n",
       "      <td>1000.0</td>\n",
       "    </tr>\n",
       "    <tr>\n",
       "      <th>18.0</th>\n",
       "      <td>0.0</td>\n",
       "      <td>0.0</td>\n",
       "      <td>0.0</td>\n",
       "      <td>0.0</td>\n",
       "      <td>0.0</td>\n",
       "      <td>0.0</td>\n",
       "      <td>0.0</td>\n",
       "      <td>0.0</td>\n",
       "      <td>0.0</td>\n",
       "      <td>0.0</td>\n",
       "      <td>0.0</td>\n",
       "      <td>0.0</td>\n",
       "      <td>-8.5</td>\n",
       "      <td>170.100006</td>\n",
       "      <td>996.0</td>\n",
       "      <td>92600.0</td>\n",
       "      <td>2015-03-09 06:00:00</td>\n",
       "      <td>18.005556</td>\n",
       "      <td>1400.0</td>\n",
       "    </tr>\n",
       "    <tr>\n",
       "      <th>24.0</th>\n",
       "      <td>55560.0</td>\n",
       "      <td>55560.0</td>\n",
       "      <td>55560.0</td>\n",
       "      <td>46300.0</td>\n",
       "      <td>0.0</td>\n",
       "      <td>0.0</td>\n",
       "      <td>0.0</td>\n",
       "      <td>0.0</td>\n",
       "      <td>0.0</td>\n",
       "      <td>0.0</td>\n",
       "      <td>0.0</td>\n",
       "      <td>0.0</td>\n",
       "      <td>-9.0</td>\n",
       "      <td>170.600006</td>\n",
       "      <td>989.0</td>\n",
       "      <td>55560.0</td>\n",
       "      <td>2015-03-09 12:00:00</td>\n",
       "      <td>23.150000</td>\n",
       "      <td>2100.0</td>\n",
       "    </tr>\n",
       "    <tr>\n",
       "      <th>30.0</th>\n",
       "      <td>129640.0</td>\n",
       "      <td>111120.0</td>\n",
       "      <td>120380.0</td>\n",
       "      <td>138900.0</td>\n",
       "      <td>46300.0</td>\n",
       "      <td>37040.0</td>\n",
       "      <td>37040.0</td>\n",
       "      <td>46300.0</td>\n",
       "      <td>0.0</td>\n",
       "      <td>0.0</td>\n",
       "      <td>0.0</td>\n",
       "      <td>0.0</td>\n",
       "      <td>-9.3</td>\n",
       "      <td>170.500000</td>\n",
       "      <td>982.0</td>\n",
       "      <td>37040.0</td>\n",
       "      <td>2015-03-09 18:00:00</td>\n",
       "      <td>28.294444</td>\n",
       "      <td>2800.0</td>\n",
       "    </tr>\n",
       "    <tr>\n",
       "      <th>36.0</th>\n",
       "      <td>129640.0</td>\n",
       "      <td>111120.0</td>\n",
       "      <td>120380.0</td>\n",
       "      <td>138900.0</td>\n",
       "      <td>46300.0</td>\n",
       "      <td>37040.0</td>\n",
       "      <td>37040.0</td>\n",
       "      <td>46300.0</td>\n",
       "      <td>0.0</td>\n",
       "      <td>0.0</td>\n",
       "      <td>0.0</td>\n",
       "      <td>0.0</td>\n",
       "      <td>-9.7</td>\n",
       "      <td>170.500000</td>\n",
       "      <td>978.0</td>\n",
       "      <td>37040.0</td>\n",
       "      <td>2015-03-10 00:00:00</td>\n",
       "      <td>30.866667</td>\n",
       "      <td>3200.0</td>\n",
       "    </tr>\n",
       "    <tr>\n",
       "      <th>42.0</th>\n",
       "      <td>129640.0</td>\n",
       "      <td>120380.0</td>\n",
       "      <td>120380.0</td>\n",
       "      <td>138900.0</td>\n",
       "      <td>46300.0</td>\n",
       "      <td>37040.0</td>\n",
       "      <td>37040.0</td>\n",
       "      <td>46300.0</td>\n",
       "      <td>0.0</td>\n",
       "      <td>0.0</td>\n",
       "      <td>0.0</td>\n",
       "      <td>0.0</td>\n",
       "      <td>-10.2</td>\n",
       "      <td>170.500000</td>\n",
       "      <td>974.0</td>\n",
       "      <td>37040.0</td>\n",
       "      <td>2015-03-10 06:00:00</td>\n",
       "      <td>33.438889</td>\n",
       "      <td>3600.0</td>\n",
       "    </tr>\n",
       "  </tbody>\n",
       "</table>\n",
       "</div>"
      ],
      "text/plain": [
       "          34ne      34nw      34se      34sw     50ne     50nw     50se  \\\n",
       "time                                                                      \n",
       "0.0        0.0       0.0       0.0       0.0      0.0      0.0      0.0   \n",
       "6.0        0.0       0.0       0.0       0.0      0.0      0.0      0.0   \n",
       "12.0       0.0       0.0       0.0       0.0      0.0      0.0      0.0   \n",
       "18.0       0.0       0.0       0.0       0.0      0.0      0.0      0.0   \n",
       "24.0   55560.0   55560.0   55560.0   46300.0      0.0      0.0      0.0   \n",
       "30.0  129640.0  111120.0  120380.0  138900.0  46300.0  37040.0  37040.0   \n",
       "36.0  129640.0  111120.0  120380.0  138900.0  46300.0  37040.0  37040.0   \n",
       "42.0  129640.0  120380.0  120380.0  138900.0  46300.0  37040.0  37040.0   \n",
       "\n",
       "         50sw  64ne  64nw  64se  64sw   lat         lon  pcenter     rmax  \\\n",
       "time                                                                        \n",
       "0.0       0.0   0.0   0.0   0.0   0.0  -7.5  168.899994   1004.0  92600.0   \n",
       "6.0       0.0   0.0   0.0   0.0   0.0  -7.8  169.199997   1000.0  92600.0   \n",
       "12.0      0.0   0.0   0.0   0.0   0.0  -8.1  169.600006   1000.0  92600.0   \n",
       "18.0      0.0   0.0   0.0   0.0   0.0  -8.5  170.100006    996.0  92600.0   \n",
       "24.0      0.0   0.0   0.0   0.0   0.0  -9.0  170.600006    989.0  55560.0   \n",
       "30.0  46300.0   0.0   0.0   0.0   0.0  -9.3  170.500000    982.0  37040.0   \n",
       "36.0  46300.0   0.0   0.0   0.0   0.0  -9.7  170.500000    978.0  37040.0   \n",
       "42.0  46300.0   0.0   0.0   0.0   0.0 -10.2  170.500000    974.0  37040.0   \n",
       "\n",
       "                       t       vmax      dp  \n",
       "time                                         \n",
       "0.0  2015-03-08 12:00:00  12.861111   600.0  \n",
       "6.0  2015-03-08 18:00:00  15.433333  1000.0  \n",
       "12.0 2015-03-09 00:00:00  15.433333  1000.0  \n",
       "18.0 2015-03-09 06:00:00  18.005556  1400.0  \n",
       "24.0 2015-03-09 12:00:00  23.150000  2100.0  \n",
       "30.0 2015-03-09 18:00:00  28.294444  2800.0  \n",
       "36.0 2015-03-10 00:00:00  30.866667  3200.0  \n",
       "42.0 2015-03-10 06:00:00  33.438889  3600.0  "
      ]
     },
     "execution_count": 147,
     "metadata": {},
     "output_type": "execute_result"
    }
   ],
   "source": [
    "inpData"
   ]
  },
  {
   "cell_type": "markdown",
   "metadata": {},
   "source": [
    "## save inpData file"
   ]
  },
  {
   "cell_type": "code",
   "execution_count": 150,
   "metadata": {
    "collapsed": true
   },
   "outputs": [],
   "source": [
    "column_order=['lat','lon','dp','vmax','64ne','64se','64sw','64nw','50ne','50se','50sw','50nw','34ne','34se','34sw','34nw']"
   ]
  },
  {
   "cell_type": "code",
   "execution_count": 152,
   "metadata": {
    "collapsed": true
   },
   "outputs": [],
   "source": [
    "header=['lat','long','dp','vmax','64ne','64se','64sw','64nw','50ne','50se','50sw','50nw','34ne','34se','34sw','34nw']"
   ]
  },
  {
   "cell_type": "code",
   "execution_count": 153,
   "metadata": {
    "collapsed": false
   },
   "outputs": [],
   "source": [
    "inpData.to_csv('tmp/inpDataBT.txt',index=True, columns=column_order, sep='\\t', header=header)"
   ]
  },
  {
   "cell_type": "markdown",
   "metadata": {},
   "source": [
    "### create bulInfo.txt file"
   ]
  },
  {
   "cell_type": "code",
   "execution_count": 71,
   "metadata": {
    "collapsed": false
   },
   "outputs": [],
   "source": [
    "tt=pd.to_datetime(isot1[0])"
   ]
  },
  {
   "cell_type": "code",
   "execution_count": 72,
   "metadata": {
    "collapsed": false
   },
   "outputs": [],
   "source": [
    "tt=datetime.datetime.strftime(tt,'%d %b %Y %H:%M:%S')"
   ]
  },
  {
   "cell_type": "code",
   "execution_count": 73,
   "metadata": {
    "collapsed": true
   },
   "outputs": [],
   "source": [
    "dic0={'advNo':[1],'tShift':[0],'$date':tt,'land':[1],'notes':[0]}"
   ]
  },
  {
   "cell_type": "code",
   "execution_count": 74,
   "metadata": {
    "collapsed": false
   },
   "outputs": [],
   "source": [
    "bul=pd.DataFrame.from_dict(dic0)"
   ]
  },
  {
   "cell_type": "code",
   "execution_count": 75,
   "metadata": {
    "collapsed": false
   },
   "outputs": [
    {
     "data": {
      "text/html": [
       "<div>\n",
       "<table border=\"1\" class=\"dataframe\">\n",
       "  <thead>\n",
       "    <tr style=\"text-align: right;\">\n",
       "      <th></th>\n",
       "      <th>$date</th>\n",
       "      <th>advNo</th>\n",
       "      <th>land</th>\n",
       "      <th>notes</th>\n",
       "      <th>tShift</th>\n",
       "    </tr>\n",
       "  </thead>\n",
       "  <tbody>\n",
       "    <tr>\n",
       "      <th>0</th>\n",
       "      <td>07 Mar 2015 06:00:00</td>\n",
       "      <td>1</td>\n",
       "      <td>1</td>\n",
       "      <td>0</td>\n",
       "      <td>0</td>\n",
       "    </tr>\n",
       "  </tbody>\n",
       "</table>\n",
       "</div>"
      ],
      "text/plain": [
       "                  $date  advNo  land  notes  tShift\n",
       "0  07 Mar 2015 06:00:00      1     1      0       0"
      ]
     },
     "execution_count": 75,
     "metadata": {},
     "output_type": "execute_result"
    }
   ],
   "source": [
    "bul"
   ]
  },
  {
   "cell_type": "code",
   "execution_count": 76,
   "metadata": {
    "collapsed": false
   },
   "outputs": [],
   "source": [
    "bul.to_csv('tmp/bulInfo.txt',index=False, columns=['advNo','tShift','$date','land','notes'], sep='\\t')"
   ]
  },
  {
   "cell_type": "markdown",
   "metadata": {},
   "source": [
    "### create info.xml file"
   ]
  },
  {
   "cell_type": "code",
   "execution_count": 79,
   "metadata": {
    "collapsed": true
   },
   "outputs": [],
   "source": [
    "import xml.etree.ElementTree as et \n",
    "from xml.dom import minidom\n",
    "\n",
    "def prettify(elem):\n",
    "    \"\"\"Return a pretty-printed XML string for the Element.\n",
    "    \"\"\"\n",
    "    rough_string = et.tostring(elem, 'utf-8')\n",
    "    reparsed = minidom.parseString(rough_string)\n",
    "    return reparsed.toprettyxml(indent=\"  \")"
   ]
  },
  {
   "cell_type": "code",
   "execution_count": 107,
   "metadata": {
    "collapsed": true
   },
   "outputs": [],
   "source": [
    "info = et.Element('setexp')\n",
    "et.SubElement(info, 'source').text = 'Tropical Cyclone Bulletin through GDACS/PDC'\n",
    "et.SubElement(info, 'hurName').text = hurName\n",
    "et.SubElement(info, 'hurId').text = hurName\n",
    "et.SubElement(info, 'basin').text = ntc[0].strip()\n",
    "et.SubElement(info, 'bulNo').text = '1'\n",
    "et.SubElement(info, 'bulDate').text = tt\n",
    "et.SubElement(info, 'n').text = '100000'\n",
    "et.SubElement(info, 'fk').text = '0.81'\n",
    "et.SubElement(info, 'stormsurge').text = '0'\n",
    "et.SubElement(info, 'timefactor').text = '1'\n",
    "et.SubElement(info, 'landfall').text = '1'"
   ]
  },
  {
   "cell_type": "code",
   "execution_count": 116,
   "metadata": {
    "collapsed": false
   },
   "outputs": [],
   "source": [
    "xmlf = minidom.parseString(prettify(info))"
   ]
  },
  {
   "cell_type": "code",
   "execution_count": 117,
   "metadata": {
    "collapsed": false
   },
   "outputs": [],
   "source": [
    "with open('tmp/info.xml','w') as f:\n",
    "      xmlf.writexml(f)"
   ]
  },
  {
   "cell_type": "markdown",
   "metadata": {
    "collapsed": true
   },
   "source": [
    "The next step is to substract translational and coriolis velocity, see [Subtract translational and Coriolis velocity.ipynb](./Subtract translational and Coriolis velocity.ipynb)."
   ]
  },
  {
   "cell_type": "code",
   "execution_count": null,
   "metadata": {
    "collapsed": true
   },
   "outputs": [],
   "source": []
  }
 ],
 "metadata": {
  "hide_input": false,
  "kernelspec": {
   "display_name": "Python 2",
   "language": "python",
   "name": "python2"
  },
  "language_info": {
   "codemirror_mode": {
    "name": "ipython",
    "version": 2
   },
   "file_extension": ".py",
   "mimetype": "text/x-python",
   "name": "python",
   "nbconvert_exporter": "python",
   "pygments_lexer": "ipython2",
   "version": "2.7.13"
  },
  "latex_envs": {
   "bibliofile": "biblio.bib",
   "cite_by": "apalike",
   "current_citInitial": 1,
   "eqLabelWithNumbers": true,
   "eqNumInitial": 0
  }
 },
 "nbformat": 4,
 "nbformat_minor": 0
}
