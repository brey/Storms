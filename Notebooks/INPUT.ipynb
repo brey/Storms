{
 "cells": [
  {
   "cell_type": "markdown",
   "metadata": {
    "deletable": true,
    "editable": true
   },
   "source": [
    "# Real Time information Sources for Tropical Cyclones"
   ]
  },
  {
   "cell_type": "markdown",
   "metadata": {
    "deletable": true,
    "editable": true
   },
   "source": [
    "Real time information for Tropical cyclones are available from various sources. These depend on the corresponding basin since there are different designated service providers for each basin according to the World Meteological Organization (WMO). These are called 'Regional Specialized Meteorological Centres' (RSMC). In addition to those, there are Tropical Cyclone Warning Centers (TCWCs) that also provide information sometimes different from the RSMC's but generally cover a broader region. Naturally there are also the national services called 'National Meteorological and Hydrological Services' (NMHSs) which might be limited in scope. \n",
    "\n",
    "One can find more info regarding these services in http://severe.worldweather.wmo.int/."
   ]
  },
  {
   "cell_type": "markdown",
   "metadata": {
    "deletable": true,
    "editable": true
   },
   "source": [
    "The sources we rely on for now are from the National Hurricane Center (NHC), part of National Weather Service (NWS) in the US administrated by the National Oceanic & Atmospheric Administration (NOAA). More info at http://www.noaa.gov/.\n",
    "\n",
    "The NHC is located at http://www.nhc.noaa.gov/ for Atlantic (including Caribbean Sea-Gulf of Mexico) and Easter Pacific Basins. Note that according to WMO this is the designated RSMC based in Miami, FL USA.\n",
    "\n",
    "For Central North Pacific the corresponding RMSC is again NWS but now based in Honolulu, Hawaii http://www.prh.noaa.gov/pr/hnl.\n",
    "\n",
    "For western north pacific the designated RSMC is the Tokyo-Typhoon Center (http://www.jma.go.jp/en/typh/index.html) but the Joint Typhoon Warning Center (JTWC) based also in Hawaii is providing bulletins (Warnings) for the general Pacific and Indian basins. Note that the JTWC is in fact a US military service made availbale to the public, see http://www.usno.navy.mil/. \n",
    "\n",
    "For the north Indian Ocean, the RMSC is the Indian Meteorological Dept. with info and data found at http://www.rsmcnewdelhi.imd.gov.in/index.php?lang=en.\n",
    "\n",
    "Finally for the area around Australia the TCWC provider is the Australian Bureau of Meteorology http://www.bom.gov.au/cyclone/index.shtml."
   ]
  },
  {
   "cell_type": "markdown",
   "metadata": {
    "deletable": true,
    "editable": true
   },
   "source": [
    "Note that the above sources are deemed 'operational' and provide official information. An aggregate service for all available daily bulletins can be found at http://weather.unisys.com/hurricane/ (see archive link therein). "
   ]
  },
  {
   "cell_type": "markdown",
   "metadata": {
    "deletable": true,
    "editable": true
   },
   "source": [
    "## North Atlantic - Caribbean - Eastern Pacific."
   ]
  },
  {
   "cell_type": "markdown",
   "metadata": {
    "deletable": true,
    "editable": true
   },
   "source": [
    "The information in the form of bulletins comes from NOAA. At the corresponding website  http://www.nhc.noaa.gov/ information are available in a variety of forms. We download the bulletins from the corresponding RSS feeds. Namely for the referenced basins the feeds are\n",
    "\n",
    " Atlantic Basin Tropical Cyclones: http://www.nhc.noaa.gov/index-at.xml \n",
    " \n",
    " Eastern Pacific Basin Tropical Cyclones: http://www.nhc.noaa.gov/index-ep.xml\n",
    " \n",
    " More info can be found in http://www.nhc.noaa.gov/aboutrss.shtml.\n",
    " \n",
    " Each Tropical Cyclone (TC) is given a  designation based on the basin ('Eastern Pacific' = 'EP', 'Central Pacific' = 'CP', 'Atlantic' = 'AL') and a number (increasing) refering to sequence of appearance in the specific year , eg. '032015' means the 3rd one in that basin in 2015.\n",
    " \n",
    "We can view the corresponding bulletins (if available) like this  "
   ]
  },
  {
   "cell_type": "code",
   "execution_count": 6,
   "metadata": {
    "collapsed": true,
    "deletable": true,
    "editable": true
   },
   "outputs": [],
   "source": [
    "import feedparser"
   ]
  },
  {
   "cell_type": "code",
   "execution_count": 7,
   "metadata": {
    "collapsed": false,
    "deletable": true,
    "editable": true
   },
   "outputs": [],
   "source": [
    "url='http://www.nhc.noaa.gov/index-at.xml'\n",
    "\n",
    "atl=feedparser.parse(url)"
   ]
  },
  {
   "cell_type": "code",
   "execution_count": 8,
   "metadata": {
    "collapsed": false,
    "deletable": true,
    "editable": true
   },
   "outputs": [
    {
     "data": {
      "text/plain": [
       "u'The Atlantic hurricane season runs from June 1st through November 30th.'"
      ]
     },
     "execution_count": 8,
     "metadata": {},
     "output_type": "execute_result"
    }
   ],
   "source": [
    "data=atl['entries']\n",
    "data[0]['summary']"
   ]
  },
  {
   "cell_type": "markdown",
   "metadata": {
    "deletable": true,
    "editable": true
   },
   "source": [
    "or in more visually pleasing form"
   ]
  },
  {
   "cell_type": "code",
   "execution_count": 9,
   "metadata": {
    "collapsed": false,
    "deletable": true,
    "editable": true
   },
   "outputs": [],
   "source": [
    "from Storms.utils import readxml"
   ]
  },
  {
   "cell_type": "code",
   "execution_count": 10,
   "metadata": {
    "collapsed": false,
    "deletable": true,
    "editable": true
   },
   "outputs": [
    {
     "name": "stdout",
     "output_type": "stream",
     "text": [
      "Thu, 04 May 2017 09:46:39 GMT\n",
      "NHC Atlantic\n",
      "Active tropical cyclones in the Atlantic, Caribbean, and the Gulf of Mexico\n",
      "http://www.nhc.noaa.gov/\n",
      "none\n",
      "nhcwebmaster@noaa.gov (NHC Webmaster)\n",
      "en-us\n",
      "nhcwebmaster@noaa.gov (NHC Webmaster)\n",
      "http://www.nhc.noaa.gov/gifs/xml_logo_nhc.gif\n",
      "http://www.nhc.noaa.gov/\n",
      "NHC Atlantic\n",
      "NOAA logo\n",
      "95\n",
      "45\n",
      "The Atlantic hurricane season runs from June 1st through November 30th.\n",
      "The Atlantic hurricane season runs from June 1st through November 30th.\n",
      "Sat, 22 Apr 2017 23:33:01 GMT\n",
      "http://www.nhc.noaa.gov/\n",
      "http://www.nhc.noaa.gov/\n",
      "nhcwebmaster@noaa.gov (NHC Webmaster)\n"
     ]
    }
   ],
   "source": [
    "print readxml(url,'lxml')"
   ]
  },
  {
   "cell_type": "code",
   "execution_count": 11,
   "metadata": {
    "collapsed": false,
    "deletable": true,
    "editable": true
   },
   "outputs": [],
   "source": [
    "url='http://www.nhc.noaa.gov/index-ep.xml'\n",
    "\n",
    "ep=feedparser.parse(url)"
   ]
  },
  {
   "cell_type": "code",
   "execution_count": 12,
   "metadata": {
    "collapsed": false,
    "deletable": true,
    "editable": true
   },
   "outputs": [
    {
     "data": {
      "text/plain": [
       "u'The Eastern North Pacific hurricane season runs from May 15th through November 30th.'"
      ]
     },
     "execution_count": 12,
     "metadata": {},
     "output_type": "execute_result"
    }
   ],
   "source": [
    "data=ep['entries']\n",
    "data[0]['summary']"
   ]
  },
  {
   "cell_type": "code",
   "execution_count": 13,
   "metadata": {
    "collapsed": false,
    "deletable": true,
    "editable": true
   },
   "outputs": [
    {
     "name": "stdout",
     "output_type": "stream",
     "text": [
      "Thu, 04 May 2017 09:46:39 GMT\n",
      "NHC Eastern North Pacific\n",
      "Active tropical cyclones in the Eastern North Pacific\n",
      "http://www.nhc.noaa.gov/\n",
      "none\n",
      "nhcwebmaster@noaa.gov (NHC Webmaster)\n",
      "en-us\n",
      "nhcwebmaster@noaa.gov (NHC Webmaster)\n",
      "http://www.nhc.noaa.gov/gifs/xml_logo_nhc.gif\n",
      "http://www.nhc.noaa.gov/\n",
      "NHC Eastern North Pacific\n",
      "NOAA logo\n",
      "95\n",
      "45\n",
      "The Eastern North Pacific hurricane season runs from May 15th through November 30th.\n",
      "The Eastern North Pacific hurricane season runs from May 15th through November 30th.\n",
      "Thu, 01 Dec 2016 00:43:36 GMT\n",
      "http://www.nhc.noaa.gov/\n",
      "http://www.nhc.noaa.gov/\n",
      "nhcwebmaster@noaa.gov (NHC Webmaster)\n"
     ]
    }
   ],
   "source": [
    "print readxml(url,'lxml')"
   ]
  },
  {
   "cell_type": "markdown",
   "metadata": {
    "deletable": true,
    "editable": true
   },
   "source": [
    "## Central Pacific"
   ]
  },
  {
   "cell_type": "markdown",
   "metadata": {
    "deletable": true,
    "editable": true
   },
   "source": [
    "Again NOAA provides info from the dedicated site. We collect the data from the RSS feed of the corresponding website http://www.prh.noaa.gov/hnl that is http://www.prh.noaa.gov/cphc/index-cp.xml."
   ]
  },
  {
   "cell_type": "code",
   "execution_count": 14,
   "metadata": {
    "collapsed": false,
    "deletable": true,
    "editable": true
   },
   "outputs": [],
   "source": [
    "url='http://www.prh.noaa.gov/cphc/index-cp.xml'\n",
    "\n",
    "cp=feedparser.parse(url)"
   ]
  },
  {
   "cell_type": "code",
   "execution_count": 15,
   "metadata": {
    "collapsed": false,
    "deletable": true,
    "editable": true
   },
   "outputs": [
    {
     "data": {
      "text/plain": [
       "u'For the Central North Pacific...between 140W and 180:<br />\\n<br />\\nNo tropical cyclones are expected through early Wednesday<br />\\nmorning.<br />\\n<br />\\n<br />'"
      ]
     },
     "execution_count": 15,
     "metadata": {},
     "output_type": "execute_result"
    }
   ],
   "source": [
    "data=cp['entries']\n",
    "data[0]['summary']\n"
   ]
  },
  {
   "cell_type": "code",
   "execution_count": 16,
   "metadata": {
    "collapsed": false,
    "deletable": true,
    "editable": true
   },
   "outputs": [
    {
     "name": "stdout",
     "output_type": "stream",
     "text": [
      "CPHC\n",
      "http://www.prh.noaa.gov/cphc\n",
      "Activity in the Central Pacific Hurricane basin\n",
      "en-us\n",
      "W-HFO.Webmaster@noaa.gov (Honolulu Webmaster)\n",
      "W-HFO.Webmaster@noaa.gov (Honolulu Webmaster)\n",
      "03 May 2017 09:10:02 GMT\n",
      "http://weather.gov/images/xml_logo.gif\n",
      "CPHC\n",
      "http://www.prh.noaa.gov/cphc\n",
      "Central Pacific Tropical Weather Outlook\n",
      "http://www.prh.noaa.gov/cphc/pages/TWO.php\n",
      "No tropical cyclones are expected through early Wednesday\n",
      "morning.\n",
      "]]>\n",
      "01 Aug 2016 12:10:01 GMT\n",
      "http://www.prh.noaa.gov/data/HFO/TWOCP\n"
     ]
    }
   ],
   "source": [
    "print readxml(url,'lxml')"
   ]
  },
  {
   "cell_type": "markdown",
   "metadata": {
    "deletable": true,
    "editable": true
   },
   "source": [
    "## West Pacific"
   ]
  },
  {
   "cell_type": "markdown",
   "metadata": {
    "deletable": true,
    "editable": true
   },
   "source": [
    "From the JTWC web site the bulletins can be accessed in various formats. We download the bulletin from the RSS feeder"
   ]
  },
  {
   "cell_type": "code",
   "execution_count": 17,
   "metadata": {
    "collapsed": true,
    "deletable": true,
    "editable": true
   },
   "outputs": [],
   "source": [
    "url = 'https://metoc.ndbc.noaa.gov/RSSFeeds-portlet/img/jtwc/jtwc.rss'"
   ]
  },
  {
   "cell_type": "code",
   "execution_count": 18,
   "metadata": {
    "collapsed": false,
    "deletable": true,
    "editable": true
   },
   "outputs": [],
   "source": [
    "jtwc=feedparser.parse(url)"
   ]
  },
  {
   "cell_type": "code",
   "execution_count": 19,
   "metadata": {
    "collapsed": false,
    "deletable": true,
    "editable": true
   },
   "outputs": [
    {
     "name": "stdout",
     "output_type": "stream",
     "text": [
      "JTWC TROPICAL CYCLONE INFORMATION FEED\n",
      "https://metoc.ndbc.noaa.gov/web/guest/jtwc\n",
      "JTWC Tropical Cyclone Information\n",
      "Thu, 04 May 2017 13:02:08 +0000\n",
      "Thu, 04 May 2017 13:02:08 +0000\n",
      "ContentFeeder 2.0\n",
      "https://metoc.ndbc.noaa.gov/web/guest/jtwc\n",
      "JTWC TROPICAL CYCLONE INFORMATION FEED\n",
      "https://metoc.ndbc.noaa.gov/web/guest/jtwc\n",
      "Current Northwest Pacific/North Indian Ocean* Tropical Systems\n",
      "https://metoc.ndbc.noaa.gov/web/guest/jtwc\n",
      "No Current Tropical Cyclone Warnings.\n",
      "* Includes Bay of Bengal and Arabian Sea\n",
      "]]>\n",
      "CDO.JTWC.fct@navy.mil (JTWC CDO)\n",
      "Northwest Pacific/North Indian Ocean* Tropical Systems\n",
      "NWPAC-NIO-WARNINGS\n",
      "Thu, 04 May 17 13:02:08 +0000\n",
      "Current Central/Eastern Pacific Tropical Systems\n",
      "https://metoc.ndbc.noaa.gov/web/guest/jtwc\n",
      "No Current Tropical Cyclone Warnings.\n",
      "]]>\n",
      "CDO.JTWC.fct@navy.mil (JTWC CDO)\n",
      "Central/Eastern Pacific Tropical Systems\n",
      "EPAC-CPAC-WARNINGS\n",
      "Thu, 04 May 17 13:02:08 +0000\n",
      "Current Southern Hemisphere Tropical Systems\n",
      "https://metoc.ndbc.noaa.gov/web/guest/jtwc\n",
      "Tropical Cyclone\n",
      "18P (Donna) Warning #04\n",
      "Issued at 04/0900Z\n",
      "TC Warning Text\n",
      "TC Warning Graphic\n",
      "JMV 3.0 Data\n",
      "Google Earth Overlay\n",
      "Multispectral Satellite Imagery\n",
      "Satellite Fix Bulletin\n",
      "]]>\n",
      "CDO.JTWC.fct@navy.mil (JTWC CDO)\n",
      "Southern Hemisphere Tropical Systems\n",
      "SH-WARNINGS\n",
      "Thu, 04 May 17 13:02:08 +0000\n",
      "Current Significant Tropical Weather Advisories\n",
      "https://metoc.ndbc.noaa.gov/web/guest/jtwc\n",
      "ABPW10 (Western/South Pacific Ocean)\n",
      "Issued at 04/0600Z\n",
      "- ABPW10 Text\n",
      "- Satellite Image\n",
      "ABIO10 (Indian Ocean)\n",
      "Issued at 03/1800Z\n",
      "- ABIO10 Text\n",
      "- Satellite Image\n",
      "]]>\n",
      "CDO.JTWC.fct@navy.mil (JTWC CDO)\n",
      "Significant Tropical Weather Advisories\n",
      "TROPICAL-ADVISORIES\n",
      "Thu, 04 May 17 13:02:08 +0000\n"
     ]
    }
   ],
   "source": [
    "print readxml(url,'lxml')"
   ]
  },
  {
   "cell_type": "markdown",
   "metadata": {
    "deletable": true,
    "editable": true
   },
   "source": [
    "JTWC also has a post-analysis for Best Track information at http://www.usno.navy.mil/NOOC/nmfc-ph/RSS/jtwc/best_tracks/ which however is updated annualy (For more info see [Best Track](BestTrack.ipynb)). "
   ]
  },
  {
   "cell_type": "markdown",
   "metadata": {
    "deletable": true,
    "editable": true
   },
   "source": [
    "The US military has an extended research division that provides also additional resources including satelite derived data. These are available at the Naval research Laboratory (http://www.nrlmry.navy.mil/). These services include the Automated Tropical Cyclone Forecasting System (ATCF - http://www.nrlmry.navy.mil/atcf_web/index1.html ) which provides an computer automated process for operational users such as the JTWC, NHC, HWRF etc. They also have Numerical  Weather Forecasting for global weather and TC in particular ( http://www.nrlmry.navy.mil/coamps-web/web/tc )."
   ]
  },
  {
   "cell_type": "markdown",
   "metadata": {
    "deletable": true,
    "editable": true
   },
   "source": [
    "The main source is the JTWC. However the Tokyo Typhoon Center (TTC) issues also bulletins. These can be found at their own website http://www.jma.go.jp/en/typh/ where they can be also be retrieved from an 'experimental' RSS feed at http://www.data.jma.go.jp/fcd/yoho/cap-rsmctk/atom.xml. These info are also available at the WMO since the TTC is the official RMSC for the westerm pacific. "
   ]
  },
  {
   "cell_type": "markdown",
   "metadata": {
    "deletable": true,
    "editable": true
   },
   "source": [
    "We can read the feed from the above link as (the current info will be displayed if available)"
   ]
  },
  {
   "cell_type": "code",
   "execution_count": 20,
   "metadata": {
    "collapsed": false,
    "deletable": true,
    "editable": true
   },
   "outputs": [
    {
     "data": {
      "text/plain": [
       "u'<pre>MUIFA (1701) became TROPICAL DEPRESSION\\nANALYSIS (2712UTC):\\nPressure 1004 hPa\\nat 17.0 degree north 135.0 degree east\\nMoving north 10 knots.\\n</pre>'"
      ]
     },
     "execution_count": 20,
     "metadata": {},
     "output_type": "execute_result"
    }
   ],
   "source": [
    "import feedparser\n",
    "\n",
    "url='http://www.data.jma.go.jp/fcd/yoho/cap-rsmctk/atom.xml'\n",
    "\n",
    "jmafeed=feedparser.parse(url)\n",
    "\n",
    "\n",
    "data=jmafeed['entries']\n",
    "data[0]['summary']"
   ]
  },
  {
   "cell_type": "code",
   "execution_count": 21,
   "metadata": {
    "collapsed": false,
    "deletable": true,
    "editable": true
   },
   "outputs": [
    {
     "name": "stdout",
     "output_type": "stream",
     "text": [
      "2017-04-27T13:35:04Z\n",
      "Typhoon Advisories from RSMC Tokyo\n",
      "https://ds.data.jma.go.jp/fcd/yoho/cap-rsmctk/\n",
      "RSMC Tokyo - Typhoon Centre\n",
      "2017-04-27T12:45:19.001Z\n",
      "MUIFA (1701) became TD ANALYSIS (2712UTC): 17.0°N 135.0°E MOVE N 10 kt PRES 1004 hPa\n",
      "MUIFA (1701) became TROPICAL DEPRESSION\n",
      "ANALYSIS (2712UTC):\n",
      "Pressure 1004 hPa\n",
      "at 17.0 degree north 135.0 degree east\n",
      "Moving north 10 knots.\n",
      "urn:uuid:db7c0ea1-bec6-369c-a7b5-a198ecd3dbb2\n",
      "urn:uuid:db7c0ea1-bec6-369c-a7b5-a198ecd3dbb2\n",
      "rsmc-tokyo@met.kishou.go.jp\n",
      "2017-04-27T12:45:19+00:00\n",
      "Actual\n",
      "Alert\n",
      "Public\n",
      "CAP-RSMCTK\n",
      "en-US\n",
      "Met\n",
      "TROPICAL CYCLONE ADVISORY/ANALYSIS\n",
      "Unknown\n",
      "Unknown\n",
      "Observed\n",
      "EventType\n",
      "TC_Analysis\n",
      "2017-04-27T12:50:00+00:00\n",
      "2017-04-27T12:00:00+00:00\n",
      "2017-04-27T19:30:00+00:00\n",
      "RSMC Tokyo - Typhoon Center\n",
      "MUIFA (1701) became TD ANALYSIS (2712UTC): 17.0°N 135.0°E MOVE N 10 kt PRES 1004 hPa\n",
      "MUIFA (1701) became TROPICAL DEPRESSION\n",
      "ANALYSIS (2712UTC):\n",
      "Pressure 1004 hPa\n",
      "at 17.0 degree north 135.0 degree east\n",
      "Moving north 10 knots.\n",
      "http://www.jma.go.jp/en/typh/index.html\n",
      "TC_Number\n",
      "1704\n",
      "TC_Remark\n",
      "Downgraded\n",
      "TC_Classification\n",
      "TD\n",
      "TC_CycloneName\n",
      "MUIFA\n",
      "TC_CycloneID\n",
      "1701\n",
      "TC_MovingDirection\n",
      "N\n",
      "TC_MovingSpeed\n",
      "10 kt\n",
      "TC_CenterPressure\n",
      "1004 hPa\n",
      "TC_Location\n",
      "フィリピンの東\n",
      "EventEndTime\n",
      "2017-04-27T12:00:00+00:00\n",
      "TC_AnalysisTime\n",
      "2017-04-27T12:00:00+00:00\n",
      "UUID\n",
      "db7c0ea1-bec6-369c-a7b5-a198ecd3dbb2\n",
      "Sea East of Philippines\n",
      "17.0,135.0 0\n"
     ]
    }
   ],
   "source": [
    "print readxml(url,'lxml')"
   ]
  },
  {
   "cell_type": "markdown",
   "metadata": {
    "deletable": true,
    "editable": true
   },
   "source": [
    "In addition TTC provides re-analysis data for past events in the form of 'Best Track Data' at  http://www.jma.go.jp/jma/jma-eng/jma-center/rsmc-hp-pub-eg/trackarchives.html. (For more info see [Best Track](BestTrack.ipynb)) Furthermore the newly operational Himawari satellite provides satellite images for the globe and more specific areas. These are available online at http://www.jma.go.jp/en/gms/index.html?area=6&element=0&mode=UTC. For more info see http://ds.data.jma.go.jp/mscweb/data/himawari/index.html"
   ]
  },
  {
   "cell_type": "markdown",
   "metadata": {
    "deletable": true,
    "editable": true
   },
   "source": [
    "## Additional services"
   ]
  },
  {
   "cell_type": "markdown",
   "metadata": {
    "deletable": true,
    "editable": true
   },
   "source": [
    "In addition to the operational services above there are websites that gather available data and provide relative information. Such sites are\n",
    "\n",
    "The Pacific Disaster Ceneter http://www.pdc.org/ : Information mainly from JTWC\n",
    "\n",
    "Weather Underground  http://www.wunderground.com/  : Incorporates NOAA data see http://www.wunderground.com/wundermap/, part of Weather Channel.\n",
    "\n",
    "NOAA environment visualization laboratory http://www.nnvl.noaa.gov/Default.php : for animations and satelite images\n"
   ]
  },
  {
   "cell_type": "markdown",
   "metadata": {
    "deletable": true,
    "editable": true
   },
   "source": [
    "## Numerical Weather Forecasts (NWF)"
   ]
  },
  {
   "cell_type": "markdown",
   "metadata": {
    "deletable": true,
    "editable": true
   },
   "source": [
    "Another recent source of information comes from global numerical simulations. These are performed by various organizations and some are deemed 'operational' while others are 'experimental'. The two main organization that produce global analysis and forecasting are the European Centre for Medium-Range Weather Forecasts (ECMWF) and NOAA (various divisions). \n",
    "\n",
    "ECMWF (http://www.ecmwf.int/) provides a plethora of simulated data including short and long-term forecasting. However unlike NOAA (see below) their data are not always available for free."
   ]
  },
  {
   "cell_type": "markdown",
   "metadata": {
    "deletable": true,
    "editable": true
   },
   "source": [
    "NOAA has several divisions that utilize a variety of models to compute various quantities. The more pertinent one is the Hurricane Weather Research and Forecast (HWRF). More info can be found at the HWRF website (http://www.emc.ncep.noaa.gov/gc_wmb/vxt/HWRF/about.php?branch=mdls)."
   ]
  },
  {
   "cell_type": "markdown",
   "metadata": {
    "deletable": true,
    "editable": true
   },
   "source": [
    "HWRF are providing operational info for TC in all basins since 2015. They also publish their raw data (every 6 hours) for the last 2 timestamps at http://ftpprd.ncep.noaa.gov/data/nccf/com/hur/prod/ and ftp://ftpprd.ncep.noaa.gov/pub/data/nccf/com/hur/prod/. Note that in the above links the GFS data mentioned above are also given. However, unlike HWRF, the GFS data are available for longer periods of time in various outlets. For more info see http://nomads.ncep.noaa.gov/ "
   ]
  },
  {
   "cell_type": "markdown",
   "metadata": {
    "deletable": true,
    "editable": true
   },
   "source": [
    "In addition the HWRF model is open sourced in the following location http://www.dtcenter.org/HurrWRF/users/.\n",
    "\n",
    "It is one variation of a number of schemes. More info can be found at http://www.dtcenter.org/code/.\n",
    "\n",
    "NCAR is actually running a Tropical Cyclone Guidance Project with a lot of info and links available (http://www.ral.ucar.edu/hurricanes/). In particular, info regarding another product provided on the operational HWRF page (see above) called Statistical Hurricane Intensity Prediction Scheme (SHIPS) can be found here http://rammb.cira.colostate.edu/research/tropical_cyclones/ships/ and here http://www.ral.ucar.edu/hurricanes/realtime/ ."
   ]
  },
  {
   "cell_type": "markdown",
   "metadata": {
    "deletable": true,
    "editable": true
   },
   "source": [
    "Another numerical Hurricane model that also provides modules for HWRF is the Geophysical Fluid Dynamics Laboratory's (GFDL) model. Info and real time forecast can be found here http://data1.gfdl.noaa.gov/hurricane/gfdl_ensemble/GFE_DEMO_2015.php?STORMID=09W&YMDH=2015070800_CHAN-HOM09W&prod=H1 and http://www.gfdl.noaa.gov/hurricane-portal."
   ]
  },
  {
   "cell_type": "markdown",
   "metadata": {
    "deletable": true,
    "editable": true
   },
   "source": [
    "The products of the Japanese Numerical weather prediction models are given at the dedicated JMA url: http://www.jma.go.jp/jma/jma-eng/jma-center/nwp/nwp-top.htm"
   ]
  },
  {
   "cell_type": "markdown",
   "metadata": {
    "deletable": true,
    "editable": true
   },
   "source": [
    "## Satellite Driven Analysis"
   ]
  },
  {
   "cell_type": "markdown",
   "metadata": {
    "deletable": true,
    "editable": true
   },
   "source": [
    "Another NOAA division that produces an composite product based on satellite information is the NOAA Satellite and Information Service (NESDIS - http://www.nesdis.noaa.gov/). Their product related to TCs is called 'Multiplatform Tropical Cyclone Surface Winds Analysis (MTCSWA)' that provides satellite based wind estimates around TCs. More info at their site http://www.ssd.noaa.gov/PS/TROP/mtcswa.html.\n",
    "\n",
    "An extensive set of data can be found in the form of pictures at their development website in Colorado State University (http://rammb.cira.colostate.edu/products/tc_realtime/), while the raw data are available per TC at this address \n",
    "ftp://satepsanone.nesdis.noaa.gov/MTCSWA/. Note that availability of data has an expiration date (roughly a month or so).\n",
    "\n",
    "Information regarding additional TC products can be found at http://www.ssd.noaa.gov/PS/TROP/index.html. These include except the MTCSWA above the so called Advanced Dvorak Technique (ADT). For more see the Development site at the University of Winsconsin-Madison (http://tropic.ssec.wisc.edu/misc/adt/info.html). \n",
    "\n",
    "The main page for TCs of the University of Winsconsin-Madison also serves as a portal to information for active TCs http://tropic.ssec.wisc.edu/. A click on a current TC launches a viewer where all current satellite driven information can be overlayed. "
   ]
  },
  {
   "cell_type": "markdown",
   "metadata": {
    "deletable": true,
    "editable": true
   },
   "source": [
    "# Satellite data"
   ]
  },
  {
   "cell_type": "markdown",
   "metadata": {
    "deletable": true,
    "editable": true
   },
   "source": [
    "The most important info needed for analysis of a TC is the pressure and wind field around it. In terms of wind field,  the satellite analysis uses a number of satellites and technics for computing the surface wind vectors (SW). All the available sources can be found in the OPeNDAP service run by NASA at this address  http://podaac.jpl.nasa.gov/datasetlist where one can choose the prefered 'Collection', e.g. 'Quick Scatterometer' would lead us to  http://podaac.jpl.nasa.gov/datasetlist?ids=Collections&values=QUIKSCAT&view=list where we can choose the QuickSCAT data server. \n",
    "\n",
    "The same way we can get to \n",
    "\n",
    "rapidscat: http://podaac-opendap.jpl.nasa.gov/opendap/allData/rapidscat/L2B12/v1.1/2015/\n",
    "\n",
    "ascat(meteop b) : http://podaac-opendap.jpl.nasa.gov/opendap/allData/ascat/preview/L2/metop_b/coastal_opt/\n",
    "\n",
    "ascat(mteop a) : http://podaac-opendap.jpl.nasa.gov/opendap/allData/ascat/preview/L2/metop_a/coastal_opt/\n",
    "\n",
    "windsat : http://podaac-opendap.jpl.nasa.gov/opendap/allData/windsat/L3/rss/v7/"
   ]
  },
  {
   "cell_type": "markdown",
   "metadata": {
    "deletable": true,
    "editable": true
   },
   "source": [
    "Information about available satellite data can also be found at the eSurge website http://www.storm-surge.info/data-access. Windsat data are also given as graphs in reference to TCs here http://www.remss.com/storm-watch ."
   ]
  },
  {
   "cell_type": "markdown",
   "metadata": {
    "deletable": true,
    "editable": true
   },
   "source": [
    "One of the newest satellites in operation is the Japanese himawari-8 that covers the Central & Western Pacific. A four weeks archive can be found at http://rammb.cira.colostate.edu/ramsdis/online/himawari-8.asp#Japan. Additional imagery by other sources can be found in http://www.ssd.noaa.gov/imagery/ ."
   ]
  },
  {
   "cell_type": "markdown",
   "metadata": {
    "deletable": true,
    "editable": true
   },
   "source": [
    "Data and info regarding scatterometers can also be accessed via the Royal Netherlands Meteorogical Institute http://www.knmi.nl/scatterometer/."
   ]
  },
  {
   "cell_type": "markdown",
   "metadata": {
    "deletable": true,
    "editable": true
   },
   "source": [
    "# Misc"
   ]
  },
  {
   "cell_type": "markdown",
   "metadata": {
    "deletable": true,
    "editable": true
   },
   "source": [
    "NOAA among other organizations is developing a program for aggregating all their data in ERDDAP servers. Such servers can be found here http://upwell.pfeg.noaa.gov/erddap/index.html and here http://coastwatch.pfeg.noaa.gov/erddap/index.html.  Note that this is a work in progress. A similar server is actually operational here in JRC (  https://bluehub.jrc.ec.europa.eu/erddap/index.html ) where a variety of NOAA data can be found.  "
   ]
  },
  {
   "cell_type": "markdown",
   "metadata": {
    "deletable": true,
    "editable": true
   },
   "source": [
    "A repository of NOAA data can also be found here http://www.nco.ncep.noaa.gov/pmb/products/ ."
   ]
  },
  {
   "cell_type": "markdown",
   "metadata": {
    "deletable": true,
    "editable": true
   },
   "source": [
    "A variety of maps and images (some related to TCs) can be found here http://earthobservatory.nasa.gov/?eocn=topnav&eoci=home and here http://www.nasa.gov/mission_pages/hurricanes/main/index.html ."
   ]
  },
  {
   "cell_type": "markdown",
   "metadata": {
    "deletable": true,
    "editable": true
   },
   "source": [
    "A nice up to date portal at wikipedia with info, pictures and links https://en.wikipedia.org/wiki/Portal:Tropical_cyclones."
   ]
  }
 ],
 "metadata": {
  "kernelspec": {
   "display_name": "Python 2",
   "language": "python",
   "name": "python2"
  },
  "language_info": {
   "codemirror_mode": {
    "name": "ipython",
    "version": 2
   },
   "file_extension": ".py",
   "mimetype": "text/x-python",
   "name": "python",
   "nbconvert_exporter": "python",
   "pygments_lexer": "ipython2",
   "version": "2.7.13"
  }
 },
 "nbformat": 4,
 "nbformat_minor": 0
}
