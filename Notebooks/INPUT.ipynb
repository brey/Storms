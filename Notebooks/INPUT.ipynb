{
 "cells": [
  {
   "cell_type": "markdown",
   "metadata": {
    "deletable": true,
    "editable": true
   },
   "source": [
    "# Real Time information Sources for Tropical Cyclones"
   ]
  },
  {
   "cell_type": "markdown",
   "metadata": {
    "deletable": true,
    "editable": true
   },
   "source": [
    "Real time information for Tropical cyclones are available from various sources. These depend on the corresponding basin since there are different designated service providers for each basin according to the World Meteological Organization (WMO). These are called 'Regional Specialized Meteorological Centres' (RSMC). In addition to those, there are Tropical Cyclone Warning Centers (TCWCs) that also provide information sometimes different from the RSMC's but generally cover a broader region. Naturally there are also the national services called 'National Meteorological and Hydrological Services' (NMHSs) which might be limited in scope. \n",
    "\n",
    "One can find more info regarding these services in http://severe.worldweather.wmo.int/."
   ]
  },
  {
   "cell_type": "markdown",
   "metadata": {
    "deletable": true,
    "editable": true
   },
   "source": [
    "The sources we rely on for now are from the National Hurricane Center (NHC), part of National Weather Service (NWS) in the US administrated by the National Oceanic & Atmospheric Administration (NOAA). More info at http://www.noaa.gov/.\n",
    "\n",
    "The NHC is located at http://www.nhc.noaa.gov/ for Atlantic (including Caribbean Sea-Gulf of Mexico) and Easter Pacific Basins. Note that according to WMO this is the designated RSMC based in Miami, FL USA.\n",
    "\n",
    "For Central North Pacific the corresponding RMSC is again NWS but now based in Honolulu, Hawaii http://www.prh.noaa.gov/pr/hnl.\n",
    "\n",
    "For western north pacific the designated RSMC is the Tokyo-Typhoon Center (http://www.jma.go.jp/en/typh/index.html) but the Joint Typhoon Warning Center (JTWC) based also in Hawaii is providing bulletins (Warnings) for the general Pacific and Indian basins. Note that the JTWC is part of the US military service made availbale to the public http://www.usno.navy.mil/. \n",
    "\n",
    "For the north Indian Ocean, the RMSC is the Indian Meteorological Dept. with info and data found at http://www.rsmcnewdelhi.imd.gov.in/index.php?lang=en.\n",
    "\n",
    "Finally for the area around Australia the TCWC provider is the Australian Bureau of Meteorology http://www.bom.gov.au/cyclone/index.shtml."
   ]
  },
  {
   "cell_type": "markdown",
   "metadata": {
    "deletable": true,
    "editable": true
   },
   "source": [
    "Note that the above sources are deemed 'operational' and provide official information. An aggregate service for all available daily bulletins can be found at http://weather.unisys.com/hurricane/ (see archive link therein). "
   ]
  },
  {
   "cell_type": "markdown",
   "metadata": {
    "deletable": true,
    "editable": true
   },
   "source": [
    "## North Atlantic - Caribbean - Eastern Pacific."
   ]
  },
  {
   "cell_type": "markdown",
   "metadata": {
    "deletable": true,
    "editable": true
   },
   "source": [
    "The information in the form of bulletins comes from NOAA. At the corresponding website  http://www.nhc.noaa.gov/ information are available in a variety of forms. We download the bulletins from the corresponding RSS feeds. Namely for the referenced basins the feeds are\n",
    "\n",
    " Atlantic Basin Tropical Cyclones: http://www.nhc.noaa.gov/index-at.xml\n",
    " Eastern Pacific Basin Tropical Cyclones: http://www.nhc.noaa.gov/index-ep.xml\n",
    " \n",
    " More info can be found in http://www.nhc.noaa.gov/aboutrss.shtml.\n",
    " \n",
    " Each Tropical Cyclone (TC) is given a  designation based on the basin ('Eastern Pacific' = 'EP', 'Central Pacific' = 'CP', 'Atlantic' = 'AL') and a number (increasing) refering to sequence of appearance in the specific year , eg. '032015' means the 3rd one in that basin in 2015.\n",
    " \n",
    "We can view the corresponding bulletins (if available) like this  "
   ]
  },
  {
   "cell_type": "code",
   "execution_count": 2,
   "metadata": {
    "collapsed": true,
    "deletable": true,
    "editable": true
   },
   "outputs": [],
   "source": [
    "import feedparser"
   ]
  },
  {
   "cell_type": "code",
   "execution_count": 3,
   "metadata": {
    "collapsed": false,
    "deletable": true,
    "editable": true
   },
   "outputs": [],
   "source": [
    "url='http://www.nhc.noaa.gov/index-at.xml'\n",
    "\n",
    "atl=feedparser.parse(url)"
   ]
  },
  {
   "cell_type": "code",
   "execution_count": 4,
   "metadata": {
    "collapsed": false,
    "deletable": true,
    "editable": true
   },
   "outputs": [
    {
     "data": {
      "text/plain": [
       "u'The Atlantic hurricane season runs from June 1st through November 30th.'"
      ]
     },
     "execution_count": 4,
     "metadata": {},
     "output_type": "execute_result"
    }
   ],
   "source": [
    "data=atl['entries']\n",
    "data[0]['summary']"
   ]
  },
  {
   "cell_type": "markdown",
   "metadata": {
    "deletable": true,
    "editable": true
   },
   "source": [
    "or in more visually pleasing form"
   ]
  },
  {
   "cell_type": "code",
   "execution_count": 5,
   "metadata": {
    "collapsed": false,
    "deletable": true,
    "editable": true
   },
   "outputs": [
    {
     "ename": "ImportError",
     "evalue": "No module named utils",
     "output_type": "error",
     "traceback": [
      "\u001b[0;31m---------------------------------------------------------------------------\u001b[0m",
      "\u001b[0;31mImportError\u001b[0m                               Traceback (most recent call last)",
      "\u001b[0;32m<ipython-input-5-bba2ce8d813d>\u001b[0m in \u001b[0;36m<module>\u001b[0;34m()\u001b[0m\n\u001b[0;32m----> 1\u001b[0;31m \u001b[0;32mfrom\u001b[0m \u001b[0mutils\u001b[0m \u001b[0;32mimport\u001b[0m \u001b[0mreadxml\u001b[0m\u001b[0;34m\u001b[0m\u001b[0m\n\u001b[0m",
      "\u001b[0;31mImportError\u001b[0m: No module named utils"
     ]
    }
   ],
   "source": [
    "from utils import readxml"
   ]
  },
  {
   "cell_type": "code",
   "execution_count": 6,
   "metadata": {
    "collapsed": false,
    "deletable": true,
    "editable": true
   },
   "outputs": [
    {
     "ename": "NameError",
     "evalue": "name 'readxml' is not defined",
     "output_type": "error",
     "traceback": [
      "\u001b[0;31m---------------------------------------------------------------------------\u001b[0m",
      "\u001b[0;31mNameError\u001b[0m                                 Traceback (most recent call last)",
      "\u001b[0;32m<ipython-input-6-5086d20bc4ee>\u001b[0m in \u001b[0;36m<module>\u001b[0;34m()\u001b[0m\n\u001b[0;32m----> 1\u001b[0;31m \u001b[0;32mprint\u001b[0m \u001b[0mreadxml\u001b[0m\u001b[0;34m(\u001b[0m\u001b[0murl\u001b[0m\u001b[0;34m,\u001b[0m\u001b[0;34m'lxml'\u001b[0m\u001b[0;34m)\u001b[0m\u001b[0;34m\u001b[0m\u001b[0m\n\u001b[0m",
      "\u001b[0;31mNameError\u001b[0m: name 'readxml' is not defined"
     ]
    }
   ],
   "source": [
    "print readxml(url,'lxml')"
   ]
  },
  {
   "cell_type": "code",
   "execution_count": 16,
   "metadata": {
    "collapsed": false,
    "deletable": true,
    "editable": true
   },
   "outputs": [],
   "source": [
    "url='http://www.nhc.noaa.gov/index-ep.xml'\n",
    "\n",
    "ep=feedparser.parse(url)"
   ]
  },
  {
   "cell_type": "code",
   "execution_count": 17,
   "metadata": {
    "collapsed": false,
    "deletable": true,
    "editable": true
   },
   "outputs": [
    {
     "data": {
      "text/plain": [
       "u'The Eastern North Pacific hurricane season runs from May 15th through November 30th.'"
      ]
     },
     "execution_count": 17,
     "metadata": {},
     "output_type": "execute_result"
    }
   ],
   "source": [
    "data=ep['entries']\n",
    "data[0]['summary']"
   ]
  },
  {
   "cell_type": "code",
   "execution_count": 18,
   "metadata": {
    "collapsed": false,
    "deletable": true,
    "editable": true
   },
   "outputs": [
    {
     "name": "stdout",
     "output_type": "stream",
     "text": [
      "Mon, 06 Feb 2017 10:59:10 GMT\n",
      "NHC Eastern North Pacific\n",
      "Active tropical cyclones in the Eastern North Pacific\n",
      "http://www.nhc.noaa.gov/\n",
      "none\n",
      "nhcwebmaster@noaa.gov (NHC Webmaster)\n",
      "en-us\n",
      "nhcwebmaster@noaa.gov (NHC Webmaster)\n",
      "http://www.nhc.noaa.gov/gifs/xml_logo_nhc.gif\n",
      "http://www.nhc.noaa.gov/\n",
      "NHC Eastern North Pacific\n",
      "NOAA logo\n",
      "95\n",
      "45\n",
      "The Eastern North Pacific hurricane season runs from May 15th through November 30th.\n",
      "The Eastern North Pacific hurricane season runs from May 15th through November 30th.\n",
      "Thu, 01 Dec 2016 00:43:36 GMT\n",
      "http://www.nhc.noaa.gov/\n",
      "http://www.nhc.noaa.gov/\n",
      "nhcwebmaster@noaa.gov (NHC Webmaster)\n"
     ]
    }
   ],
   "source": [
    "print readxml(url,'lxml')"
   ]
  },
  {
   "cell_type": "markdown",
   "metadata": {
    "deletable": true,
    "editable": true
   },
   "source": [
    "## Central Pacific"
   ]
  },
  {
   "cell_type": "markdown",
   "metadata": {
    "deletable": true,
    "editable": true
   },
   "source": [
    "Again NOAA provides info from the dedicated site. We collect the data from the RSS feed of the corresponding website http://www.prh.noaa.gov/hnl that is http://www.prh.noaa.gov/cphc/index-cp.xml."
   ]
  },
  {
   "cell_type": "code",
   "execution_count": 1,
   "metadata": {
    "collapsed": false,
    "deletable": true,
    "editable": true
   },
   "outputs": [
    {
     "ename": "NameError",
     "evalue": "name 'feedparser' is not defined",
     "output_type": "error",
     "traceback": [
      "\u001b[0;31m---------------------------------------------------------------------------\u001b[0m",
      "\u001b[0;31mNameError\u001b[0m                                 Traceback (most recent call last)",
      "\u001b[0;32m<ipython-input-1-a7074a8c775e>\u001b[0m in \u001b[0;36m<module>\u001b[0;34m()\u001b[0m\n\u001b[1;32m      1\u001b[0m \u001b[0murl\u001b[0m\u001b[0;34m=\u001b[0m\u001b[0;34m'http://www.prh.noaa.gov/cphc/index-cp.xml'\u001b[0m\u001b[0;34m\u001b[0m\u001b[0m\n\u001b[1;32m      2\u001b[0m \u001b[0;34m\u001b[0m\u001b[0m\n\u001b[0;32m----> 3\u001b[0;31m \u001b[0mcp\u001b[0m\u001b[0;34m=\u001b[0m\u001b[0mfeedparser\u001b[0m\u001b[0;34m.\u001b[0m\u001b[0mparse\u001b[0m\u001b[0;34m(\u001b[0m\u001b[0murl\u001b[0m\u001b[0;34m)\u001b[0m\u001b[0;34m\u001b[0m\u001b[0m\n\u001b[0m",
      "\u001b[0;31mNameError\u001b[0m: name 'feedparser' is not defined"
     ]
    }
   ],
   "source": [
    "url='http://www.prh.noaa.gov/cphc/index-cp.xml'\n",
    "\n",
    "cp=feedparser.parse(url)"
   ]
  },
  {
   "cell_type": "code",
   "execution_count": 20,
   "metadata": {
    "collapsed": false,
    "deletable": true,
    "editable": true
   },
   "outputs": [
    {
     "data": {
      "text/plain": [
       "u'For the central North Pacific...between 140W and 180:<br />\\n<br />\\nNo tropical cyclones are expected through Friday evening.<br />\\n<br />\\nThis is the final tropical weather outlook of the season.<br />\\nWe will resume issuing outlooks starting on June 1 of 2017.<br />\\n<br />\\n<br />'"
      ]
     },
     "execution_count": 20,
     "metadata": {},
     "output_type": "execute_result"
    }
   ],
   "source": [
    "data=cp['entries']\n",
    "data[0]['summary']\n"
   ]
  },
  {
   "cell_type": "code",
   "execution_count": 21,
   "metadata": {
    "collapsed": false,
    "deletable": true,
    "editable": true
   },
   "outputs": [
    {
     "name": "stdout",
     "output_type": "stream",
     "text": [
      "CPHC\n",
      "http://www.prh.noaa.gov/cphc\n",
      "Activity in the Central Pacific Hurricane basin\n",
      "en-us\n",
      "W-HFO.Webmaster@noaa.gov (Honolulu Webmaster)\n",
      "W-HFO.Webmaster@noaa.gov (Honolulu Webmaster)\n",
      "01 Dec 2016 05:45:02 GMT\n",
      "http://weather.gov/images/xml_logo.gif\n",
      "CPHC\n",
      "http://www.prh.noaa.gov/cphc\n",
      "Central Pacific Tropical Weather Outlook\n",
      "http://www.prh.noaa.gov/cphc/pages/TWO.php\n",
      "No tropical cyclones are expected through Friday evening.\n",
      "This is the final tropical weather outlook of the season.\n",
      "We will resume issuing outlooks starting on June 1 of 2017.\n",
      "]]>\n",
      "01 Dec 2016 05:45:02 GMT\n",
      "http://www.prh.noaa.gov/data/HFO/TWOCP\n"
     ]
    }
   ],
   "source": [
    "print readxml(url,'lxml')"
   ]
  },
  {
   "cell_type": "markdown",
   "metadata": {
    "deletable": true,
    "editable": true
   },
   "source": [
    "## West Pacific"
   ]
  },
  {
   "cell_type": "markdown",
   "metadata": {
    "deletable": true,
    "editable": true
   },
   "source": [
    "From the JTWC web site the bulletins can be accessed in various formats. We download the bulletin from the RSS feeder"
   ]
  },
  {
   "cell_type": "code",
   "execution_count": 78,
   "metadata": {
    "collapsed": true,
    "deletable": true,
    "editable": true
   },
   "outputs": [],
   "source": [
    "url = 'https://metoc.ndbc.noaa.gov/RSSFeeds-portlet/img/jtwc/jtwc.rss'"
   ]
  },
  {
   "cell_type": "code",
   "execution_count": 79,
   "metadata": {
    "collapsed": false,
    "deletable": true,
    "editable": true
   },
   "outputs": [],
   "source": [
    "jtwc=feedparser.parse(url)"
   ]
  },
  {
   "cell_type": "code",
   "execution_count": 80,
   "metadata": {
    "collapsed": false,
    "deletable": true,
    "editable": true
   },
   "outputs": [
    {
     "name": "stdout",
     "output_type": "stream",
     "text": [
      "JTWC TROPICAL CYCLONE INFORMATION FEED\n",
      "https://metoc.ndbc.noaa.gov/web/guest/jtwc\n",
      "JTWC Tropical Cyclone Information\n",
      "Tue, 07 Feb 2017 08:08:03 +0000\n",
      "Tue, 07 Feb 2017 08:08:03 +0000\n",
      "ContentFeeder 2.0\n",
      "https://metoc.ndbc.noaa.gov/web/guest/jtwc\n",
      "JTWC TROPICAL CYCLONE INFORMATION FEED\n",
      "https://metoc.ndbc.noaa.gov/web/guest/jtwc\n",
      "Current Northwest Pacific/North Indian Ocean* Tropical Systems\n",
      "https://metoc.ndbc.noaa.gov/web/guest/jtwc\n",
      "No Current Tropical Cyclone Warnings.\n",
      "* Includes Bay of Bengal and Arabian Sea\n",
      "]]>\n",
      "CDO.JTWC.fct@navy.mil (JTWC CDO)\n",
      "Northwest Pacific/North Indian Ocean* Tropical Systems\n",
      "NWPAC-NIO-WARNINGS\n",
      "Tue, 07 Feb 17 08:08:03 +0000\n",
      "Current Central/Eastern Pacific Tropical Systems\n",
      "https://metoc.ndbc.noaa.gov/web/guest/jtwc\n",
      "No Current Tropical Cyclone Warnings.\n",
      "]]>\n",
      "CDO.JTWC.fct@navy.mil (JTWC CDO)\n",
      "Central/Eastern Pacific Tropical Systems\n",
      "EPAC-CPAC-WARNINGS\n",
      "Tue, 07 Feb 17 08:08:03 +0000\n",
      "Current Southern Hemisphere Tropical Systems\n",
      "https://metoc.ndbc.noaa.gov/web/guest/jtwc\n",
      "Tropical Cyclone\n",
      "04S (Carlos) Warning #06\n",
      "Issued at 07/0300Z\n",
      "TC Warning Text\n",
      "TC Warning Graphic\n",
      "JMV 3.0 Data\n",
      "Google Earth Overlay\n",
      "IR Satellite Imagery\n",
      "Satellite Fix Bulletin\n",
      "]]>\n",
      "CDO.JTWC.fct@navy.mil (JTWC CDO)\n",
      "Southern Hemisphere Tropical Systems\n",
      "SH-WARNINGS\n",
      "Tue, 07 Feb 17 08:08:03 +0000\n",
      "Current Significant Tropical Weather Advisories\n",
      "https://metoc.ndbc.noaa.gov/web/guest/jtwc\n",
      "ABPW10 (Western/South Pacific Ocean)\n",
      "Issued at 07/0600Z\n",
      "- ABPW10 Text\n",
      "- Satellite Image\n",
      "ABIO10 (Indian Ocean)\n",
      "Issued at 06/1800Z\n",
      "- ABIO10 Text\n",
      "- Satellite Image\n",
      "]]>\n",
      "CDO.JTWC.fct@navy.mil (JTWC CDO)\n",
      "Significant Tropical Weather Advisories\n",
      "TROPICAL-ADVISORIES\n",
      "Tue, 07 Feb 17 08:08:03 +0000\n"
     ]
    }
   ],
   "source": [
    "print readxml(url,'lxml')"
   ]
  },
  {
   "cell_type": "markdown",
   "metadata": {
    "deletable": true,
    "editable": true
   },
   "source": [
    "JTWC also has a post-analysis for Best Track information at http://www.usno.navy.mil/NOOC/nmfc-ph/RSS/jtwc/best_tracks/ which however are updated annualy (For more info see [Best Track](BestTrack.ipynb)). "
   ]
  },
  {
   "cell_type": "markdown",
   "metadata": {
    "deletable": true,
    "editable": true
   },
   "source": [
    "The US military has an extended research division that provides also additional resources including satelite derived data. These are available at the Naval research Laboratory (http://www.nrlmry.navy.mil/). These services include the Automated Tropical Cyclone Forecasting System (ATCF - http://www.nrlmry.navy.mil/atcf_web/index1.html ) which provides an computer automated process for operational users such as the JTWC, NHC, HWRF etc. They also have Numerical  Weather Forecasting for global weather and TC in particular ( http://www.nrlmry.navy.mil/coamps-web/web/tc ). For more info see [NRL](NRL.ipynb)."
   ]
  },
  {
   "cell_type": "markdown",
   "metadata": {
    "deletable": true,
    "editable": true
   },
   "source": [
    "The main source is the JTWC. However the Tokyo Typhoon Center (TTC) issues also bulletins. These can be found at their own website http://www.jma.go.jp/en/typh/ where they can be also be retrieved from an 'experimental' RSS feed at http://www.data.jma.go.jp/fcd/yoho/cap-rsmctk/atom.xml. These info are also available at the WMO since the TTC is the official RMSC for the westerm pacific. "
   ]
  },
  {
   "cell_type": "markdown",
   "metadata": {
    "deletable": true,
    "editable": true
   },
   "source": [
    "We can read the feed from the above link as (the current info will be displayed if available)"
   ]
  },
  {
   "cell_type": "code",
   "execution_count": 38,
   "metadata": {
    "collapsed": false,
    "deletable": true,
    "editable": true
   },
   "outputs": [
    {
     "data": {
      "text/plain": [
       "u'<pre>TD expected upgrading\\nANALYSIS (0312UTC):\\nPressure 1004 hPa\\nat 7.6 degree north 131.6 degree east\\nposition POOR (radius more than 110 km).\\nMoving west-north-west 9 knots.\\nMax winds 30 knots.\\nGust 45 knots.\\n</pre>'"
      ]
     },
     "execution_count": 38,
     "metadata": {},
     "output_type": "execute_result"
    }
   ],
   "source": [
    "import feedparser\n",
    "\n",
    "url='http://www.data.jma.go.jp/fcd/yoho/cap-rsmctk/atom.xml'\n",
    "\n",
    "jmafeed=feedparser.parse(url)\n",
    "\n",
    "\n",
    "data=jmafeed['entries']\n",
    "data[0]['summary']"
   ]
  },
  {
   "cell_type": "code",
   "execution_count": 39,
   "metadata": {
    "collapsed": false,
    "deletable": true,
    "editable": true
   },
   "outputs": [
    {
     "name": "stdout",
     "output_type": "stream",
     "text": [
      "2017-02-03T13:35:03Z\n",
      "Typhoon Advisories from RSMC Tokyo\n",
      "https://ds.data.jma.go.jp/fcd/yoho/cap-rsmctk/\n",
      "RSMC Tokyo - Typhoon Centre\n",
      "2017-02-03T13:05:42.001Z\n",
      "TD expected upgrading ANALYSIS (0312UTC): 7.6°N 131.6°E POOR MOVE WNW 9 kt PRES 1004 hPa MXWD 30 kt GUST 45 kt\n",
      "TD expected upgrading\n",
      "ANALYSIS (0312UTC):\n",
      "Pressure 1004 hPa\n",
      "at 7.6 degree north 131.6 degree east\n",
      "position POOR (radius more than 110 km).\n",
      "Moving west-north-west 9 knots.\n",
      "Max winds 30 knots.\n",
      "Gust 45 knots.\n",
      "urn:uuid:eb13a68c-97b3-3ba7-a967-9b4e93337941\n",
      "urn:uuid:eb13a68c-97b3-3ba7-a967-9b4e93337941\n",
      "rsmc-tokyo@met.kishou.go.jp\n",
      "2017-02-03T13:05:42+00:00\n",
      "Actual\n",
      "Alert\n",
      "Public\n",
      "CAP-RSMCTK\n",
      "en-US\n",
      "Met\n",
      "TROPICAL CYCLONE ADVISORY/ANALYSIS\n",
      "Unknown\n",
      "Unknown\n",
      "Observed\n",
      "EventType\n",
      "TC_Analysis\n",
      "2017-02-03T13:10:00+00:00\n",
      "2017-02-03T12:00:00+00:00\n",
      "2017-02-03T19:30:00+00:00\n",
      "RSMC Tokyo - Typhoon Center\n",
      "TD expected upgrading ANALYSIS (0312UTC): 7.6°N 131.6°E POOR MOVE WNW 9 kt PRES 1004 hPa MXWD 30 kt GUST 45 kt\n",
      "TD expected upgrading\n",
      "ANALYSIS (0312UTC):\n",
      "Pressure 1004 hPa\n",
      "at 7.6 degree north 131.6 degree east\n",
      "position POOR (radius more than 110 km).\n",
      "Moving west-north-west 9 knots.\n",
      "Max winds 30 knots.\n",
      "Gust 45 knots.\n",
      "http://www.jma.go.jp/en/typh/index.html\n",
      "TC_Number\n",
      "1702\n",
      "TC_Remark\n",
      "Upgrading\n",
      "TC_Classification\n",
      "TD\n",
      "TC_MovingDirection\n",
      "WNW\n",
      "TC_MovingSpeed\n",
      "9 kt\n",
      "TC_PositionConfidence\n",
      "POOR\n",
      "TC_CenterPressure\n",
      "1004 hPa\n",
      "TC_Location\n",
      "ミンダナオ島の東\n",
      "TC_MaxSustainedWind\n",
      "30 kt\n",
      "TC_PeakGust\n",
      "45 kt\n",
      "EventEndTime\n",
      "2017-02-03T12:00:00+00:00\n",
      "TC_AnalysisTime\n",
      "2017-02-03T12:00:00+00:00\n",
      "UUID\n",
      "eb13a68c-97b3-3ba7-a967-9b4e93337941\n",
      "Sea East of Mindanao\n",
      "7.6,131.6 0\n",
      "2017-02-03T13:05:42.002Z\n",
      "TD expected upgrading FCST 24h (0412UTC): 9.6°N 130.0°E ±200 km MOVE NW 6 kt PRES 1000 hPa TOBE TS MXWD 35 kt GUST 50 kt\n",
      "TD expected upgrading\n",
      "Forecast 24 hr (0412UTC):\n",
      "Pressure 1000 hPa\n",
      "at 9.6 degree north 130.0 degree east\n",
      "with 200 km of 70 percent probability circle.\n",
      "Moving north-west 6 knots.\n",
      "Max winds 35 knots.\n",
      "Gust 50 knots.\n",
      "Expected to be TROPICAL STORM.\n",
      "urn:uuid:aed0d8b0-fa9b-308f-a693-cc158f12d8eb\n",
      "urn:uuid:aed0d8b0-fa9b-308f-a693-cc158f12d8eb\n",
      "rsmc-tokyo@met.kishou.go.jp\n",
      "2017-02-03T13:05:42+00:00\n",
      "Actual\n",
      "Alert\n",
      "Public\n",
      "CAP-RSMCTK\n",
      "en-US\n",
      "Met\n",
      "TROPICAL CYCLONE ADVISORY/FORECAST\n",
      "Unknown\n",
      "Unknown\n",
      "Observed\n",
      "EventType\n",
      "TC_Forecast24\n",
      "2017-02-03T13:10:00+00:00\n",
      "2017-02-04T12:00:00+00:00\n",
      "2017-02-03T19:30:00+00:00\n",
      "RSMC Tokyo - Typhoon Center\n",
      "TD expected upgrading FCST 24h (0412UTC): 9.6°N 130.0°E ±200 km MOVE NW 6 kt PRES 1000 hPa TOBE TS MXWD 35 kt GUST 50 kt\n",
      "TD expected upgrading\n",
      "Forecast 24 hr (0412UTC):\n",
      "Pressure 1000 hPa\n",
      "at 9.6 degree north 130.0 degree east\n",
      "with 200 km of 70 percent probability circle.\n",
      "Moving north-west 6 knots.\n",
      "Max winds 35 knots.\n",
      "Gust 50 knots.\n",
      "Expected to be TROPICAL STORM.\n",
      "http://www.jma.go.jp/en/typh/index.html\n",
      "TC_Number\n",
      "1702\n",
      "TC_Remark\n",
      "Upgrading\n",
      "TC_Classification\n",
      "TS\n",
      "TC_MovingDirection\n",
      "NW\n",
      "TC_MovingSpeed\n",
      "6 kt\n",
      "TC_CenterPressure\n",
      "1000 hPa\n",
      "TC_Location\n",
      "ミンダナオ島の東\n",
      "TC_MaxSustainedWind\n",
      "35 kt\n",
      "TC_PeakGust\n",
      "50 kt\n",
      "EventEndTime\n",
      "2017-02-04T12:00:00+00:00\n",
      "TC_AnalysisTime\n",
      "2017-02-03T12:00:00+00:00\n",
      "UUID\n",
      "aed0d8b0-fa9b-308f-a693-cc158f12d8eb\n",
      "Sea East of Mindanao\n",
      "9.6,130.0 200\n"
     ]
    }
   ],
   "source": [
    "print readxml(url,'lxml')"
   ]
  },
  {
   "cell_type": "markdown",
   "metadata": {
    "deletable": true,
    "editable": true
   },
   "source": [
    "In addition TTC provides re-analysis data for past events in the form of 'Best Track Data' at  http://www.jma.go.jp/jma/jma-eng/jma-center/rsmc-hp-pub-eg/trackarchives.html. (For more info see [Best Track](BestTrack.ipynb)) Furthermore the newly operational Himawari satellite provides satellite images for the globe and more specific areas. These are available online at http://www.jma.go.jp/en/gms/index.html?area=6&element=0&mode=UTC. For more info see http://ds.data.jma.go.jp/mscweb/data/himawari/index.html"
   ]
  },
  {
   "cell_type": "markdown",
   "metadata": {
    "deletable": true,
    "editable": true
   },
   "source": [
    "## Additional services"
   ]
  },
  {
   "cell_type": "markdown",
   "metadata": {
    "deletable": true,
    "editable": true
   },
   "source": [
    "In addition to the operational services above there are websites that gather available data and provide relative information. Such sites are\n",
    "\n",
    "The Pacific Disaster Ceneter http://www.pdc.org/ : Information mainly from JTWC\n",
    "\n",
    "Weather Underground  http://www.wunderground.com/  : Incorporates NOAA data see http://www.wunderground.com/wundermap/, part of Weather Channel.\n",
    "\n",
    "NOAA environment visualization laboratory http://www.nnvl.noaa.gov/Default.php : for animations and satelite images\n"
   ]
  },
  {
   "cell_type": "markdown",
   "metadata": {
    "deletable": true,
    "editable": true
   },
   "source": [
    "## Numerical Weather Forecasts (NWF)"
   ]
  },
  {
   "cell_type": "markdown",
   "metadata": {
    "deletable": true,
    "editable": true
   },
   "source": [
    "Another recent source of information comes from global numerical simulations. These are performed by various organizations and some are deemed 'operational' while others are 'experimental'. The two main organization that produce global analysis and forecasting are the European Centre for Medium-Range Weather Forecasts (ECMWF) and NOAA (various divisions). \n",
    "\n",
    "ECMWF (http://www.ecmwf.int/) provides a plethora of simulated data including short and long-term forecasting. However unlike NOAA (see below) their data are not always available for free. For more info on available TC ECMWF data look at [ECMWF data](ECMWF data.ipynb). "
   ]
  },
  {
   "cell_type": "markdown",
   "metadata": {
    "deletable": true,
    "editable": true
   },
   "source": [
    "NOAA has several divisions that utilize a variety of models to compute various quantities. The more pertinent one is the Hurricane Weather Research and Forecast (HWRF). From HWRF website (http://www.emc.ncep.noaa.gov/gc_wmb/vxt/HWRF/) we read\n",
    "\n",
    "\n",
    "\"The HWRF system is composed of the WRF model software infrastructure, the Non-Hydrostatic Mesoscale Model (NMM) dynamic core, the three-dimensional Princeton Ocean Model (POM), the NCEP coupler, and a physics suite tailored to the tropics, including air-sea interactions over warm water and under high wind conditions, and boundary layer and cloud physics developed for hurricane forecasts. The atmosphere-ocean coupled HWRF system consists of multiple movable two-way interactive nested grids that follow the projected path of the storm. Atmospheric component of the HWRF model was coupled to the Princeton Ocean Model (POM) developed by GFDL/URI using a sophisticated coupler developed at NCEP for providing accurate representation of air-sea interactions. An advanced vortex initialization scheme and NCEP GSI based HWRF Data Assimilation System (HDAS) provide means to represent the initial location, intensity, size and structure of the inner core of a hurricane and it’s large-scale environment. The NCEP Global Forecast System (GFS) analysis and forecasts provide initial and boundary conditions for the HWRF model. POM uses a feature based initialization procedure for representing oceanic features such as the loop current, warm/cold core rings and the cold wake generated by the storm.\""
   ]
  },
  {
   "cell_type": "markdown",
   "metadata": {
    "deletable": true,
    "editable": true
   },
   "source": [
    "HWRF are providing operational info for TC in all basins since 2015. They also publish their raw data (every 6 hours) for the last 2 timestamps at http://ftpprd.ncep.noaa.gov/data/nccf/com/hur/prod/ and ftp://ftpprd.ncep.noaa.gov/pub/data/nccf/com/hur/prod/. Note that in the above links the GFS data mentioned above are also given. However, unlike HWRF, the GFS data are available for longer periods of time in various outlets. For more info see http://nomads.ncep.noaa.gov/ "
   ]
  },
  {
   "cell_type": "markdown",
   "metadata": {
    "deletable": true,
    "editable": true
   },
   "source": [
    "In addition the HWRF model is open sourced in the following location http://www.dtcenter.org/HurrWRF/users/. \n",
    "\n",
    "\"The WRF system contains two dynamical solvers, referred to as the ARW (Advanced Research WRF) core and the NMM (Nonhydrostatic Mesoscale Model) core. The ARW has been largely developed and maintained by the Mesoscale and Microscale Meteorology (MMM) Laboratory of the National Center for Atmospheric Research (NCAR), and its users' page is: ( http://www2.mmm.ucar.edu/wrf/users/ ). The NMM core was developed by the National Centers for Environmental Prediction, and its user support is provided by the Developmental Testbed Center. Its users' page is: http://www.dtcenter.org/wrf-nmm/users/WRF-NMM.\n",
    "\n",
    "NCAR is actually running a Tropical Cyclone Guidance Project with a lot of info and links available (http://www.ral.ucar.edu/hurricanes/). In particular info regarding another product provided in the operation HWRF page (see above) called Statistical Hurricane Intensity Prediction Scheme (SHIPS) can be found here http://rammb.cira.colostate.edu/research/tropical_cyclones/ships/ and here http://www.ral.ucar.edu/hurricanes/realtime/ ."
   ]
  },
  {
   "cell_type": "markdown",
   "metadata": {
    "deletable": true,
    "editable": true
   },
   "source": [
    "Another numerical Hurricane model that also provides modules for HWRF is the Geophysical Fluid Dynamics Laboratory's (GFDL) model. Info and real time forecast can be found here http://data1.gfdl.noaa.gov/hurricane/gfdl_ensemble/GFE_DEMO_2015.php?STORMID=09W&YMDH=2015070800_CHAN-HOM09W&prod=H1 and http://www.gfdl.noaa.gov/hurricane-portal."
   ]
  },
  {
   "cell_type": "markdown",
   "metadata": {
    "deletable": true,
    "editable": true
   },
   "source": [
    "JMA : http://www.jma.go.jp/jma/jma-eng/jma-center/nwp/nwp-top.htm"
   ]
  },
  {
   "cell_type": "markdown",
   "metadata": {
    "deletable": true,
    "editable": true
   },
   "source": [
    "## Satellite Driven Analysis"
   ]
  },
  {
   "cell_type": "markdown",
   "metadata": {
    "deletable": true,
    "editable": true
   },
   "source": [
    "Another NOAA division that produces an composite product based on satellite information is the NOAA Satellite and Information Service (NESDIS - http://www.nesdis.noaa.gov/). Their product related to TCs is called 'Multiplatform Tropical Cyclone Surface Winds Analysis (MTCSWA)' that provides satellite based wind estimates around TCs. According to their site \n",
    "\n",
    "\"This product combines information from five data sources to create a mid-level (near 700 hPa) wind analysis using a variational approach described in Knaff and DeMaria (2006). The resulting mid-level winds are then adjusted to the surface applying a very simple single column approach. Over the ocean an adjustment factor is applied, which is a function of radius from the center ranging from 0.9 to 0.7, and the winds are turned 20 degrees toward low pressure. Over land, the oceanic winds are reduced by an additional 20% and turned an additional 20 degrees toward low pressure.\n",
    "\n",
    "The six datasets used are the QuikSCAT scatterometer, which is adjusted upward to 700 hPa in the same manner as the surface winds are adjusted downward, ASCAT scatterometer (treated the same way as QuikSCAT), feature track winds in the mid-levels from the operational satellite centers, 2-d flight-level winds estimated from infrared imagery (see Mueller et al 2006 ) and 2-d winds created from Advanced Microwave Sounding Unit (AMSU)- derived height fields and solving the non-linear balance equations as described in Bessho et al (2006).\n",
    "\n",
    "Each of the input data are show in subpannels following the analysis (i.e., storm-relative). Shown are AMSU winds, Cloud-drift/IR/WV winds, IR-proxy winds and Scatterometer winds; QuikSCAT (BLUE) and ASCAT (RED). All input data in these pannels has been reduced to a 10-m land or oceanic exposurenon depending on the analysis time location (i.e., non-surface data has been reduced to a 10-m exposure).\"\n",
    "\n",
    "An extensive set of data can be found in the form of pictures at their development website in Colorado State University (http://rammb.cira.colostate.edu/products/tc_realtime/), while the raw data are available per TC at this address \n",
    "ftp://satepsanone.nesdis.noaa.gov/MTCSWA/. Note that availability of data has an expiration date (roughly a month or so).\n",
    "\n",
    "Information regarding additional TC products can be found at http://www.ssd.noaa.gov/PS/TROP/index.html. These include except the MTCSWA above the so called Advanced Dvorak Technique (ADT). For more see the Development site at the University of Winsconsin-Madison (http://tropic.ssec.wisc.edu/misc/adt/info.html). The description of the method there states\n",
    "\n",
    "\"The Advanced Dvorak Technique (ADT) utilizes longwave-infrared, temperature measurements from geostationary satellites to estimate tropical cyclone (TC) intensity. The ADT currently utilizes an objective storm center determination scheme and cloud pattern determination logic to remove the subjectivity aspect from the intensity estimation process. It also can be applied to all phases of the TC lifecycle; something that previous objective schemes could not do. Finally, the ADT makes use of statistical analysis results obtained from a 10+ year sample of North Atlantic storms, along with a significant sample of West and East Pacific storms, covering the entire spectrum of TC intensities to derive a regression-based intensity value estimate for various phases of the TC lifecycle.\"\n",
    "\n",
    "The main page for TCs of the University of Winsconsin-Madison also serves as a portal to information for active TCs http://tropic.ssec.wisc.edu/. A click on a current TC launches a viewer where all current satellite driven information can be overlayed. "
   ]
  },
  {
   "cell_type": "markdown",
   "metadata": {
    "deletable": true,
    "editable": true
   },
   "source": [
    "# Satellite data"
   ]
  },
  {
   "cell_type": "markdown",
   "metadata": {
    "deletable": true,
    "editable": true
   },
   "source": [
    "The most important info needed for analysis of a TC is the pressure and wind field around it. In terms of wind field the satellite analysis uses a number of satellites and technics for computing the surface wind vectors (SW). All the available sources with graphs can be found at http://manati.star.nesdis.noaa.gov/datasets/ASCATData.php and include the currently operational ASCAT (METOP-A,B) RapidSCAT (http://www.nasa.gov/mission_pages/station/research/experiments/1067.html ) and WindSAT. One can click on the pixeled graph for a close-up. In addition by clicking on the corresponding link of the service and navigate to 'storm data' one can get graphs for specific TC in all basins ( e.g. http://manati.star.nesdis.noaa.gov/datasets/WindSATData.php?parname=storm ). The actual data can be found in the OPeNDAP service run by NASA at this address  http://podaac.jpl.nasa.gov/datasetlist where one can choose the prefered 'Collection', e.g. 'Quick Scatterometer' would lead us to  http://podaac.jpl.nasa.gov/datasetlist?ids=Collections&values=QUIKSCAT&view=list where we can choose the QuickSCAT data server. \n",
    "\n",
    "The same way we can get to \n",
    "\n",
    "rapidscat: http://podaac-opendap.jpl.nasa.gov/opendap/allData/rapidscat/L2B12/v1.1/2015/\n",
    "\n",
    "ascat(meteop b) : http://podaac-opendap.jpl.nasa.gov/opendap/allData/ascat/preview/L2/metop_b/coastal_opt/\n",
    "\n",
    "ascat(mteop a) : http://podaac-opendap.jpl.nasa.gov/opendap/allData/ascat/preview/L2/metop_a/coastal_opt/\n",
    "\n",
    "windsat : http://podaac-opendap.jpl.nasa.gov/opendap/allData/windsat/L3/rss/v7/"
   ]
  },
  {
   "cell_type": "markdown",
   "metadata": {
    "deletable": true,
    "editable": true
   },
   "source": [
    "Information about available satellite data can also be found at the eSurge website http://www.storm-surge.info/data-access. Windsat data are also given as graphs in reference to TCs here http://www.remss.com/storm-watch ."
   ]
  },
  {
   "cell_type": "markdown",
   "metadata": {
    "deletable": true,
    "editable": true
   },
   "source": [
    "One of the newest satellites in operation is the Japanese himawari-8 that covers the Central & Western Pacific. A four weeks archive can be found at http://rammb.cira.colostate.edu/ramsdis/online/himawari-8.asp#Japan. Additional imagery by other sources can be found in http://www.ssd.noaa.gov/imagery/ ."
   ]
  },
  {
   "cell_type": "markdown",
   "metadata": {
    "deletable": true,
    "editable": true
   },
   "source": [
    "Data and info regarding scatterometers can also be accessed via the Royal Netherlands Meteorogical Institute http://www.knmi.nl/scatterometer/."
   ]
  },
  {
   "cell_type": "markdown",
   "metadata": {
    "deletable": true,
    "editable": true
   },
   "source": [
    "# Simplified models"
   ]
  },
  {
   "cell_type": "markdown",
   "metadata": {
    "deletable": true,
    "editable": true
   },
   "source": [
    "## Dvorak technique"
   ]
  },
  {
   "cell_type": "markdown",
   "metadata": {
    "deletable": true,
    "editable": true
   },
   "source": [
    "## Holland Parameter"
   ]
  },
  {
   "cell_type": "markdown",
   "metadata": {
    "deletable": true,
    "editable": true
   },
   "source": [
    "## Simplified Holland Parameter"
   ]
  },
  {
   "cell_type": "markdown",
   "metadata": {
    "deletable": true,
    "editable": true
   },
   "source": [
    "# Model comparison - Analysis"
   ]
  },
  {
   "cell_type": "markdown",
   "metadata": {
    "deletable": true,
    "editable": true
   },
   "source": [
    "# Discussions - Suggestions"
   ]
  },
  {
   "cell_type": "markdown",
   "metadata": {
    "deletable": true,
    "editable": true
   },
   "source": [
    "# Misc"
   ]
  },
  {
   "cell_type": "markdown",
   "metadata": {
    "deletable": true,
    "editable": true
   },
   "source": [
    "NOAA among other organizations is developing a program for aggregating all their data in ERDDAP servers. Such servers can be found here http://upwell.pfeg.noaa.gov/erddap/index.html and here http://coastwatch.pfeg.noaa.gov/erddap/index.html.  Note that this is a work in progress. A similar server is actually operational here in JRC (  https://bluehub.jrc.ec.europa.eu/erddap/index.html ) where a variety of NOAA data can be found.  "
   ]
  },
  {
   "cell_type": "markdown",
   "metadata": {
    "deletable": true,
    "editable": true
   },
   "source": [
    "A repository of NOAA data can also be found here http://www.nco.ncep.noaa.gov/pmb/products/ ."
   ]
  },
  {
   "cell_type": "markdown",
   "metadata": {
    "deletable": true,
    "editable": true
   },
   "source": [
    "A variety of maps and images (some related to TCs) can be found here http://earthobservatory.nasa.gov/?eocn=topnav&eoci=home and here http://www.nasa.gov/mission_pages/hurricanes/main/index.html ."
   ]
  },
  {
   "cell_type": "markdown",
   "metadata": {
    "deletable": true,
    "editable": true
   },
   "source": [
    "A nice up to date portal at wikipedia with info, pictures and links https://en.wikipedia.org/wiki/Portal:Tropical_cyclones."
   ]
  },
  {
   "cell_type": "markdown",
   "metadata": {
    "deletable": true,
    "editable": true
   },
   "source": [
    "JTWC bulletins archive in NOOA http://weather.noaa.gov/pub/data/raw/ with the folders refering to the code of the TC e.g. 'WTPN31 PGTW 060900' ->  http://weather.noaa.gov/pub/data/raw/wt/wtpn31.pgtw..txt."
   ]
  },
  {
   "cell_type": "code",
   "execution_count": null,
   "metadata": {
    "collapsed": false,
    "deletable": true,
    "editable": true
   },
   "outputs": [],
   "source": []
  }
 ],
 "metadata": {
  "kernelspec": {
   "display_name": "Python 2",
   "language": "python",
   "name": "python2"
  },
  "language_info": {
   "codemirror_mode": {
    "name": "ipython",
    "version": 2
   },
   "file_extension": ".py",
   "mimetype": "text/x-python",
   "name": "python",
   "nbconvert_exporter": "python",
   "pygments_lexer": "ipython2",
   "version": "2.7.13"
  }
 },
 "nbformat": 4,
 "nbformat_minor": 0
}
