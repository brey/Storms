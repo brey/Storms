{
 "cells": [
  {
   "cell_type": "markdown",
   "metadata": {
    "deletable": true,
    "editable": true
   },
   "source": [
    "## Computing velocity and acceleration of x,y data"
   ]
  },
  {
   "cell_type": "markdown",
   "metadata": {
    "deletable": true,
    "editable": true
   },
   "source": [
    "based on http://stackoverflow.com/questions/28269379/curve-curvature-in-numpy among other information."
   ]
  },
  {
   "cell_type": "code",
   "execution_count": 1,
   "metadata": {
    "collapsed": true,
    "deletable": true,
    "editable": true
   },
   "outputs": [],
   "source": [
    "%matplotlib notebook"
   ]
  },
  {
   "cell_type": "code",
   "execution_count": 2,
   "metadata": {
    "collapsed": true,
    "deletable": true,
    "editable": true
   },
   "outputs": [],
   "source": [
    "import numpy as np"
   ]
  },
  {
   "cell_type": "code",
   "execution_count": 3,
   "metadata": {
    "collapsed": true,
    "deletable": true,
    "editable": true
   },
   "outputs": [],
   "source": [
    "import matplotlib.pyplot as plt"
   ]
  },
  {
   "cell_type": "code",
   "execution_count": 4,
   "metadata": {
    "collapsed": true,
    "deletable": true,
    "editable": true
   },
   "outputs": [],
   "source": [
    "a = np.array([ [  0.  ,   0.  ],[  0.3 ,   0.  ],[  1.25,  -0.1 ],\n",
    "              [  2.1 ,  -0.9 ],[  2.85,  -2.3 ],[  3.8 ,  -3.95],\n",
    "              [  5.  ,  -5.75],[  6.4 ,  -7.8 ],[  8.05,  -9.9 ],\n",
    "              [  9.9 , -11.6 ],[ 12.05, -12.85],[ 14.25, -13.7 ],\n",
    "              [ 16.5 , -13.8 ],[ 19.25, -13.35],[ 21.3 , -12.2 ],\n",
    "              [ 22.8 , -10.5 ],[ 23.55,  -8.15],[ 22.95,  -6.1 ],\n",
    "              [ 21.35,  -3.95],[ 19.1 ,  -1.9 ]])"
   ]
  },
  {
   "cell_type": "code",
   "execution_count": 5,
   "metadata": {
    "collapsed": false,
    "deletable": true,
    "editable": true
   },
   "outputs": [],
   "source": [
    "x=a[:, 0]\n",
    "y=a[:, 1]"
   ]
  },
  {
   "cell_type": "code",
   "execution_count": 6,
   "metadata": {
    "collapsed": true,
    "deletable": true,
    "editable": true
   },
   "outputs": [],
   "source": [
    "dx_dt = np.gradient(a[:, 0])\n",
    "dy_dt = np.gradient(a[:, 1])\n",
    "velocity = np.array([ [dx_dt[i], dy_dt[i]] for i in range(dx_dt.size)])"
   ]
  },
  {
   "cell_type": "code",
   "execution_count": 7,
   "metadata": {
    "collapsed": true,
    "deletable": true,
    "editable": true
   },
   "outputs": [],
   "source": [
    "velx=velocity[:,0]\n",
    "vely=velocity[:,1]"
   ]
  },
  {
   "cell_type": "code",
   "execution_count": 8,
   "metadata": {
    "collapsed": true,
    "deletable": true,
    "editable": true
   },
   "outputs": [],
   "source": [
    "ds_dt = np.sqrt(dx_dt * dx_dt + dy_dt * dy_dt)"
   ]
  },
  {
   "cell_type": "code",
   "execution_count": 9,
   "metadata": {
    "collapsed": true,
    "deletable": true,
    "editable": true
   },
   "outputs": [],
   "source": [
    "tangent = np.array([1/ds_dt] * 2).transpose() * velocity"
   ]
  },
  {
   "cell_type": "code",
   "execution_count": 10,
   "metadata": {
    "collapsed": false,
    "deletable": true,
    "editable": true
   },
   "outputs": [
    {
     "data": {
      "text/plain": [
       "array([ 1.,  1.,  1.,  1.,  1.,  1.,  1.,  1.,  1.,  1.,  1.,  1.,  1.,\n",
       "        1.,  1.,  1.,  1.,  1.,  1.,  1.])"
      ]
     },
     "execution_count": 10,
     "metadata": {},
     "output_type": "execute_result"
    }
   ],
   "source": [
    "np.sqrt(tangent[:,0] * tangent[:,0] + tangent[:,1] * tangent[:,1])"
   ]
  },
  {
   "cell_type": "code",
   "execution_count": 11,
   "metadata": {
    "collapsed": false,
    "deletable": true,
    "editable": true
   },
   "outputs": [],
   "source": [
    "tangent_x = tangent[:, 0]\n",
    "tangent_y = tangent[:, 1]\n",
    "\n",
    "deriv_tangent_x = np.gradient(tangent_x)\n",
    "deriv_tangent_y = np.gradient(tangent_y)\n",
    "\n",
    "dT_dt = np.array([ [deriv_tangent_x[i], deriv_tangent_y[i]] for i in range(deriv_tangent_x.size)])\n",
    "\n",
    "length_dT_dt = np.sqrt(deriv_tangent_x * deriv_tangent_x + deriv_tangent_y * deriv_tangent_y)\n",
    "\n",
    "normal = np.array([1/length_dT_dt] * 2).transpose() * dT_dt"
   ]
  },
  {
   "cell_type": "code",
   "execution_count": 12,
   "metadata": {
    "collapsed": true,
    "deletable": true,
    "editable": true
   },
   "outputs": [],
   "source": [
    "d2s_dt2 = np.gradient(ds_dt)\n",
    "d2x_dt2 = np.gradient(dx_dt)\n",
    "d2y_dt2 = np.gradient(dy_dt)\n",
    "\n",
    "curvature = np.abs(d2x_dt2 * dy_dt - dx_dt * d2y_dt2) / (dx_dt * dx_dt + dy_dt * dy_dt)**1.5\n",
    "t_component = np.array([d2s_dt2] * 2).transpose()\n",
    "n_component = np.array([curvature * ds_dt * ds_dt] * 2).transpose()\n",
    "\n",
    "acceleration = t_component * tangent + n_component * normal"
   ]
  },
  {
   "cell_type": "code",
   "execution_count": 13,
   "metadata": {
    "collapsed": false,
    "deletable": true,
    "editable": true
   },
   "outputs": [],
   "source": [
    "w=np.sqrt(velx**2+vely**2)"
   ]
  },
  {
   "cell_type": "code",
   "execution_count": 14,
   "metadata": {
    "collapsed": false,
    "deletable": true,
    "editable": true
   },
   "outputs": [
    {
     "data": {
      "application/javascript": [
       "/* Put everything inside the global mpl namespace */\n",
       "window.mpl = {};\n",
       "\n",
       "\n",
       "mpl.get_websocket_type = function() {\n",
       "    if (typeof(WebSocket) !== 'undefined') {\n",
       "        return WebSocket;\n",
       "    } else if (typeof(MozWebSocket) !== 'undefined') {\n",
       "        return MozWebSocket;\n",
       "    } else {\n",
       "        alert('Your browser does not have WebSocket support.' +\n",
       "              'Please try Chrome, Safari or Firefox ≥ 6. ' +\n",
       "              'Firefox 4 and 5 are also supported but you ' +\n",
       "              'have to enable WebSockets in about:config.');\n",
       "    };\n",
       "}\n",
       "\n",
       "mpl.figure = function(figure_id, websocket, ondownload, parent_element) {\n",
       "    this.id = figure_id;\n",
       "\n",
       "    this.ws = websocket;\n",
       "\n",
       "    this.supports_binary = (this.ws.binaryType != undefined);\n",
       "\n",
       "    if (!this.supports_binary) {\n",
       "        var warnings = document.getElementById(\"mpl-warnings\");\n",
       "        if (warnings) {\n",
       "            warnings.style.display = 'block';\n",
       "            warnings.textContent = (\n",
       "                \"This browser does not support binary websocket messages. \" +\n",
       "                    \"Performance may be slow.\");\n",
       "        }\n",
       "    }\n",
       "\n",
       "    this.imageObj = new Image();\n",
       "\n",
       "    this.context = undefined;\n",
       "    this.message = undefined;\n",
       "    this.canvas = undefined;\n",
       "    this.rubberband_canvas = undefined;\n",
       "    this.rubberband_context = undefined;\n",
       "    this.format_dropdown = undefined;\n",
       "\n",
       "    this.image_mode = 'full';\n",
       "\n",
       "    this.root = $('<div/>');\n",
       "    this._root_extra_style(this.root)\n",
       "    this.root.attr('style', 'display: inline-block');\n",
       "\n",
       "    $(parent_element).append(this.root);\n",
       "\n",
       "    this._init_header(this);\n",
       "    this._init_canvas(this);\n",
       "    this._init_toolbar(this);\n",
       "\n",
       "    var fig = this;\n",
       "\n",
       "    this.waiting = false;\n",
       "\n",
       "    this.ws.onopen =  function () {\n",
       "            fig.send_message(\"supports_binary\", {value: fig.supports_binary});\n",
       "            fig.send_message(\"send_image_mode\", {});\n",
       "            if (mpl.ratio != 1) {\n",
       "                fig.send_message(\"set_dpi_ratio\", {'dpi_ratio': mpl.ratio});\n",
       "            }\n",
       "            fig.send_message(\"refresh\", {});\n",
       "        }\n",
       "\n",
       "    this.imageObj.onload = function() {\n",
       "            if (fig.image_mode == 'full') {\n",
       "                // Full images could contain transparency (where diff images\n",
       "                // almost always do), so we need to clear the canvas so that\n",
       "                // there is no ghosting.\n",
       "                fig.context.clearRect(0, 0, fig.canvas.width, fig.canvas.height);\n",
       "            }\n",
       "            fig.context.drawImage(fig.imageObj, 0, 0);\n",
       "        };\n",
       "\n",
       "    this.imageObj.onunload = function() {\n",
       "        this.ws.close();\n",
       "    }\n",
       "\n",
       "    this.ws.onmessage = this._make_on_message_function(this);\n",
       "\n",
       "    this.ondownload = ondownload;\n",
       "}\n",
       "\n",
       "mpl.figure.prototype._init_header = function() {\n",
       "    var titlebar = $(\n",
       "        '<div class=\"ui-dialog-titlebar ui-widget-header ui-corner-all ' +\n",
       "        'ui-helper-clearfix\"/>');\n",
       "    var titletext = $(\n",
       "        '<div class=\"ui-dialog-title\" style=\"width: 100%; ' +\n",
       "        'text-align: center; padding: 3px;\"/>');\n",
       "    titlebar.append(titletext)\n",
       "    this.root.append(titlebar);\n",
       "    this.header = titletext[0];\n",
       "}\n",
       "\n",
       "\n",
       "\n",
       "mpl.figure.prototype._canvas_extra_style = function(canvas_div) {\n",
       "\n",
       "}\n",
       "\n",
       "\n",
       "mpl.figure.prototype._root_extra_style = function(canvas_div) {\n",
       "\n",
       "}\n",
       "\n",
       "mpl.figure.prototype._init_canvas = function() {\n",
       "    var fig = this;\n",
       "\n",
       "    var canvas_div = $('<div/>');\n",
       "\n",
       "    canvas_div.attr('style', 'position: relative; clear: both; outline: 0');\n",
       "\n",
       "    function canvas_keyboard_event(event) {\n",
       "        return fig.key_event(event, event['data']);\n",
       "    }\n",
       "\n",
       "    canvas_div.keydown('key_press', canvas_keyboard_event);\n",
       "    canvas_div.keyup('key_release', canvas_keyboard_event);\n",
       "    this.canvas_div = canvas_div\n",
       "    this._canvas_extra_style(canvas_div)\n",
       "    this.root.append(canvas_div);\n",
       "\n",
       "    var canvas = $('<canvas/>');\n",
       "    canvas.addClass('mpl-canvas');\n",
       "    canvas.attr('style', \"left: 0; top: 0; z-index: 0; outline: 0\")\n",
       "\n",
       "    this.canvas = canvas[0];\n",
       "    this.context = canvas[0].getContext(\"2d\");\n",
       "\n",
       "    var backingStore = this.context.backingStorePixelRatio ||\n",
       "\tthis.context.webkitBackingStorePixelRatio ||\n",
       "\tthis.context.mozBackingStorePixelRatio ||\n",
       "\tthis.context.msBackingStorePixelRatio ||\n",
       "\tthis.context.oBackingStorePixelRatio ||\n",
       "\tthis.context.backingStorePixelRatio || 1;\n",
       "\n",
       "    mpl.ratio = (window.devicePixelRatio || 1) / backingStore;\n",
       "\n",
       "    var rubberband = $('<canvas/>');\n",
       "    rubberband.attr('style', \"position: absolute; left: 0; top: 0; z-index: 1;\")\n",
       "\n",
       "    var pass_mouse_events = true;\n",
       "\n",
       "    canvas_div.resizable({\n",
       "        start: function(event, ui) {\n",
       "            pass_mouse_events = false;\n",
       "        },\n",
       "        resize: function(event, ui) {\n",
       "            fig.request_resize(ui.size.width, ui.size.height);\n",
       "        },\n",
       "        stop: function(event, ui) {\n",
       "            pass_mouse_events = true;\n",
       "            fig.request_resize(ui.size.width, ui.size.height);\n",
       "        },\n",
       "    });\n",
       "\n",
       "    function mouse_event_fn(event) {\n",
       "        if (pass_mouse_events)\n",
       "            return fig.mouse_event(event, event['data']);\n",
       "    }\n",
       "\n",
       "    rubberband.mousedown('button_press', mouse_event_fn);\n",
       "    rubberband.mouseup('button_release', mouse_event_fn);\n",
       "    // Throttle sequential mouse events to 1 every 20ms.\n",
       "    rubberband.mousemove('motion_notify', mouse_event_fn);\n",
       "\n",
       "    rubberband.mouseenter('figure_enter', mouse_event_fn);\n",
       "    rubberband.mouseleave('figure_leave', mouse_event_fn);\n",
       "\n",
       "    canvas_div.on(\"wheel\", function (event) {\n",
       "        event = event.originalEvent;\n",
       "        event['data'] = 'scroll'\n",
       "        if (event.deltaY < 0) {\n",
       "            event.step = 1;\n",
       "        } else {\n",
       "            event.step = -1;\n",
       "        }\n",
       "        mouse_event_fn(event);\n",
       "    });\n",
       "\n",
       "    canvas_div.append(canvas);\n",
       "    canvas_div.append(rubberband);\n",
       "\n",
       "    this.rubberband = rubberband;\n",
       "    this.rubberband_canvas = rubberband[0];\n",
       "    this.rubberband_context = rubberband[0].getContext(\"2d\");\n",
       "    this.rubberband_context.strokeStyle = \"#000000\";\n",
       "\n",
       "    this._resize_canvas = function(width, height) {\n",
       "        // Keep the size of the canvas, canvas container, and rubber band\n",
       "        // canvas in synch.\n",
       "        canvas_div.css('width', width)\n",
       "        canvas_div.css('height', height)\n",
       "\n",
       "        canvas.attr('width', width * mpl.ratio);\n",
       "        canvas.attr('height', height * mpl.ratio);\n",
       "        canvas.attr('style', 'width: ' + width + 'px; height: ' + height + 'px;');\n",
       "\n",
       "        rubberband.attr('width', width);\n",
       "        rubberband.attr('height', height);\n",
       "    }\n",
       "\n",
       "    // Set the figure to an initial 600x600px, this will subsequently be updated\n",
       "    // upon first draw.\n",
       "    this._resize_canvas(600, 600);\n",
       "\n",
       "    // Disable right mouse context menu.\n",
       "    $(this.rubberband_canvas).bind(\"contextmenu\",function(e){\n",
       "        return false;\n",
       "    });\n",
       "\n",
       "    function set_focus () {\n",
       "        canvas.focus();\n",
       "        canvas_div.focus();\n",
       "    }\n",
       "\n",
       "    window.setTimeout(set_focus, 100);\n",
       "}\n",
       "\n",
       "mpl.figure.prototype._init_toolbar = function() {\n",
       "    var fig = this;\n",
       "\n",
       "    var nav_element = $('<div/>')\n",
       "    nav_element.attr('style', 'width: 100%');\n",
       "    this.root.append(nav_element);\n",
       "\n",
       "    // Define a callback function for later on.\n",
       "    function toolbar_event(event) {\n",
       "        return fig.toolbar_button_onclick(event['data']);\n",
       "    }\n",
       "    function toolbar_mouse_event(event) {\n",
       "        return fig.toolbar_button_onmouseover(event['data']);\n",
       "    }\n",
       "\n",
       "    for(var toolbar_ind in mpl.toolbar_items) {\n",
       "        var name = mpl.toolbar_items[toolbar_ind][0];\n",
       "        var tooltip = mpl.toolbar_items[toolbar_ind][1];\n",
       "        var image = mpl.toolbar_items[toolbar_ind][2];\n",
       "        var method_name = mpl.toolbar_items[toolbar_ind][3];\n",
       "\n",
       "        if (!name) {\n",
       "            // put a spacer in here.\n",
       "            continue;\n",
       "        }\n",
       "        var button = $('<button/>');\n",
       "        button.addClass('ui-button ui-widget ui-state-default ui-corner-all ' +\n",
       "                        'ui-button-icon-only');\n",
       "        button.attr('role', 'button');\n",
       "        button.attr('aria-disabled', 'false');\n",
       "        button.click(method_name, toolbar_event);\n",
       "        button.mouseover(tooltip, toolbar_mouse_event);\n",
       "\n",
       "        var icon_img = $('<span/>');\n",
       "        icon_img.addClass('ui-button-icon-primary ui-icon');\n",
       "        icon_img.addClass(image);\n",
       "        icon_img.addClass('ui-corner-all');\n",
       "\n",
       "        var tooltip_span = $('<span/>');\n",
       "        tooltip_span.addClass('ui-button-text');\n",
       "        tooltip_span.html(tooltip);\n",
       "\n",
       "        button.append(icon_img);\n",
       "        button.append(tooltip_span);\n",
       "\n",
       "        nav_element.append(button);\n",
       "    }\n",
       "\n",
       "    var fmt_picker_span = $('<span/>');\n",
       "\n",
       "    var fmt_picker = $('<select/>');\n",
       "    fmt_picker.addClass('mpl-toolbar-option ui-widget ui-widget-content');\n",
       "    fmt_picker_span.append(fmt_picker);\n",
       "    nav_element.append(fmt_picker_span);\n",
       "    this.format_dropdown = fmt_picker[0];\n",
       "\n",
       "    for (var ind in mpl.extensions) {\n",
       "        var fmt = mpl.extensions[ind];\n",
       "        var option = $(\n",
       "            '<option/>', {selected: fmt === mpl.default_extension}).html(fmt);\n",
       "        fmt_picker.append(option)\n",
       "    }\n",
       "\n",
       "    // Add hover states to the ui-buttons\n",
       "    $( \".ui-button\" ).hover(\n",
       "        function() { $(this).addClass(\"ui-state-hover\");},\n",
       "        function() { $(this).removeClass(\"ui-state-hover\");}\n",
       "    );\n",
       "\n",
       "    var status_bar = $('<span class=\"mpl-message\"/>');\n",
       "    nav_element.append(status_bar);\n",
       "    this.message = status_bar[0];\n",
       "}\n",
       "\n",
       "mpl.figure.prototype.request_resize = function(x_pixels, y_pixels) {\n",
       "    // Request matplotlib to resize the figure. Matplotlib will then trigger a resize in the client,\n",
       "    // which will in turn request a refresh of the image.\n",
       "    this.send_message('resize', {'width': x_pixels, 'height': y_pixels});\n",
       "}\n",
       "\n",
       "mpl.figure.prototype.send_message = function(type, properties) {\n",
       "    properties['type'] = type;\n",
       "    properties['figure_id'] = this.id;\n",
       "    this.ws.send(JSON.stringify(properties));\n",
       "}\n",
       "\n",
       "mpl.figure.prototype.send_draw_message = function() {\n",
       "    if (!this.waiting) {\n",
       "        this.waiting = true;\n",
       "        this.ws.send(JSON.stringify({type: \"draw\", figure_id: this.id}));\n",
       "    }\n",
       "}\n",
       "\n",
       "\n",
       "mpl.figure.prototype.handle_save = function(fig, msg) {\n",
       "    var format_dropdown = fig.format_dropdown;\n",
       "    var format = format_dropdown.options[format_dropdown.selectedIndex].value;\n",
       "    fig.ondownload(fig, format);\n",
       "}\n",
       "\n",
       "\n",
       "mpl.figure.prototype.handle_resize = function(fig, msg) {\n",
       "    var size = msg['size'];\n",
       "    if (size[0] != fig.canvas.width || size[1] != fig.canvas.height) {\n",
       "        fig._resize_canvas(size[0], size[1]);\n",
       "        fig.send_message(\"refresh\", {});\n",
       "    };\n",
       "}\n",
       "\n",
       "mpl.figure.prototype.handle_rubberband = function(fig, msg) {\n",
       "    var x0 = msg['x0'] / mpl.ratio;\n",
       "    var y0 = (fig.canvas.height - msg['y0']) / mpl.ratio;\n",
       "    var x1 = msg['x1'] / mpl.ratio;\n",
       "    var y1 = (fig.canvas.height - msg['y1']) / mpl.ratio;\n",
       "    x0 = Math.floor(x0) + 0.5;\n",
       "    y0 = Math.floor(y0) + 0.5;\n",
       "    x1 = Math.floor(x1) + 0.5;\n",
       "    y1 = Math.floor(y1) + 0.5;\n",
       "    var min_x = Math.min(x0, x1);\n",
       "    var min_y = Math.min(y0, y1);\n",
       "    var width = Math.abs(x1 - x0);\n",
       "    var height = Math.abs(y1 - y0);\n",
       "\n",
       "    fig.rubberband_context.clearRect(\n",
       "        0, 0, fig.canvas.width, fig.canvas.height);\n",
       "\n",
       "    fig.rubberband_context.strokeRect(min_x, min_y, width, height);\n",
       "}\n",
       "\n",
       "mpl.figure.prototype.handle_figure_label = function(fig, msg) {\n",
       "    // Updates the figure title.\n",
       "    fig.header.textContent = msg['label'];\n",
       "}\n",
       "\n",
       "mpl.figure.prototype.handle_cursor = function(fig, msg) {\n",
       "    var cursor = msg['cursor'];\n",
       "    switch(cursor)\n",
       "    {\n",
       "    case 0:\n",
       "        cursor = 'pointer';\n",
       "        break;\n",
       "    case 1:\n",
       "        cursor = 'default';\n",
       "        break;\n",
       "    case 2:\n",
       "        cursor = 'crosshair';\n",
       "        break;\n",
       "    case 3:\n",
       "        cursor = 'move';\n",
       "        break;\n",
       "    }\n",
       "    fig.rubberband_canvas.style.cursor = cursor;\n",
       "}\n",
       "\n",
       "mpl.figure.prototype.handle_message = function(fig, msg) {\n",
       "    fig.message.textContent = msg['message'];\n",
       "}\n",
       "\n",
       "mpl.figure.prototype.handle_draw = function(fig, msg) {\n",
       "    // Request the server to send over a new figure.\n",
       "    fig.send_draw_message();\n",
       "}\n",
       "\n",
       "mpl.figure.prototype.handle_image_mode = function(fig, msg) {\n",
       "    fig.image_mode = msg['mode'];\n",
       "}\n",
       "\n",
       "mpl.figure.prototype.updated_canvas_event = function() {\n",
       "    // Called whenever the canvas gets updated.\n",
       "    this.send_message(\"ack\", {});\n",
       "}\n",
       "\n",
       "// A function to construct a web socket function for onmessage handling.\n",
       "// Called in the figure constructor.\n",
       "mpl.figure.prototype._make_on_message_function = function(fig) {\n",
       "    return function socket_on_message(evt) {\n",
       "        if (evt.data instanceof Blob) {\n",
       "            /* FIXME: We get \"Resource interpreted as Image but\n",
       "             * transferred with MIME type text/plain:\" errors on\n",
       "             * Chrome.  But how to set the MIME type?  It doesn't seem\n",
       "             * to be part of the websocket stream */\n",
       "            evt.data.type = \"image/png\";\n",
       "\n",
       "            /* Free the memory for the previous frames */\n",
       "            if (fig.imageObj.src) {\n",
       "                (window.URL || window.webkitURL).revokeObjectURL(\n",
       "                    fig.imageObj.src);\n",
       "            }\n",
       "\n",
       "            fig.imageObj.src = (window.URL || window.webkitURL).createObjectURL(\n",
       "                evt.data);\n",
       "            fig.updated_canvas_event();\n",
       "            fig.waiting = false;\n",
       "            return;\n",
       "        }\n",
       "        else if (typeof evt.data === 'string' && evt.data.slice(0, 21) == \"data:image/png;base64\") {\n",
       "            fig.imageObj.src = evt.data;\n",
       "            fig.updated_canvas_event();\n",
       "            fig.waiting = false;\n",
       "            return;\n",
       "        }\n",
       "\n",
       "        var msg = JSON.parse(evt.data);\n",
       "        var msg_type = msg['type'];\n",
       "\n",
       "        // Call the  \"handle_{type}\" callback, which takes\n",
       "        // the figure and JSON message as its only arguments.\n",
       "        try {\n",
       "            var callback = fig[\"handle_\" + msg_type];\n",
       "        } catch (e) {\n",
       "            console.log(\"No handler for the '\" + msg_type + \"' message type: \", msg);\n",
       "            return;\n",
       "        }\n",
       "\n",
       "        if (callback) {\n",
       "            try {\n",
       "                // console.log(\"Handling '\" + msg_type + \"' message: \", msg);\n",
       "                callback(fig, msg);\n",
       "            } catch (e) {\n",
       "                console.log(\"Exception inside the 'handler_\" + msg_type + \"' callback:\", e, e.stack, msg);\n",
       "            }\n",
       "        }\n",
       "    };\n",
       "}\n",
       "\n",
       "// from http://stackoverflow.com/questions/1114465/getting-mouse-location-in-canvas\n",
       "mpl.findpos = function(e) {\n",
       "    //this section is from http://www.quirksmode.org/js/events_properties.html\n",
       "    var targ;\n",
       "    if (!e)\n",
       "        e = window.event;\n",
       "    if (e.target)\n",
       "        targ = e.target;\n",
       "    else if (e.srcElement)\n",
       "        targ = e.srcElement;\n",
       "    if (targ.nodeType == 3) // defeat Safari bug\n",
       "        targ = targ.parentNode;\n",
       "\n",
       "    // jQuery normalizes the pageX and pageY\n",
       "    // pageX,Y are the mouse positions relative to the document\n",
       "    // offset() returns the position of the element relative to the document\n",
       "    var x = e.pageX - $(targ).offset().left;\n",
       "    var y = e.pageY - $(targ).offset().top;\n",
       "\n",
       "    return {\"x\": x, \"y\": y};\n",
       "};\n",
       "\n",
       "/*\n",
       " * return a copy of an object with only non-object keys\n",
       " * we need this to avoid circular references\n",
       " * http://stackoverflow.com/a/24161582/3208463\n",
       " */\n",
       "function simpleKeys (original) {\n",
       "  return Object.keys(original).reduce(function (obj, key) {\n",
       "    if (typeof original[key] !== 'object')\n",
       "        obj[key] = original[key]\n",
       "    return obj;\n",
       "  }, {});\n",
       "}\n",
       "\n",
       "mpl.figure.prototype.mouse_event = function(event, name) {\n",
       "    var canvas_pos = mpl.findpos(event)\n",
       "\n",
       "    if (name === 'button_press')\n",
       "    {\n",
       "        this.canvas.focus();\n",
       "        this.canvas_div.focus();\n",
       "    }\n",
       "\n",
       "    var x = canvas_pos.x * mpl.ratio;\n",
       "    var y = canvas_pos.y * mpl.ratio;\n",
       "\n",
       "    this.send_message(name, {x: x, y: y, button: event.button,\n",
       "                             step: event.step,\n",
       "                             guiEvent: simpleKeys(event)});\n",
       "\n",
       "    /* This prevents the web browser from automatically changing to\n",
       "     * the text insertion cursor when the button is pressed.  We want\n",
       "     * to control all of the cursor setting manually through the\n",
       "     * 'cursor' event from matplotlib */\n",
       "    event.preventDefault();\n",
       "    return false;\n",
       "}\n",
       "\n",
       "mpl.figure.prototype._key_event_extra = function(event, name) {\n",
       "    // Handle any extra behaviour associated with a key event\n",
       "}\n",
       "\n",
       "mpl.figure.prototype.key_event = function(event, name) {\n",
       "\n",
       "    // Prevent repeat events\n",
       "    if (name == 'key_press')\n",
       "    {\n",
       "        if (event.which === this._key)\n",
       "            return;\n",
       "        else\n",
       "            this._key = event.which;\n",
       "    }\n",
       "    if (name == 'key_release')\n",
       "        this._key = null;\n",
       "\n",
       "    var value = '';\n",
       "    if (event.ctrlKey && event.which != 17)\n",
       "        value += \"ctrl+\";\n",
       "    if (event.altKey && event.which != 18)\n",
       "        value += \"alt+\";\n",
       "    if (event.shiftKey && event.which != 16)\n",
       "        value += \"shift+\";\n",
       "\n",
       "    value += 'k';\n",
       "    value += event.which.toString();\n",
       "\n",
       "    this._key_event_extra(event, name);\n",
       "\n",
       "    this.send_message(name, {key: value,\n",
       "                             guiEvent: simpleKeys(event)});\n",
       "    return false;\n",
       "}\n",
       "\n",
       "mpl.figure.prototype.toolbar_button_onclick = function(name) {\n",
       "    if (name == 'download') {\n",
       "        this.handle_save(this, null);\n",
       "    } else {\n",
       "        this.send_message(\"toolbar_button\", {name: name});\n",
       "    }\n",
       "};\n",
       "\n",
       "mpl.figure.prototype.toolbar_button_onmouseover = function(tooltip) {\n",
       "    this.message.textContent = tooltip;\n",
       "};\n",
       "mpl.toolbar_items = [[\"Home\", \"Reset original view\", \"fa fa-home icon-home\", \"home\"], [\"Back\", \"Back to  previous view\", \"fa fa-arrow-left icon-arrow-left\", \"back\"], [\"Forward\", \"Forward to next view\", \"fa fa-arrow-right icon-arrow-right\", \"forward\"], [\"\", \"\", \"\", \"\"], [\"Pan\", \"Pan axes with left mouse, zoom with right\", \"fa fa-arrows icon-move\", \"pan\"], [\"Zoom\", \"Zoom to rectangle\", \"fa fa-square-o icon-check-empty\", \"zoom\"], [\"\", \"\", \"\", \"\"], [\"Download\", \"Download plot\", \"fa fa-floppy-o icon-save\", \"download\"]];\n",
       "\n",
       "mpl.extensions = [\"eps\", \"pdf\", \"png\", \"ps\", \"raw\", \"svg\"];\n",
       "\n",
       "mpl.default_extension = \"png\";var comm_websocket_adapter = function(comm) {\n",
       "    // Create a \"websocket\"-like object which calls the given IPython comm\n",
       "    // object with the appropriate methods. Currently this is a non binary\n",
       "    // socket, so there is still some room for performance tuning.\n",
       "    var ws = {};\n",
       "\n",
       "    ws.close = function() {\n",
       "        comm.close()\n",
       "    };\n",
       "    ws.send = function(m) {\n",
       "        //console.log('sending', m);\n",
       "        comm.send(m);\n",
       "    };\n",
       "    // Register the callback with on_msg.\n",
       "    comm.on_msg(function(msg) {\n",
       "        //console.log('receiving', msg['content']['data'], msg);\n",
       "        // Pass the mpl event to the overriden (by mpl) onmessage function.\n",
       "        ws.onmessage(msg['content']['data'])\n",
       "    });\n",
       "    return ws;\n",
       "}\n",
       "\n",
       "mpl.mpl_figure_comm = function(comm, msg) {\n",
       "    // This is the function which gets called when the mpl process\n",
       "    // starts-up an IPython Comm through the \"matplotlib\" channel.\n",
       "\n",
       "    var id = msg.content.data.id;\n",
       "    // Get hold of the div created by the display call when the Comm\n",
       "    // socket was opened in Python.\n",
       "    var element = $(\"#\" + id);\n",
       "    var ws_proxy = comm_websocket_adapter(comm)\n",
       "\n",
       "    function ondownload(figure, format) {\n",
       "        window.open(figure.imageObj.src);\n",
       "    }\n",
       "\n",
       "    var fig = new mpl.figure(id, ws_proxy,\n",
       "                           ondownload,\n",
       "                           element.get(0));\n",
       "\n",
       "    // Call onopen now - mpl needs it, as it is assuming we've passed it a real\n",
       "    // web socket which is closed, not our websocket->open comm proxy.\n",
       "    ws_proxy.onopen();\n",
       "\n",
       "    fig.parent_element = element.get(0);\n",
       "    fig.cell_info = mpl.find_output_cell(\"<div id='\" + id + \"'></div>\");\n",
       "    if (!fig.cell_info) {\n",
       "        console.error(\"Failed to find cell for figure\", id, fig);\n",
       "        return;\n",
       "    }\n",
       "\n",
       "    var output_index = fig.cell_info[2]\n",
       "    var cell = fig.cell_info[0];\n",
       "\n",
       "};\n",
       "\n",
       "mpl.figure.prototype.handle_close = function(fig, msg) {\n",
       "    var width = fig.canvas.width/mpl.ratio\n",
       "    fig.root.unbind('remove')\n",
       "\n",
       "    // Update the output cell to use the data from the current canvas.\n",
       "    fig.push_to_output();\n",
       "    var dataURL = fig.canvas.toDataURL();\n",
       "    // Re-enable the keyboard manager in IPython - without this line, in FF,\n",
       "    // the notebook keyboard shortcuts fail.\n",
       "    IPython.keyboard_manager.enable()\n",
       "    $(fig.parent_element).html('<img src=\"' + dataURL + '\" width=\"' + width + '\">');\n",
       "    fig.close_ws(fig, msg);\n",
       "}\n",
       "\n",
       "mpl.figure.prototype.close_ws = function(fig, msg){\n",
       "    fig.send_message('closing', msg);\n",
       "    // fig.ws.close()\n",
       "}\n",
       "\n",
       "mpl.figure.prototype.push_to_output = function(remove_interactive) {\n",
       "    // Turn the data on the canvas into data in the output cell.\n",
       "    var width = this.canvas.width/mpl.ratio\n",
       "    var dataURL = this.canvas.toDataURL();\n",
       "    this.cell_info[1]['text/html'] = '<img src=\"' + dataURL + '\" width=\"' + width + '\">';\n",
       "}\n",
       "\n",
       "mpl.figure.prototype.updated_canvas_event = function() {\n",
       "    // Tell IPython that the notebook contents must change.\n",
       "    IPython.notebook.set_dirty(true);\n",
       "    this.send_message(\"ack\", {});\n",
       "    var fig = this;\n",
       "    // Wait a second, then push the new image to the DOM so\n",
       "    // that it is saved nicely (might be nice to debounce this).\n",
       "    setTimeout(function () { fig.push_to_output() }, 1000);\n",
       "}\n",
       "\n",
       "mpl.figure.prototype._init_toolbar = function() {\n",
       "    var fig = this;\n",
       "\n",
       "    var nav_element = $('<div/>')\n",
       "    nav_element.attr('style', 'width: 100%');\n",
       "    this.root.append(nav_element);\n",
       "\n",
       "    // Define a callback function for later on.\n",
       "    function toolbar_event(event) {\n",
       "        return fig.toolbar_button_onclick(event['data']);\n",
       "    }\n",
       "    function toolbar_mouse_event(event) {\n",
       "        return fig.toolbar_button_onmouseover(event['data']);\n",
       "    }\n",
       "\n",
       "    for(var toolbar_ind in mpl.toolbar_items){\n",
       "        var name = mpl.toolbar_items[toolbar_ind][0];\n",
       "        var tooltip = mpl.toolbar_items[toolbar_ind][1];\n",
       "        var image = mpl.toolbar_items[toolbar_ind][2];\n",
       "        var method_name = mpl.toolbar_items[toolbar_ind][3];\n",
       "\n",
       "        if (!name) { continue; };\n",
       "\n",
       "        var button = $('<button class=\"btn btn-default\" href=\"#\" title=\"' + name + '\"><i class=\"fa ' + image + ' fa-lg\"></i></button>');\n",
       "        button.click(method_name, toolbar_event);\n",
       "        button.mouseover(tooltip, toolbar_mouse_event);\n",
       "        nav_element.append(button);\n",
       "    }\n",
       "\n",
       "    // Add the status bar.\n",
       "    var status_bar = $('<span class=\"mpl-message\" style=\"text-align:right; float: right;\"/>');\n",
       "    nav_element.append(status_bar);\n",
       "    this.message = status_bar[0];\n",
       "\n",
       "    // Add the close button to the window.\n",
       "    var buttongrp = $('<div class=\"btn-group inline pull-right\"></div>');\n",
       "    var button = $('<button class=\"btn btn-mini btn-primary\" href=\"#\" title=\"Stop Interaction\"><i class=\"fa fa-power-off icon-remove icon-large\"></i></button>');\n",
       "    button.click(function (evt) { fig.handle_close(fig, {}); } );\n",
       "    button.mouseover('Stop Interaction', toolbar_mouse_event);\n",
       "    buttongrp.append(button);\n",
       "    var titlebar = this.root.find($('.ui-dialog-titlebar'));\n",
       "    titlebar.prepend(buttongrp);\n",
       "}\n",
       "\n",
       "mpl.figure.prototype._root_extra_style = function(el){\n",
       "    var fig = this\n",
       "    el.on(\"remove\", function(){\n",
       "\tfig.close_ws(fig, {});\n",
       "    });\n",
       "}\n",
       "\n",
       "mpl.figure.prototype._canvas_extra_style = function(el){\n",
       "    // this is important to make the div 'focusable\n",
       "    el.attr('tabindex', 0)\n",
       "    // reach out to IPython and tell the keyboard manager to turn it's self\n",
       "    // off when our div gets focus\n",
       "\n",
       "    // location in version 3\n",
       "    if (IPython.notebook.keyboard_manager) {\n",
       "        IPython.notebook.keyboard_manager.register_events(el);\n",
       "    }\n",
       "    else {\n",
       "        // location in version 2\n",
       "        IPython.keyboard_manager.register_events(el);\n",
       "    }\n",
       "\n",
       "}\n",
       "\n",
       "mpl.figure.prototype._key_event_extra = function(event, name) {\n",
       "    var manager = IPython.notebook.keyboard_manager;\n",
       "    if (!manager)\n",
       "        manager = IPython.keyboard_manager;\n",
       "\n",
       "    // Check for shift+enter\n",
       "    if (event.shiftKey && event.which == 13) {\n",
       "        this.canvas_div.blur();\n",
       "        // select the cell after this one\n",
       "        var index = IPython.notebook.find_cell_index(this.cell_info[0]);\n",
       "        IPython.notebook.select(index + 1);\n",
       "    }\n",
       "}\n",
       "\n",
       "mpl.figure.prototype.handle_save = function(fig, msg) {\n",
       "    fig.ondownload(fig, null);\n",
       "}\n",
       "\n",
       "\n",
       "mpl.find_output_cell = function(html_output) {\n",
       "    // Return the cell and output element which can be found *uniquely* in the notebook.\n",
       "    // Note - this is a bit hacky, but it is done because the \"notebook_saving.Notebook\"\n",
       "    // IPython event is triggered only after the cells have been serialised, which for\n",
       "    // our purposes (turning an active figure into a static one), is too late.\n",
       "    var cells = IPython.notebook.get_cells();\n",
       "    var ncells = cells.length;\n",
       "    for (var i=0; i<ncells; i++) {\n",
       "        var cell = cells[i];\n",
       "        if (cell.cell_type === 'code'){\n",
       "            for (var j=0; j<cell.output_area.outputs.length; j++) {\n",
       "                var data = cell.output_area.outputs[j];\n",
       "                if (data.data) {\n",
       "                    // IPython >= 3 moved mimebundle to data attribute of output\n",
       "                    data = data.data;\n",
       "                }\n",
       "                if (data['text/html'] == html_output) {\n",
       "                    return [cell, data, j];\n",
       "                }\n",
       "            }\n",
       "        }\n",
       "    }\n",
       "}\n",
       "\n",
       "// Register the function which deals with the matplotlib target/channel.\n",
       "// The kernel may be null if the page has been refreshed.\n",
       "if (IPython.notebook.kernel != null) {\n",
       "    IPython.notebook.kernel.comm_manager.register_target('matplotlib', mpl.mpl_figure_comm);\n",
       "}\n"
      ],
      "text/plain": [
       "<IPython.core.display.Javascript object>"
      ]
     },
     "metadata": {},
     "output_type": "display_data"
    },
    {
     "data": {
      "text/html": [
       "<img src=\"data:image/png;base64,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\" width=\"640\">"
      ],
      "text/plain": [
       "<IPython.core.display.HTML object>"
      ]
     },
     "metadata": {},
     "output_type": "display_data"
    }
   ],
   "source": [
    "plt.figure()\n",
    "plt.plot(x,y,'-')\n",
    "QV1=plt.quiver(x,y,velx,vely, angles='xy', scale_units='xy', scale = 1)\n",
    "#plt.quiver(x,y,acceleration[:,0],acceleration[:,1], angles='xy', scale_units='xy', scale = 1, color='r')\n",
    "plt.xlabel('x')\n",
    "plt.ylabel('y')\n",
    "plt.xlim([x.min()-1,x.max()+1])\n",
    "plt.ylim([y.min()-1,y.max()+1])\n",
    "#plt.savefig(outdirplot+'/track.png')\n",
    "plt.quiverkey(QV1, .95, 0.9, w.mean(), 'tangent', coordinates='figure')\n",
    "plt.show()"
   ]
  },
  {
   "cell_type": "markdown",
   "metadata": {
    "deletable": true,
    "editable": true
   },
   "source": [
    "## using splines"
   ]
  },
  {
   "cell_type": "code",
   "execution_count": 15,
   "metadata": {
    "collapsed": true,
    "deletable": true,
    "editable": true
   },
   "outputs": [],
   "source": [
    "from scipy.interpolate import interp1d, splrep, splev"
   ]
  },
  {
   "cell_type": "code",
   "execution_count": 16,
   "metadata": {
    "collapsed": true,
    "deletable": true,
    "editable": true
   },
   "outputs": [],
   "source": [
    "tsec=np.arange(x.size) # define a time reference"
   ]
  },
  {
   "cell_type": "code",
   "execution_count": 17,
   "metadata": {
    "collapsed": true,
    "deletable": true,
    "editable": true
   },
   "outputs": [],
   "source": [
    "t1000=np.linspace(tsec[0],tsec[-1],100,endpoint=True)  # create an array of equally spaced points that spans the time with 1000 points"
   ]
  },
  {
   "cell_type": "code",
   "execution_count": 18,
   "metadata": {
    "collapsed": false,
    "deletable": true,
    "editable": true
   },
   "outputs": [],
   "source": [
    "        tck=splrep(tsec,x,s=0)\n",
    "        x1000 = splev(t1000,tck,der=0)\n",
    "        tckv=splrep(t1000,x1000,s=0)\n",
    "        u1000 = splev(t1000,tckv,der=1)\n",
    "\n",
    "\n",
    "        tck=splrep(tsec,y,s=0)\n",
    "        y1000 = splev(t1000,tck,der=0)\n",
    "        tckv=splrep(t1000,y1000,s=0)\n",
    "        v1000 = splev(t1000,tckv,der=1)"
   ]
  },
  {
   "cell_type": "markdown",
   "metadata": {
    "deletable": true,
    "editable": true
   },
   "source": [
    "#### define the values for the original points"
   ]
  },
  {
   "cell_type": "code",
   "execution_count": 19,
   "metadata": {
    "collapsed": false,
    "deletable": true,
    "editable": true
   },
   "outputs": [],
   "source": [
    "idx=[]\n",
    "for i in range(tsec.size):\n",
    "    idx.append((np.abs(t1000-tsec[i])).argmin())"
   ]
  },
  {
   "cell_type": "code",
   "execution_count": 20,
   "metadata": {
    "collapsed": false,
    "deletable": true,
    "editable": true
   },
   "outputs": [
    {
     "data": {
      "text/plain": [
       "array([  0.        ,   0.95959596,   1.91919192,   3.07070707,\n",
       "         4.03030303,   4.98989899,   5.94949495,   6.90909091,\n",
       "         8.06060606,   9.02020202,   9.97979798,  10.93939394,\n",
       "        12.09090909,  13.05050505,  14.01010101,  14.96969697,\n",
       "        15.92929293,  17.08080808,  18.04040404,  19.        ])"
      ]
     },
     "execution_count": 20,
     "metadata": {},
     "output_type": "execute_result"
    }
   ],
   "source": [
    "t1000[idx]"
   ]
  },
  {
   "cell_type": "code",
   "execution_count": 21,
   "metadata": {
    "collapsed": false,
    "deletable": true,
    "editable": true
   },
   "outputs": [
    {
     "data": {
      "text/plain": [
       "array([ 0,  1,  2,  3,  4,  5,  6,  7,  8,  9, 10, 11, 12, 13, 14, 15, 16,\n",
       "       17, 18, 19])"
      ]
     },
     "execution_count": 21,
     "metadata": {},
     "output_type": "execute_result"
    }
   ],
   "source": [
    "tsec"
   ]
  },
  {
   "cell_type": "code",
   "execution_count": 22,
   "metadata": {
    "collapsed": false,
    "deletable": true,
    "editable": true
   },
   "outputs": [],
   "source": [
    "QV2=plt.quiver(x1000[idx],y1000[idx],u1000[idx],v1000[idx], angles='xy', scale_units='xy',scale=1, color='g')"
   ]
  },
  {
   "cell_type": "code",
   "execution_count": 23,
   "metadata": {
    "collapsed": false,
    "deletable": true,
    "editable": true
   },
   "outputs": [
    {
     "data": {
      "text/plain": [
       "<matplotlib.quiver.QuiverKey at 0x115fbe150>"
      ]
     },
     "execution_count": 23,
     "metadata": {},
     "output_type": "execute_result"
    }
   ],
   "source": [
    "plt.quiverkey(QV2, .95, 0.85, w.mean(), 'spline', coordinates='figure')"
   ]
  },
  {
   "cell_type": "code",
   "execution_count": 24,
   "metadata": {
    "collapsed": false,
    "deletable": true,
    "editable": true
   },
   "outputs": [
    {
     "data": {
      "text/plain": [
       "[<matplotlib.lines.Line2D at 0x115fbe850>]"
      ]
     },
     "execution_count": 24,
     "metadata": {},
     "output_type": "execute_result"
    }
   ],
   "source": [
    "plt.plot(x1000,y1000,'k--') # plot the splined curve"
   ]
  },
  {
   "cell_type": "markdown",
   "metadata": {
    "deletable": true,
    "editable": true
   },
   "source": [
    "Note the problems at the end points. Also the fitting slightly changes the values in every point"
   ]
  },
  {
   "cell_type": "markdown",
   "metadata": {
    "deletable": true,
    "editable": true
   },
   "source": [
    "## use  interp1d"
   ]
  },
  {
   "cell_type": "code",
   "execution_count": 25,
   "metadata": {
    "collapsed": false,
    "deletable": true,
    "editable": true
   },
   "outputs": [],
   "source": [
    "fx=interp1d(tsec,x,kind='quadratic')\n",
    "fy=interp1d(tsec,y,kind='quadratic')\n",
    "x1000 = fx(t1000)\n",
    "y1000 = fy(t1000)"
   ]
  },
  {
   "cell_type": "code",
   "execution_count": 26,
   "metadata": {
    "collapsed": true,
    "deletable": true,
    "editable": true
   },
   "outputs": [],
   "source": [
    "u=np.gradient(x1000)/np.gradient(t1000)\n",
    "v=np.gradient(y1000)/np.gradient(t1000)"
   ]
  },
  {
   "cell_type": "code",
   "execution_count": 27,
   "metadata": {
    "collapsed": false,
    "deletable": true,
    "editable": true
   },
   "outputs": [
    {
     "data": {
      "text/plain": [
       "[<matplotlib.lines.Line2D at 0x115fa7e50>]"
      ]
     },
     "execution_count": 27,
     "metadata": {},
     "output_type": "execute_result"
    }
   ],
   "source": [
    "plt.plot(x1000,y1000,'y--') # plot the curve"
   ]
  },
  {
   "cell_type": "code",
   "execution_count": 28,
   "metadata": {
    "collapsed": false,
    "deletable": true,
    "editable": true
   },
   "outputs": [],
   "source": [
    "QV3=plt.quiver(x1000[idx],y1000[idx],u[idx],v[idx], angles='xy', scale_units='xy',scale=1, color='orange')"
   ]
  },
  {
   "cell_type": "code",
   "execution_count": 29,
   "metadata": {
    "collapsed": false,
    "deletable": true,
    "editable": true
   },
   "outputs": [
    {
     "data": {
      "text/plain": [
       "<matplotlib.quiver.QuiverKey at 0x115fbe8d0>"
      ]
     },
     "execution_count": 29,
     "metadata": {},
     "output_type": "execute_result"
    }
   ],
   "source": [
    "plt.quiverkey(QV3, .95, 0.8, w.mean(), 'interp1d', coordinates='figure')"
   ]
  },
  {
   "cell_type": "markdown",
   "metadata": {
    "deletable": true,
    "editable": true
   },
   "source": [
    "similar issues due to the curve fitting"
   ]
  },
  {
   "cell_type": "markdown",
   "metadata": {
    "deletable": true,
    "editable": true
   },
   "source": [
    "## trigonometric  approach"
   ]
  },
  {
   "cell_type": "code",
   "execution_count": 30,
   "metadata": {
    "collapsed": true,
    "deletable": true,
    "editable": true
   },
   "outputs": [],
   "source": [
    "s1000 = np.cumsum(np.sqrt(np.ediff1d(x1000)**2+np.ediff1d(y1000)**2))\n",
    "s1000 = np.insert(s1000,0,0)  # adding 0 for the first point"
   ]
  },
  {
   "cell_type": "code",
   "execution_count": 31,
   "metadata": {
    "collapsed": true,
    "deletable": true,
    "editable": true
   },
   "outputs": [],
   "source": [
    "#create 2 arrays for facilitating the central difference computation below.\n",
    "dt=tsec[1]-tsec[0]  # time increment, depends on the number of points, default 12 hours\n",
    "t1=np.maximum(tsec-dt,tsec[0]) # extend for the low end the first value \n",
    "t2=np.minimum(tsec+dt,tsec[-1]) # extend for the high end the last value"
   ]
  },
  {
   "cell_type": "code",
   "execution_count": 32,
   "metadata": {
    "collapsed": false,
    "deletable": true,
    "editable": true
   },
   "outputs": [
    {
     "data": {
      "text/plain": [
       "(array([ 0,  0,  1,  2,  3,  4,  5,  6,  7,  8,  9, 10, 11, 12, 13, 14, 15,\n",
       "        16, 17, 18]),\n",
       " array([ 1,  2,  3,  4,  5,  6,  7,  8,  9, 10, 11, 12, 13, 14, 15, 16, 17,\n",
       "        18, 19, 19]))"
      ]
     },
     "execution_count": 32,
     "metadata": {},
     "output_type": "execute_result"
    }
   ],
   "source": [
    "t1,t2"
   ]
  },
  {
   "cell_type": "code",
   "execution_count": 33,
   "metadata": {
    "collapsed": false,
    "deletable": true,
    "editable": true
   },
   "outputs": [
    {
     "data": {
      "text/plain": [
       "array([1, 2, 2, 2, 2, 2, 2, 2, 2, 2, 2, 2, 2, 2, 2, 2, 2, 2, 2, 1])"
      ]
     },
     "execution_count": 33,
     "metadata": {},
     "output_type": "execute_result"
    }
   ],
   "source": [
    "(t2-t1)"
   ]
  },
  {
   "cell_type": "code",
   "execution_count": 34,
   "metadata": {
    "collapsed": false,
    "deletable": true,
    "editable": true
   },
   "outputs": [],
   "source": [
    "fs=interp1d(t1000,s1000,kind='quadratic')\n",
    "s1=fs(t1)  # compute values for points t1 \n",
    "s2=fs(t2)  # compute values for points t2\n",
    "\n",
    "#define  a linear interpolation function x(t) \n",
    "fx=interp1d(t1000,x1000,kind='quadratic')\n",
    "x1=fx(t1)\n",
    "x2=fx(t2)\n",
    "\n",
    "\n",
    "#define  a linear interpolation function y(t) \n",
    "fy=interp1d(t1000,y1000,kind='quadratic')\n",
    "y1=fy(t1)\n",
    "y2=fy(t2)\n",
    "\n"
   ]
  },
  {
   "cell_type": "code",
   "execution_count": 35,
   "metadata": {
    "collapsed": true,
    "deletable": true,
    "editable": true
   },
   "outputs": [],
   "source": [
    "cincl=(x2-x1)/(s2-s1) # compute cos(phi)=dx/ds on the tranjectory\n",
    "sincl=(y2-y1)/(s2-s1) # compute sin(phi)=dy/ds on the tranjectory\n",
    "vt=(s2-s1)/(t2-t1)  # compute translational velocity ds/dt"
   ]
  },
  {
   "cell_type": "code",
   "execution_count": 36,
   "metadata": {
    "collapsed": true,
    "deletable": true,
    "editable": true
   },
   "outputs": [],
   "source": [
    "vtrx = vt * cincl[:]\n",
    "vtry = vt * sincl[:]"
   ]
  },
  {
   "cell_type": "code",
   "execution_count": 37,
   "metadata": {
    "collapsed": false,
    "deletable": true,
    "editable": true
   },
   "outputs": [],
   "source": [
    "QV4=plt.quiver(x,y,vtrx,vtry, angles='xy', scale_units='xy',scale=1, color='c')"
   ]
  },
  {
   "cell_type": "code",
   "execution_count": 38,
   "metadata": {
    "collapsed": false,
    "deletable": true,
    "editable": true
   },
   "outputs": [
    {
     "data": {
      "text/plain": [
       "<matplotlib.quiver.QuiverKey at 0x115fe1350>"
      ]
     },
     "execution_count": 38,
     "metadata": {},
     "output_type": "execute_result"
    }
   ],
   "source": [
    "plt.quiverkey(QV4, .95, 0.75, w.mean(), 'oper', coordinates='figure')"
   ]
  },
  {
   "cell_type": "markdown",
   "metadata": {
    "deletable": true,
    "editable": true
   },
   "source": [
    "## compare values"
   ]
  },
  {
   "cell_type": "code",
   "execution_count": 39,
   "metadata": {
    "collapsed": true,
    "deletable": true,
    "editable": true
   },
   "outputs": [],
   "source": [
    "import pandas as pd"
   ]
  },
  {
   "cell_type": "code",
   "execution_count": 40,
   "metadata": {
    "collapsed": true,
    "deletable": true,
    "editable": true
   },
   "outputs": [],
   "source": [
    "dic={ 'us': u1000[idx], 'vs':v1000[idx], 'ui': u[idx], 'vi':v[idx],'uh':vtrx, 'vh':vtry,'u':velocity[:,0], 'v':velocity[:,1] }"
   ]
  },
  {
   "cell_type": "code",
   "execution_count": 41,
   "metadata": {
    "collapsed": false,
    "deletable": true,
    "editable": true
   },
   "outputs": [],
   "source": [
    "check=pd.DataFrame(dic)"
   ]
  },
  {
   "cell_type": "code",
   "execution_count": 42,
   "metadata": {
    "collapsed": false,
    "deletable": true,
    "editable": true
   },
   "outputs": [
    {
     "data": {
      "text/html": [
       "<div>\n",
       "<table border=\"1\" class=\"dataframe\">\n",
       "  <thead>\n",
       "    <tr style=\"text-align: right;\">\n",
       "      <th></th>\n",
       "      <th>u</th>\n",
       "      <th>uh</th>\n",
       "      <th>ui</th>\n",
       "      <th>us</th>\n",
       "      <th>v</th>\n",
       "      <th>vh</th>\n",
       "      <th>vi</th>\n",
       "      <th>vs</th>\n",
       "    </tr>\n",
       "  </thead>\n",
       "  <tbody>\n",
       "    <tr>\n",
       "      <th>0</th>\n",
       "      <td>0.300</td>\n",
       "      <td>0.298067</td>\n",
       "      <td>-0.058025</td>\n",
       "      <td>-0.333443</td>\n",
       "      <td>0.000</td>\n",
       "      <td>0.002499</td>\n",
       "      <td>-0.358025</td>\n",
       "      <td>-0.205375</td>\n",
       "    </tr>\n",
       "    <tr>\n",
       "      <th>1</th>\n",
       "      <td>0.625</td>\n",
       "      <td>0.626032</td>\n",
       "      <td>0.693132</td>\n",
       "      <td>0.752205</td>\n",
       "      <td>-0.050</td>\n",
       "      <td>-0.050674</td>\n",
       "      <td>0.348275</td>\n",
       "      <td>0.081104</td>\n",
       "    </tr>\n",
       "    <tr>\n",
       "      <th>2</th>\n",
       "      <td>0.900</td>\n",
       "      <td>0.901031</td>\n",
       "      <td>1.106970</td>\n",
       "      <td>0.984842</td>\n",
       "      <td>-0.450</td>\n",
       "      <td>-0.451294</td>\n",
       "      <td>-0.542870</td>\n",
       "      <td>-0.338780</td>\n",
       "    </tr>\n",
       "    <tr>\n",
       "      <th>3</th>\n",
       "      <td>0.800</td>\n",
       "      <td>0.798569</td>\n",
       "      <td>0.591991</td>\n",
       "      <td>0.745346</td>\n",
       "      <td>-1.100</td>\n",
       "      <td>-1.098930</td>\n",
       "      <td>-1.030550</td>\n",
       "      <td>-1.199820</td>\n",
       "    </tr>\n",
       "    <tr>\n",
       "      <th>4</th>\n",
       "      <td>0.850</td>\n",
       "      <td>0.849772</td>\n",
       "      <td>0.941969</td>\n",
       "      <td>0.823165</td>\n",
       "      <td>-1.525</td>\n",
       "      <td>-1.524754</td>\n",
       "      <td>-1.788069</td>\n",
       "      <td>-1.575868</td>\n",
       "    </tr>\n",
       "    <tr>\n",
       "      <th>5</th>\n",
       "      <td>1.075</td>\n",
       "      <td>1.075772</td>\n",
       "      <td>0.965923</td>\n",
       "      <td>1.081788</td>\n",
       "      <td>-1.725</td>\n",
       "      <td>-1.725782</td>\n",
       "      <td>-1.507017</td>\n",
       "      <td>-1.713235</td>\n",
       "    </tr>\n",
       "    <tr>\n",
       "      <th>6</th>\n",
       "      <td>1.300</td>\n",
       "      <td>1.300381</td>\n",
       "      <td>1.414637</td>\n",
       "      <td>1.288612</td>\n",
       "      <td>-1.925</td>\n",
       "      <td>-1.925363</td>\n",
       "      <td>-2.085682</td>\n",
       "      <td>-1.907377</td>\n",
       "    </tr>\n",
       "    <tr>\n",
       "      <th>7</th>\n",
       "      <td>1.525</td>\n",
       "      <td>1.523723</td>\n",
       "      <td>1.363082</td>\n",
       "      <td>1.501136</td>\n",
       "      <td>-2.075</td>\n",
       "      <td>-2.073649</td>\n",
       "      <td>-1.980140</td>\n",
       "      <td>-2.132497</td>\n",
       "    </tr>\n",
       "    <tr>\n",
       "      <th>8</th>\n",
       "      <td>1.750</td>\n",
       "      <td>1.750416</td>\n",
       "      <td>1.925388</td>\n",
       "      <td>1.749223</td>\n",
       "      <td>-1.900</td>\n",
       "      <td>-1.900620</td>\n",
       "      <td>-2.146409</td>\n",
       "      <td>-1.920775</td>\n",
       "    </tr>\n",
       "    <tr>\n",
       "      <th>9</th>\n",
       "      <td>2.000</td>\n",
       "      <td>2.001498</td>\n",
       "      <td>1.798975</td>\n",
       "      <td>2.015995</td>\n",
       "      <td>-1.475</td>\n",
       "      <td>-1.476754</td>\n",
       "      <td>-1.209571</td>\n",
       "      <td>-1.442393</td>\n",
       "    </tr>\n",
       "    <tr>\n",
       "      <th>10</th>\n",
       "      <td>2.175</td>\n",
       "      <td>2.173950</td>\n",
       "      <td>2.481820</td>\n",
       "      <td>2.226283</td>\n",
       "      <td>-1.050</td>\n",
       "      <td>-1.047830</td>\n",
       "      <td>-1.294270</td>\n",
       "      <td>-1.095781</td>\n",
       "    </tr>\n",
       "    <tr>\n",
       "      <th>11</th>\n",
       "      <td>2.225</td>\n",
       "      <td>2.223771</td>\n",
       "      <td>1.920638</td>\n",
       "      <td>2.145183</td>\n",
       "      <td>-0.475</td>\n",
       "      <td>-0.475537</td>\n",
       "      <td>-0.427316</td>\n",
       "      <td>-0.542283</td>\n",
       "    </tr>\n",
       "    <tr>\n",
       "      <th>12</th>\n",
       "      <td>2.500</td>\n",
       "      <td>2.500577</td>\n",
       "      <td>2.665520</td>\n",
       "      <td>2.673951</td>\n",
       "      <td>0.175</td>\n",
       "      <td>0.174690</td>\n",
       "      <td>0.211187</td>\n",
       "      <td>0.219292</td>\n",
       "    </tr>\n",
       "    <tr>\n",
       "      <th>13</th>\n",
       "      <td>2.400</td>\n",
       "      <td>2.400800</td>\n",
       "      <td>2.716783</td>\n",
       "      <td>2.463834</td>\n",
       "      <td>0.800</td>\n",
       "      <td>0.801017</td>\n",
       "      <td>0.790095</td>\n",
       "      <td>0.845211</td>\n",
       "    </tr>\n",
       "    <tr>\n",
       "      <th>14</th>\n",
       "      <td>1.775</td>\n",
       "      <td>1.775000</td>\n",
       "      <td>1.351089</td>\n",
       "      <td>1.720062</td>\n",
       "      <td>1.425</td>\n",
       "      <td>1.423182</td>\n",
       "      <td>1.537107</td>\n",
       "      <td>1.410368</td>\n",
       "    </tr>\n",
       "    <tr>\n",
       "      <th>15</th>\n",
       "      <td>1.125</td>\n",
       "      <td>1.125893</td>\n",
       "      <td>1.644209</td>\n",
       "      <td>1.250774</td>\n",
       "      <td>2.025</td>\n",
       "      <td>2.025087</td>\n",
       "      <td>1.859148</td>\n",
       "      <td>2.089691</td>\n",
       "    </tr>\n",
       "    <tr>\n",
       "      <th>16</th>\n",
       "      <td>0.075</td>\n",
       "      <td>0.072754</td>\n",
       "      <td>-0.078275</td>\n",
       "      <td>0.211808</td>\n",
       "      <td>2.200</td>\n",
       "      <td>2.204221</td>\n",
       "      <td>2.734963</td>\n",
       "      <td>2.310070</td>\n",
       "    </tr>\n",
       "    <tr>\n",
       "      <th>17</th>\n",
       "      <td>-1.100</td>\n",
       "      <td>-1.099098</td>\n",
       "      <td>-1.070075</td>\n",
       "      <td>-1.256697</td>\n",
       "      <td>2.100</td>\n",
       "      <td>2.095597</td>\n",
       "      <td>1.444758</td>\n",
       "      <td>2.067685</td>\n",
       "    </tr>\n",
       "    <tr>\n",
       "      <th>18</th>\n",
       "      <td>-1.925</td>\n",
       "      <td>-1.922915</td>\n",
       "      <td>-2.205572</td>\n",
       "      <td>-1.997437</td>\n",
       "      <td>2.100</td>\n",
       "      <td>2.096518</td>\n",
       "      <td>2.861108</td>\n",
       "      <td>2.175535</td>\n",
       "    </tr>\n",
       "    <tr>\n",
       "      <th>19</th>\n",
       "      <td>-2.250</td>\n",
       "      <td>-2.253917</td>\n",
       "      <td>-2.255612</td>\n",
       "      <td>-2.482196</td>\n",
       "      <td>2.050</td>\n",
       "      <td>2.059253</td>\n",
       "      <td>1.236308</td>\n",
       "      <td>1.840069</td>\n",
       "    </tr>\n",
       "  </tbody>\n",
       "</table>\n",
       "</div>"
      ],
      "text/plain": [
       "        u        uh        ui        us      v        vh        vi        vs\n",
       "0   0.300  0.298067 -0.058025 -0.333443  0.000  0.002499 -0.358025 -0.205375\n",
       "1   0.625  0.626032  0.693132  0.752205 -0.050 -0.050674  0.348275  0.081104\n",
       "2   0.900  0.901031  1.106970  0.984842 -0.450 -0.451294 -0.542870 -0.338780\n",
       "3   0.800  0.798569  0.591991  0.745346 -1.100 -1.098930 -1.030550 -1.199820\n",
       "4   0.850  0.849772  0.941969  0.823165 -1.525 -1.524754 -1.788069 -1.575868\n",
       "5   1.075  1.075772  0.965923  1.081788 -1.725 -1.725782 -1.507017 -1.713235\n",
       "6   1.300  1.300381  1.414637  1.288612 -1.925 -1.925363 -2.085682 -1.907377\n",
       "7   1.525  1.523723  1.363082  1.501136 -2.075 -2.073649 -1.980140 -2.132497\n",
       "8   1.750  1.750416  1.925388  1.749223 -1.900 -1.900620 -2.146409 -1.920775\n",
       "9   2.000  2.001498  1.798975  2.015995 -1.475 -1.476754 -1.209571 -1.442393\n",
       "10  2.175  2.173950  2.481820  2.226283 -1.050 -1.047830 -1.294270 -1.095781\n",
       "11  2.225  2.223771  1.920638  2.145183 -0.475 -0.475537 -0.427316 -0.542283\n",
       "12  2.500  2.500577  2.665520  2.673951  0.175  0.174690  0.211187  0.219292\n",
       "13  2.400  2.400800  2.716783  2.463834  0.800  0.801017  0.790095  0.845211\n",
       "14  1.775  1.775000  1.351089  1.720062  1.425  1.423182  1.537107  1.410368\n",
       "15  1.125  1.125893  1.644209  1.250774  2.025  2.025087  1.859148  2.089691\n",
       "16  0.075  0.072754 -0.078275  0.211808  2.200  2.204221  2.734963  2.310070\n",
       "17 -1.100 -1.099098 -1.070075 -1.256697  2.100  2.095597  1.444758  2.067685\n",
       "18 -1.925 -1.922915 -2.205572 -1.997437  2.100  2.096518  2.861108  2.175535\n",
       "19 -2.250 -2.253917 -2.255612 -2.482196  2.050  2.059253  1.236308  1.840069"
      ]
     },
     "execution_count": 42,
     "metadata": {},
     "output_type": "execute_result"
    }
   ],
   "source": [
    "check"
   ]
  },
  {
   "cell_type": "code",
   "execution_count": null,
   "metadata": {
    "collapsed": true,
    "deletable": true,
    "editable": true
   },
   "outputs": [],
   "source": []
  }
 ],
 "metadata": {
  "kernelspec": {
   "display_name": "Python 2",
   "language": "python",
   "name": "python2"
  },
  "language_info": {
   "codemirror_mode": {
    "name": "ipython",
    "version": 2
   },
   "file_extension": ".py",
   "mimetype": "text/x-python",
   "name": "python",
   "nbconvert_exporter": "python",
   "pygments_lexer": "ipython2",
   "version": "2.7.13"
  }
 },
 "nbformat": 4,
 "nbformat_minor": 2
}
