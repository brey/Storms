{
 "cells": [
  {
   "cell_type": "markdown",
   "metadata": {
    "deletable": true,
    "editable": true
   },
   "source": [
    "#  Output forcing field"
   ]
  },
  {
   "cell_type": "markdown",
   "metadata": {
    "deletable": true,
    "editable": true
   },
   "source": [
    "## Definitions"
   ]
  },
  {
   "cell_type": "code",
   "execution_count": 1,
   "metadata": {
    "collapsed": true,
    "deletable": true,
    "editable": true
   },
   "outputs": [],
   "source": [
    "import numpy as np"
   ]
  },
  {
   "cell_type": "code",
   "execution_count": 2,
   "metadata": {
    "collapsed": true,
    "deletable": true,
    "editable": true
   },
   "outputs": [],
   "source": [
    "import pandas as pd"
   ]
  },
  {
   "cell_type": "code",
   "execution_count": 3,
   "metadata": {
    "collapsed": true,
    "deletable": true,
    "editable": true
   },
   "outputs": [],
   "source": [
    "import matplotlib.pyplot as plt"
   ]
  },
  {
   "cell_type": "code",
   "execution_count": 4,
   "metadata": {
    "collapsed": true,
    "deletable": true,
    "editable": true
   },
   "outputs": [],
   "source": [
    "%matplotlib inline"
   ]
  },
  {
   "cell_type": "code",
   "execution_count": 5,
   "metadata": {
    "collapsed": false,
    "deletable": true,
    "editable": true
   },
   "outputs": [],
   "source": [
    "from Storms.parameters import *"
   ]
  },
  {
   "cell_type": "code",
   "execution_count": 6,
   "metadata": {
    "collapsed": true,
    "deletable": true,
    "editable": true
   },
   "outputs": [],
   "source": [
    "from ipywidgets import *"
   ]
  },
  {
   "cell_type": "code",
   "execution_count": 7,
   "metadata": {
    "collapsed": true
   },
   "outputs": [],
   "source": [
    "from netCDF4 import Dataset"
   ]
  },
  {
   "cell_type": "code",
   "execution_count": 8,
   "metadata": {
    "collapsed": true
   },
   "outputs": [],
   "source": [
    "import datetime"
   ]
  },
  {
   "cell_type": "markdown",
   "metadata": {
    "deletable": true,
    "editable": true
   },
   "source": [
    "## Read OutData file"
   ]
  },
  {
   "cell_type": "code",
   "execution_count": 9,
   "metadata": {
    "collapsed": false,
    "deletable": true,
    "editable": true
   },
   "outputs": [],
   "source": [
    "tc=pd.read_csv('../tmp/step3.txt',delimiter='\\t')"
   ]
  },
  {
   "cell_type": "code",
   "execution_count": 10,
   "metadata": {
    "collapsed": false,
    "deletable": true,
    "editable": true
   },
   "outputs": [
    {
     "data": {
      "text/html": [
       "<div>\n",
       "<table border=\"1\" class=\"dataframe\">\n",
       "  <thead>\n",
       "    <tr style=\"text-align: right;\">\n",
       "      <th></th>\n",
       "      <th>time</th>\n",
       "      <th>t</th>\n",
       "      <th>hurName</th>\n",
       "      <th>lat</th>\n",
       "      <th>lon</th>\n",
       "      <th>pcenter</th>\n",
       "      <th>penv</th>\n",
       "      <th>rmax</th>\n",
       "      <th>vmax</th>\n",
       "      <th>34ne</th>\n",
       "      <th>...</th>\n",
       "      <th>w34sw</th>\n",
       "      <th>w34nw</th>\n",
       "      <th>vmax0vt</th>\n",
       "      <th>b</th>\n",
       "      <th>dph</th>\n",
       "      <th>k</th>\n",
       "      <th>np.max(V)</th>\n",
       "      <th>rmaxh</th>\n",
       "      <th>rmse</th>\n",
       "      <th>vmax1</th>\n",
       "    </tr>\n",
       "  </thead>\n",
       "  <tbody>\n",
       "    <tr>\n",
       "      <th>0</th>\n",
       "      <td>0.0</td>\n",
       "      <td>2016-09-29 12:00:00</td>\n",
       "      <td>MATTHEW</td>\n",
       "      <td>14.2</td>\n",
       "      <td>-65.5</td>\n",
       "      <td>995</td>\n",
       "      <td>-99</td>\n",
       "      <td>68524.0</td>\n",
       "      <td>30.866667</td>\n",
       "      <td>279652.0</td>\n",
       "      <td>...</td>\n",
       "      <td>19.534445</td>\n",
       "      <td>20.608431</td>\n",
       "      <td>26.161934</td>\n",
       "      <td>0.824513</td>\n",
       "      <td>2687.041711</td>\n",
       "      <td>0.098787</td>\n",
       "      <td>26.161934</td>\n",
       "      <td>26013.373175</td>\n",
       "      <td>3.003832</td>\n",
       "      <td>26.621949</td>\n",
       "    </tr>\n",
       "    <tr>\n",
       "      <th>1</th>\n",
       "      <td>1.0</td>\n",
       "      <td>2016-09-29 13:00:00</td>\n",
       "      <td>MATTHEW</td>\n",
       "      <td>14.2</td>\n",
       "      <td>-65.7</td>\n",
       "      <td>998</td>\n",
       "      <td>-99</td>\n",
       "      <td>46300.0</td>\n",
       "      <td>29.323333</td>\n",
       "      <td>288912.0</td>\n",
       "      <td>...</td>\n",
       "      <td>19.263473</td>\n",
       "      <td>20.915893</td>\n",
       "      <td>26.058509</td>\n",
       "      <td>0.849102</td>\n",
       "      <td>2575.365636</td>\n",
       "      <td>0.134372</td>\n",
       "      <td>26.058509</td>\n",
       "      <td>21960.064705</td>\n",
       "      <td>2.634959</td>\n",
       "      <td>26.448632</td>\n",
       "    </tr>\n",
       "    <tr>\n",
       "      <th>2</th>\n",
       "      <td>2.0</td>\n",
       "      <td>2016-09-29 14:00:00</td>\n",
       "      <td>MATTHEW</td>\n",
       "      <td>14.3</td>\n",
       "      <td>-65.9</td>\n",
       "      <td>997</td>\n",
       "      <td>-99</td>\n",
       "      <td>57412.0</td>\n",
       "      <td>33.953333</td>\n",
       "      <td>262984.0</td>\n",
       "      <td>...</td>\n",
       "      <td>19.538575</td>\n",
       "      <td>20.351526</td>\n",
       "      <td>30.315362</td>\n",
       "      <td>1.161375</td>\n",
       "      <td>2532.480755</td>\n",
       "      <td>0.239280</td>\n",
       "      <td>30.315362</td>\n",
       "      <td>19995.524368</td>\n",
       "      <td>2.827389</td>\n",
       "      <td>30.673483</td>\n",
       "    </tr>\n",
       "    <tr>\n",
       "      <th>3</th>\n",
       "      <td>3.0</td>\n",
       "      <td>2016-09-29 15:00:00</td>\n",
       "      <td>MATTHEW</td>\n",
       "      <td>14.3</td>\n",
       "      <td>-66.1</td>\n",
       "      <td>995</td>\n",
       "      <td>-99</td>\n",
       "      <td>48152.0</td>\n",
       "      <td>33.438889</td>\n",
       "      <td>253724.0</td>\n",
       "      <td>...</td>\n",
       "      <td>19.796023</td>\n",
       "      <td>20.766386</td>\n",
       "      <td>32.334880</td>\n",
       "      <td>1.044077</td>\n",
       "      <td>3184.888911</td>\n",
       "      <td>0.207510</td>\n",
       "      <td>32.334880</td>\n",
       "      <td>15661.528632</td>\n",
       "      <td>3.298494</td>\n",
       "      <td>32.614984</td>\n",
       "    </tr>\n",
       "    <tr>\n",
       "      <th>4</th>\n",
       "      <td>4.0</td>\n",
       "      <td>2016-09-29 16:00:00</td>\n",
       "      <td>MATTHEW</td>\n",
       "      <td>14.3</td>\n",
       "      <td>-66.3</td>\n",
       "      <td>993</td>\n",
       "      <td>-99</td>\n",
       "      <td>42596.0</td>\n",
       "      <td>33.953333</td>\n",
       "      <td>266688.0</td>\n",
       "      <td>...</td>\n",
       "      <td>20.326892</td>\n",
       "      <td>20.615410</td>\n",
       "      <td>32.122624</td>\n",
       "      <td>1.064447</td>\n",
       "      <td>3095.902038</td>\n",
       "      <td>0.184050</td>\n",
       "      <td>32.122624</td>\n",
       "      <td>19347.964022</td>\n",
       "      <td>3.666758</td>\n",
       "      <td>32.468297</td>\n",
       "    </tr>\n",
       "  </tbody>\n",
       "</table>\n",
       "<p>5 rows × 47 columns</p>\n",
       "</div>"
      ],
      "text/plain": [
       "   time                    t  hurName   lat   lon  pcenter  penv     rmax  \\\n",
       "0   0.0  2016-09-29 12:00:00  MATTHEW  14.2 -65.5      995   -99  68524.0   \n",
       "1   1.0  2016-09-29 13:00:00  MATTHEW  14.2 -65.7      998   -99  46300.0   \n",
       "2   2.0  2016-09-29 14:00:00  MATTHEW  14.3 -65.9      997   -99  57412.0   \n",
       "3   3.0  2016-09-29 15:00:00  MATTHEW  14.3 -66.1      995   -99  48152.0   \n",
       "4   4.0  2016-09-29 16:00:00  MATTHEW  14.3 -66.3      993   -99  42596.0   \n",
       "\n",
       "        vmax      34ne    ...          w34sw      w34nw    vmax0vt         b  \\\n",
       "0  30.866667  279652.0    ...      19.534445  20.608431  26.161934  0.824513   \n",
       "1  29.323333  288912.0    ...      19.263473  20.915893  26.058509  0.849102   \n",
       "2  33.953333  262984.0    ...      19.538575  20.351526  30.315362  1.161375   \n",
       "3  33.438889  253724.0    ...      19.796023  20.766386  32.334880  1.044077   \n",
       "4  33.953333  266688.0    ...      20.326892  20.615410  32.122624  1.064447   \n",
       "\n",
       "           dph         k  np.max(V)         rmaxh      rmse      vmax1  \n",
       "0  2687.041711  0.098787  26.161934  26013.373175  3.003832  26.621949  \n",
       "1  2575.365636  0.134372  26.058509  21960.064705  2.634959  26.448632  \n",
       "2  2532.480755  0.239280  30.315362  19995.524368  2.827389  30.673483  \n",
       "3  3184.888911  0.207510  32.334880  15661.528632  3.298494  32.614984  \n",
       "4  3095.902038  0.184050  32.122624  19347.964022  3.666758  32.468297  \n",
       "\n",
       "[5 rows x 47 columns]"
      ]
     },
     "execution_count": 10,
     "metadata": {},
     "output_type": "execute_result"
    }
   ],
   "source": [
    "tc.head()"
   ]
  },
  {
   "cell_type": "markdown",
   "metadata": {
    "deletable": true,
    "editable": true
   },
   "source": [
    "Now we need to interpolate for every hour the location and compute translational velocities while keeping the rest of the attributes the same"
   ]
  },
  {
   "cell_type": "code",
   "execution_count": 11,
   "metadata": {
    "collapsed": true,
    "deletable": true,
    "editable": true
   },
   "outputs": [],
   "source": [
    "tstamps = tc['t'].apply(pd.to_datetime)"
   ]
  },
  {
   "cell_type": "code",
   "execution_count": 12,
   "metadata": {
    "collapsed": false,
    "deletable": true,
    "editable": true
   },
   "outputs": [],
   "source": [
    "tc = tc.set_index(tstamps)"
   ]
  },
  {
   "cell_type": "code",
   "execution_count": 13,
   "metadata": {
    "collapsed": false,
    "deletable": true,
    "editable": true
   },
   "outputs": [
    {
     "data": {
      "text/html": [
       "<div>\n",
       "<table border=\"1\" class=\"dataframe\">\n",
       "  <thead>\n",
       "    <tr style=\"text-align: right;\">\n",
       "      <th></th>\n",
       "      <th>time</th>\n",
       "      <th>t</th>\n",
       "      <th>hurName</th>\n",
       "      <th>lat</th>\n",
       "      <th>lon</th>\n",
       "      <th>pcenter</th>\n",
       "      <th>penv</th>\n",
       "      <th>rmax</th>\n",
       "      <th>vmax</th>\n",
       "      <th>34ne</th>\n",
       "      <th>...</th>\n",
       "      <th>w34sw</th>\n",
       "      <th>w34nw</th>\n",
       "      <th>vmax0vt</th>\n",
       "      <th>b</th>\n",
       "      <th>dph</th>\n",
       "      <th>k</th>\n",
       "      <th>np.max(V)</th>\n",
       "      <th>rmaxh</th>\n",
       "      <th>rmse</th>\n",
       "      <th>vmax1</th>\n",
       "    </tr>\n",
       "    <tr>\n",
       "      <th>t</th>\n",
       "      <th></th>\n",
       "      <th></th>\n",
       "      <th></th>\n",
       "      <th></th>\n",
       "      <th></th>\n",
       "      <th></th>\n",
       "      <th></th>\n",
       "      <th></th>\n",
       "      <th></th>\n",
       "      <th></th>\n",
       "      <th></th>\n",
       "      <th></th>\n",
       "      <th></th>\n",
       "      <th></th>\n",
       "      <th></th>\n",
       "      <th></th>\n",
       "      <th></th>\n",
       "      <th></th>\n",
       "      <th></th>\n",
       "      <th></th>\n",
       "      <th></th>\n",
       "    </tr>\n",
       "  </thead>\n",
       "  <tbody>\n",
       "    <tr>\n",
       "      <th>2016-09-29 12:00:00</th>\n",
       "      <td>0.0</td>\n",
       "      <td>2016-09-29 12:00:00</td>\n",
       "      <td>MATTHEW</td>\n",
       "      <td>14.2</td>\n",
       "      <td>-65.5</td>\n",
       "      <td>995</td>\n",
       "      <td>-99</td>\n",
       "      <td>68524.0</td>\n",
       "      <td>30.866667</td>\n",
       "      <td>279652.0</td>\n",
       "      <td>...</td>\n",
       "      <td>19.534445</td>\n",
       "      <td>20.608431</td>\n",
       "      <td>26.161934</td>\n",
       "      <td>0.824513</td>\n",
       "      <td>2687.041711</td>\n",
       "      <td>0.098787</td>\n",
       "      <td>26.161934</td>\n",
       "      <td>26013.373175</td>\n",
       "      <td>3.003832</td>\n",
       "      <td>26.621949</td>\n",
       "    </tr>\n",
       "    <tr>\n",
       "      <th>2016-09-29 13:00:00</th>\n",
       "      <td>1.0</td>\n",
       "      <td>2016-09-29 13:00:00</td>\n",
       "      <td>MATTHEW</td>\n",
       "      <td>14.2</td>\n",
       "      <td>-65.7</td>\n",
       "      <td>998</td>\n",
       "      <td>-99</td>\n",
       "      <td>46300.0</td>\n",
       "      <td>29.323333</td>\n",
       "      <td>288912.0</td>\n",
       "      <td>...</td>\n",
       "      <td>19.263473</td>\n",
       "      <td>20.915893</td>\n",
       "      <td>26.058509</td>\n",
       "      <td>0.849102</td>\n",
       "      <td>2575.365636</td>\n",
       "      <td>0.134372</td>\n",
       "      <td>26.058509</td>\n",
       "      <td>21960.064705</td>\n",
       "      <td>2.634959</td>\n",
       "      <td>26.448632</td>\n",
       "    </tr>\n",
       "    <tr>\n",
       "      <th>2016-09-29 14:00:00</th>\n",
       "      <td>2.0</td>\n",
       "      <td>2016-09-29 14:00:00</td>\n",
       "      <td>MATTHEW</td>\n",
       "      <td>14.3</td>\n",
       "      <td>-65.9</td>\n",
       "      <td>997</td>\n",
       "      <td>-99</td>\n",
       "      <td>57412.0</td>\n",
       "      <td>33.953333</td>\n",
       "      <td>262984.0</td>\n",
       "      <td>...</td>\n",
       "      <td>19.538575</td>\n",
       "      <td>20.351526</td>\n",
       "      <td>30.315362</td>\n",
       "      <td>1.161375</td>\n",
       "      <td>2532.480755</td>\n",
       "      <td>0.239280</td>\n",
       "      <td>30.315362</td>\n",
       "      <td>19995.524368</td>\n",
       "      <td>2.827389</td>\n",
       "      <td>30.673483</td>\n",
       "    </tr>\n",
       "    <tr>\n",
       "      <th>2016-09-29 15:00:00</th>\n",
       "      <td>3.0</td>\n",
       "      <td>2016-09-29 15:00:00</td>\n",
       "      <td>MATTHEW</td>\n",
       "      <td>14.3</td>\n",
       "      <td>-66.1</td>\n",
       "      <td>995</td>\n",
       "      <td>-99</td>\n",
       "      <td>48152.0</td>\n",
       "      <td>33.438889</td>\n",
       "      <td>253724.0</td>\n",
       "      <td>...</td>\n",
       "      <td>19.796023</td>\n",
       "      <td>20.766386</td>\n",
       "      <td>32.334880</td>\n",
       "      <td>1.044077</td>\n",
       "      <td>3184.888911</td>\n",
       "      <td>0.207510</td>\n",
       "      <td>32.334880</td>\n",
       "      <td>15661.528632</td>\n",
       "      <td>3.298494</td>\n",
       "      <td>32.614984</td>\n",
       "    </tr>\n",
       "    <tr>\n",
       "      <th>2016-09-29 16:00:00</th>\n",
       "      <td>4.0</td>\n",
       "      <td>2016-09-29 16:00:00</td>\n",
       "      <td>MATTHEW</td>\n",
       "      <td>14.3</td>\n",
       "      <td>-66.3</td>\n",
       "      <td>993</td>\n",
       "      <td>-99</td>\n",
       "      <td>42596.0</td>\n",
       "      <td>33.953333</td>\n",
       "      <td>266688.0</td>\n",
       "      <td>...</td>\n",
       "      <td>20.326892</td>\n",
       "      <td>20.615410</td>\n",
       "      <td>32.122624</td>\n",
       "      <td>1.064447</td>\n",
       "      <td>3095.902038</td>\n",
       "      <td>0.184050</td>\n",
       "      <td>32.122624</td>\n",
       "      <td>19347.964022</td>\n",
       "      <td>3.666758</td>\n",
       "      <td>32.468297</td>\n",
       "    </tr>\n",
       "  </tbody>\n",
       "</table>\n",
       "<p>5 rows × 47 columns</p>\n",
       "</div>"
      ],
      "text/plain": [
       "                     time                    t  hurName   lat   lon  pcenter  \\\n",
       "t                                                                              \n",
       "2016-09-29 12:00:00   0.0  2016-09-29 12:00:00  MATTHEW  14.2 -65.5      995   \n",
       "2016-09-29 13:00:00   1.0  2016-09-29 13:00:00  MATTHEW  14.2 -65.7      998   \n",
       "2016-09-29 14:00:00   2.0  2016-09-29 14:00:00  MATTHEW  14.3 -65.9      997   \n",
       "2016-09-29 15:00:00   3.0  2016-09-29 15:00:00  MATTHEW  14.3 -66.1      995   \n",
       "2016-09-29 16:00:00   4.0  2016-09-29 16:00:00  MATTHEW  14.3 -66.3      993   \n",
       "\n",
       "                     penv     rmax       vmax      34ne    ...          w34sw  \\\n",
       "t                                                          ...                  \n",
       "2016-09-29 12:00:00   -99  68524.0  30.866667  279652.0    ...      19.534445   \n",
       "2016-09-29 13:00:00   -99  46300.0  29.323333  288912.0    ...      19.263473   \n",
       "2016-09-29 14:00:00   -99  57412.0  33.953333  262984.0    ...      19.538575   \n",
       "2016-09-29 15:00:00   -99  48152.0  33.438889  253724.0    ...      19.796023   \n",
       "2016-09-29 16:00:00   -99  42596.0  33.953333  266688.0    ...      20.326892   \n",
       "\n",
       "                         w34nw    vmax0vt         b          dph         k  \\\n",
       "t                                                                            \n",
       "2016-09-29 12:00:00  20.608431  26.161934  0.824513  2687.041711  0.098787   \n",
       "2016-09-29 13:00:00  20.915893  26.058509  0.849102  2575.365636  0.134372   \n",
       "2016-09-29 14:00:00  20.351526  30.315362  1.161375  2532.480755  0.239280   \n",
       "2016-09-29 15:00:00  20.766386  32.334880  1.044077  3184.888911  0.207510   \n",
       "2016-09-29 16:00:00  20.615410  32.122624  1.064447  3095.902038  0.184050   \n",
       "\n",
       "                     np.max(V)         rmaxh      rmse      vmax1  \n",
       "t                                                                  \n",
       "2016-09-29 12:00:00  26.161934  26013.373175  3.003832  26.621949  \n",
       "2016-09-29 13:00:00  26.058509  21960.064705  2.634959  26.448632  \n",
       "2016-09-29 14:00:00  30.315362  19995.524368  2.827389  30.673483  \n",
       "2016-09-29 15:00:00  32.334880  15661.528632  3.298494  32.614984  \n",
       "2016-09-29 16:00:00  32.122624  19347.964022  3.666758  32.468297  \n",
       "\n",
       "[5 rows x 47 columns]"
      ]
     },
     "execution_count": 13,
     "metadata": {},
     "output_type": "execute_result"
    }
   ],
   "source": [
    "tc.head()"
   ]
  },
  {
   "cell_type": "code",
   "execution_count": 14,
   "metadata": {
    "collapsed": false,
    "deletable": true,
    "editable": true
   },
   "outputs": [],
   "source": [
    "tc_ = tc.resample('H').mean()"
   ]
  },
  {
   "cell_type": "code",
   "execution_count": 15,
   "metadata": {
    "collapsed": false,
    "deletable": true,
    "editable": true
   },
   "outputs": [
    {
     "data": {
      "text/plain": [
       "<matplotlib.axes._subplots.AxesSubplot at 0x11735a290>"
      ]
     },
     "execution_count": 15,
     "metadata": {},
     "output_type": "execute_result"
    },
    {
     "data": {
      "image/png": "[encoded data removed]",
      "text/plain": [
       "<matplotlib.figure.Figure at 0x113ec0f90>"
      ]
     },
     "metadata": {},
     "output_type": "display_data"
    }
   ],
   "source": [
    "ax = tc_['lat'].interpolate(method='linear').plot()\n",
    "tc_['lat'].plot(ax=ax, marker='o')"
   ]
  },
  {
   "cell_type": "code",
   "execution_count": 16,
   "metadata": {
    "collapsed": false,
    "deletable": true,
    "editable": true
   },
   "outputs": [],
   "source": [
    "data = tc_.interpolate(method='cubic')"
   ]
  },
  {
   "cell_type": "code",
   "execution_count": 17,
   "metadata": {
    "collapsed": false,
    "deletable": true,
    "editable": true,
    "scrolled": true
   },
   "outputs": [
    {
     "data": {
      "image/png": "[encoded data removed]",
      "text/plain": [
       "<matplotlib.figure.Figure at 0x113ec0a90>"
      ]
     },
     "metadata": {},
     "output_type": "display_data"
    }
   ],
   "source": [
    "ax=data['rmax'].plot()"
   ]
  },
  {
   "cell_type": "markdown",
   "metadata": {
    "deletable": true,
    "editable": true
   },
   "source": [
    "# From lat lon to r, th"
   ]
  },
  {
   "cell_type": "code",
   "execution_count": 18,
   "metadata": {
    "collapsed": true,
    "deletable": true,
    "editable": true
   },
   "outputs": [],
   "source": [
    "    # required function\n",
    "    from math import radians, cos, sin, asin, sqrt\n",
    "    def Haversine(lon1, lat1, lon2, lat2):\n",
    "        \"\"\"\n",
    "        Calculate the great circle distance between two points \n",
    "        on the earth (specified in decimal degrees)\n",
    "        \"\"\"\n",
    "        # convert decimal degrees to radians \n",
    "        lon1, lat1 = np.radians([lon1, lat1])\n",
    "        lon2, lat2 = np.radians([ lon2, lat2])\n",
    "\n",
    "        # haversine formula \n",
    "        dlon = lon2 - lon1 \n",
    "        dlat = lat2 - lat1 \n",
    "        a = np.sin(dlat/2)**2 + np.cos(lat1) * np.cos(lat2) * np.sin(dlon/2)**2\n",
    "        c = 2 * np.arcsin(np.sqrt(a)) \n",
    "        km = 6378.388 * c\n",
    "        m = km * 1000\n",
    "        return  m"
   ]
  },
  {
   "cell_type": "code",
   "execution_count": 19,
   "metadata": {
    "collapsed": true,
    "deletable": true,
    "editable": true
   },
   "outputs": [],
   "source": [
    "def pres(r):\n",
    "    return pn+dph*np.exp(-(rmaxh/r)**bh)"
   ]
  },
  {
   "cell_type": "code",
   "execution_count": 20,
   "metadata": {
    "collapsed": true,
    "deletable": true,
    "editable": true
   },
   "outputs": [],
   "source": [
    "def hvel(r,dph,bh,rmaxh,kh):\n",
    "    ratio=(r-rmaxh)/(maxR-rmaxh)\n",
    "    x=0.5+ratio*kh\n",
    "    return (bh/rhoa*(rmaxh/r)**bh*dph*np.exp(-(rmaxh/r)**bh))**x"
   ]
  },
  {
   "cell_type": "code",
   "execution_count": 21,
   "metadata": {
    "collapsed": true,
    "deletable": true,
    "editable": true
   },
   "outputs": [],
   "source": [
    "def hvel_(r,dph,bh,rmaxh,kh):\n",
    "    ratio=(r-rmaxh)/(maxR-rmaxh)\n",
    "    ratio2=np.minimum(np.maximum(ratio,0),1)# control the slope at high radius\n",
    "    x=0.5+ratio2*kh\n",
    "    return (bh/rhoa*(rmaxh/r)**bh*dph*np.exp(-(rmaxh/r)**bh))**x"
   ]
  },
  {
   "cell_type": "code",
   "execution_count": 22,
   "metadata": {
    "collapsed": true,
    "deletable": true,
    "editable": true
   },
   "outputs": [],
   "source": [
    "def hvel_(r,dph,bh,rmaxh,kh):\n",
    "    ratio=(r-rmaxh)/(maxR-rmaxh)\n",
    "    ratio2=np.minimum(np.maximum(ratio,0),1)# control the slope at high radius\n",
    "    x=0.5+ratio2*kh\n",
    "    return (bh/rhoa*(rmaxh/r)**bh*dph*np.exp(-(rmaxh/r)**bh))**x"
   ]
  },
  {
   "cell_type": "code",
   "execution_count": 23,
   "metadata": {
    "collapsed": false,
    "deletable": true,
    "editable": true
   },
   "outputs": [],
   "source": [
    "def hvel2d(l1,l2,lon0,lat0):\n",
    "    r = Haversine(l1, l2, lon0, lat0)\n",
    "    ratio=(r-rmaxh)/(maxR-rmaxh)\n",
    "    ratio2=np.minimum(np.maximum(ratio,0),1)# control the slope at high radius\n",
    "    xh=0.5+ratio2*kh\n",
    "    theta=np.arctan2((l2-lat0),(l1-lon0))\n",
    "    fcor = 2*omega*np.sin(theta) #coriolis force\n",
    "    ur=(bh/rhoa*(rmaxh/r)**bh*dph*np.exp(-(rmaxh/r)**bh)+(r*fcor/2.)**2)**xh-r*fcor/2.\n",
    "    ur=(bh/rhoa*(rmaxh/r)**bh*dph*np.exp(-(rmaxh/r)**bh))**xh\n",
    "\n",
    "\n",
    "    ux=-ur*np.sin(theta)\n",
    "    uy=ur*np.cos(theta)\n",
    "    return ux+vtx*(1.-np.exp(-(rmaxh/r)**bh)),uy+vty*(1.-np.exp(-(rmaxh/r)**bh)), pres(r)"
   ]
  },
  {
   "cell_type": "markdown",
   "metadata": {
    "deletable": true,
    "editable": true
   },
   "source": [
    "## for one time stamp"
   ]
  },
  {
   "cell_type": "code",
   "execution_count": 24,
   "metadata": {
    "collapsed": true,
    "deletable": true,
    "editable": true
   },
   "outputs": [],
   "source": [
    "i=20"
   ]
  },
  {
   "cell_type": "code",
   "execution_count": 25,
   "metadata": {
    "collapsed": true,
    "deletable": true,
    "editable": true
   },
   "outputs": [],
   "source": [
    "#define lat/lon window\n",
    "minlon=tc.lon[i]-1.\n",
    "maxlon=tc.lon[i]+1.\n",
    "minlat=tc.lat[i]-1.\n",
    "maxlat=tc.lat[i]+1."
   ]
  },
  {
   "cell_type": "code",
   "execution_count": 26,
   "metadata": {
    "collapsed": false,
    "deletable": true,
    "editable": true
   },
   "outputs": [],
   "source": [
    "lons=np.linspace(minlon, maxlon,100) # constract arrays\n",
    "lats=np.linspace(minlat, maxlat,100)"
   ]
  },
  {
   "cell_type": "code",
   "execution_count": 27,
   "metadata": {
    "collapsed": false,
    "deletable": true,
    "editable": true
   },
   "outputs": [],
   "source": [
    "q1,q2=np.meshgrid(lons,lats) # create grid"
   ]
  },
  {
   "cell_type": "code",
   "execution_count": 28,
   "metadata": {
    "collapsed": true,
    "deletable": true,
    "editable": true
   },
   "outputs": [],
   "source": [
    "#compute u,v,p"
   ]
  },
  {
   "cell_type": "code",
   "execution_count": 29,
   "metadata": {
    "collapsed": false,
    "deletable": true,
    "editable": true
   },
   "outputs": [],
   "source": [
    "bh,kh,dph,rmaxh,vtx,vty = tc.ix[i,['b','k','dph','rmaxh','vtrx','vtry']]"
   ]
  },
  {
   "cell_type": "code",
   "execution_count": 30,
   "metadata": {
    "collapsed": false,
    "deletable": true,
    "editable": true
   },
   "outputs": [],
   "source": [
    "zx,zy,pr=hvel2d(q1,q2,tc.lon[i],tc.lat[i])\n",
    "vel=np.sqrt(zx**2+zy**2)"
   ]
  },
  {
   "cell_type": "markdown",
   "metadata": {
    "deletable": true,
    "editable": true
   },
   "source": [
    "Plot 1D Holland function"
   ]
  },
  {
   "cell_type": "code",
   "execution_count": 57,
   "metadata": {
    "collapsed": true
   },
   "outputs": [],
   "source": [
    "maxR=500.e3"
   ]
  },
  {
   "cell_type": "code",
   "execution_count": 58,
   "metadata": {
    "collapsed": false,
    "deletable": true,
    "editable": true
   },
   "outputs": [
    {
     "data": {
      "text/plain": [
       "<matplotlib.legend.Legend at 0x11ec97210>"
      ]
     },
     "execution_count": 58,
     "metadata": {},
     "output_type": "execute_result"
    },
    {
     "data": {
      "image/png": "[encoded data removed]",
      "text/plain": [
       "<matplotlib.figure.Figure at 0x1b04e08d0>"
      ]
     },
     "metadata": {},
     "output_type": "display_data"
    }
   ],
   "source": [
    "plt.figure(figsize=(8,6))\n",
    "rh=np.linspace(0.01,2*maxR,1000)\n",
    "sol=hvel(rh,dph,bh,rmaxh,kh)\n",
    "sol_=hvel_(rh,dph,bh,rmaxh,kh)\n",
    "plt.plot(rh,sol, label='ratio')\n",
    "plt.plot(rh,sol_,label='ratio2')\n",
    "plt.legend()\n"
   ]
  },
  {
   "cell_type": "code",
   "execution_count": 59,
   "metadata": {
    "collapsed": false
   },
   "outputs": [
    {
     "data": {
      "text/plain": [
       "array([[ 847847.84936937]])"
      ]
     },
     "execution_count": 59,
     "metadata": {},
     "output_type": "execute_result"
    }
   ],
   "source": [
    "#find the local minima\n",
    "lm = np.r_[True,sol[1:] < sol[:-1]] & np.r_[sol[:-1] < sol[1:], True]\n",
    "\n",
    "rloc = np.argwhere(sol==sol[lm][1]) # index of local minima\n",
    "\n",
    "rh[rloc]"
   ]
  },
  {
   "cell_type": "code",
   "execution_count": 60,
   "metadata": {
    "collapsed": false,
    "deletable": true,
    "editable": true
   },
   "outputs": [
    {
     "ename": "TypeError",
     "evalue": "Input z must be a 2D array.",
     "output_type": "error",
     "traceback": [
      "\u001b[0;31m---------------------------------------------------------------------------\u001b[0m",
      "\u001b[0;31mTypeError\u001b[0m                                 Traceback (most recent call last)",
      "\u001b[0;32m<ipython-input-60-cdd3227bde07>\u001b[0m in \u001b[0;36m<module>\u001b[0;34m()\u001b[0m\n\u001b[1;32m      1\u001b[0m \u001b[0mplt\u001b[0m\u001b[0;34m.\u001b[0m\u001b[0mfigure\u001b[0m\u001b[0;34m(\u001b[0m\u001b[0mfigsize\u001b[0m\u001b[0;34m=\u001b[0m\u001b[0;34m(\u001b[0m\u001b[0;36m10\u001b[0m\u001b[0;34m,\u001b[0m\u001b[0;36m8\u001b[0m\u001b[0;34m)\u001b[0m\u001b[0;34m)\u001b[0m\u001b[0;34m\u001b[0m\u001b[0m\n\u001b[0;32m----> 2\u001b[0;31m \u001b[0mplt\u001b[0m\u001b[0;34m.\u001b[0m\u001b[0mcontourf\u001b[0m\u001b[0;34m(\u001b[0m\u001b[0mq1\u001b[0m\u001b[0;34m,\u001b[0m\u001b[0mq2\u001b[0m\u001b[0;34m,\u001b[0m\u001b[0mvel\u001b[0m\u001b[0;34m,\u001b[0m\u001b[0;36m20\u001b[0m\u001b[0;34m)\u001b[0m\u001b[0;34m\u001b[0m\u001b[0m\n\u001b[0m\u001b[1;32m      3\u001b[0m \u001b[0mplt\u001b[0m\u001b[0;34m.\u001b[0m\u001b[0mstreamplot\u001b[0m\u001b[0;34m(\u001b[0m\u001b[0mq1\u001b[0m\u001b[0;34m,\u001b[0m\u001b[0mq2\u001b[0m\u001b[0;34m,\u001b[0m\u001b[0mzx\u001b[0m\u001b[0;34m,\u001b[0m\u001b[0mzy\u001b[0m\u001b[0;34m,\u001b[0m \u001b[0mcolor\u001b[0m\u001b[0;34m=\u001b[0m\u001b[0mvel\u001b[0m\u001b[0;34m,\u001b[0m \u001b[0mlinewidth\u001b[0m\u001b[0;34m=\u001b[0m\u001b[0;36m0.1\u001b[0m\u001b[0;34m*\u001b[0m\u001b[0mvel\u001b[0m\u001b[0;34m)\u001b[0m\u001b[0;34m\u001b[0m\u001b[0m\n\u001b[1;32m      4\u001b[0m \u001b[0mplt\u001b[0m\u001b[0;34m.\u001b[0m\u001b[0mcolorbar\u001b[0m\u001b[0;34m(\u001b[0m\u001b[0;34m)\u001b[0m\u001b[0;34m\u001b[0m\u001b[0m\n\u001b[1;32m      5\u001b[0m \u001b[0;31m#plt.quiver(q1,q2,zx,zy,scale=700)\u001b[0m\u001b[0;34m\u001b[0m\u001b[0;34m\u001b[0m\u001b[0m\n",
      "\u001b[0;32m/Users/brey/anaconda3/envs/ipykernel_py2/lib/python2.7/site-packages/matplotlib/pyplot.pyc\u001b[0m in \u001b[0;36mcontourf\u001b[0;34m(*args, **kwargs)\u001b[0m\n\u001b[1;32m   2873\u001b[0m                       mplDeprecation)\n\u001b[1;32m   2874\u001b[0m     \u001b[0;32mtry\u001b[0m\u001b[0;34m:\u001b[0m\u001b[0;34m\u001b[0m\u001b[0m\n\u001b[0;32m-> 2875\u001b[0;31m         \u001b[0mret\u001b[0m \u001b[0;34m=\u001b[0m \u001b[0max\u001b[0m\u001b[0;34m.\u001b[0m\u001b[0mcontourf\u001b[0m\u001b[0;34m(\u001b[0m\u001b[0;34m*\u001b[0m\u001b[0margs\u001b[0m\u001b[0;34m,\u001b[0m \u001b[0;34m**\u001b[0m\u001b[0mkwargs\u001b[0m\u001b[0;34m)\u001b[0m\u001b[0;34m\u001b[0m\u001b[0m\n\u001b[0m\u001b[1;32m   2876\u001b[0m     \u001b[0;32mfinally\u001b[0m\u001b[0;34m:\u001b[0m\u001b[0;34m\u001b[0m\u001b[0m\n\u001b[1;32m   2877\u001b[0m         \u001b[0max\u001b[0m\u001b[0;34m.\u001b[0m\u001b[0m_hold\u001b[0m \u001b[0;34m=\u001b[0m \u001b[0mwashold\u001b[0m\u001b[0;34m\u001b[0m\u001b[0m\n",
      "\u001b[0;32m/Users/brey/anaconda3/envs/ipykernel_py2/lib/python2.7/site-packages/matplotlib/__init__.pyc\u001b[0m in \u001b[0;36minner\u001b[0;34m(ax, *args, **kwargs)\u001b[0m\n\u001b[1;32m   1890\u001b[0m                     warnings.warn(msg % (label_namer, func.__name__),\n\u001b[1;32m   1891\u001b[0m                                   RuntimeWarning, stacklevel=2)\n\u001b[0;32m-> 1892\u001b[0;31m             \u001b[0;32mreturn\u001b[0m \u001b[0mfunc\u001b[0m\u001b[0;34m(\u001b[0m\u001b[0max\u001b[0m\u001b[0;34m,\u001b[0m \u001b[0;34m*\u001b[0m\u001b[0margs\u001b[0m\u001b[0;34m,\u001b[0m \u001b[0;34m**\u001b[0m\u001b[0mkwargs\u001b[0m\u001b[0;34m)\u001b[0m\u001b[0;34m\u001b[0m\u001b[0m\n\u001b[0m\u001b[1;32m   1893\u001b[0m         \u001b[0mpre_doc\u001b[0m \u001b[0;34m=\u001b[0m \u001b[0minner\u001b[0m\u001b[0;34m.\u001b[0m\u001b[0m__doc__\u001b[0m\u001b[0;34m\u001b[0m\u001b[0m\n\u001b[1;32m   1894\u001b[0m         \u001b[0;32mif\u001b[0m \u001b[0mpre_doc\u001b[0m \u001b[0;32mis\u001b[0m \u001b[0mNone\u001b[0m\u001b[0;34m:\u001b[0m\u001b[0;34m\u001b[0m\u001b[0m\n",
      "\u001b[0;32m/Users/brey/anaconda3/envs/ipykernel_py2/lib/python2.7/site-packages/matplotlib/axes/_axes.pyc\u001b[0m in \u001b[0;36mcontourf\u001b[0;34m(self, *args, **kwargs)\u001b[0m\n\u001b[1;32m   5827\u001b[0m             \u001b[0mself\u001b[0m\u001b[0;34m.\u001b[0m\u001b[0mcla\u001b[0m\u001b[0;34m(\u001b[0m\u001b[0;34m)\u001b[0m\u001b[0;34m\u001b[0m\u001b[0m\n\u001b[1;32m   5828\u001b[0m         \u001b[0mkwargs\u001b[0m\u001b[0;34m[\u001b[0m\u001b[0;34m'filled'\u001b[0m\u001b[0;34m]\u001b[0m \u001b[0;34m=\u001b[0m \u001b[0mTrue\u001b[0m\u001b[0;34m\u001b[0m\u001b[0m\n\u001b[0;32m-> 5829\u001b[0;31m         \u001b[0mcontours\u001b[0m \u001b[0;34m=\u001b[0m \u001b[0mmcontour\u001b[0m\u001b[0;34m.\u001b[0m\u001b[0mQuadContourSet\u001b[0m\u001b[0;34m(\u001b[0m\u001b[0mself\u001b[0m\u001b[0;34m,\u001b[0m \u001b[0;34m*\u001b[0m\u001b[0margs\u001b[0m\u001b[0;34m,\u001b[0m \u001b[0;34m**\u001b[0m\u001b[0mkwargs\u001b[0m\u001b[0;34m)\u001b[0m\u001b[0;34m\u001b[0m\u001b[0m\n\u001b[0m\u001b[1;32m   5830\u001b[0m         \u001b[0mself\u001b[0m\u001b[0;34m.\u001b[0m\u001b[0mautoscale_view\u001b[0m\u001b[0;34m(\u001b[0m\u001b[0;34m)\u001b[0m\u001b[0;34m\u001b[0m\u001b[0m\n\u001b[1;32m   5831\u001b[0m         \u001b[0;32mreturn\u001b[0m \u001b[0mcontours\u001b[0m\u001b[0;34m\u001b[0m\u001b[0m\n",
      "\u001b[0;32m/Users/brey/anaconda3/envs/ipykernel_py2/lib/python2.7/site-packages/matplotlib/contour.pyc\u001b[0m in \u001b[0;36m__init__\u001b[0;34m(self, ax, *args, **kwargs)\u001b[0m\n\u001b[1;32m    862\u001b[0m         \u001b[0mself\u001b[0m\u001b[0;34m.\u001b[0m\u001b[0m_transform\u001b[0m \u001b[0;34m=\u001b[0m \u001b[0mkwargs\u001b[0m\u001b[0;34m.\u001b[0m\u001b[0mget\u001b[0m\u001b[0;34m(\u001b[0m\u001b[0;34m'transform'\u001b[0m\u001b[0;34m,\u001b[0m \u001b[0mNone\u001b[0m\u001b[0;34m)\u001b[0m\u001b[0;34m\u001b[0m\u001b[0m\n\u001b[1;32m    863\u001b[0m \u001b[0;34m\u001b[0m\u001b[0m\n\u001b[0;32m--> 864\u001b[0;31m         \u001b[0mself\u001b[0m\u001b[0;34m.\u001b[0m\u001b[0m_process_args\u001b[0m\u001b[0;34m(\u001b[0m\u001b[0;34m*\u001b[0m\u001b[0margs\u001b[0m\u001b[0;34m,\u001b[0m \u001b[0;34m**\u001b[0m\u001b[0mkwargs\u001b[0m\u001b[0;34m)\u001b[0m\u001b[0;34m\u001b[0m\u001b[0m\n\u001b[0m\u001b[1;32m    865\u001b[0m         \u001b[0mself\u001b[0m\u001b[0;34m.\u001b[0m\u001b[0m_process_levels\u001b[0m\u001b[0;34m(\u001b[0m\u001b[0;34m)\u001b[0m\u001b[0;34m\u001b[0m\u001b[0m\n\u001b[1;32m    866\u001b[0m \u001b[0;34m\u001b[0m\u001b[0m\n",
      "\u001b[0;32m/Users/brey/anaconda3/envs/ipykernel_py2/lib/python2.7/site-packages/matplotlib/contour.pyc\u001b[0m in \u001b[0;36m_process_args\u001b[0;34m(self, *args, **kwargs)\u001b[0m\n\u001b[1;32m   1427\u001b[0m                 \u001b[0mself\u001b[0m\u001b[0;34m.\u001b[0m\u001b[0m_corner_mask\u001b[0m \u001b[0;34m=\u001b[0m \u001b[0mmpl\u001b[0m\u001b[0;34m.\u001b[0m\u001b[0mrcParams\u001b[0m\u001b[0;34m[\u001b[0m\u001b[0;34m'contour.corner_mask'\u001b[0m\u001b[0;34m]\u001b[0m\u001b[0;34m\u001b[0m\u001b[0m\n\u001b[1;32m   1428\u001b[0m \u001b[0;34m\u001b[0m\u001b[0m\n\u001b[0;32m-> 1429\u001b[0;31m             \u001b[0mx\u001b[0m\u001b[0;34m,\u001b[0m \u001b[0my\u001b[0m\u001b[0;34m,\u001b[0m \u001b[0mz\u001b[0m \u001b[0;34m=\u001b[0m \u001b[0mself\u001b[0m\u001b[0;34m.\u001b[0m\u001b[0m_contour_args\u001b[0m\u001b[0;34m(\u001b[0m\u001b[0margs\u001b[0m\u001b[0;34m,\u001b[0m \u001b[0mkwargs\u001b[0m\u001b[0;34m)\u001b[0m\u001b[0;34m\u001b[0m\u001b[0m\n\u001b[0m\u001b[1;32m   1430\u001b[0m \u001b[0;34m\u001b[0m\u001b[0m\n\u001b[1;32m   1431\u001b[0m             \u001b[0m_mask\u001b[0m \u001b[0;34m=\u001b[0m \u001b[0mma\u001b[0m\u001b[0;34m.\u001b[0m\u001b[0mgetmask\u001b[0m\u001b[0;34m(\u001b[0m\u001b[0mz\u001b[0m\u001b[0;34m)\u001b[0m\u001b[0;34m\u001b[0m\u001b[0m\n",
      "\u001b[0;32m/Users/brey/anaconda3/envs/ipykernel_py2/lib/python2.7/site-packages/matplotlib/contour.pyc\u001b[0m in \u001b[0;36m_contour_args\u001b[0;34m(self, args, kwargs)\u001b[0m\n\u001b[1;32m   1506\u001b[0m             \u001b[0margs\u001b[0m \u001b[0;34m=\u001b[0m \u001b[0margs\u001b[0m\u001b[0;34m[\u001b[0m\u001b[0;36m1\u001b[0m\u001b[0;34m:\u001b[0m\u001b[0;34m]\u001b[0m\u001b[0;34m\u001b[0m\u001b[0m\n\u001b[1;32m   1507\u001b[0m         \u001b[0;32melif\u001b[0m \u001b[0mNargs\u001b[0m \u001b[0;34m<=\u001b[0m \u001b[0;36m4\u001b[0m\u001b[0;34m:\u001b[0m\u001b[0;34m\u001b[0m\u001b[0m\n\u001b[0;32m-> 1508\u001b[0;31m             \u001b[0mx\u001b[0m\u001b[0;34m,\u001b[0m \u001b[0my\u001b[0m\u001b[0;34m,\u001b[0m \u001b[0mz\u001b[0m \u001b[0;34m=\u001b[0m \u001b[0mself\u001b[0m\u001b[0;34m.\u001b[0m\u001b[0m_check_xyz\u001b[0m\u001b[0;34m(\u001b[0m\u001b[0margs\u001b[0m\u001b[0;34m[\u001b[0m\u001b[0;34m:\u001b[0m\u001b[0;36m3\u001b[0m\u001b[0;34m]\u001b[0m\u001b[0;34m,\u001b[0m \u001b[0mkwargs\u001b[0m\u001b[0;34m)\u001b[0m\u001b[0;34m\u001b[0m\u001b[0m\n\u001b[0m\u001b[1;32m   1509\u001b[0m             \u001b[0margs\u001b[0m \u001b[0;34m=\u001b[0m \u001b[0margs\u001b[0m\u001b[0;34m[\u001b[0m\u001b[0;36m3\u001b[0m\u001b[0;34m:\u001b[0m\u001b[0;34m]\u001b[0m\u001b[0;34m\u001b[0m\u001b[0m\n\u001b[1;32m   1510\u001b[0m         \u001b[0;32melse\u001b[0m\u001b[0;34m:\u001b[0m\u001b[0;34m\u001b[0m\u001b[0m\n",
      "\u001b[0;32m/Users/brey/anaconda3/envs/ipykernel_py2/lib/python2.7/site-packages/matplotlib/contour.pyc\u001b[0m in \u001b[0;36m_check_xyz\u001b[0;34m(self, args, kwargs)\u001b[0m\n\u001b[1;32m   1540\u001b[0m \u001b[0;34m\u001b[0m\u001b[0m\n\u001b[1;32m   1541\u001b[0m         \u001b[0;32mif\u001b[0m \u001b[0mz\u001b[0m\u001b[0;34m.\u001b[0m\u001b[0mndim\u001b[0m \u001b[0;34m!=\u001b[0m \u001b[0;36m2\u001b[0m\u001b[0;34m:\u001b[0m\u001b[0;34m\u001b[0m\u001b[0m\n\u001b[0;32m-> 1542\u001b[0;31m             \u001b[0;32mraise\u001b[0m \u001b[0mTypeError\u001b[0m\u001b[0;34m(\u001b[0m\u001b[0;34m\"Input z must be a 2D array.\"\u001b[0m\u001b[0;34m)\u001b[0m\u001b[0;34m\u001b[0m\u001b[0m\n\u001b[0m\u001b[1;32m   1543\u001b[0m         \u001b[0;32melse\u001b[0m\u001b[0;34m:\u001b[0m\u001b[0;34m\u001b[0m\u001b[0m\n\u001b[1;32m   1544\u001b[0m             \u001b[0mNy\u001b[0m\u001b[0;34m,\u001b[0m \u001b[0mNx\u001b[0m \u001b[0;34m=\u001b[0m \u001b[0mz\u001b[0m\u001b[0;34m.\u001b[0m\u001b[0mshape\u001b[0m\u001b[0;34m\u001b[0m\u001b[0m\n",
      "\u001b[0;31mTypeError\u001b[0m: Input z must be a 2D array."
     ]
    },
    {
     "data": {
      "image/png": "[encoded data removed]",
      "text/plain": [
       "<matplotlib.figure.Figure at 0x1b02d22d0>"
      ]
     },
     "metadata": {},
     "output_type": "display_data"
    }
   ],
   "source": [
    "plt.figure(figsize=(10,8))\n",
    "plt.contourf(q1,q2,vel,20)\n",
    "plt.streamplot(q1,q2,zx,zy, color=vel, linewidth=0.1*vel)\n",
    "plt.colorbar()\n",
    "#plt.quiver(q1,q2,zx,zy,scale=700)\n"
   ]
  },
  {
   "cell_type": "markdown",
   "metadata": {
    "deletable": true,
    "editable": true
   },
   "source": [
    "## compute for all time steps"
   ]
  },
  {
   "cell_type": "code",
   "execution_count": 35,
   "metadata": {
    "collapsed": true,
    "deletable": true,
    "editable": true
   },
   "outputs": [],
   "source": [
    "#Define the big window\n",
    "minlon=tc.lon.min()-10.\n",
    "maxlon=tc.lon.max()+10.\n",
    "minlat=tc.lat.min()-10.\n",
    "maxlat=tc.lat.max()+10."
   ]
  },
  {
   "cell_type": "code",
   "execution_count": 36,
   "metadata": {
    "collapsed": false,
    "deletable": true,
    "editable": true
   },
   "outputs": [],
   "source": [
    "lons=np.linspace(minlon, maxlon,100) # constract arrays\n",
    "lats=np.linspace(minlat, maxlat,100)"
   ]
  },
  {
   "cell_type": "code",
   "execution_count": 37,
   "metadata": {
    "collapsed": false,
    "deletable": true,
    "editable": true
   },
   "outputs": [],
   "source": [
    "q1,q2=np.meshgrid(lons,lats) # create grid for the whole domain"
   ]
  },
  {
   "cell_type": "code",
   "execution_count": 38,
   "metadata": {
    "collapsed": false,
    "deletable": true,
    "editable": true
   },
   "outputs": [],
   "source": [
    "ux=[]\n",
    "uy=[]\n",
    "pp=[]\n",
    "for i in range(tc.shape[0]):\n",
    "    bh,kh,dph,rmaxh,vtx,vty = tc.ix[i,['b','k','dph','rmaxh','vtrx','vtry']]\n",
    "    zx,zy,pr=hvel2d(q1,q2,tc.lon[i],tc.lat[i])\n",
    "    ux.append(zx)\n",
    "    uy.append(zy)\n",
    "    pp.append(pr)"
   ]
  },
  {
   "cell_type": "code",
   "execution_count": 39,
   "metadata": {
    "collapsed": false,
    "deletable": true,
    "editable": true
   },
   "outputs": [],
   "source": [
    "ux = np.array(ux)\n",
    "uy = np.array(uy)\n",
    "pp = np.array(pp)"
   ]
  },
  {
   "cell_type": "code",
   "execution_count": 40,
   "metadata": {
    "collapsed": true,
    "deletable": true,
    "editable": true
   },
   "outputs": [],
   "source": [
    "vel=np.sqrt(ux**2+uy**2)"
   ]
  },
  {
   "cell_type": "code",
   "execution_count": 41,
   "metadata": {
    "collapsed": false,
    "deletable": true,
    "editable": true
   },
   "outputs": [
    {
     "data": {
      "text/plain": [
       "47.724627695888572"
      ]
     },
     "execution_count": 41,
     "metadata": {},
     "output_type": "execute_result"
    }
   ],
   "source": [
    "vel.max()"
   ]
  },
  {
   "cell_type": "code",
   "execution_count": 42,
   "metadata": {
    "collapsed": false,
    "deletable": true,
    "editable": true
   },
   "outputs": [
    {
     "data": {
      "text/plain": [
       "<matplotlib.colorbar.Colorbar at 0x11ea085d0>"
      ]
     },
     "execution_count": 42,
     "metadata": {},
     "output_type": "execute_result"
    },
    {
     "data": {
      "image/png": "[encoded data removed]",
      "text/plain": [
       "<matplotlib.figure.Figure at 0x11cee6390>"
      ]
     },
     "metadata": {},
     "output_type": "display_data"
    }
   ],
   "source": [
    "plt.figure(figsize=(10,8))\n",
    "plt.contourf(q1,q2,vel[15,:,:],20)\n",
    "plt.colorbar()\n",
    "#plt.quiver(q1,q2,zx,zy,scale=700)\n"
   ]
  },
  {
   "cell_type": "markdown",
   "metadata": {
    "deletable": true,
    "editable": true
   },
   "source": [
    "### Visualize"
   ]
  },
  {
   "cell_type": "code",
   "execution_count": 43,
   "metadata": {
    "collapsed": false,
    "deletable": true,
    "editable": true
   },
   "outputs": [],
   "source": [
    "def v2d(i):\n",
    "        fig, (a,b) = plt.subplots(1,2,figsize=(20,10),gridspec_kw = {'width_ratios':[1, 3]})\n",
    "        i=int(i)\n",
    "        c=b.contourf(q1,q2,vel[i,:,:],20)\n",
    "  #      plt.streamplot(q1,q2,uy[i,:,:],uy[i,:,:], color=vel, linewidth=0.1*vel)\n",
    "        cl = plt.colorbar(c)\n",
    "        cl.set_label('Wind m/s', rotation=270)\n",
    "        b.set_xlabel('lon')\n",
    "        b.set_ylabel('lat')\n",
    "        rh=np.linspace(0.01,3*maxR,100)\n",
    "        bh,kh,dph,rmaxh,vtx,vty = tc.ix[i,['b','k','dph','rmaxh','vtrx','vtry']]\n",
    "        a.plot(rh,hvel_(rh,dph,bh,rmaxh,kh))\n",
    "        a.set_ylabel('Max Wind m/s')\n",
    "        a.set_xlabel('Radius m')\n",
    "        plt.title(tc.ix[i].t)\n",
    "        plt.show()"
   ]
  },
  {
   "cell_type": "code",
   "execution_count": 44,
   "metadata": {
    "collapsed": false,
    "deletable": true,
    "editable": true,
    "scrolled": false
   },
   "outputs": [
    {
     "data": {
      "application/vnd.jupyter.widget-view+json": {
       "model_id": "c38d49ff0b8846a594d51bf720555cbb"
      }
     },
     "metadata": {},
     "output_type": "display_data"
    },
    {
     "data": {
      "text/plain": [
       "<function __main__.v2d>"
      ]
     },
     "execution_count": 44,
     "metadata": {},
     "output_type": "execute_result"
    }
   ],
   "source": [
    "interact(v2d,i=widgets.IntSlider(min=0,max=ux.shape[0]-1,step=1,value=0))"
   ]
  },
  {
   "cell_type": "code",
   "execution_count": 45,
   "metadata": {
    "collapsed": false,
    "deletable": true,
    "editable": true
   },
   "outputs": [
    {
     "data": {
      "text/plain": [
       "<matplotlib.colorbar.Colorbar at 0x11f19d690>"
      ]
     },
     "execution_count": 45,
     "metadata": {},
     "output_type": "execute_result"
    },
    {
     "data": {
      "image/png": "[encoded data removed]",
      "text/plain": [
       "<matplotlib.figure.Figure at 0x11ea4b310>"
      ]
     },
     "metadata": {},
     "output_type": "display_data"
    }
   ],
   "source": [
    "#print the wind swath\n",
    "plt.contourf(q1,q2,np.amax(vel,axis=0))\n",
    "plt.colorbar()"
   ]
  },
  {
   "cell_type": "code",
   "execution_count": 46,
   "metadata": {
    "collapsed": false,
    "deletable": true,
    "editable": true
   },
   "outputs": [],
   "source": [
    "# we can now use pandas to interpolate every e.g. 5min\n",
    "tc5 = tc.resample('1min').mean()"
   ]
  },
  {
   "cell_type": "code",
   "execution_count": 47,
   "metadata": {
    "collapsed": false,
    "deletable": true,
    "editable": true
   },
   "outputs": [],
   "source": [
    "tc5=tc5.interpolate(method='linear')"
   ]
  },
  {
   "cell_type": "code",
   "execution_count": 48,
   "metadata": {
    "collapsed": false,
    "deletable": true,
    "editable": true
   },
   "outputs": [],
   "source": [
    "ux=[]\n",
    "uy=[]\n",
    "pp=[]\n",
    "for i in range(tc5.shape[0]):\n",
    "    bh,kh,dph,rmaxh,vtx,vty = tc5.ix[i,['b','k','dph','rmaxh','vtrx','vtry']]\n",
    "    zx,zy,pr=hvel2d(q1,q2,tc5.lon[i],tc5.lat[i])\n",
    "    ux.append(zx)\n",
    "    uy.append(zy)\n",
    "    pp.append(pr)"
   ]
  },
  {
   "cell_type": "code",
   "execution_count": 49,
   "metadata": {
    "collapsed": false,
    "deletable": true,
    "editable": true
   },
   "outputs": [],
   "source": [
    "ux = np.array(ux)\n",
    "uy = np.array(uy)\n",
    "pp = np.array(pp)"
   ]
  },
  {
   "cell_type": "code",
   "execution_count": 50,
   "metadata": {
    "collapsed": true,
    "deletable": true,
    "editable": true
   },
   "outputs": [],
   "source": [
    "vel=np.sqrt(ux**2+uy**2)"
   ]
  },
  {
   "cell_type": "code",
   "execution_count": 51,
   "metadata": {
    "collapsed": false,
    "deletable": true,
    "editable": true,
    "scrolled": true
   },
   "outputs": [
    {
     "data": {
      "text/plain": [
       "<matplotlib.colorbar.Colorbar at 0x11f91ff50>"
      ]
     },
     "execution_count": 51,
     "metadata": {},
     "output_type": "execute_result"
    },
    {
     "data": {
      "image/png": "[encoded data removed]",
      "text/plain": [
       "<matplotlib.figure.Figure at 0x11d28c2d0>"
      ]
     },
     "metadata": {},
     "output_type": "display_data"
    }
   ],
   "source": [
    "#print the wind swath\n",
    "plt.contourf(q1,q2,np.amax(vel,axis=0))\n",
    "plt.colorbar()"
   ]
  },
  {
   "cell_type": "markdown",
   "metadata": {
    "deletable": true,
    "editable": true
   },
   "source": [
    "## save u,v,p"
   ]
  },
  {
   "cell_type": "code",
   "execution_count": 52,
   "metadata": {
    "collapsed": true
   },
   "outputs": [],
   "source": [
    "path='../tmp/'"
   ]
  },
  {
   "cell_type": "code",
   "execution_count": 53,
   "metadata": {
    "collapsed": true,
    "deletable": true,
    "editable": true
   },
   "outputs": [],
   "source": [
    "#writing out a netcdf file with the data\n",
    "filename = 'uvp.nc'\n",
    "rootgrp = Dataset(path+filename, 'w', format='NETCDF3_64BIT') # initiate netcdf file"
   ]
  },
  {
   "cell_type": "code",
   "execution_count": 54,
   "metadata": {
    "collapsed": false,
    "deletable": true,
    "editable": true
   },
   "outputs": [],
   "source": [
    "t0=datetime.datetime.strftime(tc5.index[0], '%Y%m%d.%H')"
   ]
  },
  {
   "cell_type": "code",
   "execution_count": 55,
   "metadata": {
    "collapsed": true
   },
   "outputs": [],
   "source": [
    "ni=lons.shape[0]\n",
    "nj=lats.shape[0]"
   ]
  },
  {
   "cell_type": "code",
   "execution_count": 56,
   "metadata": {
    "collapsed": false
   },
   "outputs": [],
   "source": [
    "lat = rootgrp.createDimension('LAT', nj)\n",
    "lon = rootgrp.createDimension('LON', ni)\n",
    "time = rootgrp.createDimension('TIME', None)\n",
    "\n",
    "\n",
    "longitudes = rootgrp.createVariable('LON','f8',('LON',))\n",
    "latitudes = rootgrp.createVariable('LAT','f8',('LAT',))\n",
    "u = rootgrp.createVariable('U','f8',('TIME','LAT','LON'))\n",
    "v = rootgrp.createVariable('V','f8',('TIME','LAT','LON'))\n",
    "times = rootgrp.createVariable('TIME','f8',('TIME',))\n",
    "p = rootgrp.createVariable('P','f8',('TIME','LAT','LON'))\n",
    "\n",
    "rootgrp.description = ''\n",
    "rootgrp.history = 'JRC Ispra European Commission'\n",
    "rootgrp.source = 'netCDF4 python module tutorial'\n",
    "latitudes.units = 'degrees_north'\n",
    "latitudes.point_spacing = 'even'\n",
    "longitudes.units = 'degrees_east'\n",
    "longitudes.point_spacing = 'even'\n",
    "u.units = 'm/s'\n",
    "v.units = 'm/s'\n",
    "p.units = 'hPa'\n",
    "times.units = 'hours since {}'.format(t0)\n",
    "\n",
    "\n",
    "p[:]=pp\n",
    "times[:]=tc.time.values\n",
    "latitudes[:]=lats\n",
    "longitudes[:]=lons\n",
    "u[:]=ux\n",
    "v[:]=uy\n",
    " \n",
    "rootgrp.close()\n"
   ]
  }
 ],
 "metadata": {
  "kernelspec": {
   "display_name": "Python 2",
   "language": "python",
   "name": "python2"
  },
  "language_info": {
   "codemirror_mode": {
    "name": "ipython",
    "version": 2
   },
   "file_extension": ".py",
   "mimetype": "text/x-python",
   "name": "python",
   "nbconvert_exporter": "python",
   "pygments_lexer": "ipython2",
   "version": "2.7.13"
  },
  "widgets": {
   "state": {
    "ab87ae31b6174f23a0b40e6302ebeff0": {
     "views": [
      {
       "cell_index": 49
      }
     ]
    }
   },
   "version": "1.2.0"
  }
 },
 "nbformat": 4,
 "nbformat_minor": 2
}
