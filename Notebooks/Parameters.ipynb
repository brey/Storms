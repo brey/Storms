{
 "cells": [
  {
   "cell_type": "markdown",
   "metadata": {
    "deletable": true,
    "editable": true
   },
   "source": [
    "## Definitions Module"
   ]
  },
  {
   "cell_type": "markdown",
   "metadata": {
    "deletable": true,
    "editable": true
   },
   "source": [
    "For more info see 'Global storm surge forecast and inundation modeling' report by Probst & Franchello (https://bookshop.europa.eu/en/global-storm-surge-forecast-and-inundation-modeling-pbLBNA25233/). "
   ]
  },
  {
   "cell_type": "code",
   "execution_count": 1,
   "metadata": {
    "collapsed": true,
    "deletable": true,
    "editable": true
   },
   "outputs": [],
   "source": [
    "import numpy as np"
   ]
  },
  {
   "cell_type": "code",
   "execution_count": null,
   "metadata": {
    "collapsed": true,
    "deletable": true,
    "editable": true
   },
   "outputs": [],
   "source": [
    "# -------------------------------------------------------------------------\n",
    "# Const\n",
    "# -------------------------------------------------------------------------\n",
    "nm2m=1852. # 1 nautical mile to meters\n",
    "kt2ms=nm2m/3600.  # knots to m/s\n",
    "omega=2*np.pi/(3600.*24.) # angular speed omega=2pi*f(=frequency of earth : 1 cycle per day) 2pi* 1 / day in seconds\n",
    "rhoa=1.15 #air density  Kg/m^3\n",
    "radius=6378388 #137. # earth's radius according to WGS 84\n",
    "deg2m=np.pi*radius/180.  # ds on cicle equals ds=r*dth - dth=pi/180\n",
    "pn=101000.  # Atmospheric pressure [N/m^2] (101KPa - enviromental pressure)\n",
    "\n",
    "tetaNE=45. #mean angle [degrees] of North Eastern quadrant\n",
    "tetaNW=135. #        \"              North Western\n",
    "tetaSW=225. #        \"              South West\n",
    "tetaSE=315. #        \"              South East\n",
    "\n",
    "maxR=500.e3  # maximum radius of TC [m] (500Km)"
   ]
  },
  {
   "cell_type": "code",
   "execution_count": null,
   "metadata": {
    "collapsed": true,
    "deletable": true,
    "editable": true
   },
   "outputs": [],
   "source": [
    "kmin=0  # low limit of parameter k (=xn-.5-> k=0-> x=0.5)\n",
    "kmax=0.25 # upper limit for k (->xn=.65)  WHY?\n",
    "k0=.1 # initial estimation of holland parameter k\n",
    "\n",
    "dpmin=10.e2  # minimum value of  pressure drop P_central - P_env(=101kPa).\n",
    "dpmax=200.e2   # maximum value of  pressure drop P_central - P_env(=101kPa).\n",
    "dp0=400. #initial estimation of holland parameter dp\n",
    "\n",
    "rvmaxmin=10.e3  # default minimum value of Rmax[m] \n",
    "rmax0=20.e3  # intial estimation for radius of maximum wind [m] (20km)\n",
    "rmaxmin=5.e3 # intial estimation for radius of maximum wind [m] (5km)\n",
    "\n",
    "bmin=0.8 # minimum value of holland parameter b\n",
    "#bmax=2.5\n",
    "bmax=1.8  # maximum value of holland parameter b\n",
    "b0=1.2  # initial estimation of holland parameter b"
   ]
  }
 ],
 "metadata": {
  "kernelspec": {
   "display_name": "Python 2",
   "language": "python",
   "name": "python2"
  },
  "language_info": {
   "codemirror_mode": {
    "name": "ipython",
    "version": 2
   },
   "file_extension": ".py",
   "mimetype": "text/x-python",
   "name": "python",
   "nbconvert_exporter": "python",
   "pygments_lexer": "ipython2",
   "version": "2.7.13"
  }
 },
 "nbformat": 4,
 "nbformat_minor": 2
}
