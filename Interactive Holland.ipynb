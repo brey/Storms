{
 "cells": [
  {
   "cell_type": "code",
   "execution_count": null,
   "metadata": {
    "collapsed": true
   },
   "outputs": [],
   "source": []
  },
  {
   "cell_type": "code",
   "execution_count": null,
   "metadata": {
    "collapsed": true
   },
   "outputs": [],
   "source": []
  },
  {
   "cell_type": "code",
   "execution_count": 1,
   "metadata": {
    "collapsed": true
   },
   "outputs": [],
   "source": [
    "from __future__ import print_function\n",
    "from IPython.display import display\n",
    "from ipywidgets import *\n",
    "from traitlets import *\n",
    "\n",
    "import numpy as np\n",
    "import pandas as pd\n",
    "import bqplot as bq"
   ]
  },
  {
   "cell_type": "code",
   "execution_count": 2,
   "metadata": {
    "collapsed": true
   },
   "outputs": [],
   "source": [
    "from bqplot import *"
   ]
  },
  {
   "cell_type": "code",
   "execution_count": 3,
   "metadata": {
    "collapsed": true
   },
   "outputs": [],
   "source": [
    "from bqplot import pyplot as plt"
   ]
  },
  {
   "cell_type": "code",
   "execution_count": 4,
   "metadata": {
    "collapsed": true
   },
   "outputs": [],
   "source": [
    "from traitlets import dlink"
   ]
  },
  {
   "cell_type": "code",
   "execution_count": 5,
   "metadata": {
    "collapsed": true
   },
   "outputs": [],
   "source": [
    "from bqplot.interacts import (\n",
    "    FastIntervalSelector, IndexSelector, BrushIntervalSelector,\n",
    "    BrushSelector, MultiSelector, LassoSelector, PanZoom, HandDraw\n",
    ")"
   ]
  },
  {
   "cell_type": "code",
   "execution_count": 6,
   "metadata": {
    "collapsed": true
   },
   "outputs": [],
   "source": [
    "from ipywidgets import Label, ToggleButtons, VBox"
   ]
  },
  {
   "cell_type": "code",
   "execution_count": 7,
   "metadata": {
    "collapsed": true
   },
   "outputs": [],
   "source": [
    "\n",
    "# -------------------------------------------------------------------------\n",
    "# Const\n",
    "# -------------------------------------------------------------------------\n",
    "nm2m=1852. # 1 nautical mile to meters\n",
    "kt2ms=nm2m/3600.  # knots to m/s\n",
    "omega=2*np.pi/(3600.*24.) # angular speed omega=2pi*f(=frequency of earth : 1 cycle per day) 2pi* 1 / day in seconds\n",
    "rhoa=1.15 #air density  Kg/m^3\n",
    "radius=6378388 #137. # earth's radius according to WGS 84\n",
    "deg2m=np.pi*radius/180.  # ds on cicle equals ds=r*dth - dth=pi/180\n",
    "pn=101000.  # Atmospheric pressure [N/m^2] (101KPa - enviromental pressure)\n",
    "\n",
    "tetaNE=45. #mean angle [degrees] of North Eastern quadrant\n",
    "tetaNW=135. #        \"              North Western\n",
    "tetaSW=225. #        \"              South West\n",
    "tetaSE=315. #        \"              South East\n",
    "\n",
    "maxR=500.e3  # maximum radius of TC [m] (500Km)"
   ]
  },
  {
   "cell_type": "code",
   "execution_count": 8,
   "metadata": {
    "collapsed": true
   },
   "outputs": [],
   "source": [
    "def hvel(r,dph,bh,rmaxh,kh):\n",
    "    x=0.5+(r-rmaxh)/(maxR-rmaxh)*kh\n",
    "    return (bh/rhoa*(rmaxh/r)**bh*dph*np.exp(-(rmaxh/r)**bh))**x"
   ]
  },
  {
   "cell_type": "code",
   "execution_count": 9,
   "metadata": {
    "collapsed": false
   },
   "outputs": [],
   "source": [
    "bh=.81\n",
    "vmaxh=41.15\n",
    "kh=.04\n",
    "rmaxh=21090.\n",
    "dph=4350.\n",
    "pch=pn-dph"
   ]
  },
  {
   "cell_type": "code",
   "execution_count": 10,
   "metadata": {
    "collapsed": false
   },
   "outputs": [],
   "source": [
    "rh=np.linspace(0.01,maxR,100)"
   ]
  },
  {
   "cell_type": "markdown",
   "metadata": {},
   "source": [
    "### read TC data"
   ]
  },
  {
   "cell_type": "code",
   "execution_count": 11,
   "metadata": {
    "collapsed": false
   },
   "outputs": [],
   "source": [
    "tc=pd.read_csv('tmp/inpData.txt',delimiter='\\t')"
   ]
  },
  {
   "cell_type": "code",
   "execution_count": 12,
   "metadata": {
    "collapsed": false
   },
   "outputs": [
    {
     "data": {
      "text/html": [
       "<div>\n",
       "<table border=\"1\" class=\"dataframe\">\n",
       "  <thead>\n",
       "    <tr style=\"text-align: right;\">\n",
       "      <th></th>\n",
       "      <th>time</th>\n",
       "      <th>lat</th>\n",
       "      <th>long</th>\n",
       "      <th>dp</th>\n",
       "      <th>vmax</th>\n",
       "      <th>64ne</th>\n",
       "      <th>64se</th>\n",
       "      <th>64sw</th>\n",
       "      <th>64nw</th>\n",
       "      <th>50ne</th>\n",
       "      <th>50se</th>\n",
       "      <th>50sw</th>\n",
       "      <th>50nw</th>\n",
       "      <th>34ne</th>\n",
       "      <th>34se</th>\n",
       "      <th>34sw</th>\n",
       "      <th>34nw</th>\n",
       "    </tr>\n",
       "  </thead>\n",
       "  <tbody>\n",
       "    <tr>\n",
       "      <th>0</th>\n",
       "      <td>0.0</td>\n",
       "      <td>-7.5</td>\n",
       "      <td>168.899994</td>\n",
       "      <td>600.0</td>\n",
       "      <td>12.861111</td>\n",
       "      <td>0.0</td>\n",
       "      <td>0.0</td>\n",
       "      <td>0.0</td>\n",
       "      <td>0.0</td>\n",
       "      <td>0.0</td>\n",
       "      <td>0.0</td>\n",
       "      <td>0.0</td>\n",
       "      <td>0.0</td>\n",
       "      <td>0.0</td>\n",
       "      <td>0.0</td>\n",
       "      <td>0.0</td>\n",
       "      <td>0.0</td>\n",
       "    </tr>\n",
       "    <tr>\n",
       "      <th>1</th>\n",
       "      <td>6.0</td>\n",
       "      <td>-7.8</td>\n",
       "      <td>169.199997</td>\n",
       "      <td>1000.0</td>\n",
       "      <td>15.433333</td>\n",
       "      <td>0.0</td>\n",
       "      <td>0.0</td>\n",
       "      <td>0.0</td>\n",
       "      <td>0.0</td>\n",
       "      <td>0.0</td>\n",
       "      <td>0.0</td>\n",
       "      <td>0.0</td>\n",
       "      <td>0.0</td>\n",
       "      <td>0.0</td>\n",
       "      <td>0.0</td>\n",
       "      <td>0.0</td>\n",
       "      <td>0.0</td>\n",
       "    </tr>\n",
       "    <tr>\n",
       "      <th>2</th>\n",
       "      <td>12.0</td>\n",
       "      <td>-8.1</td>\n",
       "      <td>169.600006</td>\n",
       "      <td>1000.0</td>\n",
       "      <td>15.433333</td>\n",
       "      <td>0.0</td>\n",
       "      <td>0.0</td>\n",
       "      <td>0.0</td>\n",
       "      <td>0.0</td>\n",
       "      <td>0.0</td>\n",
       "      <td>0.0</td>\n",
       "      <td>0.0</td>\n",
       "      <td>0.0</td>\n",
       "      <td>0.0</td>\n",
       "      <td>0.0</td>\n",
       "      <td>0.0</td>\n",
       "      <td>0.0</td>\n",
       "    </tr>\n",
       "    <tr>\n",
       "      <th>3</th>\n",
       "      <td>18.0</td>\n",
       "      <td>-8.5</td>\n",
       "      <td>170.100006</td>\n",
       "      <td>1400.0</td>\n",
       "      <td>18.005556</td>\n",
       "      <td>0.0</td>\n",
       "      <td>0.0</td>\n",
       "      <td>0.0</td>\n",
       "      <td>0.0</td>\n",
       "      <td>0.0</td>\n",
       "      <td>0.0</td>\n",
       "      <td>0.0</td>\n",
       "      <td>0.0</td>\n",
       "      <td>0.0</td>\n",
       "      <td>0.0</td>\n",
       "      <td>0.0</td>\n",
       "      <td>0.0</td>\n",
       "    </tr>\n",
       "    <tr>\n",
       "      <th>4</th>\n",
       "      <td>24.0</td>\n",
       "      <td>-9.0</td>\n",
       "      <td>170.600006</td>\n",
       "      <td>2100.0</td>\n",
       "      <td>23.150000</td>\n",
       "      <td>0.0</td>\n",
       "      <td>0.0</td>\n",
       "      <td>0.0</td>\n",
       "      <td>0.0</td>\n",
       "      <td>0.0</td>\n",
       "      <td>0.0</td>\n",
       "      <td>0.0</td>\n",
       "      <td>0.0</td>\n",
       "      <td>55560.0</td>\n",
       "      <td>55560.0</td>\n",
       "      <td>46300.0</td>\n",
       "      <td>55560.0</td>\n",
       "    </tr>\n",
       "    <tr>\n",
       "      <th>5</th>\n",
       "      <td>30.0</td>\n",
       "      <td>-9.3</td>\n",
       "      <td>170.500000</td>\n",
       "      <td>2800.0</td>\n",
       "      <td>28.294444</td>\n",
       "      <td>0.0</td>\n",
       "      <td>0.0</td>\n",
       "      <td>0.0</td>\n",
       "      <td>0.0</td>\n",
       "      <td>46300.0</td>\n",
       "      <td>37040.0</td>\n",
       "      <td>46300.0</td>\n",
       "      <td>37040.0</td>\n",
       "      <td>129640.0</td>\n",
       "      <td>120380.0</td>\n",
       "      <td>138900.0</td>\n",
       "      <td>111120.0</td>\n",
       "    </tr>\n",
       "    <tr>\n",
       "      <th>6</th>\n",
       "      <td>36.0</td>\n",
       "      <td>-9.7</td>\n",
       "      <td>170.500000</td>\n",
       "      <td>3200.0</td>\n",
       "      <td>30.866667</td>\n",
       "      <td>0.0</td>\n",
       "      <td>0.0</td>\n",
       "      <td>0.0</td>\n",
       "      <td>0.0</td>\n",
       "      <td>46300.0</td>\n",
       "      <td>37040.0</td>\n",
       "      <td>46300.0</td>\n",
       "      <td>37040.0</td>\n",
       "      <td>129640.0</td>\n",
       "      <td>120380.0</td>\n",
       "      <td>138900.0</td>\n",
       "      <td>111120.0</td>\n",
       "    </tr>\n",
       "    <tr>\n",
       "      <th>7</th>\n",
       "      <td>42.0</td>\n",
       "      <td>-10.2</td>\n",
       "      <td>170.500000</td>\n",
       "      <td>3600.0</td>\n",
       "      <td>33.438889</td>\n",
       "      <td>0.0</td>\n",
       "      <td>0.0</td>\n",
       "      <td>0.0</td>\n",
       "      <td>0.0</td>\n",
       "      <td>46300.0</td>\n",
       "      <td>37040.0</td>\n",
       "      <td>46300.0</td>\n",
       "      <td>37040.0</td>\n",
       "      <td>129640.0</td>\n",
       "      <td>120380.0</td>\n",
       "      <td>138900.0</td>\n",
       "      <td>120380.0</td>\n",
       "    </tr>\n",
       "  </tbody>\n",
       "</table>\n",
       "</div>"
      ],
      "text/plain": [
       "   time   lat        long      dp       vmax  64ne  64se  64sw  64nw     50ne  \\\n",
       "0   0.0  -7.5  168.899994   600.0  12.861111   0.0   0.0   0.0   0.0      0.0   \n",
       "1   6.0  -7.8  169.199997  1000.0  15.433333   0.0   0.0   0.0   0.0      0.0   \n",
       "2  12.0  -8.1  169.600006  1000.0  15.433333   0.0   0.0   0.0   0.0      0.0   \n",
       "3  18.0  -8.5  170.100006  1400.0  18.005556   0.0   0.0   0.0   0.0      0.0   \n",
       "4  24.0  -9.0  170.600006  2100.0  23.150000   0.0   0.0   0.0   0.0      0.0   \n",
       "5  30.0  -9.3  170.500000  2800.0  28.294444   0.0   0.0   0.0   0.0  46300.0   \n",
       "6  36.0  -9.7  170.500000  3200.0  30.866667   0.0   0.0   0.0   0.0  46300.0   \n",
       "7  42.0 -10.2  170.500000  3600.0  33.438889   0.0   0.0   0.0   0.0  46300.0   \n",
       "\n",
       "      50se     50sw     50nw      34ne      34se      34sw      34nw  \n",
       "0      0.0      0.0      0.0       0.0       0.0       0.0       0.0  \n",
       "1      0.0      0.0      0.0       0.0       0.0       0.0       0.0  \n",
       "2      0.0      0.0      0.0       0.0       0.0       0.0       0.0  \n",
       "3      0.0      0.0      0.0       0.0       0.0       0.0       0.0  \n",
       "4      0.0      0.0      0.0   55560.0   55560.0   46300.0   55560.0  \n",
       "5  37040.0  46300.0  37040.0  129640.0  120380.0  138900.0  111120.0  \n",
       "6  37040.0  46300.0  37040.0  129640.0  120380.0  138900.0  111120.0  \n",
       "7  37040.0  46300.0  37040.0  129640.0  120380.0  138900.0  120380.0  "
      ]
     },
     "execution_count": 12,
     "metadata": {},
     "output_type": "execute_result"
    }
   ],
   "source": [
    "tc"
   ]
  },
  {
   "cell_type": "code",
   "execution_count": 13,
   "metadata": {
    "collapsed": true
   },
   "outputs": [],
   "source": [
    "wind_radii=np.array([34.,50.,64.])*kt2ms\n",
    "\n",
    "p64=tc.loc[7][['64ne','64se', '64sw', '64nw']].astype(float)\n",
    "\n",
    "p50=tc.loc[7][['50ne','50se', '50sw', '50nw']].astype(float)\n",
    "\n",
    "p34=tc.loc[7][['34ne','34se', '34sw', '34nw']].astype(float)\n",
    "\n",
    "vmax=tc.loc[7].vmax\n",
    "\n",
    "dp=tc.loc[7].dp\n",
    "\n",
    "x_data=np.concatenate([p34.values,p50.values,p64.values])\n",
    "\n",
    "x_data[x_data==0.]=np.nan\n",
    "\n",
    "y_data=np.concatenate([np.ones(4)*wind_radii[0],np.ones(4)*wind_radii[1],np.ones(4)*wind_radii[2]])\n",
    "\n",
    "y_data[np.isnan(x_data)]=np.nan\n",
    "\n",
    "y_data=y_data[~np.isnan(y_data)]\n",
    "\n",
    "x_data=x_data[~np.isnan(x_data)]"
   ]
  },
  {
   "cell_type": "code",
   "execution_count": null,
   "metadata": {
    "collapsed": false
   },
   "outputs": [],
   "source": []
  },
  {
   "cell_type": "code",
   "execution_count": 25,
   "metadata": {
    "collapsed": false,
    "scrolled": true
   },
   "outputs": [
    {
     "data": {
      "application/vnd.jupyter.widget-view+json": {
       "model_id": "190b2e52097843e78af284c3ff42fc8c"
      }
     },
     "metadata": {},
     "output_type": "display_data"
    }
   ],
   "source": [
    "x_sc = bq.LinearScale()\n",
    "y_sc = bq.LinearScale()\n",
    "\n",
    "ax_x = bq.Axis(label='X Axis', scale=x_sc, grid_lines='solid')\n",
    "ax_y = bq.Axis(label='Y Axis', scale=y_sc, orientation='vertical', grid_lines='solid')\n",
    "\n",
    "Line = bq.Lines(x=rh,\n",
    "                     y=hvel(rh, dph, bh, rmaxh, kh),\n",
    "                     animate_dur=1000,\n",
    "                     scales={'x': x_sc, 'y': y_sc})\n",
    "\n",
    "LineVmax = bq.Lines(x=rh,\n",
    "                     y=np.ones(rh.size)*vmax,\n",
    "                     animate_dur=1000,\n",
    "                     scales={'x': x_sc, 'y': y_sc},colors=['black'], line_style = 'dashed' )\n",
    "\n",
    "#rmse_label = bq.Label(x=[0.75], y=[0.10], font_size=52, font_weight='bolder', colors=['orange'],\n",
    "#                   text=[str(rmse.sum())], enable_move=True)\n",
    "\n",
    "\n",
    "scatter_chart = Scatter(x=x_data, y=y_data, scales={'x': x_sc, 'y': y_sc},default_colors=['red'])\n",
    "scatter_chart.enable_move=True\n",
    "\n",
    "\n",
    "slider1 = FloatSlider(value=0., min=10.e2 , max=200.e2 , step=100., description='Adjust dph')\n",
    "slider2 = FloatSlider(value=0.5, min=0, max=2.5, step=0.01, description='Adjust B')\n",
    "slider3 = FloatSlider(value=20000, min=1000, max=200000, step=100, description='Adjust Rmax')\n",
    "slider4 = FloatSlider(value=0., min=0., max=.15, step=.01, description='Adjust kh')\n",
    "\n",
    "\n",
    "\n",
    "\n",
    "\n",
    "# Wiring the function parameter with a slider\n",
    "def handle_dph(change):\n",
    "    new = change['new']\n",
    "    Line.y = hvel(rh, new, slider2.value, slider3.value, slider4.value)\n",
    "\n",
    "handle_dph({'new': dph})\n",
    "slider1.observe(handle_dph, names=['value'])\n",
    "\n",
    "\n",
    "def handle_bh(change):\n",
    "    new = change['new']\n",
    "    Line.y = hvel(rh, slider1.value, new, slider3.value, slider4.value)\n",
    "\n",
    "handle_bh({'new': 0.5})\n",
    "slider2.observe(handle_bh, names=['value'])\n",
    "\n",
    "def handle_rmaxh(change):\n",
    "    new = change['new']\n",
    "    Line.y = hvel(rh, slider1.value, slider2.value, new, slider4.value)\n",
    "\n",
    "handle_rmaxh({'new': rmaxh})\n",
    "slider3.observe(handle_rmaxh, names=['value'])\n",
    "\n",
    "\n",
    "def handle_kh(change):\n",
    "    new = change['new']\n",
    "    Line.y = hvel(rh, slider1.value, slider2.value, slider3.value, new )\n",
    "\n",
    "handle_kh({'new': kh})\n",
    "slider4.observe(handle_kh, names=['value'])\n",
    "\n",
    "db_index = Label(color='Black', font_size='24px', value='[]')\n",
    "index_sel = IndexSelector(scale=x_sc, marks=[Line])\n",
    "\n",
    "## Now, we define a function that will be called when the selectors are interacted with\n",
    "def index_change_callback(change):\n",
    "    db_index.value = 'The selected velocity is ' + str(change.new)\n",
    "\n",
    "index_sel.observe(index_change_callback, names=['selected'])\n",
    "\n",
    "\n",
    "fig = bq.Figure(axes=[ax_x, ax_y], marks=[Line, scatter_chart, LineVmax], title_style={'font-size': '20px','fill': 'DarkOrange'}, title='',interaction=index_sel)\n",
    "\n",
    "\n",
    "#compute rmse\n",
    "#rmse=hvel(x_data, slider1.value, slider2.value, slider3.value, slider4.value)-y_data\n",
    "#rmse_label.text = [str(rmse.sum())]\n",
    "    \n",
    "\n",
    "VBox([fig, db_index, slider1, slider2, slider3, slider4])\n",
    "\n"
   ]
  },
  {
   "cell_type": "code",
   "execution_count": null,
   "metadata": {
    "collapsed": true
   },
   "outputs": [],
   "source": []
  }
 ],
 "metadata": {
  "kernelspec": {
   "display_name": "Python 2",
   "language": "python",
   "name": "python2"
  },
  "language_info": {
   "codemirror_mode": {
    "name": "ipython",
    "version": 2
   },
   "file_extension": ".py",
   "mimetype": "text/x-python",
   "name": "python",
   "nbconvert_exporter": "python",
   "pygments_lexer": "ipython2",
   "version": "2.7.12"
  },
  "widgets": {
   "state": {},
   "version": "2.0.10"
  }
 },
 "nbformat": 4,
 "nbformat_minor": 0
}
