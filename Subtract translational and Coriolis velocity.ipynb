{
 "cells": [
  {
   "cell_type": "markdown",
   "metadata": {},
   "source": [
    "# Computing the Holland Parameters"
   ]
  },
  {
   "cell_type": "code",
   "execution_count": 1,
   "metadata": {
    "collapsed": false
   },
   "outputs": [],
   "source": [
    "%matplotlib notebook"
   ]
  },
  {
   "cell_type": "markdown",
   "metadata": {},
   "source": [
    "First we define some parameters"
   ]
  },
  {
   "cell_type": "code",
   "execution_count": 2,
   "metadata": {
    "collapsed": false
   },
   "outputs": [],
   "source": [
    "import numpy as np\n",
    "# -------------------------------------------------------------------------\n",
    "# Const\n",
    "# -------------------------------------------------------------------------\n",
    "nm2m=1852. # 1 nautical mile to meters\n",
    "kt2ms=nm2m/3600.  # knots to m/s\n",
    "omega=2*np.pi/(3600.*24.) # angular speed omega=2pi*f(=frequency of earth : 1 cycle per day) 2pi* 1 / day in seconds\n",
    "rhoa=1.15 #air density  Kg/m^3\n",
    "radius=6378388 #137. # earth's radius according to WGS 84\n",
    "deg2m=np.pi*radius/180.  # ds on cicle equals ds=r*dth - dth=pi/180\n",
    "pn=101000.  # Atmospheric pressure [N/m^2] (101KPa - enviromental pressure)\n",
    "\n",
    "tetaNE=45. #mean angle [degrees] of North Eastern quadrant\n",
    "tetaNW=135. #        \"              North Western\n",
    "tetaSW=225. #        \"              South West\n",
    "tetaSE=315. #        \"              South East\n",
    "\n",
    "maxR=500.e3  # maximum radius of TC [m] (500Km)"
   ]
  },
  {
   "cell_type": "code",
   "execution_count": 3,
   "metadata": {
    "collapsed": false
   },
   "outputs": [],
   "source": [
    "import matplotlib.pyplot as plt"
   ]
  },
  {
   "cell_type": "code",
   "execution_count": 4,
   "metadata": {
    "collapsed": true
   },
   "outputs": [],
   "source": [
    "import pandas as pd"
   ]
  },
  {
   "cell_type": "markdown",
   "metadata": {},
   "source": [
    "## Holland Parameter Evaluation"
   ]
  },
  {
   "cell_type": "markdown",
   "metadata": {},
   "source": [
    "The input data comes from the bulletins and are given in txt and xml format for the workflow to begin. These file are stored in a folder with the path name defined as '/mnt/web2/cycloneSurgeVM/' + TC_number/Bulletin_number/. "
   ]
  },
  {
   "cell_type": "markdown",
   "metadata": {},
   "source": [
    "As an example we can read the latest input files created ..."
   ]
  },
  {
   "cell_type": "code",
   "execution_count": 5,
   "metadata": {
    "collapsed": false
   },
   "outputs": [],
   "source": [
    "#import os\n",
    "#def all_subdirs_of(b='.'):\n",
    "#  result = []\n",
    "#  for d in os.listdir(b):\n",
    "#    bd = os.path.join(b, d)\n",
    "#    if os.path.isdir(bd): result.append(bd)\n",
    "#  return result"
   ]
  },
  {
   "cell_type": "code",
   "execution_count": 6,
   "metadata": {
    "collapsed": false
   },
   "outputs": [],
   "source": [
    "path='tmp/'"
   ]
  },
  {
   "cell_type": "code",
   "execution_count": 7,
   "metadata": {
    "collapsed": false
   },
   "outputs": [],
   "source": [
    "#dirs=all_subdirs_of(path)"
   ]
  },
  {
   "cell_type": "code",
   "execution_count": 8,
   "metadata": {
    "collapsed": false
   },
   "outputs": [],
   "source": [
    "#latest_subdir = max(dirs, key=os.path.getmtime)"
   ]
  },
  {
   "cell_type": "code",
   "execution_count": 9,
   "metadata": {
    "collapsed": false
   },
   "outputs": [],
   "source": [
    "#latest_subdir"
   ]
  },
  {
   "cell_type": "code",
   "execution_count": 10,
   "metadata": {
    "collapsed": true
   },
   "outputs": [],
   "source": [
    "# or define dir \n",
    "latest_subdir = path#+'1000316_NOAA/'"
   ]
  },
  {
   "cell_type": "markdown",
   "metadata": {},
   "source": [
    "Define bulletin"
   ]
  },
  {
   "cell_type": "code",
   "execution_count": 11,
   "metadata": {
    "collapsed": true
   },
   "outputs": [],
   "source": [
    "#bul=13"
   ]
  },
  {
   "cell_type": "code",
   "execution_count": 12,
   "metadata": {
    "collapsed": false
   },
   "outputs": [],
   "source": [
    "infolder=path #latest_subdir+'/input/{}'.format(bul)"
   ]
  },
  {
   "cell_type": "code",
   "execution_count": 13,
   "metadata": {
    "collapsed": false
   },
   "outputs": [],
   "source": [
    "#os.listdir(infolder)"
   ]
  },
  {
   "cell_type": "markdown",
   "metadata": {},
   "source": [
    "The main files with info are bulInfo, info, inpData. We can parse those files to get "
   ]
  },
  {
   "cell_type": "code",
   "execution_count": 14,
   "metadata": {
    "collapsed": false
   },
   "outputs": [],
   "source": [
    "#import xml.etree.ElementTree as et\n",
    "import lxml.etree as et"
   ]
  },
  {
   "cell_type": "code",
   "execution_count": 15,
   "metadata": {
    "collapsed": false
   },
   "outputs": [
    {
     "name": "stdout",
     "output_type": "stream",
     "text": [
      "<setexp>\n",
      "  <source>Tropical Cyclone Bulletin through GDACS/PDC</source>\n",
      "  <hurName>PAM</hurName>\n",
      "  <hurId>PAM</hurId>\n",
      "  <basin>SP</basin>\n",
      "  <bulNo>1</bulNo>\n",
      "  <bulDate>07 Mar 2015 06:00:00</bulDate>\n",
      "  <n>100000</n>\n",
      "  <fk>0.81</fk>\n",
      "  <stormsurge>0</stormsurge>\n",
      "  <timefactor>1</timefactor>\n",
      "  <landfall>1</landfall>\n",
      "</setexp>\n",
      "\n"
     ]
    }
   ],
   "source": [
    "tree=et.parse(infolder+'/info.xml')\n",
    "root=tree.getroot()\n",
    "print et.tostring(root,pretty_print=True)"
   ]
  },
  {
   "cell_type": "code",
   "execution_count": 16,
   "metadata": {
    "collapsed": false
   },
   "outputs": [],
   "source": [
    "#tree=et.parse(infolder+'/bulInfo.xml')\n",
    "#root=tree.getroot()\n",
    "#print et.tostring(root,pretty_print=True)"
   ]
  },
  {
   "cell_type": "code",
   "execution_count": 17,
   "metadata": {
    "collapsed": false,
    "scrolled": true
   },
   "outputs": [],
   "source": [
    "#tree=et.parse(infolder+'/inpData.xml')\n",
    "#root=tree.getroot()\n",
    "#print et.tostring(root,pretty_print=True)"
   ]
  },
  {
   "cell_type": "markdown",
   "metadata": {},
   "source": [
    "The above information is used as input for the evaluation of the Holland parameters."
   ]
  },
  {
   "cell_type": "markdown",
   "metadata": {},
   "source": [
    "Next the range of Holland parameters is defined (see 'Global storm surge forecast and inundation modeling' report by Probst & Franchello)"
   ]
  },
  {
   "cell_type": "code",
   "execution_count": 84,
   "metadata": {
    "collapsed": false
   },
   "outputs": [],
   "source": [
    "npmin=2 # ??????\n",
    "\n",
    "kmin=0  # low limit of parameter k (=xn-.5-> k=0-> x=0.5)\n",
    "kmax=0.15 # upper limit for k (->xn=.65)  WHY?\n",
    "\n",
    "dpmin=10.e2  # minimum value of  pressure drop P_central - P_env(=101kPa).\n",
    "dpmax=200.e2   # maximum value of  pressure drop P_central - P_env(=101kPa).\n",
    "rvmaxmin=10.e3  # default minimum value of Rmax[m] \n",
    "\n",
    "bmin=0.8 # minimum value of holland parameter b\n",
    "#bmax=2.5\n",
    "bmax=1.8  # maximum value of holland parameter b\n",
    "b0=1.5  # initial estimation of holland parameter b\n",
    "\n",
    "rmax0=20.e3  # intial estimation for radius of maximum wind [m] (20km)\n",
    "maxR=500.e3  # maximum radius of TC [m] (500Km)\n",
    "\n"
   ]
  },
  {
   "cell_type": "code",
   "execution_count": 19,
   "metadata": {
    "collapsed": false
   },
   "outputs": [],
   "source": [
    "infofile=infolder+'/info.xml'\n",
    "from xmldic import bxml\n",
    "info=bxml(infofile)\n"
   ]
  },
  {
   "cell_type": "code",
   "execution_count": 20,
   "metadata": {
    "collapsed": false
   },
   "outputs": [
    {
     "data": {
      "text/plain": [
       "Bunch(setexp=Bunch(basin=u'SP', bulDate=u'07 Mar 2015 06:00:00', bulNo=u'1', fk=u'0.81', hurId=u'PAM', hurName=u'PAM', landfall=u'1', n=u'100000', source=u'Tropical Cyclone Bulletin through GDACS/PDC', stormsurge=u'0', timefactor=u'1'))"
      ]
     },
     "execution_count": 20,
     "metadata": {},
     "output_type": "execute_result"
    }
   ],
   "source": [
    "info"
   ]
  },
  {
   "cell_type": "markdown",
   "metadata": {},
   "source": [
    "Reading the inpData into a dictionary "
   ]
  },
  {
   "cell_type": "code",
   "execution_count": 21,
   "metadata": {
    "collapsed": false
   },
   "outputs": [],
   "source": [
    "#from xmlreader import xmlr\n",
    "#inpfile=infolder+'/inpData.xml'"
   ]
  },
  {
   "cell_type": "code",
   "execution_count": 22,
   "metadata": {
    "collapsed": false
   },
   "outputs": [],
   "source": [
    "#inpdat=xmlr(inpfile)\n",
    "#time=inpdat.time ; print 'TIME=',time # time frame of forecasting (from bulletin)\n",
    "#lat=inpdat.lat ; print 'LAT=',lat # TC position \n",
    "#lon=inpdat.lon ; print 'LON=',lon  #  ''\n",
    "#vmax=inpdat.vmax ; print 'VMAX=',vmax  # forecasted manimum velocity (from bulletin)\n",
    "#ne64=inpdat.ne64 ; print 'NE64=',ne64  # distance in nautical miles that the velocity is 64 knt at the north-estern quadrant  \n",
    "#se64=inpdat.se64 ; print 'SE64=',se64  #                         \"                                     south-estern\n",
    "#sw64=inpdat.sw64 ; print 'SW64=',sw64\n",
    "#nw64=inpdat.nw64 ; print 'NW64=',nw64\n",
    "#ne50=inpdat.ne50 ; print 'NE50=',ne50   # distance in nautical miles that the velocity is 50 knt at the north-estern quadrant\n",
    "#se50=inpdat.se50 ; print 'SE50=',se50\n",
    "#sw50=inpdat.sw50 ; print 'SW50=',sw50\n",
    "#nw50=inpdat.nw50 ; print 'NW50=',nw50\n",
    "#ne34=inpdat.ne34 ; print 'NE34=',ne34    # distance in nautical miles that the velocity is 34 knt at the north-estern quadrant\n",
    "#se34=inpdat.se34 ; print 'SE34=',se34\n",
    "#sw34=inpdat.sw34 ; print 'SW34=',sw34\n",
    "#nw34=inpdat.nw34 ; print 'NW34=',nw34\n"
   ]
  },
  {
   "cell_type": "code",
   "execution_count": 23,
   "metadata": {
    "collapsed": false
   },
   "outputs": [],
   "source": [
    "inpdat = pd.read_csv(infolder+'inpData.txt', delimiter='\\t')"
   ]
  },
  {
   "cell_type": "code",
   "execution_count": 24,
   "metadata": {
    "collapsed": false
   },
   "outputs": [
    {
     "data": {
      "text/html": [
       "<div>\n",
       "<table border=\"1\" class=\"dataframe\">\n",
       "  <thead>\n",
       "    <tr style=\"text-align: right;\">\n",
       "      <th></th>\n",
       "      <th>time</th>\n",
       "      <th>lat</th>\n",
       "      <th>long</th>\n",
       "      <th>dp</th>\n",
       "      <th>vmax</th>\n",
       "      <th>64ne</th>\n",
       "      <th>64se</th>\n",
       "      <th>64sw</th>\n",
       "      <th>64nw</th>\n",
       "      <th>50ne</th>\n",
       "      <th>50se</th>\n",
       "      <th>50sw</th>\n",
       "      <th>50nw</th>\n",
       "      <th>34ne</th>\n",
       "      <th>34se</th>\n",
       "      <th>34sw</th>\n",
       "      <th>34nw</th>\n",
       "    </tr>\n",
       "  </thead>\n",
       "  <tbody>\n",
       "    <tr>\n",
       "      <th>0</th>\n",
       "      <td>0.0</td>\n",
       "      <td>-7.5</td>\n",
       "      <td>168.899994</td>\n",
       "      <td>600.0</td>\n",
       "      <td>12.861111</td>\n",
       "      <td>0.0</td>\n",
       "      <td>0.0</td>\n",
       "      <td>0.0</td>\n",
       "      <td>0.0</td>\n",
       "      <td>0.0</td>\n",
       "      <td>0.0</td>\n",
       "      <td>0.0</td>\n",
       "      <td>0.0</td>\n",
       "      <td>0.0</td>\n",
       "      <td>0.0</td>\n",
       "      <td>0.0</td>\n",
       "      <td>0.0</td>\n",
       "    </tr>\n",
       "    <tr>\n",
       "      <th>1</th>\n",
       "      <td>6.0</td>\n",
       "      <td>-7.8</td>\n",
       "      <td>169.199997</td>\n",
       "      <td>1000.0</td>\n",
       "      <td>15.433333</td>\n",
       "      <td>0.0</td>\n",
       "      <td>0.0</td>\n",
       "      <td>0.0</td>\n",
       "      <td>0.0</td>\n",
       "      <td>0.0</td>\n",
       "      <td>0.0</td>\n",
       "      <td>0.0</td>\n",
       "      <td>0.0</td>\n",
       "      <td>0.0</td>\n",
       "      <td>0.0</td>\n",
       "      <td>0.0</td>\n",
       "      <td>0.0</td>\n",
       "    </tr>\n",
       "    <tr>\n",
       "      <th>2</th>\n",
       "      <td>12.0</td>\n",
       "      <td>-8.1</td>\n",
       "      <td>169.600006</td>\n",
       "      <td>1000.0</td>\n",
       "      <td>15.433333</td>\n",
       "      <td>0.0</td>\n",
       "      <td>0.0</td>\n",
       "      <td>0.0</td>\n",
       "      <td>0.0</td>\n",
       "      <td>0.0</td>\n",
       "      <td>0.0</td>\n",
       "      <td>0.0</td>\n",
       "      <td>0.0</td>\n",
       "      <td>0.0</td>\n",
       "      <td>0.0</td>\n",
       "      <td>0.0</td>\n",
       "      <td>0.0</td>\n",
       "    </tr>\n",
       "    <tr>\n",
       "      <th>3</th>\n",
       "      <td>18.0</td>\n",
       "      <td>-8.5</td>\n",
       "      <td>170.100006</td>\n",
       "      <td>1400.0</td>\n",
       "      <td>18.005556</td>\n",
       "      <td>0.0</td>\n",
       "      <td>0.0</td>\n",
       "      <td>0.0</td>\n",
       "      <td>0.0</td>\n",
       "      <td>0.0</td>\n",
       "      <td>0.0</td>\n",
       "      <td>0.0</td>\n",
       "      <td>0.0</td>\n",
       "      <td>0.0</td>\n",
       "      <td>0.0</td>\n",
       "      <td>0.0</td>\n",
       "      <td>0.0</td>\n",
       "    </tr>\n",
       "    <tr>\n",
       "      <th>4</th>\n",
       "      <td>24.0</td>\n",
       "      <td>-9.0</td>\n",
       "      <td>170.600006</td>\n",
       "      <td>2100.0</td>\n",
       "      <td>23.150000</td>\n",
       "      <td>0.0</td>\n",
       "      <td>0.0</td>\n",
       "      <td>0.0</td>\n",
       "      <td>0.0</td>\n",
       "      <td>0.0</td>\n",
       "      <td>0.0</td>\n",
       "      <td>0.0</td>\n",
       "      <td>0.0</td>\n",
       "      <td>55560.0</td>\n",
       "      <td>55560.0</td>\n",
       "      <td>46300.0</td>\n",
       "      <td>55560.0</td>\n",
       "    </tr>\n",
       "    <tr>\n",
       "      <th>5</th>\n",
       "      <td>30.0</td>\n",
       "      <td>-9.3</td>\n",
       "      <td>170.500000</td>\n",
       "      <td>2800.0</td>\n",
       "      <td>28.294444</td>\n",
       "      <td>0.0</td>\n",
       "      <td>0.0</td>\n",
       "      <td>0.0</td>\n",
       "      <td>0.0</td>\n",
       "      <td>46300.0</td>\n",
       "      <td>37040.0</td>\n",
       "      <td>46300.0</td>\n",
       "      <td>37040.0</td>\n",
       "      <td>129640.0</td>\n",
       "      <td>120380.0</td>\n",
       "      <td>138900.0</td>\n",
       "      <td>111120.0</td>\n",
       "    </tr>\n",
       "    <tr>\n",
       "      <th>6</th>\n",
       "      <td>36.0</td>\n",
       "      <td>-9.7</td>\n",
       "      <td>170.500000</td>\n",
       "      <td>3200.0</td>\n",
       "      <td>30.866667</td>\n",
       "      <td>0.0</td>\n",
       "      <td>0.0</td>\n",
       "      <td>0.0</td>\n",
       "      <td>0.0</td>\n",
       "      <td>46300.0</td>\n",
       "      <td>37040.0</td>\n",
       "      <td>46300.0</td>\n",
       "      <td>37040.0</td>\n",
       "      <td>129640.0</td>\n",
       "      <td>120380.0</td>\n",
       "      <td>138900.0</td>\n",
       "      <td>111120.0</td>\n",
       "    </tr>\n",
       "    <tr>\n",
       "      <th>7</th>\n",
       "      <td>42.0</td>\n",
       "      <td>-10.2</td>\n",
       "      <td>170.500000</td>\n",
       "      <td>3600.0</td>\n",
       "      <td>33.438889</td>\n",
       "      <td>0.0</td>\n",
       "      <td>0.0</td>\n",
       "      <td>0.0</td>\n",
       "      <td>0.0</td>\n",
       "      <td>46300.0</td>\n",
       "      <td>37040.0</td>\n",
       "      <td>46300.0</td>\n",
       "      <td>37040.0</td>\n",
       "      <td>129640.0</td>\n",
       "      <td>120380.0</td>\n",
       "      <td>138900.0</td>\n",
       "      <td>120380.0</td>\n",
       "    </tr>\n",
       "  </tbody>\n",
       "</table>\n",
       "</div>"
      ],
      "text/plain": [
       "   time   lat        long      dp       vmax  64ne  64se  64sw  64nw     50ne  \\\n",
       "0   0.0  -7.5  168.899994   600.0  12.861111   0.0   0.0   0.0   0.0      0.0   \n",
       "1   6.0  -7.8  169.199997  1000.0  15.433333   0.0   0.0   0.0   0.0      0.0   \n",
       "2  12.0  -8.1  169.600006  1000.0  15.433333   0.0   0.0   0.0   0.0      0.0   \n",
       "3  18.0  -8.5  170.100006  1400.0  18.005556   0.0   0.0   0.0   0.0      0.0   \n",
       "4  24.0  -9.0  170.600006  2100.0  23.150000   0.0   0.0   0.0   0.0      0.0   \n",
       "5  30.0  -9.3  170.500000  2800.0  28.294444   0.0   0.0   0.0   0.0  46300.0   \n",
       "6  36.0  -9.7  170.500000  3200.0  30.866667   0.0   0.0   0.0   0.0  46300.0   \n",
       "7  42.0 -10.2  170.500000  3600.0  33.438889   0.0   0.0   0.0   0.0  46300.0   \n",
       "\n",
       "      50se     50sw     50nw      34ne      34se      34sw      34nw  \n",
       "0      0.0      0.0      0.0       0.0       0.0       0.0       0.0  \n",
       "1      0.0      0.0      0.0       0.0       0.0       0.0       0.0  \n",
       "2      0.0      0.0      0.0       0.0       0.0       0.0       0.0  \n",
       "3      0.0      0.0      0.0       0.0       0.0       0.0       0.0  \n",
       "4      0.0      0.0      0.0   55560.0   55560.0   46300.0   55560.0  \n",
       "5  37040.0  46300.0  37040.0  129640.0  120380.0  138900.0  111120.0  \n",
       "6  37040.0  46300.0  37040.0  129640.0  120380.0  138900.0  111120.0  \n",
       "7  37040.0  46300.0  37040.0  129640.0  120380.0  138900.0  120380.0  "
      ]
     },
     "execution_count": 24,
     "metadata": {},
     "output_type": "execute_result"
    }
   ],
   "source": [
    "inpdat"
   ]
  },
  {
   "cell_type": "code",
   "execution_count": 25,
   "metadata": {
    "collapsed": false
   },
   "outputs": [
    {
     "name": "stdout",
     "output_type": "stream",
     "text": [
      "TIME= [  0.   6.  12.  18.  24.  30.  36.  42.]\n",
      "LAT= [ -7.5         -7.80000019  -8.10000038  -8.5         -9.          -9.30000019\n",
      "  -9.69999981 -10.19999981]\n",
      "LON= [ 168.8999939   169.19999695  169.6000061   170.1000061   170.6000061\n",
      "  170.5         170.5         170.5       ]\n",
      "VMAX= [ 12.86111111  15.43333333  15.43333333  18.00555556  23.15        28.29444444\n",
      "  30.86666667  33.43888889]\n",
      "NE64= [ 0.  0.  0.  0.  0.  0.  0.  0.]\n",
      "SE64= [ 0.  0.  0.  0.  0.  0.  0.  0.]\n",
      "SW64= [ 0.  0.  0.  0.  0.  0.  0.  0.]\n",
      "NW64= [ 0.  0.  0.  0.  0.  0.  0.  0.]\n",
      "NE50= [     0.      0.      0.      0.      0.  46300.  46300.  46300.]\n",
      "SE50= [     0.      0.      0.      0.      0.  37040.  37040.  37040.]\n",
      "SW50= [     0.      0.      0.      0.      0.  46300.  46300.  46300.]\n",
      "NW50= [     0.      0.      0.      0.      0.  37040.  37040.  37040.]\n",
      "NE34= [      0.       0.       0.       0.   55560.  129640.  129640.  129640.]\n",
      "SE34= [      0.       0.       0.       0.   55560.  120380.  120380.  120380.]\n",
      "SW34= [      0.       0.       0.       0.   46300.  138900.  138900.  138900.]\n",
      "NW34= [      0.       0.       0.       0.   55560.  111120.  111120.  120380.]\n"
     ]
    }
   ],
   "source": [
    "time=inpdat.time.values ; print 'TIME=',time # time frame of forecasting (from bulletin)\n",
    "lat=inpdat.lat.values ; print 'LAT=',lat # TC position \n",
    "lon=inpdat.long.values ; print 'LON=',lon  #  ''\n",
    "vmax=inpdat.vmax.values ; print 'VMAX=',vmax  # forecasted manimum velocity (from bulletin)\n",
    "ne64=inpdat['64ne'].values ; print 'NE64=',ne64  # distance in nautical miles that the velocity is 64 knt at the north-estern quadrant  \n",
    "se64=inpdat['64se'].values ; print 'SE64=',se64  #                         \"                                     south-estern\n",
    "sw64=inpdat['64sw'].values ; print 'SW64=',sw64\n",
    "nw64=inpdat['64nw'].values ; print 'NW64=',nw64\n",
    "ne50=inpdat['50ne'].values ; print 'NE50=',ne50   # distance in nautical miles that the velocity is 50 knt at the north-estern quadrant\n",
    "se50=inpdat['50se'].values ; print 'SE50=',se50\n",
    "sw50=inpdat['50sw'].values ; print 'SW50=',sw50\n",
    "nw50=inpdat['50nw'].values ; print 'NW50=',nw50\n",
    "ne34=inpdat['34ne'].values ; print 'NE34=',ne34    # distance in nautical miles that the velocity is 34 knt at the north-estern quadrant\n",
    "se34=inpdat['34se'].values ; print 'SE34=',se34\n",
    "sw34=inpdat['34sw'].values ; print 'SW34=',sw34\n",
    "nw34=inpdat['34nw'].values ; print 'NW34=',nw34\n",
    "\n"
   ]
  },
  {
   "cell_type": "markdown",
   "metadata": {},
   "source": [
    "Define variables"
   ]
  },
  {
   "cell_type": "code",
   "execution_count": 26,
   "metadata": {
    "collapsed": false
   },
   "outputs": [
    {
     "name": "stdout",
     "output_type": "stream",
     "text": [
      "1\n",
      "Tropical Cyclone Bulletin through GDACS/PDC\n",
      "PAM\n",
      "07 Mar 2015 06:00:00\n"
     ]
    }
   ],
   "source": [
    "bulNo=np.int(info.setexp.bulNo); print bulNo\n",
    "\n",
    "nb=10000  #size of random numbers used\n",
    "\n",
    "fk=0.92  # coefficient for going from 1m to 10m in velocities ????????????????????????\n",
    "\n",
    "fvtr=1.0\n",
    "\n",
    "stitle=info.setexp.source ; print stitle\n",
    "\n",
    "hurName=info.setexp.hurName; print hurName\n",
    "\n",
    "bulDate=info.setexp.bulDate; print bulDate\n",
    "\n"
   ]
  },
  {
   "cell_type": "markdown",
   "metadata": {},
   "source": [
    "Check if we cross the International Date Line"
   ]
  },
  {
   "cell_type": "code",
   "execution_count": 27,
   "metadata": {
    "collapsed": false
   },
   "outputs": [
    {
     "name": "stdout",
     "output_type": "stream",
     "text": [
      "[ 1.  1.  1.  1.  1.  1.  1.  1.]\n",
      "1.0\n",
      "[False False False False False False False False]\n",
      "0\n"
     ]
    }
   ],
   "source": [
    "sig=np.sign(lon) ; print sig # get the sign of longitute \n",
    "sig1=sig[0] ; print sig1 # uses the first sign to set the adjustment below. \n",
    "\n",
    "m=sig != sig1  ; print m # map the values of lon that have sign different from the first lon\n",
    "\n",
    "print sum(m)"
   ]
  },
  {
   "cell_type": "code",
   "execution_count": 28,
   "metadata": {
    "collapsed": false
   },
   "outputs": [],
   "source": [
    "if sum(m)>0:\n",
    "# adjust the lon values going from -180:180\n",
    "        if sig1 > 0:\n",
    "                lon[m]=lon[m]+360.\n",
    "        elif sig1 < 0:\n",
    "                lon[m]=lon[m]-360.\n",
    "\n"
   ]
  },
  {
   "cell_type": "code",
   "execution_count": 29,
   "metadata": {
    "collapsed": false
   },
   "outputs": [],
   "source": [
    "# storing the input quantities\n",
    "\n",
    "TIME =  time\n",
    "LAT = lat\n",
    "LON = lon\n",
    "VMAX0 = vmax\n",
    "\n",
    "ntime=np.size(TIME) # number of time steps from bulletin\n",
    "\n",
    "\n",
    "# initialize arrays\n",
    "deltaptot = np.zeros(ntime)\n",
    "btot = np.zeros(ntime)\n",
    "ktot=np.zeros(ntime)\n",
    "rmaxtot = np.zeros(ntime)\n",
    "vmax0tot = np.zeros(ntime)\n",
    "vmax0ktot = np.zeros(ntime)\n",
    "vmax1tot = np.zeros(ntime)\n",
    "vtrtot = np.zeros(ntime)\n",
    "vtrxtot = np.zeros(ntime)\n",
    "vtrytot = np.zeros(ntime)\n",
    "rmsetot=np.zeros(ntime)\n",
    "biastot=np.zeros(ntime)\n",
    "\n"
   ]
  },
  {
   "cell_type": "markdown",
   "metadata": {},
   "source": [
    "## Calculate translation velocity"
   ]
  },
  {
   "cell_type": "code",
   "execution_count": 30,
   "metadata": {
    "collapsed": false
   },
   "outputs": [],
   "source": [
    "# tsec=np.array(time)*3600  #translate time from hours to sec\n",
    "tsec=time*3600  #translate time from hours to sec"
   ]
  },
  {
   "cell_type": "code",
   "execution_count": 54,
   "metadata": {
    "collapsed": false
   },
   "outputs": [
    {
     "data": {
      "text/plain": [
       "array([  0.,   6.,  12.,  18.,  24.,  30.,  36.,  42.])"
      ]
     },
     "execution_count": 54,
     "metadata": {},
     "output_type": "execute_result"
    }
   ],
   "source": [
    "time"
   ]
  },
  {
   "cell_type": "code",
   "execution_count": 31,
   "metadata": {
    "collapsed": false
   },
   "outputs": [],
   "source": [
    "x=lon\n",
    "y=lat"
   ]
  },
  {
   "cell_type": "code",
   "execution_count": 77,
   "metadata": {
    "collapsed": false
   },
   "outputs": [],
   "source": [
    "dt=np.gradient(time)*3600 # compute dt"
   ]
  },
  {
   "cell_type": "code",
   "execution_count": 78,
   "metadata": {
    "collapsed": true
   },
   "outputs": [],
   "source": [
    "dx_dt = np.gradient(x,dt)\n",
    "dy_dt = np.gradient(y,dt)\n",
    "velocity = np.array([ [dx_dt[i], dy_dt[i]] for i in range(dx_dt.size)])"
   ]
  },
  {
   "cell_type": "code",
   "execution_count": 79,
   "metadata": {
    "collapsed": false
   },
   "outputs": [
    {
     "data": {
      "text/plain": [
       "array([[  1.38890302e-05,  -1.38888977e-05],\n",
       "       [  1.62039863e-05,  -1.38888977e-05],\n",
       "       [  2.08335453e-05,  -1.62036993e-05],\n",
       "       [  2.31481481e-05,  -2.08333245e-05],\n",
       "       [  9.25911796e-06,  -1.85185229e-05],\n",
       "       [ -2.31495611e-06,  -1.62036993e-05],\n",
       "       [  0.00000000e+00,  -2.08333245e-05],\n",
       "       [  0.00000000e+00,  -2.31481481e-05]])"
      ]
     },
     "execution_count": 79,
     "metadata": {},
     "output_type": "execute_result"
    }
   ],
   "source": [
    "velocity"
   ]
  },
  {
   "cell_type": "code",
   "execution_count": 80,
   "metadata": {
    "collapsed": false
   },
   "outputs": [
    {
     "data": {
      "text/plain": [
       "array([  1.96419612e-05,   2.13417584e-05,   2.63931142e-05,\n",
       "         3.11426423e-05,   2.07042739e-05,   1.63682281e-05,\n",
       "         2.08333245e-05,   2.31481481e-05])"
      ]
     },
     "execution_count": 80,
     "metadata": {},
     "output_type": "execute_result"
    }
   ],
   "source": [
    "np.sqrt(velocity[:,0]**2+velocity[:,1]**2)"
   ]
  },
  {
   "cell_type": "code",
   "execution_count": 81,
   "metadata": {
    "collapsed": true
   },
   "outputs": [],
   "source": [
    "vtrx = velocity[:,0] * deg2m * np.cos(np.radians(lat))  #adjust for latitude\n",
    "vtry = velocity[:,1] * deg2m"
   ]
  },
  {
   "cell_type": "code",
   "execution_count": 82,
   "metadata": {
    "collapsed": true
   },
   "outputs": [],
   "source": [
    "vtr = np.sqrt(vtrx**2+vtry**2)"
   ]
  },
  {
   "cell_type": "code",
   "execution_count": 83,
   "metadata": {
    "collapsed": false
   },
   "outputs": [
    {
     "name": "stdout",
     "output_type": "stream",
     "text": [
      "[ 1.53295282  1.78720061  2.29613308  2.54863599  1.01807048 -0.25432246\n",
      "  0.          0.        ] [-1.54616587 -1.54616587 -1.80385854 -2.31924634 -2.06155367 -1.80385854\n",
      " -2.31924634 -2.57694147] [ 2.17728575  2.36320014  2.91995423  3.44593224  2.29923271  1.82169853\n",
      "  2.31924634  2.57694147]\n"
     ]
    }
   ],
   "source": [
    "print vtrx,vtry,vtr"
   ]
  },
  {
   "cell_type": "code",
   "execution_count": 87,
   "metadata": {
    "collapsed": true
   },
   "outputs": [],
   "source": [
    "VTR=vtr\n",
    "VTRX=vtrx\n",
    "VTRY=vtry"
   ]
  },
  {
   "cell_type": "markdown",
   "metadata": {},
   "source": [
    "Compute the tangent of unit vector value, see http://stackoverflow.com/questions/28269379/curve-curvature-in-numpy"
   ]
  },
  {
   "cell_type": "code",
   "execution_count": 111,
   "metadata": {
    "collapsed": true
   },
   "outputs": [],
   "source": [
    "ds_dt = np.sqrt(dx_dt * dx_dt + dy_dt * dy_dt)"
   ]
  },
  {
   "cell_type": "code",
   "execution_count": 112,
   "metadata": {
    "collapsed": true
   },
   "outputs": [],
   "source": [
    "tangent = np.array([1/ds_dt] * 2).transpose() * velocity"
   ]
  },
  {
   "cell_type": "code",
   "execution_count": 113,
   "metadata": {
    "collapsed": false
   },
   "outputs": [],
   "source": [
    "th=np.arctan2(tangent[:,1],tangent[:,0]) # the angle of the velocity vector"
   ]
  },
  {
   "cell_type": "code",
   "execution_count": 117,
   "metadata": {
    "collapsed": false
   },
   "outputs": [],
   "source": [
    "COSFI = np.cos(th)\n",
    "SINFI = np.sin(th)"
   ]
  },
  {
   "cell_type": "code",
   "execution_count": 118,
   "metadata": {
    "collapsed": false
   },
   "outputs": [],
   "source": [
    "#==========================================================================\n",
    "# loop over all times in bulletin - BELLOW the workflow for one time\n",
    "#==========================================================================\n",
    "done=0\n",
    "t=6\n",
    "\n",
    "time = TIME[t]\n",
    "lat = LAT[t]\n",
    "lon = LON[t]\n",
    "vmax0 = VMAX0[t]\n",
    "vmax0k = vmax0*fk #translate from 1km to 10km\n",
    "V0=np.array([64, 64, 64, 64, 50, 50, 50, 50, 34, 34, 34, 34])*kt2ms*fk #translate knots to m/s and from 1km to 10km\n",
    "R0=np.array([ne64[t], se64[t], sw64[t], nw64[t], ne50[t], se50[t], sw50[t], nw50[t], ne34[t], se34[t], sw34[t], nw34[t]])\n",
    "an=np.array([tetaNE, tetaSE, tetaSW, tetaNW,tetaNE, tetaSE, tetaSW, tetaNW,tetaNE, tetaSE, tetaSW, tetaNW])\n",
    "vtr = VTR[t]\n",
    "vtrx = VTRX[t]\n",
    "vtry = VTRY[t]\n",
    "sinfi = SINFI[t]\n",
    "cosfi = COSFI[t]\n"
   ]
  },
  {
   "cell_type": "code",
   "execution_count": 119,
   "metadata": {
    "collapsed": false
   },
   "outputs": [],
   "source": [
    "M=(R0 != 0) & (R0 < maxR)  # find which radii are not zero and less than  Rmax(=500km)\n",
    "if  np.sum(M) < npmin : # if there are less than 2\n",
    "        if (done) :  # if not the time[0] use the previous values\n",
    "                rmax = rmaxtot[t-1]\n",
    "                b = btot[t-1]\n",
    "                k = ktot[t-1]\n",
    "\n",
    "        else:\n",
    "                rmax = rmax0\n",
    "                b = b0\n",
    "                k = kmin\n",
    "\n",
    "        bias=None\n",
    "        rmse=None\n",
    "\n",
    "        dp = vmax0**2*rhoa*np.exp(1)/b\n",
    "        deltaptot[t] = dp\n",
    "        btot[t] = b\n",
    "        rmaxtot[t] = rmax\n",
    "        vmax0tot[t] = vmax0\n",
    "        vmax0ktot[t] = vmax0k\n",
    "        vmax1tot[t] = np.max([vmax0k-vtr, vmax0k/2])\n",
    "        vtrtot[t] = vtr\n",
    "        vtrxtot[t] = vtrx\n",
    "        vtrytot[t] = vtry\n",
    "        ktot[t] =k\n",
    "        biastot[t]=bias\n",
    "        rmsetot[t] = rmse\n",
    "      #  continue\n",
    "\n",
    "V0 = V0[M]\n",
    "R = R0[M]\n",
    "an = an[M]\n",
    "sinan = np.sin(np.radians(an+90))  # an +90 = angle of tangential wind\n",
    "cosan=np.cos(np.radians(an+90))\n",
    "\n",
    "npv=np.size(V0)\n"
   ]
  },
  {
   "cell_type": "code",
   "execution_count": 120,
   "metadata": {
    "collapsed": false
   },
   "outputs": [],
   "source": [
    "#--------------------------------------------------\n",
    "# calculate V wind radii (V - translational velocity)\n",
    "#--------------------------------------------------\n",
    "RATIO = (rmax0/R)**b0    # assume exponential decay eqs (13) from JRC report\n",
    "EXPRATIO = np.exp(-RATIO)  #                       \"\n",
    "\n",
    "VT=vtr*(cosfi * cosan + sinfi * sinan)*(1-EXPRATIO)   # Eq (15) from JRC report\n",
    "#   VT=vtr*(cosfi * cosan + sinfi * sinan)*(RATIO)\n",
    "\n",
    "if (lat<0): VT=-VT   # reverse for south hemishpere\n",
    "VV = V0-VT   # substract translational velocity from TC velocity\n",
    "\n",
    "# calculate  f WR\n",
    "\n",
    "deltalatWR=R/deg2m*np.sin(np.radians(an))\n",
    "latWR=lat+deltalatWR\n",
    "\n",
    "fWR=2*omega*np.abs(np.sin(np.radians(latWR))) # Coriolis parameter f=2*Omega*sin(lat)\n",
    "Vnco=((VV+R*fWR/2)**2-(R*fWR/2)**2)**0.5\n",
    "V=Vnco\n"
   ]
  },
  {
   "cell_type": "code",
   "execution_count": 122,
   "metadata": {
    "collapsed": false
   },
   "outputs": [],
   "source": [
    "#--------------------------------------------------\n",
    "# Choose valid velocities\n",
    "#--------------------------------------------------\n",
    "M=V>0\n",
    "\n",
    "if np.sum(M) == 0 : print 'continue'\n",
    "\n",
    "V0 = V0[M]\n",
    "VV = VV[M]\n",
    "V=V[M]\n",
    "R=R[M]\n"
   ]
  },
  {
   "cell_type": "code",
   "execution_count": 123,
   "metadata": {
    "collapsed": false
   },
   "outputs": [],
   "source": [
    "#--------------------------------------------------\n",
    "#  calculate  vmax = vmax0 - vt\n",
    "#--------------------------------------------------\n",
    "vmax0vt=np.max([vmax0k-vtr,np.max(V)])\n",
    "\n",
    "\n",
    "#--------------------------------------------------\n",
    "#  calculate coriolis for vmax\n",
    "#--------------------------------------------------\n",
    "if (lat>0):\n",
    "      #sinfivmax=np.sin(fi-90)=-np.cos(fi)\n",
    "        sinfivmax=-cosfi\n",
    "else:\n",
    "      #sinfivmax=np.sin(fi+90)=np.cos(fi)\n",
    "        sinfivmax=cosfi\n",
    "\n"
   ]
  },
  {
   "cell_type": "markdown",
   "metadata": {},
   "source": [
    "Now we estimating the Rmax. A number of ways apply. Next we explore our options"
   ]
  }
 ],
 "metadata": {
  "hide_input": false,
  "kernelspec": {
   "display_name": "Python 2",
   "language": "python",
   "name": "python2"
  },
  "language_info": {
   "codemirror_mode": {
    "name": "ipython",
    "version": 2
   },
   "file_extension": ".py",
   "mimetype": "text/x-python",
   "name": "python",
   "nbconvert_exporter": "python",
   "pygments_lexer": "ipython2",
   "version": "2.7.12"
  },
  "latex_envs": {
   "bibliofile": "biblio.bib",
   "cite_by": "apalike",
   "current_citInitial": 1,
   "eqLabelWithNumbers": true,
   "eqNumInitial": 0
  },
  "widgets": {
   "state": {},
   "version": "2.0.10"
  }
 },
 "nbformat": 4,
 "nbformat_minor": 0
}
