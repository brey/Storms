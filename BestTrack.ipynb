{
 "cells": [
  {
   "cell_type": "markdown",
   "metadata": {},
   "source": [
    "# Tropical Cyclones: BEST TRACK DATA"
   ]
  },
  {
   "cell_type": "markdown",
   "metadata": {},
   "source": [
    "# NOAA"
   ]
  },
  {
   "cell_type": "markdown",
   "metadata": {},
   "source": [
    "Link: ftp://ftp.nhc.noaa.gov/atcf\n",
    "\n",
    "Basins: Atlantic and Eastern Pacific\n",
    "Parameters: Lat, Lon, Vmax, Pc, Pn, Vmax, Wind Radii, Rmax, Rpc, Eye, Dir, Speed, …  \n",
    "ATCF = Automated Tropical Cyclone Forecast - \"Data Files / Text Files\"\n",
    "(Note: the data are provided \"as-is\" in a realtime automated fashion; consequently, the users of the data are REQUIRED to perform quality control of the data prior to use since there is a potential for errors within the files)\n",
    "There are several datasets in atcf folder. Best Track data are in btk folder:\n",
    "\n",
    "Best Track (btk): The Data for the current year’s storms are located in the btk directory, while previous years’ data are located in the archive directory\n",
    "•\tbtk: \"ATCF best-track comma delimited files (aka B-decks)\": ftp://ftp.nhc.noaa.gov/atcf/btk/ \n",
    "•\tArchive of best track:  ftp://ftp.nhc.noaa.gov/atcf/archive/ \n",
    "\n",
    "DESCRIPTION:  Official synoptic hour positions and intensity and wind radii of Tropical Cyclones in comma delimited format.Indicates the best position known at synoptic time. \n",
    "CATEGORY:  position / intensity\n",
    "SPECIAL NOTES:  Best track data is verified post season, so expect revisions after the season.\n",
    " FILE CONVENTION:  b<basin><storm-number><YYYY>.dat\n",
    "<basin>  = al \"for Atlantic basin\", \n",
    "= ep \"for East Pacific basin\", \n",
    "= cp \"for Central Pacific basin\"\n",
    "<storm-number>  =  01 - 30   \"numbered storms with forecasts issued and numbers are *not* recycled\n",
    "     until the next season.\"\n",
    "=   90 - 99   \"Invest, areas of interest watched by forecasters for possible development and\n",
    "                     these numbers are re-used periodically throughout the season\"\n",
    "= 80 - 89   \"Internal training storm numbers which are to always be ignored\"\n",
    "<YYYY> = 2003  \"4-digit Year\"\n",
    "FILE FORMAT DOCUMENTATION:  see Section 2 or the link below: http://www.nrlmry.navy.mil/atcf_web/docs/database/new/abrdeck.html \n"
   ]
  },
  {
   "cell_type": "markdown",
   "metadata": {},
   "source": [
    "# NOAA IBTrACS"
   ]
  },
  {
   "cell_type": "markdown",
   "metadata": {},
   "source": [
    "Link: http://www.ncdc.noaa.gov/ibtracs/index.php?name=ibtracs-data \n",
    "\n",
    "Basins: All???\n",
    "\n",
    "Time: Release date 01 Oct 2012 includes Best track data through 2011\n",
    "\n",
    "Parameters: Lat, Lon, Vmax, Pc, Pn, Vmax, Wind Radii, Rmax, Rpc, Eye, Dir, Speed, …  ???\n",
    "\n",
    "Vision: Providing tropical cyclone best track data in a centralized location to aid our understanding of the distribution, frequency, and intensity of tropical cyclones worldwide.\n",
    "\n",
    "Introduction: The intent of the IBTrACS project is to overcome data availability issues, and to freely disseminate this new global dataset. This was achieved by working directly with all the Regional Specialized Meteorological Centers and other international centers and individuals to create a global best track dataset, merging storm information from multiple centers into one product and archiving the data for public use. One of the goals of the project is for the data processing methods to remain open, such that desired user feedback on data quality is more easily collected. Also, data provenance is completely recorded so all observations and corrections, either through rigorous quality control or user feedback, may be tracked. Data are then provided in various formats given the diversity of the tropical cyclone (TC) data user community (see http://www.ncdc.noaa.gov/ibtracs/ )\n",
    "\n",
    "Note: in IBTrACS database vmax is 10-min wind and not 1-min!!! all winds are reported as 10-minute winds. Data from NOAA (HURDAT, CPHC), JTWC and the RSMC New Delhi (IMD) all provide data as 1-minute. Winds were converted to 10-min using: V10 = 0.88 * V1\n"
   ]
  },
  {
   "cell_type": "markdown",
   "metadata": {},
   "source": [
    "# NOAA Historical Hurricane Tracks"
   ]
  },
  {
   "cell_type": "markdown",
   "metadata": {},
   "source": [
    " \n",
    "Link: http://www.csc.noaa.gov/hurricanes/#   \n",
    "\n",
    "Basins: Atlantic and Eastern Pacific\n",
    "\n",
    "Parameters: (Lat, Lon, Vmax, Pc)\n"
   ]
  },
  {
   "cell_type": "markdown",
   "metadata": {},
   "source": [
    "NOAA HURDAT2"
   ]
  },
  {
   "cell_type": "markdown",
   "metadata": {},
   "source": [
    "\n",
    "Link: http://www.nhc.noaa.gov/data/#hurdat \n",
    "\n",
    "Basins covered: Atlantic and Eastern Pacific\n",
    "\n",
    "Parameters: (Lat, Lon, Vmax, Pc, Wind Radii)\n",
    "\n",
    "•\tAtlantic hurricane database (HURDAT2) 1851-2012: This dataset was provided on 19 June 2013 to include the 1941 through 1945 hurricane database reanalysis results. This dataset (known as Atlantic HURDAT2) has a comma-delimited, text format with six-hourly information on the location, maximum winds, central pressure, and (beginning in 2004) size of all known tropical cyclones and subtropical cyclones. The original HURDAT database has been retired. Detailed information regarding the Atlantic Hurricane Database Re-analysis Project is available from the Hurricane Research Division. \n",
    "\n",
    "•\tNortheast and North Central Pacific hurricane database (HURDAT2) 1949-2012: This dataset was provided on 4 April 2013 to include the 2012 hurricane season. This dataset (known as NE/NC Pacific HURDAT2) has a comma-delimited, text format with six-hourly information on the location, maximum winds, central pressure, and (beginning in 2004) size of all known tropical cyclones and subtropical cyclones. The original HURDAT database has been retired.\n",
    "\n",
    "\n",
    "NOAA National Hurricane Center (NHR) Data/Report/Maps Archive: http://www.nhc.noaa.gov/data/\n"
   ]
  },
  {
   "cell_type": "markdown",
   "metadata": {},
   "source": [
    "# JTWC Best Track Archive"
   ]
  },
  {
   "cell_type": "markdown",
   "metadata": {},
   "source": [
    "Link: http://www.usno.navy.mil/NOOC/nmfc-ph/RSS/jtwc/best_tracks/ \n",
    "\n",
    "Basins covered: Atlantic and Eastern Pacific\n",
    "\n",
    "Parameters: Lat, Lon, Vmax, Pc, Pn, Vmax, Wind Radii, Rmax, Rpc, Eye, Dir, Speed, …\n",
    "\n",
    "Best Track Data Format:\n",
    "\n",
    "BASIN,CY, YYYYMMDDHH,TECHNUM, TECH,TAU, LatN/S,LonE/W, VMAX,MSLP, TY,RAD, WINDCODE,RAD1, RAD2,RAD3, RAD4,RADP, RRP,MRD, GUSTS,EYE, SUBREGION,MAXSEAS, INITIALS,DIR, SPEED,STORMNAME, DEPTH,SEAS, SEASCODE,SEAS1, SEAS2,SEAS3, SEAS4 \n",
    "\n",
    "•\tBASIN - basin, e.g. WP, IO, SH, CP, EP, AL\n",
    "\n",
    "•\tCY - annual cyclone number: 1 through 99\n",
    "\n",
    "•\tYYYYMMDDHH - Warning Date-Time-Group: 0000010100 through 9999123123. (note, 4 digit year) \n",
    "\n",
    "•\tTECHNUM - objective technique sorting number: 00 - 99 \n",
    "\n",
    "•\tTECH - acronym for each objective technique or CARQ or WRNG, BEST for best track. \n",
    "\n",
    "•\tTAU - forecast period: -24 through 120 hours, 0 for best-track, negative taus used for CARQ and WRNG records. \n",
    "\n",
    "•\tLatN/S - Latitude (tenths of degrees) for the DTG: 0 through 900, N/S is the hemispheric index. \n",
    "\n",
    "•\tLonE/W - Longitude (tenths of degrees) for the DTG: 0 through 1800, E/W is the hemispheric index. \n",
    "\n",
    "•\tVMAX - Maximum sustained wind speed in knots: 0 through 300. \n",
    "\n",
    "•\tMSLP - Minimum sea level pressure, 1 through 1100 MB. \n",
    "\n",
    "•\tTY - Level of tc development: TD - tropical depression, TS - tropical storm, TY - typhoon, ST - super typhoon, TC - tropical cyclone, HU - hurricane, SD - subtropical depression, SS - subtropical storm, EX - extratropical systems, IN - inland, DS - dissipating, LO - low, WV - tropical wave, ET - extrapolated, XX - unknown.\n",
    "\n",
    "•\tRAD - Wind intensity (kts) for the radii defined in this record: 35, 50, 65 or 100. \n",
    "\n",
    "•\tWINDCODE - Radius code: AAA - full circle, NNS - north semicircle, NES - northeast semicircle, EES - east semicircle, SES - southeast semicircle, SSS - south semicircle, SWS - southwest semicircle, WWS - west semicircle, NWS - northwest semicircle, QQQ - quadrant (NNQ, NEQ, EEQ, SEQ, SSQ, SWQ, WWQ, NWQ) \n",
    "\n",
    "•\tRAD1 - If full circle, radius of specified wind intensity, If semicircle or quadrant, radius of specified wind intensity of circle portion specified in radius code. 0 - 1200 nm. \n",
    "\n",
    "•\tRAD2 - If full circle this field not used, If semicicle, radius (nm) of specified wind intensity for semicircle not specified in radius code, If quadrant, radius (nm) of specified wind intensity for 2nd quadrant (counting clockwise from quadrant specified in radius code). 0 through 1200 nm. \n",
    "\n",
    "•\tRAD3 - If full circle or semicircle this field not used, If quadrant, radius (nm) of specified wind intensity for 3rd quadrant (counting clockwise from quadrant specified in radius code). 0 through 1200 nm. \n",
    "\n",
    "•\tRAD4 - If full circle or semicircle this field not used, If quadrant, radius (nm) of specified wind intensity for 4th quadrant (counting clockwise from quadrant specified in radius code). 0 through 1200 nm. \n",
    "\n",
    "•\tRADP - pressure in millibars of the last closed isobar, 900 - 1050 mb. \n",
    "\n",
    "•\tRRP - radius of the last closed isobar in nm, 0 - 9999 nm. \n",
    "\n",
    "•\tMRD - radius of max winds, 0 - 999 nm. \n",
    "\n",
    "•\tGUSTS - gusts, 0 through 995 kts. \n",
    "\n",
    "•\tEYE - eye diameter, 0 through 999 nm. \n",
    "\n",
    "•\tSUBREGION - subregion code: A - Arabian Sea, B - Bay of Bengal, C - Central Pacific, E - Eastern Pacific, L – Atlantic, P - South Pacific (135E - 120W), S - South IO (20E - 135E), W - Western Pacific \n",
    "\n",
    "•\tMAXSEAS - max seas: 0 through 999 ft. \n",
    "\n",
    "•\tINITIALS - Forecaster's initials, used for tau 0 WRNG, up to 3 chars. \n",
    "\n",
    "•\tDIR - storm direction, 0 - 359 degrees. \n",
    "\n",
    "•\tSPEED - storm speed, 0 - 999 kts. \n",
    "\n",
    "•\tSTORMNAME - literal storm name, NONAME or INVEST. TCcyx used pre-1999, where:  cy = Annual cyclone number 01 through 99, x = Subregion code: W, A, B, S, P, C, E, L. A - Arabian Sea, B - Bay of Bengal, C - Central Pacific, E - Eastern Pacific, L – Atlantic, P - South Pacific (135E - 120W), S - South IO (20E - 135E), W - Western Pacific.\n",
    "\n",
    "•\tDEPTH - system depth, D-deep, M-medium, S-shallow, X-unknown \n",
    "\n",
    "•\tSEAS - Wave height for radii defined in SEAS1-SEAS4, 0-99 ft. \n",
    "\n",
    "•\tSEASCODE - Radius code: AAA - full circle, NNS - north semicircle, NES - northeast semicircle, EES - east semicircle, SES - southeast semicircle, SSS - south semicircle, SWS - southwest semicircle, WWS - west semicircle, NWS - northwest semicircle, QQQ - quadrant (NNQ, NEQ, EEQ, SEQ, SSQ, SWQ, WWQ, NWQ)\n",
    "\n",
    "•\tSEAS1 - first quadrant seas radius as defined by SEASCODE, 0 through 999 nm. \n",
    "\n",
    "•\tSEAS2 - second quadrant seas radius as defined by SEASCODE, 0 through 999 nm. \n",
    "\n",
    "•\tSEAS3 - third quadrant seas radius as defined by SEASCODE, 0 through 999 nm. \n",
    "\n",
    "•\tSEAS4 - fourth quadrant seas radius as defined by SEASCODE, 0 through 999 nm. \n",
    "\n",
    "\n",
    "Fields currently used for best track records: \n",
    "\n",
    "BASIN, CY, YYYYMMDDHH, , TECH, TAU, LatN/S, LonE/W, VMAX, MSLP, TY \n",
    "\n",
    "TECH = BEST \n",
    "\n",
    "TAU = 0\n"
   ]
  },
  {
   "cell_type": "markdown",
   "metadata": {},
   "source": [
    "# JMA Best Track"
   ]
  },
  {
   "cell_type": "markdown",
   "metadata": {},
   "source": [
    "link : http://www.jma.go.jp/jma/jma-eng/jma-center/rsmc-hp-pub-eg/trackarchives.html\n"
   ]
  },
  {
   "cell_type": "code",
   "execution_count": null,
   "metadata": {
    "collapsed": false
   },
   "outputs": [],
   "source": []
  }
 ],
 "metadata": {
  "kernelspec": {
   "display_name": "Python 2",
   "language": "python",
   "name": "python2"
  },
  "language_info": {
   "codemirror_mode": {
    "name": "ipython",
    "version": 2
   },
   "file_extension": ".py",
   "mimetype": "text/x-python",
   "name": "python",
   "nbconvert_exporter": "python",
   "pygments_lexer": "ipython2",
   "version": "2.7.12"
  },
  "widgets": {
   "state": {},
   "version": "1.1.1"
  }
 },
 "nbformat": 4,
 "nbformat_minor": 0
}
