{
 "cells": [
  {
   "cell_type": "markdown",
   "metadata": {},
   "source": [
    "# Real Time information Sources for Tropical Cyclones"
   ]
  },
  {
   "cell_type": "markdown",
   "metadata": {},
   "source": [
    "Real time information for Tropical cyclones are available from various sources. These depend on the corresponding basin since there are different designated service providers for each basin according to the World Meteological Organization (WMO). These are called 'Regional Specialized Meteorological Centres' (RSMC). In addition to those, there are Tropical Cyclone Warning Centers (TCWCs) that also provide information sometimes different from the RSMC's but generally cover a broader region. Naturally there are also the national services called 'National Meteorological and Hydrological Services' (NMHSs) which might be limited in scope. \n",
    "\n",
    "One can find more info regarding these services in http://severe.worldweather.wmo.int/."
   ]
  },
  {
   "cell_type": "markdown",
   "metadata": {},
   "source": [
    "The sources we rely on for now are from the National Hurricane Center (NHC), part of National Weather Service (NWS) in the US administrated by the National Oceanic & Atmospheric Administration (NOAA). More info at http://www.noaa.gov/.\n",
    "\n",
    "The NHC is located at http://www.nhc.noaa.gov/ for Atlantic (including Caribbean Sea-Gulf of Mexico) and Easter Pacific Basins. Note that according to WMO this is the designated RSMC based in Miami, FL USA.\n",
    "\n",
    "For Central North Pacific the corresponding RMSC is again NWS but now based in Honolulu, Hawaii http://www.prh.noaa.gov/pr/hnl/cphc/.\n",
    "\n",
    "For western north pacific the designated RSMC is the Tokyo-Typhoon Center (http://www.jma.go.jp/en/typh/index.html) but the Joint Typhoon Warning Center (JTWC) based also in Hawaii is providing bulletins (Warnings) for the general Pacific and Indian basins. Note that the JTWC is part of the US military service made availbale to the public http://www.usno.navy.mil/. \n",
    "\n",
    "For the north Indian Ocean, the RMSC is the Indian Meteorological Dept. with info and data found at http://www.rsmcnewdelhi.imd.gov.in/index.php?lang=en.\n",
    "\n",
    "Finally for the area around Australia the TCWC provider is the Australian Bureau of Meteorology http://www.bom.gov.au/cyclone/index.shtml."
   ]
  },
  {
   "cell_type": "markdown",
   "metadata": {},
   "source": [
    "Note that the above sources are deemed 'operational' and provide official information. An aggregate service for all available daily bulletins can be found at http://weather.unisys.com/hurricane/ (see archive link therein). "
   ]
  },
  {
   "cell_type": "markdown",
   "metadata": {},
   "source": [
    "## North Atlantic - Caribbean - Eastern Pacific."
   ]
  },
  {
   "cell_type": "markdown",
   "metadata": {},
   "source": [
    "The information in the form of bulletins comes from NOAA. At the corresponding website  http://www.nhc.noaa.gov/ information are available in a variety of forms. We download the bulletins from the corresponding RSS feeds. Namely for the referenced basins the feeds are\n",
    "\n",
    " Atlantic Basin Tropical Cyclones: http://www.nhc.noaa.gov/index-at.xml\n",
    " Eastern Pacific Basin Tropical Cyclones: http://www.nhc.noaa.gov/index-ep.xml\n",
    " \n",
    " More info can be found in http://www.nhc.noaa.gov/aboutrss.shtml.\n",
    " \n",
    " The data are stored locally at '\\\\139.191.244.103\\g$\\inetpub\\wwwroot\\gdacsold\\cyclones\\NOAA'. There each Tropical Cyclone (TC) is given a  designation based on the basin ('Eastern Pacific' = 'EP', 'Central Pacific' = 'CP', 'Atlantic' = 'AL') and a number (increasing) refering to sequence of appearance in the specific year , eg. '032015' means the 3rd one in that basin in 2015.\n",
    " \n",
    "We can view the corresponding bulletins (if available) like this  "
   ]
  },
  {
   "cell_type": "code",
   "execution_count": 1,
   "metadata": {
    "collapsed": false
   },
   "outputs": [],
   "source": [
    "import feedparser\n",
    "\n",
    "url='http://www.nhc.noaa.gov/index-at.xml'\n",
    "\n",
    "atl=feedparser.parse(url)"
   ]
  },
  {
   "cell_type": "code",
   "execution_count": 2,
   "metadata": {
    "collapsed": false
   },
   "outputs": [
    {
     "data": {
      "text/plain": [
       "u'<br />\\n000<br />\\nABNT20 KNHC 300535<br />\\nTWOAT <br />\\n<br />\\nTROPICAL WEATHER OUTLOOK<br />\\nNWS NATIONAL HURRICANE CENTER MIAMI FL<br />\\n200 AM EDT TUE AUG 30 2016<br />\\n<br />\\nFor the North Atlantic...Caribbean Sea and the Gulf of Mexico:<br />\\n<br />\\nThe National Hurricane Center is issuing advisories on Hurricane<br />\\nGaston, located well east of Bermuda, on Tropical Depression Eight,<br />\\nlocated southeast of Cape Hatteras, North Carolina, and on Tropical<br />\\nDepression Nine, located over the southeastern Gulf of Mexico.<br />\\n<br />\\nA weak area of low pressure, associated with a tropical wave, is<br />\\nlocated over the far eastern Atlantic between the west coast of<br />\\nAfrica and the Cabo Verde Islands.  Environmental conditions are<br />\\nexpected to become a little more favorable for some gradual<br />\\ndevelopment of this system late this week while it moves<br />\\nwestward at 15 to 20 mph over the tropical Atlantic.<br />\\n* Formation chance through 48 hours...low...near 0 percent<br />\\n* Formation chance through 5 days...medium...40 percent<br />\\n<br />\\n$$<br />\\nForecaster Brown<br />\\n<br />'"
      ]
     },
     "execution_count": 2,
     "metadata": {},
     "output_type": "execute_result"
    }
   ],
   "source": [
    "data=atl['entries']\n",
    "data[0]['summary']"
   ]
  },
  {
   "cell_type": "code",
   "execution_count": 3,
   "metadata": {
    "collapsed": false
   },
   "outputs": [],
   "source": [
    "import feedparser\n",
    "\n",
    "url='http://www.nhc.noaa.gov/index-ep.xml'\n",
    "\n",
    "ep=feedparser.parse(url)"
   ]
  },
  {
   "cell_type": "code",
   "execution_count": 4,
   "metadata": {
    "collapsed": false
   },
   "outputs": [
    {
     "data": {
      "text/plain": [
       "u'<br />\\n000<br />\\nABPZ20 KNHC 300537<br />\\nTWOEP <br />\\n<br />\\nTROPICAL WEATHER OUTLOOK<br />\\nNWS NATIONAL HURRICANE CENTER MIAMI FL<br />\\n1100 PM PDT MON AUG 29 2016<br />\\n<br />\\nFor the eastern North Pacific...east of 140 degrees west longitude:<br />\\n<br />\\nThe National Hurricane Center is issuing advisories on Hurricane<br />\\nLester, located well east of the Hawaiian Islands.<br />\\n<br />\\nA broad and elongated area of low pressure located several hundred<br />\\nmiles southwest of the southern tip of the Baja California peninsula<br />\\ncontinues to produce a large area of cloudiness and disorganized<br />\\nshowers.  Development of this system is not expected as it moves<br />\\nlittle during the next few days.<br />\\n* Formation chance through 48 hours...low...near 0 percent<br />\\n* Formation chance through 5 days...low...near 0 percent<br />\\n<br />\\nAn area of low pressure could form a few hundred miles south or<br />\\nsouthwest of the south-central coast of Mexico around the end of the<br />\\nweek.  Environmental conditions are expected to be conducive for<br />\\nslow development of this system while it moves west-northwestward or<br />\\nnorthwestward.<br />\\n* Formation chance through 48 hours...low...near 0 percent<br />\\n* Formation chance through 5 days...low...30 percent<br />\\n<br />\\n$$<br />\\nForecaster Kimberlain<br />\\n<br />'"
      ]
     },
     "execution_count": 4,
     "metadata": {},
     "output_type": "execute_result"
    }
   ],
   "source": [
    "data=ep['entries']\n",
    "data[0]['summary']"
   ]
  },
  {
   "cell_type": "markdown",
   "metadata": {},
   "source": [
    "## Central Pacific"
   ]
  },
  {
   "cell_type": "markdown",
   "metadata": {},
   "source": [
    "Again NOAA provides info from the dedicated site. We collect the data from the RSS feed of the corresponding website http://www.prh.noaa.gov/hnl/cphc/ that is http://www.prh.noaa.gov/cphc/index-cp.xml."
   ]
  },
  {
   "cell_type": "code",
   "execution_count": 5,
   "metadata": {
    "collapsed": false
   },
   "outputs": [],
   "source": [
    "import feedparser\n",
    "\n",
    "url='http://www.prh.noaa.gov/cphc/index-cp.xml'\n",
    "\n",
    "cp=feedparser.parse(url)"
   ]
  },
  {
   "cell_type": "code",
   "execution_count": 6,
   "metadata": {
    "collapsed": false
   },
   "outputs": [
    {
     "data": {
      "text/plain": [
       "u'Issued at \"0300 UTC TUE AUG 30 2016\"'"
      ]
     },
     "execution_count": 6,
     "metadata": {},
     "output_type": "execute_result"
    }
   ],
   "source": [
    "data=cp['entries']\n",
    "data[0]['summary']\n"
   ]
  },
  {
   "cell_type": "markdown",
   "metadata": {},
   "source": [
    "## West Pacific"
   ]
  },
  {
   "cell_type": "markdown",
   "metadata": {},
   "source": [
    "From the JTWC web site the bulletins can be accessed in various formats. We download the bulletin in JMV 3.0 Data format. These bulletins are stored locally at the following location '\\\\139.191.244.103\\g$\\inetpub\\wwwroot\\gdacsold\\cyclones\\JTCW'. There  they are referenced through the usual naming system (see above). A typical sample is"
   ]
  },
  {
   "cell_type": "markdown",
   "metadata": {},
   "source": [
    "WTPN51 PGTW 040900    \n",
    "WARNING    ATCG MIL 13W NWP 150804072931\n",
    "2015080406 13W SOUDELOR   021  02 290 13 SATL 010\n",
    "T000 186N 1383E 140 R064 040 NE QD 035 SE QD 035 SW QD 035 NW QD R050 095 NE QD 070 SE QD 070 SW QD 095 NW QD R034 185 NE QD 155 SE QD 150 SW QD 185 NW QD \n",
    "T012 193N 1363E 140 R064 040 NE QD 035 SE QD 035 SW QD 035 NW QD R050 085 NE QD 070 SE QD 070 SW QD 085 NW QD R034 165 NE QD 145 SE QD 140 SW QD 165 NW QD \n",
    "T024 199N 1343E 140 R064 040 NE QD 040 SE QD 040 SW QD 040 NW QD R050 080 NE QD 070 SE QD 070 SW QD 080 NW QD R034 155 NE QD 140 SE QD 135 SW QD 155 NW QD \n",
    "T036 206N 1322E 135 R064 040 NE QD 040 SE QD 040 SW QD 040 NW QD R050 080 NE QD 070 SE QD 070 SW QD 080 NW QD R034 150 NE QD 135 SE QD 135 SW QD 150 NW QD \n",
    "T048 214N 1298E 130 R064 045 NE QD 040 SE QD 040 SW QD 040 NW QD R050 080 NE QD 070 SE QD 070 SW QD 080 NW QD R034 150 NE QD 135 SE QD 135 SW QD 150 NW QD \n",
    "T072 231N 1251E 120 R064 045 NE QD 040 SE QD 040 SW QD 045 NW QD R050 075 NE QD 070 SE QD 070 SW QD 075 NW QD R034 145 NE QD 135 SE QD 135 SW QD 145 NW QD \n",
    "T096 253N 1207E 100 R034 015 NE QD 015 SE QD 000 SW QD 015 NW QD \n",
    "T120 279N 1177E 065 R034 010 NE QD 010 SE QD 000 SW QD 010 NW QD \n",
    "AMP\n",
    "SUBJ:  SUPER TYPHOON 13W (SOUDELOR) WARNING NR 021    \n",
    "1. SUPER TYPHOON 13W (SOUDELOR) WARNING NR 021    \n",
    "   02 ACTIVE TROPICAL CYCLONES IN NORTHWESTPAC\n",
    "   MAX SUSTAINED WINDS BASED ON ONE-MINUTE AVERAGE\n",
    "   WIND RADII VALID OVER OPEN WATER ONLY\n",
    "    ---\n",
    "   WARNING POSITION:\n",
    "   040600Z --- NEAR 18.6N 138.3E\n",
    "     MOVEMENT PAST SIX HOURS - 290 DEGREES AT 13 KTS\n",
    "     POSITION ACCURATE TO WITHIN 010 NM\n",
    "     POSITION BASED ON EYE FIXED BY SATELLITE\n",
    "   PRESENT WIND DISTRIBUTION:\n",
    "   MAX SUSTAINED WINDS - 140 KT, GUSTS 170 KT\n",
    "   WIND RADII VALID OVER OPEN WATER ONLY\n",
    "   RADIUS OF 064 KT WINDS - 040 NM NORTHEAST QUADRANT\n",
    "                            035 NM SOUTHEAST QUADRANT\n",
    "                            035 NM SOUTHWEST QUADRANT\n",
    "                            035 NM NORTHWEST QUADRANT\n",
    "   RADIUS OF 050 KT WINDS - 095 NM NORTHEAST QUADRANT\n",
    "                            070 NM SOUTHEAST QUADRANT\n",
    "                            070 NM SOUTHWEST QUADRANT\n",
    "                            095 NM NORTHWEST QUADRANT\n",
    "   RADIUS OF 034 KT WINDS - 185 NM NORTHEAST QUADRANT\n",
    "                            155 NM SOUTHEAST QUADRANT\n",
    "                            150 NM SOUTHWEST QUADRANT\n",
    "                            185 NM NORTHWEST QUADRANT\n",
    "   REPEAT POSIT: 18.6N 138.3E\n",
    "    ---\n",
    "   FORECASTS:\n",
    "   12 HRS, VALID AT:\n",
    "   041800Z --- 19.3N 136.3E\n",
    "   MAX SUSTAINED WINDS - 140 KT, GUSTS 170 KT\n",
    "   WIND RADII VALID OVER OPEN WATER ONLY\n",
    "   RADIUS OF 064 KT WINDS - 040 NM NORTHEAST QUADRANT\n",
    "                            035 NM SOUTHEAST QUADRANT\n",
    "                            035 NM SOUTHWEST QUADRANT\n",
    "                            035 NM NORTHWEST QUADRANT\n",
    "   RADIUS OF 050 KT WINDS - 085 NM NORTHEAST QUADRANT\n",
    "                            070 NM SOUTHEAST QUADRANT\n",
    "                            070 NM SOUTHWEST QUADRANT\n",
    "                            085 NM NORTHWEST QUADRANT\n",
    "   RADIUS OF 034 KT WINDS - 165 NM NORTHEAST QUADRANT\n",
    "                            145 NM SOUTHEAST QUADRANT\n",
    "                            140 NM SOUTHWEST QUADRANT\n",
    "                            165 NM NORTHWEST QUADRANT\n",
    "   VECTOR TO 24 HR POSIT: 290 DEG/ 10 KTS\n",
    "    ---\n",
    "   24 HRS, VALID AT:\n",
    "   050600Z --- 19.9N 134.3E\n",
    "   MAX SUSTAINED WINDS - 140 KT, GUSTS 170 KT\n",
    "   WIND RADII VALID OVER OPEN WATER ONLY\n",
    "   RADIUS OF 064 KT WINDS - 040 NM NORTHEAST QUADRANT\n",
    "                            040 NM SOUTHEAST QUADRANT\n",
    "                            040 NM SOUTHWEST QUADRANT\n",
    "                            040 NM NORTHWEST QUADRANT\n",
    "   RADIUS OF 050 KT WINDS - 080 NM NORTHEAST QUADRANT\n",
    "                            070 NM SOUTHEAST QUADRANT\n",
    "                            070 NM SOUTHWEST QUADRANT\n",
    "                            080 NM NORTHWEST QUADRANT\n",
    "   RADIUS OF 034 KT WINDS - 155 NM NORTHEAST QUADRANT\n",
    "                            140 NM SOUTHEAST QUADRANT\n",
    "                            135 NM SOUTHWEST QUADRANT\n",
    "                            155 NM NORTHWEST QUADRANT\n",
    "   VECTOR TO 36 HR POSIT: 290 DEG/ 10 KTS\n",
    "    ---\n",
    "   36 HRS, VALID AT:\n",
    "   051800Z --- 20.6N 132.2E\n",
    "   MAX SUSTAINED WINDS - 135 KT, GUSTS 165 KT\n",
    "   WIND RADII VALID OVER OPEN WATER ONLY\n",
    "   RADIUS OF 064 KT WINDS - 040 NM NORTHEAST QUADRANT\n",
    "                            040 NM SOUTHEAST QUADRANT\n",
    "                            040 NM SOUTHWEST QUADRANT\n",
    "                            040 NM NORTHWEST QUADRANT\n",
    "   RADIUS OF 050 KT WINDS - 080 NM NORTHEAST QUADRANT\n",
    "                            070 NM SOUTHEAST QUADRANT\n",
    "                            070 NM SOUTHWEST QUADRANT\n",
    "                            080 NM NORTHWEST QUADRANT\n",
    "   RADIUS OF 034 KT WINDS - 150 NM NORTHEAST QUADRANT\n",
    "                            135 NM SOUTHEAST QUADRANT\n",
    "                            135 NM SOUTHWEST QUADRANT\n",
    "                            150 NM NORTHWEST QUADRANT\n",
    "   VECTOR TO 48 HR POSIT: 290 DEG/ 12 KTS\n",
    "    ---\n",
    "   EXTENDED OUTLOOK:\n",
    "   48 HRS, VALID AT:\n",
    "   060600Z --- 21.4N 129.8E\n",
    "   MAX SUSTAINED WINDS - 130 KT, GUSTS 160 KT\n",
    "   WIND RADII VALID OVER OPEN WATER ONLY\n",
    "   RADIUS OF 064 KT WINDS - 045 NM NORTHEAST QUADRANT\n",
    "                            040 NM SOUTHEAST QUADRANT\n",
    "                            040 NM SOUTHWEST QUADRANT\n",
    "                            040 NM NORTHWEST QUADRANT\n",
    "   RADIUS OF 050 KT WINDS - 080 NM NORTHEAST QUADRANT\n",
    "                            070 NM SOUTHEAST QUADRANT\n",
    "                            070 NM SOUTHWEST QUADRANT\n",
    "                            080 NM NORTHWEST QUADRANT\n",
    "   RADIUS OF 034 KT WINDS - 150 NM NORTHEAST QUADRANT\n",
    "                            135 NM SOUTHEAST QUADRANT\n",
    "                            135 NM SOUTHWEST QUADRANT\n",
    "                            150 NM NORTHWEST QUADRANT\n",
    "   VECTOR TO 72 HR POSIT: 290 DEG/ 12 KTS\n",
    "    ---\n",
    "   72 HRS, VALID AT:\n",
    "   070600Z --- 23.1N 125.1E\n",
    "   MAX SUSTAINED WINDS - 120 KT, GUSTS 145 KT\n",
    "   WIND RADII VALID OVER OPEN WATER ONLY\n",
    "   RADIUS OF 064 KT WINDS - 045 NM NORTHEAST QUADRANT\n",
    "                            040 NM SOUTHEAST QUADRANT\n",
    "                            040 NM SOUTHWEST QUADRANT\n",
    "                            045 NM NORTHWEST QUADRANT\n",
    "   RADIUS OF 050 KT WINDS - 075 NM NORTHEAST QUADRANT\n",
    "                            070 NM SOUTHEAST QUADRANT\n",
    "                            070 NM SOUTHWEST QUADRANT\n",
    "                            075 NM NORTHWEST QUADRANT\n",
    "   RADIUS OF 034 KT WINDS - 145 NM NORTHEAST QUADRANT\n",
    "                            135 NM SOUTHEAST QUADRANT\n",
    "                            135 NM SOUTHWEST QUADRANT\n",
    "                            145 NM NORTHWEST QUADRANT\n",
    "   VECTOR TO 96 HR POSIT: 300 DEG/ 11 KTS\n",
    "    ---\n",
    "   LONG RANGE OUTLOOK:\n",
    "    ---\n",
    "   96 HRS, VALID AT:\n",
    "   080600Z --- 25.3N 120.7E\n",
    "   MAX SUSTAINED WINDS - 100 KT, GUSTS 125 KT\n",
    "   WIND RADII VALID OVER OPEN WATER ONLY\n",
    "   VECTOR TO 120 HR POSIT: 315 DEG/ 09 KTS\n",
    "    ---\n",
    "   120 HRS, VALID AT:\n",
    "   090600Z --- 27.9N 117.7E\n",
    "   MAX SUSTAINED WINDS - 065 KT, GUSTS 080 KT\n",
    "   WIND RADII VALID OVER OPEN WATER ONLY\n",
    "    ---\n",
    "REMARKS:\n",
    "040900Z POSITION NEAR 18.8N 137.8E.\n",
    "SUPER TYPHOON 13W (SOUDELOR), LOCATED APPROXIMATELY 750 NM\n",
    "SOUTHEAST OF KADENA AB, HAS TRACKED WEST-NORTHWESTWARD AT 13\n",
    "KNOTS OVER THE PAST SIX HOURS.\n",
    "MAXIMUM SIGNIFICANT WAVE HEIGHT AT 040600Z IS 48 FEET. NEXT\n",
    "WARNINGS AT 041500Z, 042100Z, 050300Z AND 050900Z.\n",
    "REFER TO TROPICAL DEPRESSION 14W (FOURTEEN) WARNINGS (WTPN32 PGTW)\n",
    "FOR SIX-HOURLY UPDATES.\n",
    "//\n",
    "1315072718 134N1750E  15\n",
    "1315072800 133N1732E  15\n",
    "1315072806 133N1716E  15\n",
    "1315072812 133N1698E  15\n",
    "1315072818 128N1679E  15\n",
    "1315072900 124N1658E  15\n",
    "1315072906 124N1639E  20\n",
    "1315072912 123N1627E  20\n",
    "1315072918 124N1617E  20\n",
    "1315073000 127N1610E  25\n",
    "1315073006 136N1599E  30\n",
    "1315073012 137N1591E  35\n",
    "1315073018 137N1586E  40\n",
    "1315073100 136N1576E  40\n",
    "1315073106 136N1566E  40\n",
    "1315073112 136N1556E  35\n",
    "1315073118 136N1543E  35\n",
    "1315080100 138N1530E  35\n",
    "1315080106 140N1521E  40\n",
    "1315080112 141N1508E  45\n",
    "1315080118 142N1498E  50\n",
    "1315080200 146N1483E  60\n",
    "1315080200 146N1483E  60\n",
    "1315080206 148N1468E  75\n",
    "1315080206 148N1468E  75\n",
    "1315080206 148N1468E  75\n",
    "1315080212 151N1459E  90\n",
    "1315080212 151N1459E  90\n",
    "1315080212 151N1459E  90\n",
    "1315080218 156N1450E 105\n",
    "1315080218 156N1450E 105\n",
    "1315080218 156N1450E 105\n",
    "1315080300 162N1441E 115\n",
    "1315080300 162N1441E 115\n",
    "1315080300 162N1441E 115\n",
    "1315080306 169N1429E 115\n",
    "1315080306 169N1429E 115\n",
    "1315080306 169N1429E 115\n",
    "1315080312 175N1418E 135\n",
    "1315080312 175N1418E 135\n",
    "1315080312 175N1418E 135\n",
    "1315080318 178N1407E 155\n",
    "1315080318 178N1407E 155\n",
    "1315080318 178N1407E 155\n",
    "1315080400 182N1396E 155\n",
    "1315080400 182N1396E 155\n",
    "1315080400 182N1396E 155\n",
    "1315080406 186N1383E 140\n",
    "1315080406 186N1383E 140\n",
    "1315080406 186N1383E 140\n",
    "NNNN"
   ]
  },
  {
   "cell_type": "markdown",
   "metadata": {},
   "source": [
    "JTWC also has a post-analysis for Best Track information at http://www.usno.navy.mil/NOOC/nmfc-ph/RSS/jtwc/best_tracks/ which however are updated annualy (For more info see [Best Track](BestTrack.ipynb)). "
   ]
  },
  {
   "cell_type": "markdown",
   "metadata": {},
   "source": [
    "The US military has an extended research division that provides also additional resources including satelite derived data. These are available at the Naval research Laboratory (http://www.nrlmry.navy.mil/). These services include the Automated Tropical Cyclone Forecasting System (ATCF - http://www.nrlmry.navy.mil/atcf_web/index1.html ) which provides an computer automated process for operational users such as the JTWC, NHC, HWRF etc. They also have Numerical  Weather Forecasting for global weather and TC in particular ( http://www.nrlmry.navy.mil/coamps-web/web/tc ). For more info see [NRL](NRL.ipynb)."
   ]
  },
  {
   "cell_type": "markdown",
   "metadata": {},
   "source": [
    "The main source is the JTWC. However the Tokyo Typhoon Center (TTC) issues also bulletins. These can be found at their own website http://www.jma.go.jp/en/typh/ where they can be also be retrieved from an 'experimental' RSS feed at http://www.data.jma.go.jp/fcd/yoho/cap-rsmctk/atom.xml. These info are also available at the WMO since the TTC is the official RMSC for the westerm pacific. "
   ]
  },
  {
   "cell_type": "markdown",
   "metadata": {},
   "source": [
    "We can read the feed from the above link as (the current info will be displayed if available)"
   ]
  },
  {
   "cell_type": "code",
   "execution_count": 7,
   "metadata": {
    "collapsed": false
   },
   "outputs": [
    {
     "data": {
      "text/plain": [
       "u'<pre>TYPHOON LIONROCK (1610)\\nANALYSIS (3006UTC):\\nPressure 965 hPa\\nat 37.7 degree north 142.0 degree east\\nposition FAIR (radius of 55 to 110 km).\\nMoving north-north-west 21 knots.\\nMax winds 65 knots.\\nGust 95 knots.\\n30 knot wind radius 600 km south 440 km north.\\n50 knot wind radius 220 km north-east 110 km south-west.\\n</pre>'"
      ]
     },
     "execution_count": 7,
     "metadata": {},
     "output_type": "execute_result"
    }
   ],
   "source": [
    "import feedparser\n",
    "\n",
    "url='http://www.data.jma.go.jp/fcd/yoho/cap-rsmctk/atom.xml'\n",
    "\n",
    "jmafeed=feedparser.parse(url)\n",
    "\n",
    "\n",
    "data=jmafeed['entries']\n",
    "data[0]['summary']"
   ]
  },
  {
   "cell_type": "markdown",
   "metadata": {},
   "source": [
    "In addition TTC provides re-analysis data for past events in the form of 'Best Track Data' at  http://www.jma.go.jp/jma/jma-eng/jma-center/rsmc-hp-pub-eg/trackarchives.html. (For more info see [Best Track](BestTrack.ipynb)) Furthermore the newly operational Himawari satellite provides satellite images for the globe and more specific areas. These are available online at http://www.jma.go.jp/en/gms/index.html?area=6&element=0&mode=UTC. For more info see http://ds.data.jma.go.jp/mscweb/data/himawari/index.html"
   ]
  },
  {
   "cell_type": "markdown",
   "metadata": {},
   "source": [
    "## Additional services"
   ]
  },
  {
   "cell_type": "markdown",
   "metadata": {},
   "source": [
    "In addition to the operational services above there are websites that gather available data and provide relative information. Such sites are\n",
    "\n",
    "The Pacific Disaster Ceneter http://www.pdc.org/ : Information mainly from JTWC\n",
    "\n",
    "Weather Underground  http://www.wunderground.com/  : Incorporates NOAA data see http://www.wunderground.com/wundermap/, part of Weather Channel.\n",
    "\n",
    "NOAA environment visualization laboratory http://www.nnvl.noaa.gov/Default.php : for animations and satelite images\n"
   ]
  },
  {
   "cell_type": "markdown",
   "metadata": {},
   "source": [
    "## Numerical Weather Forecasts (NWF)"
   ]
  },
  {
   "cell_type": "markdown",
   "metadata": {},
   "source": [
    "Another recent source of information comes from global numerical simulations. These are performed by various organizations and some are deemed 'operational' while others are 'experimental'. The two main organization that produce global analysis and forecasting are the European Centre for Medium-Range Weather Forecasts (ECMWF) and NOAA (various divisions). \n",
    "\n",
    "ECMWF (http://www.ecmwf.int/) provides a plethora of simulated data including short and long-term forecasting. However unlike NOAA (see below) their data are not always available for free. For more info on available TC ECMWF data look at [ECMWF data](ECMWF data.ipynb). "
   ]
  },
  {
   "cell_type": "markdown",
   "metadata": {},
   "source": [
    "NOAA has several divisions that utilize a variety of models to compute various quantities. The more pertinent one is the Hurricane Weather Research and Forecast (HWRF). From HWRF website (http://www.emc.ncep.noaa.gov/gc_wmb/vxt/HWRF/) we read\n",
    "\n",
    "\n",
    "\"The HWRF system is composed of the WRF model software infrastructure, the Non-Hydrostatic Mesoscale Model (NMM) dynamic core, the three-dimensional Princeton Ocean Model (POM), the NCEP coupler, and a physics suite tailored to the tropics, including air-sea interactions over warm water and under high wind conditions, and boundary layer and cloud physics developed for hurricane forecasts. The atmosphere-ocean coupled HWRF system consists of multiple movable two-way interactive nested grids that follow the projected path of the storm. Atmospheric component of the HWRF model was coupled to the Princeton Ocean Model (POM) developed by GFDL/URI using a sophisticated coupler developed at NCEP for providing accurate representation of air-sea interactions. An advanced vortex initialization scheme and NCEP GSI based HWRF Data Assimilation System (HDAS) provide means to represent the initial location, intensity, size and structure of the inner core of a hurricane and it’s large-scale environment. The NCEP Global Forecast System (GFS) analysis and forecasts provide initial and boundary conditions for the HWRF model. POM uses a feature based initialization procedure for representing oceanic features such as the loop current, warm/cold core rings and the cold wake generated by the storm.\""
   ]
  },
  {
   "cell_type": "markdown",
   "metadata": {},
   "source": [
    "HWRF are providing operational info for TC in all basins since 2015. They also publish their raw data (every 6 hours) for the last 2 timestamps at http://ftpprd.ncep.noaa.gov/data/nccf/com/hur/prod/ and ftp://ftpprd.ncep.noaa.gov/pub/data/nccf/com/hur/prod/. Note that in the above links the GFS data mentioned above are also given. However, unlike HWRF, the GFS data are available for longer periods of time in various outlets. For more info see http://nomads.ncep.noaa.gov/ "
   ]
  },
  {
   "cell_type": "markdown",
   "metadata": {},
   "source": [
    "In addition the HWRF model is open sourced in the following location http://www.dtcenter.org/HurrWRF/users/. \n",
    "\n",
    "\"The WRF system contains two dynamical solvers, referred to as the ARW (Advanced Research WRF) core and the NMM (Nonhydrostatic Mesoscale Model) core. The ARW has been largely developed and maintained by the Mesoscale and Microscale Meteorology (MMM) Laboratory of the National Center for Atmospheric Research (NCAR), and its users' page is: ( http://www2.mmm.ucar.edu/wrf/users/ ). The NMM core was developed by the National Centers for Environmental Prediction, and its user support is provided by the Developmental Testbed Center. Its users' page is: http://www.dtcenter.org/wrf-nmm/users/WRF-NMM.\n",
    "\n",
    "NCAR is actually running a Tropical Cyclone Guidance Project with a lot of info and links available (http://www.ral.ucar.edu/hurricanes/). In particular info regarding another product provided in the operation HWRF page (see above) called Statistical Hurricane Intensity Prediction Scheme (SHIPS) can be found here http://rammb.cira.colostate.edu/research/tropical_cyclones/ships/ and here http://www.ral.ucar.edu/hurricanes/realtime/ ."
   ]
  },
  {
   "cell_type": "markdown",
   "metadata": {},
   "source": [
    "Another numerical Hurricane model that also provides modules for HWRF is the Geophysical Fluid Dynamics Laboratory's (GFDL) model. Info and real time forecast can be found here http://data1.gfdl.noaa.gov/hurricane/gfdl_ensemble/GFE_DEMO_2015.php?STORMID=09W&YMDH=2015070800_CHAN-HOM09W&prod=H1 and http://www.gfdl.noaa.gov/hurricane-portal."
   ]
  },
  {
   "cell_type": "markdown",
   "metadata": {},
   "source": [
    "JMA : http://www.jma.go.jp/jma/jma-eng/jma-center/nwp/nwp-top.htm"
   ]
  },
  {
   "cell_type": "markdown",
   "metadata": {},
   "source": [
    "## Satellite Driven Analysis"
   ]
  },
  {
   "cell_type": "markdown",
   "metadata": {},
   "source": [
    "Another NOAA division that produces an composite product based on satellite information is the NOAA Satellite and Information Service (NESDIS - http://www.nesdis.noaa.gov/). Their product related to TCs is called 'Multiplatform Tropical Cyclone Surface Winds Analysis (MTCSWA)' that provides satellite based wind estimates around TCs. According to their site \n",
    "\n",
    "\"This product combines information from five data sources to create a mid-level (near 700 hPa) wind analysis using a variational approach described in Knaff and DeMaria (2006). The resulting mid-level winds are then adjusted to the surface applying a very simple single column approach. Over the ocean an adjustment factor is applied, which is a function of radius from the center ranging from 0.9 to 0.7, and the winds are turned 20 degrees toward low pressure. Over land, the oceanic winds are reduced by an additional 20% and turned an additional 20 degrees toward low pressure.\n",
    "\n",
    "The six datasets used are the QuikSCAT scatterometer, which is adjusted upward to 700 hPa in the same manner as the surface winds are adjusted downward, ASCAT scatterometer (treated the same way as QuikSCAT), feature track winds in the mid-levels from the operational satellite centers, 2-d flight-level winds estimated from infrared imagery (see Mueller et al 2006 ) and 2-d winds created from Advanced Microwave Sounding Unit (AMSU)- derived height fields and solving the non-linear balance equations as described in Bessho et al (2006).\n",
    "\n",
    "Each of the input data are show in subpannels following the analysis (i.e., storm-relative). Shown are AMSU winds, Cloud-drift/IR/WV winds, IR-proxy winds and Scatterometer winds; QuikSCAT (BLUE) and ASCAT (RED). All input data in these pannels has been reduced to a 10-m land or oceanic exposurenon depending on the analysis time location (i.e., non-surface data has been reduced to a 10-m exposure).\"\n",
    "\n",
    "An extensive set of data can be found in the form of pictures at their development website in Colorado State University (http://rammb.cira.colostate.edu/products/tc_realtime/), while the raw data are available per TC at this address \n",
    "ftp://satepsanone.nesdis.noaa.gov/MTCSWA/. Note that availability of data has an expiration date (roughly a month or so).\n",
    "\n",
    "Information regarding additional TC products can be found at http://www.ssd.noaa.gov/PS/TROP/index.html. These include except the MTCSWA above the so called Advanced Dvorak Technique (ADT). For more see the Development site at the University of Winsconsin-Madison (http://tropic.ssec.wisc.edu/misc/adt/info.html). The description of the method there states\n",
    "\n",
    "\"The Advanced Dvorak Technique (ADT) utilizes longwave-infrared, temperature measurements from geostationary satellites to estimate tropical cyclone (TC) intensity. The ADT currently utilizes an objective storm center determination scheme and cloud pattern determination logic to remove the subjectivity aspect from the intensity estimation process. It also can be applied to all phases of the TC lifecycle; something that previous objective schemes could not do. Finally, the ADT makes use of statistical analysis results obtained from a 10+ year sample of North Atlantic storms, along with a significant sample of West and East Pacific storms, covering the entire spectrum of TC intensities to derive a regression-based intensity value estimate for various phases of the TC lifecycle.\"\n",
    "\n",
    "The main page for TCs of the University of Winsconsin-Madison also serves as a portal to information for active TCs http://tropic.ssec.wisc.edu/. A click on a current TC launches a viewer where all current satellite driven information can be overlayed. "
   ]
  },
  {
   "cell_type": "markdown",
   "metadata": {},
   "source": [
    "# Satellite data"
   ]
  },
  {
   "cell_type": "markdown",
   "metadata": {},
   "source": [
    "The most important info needed for analysis of a TC is the pressure and wind field around it. In terms of wind field the satellite analysis uses a number of satellites and technics for computing the surface wind vectors (SW). All the available sources with graphs can be found at http://manati.star.nesdis.noaa.gov/datasets/ASCATData.php and include the currently operational ASCAT (METOP-A,B) RapidSCAT (http://www.nasa.gov/mission_pages/station/research/experiments/1067.html ) and WindSAT. One can click on the pixeled graph for a close-up. In addition by clicking on the corresponding link of the service and navigate to 'storm data' one can get graphs for specific TC in all basins ( e.g. http://manati.star.nesdis.noaa.gov/datasets/WindSATData.php?parname=storm ). The actual data can be found in the OPeNDAP service run by NASA at this address  http://podaac.jpl.nasa.gov/datasetlist where one can choose the prefered 'Collection', e.g. 'Quick Scatterometer' would lead us to  http://podaac.jpl.nasa.gov/datasetlist?ids=Collections&values=QUIKSCAT&view=list where we can choose the QuickSCAT data server. \n",
    "\n",
    "The same way we can get to \n",
    "\n",
    "rapidscat: http://podaac-opendap.jpl.nasa.gov/opendap/allData/rapidscat/L2B12/v1.1/2015/\n",
    "\n",
    "ascat(meteop b) : http://podaac-opendap.jpl.nasa.gov/opendap/allData/ascat/preview/L2/metop_b/coastal_opt/\n",
    "\n",
    "ascat(mteop a) : http://podaac-opendap.jpl.nasa.gov/opendap/allData/ascat/preview/L2/metop_a/coastal_opt/\n",
    "\n",
    "windsat : http://podaac-opendap.jpl.nasa.gov/opendap/allData/windsat/L3/rss/v7/"
   ]
  },
  {
   "cell_type": "markdown",
   "metadata": {},
   "source": [
    "Information about available satellite data can also be found at the eSurge website http://www.storm-surge.info/data-access. Windsat data are also given as graphs in reference to TCs here http://www.remss.com/storm-watch ."
   ]
  },
  {
   "cell_type": "markdown",
   "metadata": {},
   "source": [
    "One of the newest satellites in operation is the Japanese himawari-8 that covers the Central & Western Pacific. A four weeks archive can be found at http://rammb.cira.colostate.edu/ramsdis/online/himawari-8.asp#Japan. Additional imagery by other sources can be found in http://www.ssd.noaa.gov/imagery/ ."
   ]
  },
  {
   "cell_type": "markdown",
   "metadata": {},
   "source": [
    "Data and info regarding scatterometers can also be accessed via the Royal Netherlands Meteorogical Institute http://www.knmi.nl/scatterometer/."
   ]
  },
  {
   "cell_type": "markdown",
   "metadata": {},
   "source": [
    "# Simplified models"
   ]
  },
  {
   "cell_type": "markdown",
   "metadata": {},
   "source": [
    "## Dvorak technique"
   ]
  },
  {
   "cell_type": "markdown",
   "metadata": {},
   "source": [
    "## Holland Parameter"
   ]
  },
  {
   "cell_type": "markdown",
   "metadata": {},
   "source": [
    "## Simplified Holland Parameter"
   ]
  },
  {
   "cell_type": "markdown",
   "metadata": {},
   "source": [
    "# Model comparison - Analysis"
   ]
  },
  {
   "cell_type": "markdown",
   "metadata": {},
   "source": [
    "# Discussions - Suggestions"
   ]
  },
  {
   "cell_type": "markdown",
   "metadata": {},
   "source": [
    "# Misc"
   ]
  },
  {
   "cell_type": "markdown",
   "metadata": {},
   "source": [
    "NOAA among other organizations is developing a program for aggregating all their data in ERDDAP servers. Such servers can be found here http://upwell.pfeg.noaa.gov/erddap/index.html and here http://coastwatch.pfeg.noaa.gov/erddap/index.html.  Note that this is a work in progress. A similar server is actually operational here in JRC (  https://bluehub.jrc.ec.europa.eu/erddap/index.html ) where a variety of NOAA data can be found.  "
   ]
  },
  {
   "cell_type": "markdown",
   "metadata": {},
   "source": [
    "A repository of NOAA data can also be found here http://www.nco.ncep.noaa.gov/pmb/products/ ."
   ]
  },
  {
   "cell_type": "markdown",
   "metadata": {},
   "source": [
    "A variety of maps and images (some related to TCs) can be found here http://earthobservatory.nasa.gov/?eocn=topnav&eoci=home and here http://www.nasa.gov/mission_pages/hurricanes/main/index.html ."
   ]
  },
  {
   "cell_type": "markdown",
   "metadata": {},
   "source": [
    "A nice up to date portal at wikipedia with info, pictures and links https://en.wikipedia.org/wiki/Portal:Tropical_cyclones."
   ]
  },
  {
   "cell_type": "markdown",
   "metadata": {},
   "source": [
    "JTWC bulletins archive in NOOA http://weather.noaa.gov/pub/data/raw/ with the folders refering to the code of the TC e.g. 'WTPN31 PGTW 060900' ->  http://weather.noaa.gov/pub/data/raw/wt/wtpn31.pgtw..txt."
   ]
  },
  {
   "cell_type": "code",
   "execution_count": null,
   "metadata": {
    "collapsed": false
   },
   "outputs": [],
   "source": []
  }
 ],
 "metadata": {
  "kernelspec": {
   "display_name": "Python 2",
   "language": "python",
   "name": "python2"
  },
  "language_info": {
   "codemirror_mode": {
    "name": "ipython",
    "version": 2
   },
   "file_extension": ".py",
   "mimetype": "text/x-python",
   "name": "python",
   "nbconvert_exporter": "python",
   "pygments_lexer": "ipython2",
   "version": "2.7.12"
  }
 },
 "nbformat": 4,
 "nbformat_minor": 0
}
