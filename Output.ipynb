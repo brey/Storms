{
 "cells": [
  {
   "cell_type": "markdown",
   "metadata": {},
   "source": [
    "#  Output forcing field"
   ]
  },
  {
   "cell_type": "code",
   "execution_count": null,
   "metadata": {
    "collapsed": true
   },
   "outputs": [],
   "source": []
  },
  {
   "cell_type": "code",
   "execution_count": 1,
   "metadata": {
    "collapsed": true
   },
   "outputs": [],
   "source": [
    "import numpy as np\n",
    "import pandas as pd"
   ]
  },
  {
   "cell_type": "code",
   "execution_count": 7,
   "metadata": {
    "collapsed": true
   },
   "outputs": [],
   "source": [
    "%matplotlib inline"
   ]
  },
  {
   "cell_type": "markdown",
   "metadata": {},
   "source": [
    "## Definitions"
   ]
  },
  {
   "cell_type": "code",
   "execution_count": null,
   "metadata": {
    "collapsed": true
   },
   "outputs": [],
   "source": [
    "def pres(r):\n",
    "    return pn+dph*np.exp(-(rmaxh/r)**bh)"
   ]
  },
  {
   "cell_type": "code",
   "execution_count": null,
   "metadata": {
    "collapsed": true
   },
   "outputs": [],
   "source": [
    "def hvel2d(l1,l2):\n",
    "    r=np.sqrt(l1**2+l2**2)\n",
    "    xh=0.5+(r-rmaxh)/(maxR-rmaxh)*kh\n",
    "    ur=(bh/rhoa*(rmaxh/r)**bh*dph*np.exp(-(rmaxh/r)**bh))**xh\n",
    "    theta=np.arctan2(l2,l1)\n",
    "    ux=-ur*np.sin(theta)\n",
    "    uy=ur*np.cos(theta)\n",
    "    return ux+vtx,uy+vty, pres(r)"
   ]
  },
  {
   "cell_type": "markdown",
   "metadata": {},
   "source": [
    "## Read OutData file"
   ]
  },
  {
   "cell_type": "code",
   "execution_count": 26,
   "metadata": {
    "collapsed": true
   },
   "outputs": [],
   "source": [
    "tc=pd.read_csv('test/step3.txt',delimiter='\\t')"
   ]
  },
  {
   "cell_type": "code",
   "execution_count": 27,
   "metadata": {
    "collapsed": false
   },
   "outputs": [
    {
     "data": {
      "text/html": [
       "<div>\n",
       "<table border=\"1\" class=\"dataframe\">\n",
       "  <thead>\n",
       "    <tr style=\"text-align: right;\">\n",
       "      <th></th>\n",
       "      <th>time</th>\n",
       "      <th>t</th>\n",
       "      <th>hurName</th>\n",
       "      <th>lat</th>\n",
       "      <th>lon</th>\n",
       "      <th>pcenter</th>\n",
       "      <th>penv</th>\n",
       "      <th>rmax</th>\n",
       "      <th>vmax</th>\n",
       "      <th>34ne</th>\n",
       "      <th>...</th>\n",
       "      <th>w34sw</th>\n",
       "      <th>w34nw</th>\n",
       "      <th>vmax0vt</th>\n",
       "      <th>b</th>\n",
       "      <th>dph</th>\n",
       "      <th>k</th>\n",
       "      <th>np.max(V)</th>\n",
       "      <th>rmaxh</th>\n",
       "      <th>rmse</th>\n",
       "      <th>vmax1</th>\n",
       "    </tr>\n",
       "  </thead>\n",
       "  <tbody>\n",
       "    <tr>\n",
       "      <th>0</th>\n",
       "      <td>0.0</td>\n",
       "      <td>2010-10-29 06:00:00</td>\n",
       "      <td>INVEST</td>\n",
       "      <td>9.0</td>\n",
       "      <td>-53.7</td>\n",
       "      <td>1006</td>\n",
       "      <td>1009</td>\n",
       "      <td>222240.0</td>\n",
       "      <td>15.433333</td>\n",
       "      <td>0.0</td>\n",
       "      <td>...</td>\n",
       "      <td>0.000000</td>\n",
       "      <td>0.000000</td>\n",
       "      <td>5.069814</td>\n",
       "      <td>NaN</td>\n",
       "      <td>NaN</td>\n",
       "      <td>NaN</td>\n",
       "      <td>NaN</td>\n",
       "      <td>NaN</td>\n",
       "      <td>NaN</td>\n",
       "      <td>NaN</td>\n",
       "    </tr>\n",
       "    <tr>\n",
       "      <th>1</th>\n",
       "      <td>6.0</td>\n",
       "      <td>2010-10-29 12:00:00</td>\n",
       "      <td>INVEST</td>\n",
       "      <td>9.8</td>\n",
       "      <td>-55.3</td>\n",
       "      <td>1003</td>\n",
       "      <td>1009</td>\n",
       "      <td>166680.0</td>\n",
       "      <td>18.005556</td>\n",
       "      <td>138900.0</td>\n",
       "      <td>...</td>\n",
       "      <td>18.059481</td>\n",
       "      <td>16.718113</td>\n",
       "      <td>18.059481</td>\n",
       "      <td>0.834438</td>\n",
       "      <td>1258.498359</td>\n",
       "      <td>0.243277</td>\n",
       "      <td>18.059481</td>\n",
       "      <td>21682.563288</td>\n",
       "      <td>0.851460</td>\n",
       "      <td>18.328515</td>\n",
       "    </tr>\n",
       "    <tr>\n",
       "      <th>2</th>\n",
       "      <td>12.0</td>\n",
       "      <td>2010-10-29 18:00:00</td>\n",
       "      <td>TOMAS</td>\n",
       "      <td>10.8</td>\n",
       "      <td>-56.8</td>\n",
       "      <td>998</td>\n",
       "      <td>1009</td>\n",
       "      <td>55560.0</td>\n",
       "      <td>23.150000</td>\n",
       "      <td>166680.0</td>\n",
       "      <td>...</td>\n",
       "      <td>18.366306</td>\n",
       "      <td>17.301589</td>\n",
       "      <td>18.366306</td>\n",
       "      <td>0.818659</td>\n",
       "      <td>1329.926395</td>\n",
       "      <td>0.237769</td>\n",
       "      <td>18.366306</td>\n",
       "      <td>21661.550932</td>\n",
       "      <td>0.640642</td>\n",
       "      <td>18.662474</td>\n",
       "    </tr>\n",
       "    <tr>\n",
       "      <th>3</th>\n",
       "      <td>18.0</td>\n",
       "      <td>2010-10-30 00:00:00</td>\n",
       "      <td>TOMAS</td>\n",
       "      <td>11.9</td>\n",
       "      <td>-57.8</td>\n",
       "      <td>999</td>\n",
       "      <td>1009</td>\n",
       "      <td>55560.0</td>\n",
       "      <td>28.294444</td>\n",
       "      <td>166680.0</td>\n",
       "      <td>...</td>\n",
       "      <td>18.525193</td>\n",
       "      <td>17.452947</td>\n",
       "      <td>25.859722</td>\n",
       "      <td>1.075345</td>\n",
       "      <td>1985.439213</td>\n",
       "      <td>0.203935</td>\n",
       "      <td>25.859722</td>\n",
       "      <td>18222.673691</td>\n",
       "      <td>2.022738</td>\n",
       "      <td>26.134012</td>\n",
       "    </tr>\n",
       "    <tr>\n",
       "      <th>4</th>\n",
       "      <td>24.0</td>\n",
       "      <td>2010-10-30 06:00:00</td>\n",
       "      <td>TOMAS</td>\n",
       "      <td>12.7</td>\n",
       "      <td>-58.9</td>\n",
       "      <td>997</td>\n",
       "      <td>1009</td>\n",
       "      <td>55560.0</td>\n",
       "      <td>30.866667</td>\n",
       "      <td>166680.0</td>\n",
       "      <td>...</td>\n",
       "      <td>18.632523</td>\n",
       "      <td>17.383112</td>\n",
       "      <td>25.728973</td>\n",
       "      <td>1.128241</td>\n",
       "      <td>1875.973405</td>\n",
       "      <td>0.243425</td>\n",
       "      <td>25.728973</td>\n",
       "      <td>18239.788040</td>\n",
       "      <td>1.978298</td>\n",
       "      <td>26.020643</td>\n",
       "    </tr>\n",
       "  </tbody>\n",
       "</table>\n",
       "<p>5 rows × 47 columns</p>\n",
       "</div>"
      ],
      "text/plain": [
       "   time                    t      hurName   lat   lon  pcenter  penv  \\\n",
       "0   0.0  2010-10-29 06:00:00       INVEST   9.0 -53.7     1006  1009   \n",
       "1   6.0  2010-10-29 12:00:00       INVEST   9.8 -55.3     1003  1009   \n",
       "2  12.0  2010-10-29 18:00:00        TOMAS  10.8 -56.8      998  1009   \n",
       "3  18.0  2010-10-30 00:00:00        TOMAS  11.9 -57.8      999  1009   \n",
       "4  24.0  2010-10-30 06:00:00        TOMAS  12.7 -58.9      997  1009   \n",
       "\n",
       "       rmax       vmax      34ne    ...          w34sw      w34nw    vmax0vt  \\\n",
       "0  222240.0  15.433333       0.0    ...       0.000000   0.000000   5.069814   \n",
       "1  166680.0  18.005556  138900.0    ...      18.059481  16.718113  18.059481   \n",
       "2   55560.0  23.150000  166680.0    ...      18.366306  17.301589  18.366306   \n",
       "3   55560.0  28.294444  166680.0    ...      18.525193  17.452947  25.859722   \n",
       "4   55560.0  30.866667  166680.0    ...      18.632523  17.383112  25.728973   \n",
       "\n",
       "          b          dph         k  np.max(V)         rmaxh      rmse  \\\n",
       "0       NaN          NaN       NaN        NaN           NaN       NaN   \n",
       "1  0.834438  1258.498359  0.243277  18.059481  21682.563288  0.851460   \n",
       "2  0.818659  1329.926395  0.237769  18.366306  21661.550932  0.640642   \n",
       "3  1.075345  1985.439213  0.203935  25.859722  18222.673691  2.022738   \n",
       "4  1.128241  1875.973405  0.243425  25.728973  18239.788040  1.978298   \n",
       "\n",
       "       vmax1  \n",
       "0        NaN  \n",
       "1  18.328515  \n",
       "2  18.662474  \n",
       "3  26.134012  \n",
       "4  26.020643  \n",
       "\n",
       "[5 rows x 47 columns]"
      ]
     },
     "execution_count": 27,
     "metadata": {},
     "output_type": "execute_result"
    }
   ],
   "source": [
    "tc.head()"
   ]
  },
  {
   "cell_type": "markdown",
   "metadata": {},
   "source": [
    "Now we need to interpolate for every hour the location and compute translational velocities while keeping the rest of the attributes the same"
   ]
  },
  {
   "cell_type": "code",
   "execution_count": 28,
   "metadata": {
    "collapsed": true
   },
   "outputs": [],
   "source": [
    "tstamps = tc['t'].apply(pd.to_datetime)"
   ]
  },
  {
   "cell_type": "code",
   "execution_count": 29,
   "metadata": {
    "collapsed": false
   },
   "outputs": [],
   "source": [
    "tc = tc.set_index(tstamps)"
   ]
  },
  {
   "cell_type": "code",
   "execution_count": 30,
   "metadata": {
    "collapsed": false
   },
   "outputs": [
    {
     "data": {
      "text/html": [
       "<div>\n",
       "<table border=\"1\" class=\"dataframe\">\n",
       "  <thead>\n",
       "    <tr style=\"text-align: right;\">\n",
       "      <th></th>\n",
       "      <th>time</th>\n",
       "      <th>t</th>\n",
       "      <th>hurName</th>\n",
       "      <th>lat</th>\n",
       "      <th>lon</th>\n",
       "      <th>pcenter</th>\n",
       "      <th>penv</th>\n",
       "      <th>rmax</th>\n",
       "      <th>vmax</th>\n",
       "      <th>34ne</th>\n",
       "      <th>...</th>\n",
       "      <th>w34sw</th>\n",
       "      <th>w34nw</th>\n",
       "      <th>vmax0vt</th>\n",
       "      <th>b</th>\n",
       "      <th>dph</th>\n",
       "      <th>k</th>\n",
       "      <th>np.max(V)</th>\n",
       "      <th>rmaxh</th>\n",
       "      <th>rmse</th>\n",
       "      <th>vmax1</th>\n",
       "    </tr>\n",
       "    <tr>\n",
       "      <th>t</th>\n",
       "      <th></th>\n",
       "      <th></th>\n",
       "      <th></th>\n",
       "      <th></th>\n",
       "      <th></th>\n",
       "      <th></th>\n",
       "      <th></th>\n",
       "      <th></th>\n",
       "      <th></th>\n",
       "      <th></th>\n",
       "      <th></th>\n",
       "      <th></th>\n",
       "      <th></th>\n",
       "      <th></th>\n",
       "      <th></th>\n",
       "      <th></th>\n",
       "      <th></th>\n",
       "      <th></th>\n",
       "      <th></th>\n",
       "      <th></th>\n",
       "      <th></th>\n",
       "    </tr>\n",
       "  </thead>\n",
       "  <tbody>\n",
       "    <tr>\n",
       "      <th>2010-10-29 06:00:00</th>\n",
       "      <td>0.0</td>\n",
       "      <td>2010-10-29 06:00:00</td>\n",
       "      <td>INVEST</td>\n",
       "      <td>9.0</td>\n",
       "      <td>-53.7</td>\n",
       "      <td>1006</td>\n",
       "      <td>1009</td>\n",
       "      <td>222240.0</td>\n",
       "      <td>15.433333</td>\n",
       "      <td>0.0</td>\n",
       "      <td>...</td>\n",
       "      <td>0.000000</td>\n",
       "      <td>0.000000</td>\n",
       "      <td>5.069814</td>\n",
       "      <td>NaN</td>\n",
       "      <td>NaN</td>\n",
       "      <td>NaN</td>\n",
       "      <td>NaN</td>\n",
       "      <td>NaN</td>\n",
       "      <td>NaN</td>\n",
       "      <td>NaN</td>\n",
       "    </tr>\n",
       "    <tr>\n",
       "      <th>2010-10-29 12:00:00</th>\n",
       "      <td>6.0</td>\n",
       "      <td>2010-10-29 12:00:00</td>\n",
       "      <td>INVEST</td>\n",
       "      <td>9.8</td>\n",
       "      <td>-55.3</td>\n",
       "      <td>1003</td>\n",
       "      <td>1009</td>\n",
       "      <td>166680.0</td>\n",
       "      <td>18.005556</td>\n",
       "      <td>138900.0</td>\n",
       "      <td>...</td>\n",
       "      <td>18.059481</td>\n",
       "      <td>16.718113</td>\n",
       "      <td>18.059481</td>\n",
       "      <td>0.834438</td>\n",
       "      <td>1258.498359</td>\n",
       "      <td>0.243277</td>\n",
       "      <td>18.059481</td>\n",
       "      <td>21682.563288</td>\n",
       "      <td>0.851460</td>\n",
       "      <td>18.328515</td>\n",
       "    </tr>\n",
       "    <tr>\n",
       "      <th>2010-10-29 18:00:00</th>\n",
       "      <td>12.0</td>\n",
       "      <td>2010-10-29 18:00:00</td>\n",
       "      <td>TOMAS</td>\n",
       "      <td>10.8</td>\n",
       "      <td>-56.8</td>\n",
       "      <td>998</td>\n",
       "      <td>1009</td>\n",
       "      <td>55560.0</td>\n",
       "      <td>23.150000</td>\n",
       "      <td>166680.0</td>\n",
       "      <td>...</td>\n",
       "      <td>18.366306</td>\n",
       "      <td>17.301589</td>\n",
       "      <td>18.366306</td>\n",
       "      <td>0.818659</td>\n",
       "      <td>1329.926395</td>\n",
       "      <td>0.237769</td>\n",
       "      <td>18.366306</td>\n",
       "      <td>21661.550932</td>\n",
       "      <td>0.640642</td>\n",
       "      <td>18.662474</td>\n",
       "    </tr>\n",
       "    <tr>\n",
       "      <th>2010-10-30 00:00:00</th>\n",
       "      <td>18.0</td>\n",
       "      <td>2010-10-30 00:00:00</td>\n",
       "      <td>TOMAS</td>\n",
       "      <td>11.9</td>\n",
       "      <td>-57.8</td>\n",
       "      <td>999</td>\n",
       "      <td>1009</td>\n",
       "      <td>55560.0</td>\n",
       "      <td>28.294444</td>\n",
       "      <td>166680.0</td>\n",
       "      <td>...</td>\n",
       "      <td>18.525193</td>\n",
       "      <td>17.452947</td>\n",
       "      <td>25.859722</td>\n",
       "      <td>1.075345</td>\n",
       "      <td>1985.439213</td>\n",
       "      <td>0.203935</td>\n",
       "      <td>25.859722</td>\n",
       "      <td>18222.673691</td>\n",
       "      <td>2.022738</td>\n",
       "      <td>26.134012</td>\n",
       "    </tr>\n",
       "    <tr>\n",
       "      <th>2010-10-30 06:00:00</th>\n",
       "      <td>24.0</td>\n",
       "      <td>2010-10-30 06:00:00</td>\n",
       "      <td>TOMAS</td>\n",
       "      <td>12.7</td>\n",
       "      <td>-58.9</td>\n",
       "      <td>997</td>\n",
       "      <td>1009</td>\n",
       "      <td>55560.0</td>\n",
       "      <td>30.866667</td>\n",
       "      <td>166680.0</td>\n",
       "      <td>...</td>\n",
       "      <td>18.632523</td>\n",
       "      <td>17.383112</td>\n",
       "      <td>25.728973</td>\n",
       "      <td>1.128241</td>\n",
       "      <td>1875.973405</td>\n",
       "      <td>0.243425</td>\n",
       "      <td>25.728973</td>\n",
       "      <td>18239.788040</td>\n",
       "      <td>1.978298</td>\n",
       "      <td>26.020643</td>\n",
       "    </tr>\n",
       "  </tbody>\n",
       "</table>\n",
       "<p>5 rows × 47 columns</p>\n",
       "</div>"
      ],
      "text/plain": [
       "                     time                    t      hurName   lat   lon  \\\n",
       "t                                                                         \n",
       "2010-10-29 06:00:00   0.0  2010-10-29 06:00:00       INVEST   9.0 -53.7   \n",
       "2010-10-29 12:00:00   6.0  2010-10-29 12:00:00       INVEST   9.8 -55.3   \n",
       "2010-10-29 18:00:00  12.0  2010-10-29 18:00:00        TOMAS  10.8 -56.8   \n",
       "2010-10-30 00:00:00  18.0  2010-10-30 00:00:00        TOMAS  11.9 -57.8   \n",
       "2010-10-30 06:00:00  24.0  2010-10-30 06:00:00        TOMAS  12.7 -58.9   \n",
       "\n",
       "                     pcenter  penv      rmax       vmax      34ne    ...      \\\n",
       "t                                                                    ...       \n",
       "2010-10-29 06:00:00     1006  1009  222240.0  15.433333       0.0    ...       \n",
       "2010-10-29 12:00:00     1003  1009  166680.0  18.005556  138900.0    ...       \n",
       "2010-10-29 18:00:00      998  1009   55560.0  23.150000  166680.0    ...       \n",
       "2010-10-30 00:00:00      999  1009   55560.0  28.294444  166680.0    ...       \n",
       "2010-10-30 06:00:00      997  1009   55560.0  30.866667  166680.0    ...       \n",
       "\n",
       "                         w34sw      w34nw    vmax0vt         b          dph  \\\n",
       "t                                                                             \n",
       "2010-10-29 06:00:00   0.000000   0.000000   5.069814       NaN          NaN   \n",
       "2010-10-29 12:00:00  18.059481  16.718113  18.059481  0.834438  1258.498359   \n",
       "2010-10-29 18:00:00  18.366306  17.301589  18.366306  0.818659  1329.926395   \n",
       "2010-10-30 00:00:00  18.525193  17.452947  25.859722  1.075345  1985.439213   \n",
       "2010-10-30 06:00:00  18.632523  17.383112  25.728973  1.128241  1875.973405   \n",
       "\n",
       "                            k  np.max(V)         rmaxh      rmse      vmax1  \n",
       "t                                                                            \n",
       "2010-10-29 06:00:00       NaN        NaN           NaN       NaN        NaN  \n",
       "2010-10-29 12:00:00  0.243277  18.059481  21682.563288  0.851460  18.328515  \n",
       "2010-10-29 18:00:00  0.237769  18.366306  21661.550932  0.640642  18.662474  \n",
       "2010-10-30 00:00:00  0.203935  25.859722  18222.673691  2.022738  26.134012  \n",
       "2010-10-30 06:00:00  0.243425  25.728973  18239.788040  1.978298  26.020643  \n",
       "\n",
       "[5 rows x 47 columns]"
      ]
     },
     "execution_count": 30,
     "metadata": {},
     "output_type": "execute_result"
    }
   ],
   "source": [
    "tc.head()"
   ]
  },
  {
   "cell_type": "code",
   "execution_count": 34,
   "metadata": {
    "collapsed": false
   },
   "outputs": [],
   "source": [
    "tc_ = tc.resample('H').mean()"
   ]
  },
  {
   "cell_type": "code",
   "execution_count": 43,
   "metadata": {
    "collapsed": false
   },
   "outputs": [
    {
     "data": {
      "text/plain": [
       "<matplotlib.axes._subplots.AxesSubplot at 0x115eb83d0>"
      ]
     },
     "execution_count": 43,
     "metadata": {},
     "output_type": "execute_result"
    },
    {
     "data": {
      "image/png": "[encoded data removed]",
      "text/plain": [
       "<matplotlib.figure.Figure at 0x115f12550>"
      ]
     },
     "metadata": {},
     "output_type": "display_data"
    }
   ],
   "source": [
    "ax = tc_['lat'].interpolate(method='linear').plot()\n",
    "tc_['lat'].plot(ax=ax, marker='o')"
   ]
  },
  {
   "cell_type": "code",
   "execution_count": 49,
   "metadata": {
    "collapsed": false
   },
   "outputs": [],
   "source": [
    "data = tc_.interpolate(method='cubic')"
   ]
  },
  {
   "cell_type": "code",
   "execution_count": 51,
   "metadata": {
    "collapsed": false
   },
   "outputs": [
    {
     "data": {
      "text/plain": [
       "<matplotlib.axes._subplots.AxesSubplot at 0x11696f190>"
      ]
     },
     "execution_count": 51,
     "metadata": {},
     "output_type": "execute_result"
    },
    {
     "data": {
      "image/png": "[encoded data removed]",
      "text/plain": [
       "<matplotlib.figure.Figure at 0x113bb7410>"
      ]
     },
     "metadata": {},
     "output_type": "display_data"
    }
   ],
   "source": [
    "data['rmax'].plot()"
   ]
  },
  {
   "cell_type": "code",
   "execution_count": null,
   "metadata": {
    "collapsed": true
   },
   "outputs": [],
   "source": [
    "# From lat lon to r, th"
   ]
  },
  {
   "cell_type": "code",
   "execution_count": null,
   "metadata": {
    "collapsed": true
   },
   "outputs": [],
   "source": []
  },
  {
   "cell_type": "code",
   "execution_count": null,
   "metadata": {
    "collapsed": true
   },
   "outputs": [],
   "source": [
    "xl=np.linspace(-maxR, maxR,1000)\n",
    "yl=np.linspace(-maxR, maxR,1000)\n",
    "q1,q2=np.meshgrid(xl,yl)\n",
    "vtx=-4.6\n",
    "vty=3.35"
   ]
  },
  {
   "cell_type": "code",
   "execution_count": null,
   "metadata": {
    "collapsed": true
   },
   "outputs": [],
   "source": [
    "zx,zy, pr=hvel2d(q1,q2)\n",
    "vel=np.sqrt(zx**2+zy**2)"
   ]
  }
 ],
 "metadata": {
  "kernelspec": {
   "display_name": "Python 2",
   "language": "python",
   "name": "python2"
  },
  "language_info": {
   "codemirror_mode": {
    "name": "ipython",
    "version": 2
   },
   "file_extension": ".py",
   "mimetype": "text/x-python",
   "name": "python",
   "nbconvert_exporter": "python",
   "pygments_lexer": "ipython2",
   "version": "2.7.12"
  },
  "widgets": {
   "state": {},
   "version": "2.0.10"
  }
 },
 "nbformat": 4,
 "nbformat_minor": 2
}
