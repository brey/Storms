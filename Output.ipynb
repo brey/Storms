{
 "cells": [
  {
   "cell_type": "markdown",
   "metadata": {
    "deletable": true,
    "editable": true
   },
   "source": [
    "#  Output forcing field"
   ]
  },
  {
   "cell_type": "code",
   "execution_count": null,
   "metadata": {
    "collapsed": true,
    "deletable": true,
    "editable": true
   },
   "outputs": [],
   "source": []
  },
  {
   "cell_type": "markdown",
   "metadata": {
    "deletable": true,
    "editable": true
   },
   "source": [
    "## Definitions"
   ]
  },
  {
   "cell_type": "code",
   "execution_count": 1,
   "metadata": {
    "collapsed": true,
    "deletable": true,
    "editable": true
   },
   "outputs": [],
   "source": [
    "import numpy as np"
   ]
  },
  {
   "cell_type": "code",
   "execution_count": 2,
   "metadata": {
    "collapsed": true,
    "deletable": true,
    "editable": true
   },
   "outputs": [],
   "source": [
    "import pandas as pd"
   ]
  },
  {
   "cell_type": "code",
   "execution_count": 3,
   "metadata": {
    "collapsed": true,
    "deletable": true,
    "editable": true
   },
   "outputs": [],
   "source": [
    "import matplotlib.pyplot as plt"
   ]
  },
  {
   "cell_type": "code",
   "execution_count": 14,
   "metadata": {
    "collapsed": true,
    "deletable": true,
    "editable": true
   },
   "outputs": [],
   "source": [
    "%matplotlib inline"
   ]
  },
  {
   "cell_type": "code",
   "execution_count": 5,
   "metadata": {
    "collapsed": false,
    "deletable": true,
    "editable": true
   },
   "outputs": [],
   "source": [
    "from parameters import *"
   ]
  },
  {
   "cell_type": "code",
   "execution_count": 6,
   "metadata": {
    "collapsed": true,
    "deletable": true,
    "editable": true
   },
   "outputs": [],
   "source": [
    "from ipywidgets import *"
   ]
  },
  {
   "cell_type": "markdown",
   "metadata": {
    "deletable": true,
    "editable": true
   },
   "source": [
    "## Read OutData file"
   ]
  },
  {
   "cell_type": "code",
   "execution_count": 7,
   "metadata": {
    "collapsed": true,
    "deletable": true,
    "editable": true
   },
   "outputs": [],
   "source": [
    "tc=pd.read_csv('test/step3.txt',delimiter='\\t')"
   ]
  },
  {
   "cell_type": "code",
   "execution_count": 8,
   "metadata": {
    "collapsed": false,
    "deletable": true,
    "editable": true
   },
   "outputs": [
    {
     "data": {
      "text/html": [
       "<div>\n",
       "<table border=\"1\" class=\"dataframe\">\n",
       "  <thead>\n",
       "    <tr style=\"text-align: right;\">\n",
       "      <th></th>\n",
       "      <th>time</th>\n",
       "      <th>t</th>\n",
       "      <th>hurName</th>\n",
       "      <th>lat</th>\n",
       "      <th>lon</th>\n",
       "      <th>pcenter</th>\n",
       "      <th>penv</th>\n",
       "      <th>rmax</th>\n",
       "      <th>vmax</th>\n",
       "      <th>34ne</th>\n",
       "      <th>...</th>\n",
       "      <th>w34sw</th>\n",
       "      <th>w34nw</th>\n",
       "      <th>vmax0vt</th>\n",
       "      <th>b</th>\n",
       "      <th>dph</th>\n",
       "      <th>k</th>\n",
       "      <th>np.max(V)</th>\n",
       "      <th>rmaxh</th>\n",
       "      <th>rmse</th>\n",
       "      <th>vmax1</th>\n",
       "    </tr>\n",
       "  </thead>\n",
       "  <tbody>\n",
       "    <tr>\n",
       "      <th>0</th>\n",
       "      <td>0.0</td>\n",
       "      <td>2016-09-29 12:00:00</td>\n",
       "      <td>MATTHEW</td>\n",
       "      <td>14.2</td>\n",
       "      <td>-65.5</td>\n",
       "      <td>995</td>\n",
       "      <td>-99</td>\n",
       "      <td>68524.0</td>\n",
       "      <td>30.866667</td>\n",
       "      <td>279652.0</td>\n",
       "      <td>...</td>\n",
       "      <td>19.534445</td>\n",
       "      <td>20.608431</td>\n",
       "      <td>26.161934</td>\n",
       "      <td>0.815796</td>\n",
       "      <td>2702.659386</td>\n",
       "      <td>0.119453</td>\n",
       "      <td>26.161934</td>\n",
       "      <td>22352.300001</td>\n",
       "      <td>2.989613</td>\n",
       "      <td>26.557689</td>\n",
       "    </tr>\n",
       "    <tr>\n",
       "      <th>1</th>\n",
       "      <td>1.0</td>\n",
       "      <td>2016-09-29 13:00:00</td>\n",
       "      <td>MATTHEW</td>\n",
       "      <td>14.2</td>\n",
       "      <td>-65.7</td>\n",
       "      <td>998</td>\n",
       "      <td>-99</td>\n",
       "      <td>46300.0</td>\n",
       "      <td>29.323333</td>\n",
       "      <td>288912.0</td>\n",
       "      <td>...</td>\n",
       "      <td>19.263473</td>\n",
       "      <td>20.915893</td>\n",
       "      <td>26.058509</td>\n",
       "      <td>0.891334</td>\n",
       "      <td>2451.209790</td>\n",
       "      <td>0.162408</td>\n",
       "      <td>26.058509</td>\n",
       "      <td>21309.697475</td>\n",
       "      <td>2.637937</td>\n",
       "      <td>26.437125</td>\n",
       "    </tr>\n",
       "    <tr>\n",
       "      <th>2</th>\n",
       "      <td>2.0</td>\n",
       "      <td>2016-09-29 14:00:00</td>\n",
       "      <td>MATTHEW</td>\n",
       "      <td>14.3</td>\n",
       "      <td>-65.9</td>\n",
       "      <td>997</td>\n",
       "      <td>-99</td>\n",
       "      <td>57412.0</td>\n",
       "      <td>33.953333</td>\n",
       "      <td>262984.0</td>\n",
       "      <td>...</td>\n",
       "      <td>19.538575</td>\n",
       "      <td>20.351526</td>\n",
       "      <td>30.315362</td>\n",
       "      <td>1.218219</td>\n",
       "      <td>2419.457443</td>\n",
       "      <td>0.243773</td>\n",
       "      <td>30.315362</td>\n",
       "      <td>21825.537590</td>\n",
       "      <td>2.818050</td>\n",
       "      <td>30.706156</td>\n",
       "    </tr>\n",
       "    <tr>\n",
       "      <th>3</th>\n",
       "      <td>3.0</td>\n",
       "      <td>2016-09-29 15:00:00</td>\n",
       "      <td>MATTHEW</td>\n",
       "      <td>14.3</td>\n",
       "      <td>-66.1</td>\n",
       "      <td>995</td>\n",
       "      <td>-99</td>\n",
       "      <td>48152.0</td>\n",
       "      <td>33.438889</td>\n",
       "      <td>253724.0</td>\n",
       "      <td>...</td>\n",
       "      <td>19.796023</td>\n",
       "      <td>20.766386</td>\n",
       "      <td>32.334880</td>\n",
       "      <td>0.807856</td>\n",
       "      <td>4105.479998</td>\n",
       "      <td>0.099994</td>\n",
       "      <td>32.334880</td>\n",
       "      <td>13284.162072</td>\n",
       "      <td>3.309246</td>\n",
       "      <td>32.572620</td>\n",
       "    </tr>\n",
       "    <tr>\n",
       "      <th>4</th>\n",
       "      <td>4.0</td>\n",
       "      <td>2016-09-29 16:00:00</td>\n",
       "      <td>MATTHEW</td>\n",
       "      <td>14.3</td>\n",
       "      <td>-66.3</td>\n",
       "      <td>993</td>\n",
       "      <td>-99</td>\n",
       "      <td>42596.0</td>\n",
       "      <td>33.953333</td>\n",
       "      <td>266688.0</td>\n",
       "      <td>...</td>\n",
       "      <td>20.326892</td>\n",
       "      <td>20.615410</td>\n",
       "      <td>32.122624</td>\n",
       "      <td>0.839218</td>\n",
       "      <td>3917.376564</td>\n",
       "      <td>0.091008</td>\n",
       "      <td>32.122624</td>\n",
       "      <td>17160.837612</td>\n",
       "      <td>3.663753</td>\n",
       "      <td>32.429407</td>\n",
       "    </tr>\n",
       "  </tbody>\n",
       "</table>\n",
       "<p>5 rows × 47 columns</p>\n",
       "</div>"
      ],
      "text/plain": [
       "   time                    t  hurName   lat   lon  pcenter  penv     rmax  \\\n",
       "0   0.0  2016-09-29 12:00:00  MATTHEW  14.2 -65.5      995   -99  68524.0   \n",
       "1   1.0  2016-09-29 13:00:00  MATTHEW  14.2 -65.7      998   -99  46300.0   \n",
       "2   2.0  2016-09-29 14:00:00  MATTHEW  14.3 -65.9      997   -99  57412.0   \n",
       "3   3.0  2016-09-29 15:00:00  MATTHEW  14.3 -66.1      995   -99  48152.0   \n",
       "4   4.0  2016-09-29 16:00:00  MATTHEW  14.3 -66.3      993   -99  42596.0   \n",
       "\n",
       "        vmax      34ne    ...          w34sw      w34nw    vmax0vt         b  \\\n",
       "0  30.866667  279652.0    ...      19.534445  20.608431  26.161934  0.815796   \n",
       "1  29.323333  288912.0    ...      19.263473  20.915893  26.058509  0.891334   \n",
       "2  33.953333  262984.0    ...      19.538575  20.351526  30.315362  1.218219   \n",
       "3  33.438889  253724.0    ...      19.796023  20.766386  32.334880  0.807856   \n",
       "4  33.953333  266688.0    ...      20.326892  20.615410  32.122624  0.839218   \n",
       "\n",
       "           dph         k  np.max(V)         rmaxh      rmse      vmax1  \n",
       "0  2702.659386  0.119453  26.161934  22352.300001  2.989613  26.557689  \n",
       "1  2451.209790  0.162408  26.058509  21309.697475  2.637937  26.437125  \n",
       "2  2419.457443  0.243773  30.315362  21825.537590  2.818050  30.706156  \n",
       "3  4105.479998  0.099994  32.334880  13284.162072  3.309246  32.572620  \n",
       "4  3917.376564  0.091008  32.122624  17160.837612  3.663753  32.429407  \n",
       "\n",
       "[5 rows x 47 columns]"
      ]
     },
     "execution_count": 8,
     "metadata": {},
     "output_type": "execute_result"
    }
   ],
   "source": [
    "tc.head()"
   ]
  },
  {
   "cell_type": "markdown",
   "metadata": {
    "deletable": true,
    "editable": true
   },
   "source": [
    "Now we need to interpolate for every hour the location and compute translational velocities while keeping the rest of the attributes the same"
   ]
  },
  {
   "cell_type": "code",
   "execution_count": 9,
   "metadata": {
    "collapsed": true,
    "deletable": true,
    "editable": true
   },
   "outputs": [],
   "source": [
    "tstamps = tc['t'].apply(pd.to_datetime)"
   ]
  },
  {
   "cell_type": "code",
   "execution_count": 10,
   "metadata": {
    "collapsed": false,
    "deletable": true,
    "editable": true
   },
   "outputs": [],
   "source": [
    "tc = tc.set_index(tstamps)"
   ]
  },
  {
   "cell_type": "code",
   "execution_count": 11,
   "metadata": {
    "collapsed": false,
    "deletable": true,
    "editable": true
   },
   "outputs": [
    {
     "data": {
      "text/html": [
       "<div>\n",
       "<table border=\"1\" class=\"dataframe\">\n",
       "  <thead>\n",
       "    <tr style=\"text-align: right;\">\n",
       "      <th></th>\n",
       "      <th>time</th>\n",
       "      <th>t</th>\n",
       "      <th>hurName</th>\n",
       "      <th>lat</th>\n",
       "      <th>lon</th>\n",
       "      <th>pcenter</th>\n",
       "      <th>penv</th>\n",
       "      <th>rmax</th>\n",
       "      <th>vmax</th>\n",
       "      <th>34ne</th>\n",
       "      <th>...</th>\n",
       "      <th>w34sw</th>\n",
       "      <th>w34nw</th>\n",
       "      <th>vmax0vt</th>\n",
       "      <th>b</th>\n",
       "      <th>dph</th>\n",
       "      <th>k</th>\n",
       "      <th>np.max(V)</th>\n",
       "      <th>rmaxh</th>\n",
       "      <th>rmse</th>\n",
       "      <th>vmax1</th>\n",
       "    </tr>\n",
       "    <tr>\n",
       "      <th>t</th>\n",
       "      <th></th>\n",
       "      <th></th>\n",
       "      <th></th>\n",
       "      <th></th>\n",
       "      <th></th>\n",
       "      <th></th>\n",
       "      <th></th>\n",
       "      <th></th>\n",
       "      <th></th>\n",
       "      <th></th>\n",
       "      <th></th>\n",
       "      <th></th>\n",
       "      <th></th>\n",
       "      <th></th>\n",
       "      <th></th>\n",
       "      <th></th>\n",
       "      <th></th>\n",
       "      <th></th>\n",
       "      <th></th>\n",
       "      <th></th>\n",
       "      <th></th>\n",
       "    </tr>\n",
       "  </thead>\n",
       "  <tbody>\n",
       "    <tr>\n",
       "      <th>2016-09-29 12:00:00</th>\n",
       "      <td>0.0</td>\n",
       "      <td>2016-09-29 12:00:00</td>\n",
       "      <td>MATTHEW</td>\n",
       "      <td>14.2</td>\n",
       "      <td>-65.5</td>\n",
       "      <td>995</td>\n",
       "      <td>-99</td>\n",
       "      <td>68524.0</td>\n",
       "      <td>30.866667</td>\n",
       "      <td>279652.0</td>\n",
       "      <td>...</td>\n",
       "      <td>19.534445</td>\n",
       "      <td>20.608431</td>\n",
       "      <td>26.161934</td>\n",
       "      <td>0.815796</td>\n",
       "      <td>2702.659386</td>\n",
       "      <td>0.119453</td>\n",
       "      <td>26.161934</td>\n",
       "      <td>22352.300001</td>\n",
       "      <td>2.989613</td>\n",
       "      <td>26.557689</td>\n",
       "    </tr>\n",
       "    <tr>\n",
       "      <th>2016-09-29 13:00:00</th>\n",
       "      <td>1.0</td>\n",
       "      <td>2016-09-29 13:00:00</td>\n",
       "      <td>MATTHEW</td>\n",
       "      <td>14.2</td>\n",
       "      <td>-65.7</td>\n",
       "      <td>998</td>\n",
       "      <td>-99</td>\n",
       "      <td>46300.0</td>\n",
       "      <td>29.323333</td>\n",
       "      <td>288912.0</td>\n",
       "      <td>...</td>\n",
       "      <td>19.263473</td>\n",
       "      <td>20.915893</td>\n",
       "      <td>26.058509</td>\n",
       "      <td>0.891334</td>\n",
       "      <td>2451.209790</td>\n",
       "      <td>0.162408</td>\n",
       "      <td>26.058509</td>\n",
       "      <td>21309.697475</td>\n",
       "      <td>2.637937</td>\n",
       "      <td>26.437125</td>\n",
       "    </tr>\n",
       "    <tr>\n",
       "      <th>2016-09-29 14:00:00</th>\n",
       "      <td>2.0</td>\n",
       "      <td>2016-09-29 14:00:00</td>\n",
       "      <td>MATTHEW</td>\n",
       "      <td>14.3</td>\n",
       "      <td>-65.9</td>\n",
       "      <td>997</td>\n",
       "      <td>-99</td>\n",
       "      <td>57412.0</td>\n",
       "      <td>33.953333</td>\n",
       "      <td>262984.0</td>\n",
       "      <td>...</td>\n",
       "      <td>19.538575</td>\n",
       "      <td>20.351526</td>\n",
       "      <td>30.315362</td>\n",
       "      <td>1.218219</td>\n",
       "      <td>2419.457443</td>\n",
       "      <td>0.243773</td>\n",
       "      <td>30.315362</td>\n",
       "      <td>21825.537590</td>\n",
       "      <td>2.818050</td>\n",
       "      <td>30.706156</td>\n",
       "    </tr>\n",
       "    <tr>\n",
       "      <th>2016-09-29 15:00:00</th>\n",
       "      <td>3.0</td>\n",
       "      <td>2016-09-29 15:00:00</td>\n",
       "      <td>MATTHEW</td>\n",
       "      <td>14.3</td>\n",
       "      <td>-66.1</td>\n",
       "      <td>995</td>\n",
       "      <td>-99</td>\n",
       "      <td>48152.0</td>\n",
       "      <td>33.438889</td>\n",
       "      <td>253724.0</td>\n",
       "      <td>...</td>\n",
       "      <td>19.796023</td>\n",
       "      <td>20.766386</td>\n",
       "      <td>32.334880</td>\n",
       "      <td>0.807856</td>\n",
       "      <td>4105.479998</td>\n",
       "      <td>0.099994</td>\n",
       "      <td>32.334880</td>\n",
       "      <td>13284.162072</td>\n",
       "      <td>3.309246</td>\n",
       "      <td>32.572620</td>\n",
       "    </tr>\n",
       "    <tr>\n",
       "      <th>2016-09-29 16:00:00</th>\n",
       "      <td>4.0</td>\n",
       "      <td>2016-09-29 16:00:00</td>\n",
       "      <td>MATTHEW</td>\n",
       "      <td>14.3</td>\n",
       "      <td>-66.3</td>\n",
       "      <td>993</td>\n",
       "      <td>-99</td>\n",
       "      <td>42596.0</td>\n",
       "      <td>33.953333</td>\n",
       "      <td>266688.0</td>\n",
       "      <td>...</td>\n",
       "      <td>20.326892</td>\n",
       "      <td>20.615410</td>\n",
       "      <td>32.122624</td>\n",
       "      <td>0.839218</td>\n",
       "      <td>3917.376564</td>\n",
       "      <td>0.091008</td>\n",
       "      <td>32.122624</td>\n",
       "      <td>17160.837612</td>\n",
       "      <td>3.663753</td>\n",
       "      <td>32.429407</td>\n",
       "    </tr>\n",
       "  </tbody>\n",
       "</table>\n",
       "<p>5 rows × 47 columns</p>\n",
       "</div>"
      ],
      "text/plain": [
       "                     time                    t  hurName   lat   lon  pcenter  \\\n",
       "t                                                                              \n",
       "2016-09-29 12:00:00   0.0  2016-09-29 12:00:00  MATTHEW  14.2 -65.5      995   \n",
       "2016-09-29 13:00:00   1.0  2016-09-29 13:00:00  MATTHEW  14.2 -65.7      998   \n",
       "2016-09-29 14:00:00   2.0  2016-09-29 14:00:00  MATTHEW  14.3 -65.9      997   \n",
       "2016-09-29 15:00:00   3.0  2016-09-29 15:00:00  MATTHEW  14.3 -66.1      995   \n",
       "2016-09-29 16:00:00   4.0  2016-09-29 16:00:00  MATTHEW  14.3 -66.3      993   \n",
       "\n",
       "                     penv     rmax       vmax      34ne    ...          w34sw  \\\n",
       "t                                                          ...                  \n",
       "2016-09-29 12:00:00   -99  68524.0  30.866667  279652.0    ...      19.534445   \n",
       "2016-09-29 13:00:00   -99  46300.0  29.323333  288912.0    ...      19.263473   \n",
       "2016-09-29 14:00:00   -99  57412.0  33.953333  262984.0    ...      19.538575   \n",
       "2016-09-29 15:00:00   -99  48152.0  33.438889  253724.0    ...      19.796023   \n",
       "2016-09-29 16:00:00   -99  42596.0  33.953333  266688.0    ...      20.326892   \n",
       "\n",
       "                         w34nw    vmax0vt         b          dph         k  \\\n",
       "t                                                                            \n",
       "2016-09-29 12:00:00  20.608431  26.161934  0.815796  2702.659386  0.119453   \n",
       "2016-09-29 13:00:00  20.915893  26.058509  0.891334  2451.209790  0.162408   \n",
       "2016-09-29 14:00:00  20.351526  30.315362  1.218219  2419.457443  0.243773   \n",
       "2016-09-29 15:00:00  20.766386  32.334880  0.807856  4105.479998  0.099994   \n",
       "2016-09-29 16:00:00  20.615410  32.122624  0.839218  3917.376564  0.091008   \n",
       "\n",
       "                     np.max(V)         rmaxh      rmse      vmax1  \n",
       "t                                                                  \n",
       "2016-09-29 12:00:00  26.161934  22352.300001  2.989613  26.557689  \n",
       "2016-09-29 13:00:00  26.058509  21309.697475  2.637937  26.437125  \n",
       "2016-09-29 14:00:00  30.315362  21825.537590  2.818050  30.706156  \n",
       "2016-09-29 15:00:00  32.334880  13284.162072  3.309246  32.572620  \n",
       "2016-09-29 16:00:00  32.122624  17160.837612  3.663753  32.429407  \n",
       "\n",
       "[5 rows x 47 columns]"
      ]
     },
     "execution_count": 11,
     "metadata": {},
     "output_type": "execute_result"
    }
   ],
   "source": [
    "tc.head()"
   ]
  },
  {
   "cell_type": "code",
   "execution_count": 12,
   "metadata": {
    "collapsed": false,
    "deletable": true,
    "editable": true
   },
   "outputs": [],
   "source": [
    "tc_ = tc.resample('H').mean()"
   ]
  },
  {
   "cell_type": "code",
   "execution_count": 15,
   "metadata": {
    "collapsed": false,
    "deletable": true,
    "editable": true
   },
   "outputs": [
    {
     "data": {
      "text/plain": [
       "<matplotlib.axes._subplots.AxesSubplot at 0x116428110>"
      ]
     },
     "execution_count": 15,
     "metadata": {},
     "output_type": "execute_result"
    },
    {
     "data": {
      "image/png": "[encoded data removed]",
      "text/plain": [
       "<matplotlib.figure.Figure at 0x1164c9f10>"
      ]
     },
     "metadata": {},
     "output_type": "display_data"
    }
   ],
   "source": [
    "ax = tc_['lat'].interpolate(method='linear').plot()\n",
    "tc_['lat'].plot(ax=ax, marker='o')"
   ]
  },
  {
   "cell_type": "code",
   "execution_count": 16,
   "metadata": {
    "collapsed": false,
    "deletable": true,
    "editable": true
   },
   "outputs": [],
   "source": [
    "data = tc_.interpolate(method='cubic')"
   ]
  },
  {
   "cell_type": "code",
   "execution_count": 17,
   "metadata": {
    "collapsed": false,
    "deletable": true,
    "editable": true,
    "scrolled": true
   },
   "outputs": [
    {
     "data": {
      "image/png": "[encoded data removed]",
      "text/plain": [
       "<matplotlib.figure.Figure at 0x1164bd850>"
      ]
     },
     "metadata": {},
     "output_type": "display_data"
    }
   ],
   "source": [
    "ax=data['rmax'].plot()"
   ]
  },
  {
   "cell_type": "markdown",
   "metadata": {
    "collapsed": true,
    "deletable": true,
    "editable": true
   },
   "source": [
    "# From lat lon to r, th"
   ]
  },
  {
   "cell_type": "code",
   "execution_count": 18,
   "metadata": {
    "collapsed": true,
    "deletable": true,
    "editable": true
   },
   "outputs": [],
   "source": [
    "# required function\n",
    "from math import radians, cos, sin, asin, sqrt\n",
    "def Haversine(lon1, lat1, lon2, lat2):\n",
    "    \"\"\"\n",
    "    Calculate the great circle distance between two points \n",
    "    on the earth (specified in decimal degrees)\n",
    "    \"\"\"\n",
    "    # convert decimal degrees to radians \n",
    "    lon1, lat1 = np.radians([lon1, lat1])\n",
    "    lon2, lat2 = np.radians([ lon2, lat2])\n",
    "\n",
    "    # haversine formula \n",
    "    dlon = lon2 - lon1 \n",
    "    dlat = lat2 - lat1 \n",
    "    a = np.sin(dlat/2)**2 + np.cos(lat1) * np.cos(lat2) * np.sin(dlon/2)**2\n",
    "    c = 2 * np.arcsin(np.sqrt(a)) \n",
    "    km = 6378.388 * c\n",
    "    m = km * 1000\n",
    "    return  m"
   ]
  },
  {
   "cell_type": "code",
   "execution_count": 19,
   "metadata": {
    "collapsed": true,
    "deletable": true,
    "editable": true
   },
   "outputs": [],
   "source": [
    "def pres(r):\n",
    "    return pn+dph*np.exp(-(rmaxh/r)**bh)"
   ]
  },
  {
   "cell_type": "code",
   "execution_count": 99,
   "metadata": {
    "collapsed": true,
    "deletable": true,
    "editable": true
   },
   "outputs": [],
   "source": [
    "def hvel(r,dph,bh,rmaxh,kh):\n",
    "    ratio=(r-rmaxh)/(maxR-rmaxh)\n",
    "    x=0.5+ratio*kh\n",
    "    return (bh/rhoa*(rmaxh/r)**bh*dph*np.exp(-(rmaxh/r)**bh))**x"
   ]
  },
  {
   "cell_type": "code",
   "execution_count": 100,
   "metadata": {
    "collapsed": true,
    "deletable": true,
    "editable": true
   },
   "outputs": [],
   "source": [
    "def hvel_(r,dph,bh,rmaxh,kh):\n",
    "    ratio=(r-rmaxh)/(maxR-rmaxh)\n",
    "    ratio2=np.minimum(np.maximum(ratio,0),1)# control the slope at high radius\n",
    "    x=0.5+ratio2*kh\n",
    "    return (bh/rhoa*(rmaxh/r)**bh*dph*np.exp(-(rmaxh/r)**bh))**x"
   ]
  },
  {
   "cell_type": "code",
   "execution_count": 101,
   "metadata": {
    "collapsed": false,
    "deletable": true,
    "editable": true
   },
   "outputs": [],
   "source": [
    "def hvel2d(l1,l2,lon0,lat0):\n",
    "    r = Haversine(l1, l2, lon0, lat0)\n",
    "    ratio=(r-rmaxh)/(maxR-rmaxh)\n",
    "    ratio2=np.minimum(np.maximum(ratio,0),1)# control the slope at high radius\n",
    "    xh=0.5+ratio2*kh\n",
    "    ur=(bh/rhoa*(rmaxh/r)**bh*dph*np.exp(-(rmaxh/r)**bh))**xh\n",
    "    theta=np.arctan2((l2-lat0),(l1-lon0))\n",
    "    ux=-ur*np.sin(theta)\n",
    "    uy=ur*np.cos(theta)\n",
    "    return ux+vtx*(1.-np.exp(-(rmaxh/r)**bh)),uy+vty*(1.-np.exp(-(rmaxh/r)**bh)), pres(r)"
   ]
  },
  {
   "cell_type": "markdown",
   "metadata": {
    "deletable": true,
    "editable": true
   },
   "source": [
    "## for one time stamp"
   ]
  },
  {
   "cell_type": "code",
   "execution_count": 92,
   "metadata": {
    "collapsed": true,
    "deletable": true,
    "editable": true
   },
   "outputs": [],
   "source": [
    "i=20"
   ]
  },
  {
   "cell_type": "code",
   "execution_count": 93,
   "metadata": {
    "collapsed": true,
    "deletable": true,
    "editable": true
   },
   "outputs": [],
   "source": [
    "#define lat/lon window\n",
    "minlon=tc.lon[i]-1.\n",
    "maxlon=tc.lon[i]+1.\n",
    "minlat=tc.lat[i]-1.\n",
    "maxlat=tc.lat[i]+1."
   ]
  },
  {
   "cell_type": "code",
   "execution_count": 94,
   "metadata": {
    "collapsed": false,
    "deletable": true,
    "editable": true
   },
   "outputs": [],
   "source": [
    "lons=np.linspace(minlon, maxlon,100) # constract arrays\n",
    "lats=np.linspace(minlat, maxlat,100)"
   ]
  },
  {
   "cell_type": "code",
   "execution_count": 95,
   "metadata": {
    "collapsed": false,
    "deletable": true,
    "editable": true
   },
   "outputs": [],
   "source": [
    "q1,q2=np.meshgrid(lons,lats) # create grid"
   ]
  },
  {
   "cell_type": "code",
   "execution_count": 96,
   "metadata": {
    "collapsed": true,
    "deletable": true,
    "editable": true
   },
   "outputs": [],
   "source": [
    "#compute u,v,p"
   ]
  },
  {
   "cell_type": "code",
   "execution_count": 97,
   "metadata": {
    "collapsed": false,
    "deletable": true,
    "editable": true
   },
   "outputs": [],
   "source": [
    "bh,kh,dph,rmaxh,vtx,vty = tc.ix[i,['b','k','dph','rmaxh','vtrx','vtry']]"
   ]
  },
  {
   "cell_type": "code",
   "execution_count": 98,
   "metadata": {
    "collapsed": false,
    "deletable": true,
    "editable": true
   },
   "outputs": [],
   "source": [
    "zx,zy,pr=hvel2d(q1,q2,tc.lon[i],tc.lat[i])\n",
    "vel=np.sqrt(zx**2+zy**2)"
   ]
  },
  {
   "cell_type": "markdown",
   "metadata": {
    "deletable": true,
    "editable": true
   },
   "source": [
    "Plot 1D Holland function"
   ]
  },
  {
   "cell_type": "code",
   "execution_count": 88,
   "metadata": {
    "collapsed": false,
    "deletable": true,
    "editable": true
   },
   "outputs": [
    {
     "data": {
      "text/plain": [
       "<matplotlib.legend.Legend at 0x11b391e90>"
      ]
     },
     "execution_count": 88,
     "metadata": {},
     "output_type": "execute_result"
    },
    {
     "data": {
      "image/png": "[encoded data removed]",
      "text/plain": [
       "<matplotlib.figure.Figure at 0x11b069850>"
      ]
     },
     "metadata": {},
     "output_type": "display_data"
    }
   ],
   "source": [
    "plt.figure(figsize=(8,6))\n",
    "rh=np.linspace(0.01,2*maxR,1000)\n",
    "sol=hvel(rh,dph,bh,rmaxh,kh)\n",
    "sol_=hvel_(rh,dph,bh,rmaxh,kh)\n",
    "plt.plot(rh,sol, label='ratio')\n",
    "plt.plot(rh,sol_,label='ratio2')\n",
    "plt.legend()\n"
   ]
  },
  {
   "cell_type": "code",
   "execution_count": 102,
   "metadata": {
    "collapsed": false,
    "deletable": true,
    "editable": true
   },
   "outputs": [
    {
     "data": {
      "text/plain": [
       "<matplotlib.colorbar.Colorbar at 0x11be891d0>"
      ]
     },
     "execution_count": 102,
     "metadata": {},
     "output_type": "execute_result"
    },
    {
     "data": {
      "image/png": "[encoded data removed]",
      "text/plain": [
       "<matplotlib.figure.Figure at 0x11bc19650>"
      ]
     },
     "metadata": {},
     "output_type": "display_data"
    }
   ],
   "source": [
    "plt.figure(figsize=(10,8))\n",
    "plt.contourf(q1,q2,vel,20)\n",
    "plt.streamplot(q1,q2,zx,zy, color=vel, linewidth=0.1*vel)\n",
    "plt.colorbar()\n",
    "#plt.quiver(q1,q2,zx,zy,scale=700)\n"
   ]
  },
  {
   "cell_type": "markdown",
   "metadata": {
    "deletable": true,
    "editable": true
   },
   "source": [
    "## compute for all time steps"
   ]
  },
  {
   "cell_type": "code",
   "execution_count": null,
   "metadata": {
    "collapsed": true,
    "deletable": true,
    "editable": true
   },
   "outputs": [],
   "source": []
  },
  {
   "cell_type": "code",
   "execution_count": 103,
   "metadata": {
    "collapsed": true,
    "deletable": true,
    "editable": true
   },
   "outputs": [],
   "source": [
    "#Define the big window\n",
    "minlon=tc.lon.min()-10.\n",
    "maxlon=tc.lon.max()+10.\n",
    "minlat=tc.lat.min()-10.\n",
    "maxlat=tc.lat.max()+10."
   ]
  },
  {
   "cell_type": "code",
   "execution_count": 104,
   "metadata": {
    "collapsed": false,
    "deletable": true,
    "editable": true
   },
   "outputs": [],
   "source": [
    "lons=np.linspace(minlon, maxlon,100) # constract arrays\n",
    "lats=np.linspace(minlat, maxlat,100)"
   ]
  },
  {
   "cell_type": "code",
   "execution_count": 105,
   "metadata": {
    "collapsed": false,
    "deletable": true,
    "editable": true
   },
   "outputs": [],
   "source": [
    "q1,q2=np.meshgrid(lons,lats) # create grid for the whole domain"
   ]
  },
  {
   "cell_type": "code",
   "execution_count": 106,
   "metadata": {
    "collapsed": false,
    "deletable": true,
    "editable": true
   },
   "outputs": [],
   "source": [
    "ux=[]\n",
    "uy=[]\n",
    "pp=[]\n",
    "for i in range(tc.shape[0]):\n",
    "    bh,kh,dph,rmaxh,vtx,vty = tc.ix[i,['b','k','dph','rmaxh','vtrx','vtry']]\n",
    "    zx,zy,pr=hvel2d(q1,q2,tc.lon[i],tc.lat[i])\n",
    "    ux.append(zx)\n",
    "    uy.append(zy)\n",
    "    pp.append(pr)"
   ]
  },
  {
   "cell_type": "code",
   "execution_count": 107,
   "metadata": {
    "collapsed": false,
    "deletable": true,
    "editable": true
   },
   "outputs": [],
   "source": [
    "ux = np.array(ux)\n",
    "uy = np.array(uy)\n",
    "pp = np.array(pp)"
   ]
  },
  {
   "cell_type": "code",
   "execution_count": 108,
   "metadata": {
    "collapsed": true,
    "deletable": true,
    "editable": true
   },
   "outputs": [],
   "source": [
    "vel=np.sqrt(ux**2+uy**2)"
   ]
  },
  {
   "cell_type": "code",
   "execution_count": 109,
   "metadata": {
    "collapsed": false,
    "deletable": true,
    "editable": true
   },
   "outputs": [
    {
     "data": {
      "text/plain": [
       "47.419946506005004"
      ]
     },
     "execution_count": 109,
     "metadata": {},
     "output_type": "execute_result"
    }
   ],
   "source": [
    "vel.max()"
   ]
  },
  {
   "cell_type": "code",
   "execution_count": 110,
   "metadata": {
    "collapsed": false,
    "deletable": true,
    "editable": true
   },
   "outputs": [
    {
     "data": {
      "text/plain": [
       "<matplotlib.colorbar.Colorbar at 0x11c9d0050>"
      ]
     },
     "execution_count": 110,
     "metadata": {},
     "output_type": "execute_result"
    },
    {
     "data": {
      "image/png": "[encoded data removed]",
      "text/plain": [
       "<matplotlib.figure.Figure at 0x11c727050>"
      ]
     },
     "metadata": {},
     "output_type": "display_data"
    }
   ],
   "source": [
    "plt.figure(figsize=(10,8))\n",
    "plt.contourf(q1,q2,vel[15,:,:],20)\n",
    "plt.colorbar()\n",
    "#plt.quiver(q1,q2,zx,zy,scale=700)\n"
   ]
  },
  {
   "cell_type": "markdown",
   "metadata": {
    "deletable": true,
    "editable": true
   },
   "source": [
    "### Visualize"
   ]
  },
  {
   "cell_type": "code",
   "execution_count": 113,
   "metadata": {
    "collapsed": false,
    "deletable": true,
    "editable": true
   },
   "outputs": [],
   "source": [
    "def v2d(i):\n",
    "        fig, (a,b) = plt.subplots(1,2,figsize=(20,10),gridspec_kw = {'width_ratios':[1, 3]})\n",
    "        i=int(i)\n",
    "        c=b.contourf(q1,q2,vel[i,:,:],20)\n",
    "  #      plt.streamplot(q1,q2,uy[i,:,:],uy[i,:,:], color=vel, linewidth=0.1*vel)\n",
    "        cl = plt.colorbar(c)\n",
    "        cl.set_label('Wind m/s', rotation=270)\n",
    "        b.set_xlabel('lon')\n",
    "        b.set_ylabel('lat')\n",
    "        rh=np.linspace(0.01,3*maxR,100)\n",
    "        bh,kh,dph,rmaxh,vtx,vty = tc.ix[i,['b','k','dph','rmaxh','vtrx','vtry']]\n",
    "        a.plot(rh,hvel_(rh,dph,bh,rmaxh,kh))\n",
    "        a.set_ylabel('Max Wind m/s')\n",
    "        a.set_xlabel('Radius m')\n",
    "        plt.title(tc.ix[i].t)\n",
    "        plt.show()"
   ]
  },
  {
   "cell_type": "code",
   "execution_count": 114,
   "metadata": {
    "collapsed": false,
    "deletable": true,
    "editable": true,
    "scrolled": false
   },
   "outputs": [
    {
     "data": {
      "application/vnd.jupyter.widget-view+json": {
       "model_id": "919db21f8997460482126f35160d2d7d"
      }
     },
     "metadata": {},
     "output_type": "display_data"
    },
    {
     "data": {
      "text/plain": [
       "<function __main__.v2d>"
      ]
     },
     "execution_count": 114,
     "metadata": {},
     "output_type": "execute_result"
    }
   ],
   "source": [
    "interact(v2d,i=widgets.IntSlider(min=0,max=ux.shape[0]-1,step=1,value=0))"
   ]
  },
  {
   "cell_type": "code",
   "execution_count": 115,
   "metadata": {
    "collapsed": false,
    "deletable": true,
    "editable": true
   },
   "outputs": [
    {
     "data": {
      "text/plain": [
       "<matplotlib.colorbar.Colorbar at 0x11d510250>"
      ]
     },
     "execution_count": 115,
     "metadata": {},
     "output_type": "execute_result"
    },
    {
     "data": {
      "image/png": "[encoded data removed]",
      "text/plain": [
       "<matplotlib.figure.Figure at 0x11c98c250>"
      ]
     },
     "metadata": {},
     "output_type": "display_data"
    }
   ],
   "source": [
    "#print the wind swath\n",
    "plt.contourf(q1,q2,np.amax(vel,axis=0))\n",
    "plt.colorbar()"
   ]
  },
  {
   "cell_type": "code",
   "execution_count": 116,
   "metadata": {
    "collapsed": false,
    "deletable": true,
    "editable": true
   },
   "outputs": [],
   "source": [
    "# we can now use pandas to interpolate every e.g. 5min\n",
    "tc5 = tc.resample('1min').mean()"
   ]
  },
  {
   "cell_type": "code",
   "execution_count": 117,
   "metadata": {
    "collapsed": false,
    "deletable": true,
    "editable": true
   },
   "outputs": [],
   "source": [
    "tc5=tc5.interpolate(method='linear')"
   ]
  },
  {
   "cell_type": "code",
   "execution_count": 118,
   "metadata": {
    "collapsed": false,
    "deletable": true,
    "editable": true
   },
   "outputs": [],
   "source": [
    "ux=[]\n",
    "uy=[]\n",
    "pp=[]\n",
    "for i in range(tc5.shape[0]):\n",
    "    bh,kh,dph,rmaxh,vtx,vty = tc5.ix[i,['b','k','dph','rmaxh','vtrx','vtry']]\n",
    "    zx,zy,pr=hvel2d(q1,q2,tc5.lon[i],tc5.lat[i])\n",
    "    ux.append(zx)\n",
    "    uy.append(zy)\n",
    "    pp.append(pr)"
   ]
  },
  {
   "cell_type": "code",
   "execution_count": 119,
   "metadata": {
    "collapsed": false,
    "deletable": true,
    "editable": true
   },
   "outputs": [],
   "source": [
    "ux = np.array(ux)\n",
    "uy = np.array(uy)\n",
    "pp = np.array(pp)"
   ]
  },
  {
   "cell_type": "code",
   "execution_count": 120,
   "metadata": {
    "collapsed": true,
    "deletable": true,
    "editable": true
   },
   "outputs": [],
   "source": [
    "vel=np.sqrt(ux**2+uy**2)"
   ]
  },
  {
   "cell_type": "code",
   "execution_count": 121,
   "metadata": {
    "collapsed": false,
    "deletable": true,
    "editable": true
   },
   "outputs": [
    {
     "data": {
      "text/plain": [
       "<matplotlib.colorbar.Colorbar at 0x11d159310>"
      ]
     },
     "execution_count": 121,
     "metadata": {},
     "output_type": "execute_result"
    },
    {
     "data": {
      "image/png": "[encoded data removed]",
      "text/plain": [
       "<matplotlib.figure.Figure at 0x11ce01250>"
      ]
     },
     "metadata": {},
     "output_type": "display_data"
    }
   ],
   "source": [
    "#print the wind swath\n",
    "plt.contourf(q1,q2,np.amax(vel,axis=0))\n",
    "plt.colorbar()"
   ]
  },
  {
   "cell_type": "code",
   "execution_count": null,
   "metadata": {
    "collapsed": true,
    "deletable": true,
    "editable": true
   },
   "outputs": [],
   "source": []
  },
  {
   "cell_type": "markdown",
   "metadata": {
    "deletable": true,
    "editable": true
   },
   "source": [
    "## save u,v,p"
   ]
  },
  {
   "cell_type": "code",
   "execution_count": null,
   "metadata": {
    "collapsed": true,
    "deletable": true,
    "editable": true
   },
   "outputs": [],
   "source": []
  }
 ],
 "metadata": {
  "kernelspec": {
   "display_name": "Python 2",
   "language": "python",
   "name": "python2"
  },
  "language_info": {
   "codemirror_mode": {
    "name": "ipython",
    "version": 2
   },
   "file_extension": ".py",
   "mimetype": "text/x-python",
   "name": "python",
   "nbconvert_exporter": "python",
   "pygments_lexer": "ipython2",
   "version": "2.7.13"
  },
  "widgets": {
   "state": {
    "ab87ae31b6174f23a0b40e6302ebeff0": {
     "views": [
      {
       "cell_index": 49
      }
     ]
    }
   },
   "version": "1.2.0"
  }
 },
 "nbformat": 4,
 "nbformat_minor": 2
}
