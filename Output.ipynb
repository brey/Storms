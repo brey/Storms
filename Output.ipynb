{
 "cells": [
  {
   "cell_type": "markdown",
   "metadata": {},
   "source": [
    "#  Output forcing field"
   ]
  },
  {
   "cell_type": "code",
   "execution_count": null,
   "metadata": {
    "collapsed": true
   },
   "outputs": [],
   "source": []
  },
  {
   "cell_type": "code",
   "execution_count": 1,
   "metadata": {
    "collapsed": true
   },
   "outputs": [],
   "source": [
    "import numpy as np\n",
    "import pandas as pd"
   ]
  },
  {
   "cell_type": "code",
   "execution_count": 2,
   "metadata": {
    "collapsed": true
   },
   "outputs": [],
   "source": [
    "%matplotlib inline"
   ]
  },
  {
   "cell_type": "markdown",
   "metadata": {},
   "source": [
    "## Definitions"
   ]
  },
  {
   "cell_type": "markdown",
   "metadata": {},
   "source": [
    "## Read OutData file"
   ]
  },
  {
   "cell_type": "code",
   "execution_count": 5,
   "metadata": {
    "collapsed": true
   },
   "outputs": [],
   "source": [
    "tc=pd.read_csv('test/step3.txt',delimiter='\\t')"
   ]
  },
  {
   "cell_type": "code",
   "execution_count": 6,
   "metadata": {
    "collapsed": false
   },
   "outputs": [
    {
     "data": {
      "text/html": [
       "<div>\n",
       "<table border=\"1\" class=\"dataframe\">\n",
       "  <thead>\n",
       "    <tr style=\"text-align: right;\">\n",
       "      <th></th>\n",
       "      <th>time</th>\n",
       "      <th>t</th>\n",
       "      <th>hurName</th>\n",
       "      <th>lat</th>\n",
       "      <th>lon</th>\n",
       "      <th>pcenter</th>\n",
       "      <th>penv</th>\n",
       "      <th>rmax</th>\n",
       "      <th>vmax</th>\n",
       "      <th>34ne</th>\n",
       "      <th>...</th>\n",
       "      <th>w34sw</th>\n",
       "      <th>w34nw</th>\n",
       "      <th>vmax0vt</th>\n",
       "      <th>b</th>\n",
       "      <th>dph</th>\n",
       "      <th>k</th>\n",
       "      <th>np.max(V)</th>\n",
       "      <th>rmaxh</th>\n",
       "      <th>rmse</th>\n",
       "      <th>vmax1</th>\n",
       "    </tr>\n",
       "  </thead>\n",
       "  <tbody>\n",
       "    <tr>\n",
       "      <th>0</th>\n",
       "      <td>0.0</td>\n",
       "      <td>2010-10-29 06:00:00</td>\n",
       "      <td>INVEST</td>\n",
       "      <td>9.0</td>\n",
       "      <td>-53.7</td>\n",
       "      <td>1006</td>\n",
       "      <td>1009</td>\n",
       "      <td>222240.0</td>\n",
       "      <td>15.433333</td>\n",
       "      <td>0.0</td>\n",
       "      <td>...</td>\n",
       "      <td>0.000000</td>\n",
       "      <td>0.000000</td>\n",
       "      <td>5.069814</td>\n",
       "      <td>NaN</td>\n",
       "      <td>NaN</td>\n",
       "      <td>NaN</td>\n",
       "      <td>NaN</td>\n",
       "      <td>NaN</td>\n",
       "      <td>NaN</td>\n",
       "      <td>NaN</td>\n",
       "    </tr>\n",
       "    <tr>\n",
       "      <th>1</th>\n",
       "      <td>6.0</td>\n",
       "      <td>2010-10-29 12:00:00</td>\n",
       "      <td>INVEST</td>\n",
       "      <td>9.8</td>\n",
       "      <td>-55.3</td>\n",
       "      <td>1003</td>\n",
       "      <td>1009</td>\n",
       "      <td>166680.0</td>\n",
       "      <td>18.005556</td>\n",
       "      <td>138900.0</td>\n",
       "      <td>...</td>\n",
       "      <td>18.059481</td>\n",
       "      <td>16.718113</td>\n",
       "      <td>18.059481</td>\n",
       "      <td>0.834438</td>\n",
       "      <td>1258.498359</td>\n",
       "      <td>0.243277</td>\n",
       "      <td>18.059481</td>\n",
       "      <td>21682.563288</td>\n",
       "      <td>0.851460</td>\n",
       "      <td>18.328515</td>\n",
       "    </tr>\n",
       "    <tr>\n",
       "      <th>2</th>\n",
       "      <td>12.0</td>\n",
       "      <td>2010-10-29 18:00:00</td>\n",
       "      <td>TOMAS</td>\n",
       "      <td>10.8</td>\n",
       "      <td>-56.8</td>\n",
       "      <td>998</td>\n",
       "      <td>1009</td>\n",
       "      <td>55560.0</td>\n",
       "      <td>23.150000</td>\n",
       "      <td>166680.0</td>\n",
       "      <td>...</td>\n",
       "      <td>18.366306</td>\n",
       "      <td>17.301589</td>\n",
       "      <td>18.366306</td>\n",
       "      <td>0.818659</td>\n",
       "      <td>1329.926395</td>\n",
       "      <td>0.237769</td>\n",
       "      <td>18.366306</td>\n",
       "      <td>21661.550932</td>\n",
       "      <td>0.640642</td>\n",
       "      <td>18.662474</td>\n",
       "    </tr>\n",
       "    <tr>\n",
       "      <th>3</th>\n",
       "      <td>18.0</td>\n",
       "      <td>2010-10-30 00:00:00</td>\n",
       "      <td>TOMAS</td>\n",
       "      <td>11.9</td>\n",
       "      <td>-57.8</td>\n",
       "      <td>999</td>\n",
       "      <td>1009</td>\n",
       "      <td>55560.0</td>\n",
       "      <td>28.294444</td>\n",
       "      <td>166680.0</td>\n",
       "      <td>...</td>\n",
       "      <td>18.525193</td>\n",
       "      <td>17.452947</td>\n",
       "      <td>25.859722</td>\n",
       "      <td>1.075345</td>\n",
       "      <td>1985.439213</td>\n",
       "      <td>0.203935</td>\n",
       "      <td>25.859722</td>\n",
       "      <td>18222.673691</td>\n",
       "      <td>2.022738</td>\n",
       "      <td>26.134012</td>\n",
       "    </tr>\n",
       "    <tr>\n",
       "      <th>4</th>\n",
       "      <td>24.0</td>\n",
       "      <td>2010-10-30 06:00:00</td>\n",
       "      <td>TOMAS</td>\n",
       "      <td>12.7</td>\n",
       "      <td>-58.9</td>\n",
       "      <td>997</td>\n",
       "      <td>1009</td>\n",
       "      <td>55560.0</td>\n",
       "      <td>30.866667</td>\n",
       "      <td>166680.0</td>\n",
       "      <td>...</td>\n",
       "      <td>18.632523</td>\n",
       "      <td>17.383112</td>\n",
       "      <td>25.728973</td>\n",
       "      <td>1.128241</td>\n",
       "      <td>1875.973405</td>\n",
       "      <td>0.243425</td>\n",
       "      <td>25.728973</td>\n",
       "      <td>18239.788040</td>\n",
       "      <td>1.978298</td>\n",
       "      <td>26.020643</td>\n",
       "    </tr>\n",
       "  </tbody>\n",
       "</table>\n",
       "<p>5 rows × 47 columns</p>\n",
       "</div>"
      ],
      "text/plain": [
       "   time                    t      hurName   lat   lon  pcenter  penv  \\\n",
       "0   0.0  2010-10-29 06:00:00       INVEST   9.0 -53.7     1006  1009   \n",
       "1   6.0  2010-10-29 12:00:00       INVEST   9.8 -55.3     1003  1009   \n",
       "2  12.0  2010-10-29 18:00:00        TOMAS  10.8 -56.8      998  1009   \n",
       "3  18.0  2010-10-30 00:00:00        TOMAS  11.9 -57.8      999  1009   \n",
       "4  24.0  2010-10-30 06:00:00        TOMAS  12.7 -58.9      997  1009   \n",
       "\n",
       "       rmax       vmax      34ne    ...          w34sw      w34nw    vmax0vt  \\\n",
       "0  222240.0  15.433333       0.0    ...       0.000000   0.000000   5.069814   \n",
       "1  166680.0  18.005556  138900.0    ...      18.059481  16.718113  18.059481   \n",
       "2   55560.0  23.150000  166680.0    ...      18.366306  17.301589  18.366306   \n",
       "3   55560.0  28.294444  166680.0    ...      18.525193  17.452947  25.859722   \n",
       "4   55560.0  30.866667  166680.0    ...      18.632523  17.383112  25.728973   \n",
       "\n",
       "          b          dph         k  np.max(V)         rmaxh      rmse  \\\n",
       "0       NaN          NaN       NaN        NaN           NaN       NaN   \n",
       "1  0.834438  1258.498359  0.243277  18.059481  21682.563288  0.851460   \n",
       "2  0.818659  1329.926395  0.237769  18.366306  21661.550932  0.640642   \n",
       "3  1.075345  1985.439213  0.203935  25.859722  18222.673691  2.022738   \n",
       "4  1.128241  1875.973405  0.243425  25.728973  18239.788040  1.978298   \n",
       "\n",
       "       vmax1  \n",
       "0        NaN  \n",
       "1  18.328515  \n",
       "2  18.662474  \n",
       "3  26.134012  \n",
       "4  26.020643  \n",
       "\n",
       "[5 rows x 47 columns]"
      ]
     },
     "execution_count": 6,
     "metadata": {},
     "output_type": "execute_result"
    }
   ],
   "source": [
    "tc.head()"
   ]
  },
  {
   "cell_type": "markdown",
   "metadata": {},
   "source": [
    "Now we need to interpolate for every hour the location and compute translational velocities while keeping the rest of the attributes the same"
   ]
  },
  {
   "cell_type": "code",
   "execution_count": 7,
   "metadata": {
    "collapsed": true
   },
   "outputs": [],
   "source": [
    "tstamps = tc['t'].apply(pd.to_datetime)"
   ]
  },
  {
   "cell_type": "code",
   "execution_count": 8,
   "metadata": {
    "collapsed": false
   },
   "outputs": [],
   "source": [
    "tc = tc.set_index(tstamps)"
   ]
  },
  {
   "cell_type": "code",
   "execution_count": 9,
   "metadata": {
    "collapsed": false
   },
   "outputs": [
    {
     "data": {
      "text/html": [
       "<div>\n",
       "<table border=\"1\" class=\"dataframe\">\n",
       "  <thead>\n",
       "    <tr style=\"text-align: right;\">\n",
       "      <th></th>\n",
       "      <th>time</th>\n",
       "      <th>t</th>\n",
       "      <th>hurName</th>\n",
       "      <th>lat</th>\n",
       "      <th>lon</th>\n",
       "      <th>pcenter</th>\n",
       "      <th>penv</th>\n",
       "      <th>rmax</th>\n",
       "      <th>vmax</th>\n",
       "      <th>34ne</th>\n",
       "      <th>...</th>\n",
       "      <th>w34sw</th>\n",
       "      <th>w34nw</th>\n",
       "      <th>vmax0vt</th>\n",
       "      <th>b</th>\n",
       "      <th>dph</th>\n",
       "      <th>k</th>\n",
       "      <th>np.max(V)</th>\n",
       "      <th>rmaxh</th>\n",
       "      <th>rmse</th>\n",
       "      <th>vmax1</th>\n",
       "    </tr>\n",
       "    <tr>\n",
       "      <th>t</th>\n",
       "      <th></th>\n",
       "      <th></th>\n",
       "      <th></th>\n",
       "      <th></th>\n",
       "      <th></th>\n",
       "      <th></th>\n",
       "      <th></th>\n",
       "      <th></th>\n",
       "      <th></th>\n",
       "      <th></th>\n",
       "      <th></th>\n",
       "      <th></th>\n",
       "      <th></th>\n",
       "      <th></th>\n",
       "      <th></th>\n",
       "      <th></th>\n",
       "      <th></th>\n",
       "      <th></th>\n",
       "      <th></th>\n",
       "      <th></th>\n",
       "      <th></th>\n",
       "    </tr>\n",
       "  </thead>\n",
       "  <tbody>\n",
       "    <tr>\n",
       "      <th>2010-10-29 06:00:00</th>\n",
       "      <td>0.0</td>\n",
       "      <td>2010-10-29 06:00:00</td>\n",
       "      <td>INVEST</td>\n",
       "      <td>9.0</td>\n",
       "      <td>-53.7</td>\n",
       "      <td>1006</td>\n",
       "      <td>1009</td>\n",
       "      <td>222240.0</td>\n",
       "      <td>15.433333</td>\n",
       "      <td>0.0</td>\n",
       "      <td>...</td>\n",
       "      <td>0.000000</td>\n",
       "      <td>0.000000</td>\n",
       "      <td>5.069814</td>\n",
       "      <td>NaN</td>\n",
       "      <td>NaN</td>\n",
       "      <td>NaN</td>\n",
       "      <td>NaN</td>\n",
       "      <td>NaN</td>\n",
       "      <td>NaN</td>\n",
       "      <td>NaN</td>\n",
       "    </tr>\n",
       "    <tr>\n",
       "      <th>2010-10-29 12:00:00</th>\n",
       "      <td>6.0</td>\n",
       "      <td>2010-10-29 12:00:00</td>\n",
       "      <td>INVEST</td>\n",
       "      <td>9.8</td>\n",
       "      <td>-55.3</td>\n",
       "      <td>1003</td>\n",
       "      <td>1009</td>\n",
       "      <td>166680.0</td>\n",
       "      <td>18.005556</td>\n",
       "      <td>138900.0</td>\n",
       "      <td>...</td>\n",
       "      <td>18.059481</td>\n",
       "      <td>16.718113</td>\n",
       "      <td>18.059481</td>\n",
       "      <td>0.834438</td>\n",
       "      <td>1258.498359</td>\n",
       "      <td>0.243277</td>\n",
       "      <td>18.059481</td>\n",
       "      <td>21682.563288</td>\n",
       "      <td>0.851460</td>\n",
       "      <td>18.328515</td>\n",
       "    </tr>\n",
       "    <tr>\n",
       "      <th>2010-10-29 18:00:00</th>\n",
       "      <td>12.0</td>\n",
       "      <td>2010-10-29 18:00:00</td>\n",
       "      <td>TOMAS</td>\n",
       "      <td>10.8</td>\n",
       "      <td>-56.8</td>\n",
       "      <td>998</td>\n",
       "      <td>1009</td>\n",
       "      <td>55560.0</td>\n",
       "      <td>23.150000</td>\n",
       "      <td>166680.0</td>\n",
       "      <td>...</td>\n",
       "      <td>18.366306</td>\n",
       "      <td>17.301589</td>\n",
       "      <td>18.366306</td>\n",
       "      <td>0.818659</td>\n",
       "      <td>1329.926395</td>\n",
       "      <td>0.237769</td>\n",
       "      <td>18.366306</td>\n",
       "      <td>21661.550932</td>\n",
       "      <td>0.640642</td>\n",
       "      <td>18.662474</td>\n",
       "    </tr>\n",
       "    <tr>\n",
       "      <th>2010-10-30 00:00:00</th>\n",
       "      <td>18.0</td>\n",
       "      <td>2010-10-30 00:00:00</td>\n",
       "      <td>TOMAS</td>\n",
       "      <td>11.9</td>\n",
       "      <td>-57.8</td>\n",
       "      <td>999</td>\n",
       "      <td>1009</td>\n",
       "      <td>55560.0</td>\n",
       "      <td>28.294444</td>\n",
       "      <td>166680.0</td>\n",
       "      <td>...</td>\n",
       "      <td>18.525193</td>\n",
       "      <td>17.452947</td>\n",
       "      <td>25.859722</td>\n",
       "      <td>1.075345</td>\n",
       "      <td>1985.439213</td>\n",
       "      <td>0.203935</td>\n",
       "      <td>25.859722</td>\n",
       "      <td>18222.673691</td>\n",
       "      <td>2.022738</td>\n",
       "      <td>26.134012</td>\n",
       "    </tr>\n",
       "    <tr>\n",
       "      <th>2010-10-30 06:00:00</th>\n",
       "      <td>24.0</td>\n",
       "      <td>2010-10-30 06:00:00</td>\n",
       "      <td>TOMAS</td>\n",
       "      <td>12.7</td>\n",
       "      <td>-58.9</td>\n",
       "      <td>997</td>\n",
       "      <td>1009</td>\n",
       "      <td>55560.0</td>\n",
       "      <td>30.866667</td>\n",
       "      <td>166680.0</td>\n",
       "      <td>...</td>\n",
       "      <td>18.632523</td>\n",
       "      <td>17.383112</td>\n",
       "      <td>25.728973</td>\n",
       "      <td>1.128241</td>\n",
       "      <td>1875.973405</td>\n",
       "      <td>0.243425</td>\n",
       "      <td>25.728973</td>\n",
       "      <td>18239.788040</td>\n",
       "      <td>1.978298</td>\n",
       "      <td>26.020643</td>\n",
       "    </tr>\n",
       "  </tbody>\n",
       "</table>\n",
       "<p>5 rows × 47 columns</p>\n",
       "</div>"
      ],
      "text/plain": [
       "                     time                    t      hurName   lat   lon  \\\n",
       "t                                                                         \n",
       "2010-10-29 06:00:00   0.0  2010-10-29 06:00:00       INVEST   9.0 -53.7   \n",
       "2010-10-29 12:00:00   6.0  2010-10-29 12:00:00       INVEST   9.8 -55.3   \n",
       "2010-10-29 18:00:00  12.0  2010-10-29 18:00:00        TOMAS  10.8 -56.8   \n",
       "2010-10-30 00:00:00  18.0  2010-10-30 00:00:00        TOMAS  11.9 -57.8   \n",
       "2010-10-30 06:00:00  24.0  2010-10-30 06:00:00        TOMAS  12.7 -58.9   \n",
       "\n",
       "                     pcenter  penv      rmax       vmax      34ne    ...      \\\n",
       "t                                                                    ...       \n",
       "2010-10-29 06:00:00     1006  1009  222240.0  15.433333       0.0    ...       \n",
       "2010-10-29 12:00:00     1003  1009  166680.0  18.005556  138900.0    ...       \n",
       "2010-10-29 18:00:00      998  1009   55560.0  23.150000  166680.0    ...       \n",
       "2010-10-30 00:00:00      999  1009   55560.0  28.294444  166680.0    ...       \n",
       "2010-10-30 06:00:00      997  1009   55560.0  30.866667  166680.0    ...       \n",
       "\n",
       "                         w34sw      w34nw    vmax0vt         b          dph  \\\n",
       "t                                                                             \n",
       "2010-10-29 06:00:00   0.000000   0.000000   5.069814       NaN          NaN   \n",
       "2010-10-29 12:00:00  18.059481  16.718113  18.059481  0.834438  1258.498359   \n",
       "2010-10-29 18:00:00  18.366306  17.301589  18.366306  0.818659  1329.926395   \n",
       "2010-10-30 00:00:00  18.525193  17.452947  25.859722  1.075345  1985.439213   \n",
       "2010-10-30 06:00:00  18.632523  17.383112  25.728973  1.128241  1875.973405   \n",
       "\n",
       "                            k  np.max(V)         rmaxh      rmse      vmax1  \n",
       "t                                                                            \n",
       "2010-10-29 06:00:00       NaN        NaN           NaN       NaN        NaN  \n",
       "2010-10-29 12:00:00  0.243277  18.059481  21682.563288  0.851460  18.328515  \n",
       "2010-10-29 18:00:00  0.237769  18.366306  21661.550932  0.640642  18.662474  \n",
       "2010-10-30 00:00:00  0.203935  25.859722  18222.673691  2.022738  26.134012  \n",
       "2010-10-30 06:00:00  0.243425  25.728973  18239.788040  1.978298  26.020643  \n",
       "\n",
       "[5 rows x 47 columns]"
      ]
     },
     "execution_count": 9,
     "metadata": {},
     "output_type": "execute_result"
    }
   ],
   "source": [
    "tc.head()"
   ]
  },
  {
   "cell_type": "code",
   "execution_count": 10,
   "metadata": {
    "collapsed": false
   },
   "outputs": [],
   "source": [
    "tc_ = tc.resample('H').mean()"
   ]
  },
  {
   "cell_type": "code",
   "execution_count": 11,
   "metadata": {
    "collapsed": false
   },
   "outputs": [
    {
     "data": {
      "text/plain": [
       "<matplotlib.axes._subplots.AxesSubplot at 0x10aba9350>"
      ]
     },
     "execution_count": 11,
     "metadata": {},
     "output_type": "execute_result"
    },
    {
     "data": {
      "image/png": "[encoded data removed]",
      "text/plain": [
       "<matplotlib.figure.Figure at 0x10ab44650>"
      ]
     },
     "metadata": {},
     "output_type": "display_data"
    }
   ],
   "source": [
    "ax = tc_['lat'].interpolate(method='linear').plot()\n",
    "tc_['lat'].plot(ax=ax, marker='o')"
   ]
  },
  {
   "cell_type": "code",
   "execution_count": 14,
   "metadata": {
    "collapsed": false
   },
   "outputs": [],
   "source": [
    "data = tc_.interpolate(method='cubic')"
   ]
  },
  {
   "cell_type": "code",
   "execution_count": 15,
   "metadata": {
    "collapsed": false
   },
   "outputs": [
    {
     "data": {
      "text/plain": [
       "<matplotlib.axes._subplots.AxesSubplot at 0x1104622d0>"
      ]
     },
     "execution_count": 15,
     "metadata": {},
     "output_type": "execute_result"
    },
    {
     "data": {
      "image/png": "[encoded data removed]",
      "text/plain": [
       "<matplotlib.figure.Figure at 0x10f692ad0>"
      ]
     },
     "metadata": {},
     "output_type": "display_data"
    }
   ],
   "source": [
    "data['rmax'].plot()"
   ]
  },
  {
   "cell_type": "markdown",
   "metadata": {
    "collapsed": true
   },
   "source": [
    "# From lat lon to r, th"
   ]
  },
  {
   "cell_type": "code",
   "execution_count": 56,
   "metadata": {
    "collapsed": true
   },
   "outputs": [],
   "source": [
    "# required function\n",
    "from math import radians, cos, sin, asin, sqrt\n",
    "def Haversine(lon1, lat1, lon2, lat2):\n",
    "    \"\"\"\n",
    "    Calculate the great circle distance between two points \n",
    "    on the earth (specified in decimal degrees)\n",
    "    \"\"\"\n",
    "    # convert decimal degrees to radians \n",
    "    lon1, lat1 = np.radians([lon1, lat1])\n",
    "    lon2, lat2 = np.radians([ lon2, lat2])\n",
    "\n",
    "    # haversine formula \n",
    "    dlon = lon2 - lon1 \n",
    "    dlat = lat2 - lat1 \n",
    "    a = np.sin(dlat/2)**2 + np.cos(lat1) * np.cos(lat2) * np.sin(dlon/2)**2\n",
    "    c = 2 * np.arcsin(np.sqrt(a)) \n",
    "    km = 6378.388 * c\n",
    "    return  km"
   ]
  },
  {
   "cell_type": "code",
   "execution_count": 23,
   "metadata": {
    "collapsed": true
   },
   "outputs": [],
   "source": [
    "def pres(r):\n",
    "    return pn+dph*np.exp(-(rmaxh/r)**bh)"
   ]
  },
  {
   "cell_type": "code",
   "execution_count": 58,
   "metadata": {
    "collapsed": true
   },
   "outputs": [],
   "source": [
    "def hvel2d(l1,l2,lon0,lat0):\n",
    "    r = Haversine(l1, l2, lon0, lat0)\n",
    "    xh=0.5+(r-rmaxh)/(maxR-rmaxh)*kh\n",
    "    ur=(bh/rhoa*(rmaxh/r)**bh*dph*np.exp(-(rmaxh/r)**bh))**xh\n",
    "    theta=np.arctan2((l2-lon0),(l1-lat0))\n",
    "    ux=-ur*np.sin(theta)\n",
    "    uy=ur*np.cos(theta)\n",
    "    return ux+vtx,uy+vty, pres(r)"
   ]
  },
  {
   "cell_type": "markdown",
   "metadata": {},
   "source": [
    "## for one time stamp"
   ]
  },
  {
   "cell_type": "code",
   "execution_count": 64,
   "metadata": {
    "collapsed": true
   },
   "outputs": [],
   "source": [
    "i=5"
   ]
  },
  {
   "cell_type": "code",
   "execution_count": 65,
   "metadata": {
    "collapsed": true
   },
   "outputs": [],
   "source": [
    "#define lat/lon window\n",
    "minlon=tc.lon[i]-5.\n",
    "maxlon=tc.lon[i]+5.\n",
    "minlat=tc.lat[i]-5.\n",
    "maxlat=tc.lat[i]+5."
   ]
  },
  {
   "cell_type": "code",
   "execution_count": 66,
   "metadata": {
    "collapsed": false
   },
   "outputs": [],
   "source": [
    "lons=np.linspace(minlon, maxlon,1000) # constract arrays\n",
    "lats=np.linspace(minlat, maxlat,1000)"
   ]
  },
  {
   "cell_type": "code",
   "execution_count": 67,
   "metadata": {
    "collapsed": false
   },
   "outputs": [],
   "source": [
    "q1,q2=np.meshgrid(lons,lats) # create grid"
   ]
  },
  {
   "cell_type": "code",
   "execution_count": 68,
   "metadata": {
    "collapsed": true
   },
   "outputs": [],
   "source": [
    "#compute u,v,p"
   ]
  },
  {
   "cell_type": "code",
   "execution_count": 81,
   "metadata": {
    "collapsed": false
   },
   "outputs": [
    {
     "data": {
      "text/plain": [
       "b         1.05622\n",
       "k        0.201499\n",
       "dph       2714.54\n",
       "rmaxh       15400\n",
       "Name: 2010-10-30 12:00:00, dtype: object"
      ]
     },
     "execution_count": 81,
     "metadata": {},
     "output_type": "execute_result"
    }
   ],
   "source": [
    "tc.ix[i,['b','k','dph','rmaxh']]"
   ]
  },
  {
   "cell_type": "code",
   "execution_count": 59,
   "metadata": {
    "collapsed": false
   },
   "outputs": [
    {
     "ename": "NameError",
     "evalue": "global name 'rmaxh' is not defined",
     "output_type": "error",
     "traceback": [
      "\u001b[0;31m---------------------------------------------------------------------------\u001b[0m",
      "\u001b[0;31mNameError\u001b[0m                                 Traceback (most recent call last)",
      "\u001b[0;32m<ipython-input-59-fea39c5c4361>\u001b[0m in \u001b[0;36m<module>\u001b[0;34m()\u001b[0m\n\u001b[0;32m----> 1\u001b[0;31m \u001b[0mzx\u001b[0m\u001b[0;34m,\u001b[0m\u001b[0mzy\u001b[0m\u001b[0;34m,\u001b[0m\u001b[0mpr\u001b[0m\u001b[0;34m=\u001b[0m\u001b[0mhvel2d\u001b[0m\u001b[0;34m(\u001b[0m\u001b[0mq1\u001b[0m\u001b[0;34m,\u001b[0m\u001b[0mq2\u001b[0m\u001b[0;34m,\u001b[0m\u001b[0mtc\u001b[0m\u001b[0;34m.\u001b[0m\u001b[0mlon\u001b[0m\u001b[0;34m[\u001b[0m\u001b[0;36m0\u001b[0m\u001b[0;34m]\u001b[0m\u001b[0;34m,\u001b[0m\u001b[0mtc\u001b[0m\u001b[0;34m.\u001b[0m\u001b[0mlat\u001b[0m\u001b[0;34m[\u001b[0m\u001b[0;36m0\u001b[0m\u001b[0;34m]\u001b[0m\u001b[0;34m)\u001b[0m\u001b[0;34m\u001b[0m\u001b[0m\n\u001b[0m\u001b[1;32m      2\u001b[0m \u001b[0mvel\u001b[0m\u001b[0;34m=\u001b[0m\u001b[0mnp\u001b[0m\u001b[0;34m.\u001b[0m\u001b[0msqrt\u001b[0m\u001b[0;34m(\u001b[0m\u001b[0mzx\u001b[0m\u001b[0;34m**\u001b[0m\u001b[0;36m2\u001b[0m\u001b[0;34m+\u001b[0m\u001b[0mzy\u001b[0m\u001b[0;34m**\u001b[0m\u001b[0;36m2\u001b[0m\u001b[0;34m)\u001b[0m\u001b[0;34m\u001b[0m\u001b[0m\n",
      "\u001b[0;32m<ipython-input-58-dbb0b97a89f0>\u001b[0m in \u001b[0;36mhvel2d\u001b[0;34m(l1, l2, lon0, lat0)\u001b[0m\n\u001b[1;32m      1\u001b[0m \u001b[0;32mdef\u001b[0m \u001b[0mhvel2d\u001b[0m\u001b[0;34m(\u001b[0m\u001b[0ml1\u001b[0m\u001b[0;34m,\u001b[0m\u001b[0ml2\u001b[0m\u001b[0;34m,\u001b[0m\u001b[0mlon0\u001b[0m\u001b[0;34m,\u001b[0m\u001b[0mlat0\u001b[0m\u001b[0;34m)\u001b[0m\u001b[0;34m:\u001b[0m\u001b[0;34m\u001b[0m\u001b[0m\n\u001b[1;32m      2\u001b[0m     \u001b[0mr\u001b[0m \u001b[0;34m=\u001b[0m \u001b[0mHaversine\u001b[0m\u001b[0;34m(\u001b[0m\u001b[0ml1\u001b[0m\u001b[0;34m,\u001b[0m \u001b[0ml2\u001b[0m\u001b[0;34m,\u001b[0m \u001b[0mlon0\u001b[0m\u001b[0;34m,\u001b[0m \u001b[0mlat0\u001b[0m\u001b[0;34m)\u001b[0m\u001b[0;34m\u001b[0m\u001b[0m\n\u001b[0;32m----> 3\u001b[0;31m     \u001b[0mxh\u001b[0m\u001b[0;34m=\u001b[0m\u001b[0;36m0.5\u001b[0m\u001b[0;34m+\u001b[0m\u001b[0;34m(\u001b[0m\u001b[0mr\u001b[0m\u001b[0;34m-\u001b[0m\u001b[0mrmaxh\u001b[0m\u001b[0;34m)\u001b[0m\u001b[0;34m/\u001b[0m\u001b[0;34m(\u001b[0m\u001b[0mmaxR\u001b[0m\u001b[0;34m-\u001b[0m\u001b[0mrmaxh\u001b[0m\u001b[0;34m)\u001b[0m\u001b[0;34m*\u001b[0m\u001b[0mkh\u001b[0m\u001b[0;34m\u001b[0m\u001b[0m\n\u001b[0m\u001b[1;32m      4\u001b[0m     \u001b[0mur\u001b[0m\u001b[0;34m=\u001b[0m\u001b[0;34m(\u001b[0m\u001b[0mbh\u001b[0m\u001b[0;34m/\u001b[0m\u001b[0mrhoa\u001b[0m\u001b[0;34m*\u001b[0m\u001b[0;34m(\u001b[0m\u001b[0mrmaxh\u001b[0m\u001b[0;34m/\u001b[0m\u001b[0mr\u001b[0m\u001b[0;34m)\u001b[0m\u001b[0;34m**\u001b[0m\u001b[0mbh\u001b[0m\u001b[0;34m*\u001b[0m\u001b[0mdph\u001b[0m\u001b[0;34m*\u001b[0m\u001b[0mnp\u001b[0m\u001b[0;34m.\u001b[0m\u001b[0mexp\u001b[0m\u001b[0;34m(\u001b[0m\u001b[0;34m-\u001b[0m\u001b[0;34m(\u001b[0m\u001b[0mrmaxh\u001b[0m\u001b[0;34m/\u001b[0m\u001b[0mr\u001b[0m\u001b[0;34m)\u001b[0m\u001b[0;34m**\u001b[0m\u001b[0mbh\u001b[0m\u001b[0;34m)\u001b[0m\u001b[0;34m)\u001b[0m\u001b[0;34m**\u001b[0m\u001b[0mxh\u001b[0m\u001b[0;34m\u001b[0m\u001b[0m\n\u001b[1;32m      5\u001b[0m     \u001b[0mtheta\u001b[0m\u001b[0;34m=\u001b[0m\u001b[0mnp\u001b[0m\u001b[0;34m.\u001b[0m\u001b[0marctan2\u001b[0m\u001b[0;34m(\u001b[0m\u001b[0;34m(\u001b[0m\u001b[0ml2\u001b[0m\u001b[0;34m-\u001b[0m\u001b[0mlon0\u001b[0m\u001b[0;34m)\u001b[0m\u001b[0;34m,\u001b[0m\u001b[0;34m(\u001b[0m\u001b[0ml1\u001b[0m\u001b[0;34m-\u001b[0m\u001b[0mlat0\u001b[0m\u001b[0;34m)\u001b[0m\u001b[0;34m)\u001b[0m\u001b[0;34m\u001b[0m\u001b[0m\n",
      "\u001b[0;31mNameError\u001b[0m: global name 'rmaxh' is not defined"
     ]
    }
   ],
   "source": [
    "zx,zy,pr=hvel2d(q1,q2,tc.lon[0],tc.lat[0])\n",
    "vel=np.sqrt(zx**2+zy**2)"
   ]
  },
  {
   "cell_type": "code",
   "execution_count": null,
   "metadata": {
    "collapsed": true
   },
   "outputs": [],
   "source": []
  },
  {
   "cell_type": "code",
   "execution_count": null,
   "metadata": {
    "collapsed": true
   },
   "outputs": [],
   "source": [
    "vtx=-4.6\n",
    "vty=3.35"
   ]
  }
 ],
 "metadata": {
  "kernelspec": {
   "display_name": "Python 2",
   "language": "python",
   "name": "python2"
  },
  "language_info": {
   "codemirror_mode": {
    "name": "ipython",
    "version": 2
   },
   "file_extension": ".py",
   "mimetype": "text/x-python",
   "name": "python",
   "nbconvert_exporter": "python",
   "pygments_lexer": "ipython2",
   "version": "2.7.13"
  }
 },
 "nbformat": 4,
 "nbformat_minor": 2
}
